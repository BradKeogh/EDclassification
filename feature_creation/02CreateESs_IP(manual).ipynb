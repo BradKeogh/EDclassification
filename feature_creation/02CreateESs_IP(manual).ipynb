{
 "cells": [
  {
   "cell_type": "markdown",
   "metadata": {},
   "source": [
    "# Aims\n",
    "- Test making occupancy data sets\n",
    "- import pickle  data and put it into ft entity sets\n",
    "- check that can select only records that are active for a window in a morning"
   ]
  },
  {
   "cell_type": "code",
   "execution_count": 1,
   "metadata": {},
   "outputs": [],
   "source": [
    "#%cd ./flosp\n",
    "import pandas as pd\n",
    "import numpy as np\n",
    "import seaborn as sns\n",
    "import featuretools as ft\n",
    "#import flosp\n",
    "#import bradlib as bl\n",
    "sns.set()\n",
    "\n",
    "# from core import create_timeseries_from_events, make_callender_columns"
   ]
  },
  {
   "cell_type": "markdown",
   "metadata": {},
   "source": [
    "# get raw data"
   ]
  },
  {
   "cell_type": "code",
   "execution_count": 2,
   "metadata": {},
   "outputs": [],
   "source": [
    "IP = pd.read_pickle('./../../../3_Data/EDclassification/cleanSPELL.pkl')"
   ]
  },
  {
   "cell_type": "code",
   "execution_count": 3,
   "metadata": {},
   "outputs": [
    {
     "data": {
      "text/html": [
       "<div>\n",
       "<style scoped>\n",
       "    .dataframe tbody tr th:only-of-type {\n",
       "        vertical-align: middle;\n",
       "    }\n",
       "\n",
       "    .dataframe tbody tr th {\n",
       "        vertical-align: top;\n",
       "    }\n",
       "\n",
       "    .dataframe thead th {\n",
       "        text-align: right;\n",
       "    }\n",
       "</style>\n",
       "<table border=\"1\" class=\"dataframe\">\n",
       "  <thead>\n",
       "    <tr style=\"text-align: right;\">\n",
       "      <th></th>\n",
       "      <th>pseudo_patient_number</th>\n",
       "      <th>age_at__admission</th>\n",
       "      <th>gender</th>\n",
       "      <th>spell_number</th>\n",
       "      <th>admission_date</th>\n",
       "      <th>discharge_date</th>\n",
       "      <th>admission_method_code</th>\n",
       "      <th>admission_method_description</th>\n",
       "      <th>length_of_stay_days</th>\n",
       "      <th>admission_source_code</th>\n",
       "      <th>...</th>\n",
       "      <th>date_of_death</th>\n",
       "      <th>ward_code</th>\n",
       "      <th>ward_code_description</th>\n",
       "      <th>ward_stay_start_date</th>\n",
       "      <th>ward_stay_end_date</th>\n",
       "      <th>LOCATION_NUMBER</th>\n",
       "      <th>admission_type</th>\n",
       "      <th>ADM_METHOD_simple</th>\n",
       "      <th>ADM_TYPE</th>\n",
       "      <th>ward_moves</th>\n",
       "    </tr>\n",
       "  </thead>\n",
       "  <tbody>\n",
       "    <tr>\n",
       "      <th>0</th>\n",
       "      <td>353232538008</td>\n",
       "      <td>79</td>\n",
       "      <td>2</td>\n",
       "      <td>6222150</td>\n",
       "      <td>2009-04-29 14:19:00</td>\n",
       "      <td>2009-04-29 15:08:00</td>\n",
       "      <td>13</td>\n",
       "      <td>ELECTIVE PLANNED</td>\n",
       "      <td>0</td>\n",
       "      <td>19</td>\n",
       "      <td>...</td>\n",
       "      <td>08-MAY-18 00:00</td>\n",
       "      <td>1160</td>\n",
       "      <td>UROLOGY ENDOSCOPY SGH</td>\n",
       "      <td>2009-04-29 14:19:00</td>\n",
       "      <td>2009-04-29 15:08:00</td>\n",
       "      <td>1</td>\n",
       "      <td>0</td>\n",
       "      <td>other</td>\n",
       "      <td>Day Case</td>\n",
       "      <td>1</td>\n",
       "    </tr>\n",
       "    <tr>\n",
       "      <th>1</th>\n",
       "      <td>352434524354</td>\n",
       "      <td>24</td>\n",
       "      <td>2</td>\n",
       "      <td>6279602</td>\n",
       "      <td>2009-08-20 23:00:00</td>\n",
       "      <td>2009-08-21 02:00:00</td>\n",
       "      <td>31</td>\n",
       "      <td>MATERNITY ANTE PARTUM</td>\n",
       "      <td>1</td>\n",
       "      <td>19</td>\n",
       "      <td>...</td>\n",
       "      <td>NaN</td>\n",
       "      <td>1269</td>\n",
       "      <td>DELIVERY SUITE</td>\n",
       "      <td>2009-08-20 23:00:00</td>\n",
       "      <td>2009-08-21 02:01:00</td>\n",
       "      <td>1</td>\n",
       "      <td>0</td>\n",
       "      <td>Maternity</td>\n",
       "      <td>Non-Elective</td>\n",
       "      <td>1</td>\n",
       "    </tr>\n",
       "  </tbody>\n",
       "</table>\n",
       "<p>2 rows × 25 columns</p>\n",
       "</div>"
      ],
      "text/plain": [
       "  pseudo_patient_number  age_at__admission  gender  spell_number  \\\n",
       "0          353232538008                 79       2       6222150   \n",
       "1          352434524354                 24       2       6279602   \n",
       "\n",
       "       admission_date      discharge_date admission_method_code  \\\n",
       "0 2009-04-29 14:19:00 2009-04-29 15:08:00                    13   \n",
       "1 2009-08-20 23:00:00 2009-08-21 02:00:00                    31   \n",
       "\n",
       "  admission_method_description  length_of_stay_days  admission_source_code  \\\n",
       "0             ELECTIVE PLANNED                    0                     19   \n",
       "1        MATERNITY ANTE PARTUM                    1                     19   \n",
       "\n",
       "     ...        date_of_death  ward_code  ward_code_description  \\\n",
       "0    ...      08-MAY-18 00:00       1160  UROLOGY ENDOSCOPY SGH   \n",
       "1    ...                  NaN       1269         DELIVERY SUITE   \n",
       "\n",
       "   ward_stay_start_date  ward_stay_end_date LOCATION_NUMBER  admission_type  \\\n",
       "0   2009-04-29 14:19:00 2009-04-29 15:08:00               1               0   \n",
       "1   2009-08-20 23:00:00 2009-08-21 02:01:00               1               0   \n",
       "\n",
       "  ADM_METHOD_simple      ADM_TYPE ward_moves  \n",
       "0             other      Day Case          1  \n",
       "1         Maternity  Non-Elective          1  \n",
       "\n",
       "[2 rows x 25 columns]"
      ]
     },
     "execution_count": 3,
     "metadata": {},
     "output_type": "execute_result"
    }
   ],
   "source": [
    "IP.head(2)"
   ]
  },
  {
   "cell_type": "code",
   "execution_count": 4,
   "metadata": {},
   "outputs": [],
   "source": [
    "IP.rename(columns={'age_at__admission':'age'},inplace=True)"
   ]
  },
  {
   "cell_type": "code",
   "execution_count": 5,
   "metadata": {},
   "outputs": [
    {
     "data": {
      "text/plain": [
       "(1315333, 25)"
      ]
     },
     "execution_count": 5,
     "metadata": {},
     "output_type": "execute_result"
    }
   ],
   "source": [
    "IP.shape"
   ]
  },
  {
   "cell_type": "markdown",
   "metadata": {},
   "source": [
    "######## reduce number of records for simplicity - delete after\n",
    "IP = IP[IP.discharge_date > pd.datetime(2018,7,1)]"
   ]
  },
  {
   "cell_type": "markdown",
   "metadata": {},
   "source": [
    "#### Make df contaiing all the time cutoffs that I want to calc status of hospital for..."
   ]
  },
  {
   "cell_type": "code",
   "execution_count": 6,
   "metadata": {},
   "outputs": [
    {
     "data": {
      "text/plain": [
       "Timestamp('2009-04-01 00:05:00')"
      ]
     },
     "execution_count": 6,
     "metadata": {},
     "output_type": "execute_result"
    }
   ],
   "source": [
    "IP.admission_date.min()"
   ]
  },
  {
   "cell_type": "code",
   "execution_count": 7,
   "metadata": {},
   "outputs": [
    {
     "data": {
      "text/plain": [
       "Timestamp('2018-09-30 23:50:00')"
      ]
     },
     "execution_count": 7,
     "metadata": {},
     "output_type": "execute_result"
    }
   ],
   "source": [
    "IP.admission_date.max()"
   ]
  },
  {
   "cell_type": "code",
   "execution_count": 8,
   "metadata": {},
   "outputs": [
    {
     "data": {
      "text/html": [
       "<div>\n",
       "<style scoped>\n",
       "    .dataframe tbody tr th:only-of-type {\n",
       "        vertical-align: middle;\n",
       "    }\n",
       "\n",
       "    .dataframe tbody tr th {\n",
       "        vertical-align: top;\n",
       "    }\n",
       "\n",
       "    .dataframe thead th {\n",
       "        text-align: right;\n",
       "    }\n",
       "</style>\n",
       "<table border=\"1\" class=\"dataframe\">\n",
       "  <thead>\n",
       "    <tr style=\"text-align: right;\">\n",
       "      <th></th>\n",
       "      <th>day</th>\n",
       "    </tr>\n",
       "    <tr>\n",
       "      <th>time</th>\n",
       "      <th></th>\n",
       "    </tr>\n",
       "  </thead>\n",
       "  <tbody>\n",
       "    <tr>\n",
       "      <th>2012-01-01 07:00:00</th>\n",
       "      <td>2012-01-01</td>\n",
       "    </tr>\n",
       "    <tr>\n",
       "      <th>2012-01-02 07:00:00</th>\n",
       "      <td>2012-01-02</td>\n",
       "    </tr>\n",
       "    <tr>\n",
       "      <th>2012-01-03 07:00:00</th>\n",
       "      <td>2012-01-03</td>\n",
       "    </tr>\n",
       "    <tr>\n",
       "      <th>2012-01-04 07:00:00</th>\n",
       "      <td>2012-01-04</td>\n",
       "    </tr>\n",
       "    <tr>\n",
       "      <th>2012-01-05 07:00:00</th>\n",
       "      <td>2012-01-05</td>\n",
       "    </tr>\n",
       "  </tbody>\n",
       "</table>\n",
       "</div>"
      ],
      "text/plain": [
       "                            day\n",
       "time                           \n",
       "2012-01-01 07:00:00  2012-01-01\n",
       "2012-01-02 07:00:00  2012-01-02\n",
       "2012-01-03 07:00:00  2012-01-03\n",
       "2012-01-04 07:00:00  2012-01-04\n",
       "2012-01-05 07:00:00  2012-01-05"
      ]
     },
     "execution_count": 8,
     "metadata": {},
     "output_type": "execute_result"
    }
   ],
   "source": [
    "start = pd.datetime(2012,1,1,7)\n",
    "# end = ED.arrival.max()\n",
    "end = pd.datetime(2018,10,1,7)\n",
    "ct = pd.DataFrame(pd.DatetimeIndex(freq='d',start=start,end=end),columns=['time'])\n",
    "ct['day'] = ct.time.apply(lambda x: x.date())\n",
    "ct.set_index('time',inplace=True)\n",
    "ct.head()"
   ]
  },
  {
   "cell_type": "code",
   "execution_count": 9,
   "metadata": {},
   "outputs": [
    {
     "data": {
      "text/plain": [
       "(2466, 1)"
      ]
     },
     "execution_count": 9,
     "metadata": {},
     "output_type": "execute_result"
    }
   ],
   "source": [
    "ct.shape"
   ]
  },
  {
   "cell_type": "markdown",
   "metadata": {},
   "source": [
    "input: patient record df, df with times\n",
    "method:\n",
    "\n",
    "make df object that is empty\n",
    "filter patrecords for those valid at the time\n",
    "calc all values above\n",
    "assign value to df"
   ]
  },
  {
   "cell_type": "code",
   "execution_count": 10,
   "metadata": {},
   "outputs": [],
   "source": [
    "def get_status_at_hours(df,hours_required):\n",
    "    \"\"\"\n",
    "    Input\n",
    "    -----\n",
    "    df, pandas df , patient records at IP spell level.\n",
    "    hour_requried, df, dataframe containing index of hours to calculate hour status for.\n",
    "    \n",
    "    Output\n",
    "    ------\n",
    "    hourly_status, df, index contains hour, columns a number of different measures\n",
    "    \n",
    "    \"\"\"\n",
    "    # instigate hourly_status df as empty\n",
    "    hourly_status = hours_required.copy()\n",
    "    # create new empty cols for status calculations\n",
    "    columns_list = ['count','count_elec']#,'IPcount_nonelec'] # actually this may not be required\n",
    "    for column in columns_list:\n",
    "        ct[column] = np.nan\n",
    "    \n",
    "    \n",
    "    # loop for hours_required, start with 2\n",
    "    for index, row in hours_required.iterrows():\n",
    "#         print(index, row['day'])\n",
    "        relevant_records = get_active_records(df,index) # get active records\n",
    "        \n",
    "        # CALC STATS\n",
    "        hourly_status.loc[index,'count'] = calc_nopat(relevant_records) # calc no active records\n",
    "        no_elec = calc_admtype(relevant_records, hourly_status, index)\n",
    "        calc_age(relevant_records,hourly_status,index)\n",
    "#         hourly_status.loc[index,'IPcount_elec'] = no_elec\n",
    "#         relevant_records['ADM_METHOD_simple']\n",
    "#         relevant_records['ADM_TYPE']\n",
    "        \n",
    "\n",
    "    \n",
    "    # calc new values possible\n",
    "    #adm_type\n",
    "    hourly_status['prop_nonelec'] = hourly_status['count_nonelec']/ hourly_status['count']\n",
    "    \n",
    "    # assign to hourly_status\n",
    "    \n",
    "    \n",
    "    return(hourly_status)\n",
    "\n",
    "# search for relevant records at the hour\n",
    "def get_active_records(df, datetime):\n",
    "    \"filters df for records that patients were in hosptial at that hour.\"\n",
    "    relevant_records = df[(df.admission_date <= datetime) & (df.discharge_date > datetime)]\n",
    "    return(relevant_records)\n",
    "\n",
    "# calc each value\n",
    "def calc_nopat(relevant_records):\n",
    "    \"\"\n",
    "    no_patients = len(relevant_records)\n",
    "    return(no_patients)\n",
    "\n",
    "def calc_age(relevant_records, hourly_status, index):\n",
    "    hourly_status.loc[index,'age_mean'] = relevant_records.age.mean()\n",
    "    \n",
    "    hourly_status.loc[index,'age_std'] = relevant_records.age.std()\n",
    "    \n",
    "    hourly_status.loc[index,'age_skew'] = relevant_records.age.skew()\n",
    "    return\n",
    "\n",
    "def calc_admtype(relevant_records, hourly_status, index):\n",
    "    \"\"\n",
    "    no_nelec = (relevant_records['ADM_TYPE'] == 'Non-Elective').sum() #, 'Elective', 'Day Case'\n",
    "    no_elec = (relevant_records['ADM_TYPE'] == 'Elective').sum()\n",
    "    # assign values\n",
    "    hourly_status.loc[index,'count_elec'] = no_elec\n",
    "    hourly_status.loc[index,'count_nonelec'] = no_nelec\n",
    "    return\n",
    "\n",
    "fm = get_status_at_hours(IP, ct)"
   ]
  },
  {
   "cell_type": "code",
   "execution_count": 11,
   "metadata": {},
   "outputs": [
    {
     "data": {
      "text/html": [
       "<div>\n",
       "<style scoped>\n",
       "    .dataframe tbody tr th:only-of-type {\n",
       "        vertical-align: middle;\n",
       "    }\n",
       "\n",
       "    .dataframe tbody tr th {\n",
       "        vertical-align: top;\n",
       "    }\n",
       "\n",
       "    .dataframe thead th {\n",
       "        text-align: right;\n",
       "    }\n",
       "</style>\n",
       "<table border=\"1\" class=\"dataframe\">\n",
       "  <thead>\n",
       "    <tr style=\"text-align: right;\">\n",
       "      <th></th>\n",
       "      <th>day</th>\n",
       "      <th>count</th>\n",
       "      <th>count_elec</th>\n",
       "      <th>count_nonelec</th>\n",
       "      <th>age_mean</th>\n",
       "      <th>age_std</th>\n",
       "      <th>age_skew</th>\n",
       "      <th>prop_nonelec</th>\n",
       "    </tr>\n",
       "    <tr>\n",
       "      <th>time</th>\n",
       "      <th></th>\n",
       "      <th></th>\n",
       "      <th></th>\n",
       "      <th></th>\n",
       "      <th></th>\n",
       "      <th></th>\n",
       "      <th></th>\n",
       "      <th></th>\n",
       "    </tr>\n",
       "  </thead>\n",
       "  <tbody>\n",
       "    <tr>\n",
       "      <th>2012-01-01 07:00:00</th>\n",
       "      <td>2012-01-01</td>\n",
       "      <td>974.0</td>\n",
       "      <td>112.0</td>\n",
       "      <td>853.0</td>\n",
       "      <td>62.297741</td>\n",
       "      <td>26.585503</td>\n",
       "      <td>-0.897309</td>\n",
       "      <td>0.875770</td>\n",
       "    </tr>\n",
       "    <tr>\n",
       "      <th>2012-01-02 07:00:00</th>\n",
       "      <td>2012-01-02</td>\n",
       "      <td>1008.0</td>\n",
       "      <td>98.0</td>\n",
       "      <td>899.0</td>\n",
       "      <td>62.568452</td>\n",
       "      <td>26.251803</td>\n",
       "      <td>-0.901787</td>\n",
       "      <td>0.891865</td>\n",
       "    </tr>\n",
       "    <tr>\n",
       "      <th>2012-01-03 07:00:00</th>\n",
       "      <td>2012-01-03</td>\n",
       "      <td>1043.0</td>\n",
       "      <td>99.0</td>\n",
       "      <td>925.0</td>\n",
       "      <td>62.461170</td>\n",
       "      <td>26.026363</td>\n",
       "      <td>-0.868892</td>\n",
       "      <td>0.886865</td>\n",
       "    </tr>\n",
       "    <tr>\n",
       "      <th>2012-01-04 07:00:00</th>\n",
       "      <td>2012-01-04</td>\n",
       "      <td>1111.0</td>\n",
       "      <td>156.0</td>\n",
       "      <td>946.0</td>\n",
       "      <td>61.738074</td>\n",
       "      <td>26.454768</td>\n",
       "      <td>-0.862075</td>\n",
       "      <td>0.851485</td>\n",
       "    </tr>\n",
       "    <tr>\n",
       "      <th>2012-01-05 07:00:00</th>\n",
       "      <td>2012-01-05</td>\n",
       "      <td>1109.0</td>\n",
       "      <td>166.0</td>\n",
       "      <td>931.0</td>\n",
       "      <td>61.451758</td>\n",
       "      <td>26.787347</td>\n",
       "      <td>-0.844904</td>\n",
       "      <td>0.839495</td>\n",
       "    </tr>\n",
       "  </tbody>\n",
       "</table>\n",
       "</div>"
      ],
      "text/plain": [
       "                            day   count  count_elec  count_nonelec   age_mean  \\\n",
       "time                                                                            \n",
       "2012-01-01 07:00:00  2012-01-01   974.0       112.0          853.0  62.297741   \n",
       "2012-01-02 07:00:00  2012-01-02  1008.0        98.0          899.0  62.568452   \n",
       "2012-01-03 07:00:00  2012-01-03  1043.0        99.0          925.0  62.461170   \n",
       "2012-01-04 07:00:00  2012-01-04  1111.0       156.0          946.0  61.738074   \n",
       "2012-01-05 07:00:00  2012-01-05  1109.0       166.0          931.0  61.451758   \n",
       "\n",
       "                       age_std  age_skew  prop_nonelec  \n",
       "time                                                    \n",
       "2012-01-01 07:00:00  26.585503 -0.897309      0.875770  \n",
       "2012-01-02 07:00:00  26.251803 -0.901787      0.891865  \n",
       "2012-01-03 07:00:00  26.026363 -0.868892      0.886865  \n",
       "2012-01-04 07:00:00  26.454768 -0.862075      0.851485  \n",
       "2012-01-05 07:00:00  26.787347 -0.844904      0.839495  "
      ]
     },
     "execution_count": 11,
     "metadata": {},
     "output_type": "execute_result"
    }
   ],
   "source": [
    "fm.head()"
   ]
  },
  {
   "cell_type": "markdown",
   "metadata": {},
   "source": [
    "## IP data tails off - delete final samples"
   ]
  },
  {
   "cell_type": "code",
   "execution_count": 12,
   "metadata": {},
   "outputs": [],
   "source": [
    "%matplotlib inline"
   ]
  },
  {
   "cell_type": "code",
   "execution_count": 13,
   "metadata": {},
   "outputs": [
    {
     "data": {
      "text/plain": [
       "<matplotlib.axes._subplots.AxesSubplot at 0x201a668f630>"
      ]
     },
     "execution_count": 13,
     "metadata": {},
     "output_type": "execute_result"
    },
    {
     "data": {
      "image/png": "[encoded data removed]",
      "text/plain": [
       "<matplotlib.figure.Figure at 0x201a65bfac8>"
      ]
     },
     "metadata": {},
     "output_type": "display_data"
    }
   ],
   "source": [
    "fm['count'].plot()"
   ]
  },
  {
   "cell_type": "code",
   "execution_count": 14,
   "metadata": {},
   "outputs": [
    {
     "data": {
      "text/plain": [
       "<matplotlib.axes._subplots.AxesSubplot at 0x201a65bf898>"
      ]
     },
     "execution_count": 14,
     "metadata": {},
     "output_type": "execute_result"
    },
    {
     "data": {
      "image/png": "[encoded data removed]",
      "text/plain": [
       "<matplotlib.figure.Figure at 0x201a6637240>"
      ]
     },
     "metadata": {},
     "output_type": "display_data"
    }
   ],
   "source": [
    "fm = fm[:-80]\n",
    "fm['count'].plot()"
   ]
  },
  {
   "cell_type": "code",
   "execution_count": 15,
   "metadata": {},
   "outputs": [
    {
     "data": {
      "text/html": [
       "<div>\n",
       "<style scoped>\n",
       "    .dataframe tbody tr th:only-of-type {\n",
       "        vertical-align: middle;\n",
       "    }\n",
       "\n",
       "    .dataframe tbody tr th {\n",
       "        vertical-align: top;\n",
       "    }\n",
       "\n",
       "    .dataframe thead th {\n",
       "        text-align: right;\n",
       "    }\n",
       "</style>\n",
       "<table border=\"1\" class=\"dataframe\">\n",
       "  <thead>\n",
       "    <tr style=\"text-align: right;\">\n",
       "      <th></th>\n",
       "      <th>day</th>\n",
       "      <th>count</th>\n",
       "      <th>count_elec</th>\n",
       "      <th>count_nonelec</th>\n",
       "      <th>age_mean</th>\n",
       "      <th>age_std</th>\n",
       "      <th>age_skew</th>\n",
       "      <th>prop_nonelec</th>\n",
       "    </tr>\n",
       "    <tr>\n",
       "      <th>time</th>\n",
       "      <th></th>\n",
       "      <th></th>\n",
       "      <th></th>\n",
       "      <th></th>\n",
       "      <th></th>\n",
       "      <th></th>\n",
       "      <th></th>\n",
       "      <th></th>\n",
       "    </tr>\n",
       "  </thead>\n",
       "  <tbody>\n",
       "    <tr>\n",
       "      <th>2012-01-01 07:00:00</th>\n",
       "      <td>2012-01-01</td>\n",
       "      <td>974.0</td>\n",
       "      <td>112.0</td>\n",
       "      <td>853.0</td>\n",
       "      <td>62.297741</td>\n",
       "      <td>26.585503</td>\n",
       "      <td>-0.897309</td>\n",
       "      <td>0.875770</td>\n",
       "    </tr>\n",
       "    <tr>\n",
       "      <th>2012-01-02 07:00:00</th>\n",
       "      <td>2012-01-02</td>\n",
       "      <td>1008.0</td>\n",
       "      <td>98.0</td>\n",
       "      <td>899.0</td>\n",
       "      <td>62.568452</td>\n",
       "      <td>26.251803</td>\n",
       "      <td>-0.901787</td>\n",
       "      <td>0.891865</td>\n",
       "    </tr>\n",
       "    <tr>\n",
       "      <th>2012-01-03 07:00:00</th>\n",
       "      <td>2012-01-03</td>\n",
       "      <td>1043.0</td>\n",
       "      <td>99.0</td>\n",
       "      <td>925.0</td>\n",
       "      <td>62.461170</td>\n",
       "      <td>26.026363</td>\n",
       "      <td>-0.868892</td>\n",
       "      <td>0.886865</td>\n",
       "    </tr>\n",
       "    <tr>\n",
       "      <th>2012-01-04 07:00:00</th>\n",
       "      <td>2012-01-04</td>\n",
       "      <td>1111.0</td>\n",
       "      <td>156.0</td>\n",
       "      <td>946.0</td>\n",
       "      <td>61.738074</td>\n",
       "      <td>26.454768</td>\n",
       "      <td>-0.862075</td>\n",
       "      <td>0.851485</td>\n",
       "    </tr>\n",
       "    <tr>\n",
       "      <th>2012-01-05 07:00:00</th>\n",
       "      <td>2012-01-05</td>\n",
       "      <td>1109.0</td>\n",
       "      <td>166.0</td>\n",
       "      <td>931.0</td>\n",
       "      <td>61.451758</td>\n",
       "      <td>26.787347</td>\n",
       "      <td>-0.844904</td>\n",
       "      <td>0.839495</td>\n",
       "    </tr>\n",
       "  </tbody>\n",
       "</table>\n",
       "</div>"
      ],
      "text/plain": [
       "                            day   count  count_elec  count_nonelec   age_mean  \\\n",
       "time                                                                            \n",
       "2012-01-01 07:00:00  2012-01-01   974.0       112.0          853.0  62.297741   \n",
       "2012-01-02 07:00:00  2012-01-02  1008.0        98.0          899.0  62.568452   \n",
       "2012-01-03 07:00:00  2012-01-03  1043.0        99.0          925.0  62.461170   \n",
       "2012-01-04 07:00:00  2012-01-04  1111.0       156.0          946.0  61.738074   \n",
       "2012-01-05 07:00:00  2012-01-05  1109.0       166.0          931.0  61.451758   \n",
       "\n",
       "                       age_std  age_skew  prop_nonelec  \n",
       "time                                                    \n",
       "2012-01-01 07:00:00  26.585503 -0.897309      0.875770  \n",
       "2012-01-02 07:00:00  26.251803 -0.901787      0.891865  \n",
       "2012-01-03 07:00:00  26.026363 -0.868892      0.886865  \n",
       "2012-01-04 07:00:00  26.454768 -0.862075      0.851485  \n",
       "2012-01-05 07:00:00  26.787347 -0.844904      0.839495  "
      ]
     },
     "execution_count": 15,
     "metadata": {},
     "output_type": "execute_result"
    }
   ],
   "source": [
    "fm.head()"
   ]
  },
  {
   "cell_type": "markdown",
   "metadata": {},
   "source": [
    "## save features"
   ]
  },
  {
   "cell_type": "code",
   "execution_count": 16,
   "metadata": {},
   "outputs": [],
   "source": [
    "def save_es_as_pickle(fm, features, name):\n",
    "    \" Take fm df and rename columns. Save as pickle.\"\n",
    "    fm2 = fm\n",
    "    for col in fm2.columns:\n",
    "        fm2 = fm2.rename(columns={col:name + '_' + col})\n",
    "    \n",
    "    fm2.to_pickle('./../../../3_Data/EDclassification/processed/' + name + '.pkl')"
   ]
  },
  {
   "cell_type": "markdown",
   "metadata": {},
   "source": [
    "fm.index = fm.index.shift(1,'d')"
   ]
  },
  {
   "cell_type": "markdown",
   "metadata": {},
   "source": [
    "fm.head()"
   ]
  },
  {
   "cell_type": "code",
   "execution_count": 17,
   "metadata": {},
   "outputs": [],
   "source": [
    "save_es_as_pickle(fm, 'test', 'IPmorn')"
   ]
  },
  {
   "cell_type": "code",
   "execution_count": 18,
   "metadata": {},
   "outputs": [
    {
     "ename": "SyntaxError",
     "evalue": "'break' outside loop (<ipython-input-18-6aaf1f276005>, line 1)",
     "output_type": "error",
     "traceback": [
      "\u001b[1;36m  File \u001b[1;32m\"<ipython-input-18-6aaf1f276005>\"\u001b[1;36m, line \u001b[1;32m1\u001b[0m\n\u001b[1;33m    break\u001b[0m\n\u001b[1;37m         ^\u001b[0m\n\u001b[1;31mSyntaxError\u001b[0m\u001b[1;31m:\u001b[0m 'break' outside loop\n"
     ]
    }
   ],
   "source": [
    "break"
   ]
  },
  {
   "cell_type": "markdown",
   "metadata": {},
   "source": [
    "# morning es"
   ]
  },
  {
   "cell_type": "code",
   "execution_count": null,
   "metadata": {},
   "outputs": [],
   "source": [
    "es['IPadm'].df.admission_date.min()"
   ]
  },
  {
   "cell_type": "code",
   "execution_count": null,
   "metadata": {},
   "outputs": [],
   "source": [
    "fm.index.max()"
   ]
  },
  {
   "cell_type": "code",
   "execution_count": null,
   "metadata": {},
   "outputs": [],
   "source": [
    "start = pd.datetime(2012,1,17,7)\n",
    "# end = ED.arrival.max()\n",
    "end = pd.datetime(2018,7,30,7)\n",
    "ct = pd.DataFrame(pd.DatetimeIndex(freq='d',start=start,end=end),columns=['time'])\n",
    "ct['day'] = ct.time.apply(lambda x: x.date())\n",
    "ct.head()"
   ]
  },
  {
   "cell_type": "code",
   "execution_count": null,
   "metadata": {},
   "outputs": [],
   "source": [
    "es['days'].df.head()"
   ]
  },
  {
   "cell_type": "code",
   "execution_count": null,
   "metadata": {},
   "outputs": [],
   "source": [
    "fm, features = ft.dfs(entityset=es,\n",
    "                       target_entity='days',\n",
    "                     trans_primitives=[],\n",
    "#                      agg_primitives=['count','mean','std','num_true','sum'],\n",
    "                     cutoff_time=ct)\n",
    "\n",
    "# save_es_as_pickle(fm, features, 'EDmorn')\n",
    "\n",
    "fm.head(3)"
   ]
  },
  {
   "cell_type": "code",
   "execution_count": null,
   "metadata": {},
   "outputs": [],
   "source": [
    "save_es_as_pickle(fm, features, 'IPmorn')"
   ]
  },
  {
   "cell_type": "code",
   "execution_count": null,
   "metadata": {},
   "outputs": [],
   "source": []
  },
  {
   "cell_type": "code",
   "execution_count": null,
   "metadata": {},
   "outputs": [],
   "source": []
  },
  {
   "cell_type": "code",
   "execution_count": null,
   "metadata": {},
   "outputs": [],
   "source": [
    "break"
   ]
  },
  {
   "cell_type": "code",
   "execution_count": null,
   "metadata": {},
   "outputs": [],
   "source": [
    "start = pd.datetime(2011,1,1,7)\n",
    "end = ED.arrival.max()\n",
    "ct = pd.DataFrame(pd.DatetimeIndex(freq='d',start=start,end=end),columns=['time'])\n",
    "ct['arr_date'] = ct.time.apply(lambda x: x.date())\n",
    "ct.head()"
   ]
  },
  {
   "cell_type": "markdown",
   "metadata": {},
   "source": [
    "ft.list_primitives().query('type == \"aggregation\"')"
   ]
  },
  {
   "cell_type": "code",
   "execution_count": null,
   "metadata": {},
   "outputs": [],
   "source": [
    "fm, features = ft.dfs(entityset=es,\n",
    "                       target_entity='days',\n",
    "                     trans_primitives=[],\n",
    "                     agg_primitives=['count','mean','std','num_true','sum'],\n",
    "                     cutoff_time=ct)\n",
    "\n",
    "save_es_as_pickle(fm, features, 'EDmorn')\n",
    "\n",
    "fm.head(3)"
   ]
  },
  {
   "cell_type": "code",
   "execution_count": null,
   "metadata": {},
   "outputs": [],
   "source": []
  },
  {
   "cell_type": "code",
   "execution_count": null,
   "metadata": {},
   "outputs": [],
   "source": []
  },
  {
   "cell_type": "code",
   "execution_count": null,
   "metadata": {},
   "outputs": [],
   "source": []
  },
  {
   "cell_type": "code",
   "execution_count": null,
   "metadata": {},
   "outputs": [],
   "source": []
  },
  {
   "cell_type": "code",
   "execution_count": null,
   "metadata": {},
   "outputs": [],
   "source": [
    "fm, features = ft.dfs(entityset=es,\n",
    "                       target_entity='days',\n",
    "                     trans_primitives=[],\n",
    "                     agg_primitives=['count','mean','std','num_true','sum'],\n",
    "#                      cutoff_time=ct,\n",
    "                     )\n",
    "\n",
    "fm.head(3)"
   ]
  },
  {
   "cell_type": "code",
   "execution_count": null,
   "metadata": {},
   "outputs": [],
   "source": []
  },
  {
   "cell_type": "code",
   "execution_count": null,
   "metadata": {},
   "outputs": [],
   "source": [
    "fm.index = fm.index.shift(1,'d')"
   ]
  },
  {
   "cell_type": "code",
   "execution_count": null,
   "metadata": {},
   "outputs": [],
   "source": [
    "save_es_as_pickle(fm, features, 'EDprevday')"
   ]
  },
  {
   "cell_type": "code",
   "execution_count": null,
   "metadata": {},
   "outputs": [],
   "source": []
  },
  {
   "cell_type": "code",
   "execution_count": null,
   "metadata": {},
   "outputs": [],
   "source": []
  },
  {
   "cell_type": "code",
   "execution_count": null,
   "metadata": {},
   "outputs": [],
   "source": []
  },
  {
   "cell_type": "code",
   "execution_count": null,
   "metadata": {},
   "outputs": [],
   "source": []
  },
  {
   "cell_type": "code",
   "execution_count": null,
   "metadata": {},
   "outputs": [],
   "source": [
    "break"
   ]
  },
  {
   "cell_type": "code",
   "execution_count": null,
   "metadata": {},
   "outputs": [],
   "source": []
  },
  {
   "cell_type": "code",
   "execution_count": null,
   "metadata": {},
   "outputs": [],
   "source": [
    "fm.head(3)"
   ]
  },
  {
   "cell_type": "code",
   "execution_count": null,
   "metadata": {},
   "outputs": [],
   "source": [
    "fm.head(3)"
   ]
  },
  {
   "cell_type": "code",
   "execution_count": null,
   "metadata": {},
   "outputs": [],
   "source": []
  },
  {
   "cell_type": "code",
   "execution_count": null,
   "metadata": {},
   "outputs": [],
   "source": [
    "ct2 = ct.copy()\n",
    "ct2.drop('time',axis=1,inplace=True)\n",
    "ct2['time'] = pd.to_datetime(ct['arr_date'])\n",
    "\n",
    "ct2.head(2)"
   ]
  },
  {
   "cell_type": "code",
   "execution_count": null,
   "metadata": {},
   "outputs": [],
   "source": [
    "fm, features = ft.dfs(entityset=es,\n",
    "                       target_entity='days',\n",
    "                     trans_primitives=['day','month'],\n",
    "                     agg_primitives=['count','mean','std','num_true','sum'],\n",
    "                     cutoff_time=ct2,\n",
    "                     training_window = '24h')\n",
    "\n",
    "fm.head(3)"
   ]
  },
  {
   "cell_type": "code",
   "execution_count": null,
   "metadata": {},
   "outputs": [],
   "source": []
  },
  {
   "cell_type": "code",
   "execution_count": null,
   "metadata": {},
   "outputs": [],
   "source": []
  },
  {
   "cell_type": "code",
   "execution_count": null,
   "metadata": {},
   "outputs": [],
   "source": [
    "es['EDatt'].secondary_time_index"
   ]
  },
  {
   "cell_type": "markdown",
   "metadata": {},
   "source": [
    "fm, features = ft.dfs(entityset=es,\n",
    "                       target_entity='days')"
   ]
  },
  {
   "cell_type": "markdown",
   "metadata": {},
   "source": [
    "fm.head()"
   ]
  },
  {
   "cell_type": "markdown",
   "metadata": {},
   "source": [
    "Cutoff times on attendance ES"
   ]
  },
  {
   "cell_type": "markdown",
   "metadata": {},
   "source": [
    "es.add_last_time_indexes()"
   ]
  },
  {
   "cell_type": "code",
   "execution_count": null,
   "metadata": {},
   "outputs": [],
   "source": [
    "ED[ED.attendance_number == 91807209801]"
   ]
  },
  {
   "cell_type": "code",
   "execution_count": null,
   "metadata": {},
   "outputs": [],
   "source": [
    "ct = pd.DataFrame()\n",
    "\n",
    "# ct['arr_date'] = [pd.datetime(2018,9,3,0,0)]\n",
    "ct['attendance_number'] = [91807209801]\n",
    "\n",
    "ct['time'] = pd.to_datetime(['2018-09-3 00:07'])"
   ]
  },
  {
   "cell_type": "code",
   "execution_count": null,
   "metadata": {},
   "outputs": [],
   "source": [
    "es['EDatt']"
   ]
  },
  {
   "cell_type": "code",
   "execution_count": null,
   "metadata": {},
   "outputs": [],
   "source": [
    "fm, features = ft.dfs(entityset=es,\n",
    "                       target_entity='EDatt',\n",
    "#                        cutoff_time=ct,\n",
    "#                       cutoff_time_in_index=True, # just adds the cuttoff time to fm, if non given in ct df then its taken as now\n",
    "#                      training_window=\"48 hours\",\n",
    "                     )\n",
    " \n",
    "\n",
    "fm.head()"
   ]
  },
  {
   "cell_type": "code",
   "execution_count": null,
   "metadata": {},
   "outputs": [],
   "source": [
    "fm, features = ft.dfs(entityset=es,\n",
    "                       target_entity='EDatt',\n",
    "                       cutoff_time=ct,\n",
    "                      cutoff_time_in_index=True, # just adds the cuttoff time to fm\n",
    "                     training_window=\"48 hours\",\n",
    "                     )\n",
    " \n",
    "\n",
    "fm"
   ]
  },
  {
   "cell_type": "code",
   "execution_count": null,
   "metadata": {},
   "outputs": [],
   "source": []
  },
  {
   "cell_type": "code",
   "execution_count": null,
   "metadata": {},
   "outputs": [],
   "source": [
    "ct = pd.DataFrame()\n",
    "\n",
    "ct['arr_date'] = [pd.datetime(2018,9,3,0,0)]\n",
    "\n",
    "ct['time'] = pd.to_datetime(['2018-09-02 06:00'])"
   ]
  },
  {
   "cell_type": "code",
   "execution_count": null,
   "metadata": {},
   "outputs": [],
   "source": [
    "ct"
   ]
  },
  {
   "cell_type": "code",
   "execution_count": null,
   "metadata": {},
   "outputs": [],
   "source": [
    "fm, features = ft.dfs(entityset=es,\n",
    "                       target_entity='EDatt',\n",
    "                       cutoff_time=ct,\n",
    "                      cutoff_time_in_index=True,\n",
    "                     training_window=\"24 hours\",\n",
    "                     )\n",
    " \n",
    "\n",
    "fm"
   ]
  },
  {
   "cell_type": "code",
   "execution_count": null,
   "metadata": {},
   "outputs": [],
   "source": [
    "es['days']"
   ]
  },
  {
   "cell_type": "code",
   "execution_count": null,
   "metadata": {},
   "outputs": [],
   "source": []
  },
  {
   "cell_type": "markdown",
   "metadata": {},
   "source": [
    "# save out basic entities as pkl"
   ]
  },
  {
   "cell_type": "markdown",
   "metadata": {},
   "source": [
    "es.to_pickle(pickle_path)"
   ]
  },
  {
   "cell_type": "code",
   "execution_count": null,
   "metadata": {},
   "outputs": [],
   "source": [
    "break"
   ]
  },
  {
   "cell_type": "markdown",
   "metadata": {},
   "source": [
    "# Create day features with cuttoffs for different times of day"
   ]
  },
  {
   "cell_type": "code",
   "execution_count": null,
   "metadata": {},
   "outputs": [],
   "source": [
    "es"
   ]
  },
  {
   "cell_type": "code",
   "execution_count": null,
   "metadata": {},
   "outputs": [],
   "source": []
  },
  {
   "cell_type": "code",
   "execution_count": null,
   "metadata": {},
   "outputs": [],
   "source": []
  },
  {
   "cell_type": "code",
   "execution_count": null,
   "metadata": {},
   "outputs": [],
   "source": []
  },
  {
   "cell_type": "markdown",
   "metadata": {},
   "source": [
    "### create hourly - atten_no realationship"
   ]
  },
  {
   "cell_type": "code",
   "execution_count": null,
   "metadata": {},
   "outputs": [],
   "source": [
    "hrly_atten_rel = es['EDatt'].df[['arrival','time_leaving_dept_inc_cdu']]\n",
    "hrly_atten_rel['arrival'] = hrly_atten_rel['arrival'].apply(lambda x : x.replace(second=0,minute=0)) # round arrival hour down\n",
    "hrly_atten_rel['time_leaving_dept_inc_cdu'] = hrly_atten_rel['time_leaving_dept_inc_cdu'].apply(lambda x : x.replace(second=0,minute=0)) +pd.Timedelta(hours=1) # round leaving tim up\n",
    "hrly_atten_rel.head()"
   ]
  },
  {
   "cell_type": "code",
   "execution_count": null,
   "metadata": {},
   "outputs": [],
   "source": [
    "hrly_atten_rel.head()"
   ]
  },
  {
   "cell_type": "code",
   "execution_count": null,
   "metadata": {},
   "outputs": [],
   "source": [
    "hrly_atten_rel['n_hours'] = ((hrly_atten_rel['time_leaving_dept_inc_cdu'] - hrly_atten_rel['arrival'])/pd.Timedelta(1,'h')).astype(int)"
   ]
  },
  {
   "cell_type": "code",
   "execution_count": null,
   "metadata": {},
   "outputs": [],
   "source": [
    "hrly_atten_rel.head()"
   ]
  },
  {
   "cell_type": "code",
   "execution_count": null,
   "metadata": {},
   "outputs": [],
   "source": [
    "import itertools"
   ]
  },
  {
   "cell_type": "code",
   "execution_count": null,
   "metadata": {},
   "outputs": [],
   "source": [
    "#### create a (long format) list of links between attendance numbers and \n",
    "#%%timeit\n",
    "\n",
    "\n",
    "\n",
    "# function for list comp which finds list of datetimes (for each hour)\n",
    "date_func = lambda datetime , offset : datetime + pd.Timedelta(offset,'h')\n",
    "\n",
    "# iterate over rows in df\n",
    "sample = hrly_atten_rel.head()\n",
    "sample = sample.reset_index()\n",
    "\n",
    "ids = np.empty(shape=(sample['n_hours'].sum()),dtype='int64') # initilise array - change to np.empty() to speed up\n",
    "timestamps = np.empty(shape=(sample['n_hours'].sum()),dtype='datetime64[s]')\n",
    "row_count = 0\n",
    "\n",
    "for row in sample.itertuples():\n",
    "    atten_id = [row[1]]\n",
    "    hour_list = [date_func(row[2],i) for i in np.arange(row[4])] # creates list of hour datetimes\n",
    "    \n",
    "    # create array of list for all combinations of timestamp\n",
    "    for i in itertools.product(atten_id,hour_list):\n",
    "        ids[row_count] = i[0] # assign patient numbers\n",
    "        timestamps[row_count] = i[1]\n",
    "        row_count += 1 # add to row count for new array\n",
    "        \n",
    "print(ids)\n",
    "print(timestamps)\n",
    "ids.shape"
   ]
  },
  {
   "cell_type": "code",
   "execution_count": null,
   "metadata": {},
   "outputs": [],
   "source": [
    "data = {'ids':ids,\n",
    "       'timestamp':timestamps}\n",
    "\n",
    "pd.DataFrame(data=data)"
   ]
  },
  {
   "cell_type": "code",
   "execution_count": null,
   "metadata": {},
   "outputs": [],
   "source": [
    "fm, features = ft.dfs(entityset=es,\n",
    "                       target_entity='EDatt',\n",
    "                       cutoff_time=ct,\n",
    "                       cutoff_time_in_index=True,\n",
    "                     max_depth=1,\n",
    "                     training_window=\"1 hours\")\n",
    "\n",
    "fm"
   ]
  },
  {
   "cell_type": "code",
   "execution_count": null,
   "metadata": {},
   "outputs": [],
   "source": []
  },
  {
   "cell_type": "code",
   "execution_count": null,
   "metadata": {},
   "outputs": [],
   "source": [
    "#### put back into df\n",
    "pd.DataFrame(data=[ids,timestamps],columns=['atten_id','timestamp'])"
   ]
  },
  {
   "cell_type": "code",
   "execution_count": null,
   "metadata": {},
   "outputs": [],
   "source": [
    "sample.reset_index(inplace=True)"
   ]
  },
  {
   "cell_type": "code",
   "execution_count": null,
   "metadata": {},
   "outputs": [],
   "source": [
    "\n",
    "#X = np.array()\n",
    "for i in itertools.product(['1'],['2','3','4']):\n",
    "    print(list(i))\n",
    "    X[row[0]] = i\n",
    "    \n",
    "X"
   ]
  },
  {
   "cell_type": "code",
   "execution_count": null,
   "metadata": {},
   "outputs": [],
   "source": [
    "import pandas as pd"
   ]
  },
  {
   "cell_type": "code",
   "execution_count": null,
   "metadata": {},
   "outputs": [],
   "source": [
    "\n",
    "X.append()"
   ]
  },
  {
   "cell_type": "code",
   "execution_count": null,
   "metadata": {},
   "outputs": [],
   "source": [
    "X = np.array([[1,2,3]])\n",
    "X = np.append(X,[[3,4,5]],axis=0)\n",
    "X"
   ]
  },
  {
   "cell_type": "code",
   "execution_count": null,
   "metadata": {},
   "outputs": [],
   "source": [
    "ct=pd.DataFrame()\n",
    "\n",
    "ct['attendance_number'] = [90902042301,90902042301,90902042301,90902042301,90902043501,90902043501]\n",
    "\n",
    "ct['time'] = pd.to_datetime(['2009-4-1 02:00',\n",
    "                             '2009-4-1 03:00',\n",
    "                             '2009-4-1 04:00',\n",
    "                             '2009-4-1 05:00',\n",
    "                              '2009-4-1 07:00',\n",
    "                              '2014-1-1 04:00'])"
   ]
  },
  {
   "cell_type": "code",
   "execution_count": null,
   "metadata": {},
   "outputs": [],
   "source": [
    "ct"
   ]
  },
  {
   "cell_type": "code",
   "execution_count": null,
   "metadata": {},
   "outputs": [],
   "source": [
    "es['EDpatients'].last_time_index = es['EDpatients'].df['last_time']"
   ]
  },
  {
   "cell_type": "code",
   "execution_count": null,
   "metadata": {
    "scrolled": true
   },
   "outputs": [],
   "source": [
    "fm, features = ft.dfs(entityset=es,\n",
    "                       target_entity='EDatt',\n",
    "                       cutoff_time=ct,\n",
    "                       cutoff_time_in_index=True,\n",
    "                     max_depth=1,\n",
    "                     training_window=\"1 hours\")\n",
    "\n",
    "fm"
   ]
  },
  {
   "cell_type": "code",
   "execution_count": null,
   "metadata": {},
   "outputs": [],
   "source": [
    "es"
   ]
  },
  {
   "cell_type": "code",
   "execution_count": null,
   "metadata": {},
   "outputs": [],
   "source": [
    "ct2 = es['EDatt'].df[['attendance_number','arrival','arrival_mode_desc_bool']].head(5)"
   ]
  },
  {
   "cell_type": "code",
   "execution_count": null,
   "metadata": {},
   "outputs": [],
   "source": [
    "ft.__version__"
   ]
  },
  {
   "cell_type": "code",
   "execution_count": null,
   "metadata": {},
   "outputs": [],
   "source": [
    "fm, features = ft.dfs(entityset=es,\n",
    "                       target_entity='EDatt',\n",
    "                       cutoff_time=ct2,\n",
    "                       cutoff_time_in_index=True,\n",
    "                     max_depth=2)\n",
    "\n",
    "fm"
   ]
  },
  {
   "cell_type": "code",
   "execution_count": null,
   "metadata": {},
   "outputs": [],
   "source": [
    "break"
   ]
  },
  {
   "cell_type": "markdown",
   "metadata": {},
   "source": [
    "#### create a day table - by normalising a new feature"
   ]
  },
  {
   "cell_type": "code",
   "execution_count": null,
   "metadata": {},
   "outputs": [],
   "source": [
    "es = es.normalize_entity(base_entity_id='EDatt',\n",
    "                   new_entity_id=\"days\",\n",
    "                    index=\"arr_date\")"
   ]
  },
  {
   "cell_type": "markdown",
   "metadata": {},
   "source": [
    "#### import hourly table"
   ]
  },
  {
   "cell_type": "code",
   "execution_count": null,
   "metadata": {},
   "outputs": [],
   "source": [
    "hrly = pd.read_pickle('./../3_Data/processed/sgh/sghHOURLY.pkl')"
   ]
  },
  {
   "cell_type": "code",
   "execution_count": null,
   "metadata": {},
   "outputs": [],
   "source": [
    "hrly.columns"
   ]
  },
  {
   "cell_type": "code",
   "execution_count": null,
   "metadata": {},
   "outputs": [],
   "source": [
    "hrly2 = hrly[['dt_date','EDocc_nonadmit', 'EDocc_admit', 'EDocc_total', 'EDocc_awaitingadm',\n",
    "       'EDocc_nonbreach', 'EDocc_breach', 'IPocc_NonElective',\n",
    "       'IPocc_Day_Case', 'IPocc_Elective', 'IPocc_total', 'IPocc_elec_nonelec',\n",
    "       'IPadm', 'IPadm_nonelec', 'IPadm_daycase', 'IPadm_elective', 'IPdis',\n",
    "       'IPdis_nonelec', 'IPdis_daycase', 'IPdis_elective',\n",
    "       'IPadm_elec_nonelec', 'IPdis_elec_nonelec', 'EDarrive',\n",
    "       'EDarrive_breach', 'EDarrive_adm', 'EDdepart', 'EDdepart_breach',\n",
    "       'EDdepart_adm']].reset_index()"
   ]
  },
  {
   "cell_type": "code",
   "execution_count": null,
   "metadata": {},
   "outputs": [],
   "source": [
    "es.entity_from_dataframe(entity_id='hourly',dataframe=hrly2,index='index')"
   ]
  },
  {
   "cell_type": "code",
   "execution_count": null,
   "metadata": {},
   "outputs": [],
   "source": [
    "new_relationship = ft.Relationship(es[\"days\"][\"arr_date\"],\n",
    "                                    es[\"hourly\"][\"dt_date\"])\n",
    "\n",
    "es = es.add_relationship(new_relationship)"
   ]
  },
  {
   "cell_type": "code",
   "execution_count": null,
   "metadata": {},
   "outputs": [],
   "source": [
    "es['hourly'].df.head(2)"
   ]
  },
  {
   "cell_type": "code",
   "execution_count": null,
   "metadata": {},
   "outputs": [],
   "source": []
  },
  {
   "cell_type": "markdown",
   "metadata": {},
   "source": [
    "# summary of esets"
   ]
  },
  {
   "cell_type": "code",
   "execution_count": null,
   "metadata": {},
   "outputs": [],
   "source": [
    "es"
   ]
  },
  {
   "cell_type": "code",
   "execution_count": null,
   "metadata": {},
   "outputs": [],
   "source": [
    "es['days'].df.head()"
   ]
  },
  {
   "cell_type": "code",
   "execution_count": null,
   "metadata": {},
   "outputs": [],
   "source": [
    "es['EDatt'].df.head(2)"
   ]
  },
  {
   "cell_type": "code",
   "execution_count": null,
   "metadata": {},
   "outputs": [],
   "source": [
    "es['patients'].df.head(3)"
   ]
  },
  {
   "cell_type": "code",
   "execution_count": null,
   "metadata": {},
   "outputs": [],
   "source": [
    "es['hourly'].df.head(2)"
   ]
  },
  {
   "cell_type": "code",
   "execution_count": null,
   "metadata": {},
   "outputs": [],
   "source": [
    "es['days'].df.head(3)"
   ]
  },
  {
   "cell_type": "markdown",
   "metadata": {},
   "source": [
    "# make features"
   ]
  },
  {
   "cell_type": "markdown",
   "metadata": {},
   "source": [
    "feature_matrix, feature_defs = ft.dfs(entityset=es,target_entity='days',\n",
    "      agg_primitives=['count','mean','num_true','sum'],\n",
    "      trans_primitives=['month','year','day'],\n",
    "    max_depth=1,n_jobs=2)\n",
    "\n",
    "feature_matrix"
   ]
  },
  {
   "cell_type": "code",
   "execution_count": null,
   "metadata": {},
   "outputs": [],
   "source": [
    "feature_matrix1, feature_defs = ft.dfs(entityset=es,target_entity='days',\n",
    "      agg_primitives=['count','mean','num_true','sum','max','last'],\n",
    "      trans_primitives=['month','year','weekend','weekday'],\n",
    "    max_depth=1,n_jobs=1)\n",
    "\n",
    "feature_matrix1.shape"
   ]
  },
  {
   "cell_type": "code",
   "execution_count": null,
   "metadata": {},
   "outputs": [],
   "source": [
    "feature_matrix2, feature_defs = ft.dfs(entityset=es,target_entity='days',\n",
    "      agg_primitives=['count','mean','num_true','sum','max','last'],\n",
    "      trans_primitives=['month','year','weekend','weekday'],\n",
    "    max_depth=2,n_jobs=1)\n",
    "\n",
    "feature_matrix2.shape"
   ]
  },
  {
   "cell_type": "code",
   "execution_count": null,
   "metadata": {},
   "outputs": [],
   "source": [
    "feature_matrix, feature_defs = ft.dfs(entityset=es,target_entity='days',\n",
    "      agg_primitives=['count','mean','num_true','sum','max','last'],\n",
    "      trans_primitives=['month','year','weekend','weekday'],\n",
    "    max_depth=3,n_jobs=1)\n",
    "\n",
    "feature_matrix.shape"
   ]
  },
  {
   "cell_type": "code",
   "execution_count": null,
   "metadata": {},
   "outputs": [],
   "source": [
    "set(feature_matrix.columns) - set(feature_matrix1.columns)"
   ]
  },
  {
   "cell_type": "code",
   "execution_count": null,
   "metadata": {},
   "outputs": [],
   "source": [
    "for i in feature_matrix.columns:\n",
    "    print(i)"
   ]
  },
  {
   "cell_type": "code",
   "execution_count": null,
   "metadata": {},
   "outputs": [],
   "source": [
    "feature_matrix.shape"
   ]
  },
  {
   "cell_type": "code",
   "execution_count": null,
   "metadata": {},
   "outputs": [],
   "source": [
    "feature_matrix.shape"
   ]
  },
  {
   "cell_type": "markdown",
   "metadata": {},
   "source": [
    "## do some basic drops"
   ]
  },
  {
   "cell_type": "code",
   "execution_count": null,
   "metadata": {},
   "outputs": [],
   "source": [
    "uniques = feature_matrix.apply(lambda x: x.nunique())"
   ]
  },
  {
   "cell_type": "code",
   "execution_count": null,
   "metadata": {},
   "outputs": [],
   "source": [
    "uniques[uniques==1].index"
   ]
  },
  {
   "cell_type": "code",
   "execution_count": null,
   "metadata": {},
   "outputs": [],
   "source": [
    "feature_matrix = feature_matrix.drop(uniques[uniques==1].index, axis=1)"
   ]
  },
  {
   "cell_type": "code",
   "execution_count": null,
   "metadata": {},
   "outputs": [],
   "source": []
  },
  {
   "cell_type": "markdown",
   "metadata": {},
   "source": [
    "#### drop columns which have all same values"
   ]
  },
  {
   "cell_type": "code",
   "execution_count": null,
   "metadata": {},
   "outputs": [],
   "source": [
    "feature_matrix.shape"
   ]
  },
  {
   "cell_type": "code",
   "execution_count": null,
   "metadata": {},
   "outputs": [],
   "source": [
    "cols = list(feature_matrix)\n",
    "nunique = feature_matrix.apply(pd.Series.nunique)\n",
    "cols_to_drop = nunique[nunique == 1].index\n",
    "feature_matrix.drop(cols_to_drop, axis=1,inplace=True)"
   ]
  },
  {
   "cell_type": "code",
   "execution_count": null,
   "metadata": {},
   "outputs": [],
   "source": [
    "feature_matrix.shape"
   ]
  },
  {
   "cell_type": "markdown",
   "metadata": {},
   "source": [
    "#### drop cols that are duplicated "
   ]
  },
  {
   "cell_type": "code",
   "execution_count": null,
   "metadata": {},
   "outputs": [],
   "source": [
    "from utils import duplicate_columns"
   ]
  },
  {
   "cell_type": "code",
   "execution_count": null,
   "metadata": {},
   "outputs": [],
   "source": [
    "dups = duplicate_columns(feature_matrix)\n",
    "dups"
   ]
  },
  {
   "cell_type": "code",
   "execution_count": null,
   "metadata": {},
   "outputs": [],
   "source": [
    "feature_matrix.drop(dups,axis=1,inplace=True)"
   ]
  },
  {
   "cell_type": "code",
   "execution_count": null,
   "metadata": {},
   "outputs": [],
   "source": [
    "feature_matrix.shape"
   ]
  },
  {
   "cell_type": "markdown",
   "metadata": {},
   "source": [
    "### save out"
   ]
  },
  {
   "cell_type": "code",
   "execution_count": null,
   "metadata": {},
   "outputs": [],
   "source": [
    "pd.to_pickle(feature_matrix,'./activity.pkl')"
   ]
  },
  {
   "cell_type": "code",
   "execution_count": null,
   "metadata": {},
   "outputs": [],
   "source": [
    "ft.list_primitives().head(40)"
   ]
  },
  {
   "cell_type": "code",
   "execution_count": null,
   "metadata": {},
   "outputs": [],
   "source": [
    "ft.list_primitives().tail(40).loc[22].description"
   ]
  },
  {
   "cell_type": "code",
   "execution_count": null,
   "metadata": {},
   "outputs": [],
   "source": []
  },
  {
   "cell_type": "code",
   "execution_count": null,
   "metadata": {},
   "outputs": [],
   "source": []
  },
  {
   "cell_type": "code",
   "execution_count": null,
   "metadata": {},
   "outputs": [],
   "source": []
  },
  {
   "cell_type": "markdown",
   "metadata": {},
   "source": [
    "# Dev"
   ]
  },
  {
   "cell_type": "code",
   "execution_count": null,
   "metadata": {},
   "outputs": [],
   "source": [
    "break"
   ]
  },
  {
   "cell_type": "code",
   "execution_count": null,
   "metadata": {},
   "outputs": [],
   "source": [
    "ED.columns"
   ]
  },
  {
   "cell_type": "markdown",
   "metadata": {},
   "source": [
    "#### create and link day table - by adding a new df"
   ]
  },
  {
   "cell_type": "markdown",
   "metadata": {},
   "source": [
    "from core import create_timeseries_from_events"
   ]
  },
  {
   "cell_type": "markdown",
   "metadata": {},
   "source": [
    "ED.columns"
   ]
  },
  {
   "cell_type": "markdown",
   "metadata": {},
   "source": [
    "start = ED.tail(i).arrival.min().round('D')\n",
    "end = ED.tail(i).arrival.max().round('D')\n",
    "\n",
    "occED = create_timeseries_from_events(ED.tail(i),'arrival','time_leaving_dept_inc_cdu',col_to_split='admission_flag',start=start,end=end,freq='H')\n",
    "\n",
    "occED['EDocc_MEAN'] = occED.sum(axis=1) # make agg col"
   ]
  },
  {
   "cell_type": "markdown",
   "metadata": {},
   "source": [
    "occED['day'] = occED.index.round('D')"
   ]
  },
  {
   "cell_type": "markdown",
   "metadata": {},
   "source": [
    "occEDday = occED.groupby(['day']).mean()"
   ]
  },
  {
   "cell_type": "markdown",
   "metadata": {},
   "source": [
    "occEDday.index"
   ]
  },
  {
   "cell_type": "markdown",
   "metadata": {},
   "source": [
    "day = occEDday['EDocc_MEAN'].reset_index()"
   ]
  },
  {
   "cell_type": "markdown",
   "metadata": {},
   "source": [
    "day.head(2)"
   ]
  },
  {
   "cell_type": "markdown",
   "metadata": {},
   "source": [
    "#### add to es"
   ]
  },
  {
   "cell_type": "markdown",
   "metadata": {},
   "source": [
    "es = es.entity_from_dataframe(entity_id=\"days\",dataframe=day,\n",
    "                              index=\"day\",\n",
    "                              time_index=\"day\")"
   ]
  },
  {
   "cell_type": "markdown",
   "metadata": {},
   "source": [
    "new_relationship = ft.Relationship(es[\"days\"][\"day\"],\n",
    "                                   es[\"ED_atten\"][\"arr_date\"])\n",
    "\n",
    "es = es.add_relationship(new_relationship)"
   ]
  },
  {
   "cell_type": "markdown",
   "metadata": {},
   "source": [
    "#### Look at tables"
   ]
  },
  {
   "cell_type": "code",
   "execution_count": null,
   "metadata": {},
   "outputs": [],
   "source": [
    "es['days'].df.head()"
   ]
  },
  {
   "cell_type": "markdown",
   "metadata": {},
   "source": [
    "es['days'].df['day'].head()"
   ]
  },
  {
   "cell_type": "markdown",
   "metadata": {},
   "source": [
    "es['days'].df['day'].dtype"
   ]
  },
  {
   "cell_type": "markdown",
   "metadata": {},
   "source": [
    "es['ED_atten'].index"
   ]
  },
  {
   "cell_type": "markdown",
   "metadata": {},
   "source": [
    "es['ED_atten'].df.arrival.dtype"
   ]
  },
  {
   "cell_type": "markdown",
   "metadata": {},
   "source": [
    "es['patient'].df.columns #.dtype"
   ]
  },
  {
   "cell_type": "markdown",
   "metadata": {},
   "source": [
    "es['patient'].df['first_ED_atten_time'].dtype"
   ]
  },
  {
   "cell_type": "code",
   "execution_count": null,
   "metadata": {},
   "outputs": [],
   "source": [
    "es['ED_atten']"
   ]
  },
  {
   "cell_type": "code",
   "execution_count": null,
   "metadata": {},
   "outputs": [],
   "source": [
    "es['patient']"
   ]
  },
  {
   "cell_type": "code",
   "execution_count": null,
   "metadata": {},
   "outputs": [],
   "source": [
    "es['days']"
   ]
  },
  {
   "cell_type": "markdown",
   "metadata": {},
   "source": [
    "es['days']"
   ]
  },
  {
   "cell_type": "code",
   "execution_count": null,
   "metadata": {},
   "outputs": [],
   "source": [
    "es"
   ]
  },
  {
   "cell_type": "markdown",
   "metadata": {},
   "source": [
    "# DFS"
   ]
  },
  {
   "cell_type": "markdown",
   "metadata": {},
   "source": [
    "### create range of datetimes for arrival in df"
   ]
  },
  {
   "cell_type": "code",
   "execution_count": null,
   "metadata": {},
   "outputs": [],
   "source": [
    "feature_matrix, feature_defs = ft.dfs(entityset=es,target_entity=\"days\")"
   ]
  },
  {
   "cell_type": "code",
   "execution_count": null,
   "metadata": {},
   "outputs": [],
   "source": [
    "feature_matrix"
   ]
  },
  {
   "cell_type": "code",
   "execution_count": null,
   "metadata": {},
   "outputs": [],
   "source": [
    "window_fm, window_features = ft.dfs(entityset=es,target_entity='days',cutoff_time=ct,\n",
    "       cutoff_time_in_index=True,\n",
    "      training_window = '24 hours')"
   ]
  },
  {
   "cell_type": "code",
   "execution_count": null,
   "metadata": {},
   "outputs": [],
   "source": []
  },
  {
   "cell_type": "code",
   "execution_count": null,
   "metadata": {},
   "outputs": [],
   "source": []
  },
  {
   "cell_type": "code",
   "execution_count": null,
   "metadata": {},
   "outputs": [],
   "source": [
    "pd.DatetimeIndex(start=start,end=end,freq='D')"
   ]
  },
  {
   "cell_type": "code",
   "execution_count": null,
   "metadata": {},
   "outputs": [],
   "source": [
    "ft.list_primitives().head(40)"
   ]
  },
  {
   "cell_type": "code",
   "execution_count": null,
   "metadata": {},
   "outputs": [],
   "source": []
  },
  {
   "cell_type": "code",
   "execution_count": null,
   "metadata": {},
   "outputs": [],
   "source": []
  }
 ],
 "metadata": {
  "anaconda-cloud": {},
  "kernelspec": {
   "display_name": "Python [conda env:ml]",
   "language": "python",
   "name": "conda-env-ml-py"
  },
  "language_info": {
   "codemirror_mode": {
    "name": "ipython",
    "version": 3
   },
   "file_extension": ".py",
   "mimetype": "text/x-python",
   "name": "python",
   "nbconvert_exporter": "python",
   "pygments_lexer": "ipython3",
   "version": "3.6.3"
  }
 },
 "nbformat": 4,
 "nbformat_minor": 2
}
