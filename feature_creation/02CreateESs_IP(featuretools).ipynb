{
 "cells": [
  {
   "cell_type": "markdown",
   "metadata": {},
   "source": [
    "# Aims\n",
    "- Test making occupancy data sets\n",
    "- import pickle  data and put it into ft entity sets\n",
    "- check that can select only records that are active for a window in a morning"
   ]
  },
  {
   "cell_type": "code",
   "execution_count": 2,
   "metadata": {},
   "outputs": [],
   "source": [
    "#%cd ./flosp\n",
    "import pandas as pd\n",
    "import numpy as np\n",
    "import seaborn as sns\n",
    "import featuretools as ft\n",
    "#import flosp\n",
    "#import bradlib as bl\n",
    "sns.set()\n",
    "\n",
    "# from core import create_timeseries_from_events, make_callender_columns"
   ]
  },
  {
   "cell_type": "markdown",
   "metadata": {},
   "source": [
    "# get raw data"
   ]
  },
  {
   "cell_type": "code",
   "execution_count": 3,
   "metadata": {},
   "outputs": [],
   "source": [
    "IP = pd.read_pickle('./../../../3_Data/EDclassification/cleanSPELL.pkl')"
   ]
  },
  {
   "cell_type": "code",
   "execution_count": 4,
   "metadata": {},
   "outputs": [
    {
     "data": {
      "text/html": [
       "<div>\n",
       "<style scoped>\n",
       "    .dataframe tbody tr th:only-of-type {\n",
       "        vertical-align: middle;\n",
       "    }\n",
       "\n",
       "    .dataframe tbody tr th {\n",
       "        vertical-align: top;\n",
       "    }\n",
       "\n",
       "    .dataframe thead th {\n",
       "        text-align: right;\n",
       "    }\n",
       "</style>\n",
       "<table border=\"1\" class=\"dataframe\">\n",
       "  <thead>\n",
       "    <tr style=\"text-align: right;\">\n",
       "      <th></th>\n",
       "      <th>pseudo_patient_number</th>\n",
       "      <th>age_at__admission</th>\n",
       "      <th>gender</th>\n",
       "      <th>spell_number</th>\n",
       "      <th>admission_date</th>\n",
       "      <th>discharge_date</th>\n",
       "      <th>admission_method_code</th>\n",
       "      <th>admission_method_description</th>\n",
       "      <th>length_of_stay_days</th>\n",
       "      <th>admission_source_code</th>\n",
       "      <th>...</th>\n",
       "      <th>date_of_death</th>\n",
       "      <th>ward_code</th>\n",
       "      <th>ward_code_description</th>\n",
       "      <th>ward_stay_start_date</th>\n",
       "      <th>ward_stay_end_date</th>\n",
       "      <th>LOCATION_NUMBER</th>\n",
       "      <th>admission_type</th>\n",
       "      <th>ADM_METHOD_simple</th>\n",
       "      <th>ADM_TYPE</th>\n",
       "      <th>ward_moves</th>\n",
       "    </tr>\n",
       "  </thead>\n",
       "  <tbody>\n",
       "    <tr>\n",
       "      <th>0</th>\n",
       "      <td>353232538008</td>\n",
       "      <td>79</td>\n",
       "      <td>2</td>\n",
       "      <td>6222150</td>\n",
       "      <td>2009-04-29 14:19:00</td>\n",
       "      <td>2009-04-29 15:08:00</td>\n",
       "      <td>13</td>\n",
       "      <td>ELECTIVE PLANNED</td>\n",
       "      <td>0</td>\n",
       "      <td>19</td>\n",
       "      <td>...</td>\n",
       "      <td>08-MAY-18 00:00</td>\n",
       "      <td>1160</td>\n",
       "      <td>UROLOGY ENDOSCOPY SGH</td>\n",
       "      <td>2009-04-29 14:19:00</td>\n",
       "      <td>2009-04-29 15:08:00</td>\n",
       "      <td>1</td>\n",
       "      <td>0</td>\n",
       "      <td>other</td>\n",
       "      <td>Day Case</td>\n",
       "      <td>1</td>\n",
       "    </tr>\n",
       "    <tr>\n",
       "      <th>1</th>\n",
       "      <td>352434524354</td>\n",
       "      <td>24</td>\n",
       "      <td>2</td>\n",
       "      <td>6279602</td>\n",
       "      <td>2009-08-20 23:00:00</td>\n",
       "      <td>2009-08-21 02:00:00</td>\n",
       "      <td>31</td>\n",
       "      <td>MATERNITY ANTE PARTUM</td>\n",
       "      <td>1</td>\n",
       "      <td>19</td>\n",
       "      <td>...</td>\n",
       "      <td>NaN</td>\n",
       "      <td>1269</td>\n",
       "      <td>DELIVERY SUITE</td>\n",
       "      <td>2009-08-20 23:00:00</td>\n",
       "      <td>2009-08-21 02:01:00</td>\n",
       "      <td>1</td>\n",
       "      <td>0</td>\n",
       "      <td>Maternity</td>\n",
       "      <td>Non-Elective</td>\n",
       "      <td>1</td>\n",
       "    </tr>\n",
       "  </tbody>\n",
       "</table>\n",
       "<p>2 rows × 25 columns</p>\n",
       "</div>"
      ],
      "text/plain": [
       "  pseudo_patient_number  age_at__admission  gender  spell_number  \\\n",
       "0          353232538008                 79       2       6222150   \n",
       "1          352434524354                 24       2       6279602   \n",
       "\n",
       "       admission_date      discharge_date admission_method_code  \\\n",
       "0 2009-04-29 14:19:00 2009-04-29 15:08:00                    13   \n",
       "1 2009-08-20 23:00:00 2009-08-21 02:00:00                    31   \n",
       "\n",
       "  admission_method_description  length_of_stay_days  admission_source_code  \\\n",
       "0             ELECTIVE PLANNED                    0                     19   \n",
       "1        MATERNITY ANTE PARTUM                    1                     19   \n",
       "\n",
       "     ...        date_of_death  ward_code  ward_code_description  \\\n",
       "0    ...      08-MAY-18 00:00       1160  UROLOGY ENDOSCOPY SGH   \n",
       "1    ...                  NaN       1269         DELIVERY SUITE   \n",
       "\n",
       "   ward_stay_start_date  ward_stay_end_date LOCATION_NUMBER  admission_type  \\\n",
       "0   2009-04-29 14:19:00 2009-04-29 15:08:00               1               0   \n",
       "1   2009-08-20 23:00:00 2009-08-21 02:01:00               1               0   \n",
       "\n",
       "  ADM_METHOD_simple      ADM_TYPE ward_moves  \n",
       "0             other      Day Case          1  \n",
       "1         Maternity  Non-Elective          1  \n",
       "\n",
       "[2 rows x 25 columns]"
      ]
     },
     "execution_count": 4,
     "metadata": {},
     "output_type": "execute_result"
    }
   ],
   "source": [
    "IP.head(2)"
   ]
  },
  {
   "cell_type": "code",
   "execution_count": 5,
   "metadata": {},
   "outputs": [
    {
     "data": {
      "text/html": [
       "<div>\n",
       "<style scoped>\n",
       "    .dataframe tbody tr th:only-of-type {\n",
       "        vertical-align: middle;\n",
       "    }\n",
       "\n",
       "    .dataframe tbody tr th {\n",
       "        vertical-align: top;\n",
       "    }\n",
       "\n",
       "    .dataframe thead th {\n",
       "        text-align: right;\n",
       "    }\n",
       "</style>\n",
       "<table border=\"1\" class=\"dataframe\">\n",
       "  <thead>\n",
       "    <tr style=\"text-align: right;\">\n",
       "      <th></th>\n",
       "      <th>pseudo_patient_number</th>\n",
       "      <th>age_at__admission</th>\n",
       "      <th>gender</th>\n",
       "      <th>spell_number</th>\n",
       "      <th>admission_date</th>\n",
       "      <th>discharge_date</th>\n",
       "      <th>admission_method_code</th>\n",
       "      <th>admission_method_description</th>\n",
       "      <th>length_of_stay_days</th>\n",
       "      <th>admission_source_code</th>\n",
       "      <th>...</th>\n",
       "      <th>date_of_death</th>\n",
       "      <th>ward_code</th>\n",
       "      <th>ward_code_description</th>\n",
       "      <th>ward_stay_start_date</th>\n",
       "      <th>ward_stay_end_date</th>\n",
       "      <th>LOCATION_NUMBER</th>\n",
       "      <th>admission_type</th>\n",
       "      <th>ADM_METHOD_simple</th>\n",
       "      <th>ADM_TYPE</th>\n",
       "      <th>ward_moves</th>\n",
       "    </tr>\n",
       "  </thead>\n",
       "  <tbody>\n",
       "    <tr>\n",
       "      <th>0</th>\n",
       "      <td>353232538008</td>\n",
       "      <td>79</td>\n",
       "      <td>2</td>\n",
       "      <td>6222150</td>\n",
       "      <td>2009-04-29 14:19:00</td>\n",
       "      <td>2009-04-29 15:08:00</td>\n",
       "      <td>13</td>\n",
       "      <td>ELECTIVE PLANNED</td>\n",
       "      <td>0</td>\n",
       "      <td>19</td>\n",
       "      <td>...</td>\n",
       "      <td>08-MAY-18 00:00</td>\n",
       "      <td>1160</td>\n",
       "      <td>UROLOGY ENDOSCOPY SGH</td>\n",
       "      <td>2009-04-29 14:19:00</td>\n",
       "      <td>2009-04-29 15:08:00</td>\n",
       "      <td>1</td>\n",
       "      <td>0</td>\n",
       "      <td>other</td>\n",
       "      <td>Day Case</td>\n",
       "      <td>1</td>\n",
       "    </tr>\n",
       "    <tr>\n",
       "      <th>1</th>\n",
       "      <td>352434524354</td>\n",
       "      <td>24</td>\n",
       "      <td>2</td>\n",
       "      <td>6279602</td>\n",
       "      <td>2009-08-20 23:00:00</td>\n",
       "      <td>2009-08-21 02:00:00</td>\n",
       "      <td>31</td>\n",
       "      <td>MATERNITY ANTE PARTUM</td>\n",
       "      <td>1</td>\n",
       "      <td>19</td>\n",
       "      <td>...</td>\n",
       "      <td>NaN</td>\n",
       "      <td>1269</td>\n",
       "      <td>DELIVERY SUITE</td>\n",
       "      <td>2009-08-20 23:00:00</td>\n",
       "      <td>2009-08-21 02:01:00</td>\n",
       "      <td>1</td>\n",
       "      <td>0</td>\n",
       "      <td>Maternity</td>\n",
       "      <td>Non-Elective</td>\n",
       "      <td>1</td>\n",
       "    </tr>\n",
       "  </tbody>\n",
       "</table>\n",
       "<p>2 rows × 25 columns</p>\n",
       "</div>"
      ],
      "text/plain": [
       "  pseudo_patient_number  age_at__admission  gender  spell_number  \\\n",
       "0          353232538008                 79       2       6222150   \n",
       "1          352434524354                 24       2       6279602   \n",
       "\n",
       "       admission_date      discharge_date admission_method_code  \\\n",
       "0 2009-04-29 14:19:00 2009-04-29 15:08:00                    13   \n",
       "1 2009-08-20 23:00:00 2009-08-21 02:00:00                    31   \n",
       "\n",
       "  admission_method_description  length_of_stay_days  admission_source_code  \\\n",
       "0             ELECTIVE PLANNED                    0                     19   \n",
       "1        MATERNITY ANTE PARTUM                    1                     19   \n",
       "\n",
       "     ...        date_of_death  ward_code  ward_code_description  \\\n",
       "0    ...      08-MAY-18 00:00       1160  UROLOGY ENDOSCOPY SGH   \n",
       "1    ...                  NaN       1269         DELIVERY SUITE   \n",
       "\n",
       "   ward_stay_start_date  ward_stay_end_date LOCATION_NUMBER  admission_type  \\\n",
       "0   2009-04-29 14:19:00 2009-04-29 15:08:00               1               0   \n",
       "1   2009-08-20 23:00:00 2009-08-21 02:01:00               1               0   \n",
       "\n",
       "  ADM_METHOD_simple      ADM_TYPE ward_moves  \n",
       "0             other      Day Case          1  \n",
       "1         Maternity  Non-Elective          1  \n",
       "\n",
       "[2 rows x 25 columns]"
      ]
     },
     "execution_count": 5,
     "metadata": {},
     "output_type": "execute_result"
    }
   ],
   "source": [
    "IP.head(2)"
   ]
  },
  {
   "cell_type": "code",
   "execution_count": 6,
   "metadata": {},
   "outputs": [
    {
     "data": {
      "text/plain": [
       "(1315333, 25)"
      ]
     },
     "execution_count": 6,
     "metadata": {},
     "output_type": "execute_result"
    }
   ],
   "source": [
    "IP.shape"
   ]
  },
  {
   "cell_type": "code",
   "execution_count": 7,
   "metadata": {},
   "outputs": [],
   "source": [
    "#### reduce number of records for simplicity\n",
    "IP = IP[IP.discharge_date > pd.datetime(2012,11,1)]"
   ]
  },
  {
   "cell_type": "code",
   "execution_count": 8,
   "metadata": {},
   "outputs": [
    {
     "data": {
      "text/plain": [
       "(867397, 25)"
      ]
     },
     "execution_count": 8,
     "metadata": {},
     "output_type": "execute_result"
    }
   ],
   "source": [
    "IP.shape"
   ]
  },
  {
   "cell_type": "code",
   "execution_count": 9,
   "metadata": {},
   "outputs": [
    {
     "data": {
      "text/plain": [
       "pseudo_patient_number                0\n",
       "age_at__admission                    0\n",
       "gender                               0\n",
       "spell_number                         0\n",
       "admission_date                       0\n",
       "discharge_date                       0\n",
       "admission_method_code                0\n",
       "admission_method_description         0\n",
       "length_of_stay_days                  0\n",
       "admission_source_code                0\n",
       "admission_source_description         0\n",
       "discharge_method_code                0\n",
       "discharge_method_description         0\n",
       "discharge_destination_code           0\n",
       "discharge_destination_desc           0\n",
       "date_of_death                   746555\n",
       "ward_code                            0\n",
       "ward_code_description                0\n",
       "ward_stay_start_date                 0\n",
       "ward_stay_end_date                   1\n",
       "LOCATION_NUMBER                      0\n",
       "admission_type                       0\n",
       "ADM_METHOD_simple                    0\n",
       "ADM_TYPE                             0\n",
       "ward_moves                           0\n",
       "dtype: int64"
      ]
     },
     "execution_count": 9,
     "metadata": {},
     "output_type": "execute_result"
    }
   ],
   "source": [
    "IP.isnull().sum()"
   ]
  },
  {
   "cell_type": "markdown",
   "metadata": {},
   "source": [
    "# clean ED"
   ]
  },
  {
   "cell_type": "markdown",
   "metadata": {},
   "source": [
    "ED['wait_time_total'] = (ED['time_leaving_dept_inc_cdu'] - ED['arrival'])/pd.Timedelta(1,'m')"
   ]
  },
  {
   "cell_type": "markdown",
   "metadata": {},
   "source": [
    "ED['arr_date'] = ED.arrival.apply(lambda x: x.date())"
   ]
  },
  {
   "cell_type": "markdown",
   "metadata": {},
   "source": [
    "# create es"
   ]
  },
  {
   "cell_type": "code",
   "execution_count": 10,
   "metadata": {},
   "outputs": [
    {
     "data": {
      "text/plain": [
       "Entityset: admissions\n",
       "  Entities:\n",
       "  Relationships:\n",
       "    No relationships"
      ]
     },
     "execution_count": 10,
     "metadata": {},
     "output_type": "execute_result"
    }
   ],
   "source": [
    "es = ft.EntitySet(id='admissions')\n",
    "es"
   ]
  },
  {
   "cell_type": "markdown",
   "metadata": {},
   "source": [
    "#### select columns"
   ]
  },
  {
   "cell_type": "code",
   "execution_count": 11,
   "metadata": {},
   "outputs": [
    {
     "name": "stdout",
     "output_type": "stream",
     "text": [
      "'pseudo_patient_number',\n",
      "'age_at__admission',\n",
      "'gender',\n",
      "'spell_number',\n",
      "'admission_date',\n",
      "'discharge_date',\n",
      "'admission_method_code',\n",
      "'admission_method_description',\n",
      "'length_of_stay_days',\n",
      "'admission_source_code',\n",
      "'admission_source_description',\n",
      "'discharge_method_code',\n",
      "'discharge_method_description',\n",
      "'discharge_destination_code',\n",
      "'discharge_destination_desc',\n",
      "'date_of_death',\n",
      "'ward_code',\n",
      "'ward_code_description',\n",
      "'ward_stay_start_date',\n",
      "'ward_stay_end_date',\n",
      "'LOCATION_NUMBER',\n",
      "'admission_type',\n",
      "'ADM_METHOD_simple',\n",
      "'ADM_TYPE',\n",
      "'ward_moves',\n"
     ]
    }
   ],
   "source": [
    "for i in IP.columns:\n",
    "    print(\"'\" + i + \"',\")"
   ]
  },
  {
   "cell_type": "code",
   "execution_count": 12,
   "metadata": {},
   "outputs": [
    {
     "data": {
      "text/html": [
       "<div>\n",
       "<style scoped>\n",
       "    .dataframe tbody tr th:only-of-type {\n",
       "        vertical-align: middle;\n",
       "    }\n",
       "\n",
       "    .dataframe tbody tr th {\n",
       "        vertical-align: top;\n",
       "    }\n",
       "\n",
       "    .dataframe thead th {\n",
       "        text-align: right;\n",
       "    }\n",
       "</style>\n",
       "<table border=\"1\" class=\"dataframe\">\n",
       "  <thead>\n",
       "    <tr style=\"text-align: right;\">\n",
       "      <th></th>\n",
       "      <th>pseudo_patient_number</th>\n",
       "      <th>age_at__admission</th>\n",
       "      <th>gender</th>\n",
       "      <th>spell_number</th>\n",
       "      <th>admission_date</th>\n",
       "      <th>discharge_date</th>\n",
       "      <th>admission_method_code</th>\n",
       "      <th>admission_method_description</th>\n",
       "      <th>length_of_stay_days</th>\n",
       "      <th>admission_source_code</th>\n",
       "      <th>...</th>\n",
       "      <th>date_of_death</th>\n",
       "      <th>ward_code</th>\n",
       "      <th>ward_code_description</th>\n",
       "      <th>ward_stay_start_date</th>\n",
       "      <th>ward_stay_end_date</th>\n",
       "      <th>LOCATION_NUMBER</th>\n",
       "      <th>admission_type</th>\n",
       "      <th>ADM_METHOD_simple</th>\n",
       "      <th>ADM_TYPE</th>\n",
       "      <th>ward_moves</th>\n",
       "    </tr>\n",
       "  </thead>\n",
       "  <tbody>\n",
       "    <tr>\n",
       "      <th>343067</th>\n",
       "      <td>512555122372</td>\n",
       "      <td>89</td>\n",
       "      <td>2</td>\n",
       "      <td>1700182146</td>\n",
       "      <td>2012-01-17 19:45:00</td>\n",
       "      <td>2012-12-22 06:00:00</td>\n",
       "      <td>21</td>\n",
       "      <td>EMERGENCY A+E</td>\n",
       "      <td>340</td>\n",
       "      <td>19</td>\n",
       "      <td>...</td>\n",
       "      <td>22-DEC-12 00:00</td>\n",
       "      <td>1145</td>\n",
       "      <td>AMU ADMISSIONS 1</td>\n",
       "      <td>2012-01-17 19:45:00</td>\n",
       "      <td>2012-01-18 17:27:00</td>\n",
       "      <td>1</td>\n",
       "      <td>0</td>\n",
       "      <td>ED</td>\n",
       "      <td>Non-Elective</td>\n",
       "      <td>2</td>\n",
       "    </tr>\n",
       "    <tr>\n",
       "      <th>372413</th>\n",
       "      <td>860484604724</td>\n",
       "      <td>0</td>\n",
       "      <td>1</td>\n",
       "      <td>1700217349</td>\n",
       "      <td>2012-04-06 07:45:00</td>\n",
       "      <td>2012-11-07 10:17:00</td>\n",
       "      <td>28</td>\n",
       "      <td>OTHER EMERGENCY</td>\n",
       "      <td>215</td>\n",
       "      <td>51</td>\n",
       "      <td>...</td>\n",
       "      <td>28-AUG-15 00:00</td>\n",
       "      <td>186</td>\n",
       "      <td>PAEDIATRIC INTENSIVE CARE UNIT</td>\n",
       "      <td>2012-04-06 07:45:00</td>\n",
       "      <td>2012-04-11 16:30:00</td>\n",
       "      <td>1</td>\n",
       "      <td>0</td>\n",
       "      <td>other</td>\n",
       "      <td>Non-Elective</td>\n",
       "      <td>12</td>\n",
       "    </tr>\n",
       "    <tr>\n",
       "      <th>389637</th>\n",
       "      <td>920494200160</td>\n",
       "      <td>53</td>\n",
       "      <td>1</td>\n",
       "      <td>1700237749</td>\n",
       "      <td>2012-05-24 19:30:00</td>\n",
       "      <td>2013-01-27 16:17:00</td>\n",
       "      <td>22</td>\n",
       "      <td>EMERGENCY GP</td>\n",
       "      <td>248</td>\n",
       "      <td>19</td>\n",
       "      <td>...</td>\n",
       "      <td>02-JAN-14 00:00</td>\n",
       "      <td>1117</td>\n",
       "      <td>THE RESPIRATORY CENTRE</td>\n",
       "      <td>2012-12-04 12:56:00</td>\n",
       "      <td>2012-12-04 12:57:00</td>\n",
       "      <td>1</td>\n",
       "      <td>0</td>\n",
       "      <td>GP</td>\n",
       "      <td>Non-Elective</td>\n",
       "      <td>26</td>\n",
       "    </tr>\n",
       "    <tr>\n",
       "      <th>389672</th>\n",
       "      <td>630565305715</td>\n",
       "      <td>71</td>\n",
       "      <td>1</td>\n",
       "      <td>1700237796</td>\n",
       "      <td>2012-05-24 18:50:00</td>\n",
       "      <td>2012-11-02 10:00:00</td>\n",
       "      <td>28</td>\n",
       "      <td>OTHER EMERGENCY</td>\n",
       "      <td>162</td>\n",
       "      <td>19</td>\n",
       "      <td>...</td>\n",
       "      <td>19-DEC-13 00:00</td>\n",
       "      <td>168</td>\n",
       "      <td>MEDICAL ENDOSCOPY UNIT E LEVEL</td>\n",
       "      <td>2012-08-07 15:58:00</td>\n",
       "      <td>2012-08-07 16:32:00</td>\n",
       "      <td>1</td>\n",
       "      <td>0</td>\n",
       "      <td>other</td>\n",
       "      <td>Non-Elective</td>\n",
       "      <td>11</td>\n",
       "    </tr>\n",
       "    <tr>\n",
       "      <th>393598</th>\n",
       "      <td>270525705735</td>\n",
       "      <td>0</td>\n",
       "      <td>2</td>\n",
       "      <td>1700242461</td>\n",
       "      <td>2012-06-05 13:25:00</td>\n",
       "      <td>2013-04-08 06:00:00</td>\n",
       "      <td>28</td>\n",
       "      <td>OTHER EMERGENCY</td>\n",
       "      <td>307</td>\n",
       "      <td>51</td>\n",
       "      <td>...</td>\n",
       "      <td>23-JAN-15 00:00</td>\n",
       "      <td>186</td>\n",
       "      <td>PAEDIATRIC INTENSIVE CARE UNIT</td>\n",
       "      <td>2012-06-05 13:25:00</td>\n",
       "      <td>2012-06-08 16:15:00</td>\n",
       "      <td>1</td>\n",
       "      <td>0</td>\n",
       "      <td>other</td>\n",
       "      <td>Non-Elective</td>\n",
       "      <td>3</td>\n",
       "    </tr>\n",
       "  </tbody>\n",
       "</table>\n",
       "<p>5 rows × 25 columns</p>\n",
       "</div>"
      ],
      "text/plain": [
       "       pseudo_patient_number  age_at__admission  gender  spell_number  \\\n",
       "343067          512555122372                 89       2    1700182146   \n",
       "372413          860484604724                  0       1    1700217349   \n",
       "389637          920494200160                 53       1    1700237749   \n",
       "389672          630565305715                 71       1    1700237796   \n",
       "393598          270525705735                  0       2    1700242461   \n",
       "\n",
       "            admission_date      discharge_date admission_method_code  \\\n",
       "343067 2012-01-17 19:45:00 2012-12-22 06:00:00                    21   \n",
       "372413 2012-04-06 07:45:00 2012-11-07 10:17:00                    28   \n",
       "389637 2012-05-24 19:30:00 2013-01-27 16:17:00                    22   \n",
       "389672 2012-05-24 18:50:00 2012-11-02 10:00:00                    28   \n",
       "393598 2012-06-05 13:25:00 2013-04-08 06:00:00                    28   \n",
       "\n",
       "       admission_method_description  length_of_stay_days  \\\n",
       "343067                EMERGENCY A+E                  340   \n",
       "372413              OTHER EMERGENCY                  215   \n",
       "389637                 EMERGENCY GP                  248   \n",
       "389672              OTHER EMERGENCY                  162   \n",
       "393598              OTHER EMERGENCY                  307   \n",
       "\n",
       "        admission_source_code    ...        date_of_death  ward_code  \\\n",
       "343067                     19    ...      22-DEC-12 00:00       1145   \n",
       "372413                     51    ...      28-AUG-15 00:00        186   \n",
       "389637                     19    ...      02-JAN-14 00:00       1117   \n",
       "389672                     19    ...      19-DEC-13 00:00        168   \n",
       "393598                     51    ...      23-JAN-15 00:00        186   \n",
       "\n",
       "                 ward_code_description  ward_stay_start_date  \\\n",
       "343067                AMU ADMISSIONS 1   2012-01-17 19:45:00   \n",
       "372413  PAEDIATRIC INTENSIVE CARE UNIT   2012-04-06 07:45:00   \n",
       "389637          THE RESPIRATORY CENTRE   2012-12-04 12:56:00   \n",
       "389672  MEDICAL ENDOSCOPY UNIT E LEVEL   2012-08-07 15:58:00   \n",
       "393598  PAEDIATRIC INTENSIVE CARE UNIT   2012-06-05 13:25:00   \n",
       "\n",
       "        ward_stay_end_date LOCATION_NUMBER  admission_type ADM_METHOD_simple  \\\n",
       "343067 2012-01-18 17:27:00               1               0                ED   \n",
       "372413 2012-04-11 16:30:00               1               0             other   \n",
       "389637 2012-12-04 12:57:00               1               0                GP   \n",
       "389672 2012-08-07 16:32:00               1               0             other   \n",
       "393598 2012-06-08 16:15:00               1               0             other   \n",
       "\n",
       "            ADM_TYPE ward_moves  \n",
       "343067  Non-Elective          2  \n",
       "372413  Non-Elective         12  \n",
       "389637  Non-Elective         26  \n",
       "389672  Non-Elective         11  \n",
       "393598  Non-Elective          3  \n",
       "\n",
       "[5 rows x 25 columns]"
      ]
     },
     "execution_count": 12,
     "metadata": {},
     "output_type": "execute_result"
    }
   ],
   "source": [
    "IP.head()"
   ]
  },
  {
   "cell_type": "code",
   "execution_count": null,
   "metadata": {},
   "outputs": [],
   "source": []
  },
  {
   "cell_type": "code",
   "execution_count": 13,
   "metadata": {},
   "outputs": [],
   "source": [
    "df_ip = IP[[\n",
    "# 'pseudo_patient_number',\n",
    "'age_at__admission',\n",
    "'gender',\n",
    "'spell_number',\n",
    "'admission_date',\n",
    "'discharge_date',\n",
    "# 'admission_method_code',\n",
    "# 'admission_method_description',\n",
    "'length_of_stay_days',\n",
    "# 'admission_source_code',\n",
    "# 'admission_source_description',\n",
    "# 'discharge_method_code',\n",
    "# 'discharge_method_description',\n",
    "# 'discharge_destination_code',\n",
    "# 'discharge_destination_desc',\n",
    "# 'date_of_death',\n",
    "# 'ward_code',\n",
    "# 'ward_code_description',\n",
    "# 'ward_stay_start_date',\n",
    "# 'ward_stay_end_date',\n",
    "# 'LOCATION_NUMBER',\n",
    "# 'admission_type',\n",
    "'ADM_METHOD_simple',\n",
    "'ADM_TYPE',\n",
    "'ward_moves',\n",
    "    \n",
    "        ]]"
   ]
  },
  {
   "cell_type": "markdown",
   "metadata": {},
   "source": [
    "for i in ED.columns:\n",
    "    print(i)\n",
    "    print(ED[i].dtype)"
   ]
  },
  {
   "cell_type": "code",
   "execution_count": 14,
   "metadata": {},
   "outputs": [
    {
     "data": {
      "text/html": [
       "<div>\n",
       "<style scoped>\n",
       "    .dataframe tbody tr th:only-of-type {\n",
       "        vertical-align: middle;\n",
       "    }\n",
       "\n",
       "    .dataframe tbody tr th {\n",
       "        vertical-align: top;\n",
       "    }\n",
       "\n",
       "    .dataframe thead th {\n",
       "        text-align: right;\n",
       "    }\n",
       "</style>\n",
       "<table border=\"1\" class=\"dataframe\">\n",
       "  <thead>\n",
       "    <tr style=\"text-align: right;\">\n",
       "      <th></th>\n",
       "      <th>age_at__admission</th>\n",
       "      <th>gender</th>\n",
       "      <th>spell_number</th>\n",
       "      <th>admission_date</th>\n",
       "      <th>discharge_date</th>\n",
       "      <th>length_of_stay_days</th>\n",
       "      <th>ADM_METHOD_simple</th>\n",
       "      <th>ADM_TYPE</th>\n",
       "      <th>ward_moves</th>\n",
       "    </tr>\n",
       "  </thead>\n",
       "  <tbody>\n",
       "    <tr>\n",
       "      <th>343067</th>\n",
       "      <td>89</td>\n",
       "      <td>2</td>\n",
       "      <td>1700182146</td>\n",
       "      <td>2012-01-17 19:45:00</td>\n",
       "      <td>2012-12-22 06:00:00</td>\n",
       "      <td>340</td>\n",
       "      <td>ED</td>\n",
       "      <td>Non-Elective</td>\n",
       "      <td>2</td>\n",
       "    </tr>\n",
       "    <tr>\n",
       "      <th>372413</th>\n",
       "      <td>0</td>\n",
       "      <td>1</td>\n",
       "      <td>1700217349</td>\n",
       "      <td>2012-04-06 07:45:00</td>\n",
       "      <td>2012-11-07 10:17:00</td>\n",
       "      <td>215</td>\n",
       "      <td>other</td>\n",
       "      <td>Non-Elective</td>\n",
       "      <td>12</td>\n",
       "    </tr>\n",
       "  </tbody>\n",
       "</table>\n",
       "</div>"
      ],
      "text/plain": [
       "        age_at__admission  gender  spell_number      admission_date  \\\n",
       "343067                 89       2    1700182146 2012-01-17 19:45:00   \n",
       "372413                  0       1    1700217349 2012-04-06 07:45:00   \n",
       "\n",
       "            discharge_date  length_of_stay_days ADM_METHOD_simple  \\\n",
       "343067 2012-12-22 06:00:00                  340                ED   \n",
       "372413 2012-11-07 10:17:00                  215             other   \n",
       "\n",
       "            ADM_TYPE  ward_moves  \n",
       "343067  Non-Elective           2  \n",
       "372413  Non-Elective          12  "
      ]
     },
     "execution_count": 14,
     "metadata": {},
     "output_type": "execute_result"
    }
   ],
   "source": [
    "df_ip.head(2)"
   ]
  },
  {
   "cell_type": "markdown",
   "metadata": {},
   "source": [
    "#### make attendances"
   ]
  },
  {
   "cell_type": "code",
   "execution_count": 15,
   "metadata": {},
   "outputs": [],
   "source": [
    "es = es.entity_from_dataframe(entity_id='IPadm',\n",
    "                        dataframe=df_ip,\n",
    "                         # dataframe=df_ed[:],\n",
    "                    index='spell_number',\n",
    "                        time_index='admission_date',\n",
    "                              secondary_time_index={'discharge_date':['length_of_stay_days','ward_moves']}, #,,'flag_bedreq']},\n",
    "                             variable_types={'admission_date':ft.variable_types.Datetime,\n",
    "                                            'discharge_date':ft.variable_types.Datetime,\n",
    "#                                              'pseudo_patient_number':ft.variable_types.Id,\n",
    "                                             'age_at__admission':ft.variable_types.Numeric,\n",
    "                                             'gender':ft.variable_types.Categorical,\n",
    "                                             'length_of_stay_days':ft.variable_types.Numeric,\n",
    "                                             'ADM_METHOD_simple':ft.variable_types.Categorical,\n",
    "                                            'ADM_TYPE':ft.variable_types.Categorical,\n",
    "                                            'ward_moves':ft.variable_types.Numeric,\n",
    "#                                              'flag_admission':ft.variable_types.Numeric,\n",
    "#                                              'flag_bedreq':ft.variable_types.Categorical,\n",
    "#                                              'flag_specreq':ft.variable_types.Categorical,\n",
    "#                                              'flag_cdu':ft.variable_types.Categorical,\n",
    "})"
   ]
  },
  {
   "cell_type": "markdown",
   "metadata": {},
   "source": [
    "#### look at time index's"
   ]
  },
  {
   "cell_type": "markdown",
   "metadata": {},
   "source": [
    "es['EDatt'].last_time_index = es['EDatt'].df['time_leaving_dept_inc_cdu'] # necessary? or should set for now?"
   ]
  },
  {
   "cell_type": "code",
   "execution_count": 16,
   "metadata": {},
   "outputs": [
    {
     "data": {
      "text/plain": [
       "1700182146   2012-01-17 19:45:00\n",
       "1700217349   2012-04-06 07:45:00\n",
       "1700237796   2012-05-24 18:50:00\n",
       "1700237749   2012-05-24 19:30:00\n",
       "1700242461   2012-06-05 13:25:00\n",
       "Name: admission_date, dtype: datetime64[ns]"
      ]
     },
     "execution_count": 16,
     "metadata": {},
     "output_type": "execute_result"
    }
   ],
   "source": [
    "es['IPadm'].df['admission_date'].head()"
   ]
  },
  {
   "cell_type": "code",
   "execution_count": 17,
   "metadata": {},
   "outputs": [
    {
     "data": {
      "text/plain": [
       "{'discharge_date': ['length_of_stay_days', 'ward_moves', 'discharge_date']}"
      ]
     },
     "execution_count": 17,
     "metadata": {},
     "output_type": "execute_result"
    }
   ],
   "source": [
    "es['IPadm'].secondary_time_index"
   ]
  },
  {
   "cell_type": "markdown",
   "metadata": {},
   "source": [
    "es['EDatt'].last_time_index.head()"
   ]
  },
  {
   "cell_type": "code",
   "execution_count": 18,
   "metadata": {},
   "outputs": [
    {
     "data": {
      "text/plain": [
       "Entity: IPadm\n",
       "  Variables:\n",
       "    spell_number (dtype: index)\n",
       "    admission_date (dtype: datetime_time_index)\n",
       "    discharge_date (dtype: datetime)\n",
       "    age_at__admission (dtype: numeric)\n",
       "    gender (dtype: categorical)\n",
       "    length_of_stay_days (dtype: numeric)\n",
       "    ADM_METHOD_simple (dtype: categorical)\n",
       "    ADM_TYPE (dtype: categorical)\n",
       "    ward_moves (dtype: numeric)\n",
       "  Shape:\n",
       "    (Rows: 867397, Columns: 9)"
      ]
     },
     "execution_count": 18,
     "metadata": {},
     "output_type": "execute_result"
    }
   ],
   "source": [
    "es['IPadm']"
   ]
  },
  {
   "cell_type": "markdown",
   "metadata": {},
   "source": [
    "#### make link table \n",
    "\n",
    "Note: table is made of visits that were active within an each entire hour, not at the hour."
   ]
  },
  {
   "cell_type": "code",
   "execution_count": 19,
   "metadata": {},
   "outputs": [],
   "source": [
    "from create_data import make_HourlyTimeAttenNum_dataframe,make_timeindex_dataframe"
   ]
  },
  {
   "cell_type": "code",
   "execution_count": 20,
   "metadata": {},
   "outputs": [],
   "source": [
    "df_ActiveVisits = make_HourlyTimeAttenNum_dataframe(es['IPadm'].df,'admission_date','discharge_date')"
   ]
  },
  {
   "cell_type": "code",
   "execution_count": 21,
   "metadata": {},
   "outputs": [],
   "source": [
    "df_ActiveVisits['day'] = df_ActiveVisits['hour'].apply(lambda x : x.date())"
   ]
  },
  {
   "cell_type": "code",
   "execution_count": 22,
   "metadata": {},
   "outputs": [
    {
     "data": {
      "text/html": [
       "<div>\n",
       "<style scoped>\n",
       "    .dataframe tbody tr th:only-of-type {\n",
       "        vertical-align: middle;\n",
       "    }\n",
       "\n",
       "    .dataframe tbody tr th {\n",
       "        vertical-align: top;\n",
       "    }\n",
       "\n",
       "    .dataframe thead th {\n",
       "        text-align: right;\n",
       "    }\n",
       "</style>\n",
       "<table border=\"1\" class=\"dataframe\">\n",
       "  <thead>\n",
       "    <tr style=\"text-align: right;\">\n",
       "      <th></th>\n",
       "      <th>atten_id</th>\n",
       "      <th>hour</th>\n",
       "      <th>day</th>\n",
       "    </tr>\n",
       "  </thead>\n",
       "  <tbody>\n",
       "    <tr>\n",
       "      <th>0</th>\n",
       "      <td>1700182146</td>\n",
       "      <td>2012-01-17 19:00:00</td>\n",
       "      <td>2012-01-17</td>\n",
       "    </tr>\n",
       "    <tr>\n",
       "      <th>1</th>\n",
       "      <td>1700182146</td>\n",
       "      <td>2012-01-17 20:00:00</td>\n",
       "      <td>2012-01-17</td>\n",
       "    </tr>\n",
       "    <tr>\n",
       "      <th>2</th>\n",
       "      <td>1700182146</td>\n",
       "      <td>2012-01-17 21:00:00</td>\n",
       "      <td>2012-01-17</td>\n",
       "    </tr>\n",
       "    <tr>\n",
       "      <th>3</th>\n",
       "      <td>1700182146</td>\n",
       "      <td>2012-01-17 22:00:00</td>\n",
       "      <td>2012-01-17</td>\n",
       "    </tr>\n",
       "    <tr>\n",
       "      <th>4</th>\n",
       "      <td>1700182146</td>\n",
       "      <td>2012-01-17 23:00:00</td>\n",
       "      <td>2012-01-17</td>\n",
       "    </tr>\n",
       "  </tbody>\n",
       "</table>\n",
       "</div>"
      ],
      "text/plain": [
       "     atten_id                hour         day\n",
       "0  1700182146 2012-01-17 19:00:00  2012-01-17\n",
       "1  1700182146 2012-01-17 20:00:00  2012-01-17\n",
       "2  1700182146 2012-01-17 21:00:00  2012-01-17\n",
       "3  1700182146 2012-01-17 22:00:00  2012-01-17\n",
       "4  1700182146 2012-01-17 23:00:00  2012-01-17"
      ]
     },
     "execution_count": 22,
     "metadata": {},
     "output_type": "execute_result"
    }
   ],
   "source": [
    "df_ActiveVisits.head()"
   ]
  },
  {
   "cell_type": "code",
   "execution_count": 23,
   "metadata": {},
   "outputs": [
    {
     "data": {
      "text/plain": [
       "Entity: IPadm\n",
       "  Variables:\n",
       "    spell_number (dtype: index)\n",
       "    admission_date (dtype: datetime_time_index)\n",
       "    discharge_date (dtype: datetime)\n",
       "    age_at__admission (dtype: numeric)\n",
       "    gender (dtype: categorical)\n",
       "    length_of_stay_days (dtype: numeric)\n",
       "    ADM_METHOD_simple (dtype: categorical)\n",
       "    ADM_TYPE (dtype: categorical)\n",
       "    ward_moves (dtype: numeric)\n",
       "  Shape:\n",
       "    (Rows: 867397, Columns: 9)"
      ]
     },
     "execution_count": 23,
     "metadata": {},
     "output_type": "execute_result"
    }
   ],
   "source": [
    "es['IPadm']"
   ]
  },
  {
   "cell_type": "markdown",
   "metadata": {},
   "source": [
    "#### add link table to entitity set with  "
   ]
  },
  {
   "cell_type": "code",
   "execution_count": 24,
   "metadata": {},
   "outputs": [],
   "source": [
    "# Make linking-es (active_visits)\n",
    "es = es.entity_from_dataframe(entity_id='link',\n",
    "                               dataframe=df_ActiveVisits,\n",
    "                              make_index=True,\n",
    "                              index='index',\n",
    "                               variable_types={'atten_id':ft.variable_types.Id,\n",
    "                                              'hour':ft.variable_types.Datetime,\n",
    "                                              'day':ft.variable_types.Datetime\n",
    "                                              })"
   ]
  },
  {
   "cell_type": "code",
   "execution_count": 25,
   "metadata": {},
   "outputs": [],
   "source": [
    "# add es relationships\n",
    "rel_Atten_Link = ft.Relationship(es[\"IPadm\"][\"spell_number\"],\n",
    "                                    es[\"link\"][\"atten_id\"])\n",
    "# rel_Hours_ActiveVisits = ft.Relationship(es[\"hours\"][\"hour\"],\n",
    "#                                     es[\"active_visits\"][\"hour\"])\n",
    "# rel_Days_Hours = ft.Relationship(es[\"days\"][\"day\"],\n",
    "#                                     es[\"hours\"][\"day\"])\n",
    "es = es.add_relationships([rel_Atten_Link]) "
   ]
  },
  {
   "cell_type": "markdown",
   "metadata": {},
   "source": [
    "#### make date entity"
   ]
  },
  {
   "cell_type": "code",
   "execution_count": 26,
   "metadata": {},
   "outputs": [],
   "source": [
    "es = es.normalize_entity(base_entity_id='link',\n",
    "                        new_entity_id = 'days',\n",
    "                        index = 'day',\n",
    "                        )"
   ]
  },
  {
   "cell_type": "code",
   "execution_count": 27,
   "metadata": {},
   "outputs": [
    {
     "data": {
      "text/plain": [
       "Entityset: admissions\n",
       "  Entities:\n",
       "    IPadm [Rows: 867397, Columns: 9]\n",
       "    link [Rows: 65622512, Columns: 4]\n",
       "    days [Rows: 2456, Columns: 1]\n",
       "  Relationships:\n",
       "    link.atten_id -> IPadm.spell_number\n",
       "    link.day -> days.day"
      ]
     },
     "execution_count": 27,
     "metadata": {},
     "output_type": "execute_result"
    }
   ],
   "source": [
    "es"
   ]
  },
  {
   "cell_type": "markdown",
   "metadata": {},
   "source": []
  },
  {
   "cell_type": "markdown",
   "metadata": {},
   "source": [
    "##### make patient table - (removed for time being to make simpler features, possible to have info on readmissions directly in EDatt enitity - calced manually)"
   ]
  },
  {
   "cell_type": "markdown",
   "metadata": {},
   "source": [
    "es = es.normalize_entity(base_entity_id='EDatt',\n",
    "                   new_entity_id ='EDpatients',\n",
    "                   index='pseudo_patient_number',\n",
    "                         make_time_index=True,\n",
    "                   additional_variables=['gender'])"
   ]
  },
  {
   "cell_type": "markdown",
   "metadata": {},
   "source": [
    "es = es.normalize_entity(base_entity_id='EDatt',\n",
    "                   new_entity_id ='days',\n",
    "                   index='arr_date',\n",
    "#                          make_time_index=True,\n",
    "#                    additional_variables=['gender'])\n",
    "                        )\n"
   ]
  },
  {
   "cell_type": "markdown",
   "metadata": {},
   "source": [
    "es['days'].df.head()"
   ]
  },
  {
   "cell_type": "markdown",
   "metadata": {},
   "source": [
    "### make date es"
   ]
  },
  {
   "cell_type": "markdown",
   "metadata": {},
   "source": [
    "start = ED.arrival.min()\n",
    "end = ED.arrival.max()\n",
    "days = pd.DataFrame(pd.DatetimeIndex(freq='d',start=start,end=end),columns=['arr_date'])"
   ]
  },
  {
   "cell_type": "markdown",
   "metadata": {},
   "source": [
    "# feature gen"
   ]
  },
  {
   "cell_type": "code",
   "execution_count": 28,
   "metadata": {},
   "outputs": [
    {
     "data": {
      "text/plain": [
       "Entityset: admissions\n",
       "  Entities:\n",
       "    IPadm [Rows: 867397, Columns: 9]\n",
       "    link [Rows: 65622512, Columns: 4]\n",
       "    days [Rows: 2456, Columns: 1]\n",
       "  Relationships:\n",
       "    link.atten_id -> IPadm.spell_number\n",
       "    link.day -> days.day"
      ]
     },
     "execution_count": 28,
     "metadata": {},
     "output_type": "execute_result"
    }
   ],
   "source": [
    "es"
   ]
  },
  {
   "cell_type": "markdown",
   "metadata": {},
   "source": [
    "fm, features = ft.dfs(entityset=es,\n",
    "                       target_entity='EDatt',\n",
    "                     trans_primitives=['day'])"
   ]
  },
  {
   "cell_type": "markdown",
   "metadata": {},
   "source": [
    "ft.list_primitives().head(10)"
   ]
  },
  {
   "cell_type": "markdown",
   "metadata": {},
   "source": [
    "ft.list_primitives().query('type == \"transform\"')"
   ]
  },
  {
   "cell_type": "markdown",
   "metadata": {},
   "source": [
    "fm, features = ft.dfs(entityset=es,\n",
    "                       target_entity='days',\n",
    "                     trans_primitives=['day','month'],\n",
    "                     agg_primitives=['count','mean','num_true'])"
   ]
  },
  {
   "cell_type": "code",
   "execution_count": 108,
   "metadata": {},
   "outputs": [
    {
     "data": {
      "text/html": [
       "<div>\n",
       "<style scoped>\n",
       "    .dataframe tbody tr th:only-of-type {\n",
       "        vertical-align: middle;\n",
       "    }\n",
       "\n",
       "    .dataframe tbody tr th {\n",
       "        vertical-align: top;\n",
       "    }\n",
       "\n",
       "    .dataframe thead th {\n",
       "        text-align: right;\n",
       "    }\n",
       "</style>\n",
       "<table border=\"1\" class=\"dataframe\">\n",
       "  <thead>\n",
       "    <tr style=\"text-align: right;\">\n",
       "      <th></th>\n",
       "      <th>COUNT(link)</th>\n",
       "      <th>NUM_UNIQUE(link.atten_id)</th>\n",
       "      <th>MODE(link.atten_id)</th>\n",
       "      <th>SUM(link.IPadm.age_at__admission)</th>\n",
       "      <th>SUM(link.IPadm.length_of_stay_days)</th>\n",
       "      <th>SUM(link.IPadm.ward_moves)</th>\n",
       "      <th>STD(link.IPadm.age_at__admission)</th>\n",
       "      <th>STD(link.IPadm.length_of_stay_days)</th>\n",
       "      <th>STD(link.IPadm.ward_moves)</th>\n",
       "      <th>MAX(link.IPadm.age_at__admission)</th>\n",
       "      <th>...</th>\n",
       "      <th>NUM_UNIQUE(link.IPadm.WEEKDAY(discharge_date))</th>\n",
       "      <th>MODE(link.IPadm.MODE(link.day))</th>\n",
       "      <th>MODE(link.IPadm.DAY(admission_date))</th>\n",
       "      <th>MODE(link.IPadm.DAY(discharge_date))</th>\n",
       "      <th>MODE(link.IPadm.YEAR(admission_date))</th>\n",
       "      <th>MODE(link.IPadm.YEAR(discharge_date))</th>\n",
       "      <th>MODE(link.IPadm.MONTH(admission_date))</th>\n",
       "      <th>MODE(link.IPadm.MONTH(discharge_date))</th>\n",
       "      <th>MODE(link.IPadm.WEEKDAY(admission_date))</th>\n",
       "      <th>MODE(link.IPadm.WEEKDAY(discharge_date))</th>\n",
       "    </tr>\n",
       "    <tr>\n",
       "      <th>day</th>\n",
       "      <th></th>\n",
       "      <th></th>\n",
       "      <th></th>\n",
       "      <th></th>\n",
       "      <th></th>\n",
       "      <th></th>\n",
       "      <th></th>\n",
       "      <th></th>\n",
       "      <th></th>\n",
       "      <th></th>\n",
       "      <th></th>\n",
       "      <th></th>\n",
       "      <th></th>\n",
       "      <th></th>\n",
       "      <th></th>\n",
       "      <th></th>\n",
       "      <th></th>\n",
       "      <th></th>\n",
       "      <th></th>\n",
       "      <th></th>\n",
       "      <th></th>\n",
       "    </tr>\n",
       "  </thead>\n",
       "  <tbody>\n",
       "    <tr>\n",
       "      <th>2012-01-17</th>\n",
       "      <td>5</td>\n",
       "      <td>1</td>\n",
       "      <td>1700182146</td>\n",
       "      <td>445</td>\n",
       "      <td>1700.0</td>\n",
       "      <td>10.0</td>\n",
       "      <td>0.0</td>\n",
       "      <td>0.0</td>\n",
       "      <td>0.0</td>\n",
       "      <td>89</td>\n",
       "      <td>...</td>\n",
       "      <td>1</td>\n",
       "      <td>2012-01-18</td>\n",
       "      <td>17</td>\n",
       "      <td>22</td>\n",
       "      <td>2012</td>\n",
       "      <td>2012</td>\n",
       "      <td>1</td>\n",
       "      <td>12</td>\n",
       "      <td>1</td>\n",
       "      <td>5</td>\n",
       "    </tr>\n",
       "    <tr>\n",
       "      <th>2012-01-18</th>\n",
       "      <td>24</td>\n",
       "      <td>1</td>\n",
       "      <td>1700182146</td>\n",
       "      <td>2136</td>\n",
       "      <td>8160.0</td>\n",
       "      <td>48.0</td>\n",
       "      <td>0.0</td>\n",
       "      <td>0.0</td>\n",
       "      <td>0.0</td>\n",
       "      <td>89</td>\n",
       "      <td>...</td>\n",
       "      <td>1</td>\n",
       "      <td>2012-01-18</td>\n",
       "      <td>17</td>\n",
       "      <td>22</td>\n",
       "      <td>2012</td>\n",
       "      <td>2012</td>\n",
       "      <td>1</td>\n",
       "      <td>12</td>\n",
       "      <td>1</td>\n",
       "      <td>5</td>\n",
       "    </tr>\n",
       "    <tr>\n",
       "      <th>2012-01-19</th>\n",
       "      <td>24</td>\n",
       "      <td>1</td>\n",
       "      <td>1700182146</td>\n",
       "      <td>2136</td>\n",
       "      <td>8160.0</td>\n",
       "      <td>48.0</td>\n",
       "      <td>0.0</td>\n",
       "      <td>0.0</td>\n",
       "      <td>0.0</td>\n",
       "      <td>89</td>\n",
       "      <td>...</td>\n",
       "      <td>1</td>\n",
       "      <td>2012-01-18</td>\n",
       "      <td>17</td>\n",
       "      <td>22</td>\n",
       "      <td>2012</td>\n",
       "      <td>2012</td>\n",
       "      <td>1</td>\n",
       "      <td>12</td>\n",
       "      <td>1</td>\n",
       "      <td>5</td>\n",
       "    </tr>\n",
       "  </tbody>\n",
       "</table>\n",
       "<p>3 rows × 65 columns</p>\n",
       "</div>"
      ],
      "text/plain": [
       "            COUNT(link)  NUM_UNIQUE(link.atten_id)  MODE(link.atten_id)  \\\n",
       "day                                                                       \n",
       "2012-01-17            5                          1           1700182146   \n",
       "2012-01-18           24                          1           1700182146   \n",
       "2012-01-19           24                          1           1700182146   \n",
       "\n",
       "            SUM(link.IPadm.age_at__admission)  \\\n",
       "day                                             \n",
       "2012-01-17                                445   \n",
       "2012-01-18                               2136   \n",
       "2012-01-19                               2136   \n",
       "\n",
       "            SUM(link.IPadm.length_of_stay_days)  SUM(link.IPadm.ward_moves)  \\\n",
       "day                                                                           \n",
       "2012-01-17                               1700.0                        10.0   \n",
       "2012-01-18                               8160.0                        48.0   \n",
       "2012-01-19                               8160.0                        48.0   \n",
       "\n",
       "            STD(link.IPadm.age_at__admission)  \\\n",
       "day                                             \n",
       "2012-01-17                                0.0   \n",
       "2012-01-18                                0.0   \n",
       "2012-01-19                                0.0   \n",
       "\n",
       "            STD(link.IPadm.length_of_stay_days)  STD(link.IPadm.ward_moves)  \\\n",
       "day                                                                           \n",
       "2012-01-17                                  0.0                         0.0   \n",
       "2012-01-18                                  0.0                         0.0   \n",
       "2012-01-19                                  0.0                         0.0   \n",
       "\n",
       "            MAX(link.IPadm.age_at__admission)  \\\n",
       "day                                             \n",
       "2012-01-17                                 89   \n",
       "2012-01-18                                 89   \n",
       "2012-01-19                                 89   \n",
       "\n",
       "                              ...                     \\\n",
       "day                           ...                      \n",
       "2012-01-17                    ...                      \n",
       "2012-01-18                    ...                      \n",
       "2012-01-19                    ...                      \n",
       "\n",
       "            NUM_UNIQUE(link.IPadm.WEEKDAY(discharge_date))  \\\n",
       "day                                                          \n",
       "2012-01-17                                               1   \n",
       "2012-01-18                                               1   \n",
       "2012-01-19                                               1   \n",
       "\n",
       "            MODE(link.IPadm.MODE(link.day))  \\\n",
       "day                                           \n",
       "2012-01-17                       2012-01-18   \n",
       "2012-01-18                       2012-01-18   \n",
       "2012-01-19                       2012-01-18   \n",
       "\n",
       "            MODE(link.IPadm.DAY(admission_date))  \\\n",
       "day                                                \n",
       "2012-01-17                                    17   \n",
       "2012-01-18                                    17   \n",
       "2012-01-19                                    17   \n",
       "\n",
       "            MODE(link.IPadm.DAY(discharge_date))  \\\n",
       "day                                                \n",
       "2012-01-17                                    22   \n",
       "2012-01-18                                    22   \n",
       "2012-01-19                                    22   \n",
       "\n",
       "            MODE(link.IPadm.YEAR(admission_date))  \\\n",
       "day                                                 \n",
       "2012-01-17                                   2012   \n",
       "2012-01-18                                   2012   \n",
       "2012-01-19                                   2012   \n",
       "\n",
       "            MODE(link.IPadm.YEAR(discharge_date))  \\\n",
       "day                                                 \n",
       "2012-01-17                                   2012   \n",
       "2012-01-18                                   2012   \n",
       "2012-01-19                                   2012   \n",
       "\n",
       "            MODE(link.IPadm.MONTH(admission_date))  \\\n",
       "day                                                  \n",
       "2012-01-17                                       1   \n",
       "2012-01-18                                       1   \n",
       "2012-01-19                                       1   \n",
       "\n",
       "            MODE(link.IPadm.MONTH(discharge_date))  \\\n",
       "day                                                  \n",
       "2012-01-17                                      12   \n",
       "2012-01-18                                      12   \n",
       "2012-01-19                                      12   \n",
       "\n",
       "            MODE(link.IPadm.WEEKDAY(admission_date))  \\\n",
       "day                                                    \n",
       "2012-01-17                                         1   \n",
       "2012-01-18                                         1   \n",
       "2012-01-19                                         1   \n",
       "\n",
       "            MODE(link.IPadm.WEEKDAY(discharge_date))  \n",
       "day                                                   \n",
       "2012-01-17                                         5  \n",
       "2012-01-18                                         5  \n",
       "2012-01-19                                         5  \n",
       "\n",
       "[3 rows x 65 columns]"
      ]
     },
     "execution_count": 108,
     "metadata": {},
     "output_type": "execute_result"
    }
   ],
   "source": [
    "fm, features = ft.dfs(entityset=es,\n",
    "                       target_entity='days',\n",
    "#                      trans_primitives=['day','month','year','weekend'],\n",
    "#                      agg_primitives=['count'],\n",
    "                      max_depth=3\n",
    "                     )\n",
    "#                      agg_primitives=['count','mean','num_true'])\n",
    "fm.head(3)"
   ]
  },
  {
   "cell_type": "code",
   "execution_count": 30,
   "metadata": {},
   "outputs": [],
   "source": [
    "%matplotlib inline"
   ]
  },
  {
   "cell_type": "code",
   "execution_count": 110,
   "metadata": {},
   "outputs": [
    {
     "data": {
      "text/plain": [
       "<matplotlib.axes._subplots.AxesSubplot at 0x16b89c86588>"
      ]
     },
     "execution_count": 110,
     "metadata": {},
     "output_type": "execute_result"
    },
    {
     "data": {
      "image/png": "[encoded data removed]",
      "text/plain": [
       "<matplotlib.figure.Figure at 0x16b89f68e10>"
      ]
     },
     "metadata": {},
     "output_type": "display_data"
    }
   ],
   "source": [
    "fm['NUM_UNIQUE(link.atten_id)'].plot()"
   ]
  },
  {
   "cell_type": "code",
   "execution_count": 113,
   "metadata": {},
   "outputs": [
    {
     "data": {
      "text/plain": [
       "<matplotlib.axes._subplots.AxesSubplot at 0x16b8a1da898>"
      ]
     },
     "execution_count": 113,
     "metadata": {},
     "output_type": "execute_result"
    },
    {
     "data": {
      "image/png": "[encoded data removed]",
      "text/plain": [
       "<matplotlib.figure.Figure at 0x16b8a1daf98>"
      ]
     },
     "metadata": {},
     "output_type": "display_data"
    }
   ],
   "source": [
    "fm['COUNT(link)'].plot()"
   ]
  },
  {
   "cell_type": "markdown",
   "metadata": {},
   "source": [
    "## clean features"
   ]
  },
  {
   "cell_type": "code",
   "execution_count": 123,
   "metadata": {},
   "outputs": [
    {
     "data": {
      "text/plain": [
       "<matplotlib.axes._subplots.AxesSubplot at 0x16b8acb8630>"
      ]
     },
     "execution_count": 123,
     "metadata": {},
     "output_type": "execute_result"
    },
    {
     "data": {
      "image/png": "[encoded data removed]",
      "text/plain": [
       "<matplotlib.figure.Figure at 0x16b8a5007f0>"
      ]
     },
     "metadata": {},
     "output_type": "display_data"
    }
   ],
   "source": [
    "fm['COUNT(link)'][290:-70].plot()"
   ]
  },
  {
   "cell_type": "code",
   "execution_count": 124,
   "metadata": {},
   "outputs": [],
   "source": [
    "fm = fm[290:-70]"
   ]
  },
  {
   "cell_type": "code",
   "execution_count": 125,
   "metadata": {},
   "outputs": [],
   "source": [
    "from utils import find_duplicate_column_names\n",
    "\n",
    "dup_names = find_duplicate_column_names(fm)"
   ]
  },
  {
   "cell_type": "code",
   "execution_count": 126,
   "metadata": {},
   "outputs": [
    {
     "data": {
      "text/plain": [
       "['NUM_UNIQUE(link.DAY(hour))',\n",
       " 'NUM_UNIQUE(link.YEAR(hour))',\n",
       " 'NUM_UNIQUE(link.MONTH(hour))',\n",
       " 'NUM_UNIQUE(link.WEEKDAY(hour))',\n",
       " 'NUM_UNIQUE(link.IPadm.WEEKDAY(admission_date))']"
      ]
     },
     "execution_count": 126,
     "metadata": {},
     "output_type": "execute_result"
    }
   ],
   "source": [
    "dup_names"
   ]
  },
  {
   "cell_type": "code",
   "execution_count": 127,
   "metadata": {},
   "outputs": [],
   "source": [
    "def find_columns_single_value(df):\n",
    "    \"takes df. returns list of columns names which contain all the same value.\"\n",
    "    cols_to_drop = []\n",
    "    for col in df.columns:\n",
    "        col_values_list = df[col].unique()\n",
    "        if len(col_values_list) == 1:\n",
    "            cols_to_drop.append(col)\n",
    "    return(cols_to_drop)\n",
    "\n",
    "single_names = find_columns_single_value(fm)"
   ]
  },
  {
   "cell_type": "code",
   "execution_count": 128,
   "metadata": {},
   "outputs": [
    {
     "data": {
      "text/plain": [
       "['MIN(link.IPadm.age_at__admission)',\n",
       " 'MIN(link.IPadm.length_of_stay_days)',\n",
       " 'MIN(link.IPadm.ward_moves)',\n",
       " 'NUM_UNIQUE(link.DAY(hour))',\n",
       " 'NUM_UNIQUE(link.YEAR(hour))',\n",
       " 'NUM_UNIQUE(link.MONTH(hour))',\n",
       " 'NUM_UNIQUE(link.WEEKDAY(hour))',\n",
       " 'NUM_UNIQUE(link.IPadm.ADM_METHOD_simple)',\n",
       " 'NUM_UNIQUE(link.IPadm.ADM_TYPE)',\n",
       " 'MODE(link.IPadm.ADM_TYPE)',\n",
       " 'MIN(link.IPadm.NUM_UNIQUE(link.day))',\n",
       " 'NUM_UNIQUE(link.IPadm.WEEKDAY(admission_date))',\n",
       " 'NUM_UNIQUE(link.IPadm.WEEKDAY(discharge_date))']"
      ]
     },
     "execution_count": 128,
     "metadata": {},
     "output_type": "execute_result"
    }
   ],
   "source": [
    "single_names"
   ]
  },
  {
   "cell_type": "markdown",
   "metadata": {},
   "source": [
    "fm = fm.drop(single_names,axis=1)"
   ]
  },
  {
   "cell_type": "markdown",
   "metadata": {},
   "source": [
    "fm.drop(dup_names,axis=1)"
   ]
  },
  {
   "cell_type": "code",
   "execution_count": 129,
   "metadata": {},
   "outputs": [
    {
     "data": {
      "text/plain": [
       "(2096, 65)"
      ]
     },
     "execution_count": 129,
     "metadata": {},
     "output_type": "execute_result"
    }
   ],
   "source": [
    "fm.shape"
   ]
  },
  {
   "cell_type": "code",
   "execution_count": null,
   "metadata": {},
   "outputs": [],
   "source": []
  },
  {
   "cell_type": "code",
   "execution_count": null,
   "metadata": {},
   "outputs": [],
   "source": []
  },
  {
   "cell_type": "code",
   "execution_count": null,
   "metadata": {},
   "outputs": [],
   "source": []
  },
  {
   "cell_type": "code",
   "execution_count": 130,
   "metadata": {},
   "outputs": [],
   "source": [
    "def save_es_as_pickle(fm, features, name):\n",
    "    \" Take fm df and rename columns. Save as pickle.\"\n",
    "    for col in fm.columns:\n",
    "        fm.rename(columns={col:name + '_' + col},inplace=True)\n",
    "    \n",
    "    fm.to_pickle('./../../../3_Data/EDclassification/processed/' + name + '.pkl')"
   ]
  },
  {
   "cell_type": "code",
   "execution_count": 131,
   "metadata": {},
   "outputs": [],
   "source": [
    "fm.index = fm.index.shift(1,'d')"
   ]
  },
  {
   "cell_type": "code",
   "execution_count": 132,
   "metadata": {},
   "outputs": [
    {
     "data": {
      "text/html": [
       "<div>\n",
       "<style scoped>\n",
       "    .dataframe tbody tr th:only-of-type {\n",
       "        vertical-align: middle;\n",
       "    }\n",
       "\n",
       "    .dataframe tbody tr th {\n",
       "        vertical-align: top;\n",
       "    }\n",
       "\n",
       "    .dataframe thead th {\n",
       "        text-align: right;\n",
       "    }\n",
       "</style>\n",
       "<table border=\"1\" class=\"dataframe\">\n",
       "  <thead>\n",
       "    <tr style=\"text-align: right;\">\n",
       "      <th></th>\n",
       "      <th>COUNT(link)</th>\n",
       "      <th>NUM_UNIQUE(link.atten_id)</th>\n",
       "      <th>MODE(link.atten_id)</th>\n",
       "      <th>SUM(link.IPadm.age_at__admission)</th>\n",
       "      <th>SUM(link.IPadm.length_of_stay_days)</th>\n",
       "      <th>SUM(link.IPadm.ward_moves)</th>\n",
       "      <th>STD(link.IPadm.age_at__admission)</th>\n",
       "      <th>STD(link.IPadm.length_of_stay_days)</th>\n",
       "      <th>STD(link.IPadm.ward_moves)</th>\n",
       "      <th>MAX(link.IPadm.age_at__admission)</th>\n",
       "      <th>...</th>\n",
       "      <th>NUM_UNIQUE(link.IPadm.WEEKDAY(discharge_date))</th>\n",
       "      <th>MODE(link.IPadm.MODE(link.day))</th>\n",
       "      <th>MODE(link.IPadm.DAY(admission_date))</th>\n",
       "      <th>MODE(link.IPadm.DAY(discharge_date))</th>\n",
       "      <th>MODE(link.IPadm.YEAR(admission_date))</th>\n",
       "      <th>MODE(link.IPadm.YEAR(discharge_date))</th>\n",
       "      <th>MODE(link.IPadm.MONTH(admission_date))</th>\n",
       "      <th>MODE(link.IPadm.MONTH(discharge_date))</th>\n",
       "      <th>MODE(link.IPadm.WEEKDAY(admission_date))</th>\n",
       "      <th>MODE(link.IPadm.WEEKDAY(discharge_date))</th>\n",
       "    </tr>\n",
       "    <tr>\n",
       "      <th>day</th>\n",
       "      <th></th>\n",
       "      <th></th>\n",
       "      <th></th>\n",
       "      <th></th>\n",
       "      <th></th>\n",
       "      <th></th>\n",
       "      <th></th>\n",
       "      <th></th>\n",
       "      <th></th>\n",
       "      <th></th>\n",
       "      <th></th>\n",
       "      <th></th>\n",
       "      <th></th>\n",
       "      <th></th>\n",
       "      <th></th>\n",
       "      <th></th>\n",
       "      <th></th>\n",
       "      <th></th>\n",
       "      <th></th>\n",
       "      <th></th>\n",
       "      <th></th>\n",
       "    </tr>\n",
       "  </thead>\n",
       "  <tbody>\n",
       "    <tr>\n",
       "      <th>2012-11-03</th>\n",
       "      <td>27611</td>\n",
       "      <td>1522</td>\n",
       "      <td>1700182146</td>\n",
       "      <td>1666722</td>\n",
       "      <td>730991.0</td>\n",
       "      <td>86481.0</td>\n",
       "      <td>25.757638</td>\n",
       "      <td>34.891467</td>\n",
       "      <td>2.456135</td>\n",
       "      <td>103</td>\n",
       "      <td>...</td>\n",
       "      <td>7</td>\n",
       "      <td>2012-11-02</td>\n",
       "      <td>1</td>\n",
       "      <td>2</td>\n",
       "      <td>2012</td>\n",
       "      <td>2012</td>\n",
       "      <td>10</td>\n",
       "      <td>11</td>\n",
       "      <td>3</td>\n",
       "      <td>4</td>\n",
       "    </tr>\n",
       "    <tr>\n",
       "      <th>2012-11-04</th>\n",
       "      <td>25739</td>\n",
       "      <td>1244</td>\n",
       "      <td>1700182146</td>\n",
       "      <td>1585328</td>\n",
       "      <td>732515.0</td>\n",
       "      <td>83950.0</td>\n",
       "      <td>25.291990</td>\n",
       "      <td>35.460964</td>\n",
       "      <td>2.488888</td>\n",
       "      <td>103</td>\n",
       "      <td>...</td>\n",
       "      <td>7</td>\n",
       "      <td>2012-11-03</td>\n",
       "      <td>2</td>\n",
       "      <td>5</td>\n",
       "      <td>2012</td>\n",
       "      <td>2012</td>\n",
       "      <td>10</td>\n",
       "      <td>11</td>\n",
       "      <td>4</td>\n",
       "      <td>0</td>\n",
       "    </tr>\n",
       "    <tr>\n",
       "      <th>2012-11-05</th>\n",
       "      <td>25482</td>\n",
       "      <td>1203</td>\n",
       "      <td>1700182146</td>\n",
       "      <td>1580995</td>\n",
       "      <td>740162.0</td>\n",
       "      <td>84326.0</td>\n",
       "      <td>25.130712</td>\n",
       "      <td>35.513174</td>\n",
       "      <td>2.492697</td>\n",
       "      <td>103</td>\n",
       "      <td>...</td>\n",
       "      <td>7</td>\n",
       "      <td>2012-11-03</td>\n",
       "      <td>2</td>\n",
       "      <td>5</td>\n",
       "      <td>2012</td>\n",
       "      <td>2012</td>\n",
       "      <td>10</td>\n",
       "      <td>11</td>\n",
       "      <td>4</td>\n",
       "      <td>0</td>\n",
       "    </tr>\n",
       "    <tr>\n",
       "      <th>2012-11-06</th>\n",
       "      <td>27850</td>\n",
       "      <td>1512</td>\n",
       "      <td>1700182146</td>\n",
       "      <td>1697326</td>\n",
       "      <td>756104.0</td>\n",
       "      <td>88793.0</td>\n",
       "      <td>25.589629</td>\n",
       "      <td>34.855433</td>\n",
       "      <td>2.458824</td>\n",
       "      <td>103</td>\n",
       "      <td>...</td>\n",
       "      <td>7</td>\n",
       "      <td>2012-11-05</td>\n",
       "      <td>5</td>\n",
       "      <td>5</td>\n",
       "      <td>2012</td>\n",
       "      <td>2012</td>\n",
       "      <td>10</td>\n",
       "      <td>11</td>\n",
       "      <td>0</td>\n",
       "      <td>0</td>\n",
       "    </tr>\n",
       "    <tr>\n",
       "      <th>2012-11-07</th>\n",
       "      <td>28940</td>\n",
       "      <td>1581</td>\n",
       "      <td>1700182146</td>\n",
       "      <td>1744030</td>\n",
       "      <td>761991.0</td>\n",
       "      <td>90161.0</td>\n",
       "      <td>25.988895</td>\n",
       "      <td>34.902147</td>\n",
       "      <td>2.456908</td>\n",
       "      <td>103</td>\n",
       "      <td>...</td>\n",
       "      <td>7</td>\n",
       "      <td>2012-11-06</td>\n",
       "      <td>5</td>\n",
       "      <td>6</td>\n",
       "      <td>2012</td>\n",
       "      <td>2012</td>\n",
       "      <td>11</td>\n",
       "      <td>11</td>\n",
       "      <td>0</td>\n",
       "      <td>1</td>\n",
       "    </tr>\n",
       "  </tbody>\n",
       "</table>\n",
       "<p>5 rows × 65 columns</p>\n",
       "</div>"
      ],
      "text/plain": [
       "            COUNT(link)  NUM_UNIQUE(link.atten_id)  MODE(link.atten_id)  \\\n",
       "day                                                                       \n",
       "2012-11-03        27611                       1522           1700182146   \n",
       "2012-11-04        25739                       1244           1700182146   \n",
       "2012-11-05        25482                       1203           1700182146   \n",
       "2012-11-06        27850                       1512           1700182146   \n",
       "2012-11-07        28940                       1581           1700182146   \n",
       "\n",
       "            SUM(link.IPadm.age_at__admission)  \\\n",
       "day                                             \n",
       "2012-11-03                            1666722   \n",
       "2012-11-04                            1585328   \n",
       "2012-11-05                            1580995   \n",
       "2012-11-06                            1697326   \n",
       "2012-11-07                            1744030   \n",
       "\n",
       "            SUM(link.IPadm.length_of_stay_days)  SUM(link.IPadm.ward_moves)  \\\n",
       "day                                                                           \n",
       "2012-11-03                             730991.0                     86481.0   \n",
       "2012-11-04                             732515.0                     83950.0   \n",
       "2012-11-05                             740162.0                     84326.0   \n",
       "2012-11-06                             756104.0                     88793.0   \n",
       "2012-11-07                             761991.0                     90161.0   \n",
       "\n",
       "            STD(link.IPadm.age_at__admission)  \\\n",
       "day                                             \n",
       "2012-11-03                          25.757638   \n",
       "2012-11-04                          25.291990   \n",
       "2012-11-05                          25.130712   \n",
       "2012-11-06                          25.589629   \n",
       "2012-11-07                          25.988895   \n",
       "\n",
       "            STD(link.IPadm.length_of_stay_days)  STD(link.IPadm.ward_moves)  \\\n",
       "day                                                                           \n",
       "2012-11-03                            34.891467                    2.456135   \n",
       "2012-11-04                            35.460964                    2.488888   \n",
       "2012-11-05                            35.513174                    2.492697   \n",
       "2012-11-06                            34.855433                    2.458824   \n",
       "2012-11-07                            34.902147                    2.456908   \n",
       "\n",
       "            MAX(link.IPadm.age_at__admission)  \\\n",
       "day                                             \n",
       "2012-11-03                                103   \n",
       "2012-11-04                                103   \n",
       "2012-11-05                                103   \n",
       "2012-11-06                                103   \n",
       "2012-11-07                                103   \n",
       "\n",
       "                              ...                     \\\n",
       "day                           ...                      \n",
       "2012-11-03                    ...                      \n",
       "2012-11-04                    ...                      \n",
       "2012-11-05                    ...                      \n",
       "2012-11-06                    ...                      \n",
       "2012-11-07                    ...                      \n",
       "\n",
       "            NUM_UNIQUE(link.IPadm.WEEKDAY(discharge_date))  \\\n",
       "day                                                          \n",
       "2012-11-03                                               7   \n",
       "2012-11-04                                               7   \n",
       "2012-11-05                                               7   \n",
       "2012-11-06                                               7   \n",
       "2012-11-07                                               7   \n",
       "\n",
       "            MODE(link.IPadm.MODE(link.day))  \\\n",
       "day                                           \n",
       "2012-11-03                       2012-11-02   \n",
       "2012-11-04                       2012-11-03   \n",
       "2012-11-05                       2012-11-03   \n",
       "2012-11-06                       2012-11-05   \n",
       "2012-11-07                       2012-11-06   \n",
       "\n",
       "            MODE(link.IPadm.DAY(admission_date))  \\\n",
       "day                                                \n",
       "2012-11-03                                     1   \n",
       "2012-11-04                                     2   \n",
       "2012-11-05                                     2   \n",
       "2012-11-06                                     5   \n",
       "2012-11-07                                     5   \n",
       "\n",
       "            MODE(link.IPadm.DAY(discharge_date))  \\\n",
       "day                                                \n",
       "2012-11-03                                     2   \n",
       "2012-11-04                                     5   \n",
       "2012-11-05                                     5   \n",
       "2012-11-06                                     5   \n",
       "2012-11-07                                     6   \n",
       "\n",
       "            MODE(link.IPadm.YEAR(admission_date))  \\\n",
       "day                                                 \n",
       "2012-11-03                                   2012   \n",
       "2012-11-04                                   2012   \n",
       "2012-11-05                                   2012   \n",
       "2012-11-06                                   2012   \n",
       "2012-11-07                                   2012   \n",
       "\n",
       "            MODE(link.IPadm.YEAR(discharge_date))  \\\n",
       "day                                                 \n",
       "2012-11-03                                   2012   \n",
       "2012-11-04                                   2012   \n",
       "2012-11-05                                   2012   \n",
       "2012-11-06                                   2012   \n",
       "2012-11-07                                   2012   \n",
       "\n",
       "            MODE(link.IPadm.MONTH(admission_date))  \\\n",
       "day                                                  \n",
       "2012-11-03                                      10   \n",
       "2012-11-04                                      10   \n",
       "2012-11-05                                      10   \n",
       "2012-11-06                                      10   \n",
       "2012-11-07                                      11   \n",
       "\n",
       "            MODE(link.IPadm.MONTH(discharge_date))  \\\n",
       "day                                                  \n",
       "2012-11-03                                      11   \n",
       "2012-11-04                                      11   \n",
       "2012-11-05                                      11   \n",
       "2012-11-06                                      11   \n",
       "2012-11-07                                      11   \n",
       "\n",
       "            MODE(link.IPadm.WEEKDAY(admission_date))  \\\n",
       "day                                                    \n",
       "2012-11-03                                         3   \n",
       "2012-11-04                                         4   \n",
       "2012-11-05                                         4   \n",
       "2012-11-06                                         0   \n",
       "2012-11-07                                         0   \n",
       "\n",
       "            MODE(link.IPadm.WEEKDAY(discharge_date))  \n",
       "day                                                   \n",
       "2012-11-03                                         4  \n",
       "2012-11-04                                         0  \n",
       "2012-11-05                                         0  \n",
       "2012-11-06                                         0  \n",
       "2012-11-07                                         1  \n",
       "\n",
       "[5 rows x 65 columns]"
      ]
     },
     "execution_count": 132,
     "metadata": {},
     "output_type": "execute_result"
    }
   ],
   "source": [
    "fm.head()"
   ]
  },
  {
   "cell_type": "code",
   "execution_count": 133,
   "metadata": {},
   "outputs": [],
   "source": [
    "save_es_as_pickle(fm, features, 'IPprevday')"
   ]
  },
  {
   "cell_type": "markdown",
   "metadata": {},
   "source": [
    "# morning es"
   ]
  },
  {
   "cell_type": "code",
   "execution_count": 137,
   "metadata": {},
   "outputs": [
    {
     "data": {
      "text/plain": [
       "Timestamp('2012-01-17 19:45:00')"
      ]
     },
     "execution_count": 137,
     "metadata": {},
     "output_type": "execute_result"
    }
   ],
   "source": [
    "es['IPadm'].df.admission_date.min()"
   ]
  },
  {
   "cell_type": "code",
   "execution_count": 148,
   "metadata": {},
   "outputs": [
    {
     "data": {
      "text/plain": [
       "Timestamp('2012-01-20 00:00:00')"
      ]
     },
     "execution_count": 148,
     "metadata": {},
     "output_type": "execute_result"
    }
   ],
   "source": [
    "fm.index.max()"
   ]
  },
  {
   "cell_type": "code",
   "execution_count": 149,
   "metadata": {},
   "outputs": [
    {
     "data": {
      "text/html": [
       "<div>\n",
       "<style scoped>\n",
       "    .dataframe tbody tr th:only-of-type {\n",
       "        vertical-align: middle;\n",
       "    }\n",
       "\n",
       "    .dataframe tbody tr th {\n",
       "        vertical-align: top;\n",
       "    }\n",
       "\n",
       "    .dataframe thead th {\n",
       "        text-align: right;\n",
       "    }\n",
       "</style>\n",
       "<table border=\"1\" class=\"dataframe\">\n",
       "  <thead>\n",
       "    <tr style=\"text-align: right;\">\n",
       "      <th></th>\n",
       "      <th>time</th>\n",
       "      <th>day</th>\n",
       "    </tr>\n",
       "  </thead>\n",
       "  <tbody>\n",
       "    <tr>\n",
       "      <th>0</th>\n",
       "      <td>2012-01-17 07:00:00</td>\n",
       "      <td>2012-01-17</td>\n",
       "    </tr>\n",
       "    <tr>\n",
       "      <th>1</th>\n",
       "      <td>2012-01-18 07:00:00</td>\n",
       "      <td>2012-01-18</td>\n",
       "    </tr>\n",
       "    <tr>\n",
       "      <th>2</th>\n",
       "      <td>2012-01-19 07:00:00</td>\n",
       "      <td>2012-01-19</td>\n",
       "    </tr>\n",
       "    <tr>\n",
       "      <th>3</th>\n",
       "      <td>2012-01-20 07:00:00</td>\n",
       "      <td>2012-01-20</td>\n",
       "    </tr>\n",
       "    <tr>\n",
       "      <th>4</th>\n",
       "      <td>2012-01-21 07:00:00</td>\n",
       "      <td>2012-01-21</td>\n",
       "    </tr>\n",
       "  </tbody>\n",
       "</table>\n",
       "</div>"
      ],
      "text/plain": [
       "                 time         day\n",
       "0 2012-01-17 07:00:00  2012-01-17\n",
       "1 2012-01-18 07:00:00  2012-01-18\n",
       "2 2012-01-19 07:00:00  2012-01-19\n",
       "3 2012-01-20 07:00:00  2012-01-20\n",
       "4 2012-01-21 07:00:00  2012-01-21"
      ]
     },
     "execution_count": 149,
     "metadata": {},
     "output_type": "execute_result"
    }
   ],
   "source": [
    "start = pd.datetime(2012,1,17,7)\n",
    "# end = ED.arrival.max()\n",
    "end = pd.datetime(2018,7,30,7)\n",
    "ct = pd.DataFrame(pd.DatetimeIndex(freq='d',start=start,end=end),columns=['time'])\n",
    "ct['day'] = ct.time.apply(lambda x: x.date())\n",
    "ct.head()"
   ]
  },
  {
   "cell_type": "code",
   "execution_count": 144,
   "metadata": {},
   "outputs": [
    {
     "data": {
      "text/html": [
       "<div>\n",
       "<style scoped>\n",
       "    .dataframe tbody tr th:only-of-type {\n",
       "        vertical-align: middle;\n",
       "    }\n",
       "\n",
       "    .dataframe tbody tr th {\n",
       "        vertical-align: top;\n",
       "    }\n",
       "\n",
       "    .dataframe thead th {\n",
       "        text-align: right;\n",
       "    }\n",
       "</style>\n",
       "<table border=\"1\" class=\"dataframe\">\n",
       "  <thead>\n",
       "    <tr style=\"text-align: right;\">\n",
       "      <th></th>\n",
       "      <th>day</th>\n",
       "    </tr>\n",
       "  </thead>\n",
       "  <tbody>\n",
       "    <tr>\n",
       "      <th>2012-01-17</th>\n",
       "      <td>2012-01-17</td>\n",
       "    </tr>\n",
       "    <tr>\n",
       "      <th>2012-01-18</th>\n",
       "      <td>2012-01-18</td>\n",
       "    </tr>\n",
       "    <tr>\n",
       "      <th>2012-01-19</th>\n",
       "      <td>2012-01-19</td>\n",
       "    </tr>\n",
       "    <tr>\n",
       "      <th>2012-01-20</th>\n",
       "      <td>2012-01-20</td>\n",
       "    </tr>\n",
       "    <tr>\n",
       "      <th>2012-01-21</th>\n",
       "      <td>2012-01-21</td>\n",
       "    </tr>\n",
       "  </tbody>\n",
       "</table>\n",
       "</div>"
      ],
      "text/plain": [
       "                  day\n",
       "2012-01-17 2012-01-17\n",
       "2012-01-18 2012-01-18\n",
       "2012-01-19 2012-01-19\n",
       "2012-01-20 2012-01-20\n",
       "2012-01-21 2012-01-21"
      ]
     },
     "execution_count": 144,
     "metadata": {},
     "output_type": "execute_result"
    }
   ],
   "source": [
    "es['days'].df.head()"
   ]
  },
  {
   "cell_type": "code",
   "execution_count": 150,
   "metadata": {},
   "outputs": [
    {
     "ename": "KeyboardInterrupt",
     "evalue": "",
     "output_type": "error",
     "traceback": [
      "\u001b[1;31m---------------------------------------------------------------------------\u001b[0m",
      "\u001b[1;31mKeyboardInterrupt\u001b[0m                         Traceback (most recent call last)",
      "\u001b[1;32m<ipython-input-150-5378d47542ec>\u001b[0m in \u001b[0;36m<module>\u001b[1;34m()\u001b[0m\n\u001b[0;32m      3\u001b[0m                      \u001b[0mtrans_primitives\u001b[0m\u001b[1;33m=\u001b[0m\u001b[1;33m[\u001b[0m\u001b[1;33m]\u001b[0m\u001b[1;33m,\u001b[0m\u001b[1;33m\u001b[0m\u001b[0m\n\u001b[0;32m      4\u001b[0m \u001b[1;31m#                      agg_primitives=['count','mean','std','num_true','sum'],\u001b[0m\u001b[1;33m\u001b[0m\u001b[1;33m\u001b[0m\u001b[0m\n\u001b[1;32m----> 5\u001b[1;33m                      cutoff_time=ct)\n\u001b[0m\u001b[0;32m      6\u001b[0m \u001b[1;33m\u001b[0m\u001b[0m\n\u001b[0;32m      7\u001b[0m \u001b[1;31m# save_es_as_pickle(fm, features, 'EDmorn')\u001b[0m\u001b[1;33m\u001b[0m\u001b[1;33m\u001b[0m\u001b[0m\n",
      "\u001b[1;32mC:\\Anaconda3\\envs\\ml\\lib\\site-packages\\featuretools\\synthesis\\dfs.py\u001b[0m in \u001b[0;36mdfs\u001b[1;34m(entities, relationships, entityset, target_entity, cutoff_time, instance_ids, agg_primitives, trans_primitives, allowed_paths, max_depth, ignore_entities, ignore_variables, seed_features, drop_contains, drop_exact, where_primitives, max_features, cutoff_time_in_index, save_progress, features_only, training_window, approximate, chunk_size, n_jobs, dask_kwargs, verbose)\u001b[0m\n\u001b[0;32m    198\u001b[0m                                                   \u001b[0mn_jobs\u001b[0m\u001b[1;33m=\u001b[0m\u001b[0mn_jobs\u001b[0m\u001b[1;33m,\u001b[0m\u001b[1;33m\u001b[0m\u001b[0m\n\u001b[0;32m    199\u001b[0m                                                   \u001b[0mdask_kwargs\u001b[0m\u001b[1;33m=\u001b[0m\u001b[0mdask_kwargs\u001b[0m\u001b[1;33m,\u001b[0m\u001b[1;33m\u001b[0m\u001b[0m\n\u001b[1;32m--> 200\u001b[1;33m                                                   verbose=verbose)\n\u001b[0m\u001b[0;32m    201\u001b[0m     \u001b[1;32melse\u001b[0m\u001b[1;33m:\u001b[0m\u001b[1;33m\u001b[0m\u001b[0m\n\u001b[0;32m    202\u001b[0m         feature_matrix = calculate_feature_matrix(features,\n",
      "\u001b[1;32mC:\\Anaconda3\\envs\\ml\\lib\\site-packages\\featuretools\\computational_backends\\calculate_feature_matrix.py\u001b[0m in \u001b[0;36mcalculate_feature_matrix\u001b[1;34m(features, entityset, cutoff_time, instance_ids, entities, relationships, cutoff_time_in_index, training_window, approximate, save_progress, verbose, chunk_size, n_jobs, dask_kwargs, profile)\u001b[0m\n\u001b[0;32m    260\u001b[0m                                                  \u001b[0mcutoff_df_time_var\u001b[0m\u001b[1;33m=\u001b[0m\u001b[0mcutoff_df_time_var\u001b[0m\u001b[1;33m,\u001b[0m\u001b[1;33m\u001b[0m\u001b[0m\n\u001b[0;32m    261\u001b[0m                                                  \u001b[0mtarget_time\u001b[0m\u001b[1;33m=\u001b[0m\u001b[0mtarget_time\u001b[0m\u001b[1;33m,\u001b[0m\u001b[1;33m\u001b[0m\u001b[0m\n\u001b[1;32m--> 262\u001b[1;33m                                                  pass_columns=pass_columns)\n\u001b[0m\u001b[0;32m    263\u001b[0m \u001b[1;33m\u001b[0m\u001b[0m\n\u001b[0;32m    264\u001b[0m     \u001b[0mfeature_matrix\u001b[0m \u001b[1;33m=\u001b[0m \u001b[0mpd\u001b[0m\u001b[1;33m.\u001b[0m\u001b[0mconcat\u001b[0m\u001b[1;33m(\u001b[0m\u001b[0mfeature_matrix\u001b[0m\u001b[1;33m)\u001b[0m\u001b[1;33m\u001b[0m\u001b[0m\n",
      "\u001b[1;32mC:\\Anaconda3\\envs\\ml\\lib\\site-packages\\featuretools\\computational_backends\\calculate_feature_matrix.py\u001b[0m in \u001b[0;36mlinear_calculate_chunks\u001b[1;34m(chunks, features, approximate, training_window, profile, verbose, save_progress, entityset, no_unapproximated_aggs, cutoff_df_time_var, target_time, pass_columns)\u001b[0m\n\u001b[0;32m    523\u001b[0m                                           \u001b[0mcutoff_df_time_var\u001b[0m\u001b[1;33m,\u001b[0m\u001b[1;33m\u001b[0m\u001b[0m\n\u001b[0;32m    524\u001b[0m                                           \u001b[0mtarget_time\u001b[0m\u001b[1;33m,\u001b[0m \u001b[0mpass_columns\u001b[0m\u001b[1;33m,\u001b[0m\u001b[1;33m\u001b[0m\u001b[0m\n\u001b[1;32m--> 525\u001b[1;33m                                           backend=backend)\n\u001b[0m\u001b[0;32m    526\u001b[0m         \u001b[0mfeature_matrix\u001b[0m\u001b[1;33m.\u001b[0m\u001b[0mappend\u001b[0m\u001b[1;33m(\u001b[0m\u001b[0m_feature_matrix\u001b[0m\u001b[1;33m)\u001b[0m\u001b[1;33m\u001b[0m\u001b[0m\n\u001b[0;32m    527\u001b[0m         \u001b[1;31m# Do a manual garbage collection in case objects from calculate_chunk\u001b[0m\u001b[1;33m\u001b[0m\u001b[1;33m\u001b[0m\u001b[0m\n",
      "\u001b[1;32mC:\\Anaconda3\\envs\\ml\\lib\\site-packages\\featuretools\\computational_backends\\calculate_feature_matrix.py\u001b[0m in \u001b[0;36mcalculate_chunk\u001b[1;34m(chunk, features, approximate, training_window, profile, verbose, save_progress, no_unapproximated_aggs, cutoff_df_time_var, target_time, pass_columns, backend, entityset)\u001b[0m\n\u001b[0;32m    344\u001b[0m                                            \u001b[0mids\u001b[0m\u001b[1;33m,\u001b[0m\u001b[1;33m\u001b[0m\u001b[0m\n\u001b[0;32m    345\u001b[0m                                            \u001b[0mprecalculated_features\u001b[0m\u001b[1;33m=\u001b[0m\u001b[0mprecalculated_features\u001b[0m\u001b[1;33m,\u001b[0m\u001b[1;33m\u001b[0m\u001b[0m\n\u001b[1;32m--> 346\u001b[1;33m                                            training_window=window)\n\u001b[0m\u001b[0;32m    347\u001b[0m \u001b[1;33m\u001b[0m\u001b[0m\n\u001b[0;32m    348\u001b[0m             \u001b[0mid_name\u001b[0m \u001b[1;33m=\u001b[0m \u001b[0m_feature_matrix\u001b[0m\u001b[1;33m.\u001b[0m\u001b[0mindex\u001b[0m\u001b[1;33m.\u001b[0m\u001b[0mname\u001b[0m\u001b[1;33m\u001b[0m\u001b[0m\n",
      "\u001b[1;32mC:\\Anaconda3\\envs\\ml\\lib\\site-packages\\featuretools\\computational_backends\\utils.py\u001b[0m in \u001b[0;36mwrapped\u001b[1;34m(*args, **kwargs)\u001b[0m\n\u001b[0;32m     32\u001b[0m         \u001b[1;32mdef\u001b[0m \u001b[0mwrapped\u001b[0m\u001b[1;33m(\u001b[0m\u001b[1;33m*\u001b[0m\u001b[0margs\u001b[0m\u001b[1;33m,\u001b[0m \u001b[1;33m**\u001b[0m\u001b[0mkwargs\u001b[0m\u001b[1;33m)\u001b[0m\u001b[1;33m:\u001b[0m\u001b[1;33m\u001b[0m\u001b[0m\n\u001b[0;32m     33\u001b[0m             \u001b[1;32mif\u001b[0m \u001b[0msave_progress\u001b[0m \u001b[1;32mis\u001b[0m \u001b[1;32mNone\u001b[0m\u001b[1;33m:\u001b[0m\u001b[1;33m\u001b[0m\u001b[0m\n\u001b[1;32m---> 34\u001b[1;33m                 \u001b[0mr\u001b[0m \u001b[1;33m=\u001b[0m \u001b[0mmethod\u001b[0m\u001b[1;33m(\u001b[0m\u001b[1;33m*\u001b[0m\u001b[0margs\u001b[0m\u001b[1;33m,\u001b[0m \u001b[1;33m**\u001b[0m\u001b[0mkwargs\u001b[0m\u001b[1;33m)\u001b[0m\u001b[1;33m\u001b[0m\u001b[0m\n\u001b[0m\u001b[0;32m     35\u001b[0m             \u001b[1;32melse\u001b[0m\u001b[1;33m:\u001b[0m\u001b[1;33m\u001b[0m\u001b[0m\n\u001b[0;32m     36\u001b[0m                 \u001b[0mtime\u001b[0m \u001b[1;33m=\u001b[0m \u001b[0margs\u001b[0m\u001b[1;33m[\u001b[0m\u001b[1;36m0\u001b[0m\u001b[1;33m]\u001b[0m\u001b[1;33m.\u001b[0m\u001b[0mto_pydatetime\u001b[0m\u001b[1;33m(\u001b[0m\u001b[1;33m)\u001b[0m\u001b[1;33m\u001b[0m\u001b[0m\n",
      "\u001b[1;32mC:\\Anaconda3\\envs\\ml\\lib\\site-packages\\featuretools\\computational_backends\\calculate_feature_matrix.py\u001b[0m in \u001b[0;36mcalc_results\u001b[1;34m(time_last, ids, precalculated_features, training_window)\u001b[0m\n\u001b[0;32m    318\u001b[0m                                                     \u001b[0mprecalculated_features\u001b[0m\u001b[1;33m=\u001b[0m\u001b[0mprecalculated_features\u001b[0m\u001b[1;33m,\u001b[0m\u001b[1;33m\u001b[0m\u001b[0m\n\u001b[0;32m    319\u001b[0m                                                     \u001b[0mignored\u001b[0m\u001b[1;33m=\u001b[0m\u001b[0mall_approx_feature_set\u001b[0m\u001b[1;33m,\u001b[0m\u001b[1;33m\u001b[0m\u001b[0m\n\u001b[1;32m--> 320\u001b[1;33m                                                     profile=profile)\n\u001b[0m\u001b[0;32m    321\u001b[0m             \u001b[1;32mreturn\u001b[0m \u001b[0mmatrix\u001b[0m\u001b[1;33m\u001b[0m\u001b[0m\n\u001b[0;32m    322\u001b[0m \u001b[1;33m\u001b[0m\u001b[0m\n",
      "\u001b[1;32mC:\\Anaconda3\\envs\\ml\\lib\\site-packages\\featuretools\\computational_backends\\pandas_backend.py\u001b[0m in \u001b[0;36mcalculate_all_features\u001b[1;34m(self, instance_ids, time_last, training_window, profile, precalculated_features, ignored, verbose)\u001b[0m\n\u001b[0;32m    102\u001b[0m                                                  \u001b[0mtime_last\u001b[0m\u001b[1;33m=\u001b[0m\u001b[0mtime_last\u001b[0m\u001b[1;33m,\u001b[0m\u001b[1;33m\u001b[0m\u001b[0m\n\u001b[0;32m    103\u001b[0m                                                  \u001b[0mtraining_window\u001b[0m\u001b[1;33m=\u001b[0m\u001b[0mtraining_window\u001b[0m\u001b[1;33m,\u001b[0m\u001b[1;33m\u001b[0m\u001b[0m\n\u001b[1;32m--> 104\u001b[1;33m                                                  verbose=verbose)\n\u001b[0m\u001b[0;32m    105\u001b[0m         \u001b[0mlarge_eframes_by_filter\u001b[0m \u001b[1;33m=\u001b[0m \u001b[1;32mNone\u001b[0m\u001b[1;33m\u001b[0m\u001b[0m\n\u001b[0;32m    106\u001b[0m         \u001b[1;32mif\u001b[0m \u001b[0many\u001b[0m\u001b[1;33m(\u001b[0m\u001b[1;33m[\u001b[0m\u001b[0mf\u001b[0m\u001b[1;33m.\u001b[0m\u001b[0muses_full_entity\u001b[0m \u001b[1;32mfor\u001b[0m \u001b[0mf\u001b[0m \u001b[1;32min\u001b[0m \u001b[0mself\u001b[0m\u001b[1;33m.\u001b[0m\u001b[0mfeature_tree\u001b[0m\u001b[1;33m.\u001b[0m\u001b[0mall_features\u001b[0m\u001b[1;33m]\u001b[0m\u001b[1;33m)\u001b[0m\u001b[1;33m:\u001b[0m\u001b[1;33m\u001b[0m\u001b[0m\n",
      "\u001b[1;32mC:\\Anaconda3\\envs\\ml\\lib\\site-packages\\featuretools\\entityset\\entityset.py\u001b[0m in \u001b[0;36mget_pandas_data_slice\u001b[1;34m(self, filter_entity_ids, index_eid, instances, entity_columns, time_last, training_window, verbose)\u001b[0m\n\u001b[0;32m    392\u001b[0m                         \u001b[0mcolumns\u001b[0m\u001b[1;33m=\u001b[0m\u001b[0mchild_columns\u001b[0m\u001b[1;33m,\u001b[0m\u001b[1;33m\u001b[0m\u001b[0m\n\u001b[0;32m    393\u001b[0m                         \u001b[0mtime_last\u001b[0m\u001b[1;33m=\u001b[0m\u001b[0mtime_last\u001b[0m\u001b[1;33m,\u001b[0m\u001b[1;33m\u001b[0m\u001b[0m\n\u001b[1;32m--> 394\u001b[1;33m                         training_window=training_window)\n\u001b[0m\u001b[0;32m    395\u001b[0m \u001b[1;33m\u001b[0m\u001b[0m\n\u001b[0;32m    396\u001b[0m                 \u001b[1;31m# add link variables to this dataframe in order to link it to its\u001b[0m\u001b[1;33m\u001b[0m\u001b[1;33m\u001b[0m\u001b[0m\n",
      "\u001b[1;32mC:\\Anaconda3\\envs\\ml\\lib\\site-packages\\featuretools\\entityset\\entity.py\u001b[0m in \u001b[0;36mquery_by_values\u001b[1;34m(self, instance_vals, variable_id, columns, time_last, training_window)\u001b[0m\n\u001b[0;32m    341\u001b[0m         \u001b[1;32melse\u001b[0m\u001b[1;33m:\u001b[0m\u001b[1;33m\u001b[0m\u001b[0m\n\u001b[0;32m    342\u001b[0m             df = self.df.merge(instance_vals.to_frame(variable_id),\n\u001b[1;32m--> 343\u001b[1;33m                                how=\"inner\", on=variable_id)\n\u001b[0m\u001b[0;32m    344\u001b[0m             \u001b[0mdf\u001b[0m \u001b[1;33m=\u001b[0m \u001b[0mdf\u001b[0m\u001b[1;33m.\u001b[0m\u001b[0mset_index\u001b[0m\u001b[1;33m(\u001b[0m\u001b[0mself\u001b[0m\u001b[1;33m.\u001b[0m\u001b[0mindex\u001b[0m\u001b[1;33m,\u001b[0m \u001b[0mdrop\u001b[0m\u001b[1;33m=\u001b[0m\u001b[1;32mFalse\u001b[0m\u001b[1;33m)\u001b[0m\u001b[1;33m\u001b[0m\u001b[0m\n\u001b[0;32m    345\u001b[0m \u001b[1;33m\u001b[0m\u001b[0m\n",
      "\u001b[1;32mC:\\Anaconda3\\envs\\ml\\lib\\site-packages\\pandas\\core\\frame.py\u001b[0m in \u001b[0;36mmerge\u001b[1;34m(self, right, how, on, left_on, right_on, left_index, right_index, sort, suffixes, copy, indicator, validate)\u001b[0m\n\u001b[0;32m   6387\u001b[0m                      \u001b[0mright_on\u001b[0m\u001b[1;33m=\u001b[0m\u001b[0mright_on\u001b[0m\u001b[1;33m,\u001b[0m \u001b[0mleft_index\u001b[0m\u001b[1;33m=\u001b[0m\u001b[0mleft_index\u001b[0m\u001b[1;33m,\u001b[0m\u001b[1;33m\u001b[0m\u001b[0m\n\u001b[0;32m   6388\u001b[0m                      \u001b[0mright_index\u001b[0m\u001b[1;33m=\u001b[0m\u001b[0mright_index\u001b[0m\u001b[1;33m,\u001b[0m \u001b[0msort\u001b[0m\u001b[1;33m=\u001b[0m\u001b[0msort\u001b[0m\u001b[1;33m,\u001b[0m \u001b[0msuffixes\u001b[0m\u001b[1;33m=\u001b[0m\u001b[0msuffixes\u001b[0m\u001b[1;33m,\u001b[0m\u001b[1;33m\u001b[0m\u001b[0m\n\u001b[1;32m-> 6389\u001b[1;33m                      copy=copy, indicator=indicator, validate=validate)\n\u001b[0m\u001b[0;32m   6390\u001b[0m \u001b[1;33m\u001b[0m\u001b[0m\n\u001b[0;32m   6391\u001b[0m     \u001b[1;32mdef\u001b[0m \u001b[0mround\u001b[0m\u001b[1;33m(\u001b[0m\u001b[0mself\u001b[0m\u001b[1;33m,\u001b[0m \u001b[0mdecimals\u001b[0m\u001b[1;33m=\u001b[0m\u001b[1;36m0\u001b[0m\u001b[1;33m,\u001b[0m \u001b[1;33m*\u001b[0m\u001b[0margs\u001b[0m\u001b[1;33m,\u001b[0m \u001b[1;33m**\u001b[0m\u001b[0mkwargs\u001b[0m\u001b[1;33m)\u001b[0m\u001b[1;33m:\u001b[0m\u001b[1;33m\u001b[0m\u001b[0m\n",
      "\u001b[1;32mC:\\Anaconda3\\envs\\ml\\lib\\site-packages\\pandas\\core\\reshape\\merge.py\u001b[0m in \u001b[0;36mmerge\u001b[1;34m(left, right, how, on, left_on, right_on, left_index, right_index, sort, suffixes, copy, indicator, validate)\u001b[0m\n\u001b[0;32m     60\u001b[0m                          \u001b[0mcopy\u001b[0m\u001b[1;33m=\u001b[0m\u001b[0mcopy\u001b[0m\u001b[1;33m,\u001b[0m \u001b[0mindicator\u001b[0m\u001b[1;33m=\u001b[0m\u001b[0mindicator\u001b[0m\u001b[1;33m,\u001b[0m\u001b[1;33m\u001b[0m\u001b[0m\n\u001b[0;32m     61\u001b[0m                          validate=validate)\n\u001b[1;32m---> 62\u001b[1;33m     \u001b[1;32mreturn\u001b[0m \u001b[0mop\u001b[0m\u001b[1;33m.\u001b[0m\u001b[0mget_result\u001b[0m\u001b[1;33m(\u001b[0m\u001b[1;33m)\u001b[0m\u001b[1;33m\u001b[0m\u001b[0m\n\u001b[0m\u001b[0;32m     63\u001b[0m \u001b[1;33m\u001b[0m\u001b[0m\n\u001b[0;32m     64\u001b[0m \u001b[1;33m\u001b[0m\u001b[0m\n",
      "\u001b[1;32mC:\\Anaconda3\\envs\\ml\\lib\\site-packages\\pandas\\core\\reshape\\merge.py\u001b[0m in \u001b[0;36mget_result\u001b[1;34m(self)\u001b[0m\n\u001b[0;32m    566\u001b[0m                 self.left, self.right)\n\u001b[0;32m    567\u001b[0m \u001b[1;33m\u001b[0m\u001b[0m\n\u001b[1;32m--> 568\u001b[1;33m         \u001b[0mjoin_index\u001b[0m\u001b[1;33m,\u001b[0m \u001b[0mleft_indexer\u001b[0m\u001b[1;33m,\u001b[0m \u001b[0mright_indexer\u001b[0m \u001b[1;33m=\u001b[0m \u001b[0mself\u001b[0m\u001b[1;33m.\u001b[0m\u001b[0m_get_join_info\u001b[0m\u001b[1;33m(\u001b[0m\u001b[1;33m)\u001b[0m\u001b[1;33m\u001b[0m\u001b[0m\n\u001b[0m\u001b[0;32m    569\u001b[0m \u001b[1;33m\u001b[0m\u001b[0m\n\u001b[0;32m    570\u001b[0m         \u001b[0mldata\u001b[0m\u001b[1;33m,\u001b[0m \u001b[0mrdata\u001b[0m \u001b[1;33m=\u001b[0m \u001b[0mself\u001b[0m\u001b[1;33m.\u001b[0m\u001b[0mleft\u001b[0m\u001b[1;33m.\u001b[0m\u001b[0m_data\u001b[0m\u001b[1;33m,\u001b[0m \u001b[0mself\u001b[0m\u001b[1;33m.\u001b[0m\u001b[0mright\u001b[0m\u001b[1;33m.\u001b[0m\u001b[0m_data\u001b[0m\u001b[1;33m\u001b[0m\u001b[0m\n",
      "\u001b[1;32mC:\\Anaconda3\\envs\\ml\\lib\\site-packages\\pandas\\core\\reshape\\merge.py\u001b[0m in \u001b[0;36m_get_join_info\u001b[1;34m(self)\u001b[0m\n\u001b[0;32m    775\u001b[0m         \u001b[1;32melse\u001b[0m\u001b[1;33m:\u001b[0m\u001b[1;33m\u001b[0m\u001b[0m\n\u001b[0;32m    776\u001b[0m             (left_indexer,\n\u001b[1;32m--> 777\u001b[1;33m              right_indexer) = self._get_join_indexers()\n\u001b[0m\u001b[0;32m    778\u001b[0m \u001b[1;33m\u001b[0m\u001b[0m\n\u001b[0;32m    779\u001b[0m             \u001b[1;32mif\u001b[0m \u001b[0mself\u001b[0m\u001b[1;33m.\u001b[0m\u001b[0mright_index\u001b[0m\u001b[1;33m:\u001b[0m\u001b[1;33m\u001b[0m\u001b[0m\n",
      "\u001b[1;32mC:\\Anaconda3\\envs\\ml\\lib\\site-packages\\pandas\\core\\reshape\\merge.py\u001b[0m in \u001b[0;36m_get_join_indexers\u001b[1;34m(self)\u001b[0m\n\u001b[0;32m    754\u001b[0m                                   \u001b[0mself\u001b[0m\u001b[1;33m.\u001b[0m\u001b[0mright_join_keys\u001b[0m\u001b[1;33m,\u001b[0m\u001b[1;33m\u001b[0m\u001b[0m\n\u001b[0;32m    755\u001b[0m                                   \u001b[0msort\u001b[0m\u001b[1;33m=\u001b[0m\u001b[0mself\u001b[0m\u001b[1;33m.\u001b[0m\u001b[0msort\u001b[0m\u001b[1;33m,\u001b[0m\u001b[1;33m\u001b[0m\u001b[0m\n\u001b[1;32m--> 756\u001b[1;33m                                   how=self.how)\n\u001b[0m\u001b[0;32m    757\u001b[0m \u001b[1;33m\u001b[0m\u001b[0m\n\u001b[0;32m    758\u001b[0m     \u001b[1;32mdef\u001b[0m \u001b[0m_get_join_info\u001b[0m\u001b[1;33m(\u001b[0m\u001b[0mself\u001b[0m\u001b[1;33m)\u001b[0m\u001b[1;33m:\u001b[0m\u001b[1;33m\u001b[0m\u001b[0m\n",
      "\u001b[1;32mC:\\Anaconda3\\envs\\ml\\lib\\site-packages\\pandas\\core\\reshape\\merge.py\u001b[0m in \u001b[0;36m_get_join_indexers\u001b[1;34m(left_keys, right_keys, sort, how, **kwargs)\u001b[0m\n\u001b[0;32m   1130\u001b[0m \u001b[1;33m\u001b[0m\u001b[0m\n\u001b[0;32m   1131\u001b[0m     \u001b[1;31m# get left & right join labels and num. of levels at each location\u001b[0m\u001b[1;33m\u001b[0m\u001b[1;33m\u001b[0m\u001b[0m\n\u001b[1;32m-> 1132\u001b[1;33m     \u001b[0mllab\u001b[0m\u001b[1;33m,\u001b[0m \u001b[0mrlab\u001b[0m\u001b[1;33m,\u001b[0m \u001b[0mshape\u001b[0m \u001b[1;33m=\u001b[0m \u001b[0mmap\u001b[0m\u001b[1;33m(\u001b[0m\u001b[0mlist\u001b[0m\u001b[1;33m,\u001b[0m \u001b[0mzip\u001b[0m\u001b[1;33m(\u001b[0m\u001b[1;33m*\u001b[0m \u001b[0mmap\u001b[0m\u001b[1;33m(\u001b[0m\u001b[0mfkeys\u001b[0m\u001b[1;33m,\u001b[0m \u001b[0mleft_keys\u001b[0m\u001b[1;33m,\u001b[0m \u001b[0mright_keys\u001b[0m\u001b[1;33m)\u001b[0m\u001b[1;33m)\u001b[0m\u001b[1;33m)\u001b[0m\u001b[1;33m\u001b[0m\u001b[0m\n\u001b[0m\u001b[0;32m   1133\u001b[0m \u001b[1;33m\u001b[0m\u001b[0m\n\u001b[0;32m   1134\u001b[0m     \u001b[1;31m# get flat i8 keys from label lists\u001b[0m\u001b[1;33m\u001b[0m\u001b[1;33m\u001b[0m\u001b[0m\n",
      "\u001b[1;32mC:\\Anaconda3\\envs\\ml\\lib\\site-packages\\pandas\\core\\reshape\\merge.py\u001b[0m in \u001b[0;36m_factorize_keys\u001b[1;34m(lk, rk, sort)\u001b[0m\n\u001b[0;32m   1577\u001b[0m \u001b[1;33m\u001b[0m\u001b[0m\n\u001b[0;32m   1578\u001b[0m     \u001b[1;31m# NA group\u001b[0m\u001b[1;33m\u001b[0m\u001b[1;33m\u001b[0m\u001b[0m\n\u001b[1;32m-> 1579\u001b[1;33m     \u001b[0mlmask\u001b[0m \u001b[1;33m=\u001b[0m \u001b[0mllab\u001b[0m \u001b[1;33m==\u001b[0m \u001b[1;33m-\u001b[0m\u001b[1;36m1\u001b[0m\u001b[1;33m\u001b[0m\u001b[0m\n\u001b[0m\u001b[0;32m   1580\u001b[0m     \u001b[0mlany\u001b[0m \u001b[1;33m=\u001b[0m \u001b[0mlmask\u001b[0m\u001b[1;33m.\u001b[0m\u001b[0many\u001b[0m\u001b[1;33m(\u001b[0m\u001b[1;33m)\u001b[0m\u001b[1;33m\u001b[0m\u001b[0m\n\u001b[0;32m   1581\u001b[0m     \u001b[0mrmask\u001b[0m \u001b[1;33m=\u001b[0m \u001b[0mrlab\u001b[0m \u001b[1;33m==\u001b[0m \u001b[1;33m-\u001b[0m\u001b[1;36m1\u001b[0m\u001b[1;33m\u001b[0m\u001b[0m\n",
      "\u001b[1;31mKeyboardInterrupt\u001b[0m: "
     ]
    }
   ],
   "source": [
    "fm, features = ft.dfs(entityset=es,\n",
    "                       target_entity='days',\n",
    "                     trans_primitives=[],\n",
    "#                      agg_primitives=['count','mean','std','num_true','sum'],\n",
    "                     cutoff_time=ct)\n",
    "\n",
    "# save_es_as_pickle(fm, features, 'EDmorn')\n",
    "\n",
    "fm.head(3)"
   ]
  },
  {
   "cell_type": "code",
   "execution_count": null,
   "metadata": {},
   "outputs": [],
   "source": [
    "save_es_as_pickle(fm, features, 'IPmorn')"
   ]
  },
  {
   "cell_type": "code",
   "execution_count": null,
   "metadata": {},
   "outputs": [],
   "source": []
  },
  {
   "cell_type": "code",
   "execution_count": null,
   "metadata": {},
   "outputs": [],
   "source": []
  },
  {
   "cell_type": "code",
   "execution_count": 1,
   "metadata": {},
   "outputs": [
    {
     "ename": "SyntaxError",
     "evalue": "'break' outside loop (<ipython-input-1-6aaf1f276005>, line 1)",
     "output_type": "error",
     "traceback": [
      "\u001b[1;36m  File \u001b[1;32m\"<ipython-input-1-6aaf1f276005>\"\u001b[1;36m, line \u001b[1;32m1\u001b[0m\n\u001b[1;33m    break\u001b[0m\n\u001b[1;37m         ^\u001b[0m\n\u001b[1;31mSyntaxError\u001b[0m\u001b[1;31m:\u001b[0m 'break' outside loop\n"
     ]
    }
   ],
   "source": [
    "break"
   ]
  },
  {
   "cell_type": "code",
   "execution_count": null,
   "metadata": {},
   "outputs": [
    {
     "data": {
      "text/html": [
       "<div>\n",
       "<style scoped>\n",
       "    .dataframe tbody tr th:only-of-type {\n",
       "        vertical-align: middle;\n",
       "    }\n",
       "\n",
       "    .dataframe tbody tr th {\n",
       "        vertical-align: top;\n",
       "    }\n",
       "\n",
       "    .dataframe thead th {\n",
       "        text-align: right;\n",
       "    }\n",
       "</style>\n",
       "<table border=\"1\" class=\"dataframe\">\n",
       "  <thead>\n",
       "    <tr style=\"text-align: right;\">\n",
       "      <th></th>\n",
       "      <th>time</th>\n",
       "      <th>arr_date</th>\n",
       "    </tr>\n",
       "  </thead>\n",
       "  <tbody>\n",
       "    <tr>\n",
       "      <th>0</th>\n",
       "      <td>2011-01-01 07:00:00</td>\n",
       "      <td>2011-01-01</td>\n",
       "    </tr>\n",
       "    <tr>\n",
       "      <th>1</th>\n",
       "      <td>2011-01-02 07:00:00</td>\n",
       "      <td>2011-01-02</td>\n",
       "    </tr>\n",
       "    <tr>\n",
       "      <th>2</th>\n",
       "      <td>2011-01-03 07:00:00</td>\n",
       "      <td>2011-01-03</td>\n",
       "    </tr>\n",
       "    <tr>\n",
       "      <th>3</th>\n",
       "      <td>2011-01-04 07:00:00</td>\n",
       "      <td>2011-01-04</td>\n",
       "    </tr>\n",
       "    <tr>\n",
       "      <th>4</th>\n",
       "      <td>2011-01-05 07:00:00</td>\n",
       "      <td>2011-01-05</td>\n",
       "    </tr>\n",
       "  </tbody>\n",
       "</table>\n",
       "</div>"
      ],
      "text/plain": [
       "                 time    arr_date\n",
       "0 2011-01-01 07:00:00  2011-01-01\n",
       "1 2011-01-02 07:00:00  2011-01-02\n",
       "2 2011-01-03 07:00:00  2011-01-03\n",
       "3 2011-01-04 07:00:00  2011-01-04\n",
       "4 2011-01-05 07:00:00  2011-01-05"
      ]
     },
     "execution_count": 24,
     "metadata": {},
     "output_type": "execute_result"
    }
   ],
   "source": [
    "start = pd.datetime(2011,1,1,7)\n",
    "end = ED.arrival.max()\n",
    "ct = pd.DataFrame(pd.DatetimeIndex(freq='d',start=start,end=end),columns=['time'])\n",
    "ct['arr_date'] = ct.time.apply(lambda x: x.date())\n",
    "ct.head()"
   ]
  },
  {
   "cell_type": "markdown",
   "metadata": {},
   "source": [
    "ft.list_primitives().query('type == \"aggregation\"')"
   ]
  },
  {
   "cell_type": "code",
   "execution_count": null,
   "metadata": {},
   "outputs": [],
   "source": [
    "fm, features = ft.dfs(entityset=es,\n",
    "                       target_entity='days',\n",
    "                     trans_primitives=[],\n",
    "                     agg_primitives=['count','mean','std','num_true','sum'],\n",
    "                     cutoff_time=ct)\n",
    "\n",
    "save_es_as_pickle(fm, features, 'EDmorn')\n",
    "\n",
    "fm.head(3)"
   ]
  },
  {
   "cell_type": "code",
   "execution_count": null,
   "metadata": {},
   "outputs": [],
   "source": []
  },
  {
   "cell_type": "code",
   "execution_count": null,
   "metadata": {},
   "outputs": [],
   "source": []
  },
  {
   "cell_type": "code",
   "execution_count": null,
   "metadata": {},
   "outputs": [],
   "source": []
  },
  {
   "cell_type": "code",
   "execution_count": null,
   "metadata": {},
   "outputs": [],
   "source": []
  },
  {
   "cell_type": "code",
   "execution_count": 70,
   "metadata": {},
   "outputs": [
    {
     "data": {
      "text/html": [
       "<div>\n",
       "<style scoped>\n",
       "    .dataframe tbody tr th:only-of-type {\n",
       "        vertical-align: middle;\n",
       "    }\n",
       "\n",
       "    .dataframe tbody tr th {\n",
       "        vertical-align: top;\n",
       "    }\n",
       "\n",
       "    .dataframe thead th {\n",
       "        text-align: right;\n",
       "    }\n",
       "</style>\n",
       "<table border=\"1\" class=\"dataframe\">\n",
       "  <thead>\n",
       "    <tr style=\"text-align: right;\">\n",
       "      <th></th>\n",
       "      <th>COUNT(EDatt)</th>\n",
       "      <th>MEAN(EDatt.wait_time_total)</th>\n",
       "      <th>MEAN(EDatt.flag_specreq)</th>\n",
       "      <th>MEAN(EDatt.age)</th>\n",
       "      <th>MEAN(EDatt.flag_admission)</th>\n",
       "      <th>STD(EDatt.wait_time_total)</th>\n",
       "      <th>STD(EDatt.flag_specreq)</th>\n",
       "      <th>STD(EDatt.age)</th>\n",
       "      <th>STD(EDatt.flag_admission)</th>\n",
       "      <th>SUM(EDatt.wait_time_total)</th>\n",
       "      <th>SUM(EDatt.flag_specreq)</th>\n",
       "      <th>SUM(EDatt.age)</th>\n",
       "      <th>SUM(EDatt.flag_admission)</th>\n",
       "    </tr>\n",
       "    <tr>\n",
       "      <th>arr_date</th>\n",
       "      <th></th>\n",
       "      <th></th>\n",
       "      <th></th>\n",
       "      <th></th>\n",
       "      <th></th>\n",
       "      <th></th>\n",
       "      <th></th>\n",
       "      <th></th>\n",
       "      <th></th>\n",
       "      <th></th>\n",
       "      <th></th>\n",
       "      <th></th>\n",
       "      <th></th>\n",
       "    </tr>\n",
       "  </thead>\n",
       "  <tbody>\n",
       "    <tr>\n",
       "      <th>2013-01-01</th>\n",
       "      <td>312</td>\n",
       "      <td>209.041667</td>\n",
       "      <td>0.737179</td>\n",
       "      <td>39.262821</td>\n",
       "      <td>0.375000</td>\n",
       "      <td>230.640702</td>\n",
       "      <td>0.440873</td>\n",
       "      <td>26.373184</td>\n",
       "      <td>0.484901</td>\n",
       "      <td>65221.0</td>\n",
       "      <td>230.0</td>\n",
       "      <td>12250.0</td>\n",
       "      <td>117.0</td>\n",
       "    </tr>\n",
       "    <tr>\n",
       "      <th>2013-01-02</th>\n",
       "      <td>257</td>\n",
       "      <td>260.194553</td>\n",
       "      <td>0.677043</td>\n",
       "      <td>41.264591</td>\n",
       "      <td>0.385214</td>\n",
       "      <td>227.621004</td>\n",
       "      <td>0.468519</td>\n",
       "      <td>26.953520</td>\n",
       "      <td>0.487595</td>\n",
       "      <td>66870.0</td>\n",
       "      <td>174.0</td>\n",
       "      <td>10605.0</td>\n",
       "      <td>99.0</td>\n",
       "    </tr>\n",
       "    <tr>\n",
       "      <th>2013-01-03</th>\n",
       "      <td>238</td>\n",
       "      <td>282.924370</td>\n",
       "      <td>0.693277</td>\n",
       "      <td>41.819328</td>\n",
       "      <td>0.436975</td>\n",
       "      <td>257.883045</td>\n",
       "      <td>0.462105</td>\n",
       "      <td>27.278779</td>\n",
       "      <td>0.497057</td>\n",
       "      <td>67336.0</td>\n",
       "      <td>165.0</td>\n",
       "      <td>9953.0</td>\n",
       "      <td>104.0</td>\n",
       "    </tr>\n",
       "  </tbody>\n",
       "</table>\n",
       "</div>"
      ],
      "text/plain": [
       "            COUNT(EDatt)  MEAN(EDatt.wait_time_total)  \\\n",
       "arr_date                                                \n",
       "2013-01-01           312                   209.041667   \n",
       "2013-01-02           257                   260.194553   \n",
       "2013-01-03           238                   282.924370   \n",
       "\n",
       "            MEAN(EDatt.flag_specreq)  MEAN(EDatt.age)  \\\n",
       "arr_date                                                \n",
       "2013-01-01                  0.737179        39.262821   \n",
       "2013-01-02                  0.677043        41.264591   \n",
       "2013-01-03                  0.693277        41.819328   \n",
       "\n",
       "            MEAN(EDatt.flag_admission)  STD(EDatt.wait_time_total)  \\\n",
       "arr_date                                                             \n",
       "2013-01-01                    0.375000                  230.640702   \n",
       "2013-01-02                    0.385214                  227.621004   \n",
       "2013-01-03                    0.436975                  257.883045   \n",
       "\n",
       "            STD(EDatt.flag_specreq)  STD(EDatt.age)  \\\n",
       "arr_date                                              \n",
       "2013-01-01                 0.440873       26.373184   \n",
       "2013-01-02                 0.468519       26.953520   \n",
       "2013-01-03                 0.462105       27.278779   \n",
       "\n",
       "            STD(EDatt.flag_admission)  SUM(EDatt.wait_time_total)  \\\n",
       "arr_date                                                            \n",
       "2013-01-01                   0.484901                     65221.0   \n",
       "2013-01-02                   0.487595                     66870.0   \n",
       "2013-01-03                   0.497057                     67336.0   \n",
       "\n",
       "            SUM(EDatt.flag_specreq)  SUM(EDatt.age)  SUM(EDatt.flag_admission)  \n",
       "arr_date                                                                        \n",
       "2013-01-01                    230.0         12250.0                      117.0  \n",
       "2013-01-02                    174.0         10605.0                       99.0  \n",
       "2013-01-03                    165.0          9953.0                      104.0  "
      ]
     },
     "execution_count": 70,
     "metadata": {},
     "output_type": "execute_result"
    }
   ],
   "source": [
    "fm, features = ft.dfs(entityset=es,\n",
    "                       target_entity='days',\n",
    "                     trans_primitives=[],\n",
    "                     agg_primitives=['count','mean','std','num_true','sum'],\n",
    "#                      cutoff_time=ct,\n",
    "                     )\n",
    "\n",
    "fm.head(3)"
   ]
  },
  {
   "cell_type": "code",
   "execution_count": null,
   "metadata": {},
   "outputs": [],
   "source": []
  },
  {
   "cell_type": "code",
   "execution_count": 71,
   "metadata": {},
   "outputs": [],
   "source": [
    "fm.index = fm.index.shift(1,'d')"
   ]
  },
  {
   "cell_type": "code",
   "execution_count": 72,
   "metadata": {},
   "outputs": [],
   "source": [
    "save_es_as_pickle(fm, features, 'EDprevday')"
   ]
  },
  {
   "cell_type": "code",
   "execution_count": null,
   "metadata": {},
   "outputs": [],
   "source": []
  },
  {
   "cell_type": "code",
   "execution_count": null,
   "metadata": {},
   "outputs": [],
   "source": []
  },
  {
   "cell_type": "code",
   "execution_count": null,
   "metadata": {},
   "outputs": [],
   "source": []
  },
  {
   "cell_type": "code",
   "execution_count": null,
   "metadata": {},
   "outputs": [],
   "source": []
  },
  {
   "cell_type": "code",
   "execution_count": 73,
   "metadata": {},
   "outputs": [
    {
     "ename": "SyntaxError",
     "evalue": "'break' outside loop (<ipython-input-73-6aaf1f276005>, line 1)",
     "output_type": "error",
     "traceback": [
      "\u001b[1;36m  File \u001b[1;32m\"<ipython-input-73-6aaf1f276005>\"\u001b[1;36m, line \u001b[1;32m1\u001b[0m\n\u001b[1;33m    break\u001b[0m\n\u001b[1;37m         ^\u001b[0m\n\u001b[1;31mSyntaxError\u001b[0m\u001b[1;31m:\u001b[0m 'break' outside loop\n"
     ]
    }
   ],
   "source": [
    "break"
   ]
  },
  {
   "cell_type": "code",
   "execution_count": null,
   "metadata": {},
   "outputs": [],
   "source": []
  },
  {
   "cell_type": "code",
   "execution_count": 57,
   "metadata": {},
   "outputs": [
    {
     "data": {
      "text/html": [
       "<div>\n",
       "<style scoped>\n",
       "    .dataframe tbody tr th:only-of-type {\n",
       "        vertical-align: middle;\n",
       "    }\n",
       "\n",
       "    .dataframe tbody tr th {\n",
       "        vertical-align: top;\n",
       "    }\n",
       "\n",
       "    .dataframe thead th {\n",
       "        text-align: right;\n",
       "    }\n",
       "</style>\n",
       "<table border=\"1\" class=\"dataframe\">\n",
       "  <thead>\n",
       "    <tr style=\"text-align: right;\">\n",
       "      <th></th>\n",
       "      <th>COUNT(EDatt)</th>\n",
       "      <th>MEAN(EDatt.wait_time_total)</th>\n",
       "      <th>MEAN(EDatt.age)</th>\n",
       "      <th>STD(EDatt.wait_time_total)</th>\n",
       "      <th>STD(EDatt.age)</th>\n",
       "      <th>SUM(EDatt.wait_time_total)</th>\n",
       "      <th>SUM(EDatt.age)</th>\n",
       "      <th>DAY(first_EDatt_time)</th>\n",
       "      <th>MONTH(first_EDatt_time)</th>\n",
       "    </tr>\n",
       "    <tr>\n",
       "      <th>arr_date</th>\n",
       "      <th></th>\n",
       "      <th></th>\n",
       "      <th></th>\n",
       "      <th></th>\n",
       "      <th></th>\n",
       "      <th></th>\n",
       "      <th></th>\n",
       "      <th></th>\n",
       "      <th></th>\n",
       "    </tr>\n",
       "  </thead>\n",
       "  <tbody>\n",
       "    <tr>\n",
       "      <th>2018-09-01</th>\n",
       "      <td>50</td>\n",
       "      <td>147.842105</td>\n",
       "      <td>43.100000</td>\n",
       "      <td>91.707423</td>\n",
       "      <td>25.160100</td>\n",
       "      <td>2809.0</td>\n",
       "      <td>2155.0</td>\n",
       "      <td>1</td>\n",
       "      <td>9</td>\n",
       "    </tr>\n",
       "    <tr>\n",
       "      <th>2018-09-02</th>\n",
       "      <td>47</td>\n",
       "      <td>161.533333</td>\n",
       "      <td>46.212766</td>\n",
       "      <td>85.856913</td>\n",
       "      <td>25.208639</td>\n",
       "      <td>2423.0</td>\n",
       "      <td>2172.0</td>\n",
       "      <td>2</td>\n",
       "      <td>9</td>\n",
       "    </tr>\n",
       "    <tr>\n",
       "      <th>2018-09-03</th>\n",
       "      <td>37</td>\n",
       "      <td>200.133333</td>\n",
       "      <td>51.945946</td>\n",
       "      <td>88.566252</td>\n",
       "      <td>31.102828</td>\n",
       "      <td>3002.0</td>\n",
       "      <td>1922.0</td>\n",
       "      <td>3</td>\n",
       "      <td>9</td>\n",
       "    </tr>\n",
       "  </tbody>\n",
       "</table>\n",
       "</div>"
      ],
      "text/plain": [
       "            COUNT(EDatt)  MEAN(EDatt.wait_time_total)  MEAN(EDatt.age)  \\\n",
       "arr_date                                                                 \n",
       "2018-09-01            50                   147.842105        43.100000   \n",
       "2018-09-02            47                   161.533333        46.212766   \n",
       "2018-09-03            37                   200.133333        51.945946   \n",
       "\n",
       "            STD(EDatt.wait_time_total)  STD(EDatt.age)  \\\n",
       "arr_date                                                 \n",
       "2018-09-01                   91.707423       25.160100   \n",
       "2018-09-02                   85.856913       25.208639   \n",
       "2018-09-03                   88.566252       31.102828   \n",
       "\n",
       "            SUM(EDatt.wait_time_total)  SUM(EDatt.age)  DAY(first_EDatt_time)  \\\n",
       "arr_date                                                                        \n",
       "2018-09-01                      2809.0          2155.0                      1   \n",
       "2018-09-02                      2423.0          2172.0                      2   \n",
       "2018-09-03                      3002.0          1922.0                      3   \n",
       "\n",
       "            MONTH(first_EDatt_time)  \n",
       "arr_date                             \n",
       "2018-09-01                        9  \n",
       "2018-09-02                        9  \n",
       "2018-09-03                        9  "
      ]
     },
     "execution_count": 57,
     "metadata": {},
     "output_type": "execute_result"
    }
   ],
   "source": [
    "fm.head(3)"
   ]
  },
  {
   "cell_type": "code",
   "execution_count": 57,
   "metadata": {},
   "outputs": [
    {
     "data": {
      "text/html": [
       "<div>\n",
       "<style scoped>\n",
       "    .dataframe tbody tr th:only-of-type {\n",
       "        vertical-align: middle;\n",
       "    }\n",
       "\n",
       "    .dataframe tbody tr th {\n",
       "        vertical-align: top;\n",
       "    }\n",
       "\n",
       "    .dataframe thead th {\n",
       "        text-align: right;\n",
       "    }\n",
       "</style>\n",
       "<table border=\"1\" class=\"dataframe\">\n",
       "  <thead>\n",
       "    <tr style=\"text-align: right;\">\n",
       "      <th></th>\n",
       "      <th>COUNT(EDatt)</th>\n",
       "      <th>MEAN(EDatt.wait_time_total)</th>\n",
       "      <th>MEAN(EDatt.age)</th>\n",
       "      <th>STD(EDatt.wait_time_total)</th>\n",
       "      <th>STD(EDatt.age)</th>\n",
       "      <th>SUM(EDatt.wait_time_total)</th>\n",
       "      <th>SUM(EDatt.age)</th>\n",
       "      <th>DAY(first_EDatt_time)</th>\n",
       "      <th>MONTH(first_EDatt_time)</th>\n",
       "    </tr>\n",
       "    <tr>\n",
       "      <th>arr_date</th>\n",
       "      <th></th>\n",
       "      <th></th>\n",
       "      <th></th>\n",
       "      <th></th>\n",
       "      <th></th>\n",
       "      <th></th>\n",
       "      <th></th>\n",
       "      <th></th>\n",
       "      <th></th>\n",
       "    </tr>\n",
       "  </thead>\n",
       "  <tbody>\n",
       "    <tr>\n",
       "      <th>2018-09-01</th>\n",
       "      <td>50</td>\n",
       "      <td>147.842105</td>\n",
       "      <td>43.100000</td>\n",
       "      <td>91.707423</td>\n",
       "      <td>25.160100</td>\n",
       "      <td>2809.0</td>\n",
       "      <td>2155.0</td>\n",
       "      <td>1</td>\n",
       "      <td>9</td>\n",
       "    </tr>\n",
       "    <tr>\n",
       "      <th>2018-09-02</th>\n",
       "      <td>47</td>\n",
       "      <td>161.533333</td>\n",
       "      <td>46.212766</td>\n",
       "      <td>85.856913</td>\n",
       "      <td>25.208639</td>\n",
       "      <td>2423.0</td>\n",
       "      <td>2172.0</td>\n",
       "      <td>2</td>\n",
       "      <td>9</td>\n",
       "    </tr>\n",
       "    <tr>\n",
       "      <th>2018-09-03</th>\n",
       "      <td>37</td>\n",
       "      <td>200.133333</td>\n",
       "      <td>51.945946</td>\n",
       "      <td>88.566252</td>\n",
       "      <td>31.102828</td>\n",
       "      <td>3002.0</td>\n",
       "      <td>1922.0</td>\n",
       "      <td>3</td>\n",
       "      <td>9</td>\n",
       "    </tr>\n",
       "  </tbody>\n",
       "</table>\n",
       "</div>"
      ],
      "text/plain": [
       "            COUNT(EDatt)  MEAN(EDatt.wait_time_total)  MEAN(EDatt.age)  \\\n",
       "arr_date                                                                 \n",
       "2018-09-01            50                   147.842105        43.100000   \n",
       "2018-09-02            47                   161.533333        46.212766   \n",
       "2018-09-03            37                   200.133333        51.945946   \n",
       "\n",
       "            STD(EDatt.wait_time_total)  STD(EDatt.age)  \\\n",
       "arr_date                                                 \n",
       "2018-09-01                   91.707423       25.160100   \n",
       "2018-09-02                   85.856913       25.208639   \n",
       "2018-09-03                   88.566252       31.102828   \n",
       "\n",
       "            SUM(EDatt.wait_time_total)  SUM(EDatt.age)  DAY(first_EDatt_time)  \\\n",
       "arr_date                                                                        \n",
       "2018-09-01                      2809.0          2155.0                      1   \n",
       "2018-09-02                      2423.0          2172.0                      2   \n",
       "2018-09-03                      3002.0          1922.0                      3   \n",
       "\n",
       "            MONTH(first_EDatt_time)  \n",
       "arr_date                             \n",
       "2018-09-01                        9  \n",
       "2018-09-02                        9  \n",
       "2018-09-03                        9  "
      ]
     },
     "execution_count": 57,
     "metadata": {},
     "output_type": "execute_result"
    }
   ],
   "source": [
    "fm.head(3)"
   ]
  },
  {
   "cell_type": "code",
   "execution_count": null,
   "metadata": {},
   "outputs": [],
   "source": []
  },
  {
   "cell_type": "code",
   "execution_count": 67,
   "metadata": {},
   "outputs": [
    {
     "data": {
      "text/html": [
       "<div>\n",
       "<style scoped>\n",
       "    .dataframe tbody tr th:only-of-type {\n",
       "        vertical-align: middle;\n",
       "    }\n",
       "\n",
       "    .dataframe tbody tr th {\n",
       "        vertical-align: top;\n",
       "    }\n",
       "\n",
       "    .dataframe thead th {\n",
       "        text-align: right;\n",
       "    }\n",
       "</style>\n",
       "<table border=\"1\" class=\"dataframe\">\n",
       "  <thead>\n",
       "    <tr style=\"text-align: right;\">\n",
       "      <th></th>\n",
       "      <th>arr_date</th>\n",
       "      <th>time</th>\n",
       "    </tr>\n",
       "  </thead>\n",
       "  <tbody>\n",
       "    <tr>\n",
       "      <th>0</th>\n",
       "      <td>2018-09-01</td>\n",
       "      <td>2018-09-01</td>\n",
       "    </tr>\n",
       "    <tr>\n",
       "      <th>1</th>\n",
       "      <td>2018-09-02</td>\n",
       "      <td>2018-09-02</td>\n",
       "    </tr>\n",
       "  </tbody>\n",
       "</table>\n",
       "</div>"
      ],
      "text/plain": [
       "     arr_date       time\n",
       "0  2018-09-01 2018-09-01\n",
       "1  2018-09-02 2018-09-02"
      ]
     },
     "execution_count": 67,
     "metadata": {},
     "output_type": "execute_result"
    }
   ],
   "source": [
    "ct2 = ct.copy()\n",
    "ct2.drop('time',axis=1,inplace=True)\n",
    "ct2['time'] = pd.to_datetime(ct['arr_date'])\n",
    "\n",
    "ct2.head(2)"
   ]
  },
  {
   "cell_type": "code",
   "execution_count": 69,
   "metadata": {},
   "outputs": [
    {
     "name": "stdout",
     "output_type": "stream",
     "text": [
      "2019-04-11 11:48:55,199 featuretools.entityset - WARNING    Using training_window but last_time_index is not set on entity days\n",
      "2019-04-11 11:48:55,215 featuretools.entityset - WARNING    Using training_window but last_time_index is not set on entity days\n",
      "2019-04-11 11:48:55,228 featuretools.entityset - WARNING    Using training_window but last_time_index is not set on entity days\n",
      "2019-04-11 11:48:55,245 featuretools.entityset - WARNING    Using training_window but last_time_index is not set on entity days\n",
      "2019-04-11 11:48:55,264 featuretools.entityset - WARNING    Using training_window but last_time_index is not set on entity days\n",
      "2019-04-11 11:48:55,284 featuretools.entityset - WARNING    Using training_window but last_time_index is not set on entity days\n",
      "2019-04-11 11:48:55,297 featuretools.entityset - WARNING    Using training_window but last_time_index is not set on entity days\n",
      "2019-04-11 11:48:55,314 featuretools.entityset - WARNING    Using training_window but last_time_index is not set on entity days\n",
      "2019-04-11 11:48:55,327 featuretools.entityset - WARNING    Using training_window but last_time_index is not set on entity days\n",
      "2019-04-11 11:48:55,347 featuretools.entityset - WARNING    Using training_window but last_time_index is not set on entity days\n",
      "2019-04-11 11:48:55,360 featuretools.entityset - WARNING    Using training_window but last_time_index is not set on entity EDatt\n",
      "2019-04-11 11:48:55,455 featuretools.entityset - WARNING    Using training_window but last_time_index is not set on entity days\n",
      "2019-04-11 11:48:55,469 featuretools.entityset - WARNING    Using training_window but last_time_index is not set on entity days\n",
      "2019-04-11 11:48:55,488 featuretools.entityset - WARNING    Using training_window but last_time_index is not set on entity days\n",
      "2019-04-11 11:48:55,499 featuretools.entityset - WARNING    Using training_window but last_time_index is not set on entity EDatt\n",
      "2019-04-11 11:48:55,550 featuretools.entityset - WARNING    Using training_window but last_time_index is not set on entity days\n",
      "2019-04-11 11:48:55,565 featuretools.entityset - WARNING    Using training_window but last_time_index is not set on entity EDatt\n",
      "2019-04-11 11:48:55,614 featuretools.entityset - WARNING    Using training_window but last_time_index is not set on entity days\n",
      "2019-04-11 11:48:55,630 featuretools.entityset - WARNING    Using training_window but last_time_index is not set on entity days\n",
      "2019-04-11 11:48:55,640 featuretools.entityset - WARNING    Using training_window but last_time_index is not set on entity EDatt\n",
      "2019-04-11 11:48:55,690 featuretools.entityset - WARNING    Using training_window but last_time_index is not set on entity days\n",
      "2019-04-11 11:48:55,710 featuretools.entityset - WARNING    Using training_window but last_time_index is not set on entity days\n",
      "2019-04-11 11:48:55,725 featuretools.entityset - WARNING    Using training_window but last_time_index is not set on entity days\n",
      "2019-04-11 11:48:55,744 featuretools.entityset - WARNING    Using training_window but last_time_index is not set on entity days\n",
      "2019-04-11 11:48:55,812 featuretools.entityset - WARNING    Using training_window but last_time_index is not set on entity days\n",
      "2019-04-11 11:48:55,828 featuretools.entityset - WARNING    Using training_window but last_time_index is not set on entity days\n",
      "2019-04-11 11:48:55,844 featuretools.entityset - WARNING    Using training_window but last_time_index is not set on entity days\n",
      "2019-04-11 11:48:55,861 featuretools.entityset - WARNING    Using training_window but last_time_index is not set on entity days\n",
      "2019-04-11 11:48:55,880 featuretools.entityset - WARNING    Using training_window but last_time_index is not set on entity days\n",
      "2019-04-11 11:48:55,898 featuretools.entityset - WARNING    Using training_window but last_time_index is not set on entity days\n",
      "2019-04-11 11:48:55,914 featuretools.entityset - WARNING    Using training_window but last_time_index is not set on entity days\n",
      "2019-04-11 11:48:55,932 featuretools.entityset - WARNING    Using training_window but last_time_index is not set on entity days\n",
      "2019-04-11 11:48:55,946 featuretools.entityset - WARNING    Using training_window but last_time_index is not set on entity EDatt\n",
      "2019-04-11 11:48:55,988 featuretools.entityset - WARNING    Using training_window but last_time_index is not set on entity days\n",
      "2019-04-11 11:48:56,004 featuretools.entityset - WARNING    Using training_window but last_time_index is not set on entity days\n"
     ]
    },
    {
     "data": {
      "text/html": [
       "<div>\n",
       "<style scoped>\n",
       "    .dataframe tbody tr th:only-of-type {\n",
       "        vertical-align: middle;\n",
       "    }\n",
       "\n",
       "    .dataframe tbody tr th {\n",
       "        vertical-align: top;\n",
       "    }\n",
       "\n",
       "    .dataframe thead th {\n",
       "        text-align: right;\n",
       "    }\n",
       "</style>\n",
       "<table border=\"1\" class=\"dataframe\">\n",
       "  <thead>\n",
       "    <tr style=\"text-align: right;\">\n",
       "      <th></th>\n",
       "      <th>COUNT(EDatt)</th>\n",
       "      <th>MEAN(EDatt.wait_time_total)</th>\n",
       "      <th>MEAN(EDatt.age)</th>\n",
       "      <th>STD(EDatt.wait_time_total)</th>\n",
       "      <th>STD(EDatt.age)</th>\n",
       "      <th>SUM(EDatt.wait_time_total)</th>\n",
       "      <th>SUM(EDatt.age)</th>\n",
       "      <th>DAY(first_EDatt_time)</th>\n",
       "      <th>MONTH(first_EDatt_time)</th>\n",
       "    </tr>\n",
       "    <tr>\n",
       "      <th>arr_date</th>\n",
       "      <th></th>\n",
       "      <th></th>\n",
       "      <th></th>\n",
       "      <th></th>\n",
       "      <th></th>\n",
       "      <th></th>\n",
       "      <th></th>\n",
       "      <th></th>\n",
       "      <th></th>\n",
       "    </tr>\n",
       "  </thead>\n",
       "  <tbody>\n",
       "    <tr>\n",
       "      <th>2018-09-01</th>\n",
       "      <td>0</td>\n",
       "      <td>NaN</td>\n",
       "      <td>NaN</td>\n",
       "      <td>NaN</td>\n",
       "      <td>NaN</td>\n",
       "      <td>0.0</td>\n",
       "      <td>0.0</td>\n",
       "      <td>NaN</td>\n",
       "      <td>NaN</td>\n",
       "    </tr>\n",
       "    <tr>\n",
       "      <th>2018-09-02</th>\n",
       "      <td>0</td>\n",
       "      <td>NaN</td>\n",
       "      <td>NaN</td>\n",
       "      <td>NaN</td>\n",
       "      <td>NaN</td>\n",
       "      <td>0.0</td>\n",
       "      <td>0.0</td>\n",
       "      <td>NaN</td>\n",
       "      <td>NaN</td>\n",
       "    </tr>\n",
       "    <tr>\n",
       "      <th>2018-09-03</th>\n",
       "      <td>0</td>\n",
       "      <td>NaN</td>\n",
       "      <td>NaN</td>\n",
       "      <td>NaN</td>\n",
       "      <td>NaN</td>\n",
       "      <td>0.0</td>\n",
       "      <td>0.0</td>\n",
       "      <td>NaN</td>\n",
       "      <td>NaN</td>\n",
       "    </tr>\n",
       "  </tbody>\n",
       "</table>\n",
       "</div>"
      ],
      "text/plain": [
       "            COUNT(EDatt)  MEAN(EDatt.wait_time_total)  MEAN(EDatt.age)  \\\n",
       "arr_date                                                                 \n",
       "2018-09-01             0                          NaN              NaN   \n",
       "2018-09-02             0                          NaN              NaN   \n",
       "2018-09-03             0                          NaN              NaN   \n",
       "\n",
       "            STD(EDatt.wait_time_total)  STD(EDatt.age)  \\\n",
       "arr_date                                                 \n",
       "2018-09-01                         NaN             NaN   \n",
       "2018-09-02                         NaN             NaN   \n",
       "2018-09-03                         NaN             NaN   \n",
       "\n",
       "            SUM(EDatt.wait_time_total)  SUM(EDatt.age)  DAY(first_EDatt_time)  \\\n",
       "arr_date                                                                        \n",
       "2018-09-01                         0.0             0.0                    NaN   \n",
       "2018-09-02                         0.0             0.0                    NaN   \n",
       "2018-09-03                         0.0             0.0                    NaN   \n",
       "\n",
       "            MONTH(first_EDatt_time)  \n",
       "arr_date                             \n",
       "2018-09-01                      NaN  \n",
       "2018-09-02                      NaN  \n",
       "2018-09-03                      NaN  "
      ]
     },
     "execution_count": 69,
     "metadata": {},
     "output_type": "execute_result"
    }
   ],
   "source": [
    "fm, features = ft.dfs(entityset=es,\n",
    "                       target_entity='days',\n",
    "                     trans_primitives=['day','month'],\n",
    "                     agg_primitives=['count','mean','std','num_true','sum'],\n",
    "                     cutoff_time=ct2,\n",
    "                     training_window = '24h')\n",
    "\n",
    "fm.head(3)"
   ]
  },
  {
   "cell_type": "code",
   "execution_count": null,
   "metadata": {},
   "outputs": [],
   "source": []
  },
  {
   "cell_type": "code",
   "execution_count": null,
   "metadata": {},
   "outputs": [],
   "source": []
  },
  {
   "cell_type": "code",
   "execution_count": 58,
   "metadata": {},
   "outputs": [
    {
     "data": {
      "text/plain": [
       "{'time_leaving_dept_inc_cdu': ['wait_time_total', 'time_leaving_dept_inc_cdu']}"
      ]
     },
     "execution_count": 58,
     "metadata": {},
     "output_type": "execute_result"
    }
   ],
   "source": [
    "es['EDatt'].secondary_time_index"
   ]
  },
  {
   "cell_type": "markdown",
   "metadata": {},
   "source": [
    "fm, features = ft.dfs(entityset=es,\n",
    "                       target_entity='days')"
   ]
  },
  {
   "cell_type": "markdown",
   "metadata": {},
   "source": [
    "fm.head()"
   ]
  },
  {
   "cell_type": "markdown",
   "metadata": {},
   "source": [
    "Cutoff times on attendance ES"
   ]
  },
  {
   "cell_type": "markdown",
   "metadata": {},
   "source": [
    "es.add_last_time_indexes()"
   ]
  },
  {
   "cell_type": "code",
   "execution_count": 21,
   "metadata": {},
   "outputs": [
    {
     "data": {
      "text/html": [
       "<div>\n",
       "<style scoped>\n",
       "    .dataframe tbody tr th:only-of-type {\n",
       "        vertical-align: middle;\n",
       "    }\n",
       "\n",
       "    .dataframe tbody tr th {\n",
       "        vertical-align: top;\n",
       "    }\n",
       "\n",
       "    .dataframe thead th {\n",
       "        text-align: right;\n",
       "    }\n",
       "</style>\n",
       "<table border=\"1\" class=\"dataframe\">\n",
       "  <thead>\n",
       "    <tr style=\"text-align: right;\">\n",
       "      <th></th>\n",
       "      <th>pseudo_patient_number</th>\n",
       "      <th>attendance_number</th>\n",
       "      <th>age</th>\n",
       "      <th>gender</th>\n",
       "      <th>department</th>\n",
       "      <th>site_attended</th>\n",
       "      <th>arrival</th>\n",
       "      <th>arrival_mode</th>\n",
       "      <th>arrival_mode_desc</th>\n",
       "      <th>1st_time_triaged_[datetime]</th>\n",
       "      <th>...</th>\n",
       "      <th>time_leaving_dept_inc_cdu</th>\n",
       "      <th>admission_flag</th>\n",
       "      <th>majorsminorsresus_patient</th>\n",
       "      <th>triage_category</th>\n",
       "      <th>flag_admission</th>\n",
       "      <th>flag_bedreq</th>\n",
       "      <th>flag_specreq</th>\n",
       "      <th>flag_cdu</th>\n",
       "      <th>wait_time_total</th>\n",
       "      <th>arr_date</th>\n",
       "    </tr>\n",
       "  </thead>\n",
       "  <tbody>\n",
       "    <tr>\n",
       "      <th>1078924</th>\n",
       "      <td>400848001421</td>\n",
       "      <td>91807209801</td>\n",
       "      <td>52.0</td>\n",
       "      <td>M</td>\n",
       "      <td>Main ED</td>\n",
       "      <td>Main ED</td>\n",
       "      <td>2018-09-01 00:07:00</td>\n",
       "      <td>Patient arranged own transport / walk-in</td>\n",
       "      <td>OTHER</td>\n",
       "      <td>01-SEP-18 00:26</td>\n",
       "      <td>...</td>\n",
       "      <td>2018-09-01 00:43:00</td>\n",
       "      <td>N</td>\n",
       "      <td>NaN</td>\n",
       "      <td>URGENT</td>\n",
       "      <td>0</td>\n",
       "      <td>1</td>\n",
       "      <td>1</td>\n",
       "      <td>1</td>\n",
       "      <td>36.0</td>\n",
       "      <td>2018-09-01</td>\n",
       "    </tr>\n",
       "  </tbody>\n",
       "</table>\n",
       "<p>1 rows × 25 columns</p>\n",
       "</div>"
      ],
      "text/plain": [
       "        pseudo_patient_number  attendance_number   age gender department  \\\n",
       "1078924          400848001421        91807209801  52.0      M    Main ED   \n",
       "\n",
       "        site_attended             arrival  \\\n",
       "1078924       Main ED 2018-09-01 00:07:00   \n",
       "\n",
       "                                     arrival_mode arrival_mode_desc  \\\n",
       "1078924  Patient arranged own transport / walk-in             OTHER   \n",
       "\n",
       "        1st_time_triaged_[datetime]     ...     time_leaving_dept_inc_cdu  \\\n",
       "1078924             01-SEP-18 00:26     ...           2018-09-01 00:43:00   \n",
       "\n",
       "        admission_flag majorsminorsresus_patient triage_category  \\\n",
       "1078924              N                       NaN          URGENT   \n",
       "\n",
       "        flag_admission flag_bedreq flag_specreq flag_cdu wait_time_total  \\\n",
       "1078924              0           1            1        1            36.0   \n",
       "\n",
       "           arr_date  \n",
       "1078924  2018-09-01  \n",
       "\n",
       "[1 rows x 25 columns]"
      ]
     },
     "execution_count": 21,
     "metadata": {},
     "output_type": "execute_result"
    }
   ],
   "source": [
    "ED[ED.attendance_number == 91807209801]"
   ]
  },
  {
   "cell_type": "code",
   "execution_count": 22,
   "metadata": {},
   "outputs": [],
   "source": [
    "ct = pd.DataFrame()\n",
    "\n",
    "# ct['arr_date'] = [pd.datetime(2018,9,3,0,0)]\n",
    "ct['attendance_number'] = [91807209801]\n",
    "\n",
    "ct['time'] = pd.to_datetime(['2018-09-3 00:07'])"
   ]
  },
  {
   "cell_type": "code",
   "execution_count": 23,
   "metadata": {},
   "outputs": [
    {
     "data": {
      "text/plain": [
       "Entity: EDatt\n",
       "  Variables:\n",
       "    attendance_number (dtype: index)\n",
       "    time_leaving_dept_inc_cdu (dtype: datetime)\n",
       "    wait_time_total (dtype: numeric)\n",
       "    arrival (dtype: datetime_time_index)\n",
       "    arr_date (dtype: datetime)\n",
       "    pseudo_patient_number (dtype: id)\n",
       "    age (dtype: numeric)\n",
       "    gender (dtype: categorical)\n",
       "    admission_flag (dtype: categorical)\n",
       "    flag_bedreq (dtype: categorical)\n",
       "    flag_specreq (dtype: categorical)\n",
       "    flag_cdu (dtype: categorical)\n",
       "  Shape:\n",
       "    (Rows: 9025, Columns: 12)"
      ]
     },
     "execution_count": 23,
     "metadata": {},
     "output_type": "execute_result"
    }
   ],
   "source": [
    "es['EDatt']"
   ]
  },
  {
   "cell_type": "code",
   "execution_count": 32,
   "metadata": {},
   "outputs": [
    {
     "data": {
      "text/html": [
       "<div>\n",
       "<style scoped>\n",
       "    .dataframe tbody tr th:only-of-type {\n",
       "        vertical-align: middle;\n",
       "    }\n",
       "\n",
       "    .dataframe tbody tr th {\n",
       "        vertical-align: top;\n",
       "    }\n",
       "\n",
       "    .dataframe thead th {\n",
       "        text-align: right;\n",
       "    }\n",
       "</style>\n",
       "<table border=\"1\" class=\"dataframe\">\n",
       "  <thead>\n",
       "    <tr style=\"text-align: right;\">\n",
       "      <th></th>\n",
       "      <th>pseudo_patient_number</th>\n",
       "      <th>age</th>\n",
       "      <th>gender</th>\n",
       "      <th>flag_cdu</th>\n",
       "      <th>DAY(time_leaving_dept_inc_cdu)</th>\n",
       "      <th>DAY(arrival)</th>\n",
       "      <th>DAY(arr_date)</th>\n",
       "      <th>YEAR(time_leaving_dept_inc_cdu)</th>\n",
       "      <th>YEAR(arrival)</th>\n",
       "      <th>YEAR(arr_date)</th>\n",
       "      <th>MONTH(time_leaving_dept_inc_cdu)</th>\n",
       "      <th>MONTH(arrival)</th>\n",
       "      <th>MONTH(arr_date)</th>\n",
       "      <th>WEEKDAY(time_leaving_dept_inc_cdu)</th>\n",
       "      <th>WEEKDAY(arrival)</th>\n",
       "      <th>WEEKDAY(arr_date)</th>\n",
       "    </tr>\n",
       "    <tr>\n",
       "      <th>attendance_number</th>\n",
       "      <th></th>\n",
       "      <th></th>\n",
       "      <th></th>\n",
       "      <th></th>\n",
       "      <th></th>\n",
       "      <th></th>\n",
       "      <th></th>\n",
       "      <th></th>\n",
       "      <th></th>\n",
       "      <th></th>\n",
       "      <th></th>\n",
       "      <th></th>\n",
       "      <th></th>\n",
       "      <th></th>\n",
       "      <th></th>\n",
       "      <th></th>\n",
       "    </tr>\n",
       "  </thead>\n",
       "  <tbody>\n",
       "    <tr>\n",
       "      <th>91807184702</th>\n",
       "      <td>231525311101</td>\n",
       "      <td>30.0</td>\n",
       "      <td>F</td>\n",
       "      <td>0</td>\n",
       "      <td>5</td>\n",
       "      <td>5</td>\n",
       "      <td>5</td>\n",
       "      <td>2018</td>\n",
       "      <td>2018</td>\n",
       "      <td>2018</td>\n",
       "      <td>9</td>\n",
       "      <td>9</td>\n",
       "      <td>9</td>\n",
       "      <td>2</td>\n",
       "      <td>2</td>\n",
       "      <td>2</td>\n",
       "    </tr>\n",
       "    <tr>\n",
       "      <th>91807209801</th>\n",
       "      <td>400848001421</td>\n",
       "      <td>52.0</td>\n",
       "      <td>M</td>\n",
       "      <td>1</td>\n",
       "      <td>1</td>\n",
       "      <td>1</td>\n",
       "      <td>1</td>\n",
       "      <td>2018</td>\n",
       "      <td>2018</td>\n",
       "      <td>2018</td>\n",
       "      <td>9</td>\n",
       "      <td>9</td>\n",
       "      <td>9</td>\n",
       "      <td>5</td>\n",
       "      <td>5</td>\n",
       "      <td>5</td>\n",
       "    </tr>\n",
       "    <tr>\n",
       "      <th>91807209901</th>\n",
       "      <td>874787747747</td>\n",
       "      <td>41.0</td>\n",
       "      <td>M</td>\n",
       "      <td>1</td>\n",
       "      <td>1</td>\n",
       "      <td>1</td>\n",
       "      <td>1</td>\n",
       "      <td>2018</td>\n",
       "      <td>2018</td>\n",
       "      <td>2018</td>\n",
       "      <td>9</td>\n",
       "      <td>9</td>\n",
       "      <td>9</td>\n",
       "      <td>5</td>\n",
       "      <td>5</td>\n",
       "      <td>5</td>\n",
       "    </tr>\n",
       "    <tr>\n",
       "      <th>91807210001</th>\n",
       "      <td>644767444724</td>\n",
       "      <td>31.0</td>\n",
       "      <td>F</td>\n",
       "      <td>1</td>\n",
       "      <td>1</td>\n",
       "      <td>1</td>\n",
       "      <td>1</td>\n",
       "      <td>2018</td>\n",
       "      <td>2018</td>\n",
       "      <td>2018</td>\n",
       "      <td>9</td>\n",
       "      <td>9</td>\n",
       "      <td>9</td>\n",
       "      <td>5</td>\n",
       "      <td>5</td>\n",
       "      <td>5</td>\n",
       "    </tr>\n",
       "    <tr>\n",
       "      <th>91807210101</th>\n",
       "      <td>774474742172</td>\n",
       "      <td>70.0</td>\n",
       "      <td>M</td>\n",
       "      <td>1</td>\n",
       "      <td>1</td>\n",
       "      <td>1</td>\n",
       "      <td>1</td>\n",
       "      <td>2018</td>\n",
       "      <td>2018</td>\n",
       "      <td>2018</td>\n",
       "      <td>9</td>\n",
       "      <td>9</td>\n",
       "      <td>9</td>\n",
       "      <td>5</td>\n",
       "      <td>5</td>\n",
       "      <td>5</td>\n",
       "    </tr>\n",
       "  </tbody>\n",
       "</table>\n",
       "</div>"
      ],
      "text/plain": [
       "                  pseudo_patient_number   age gender  flag_cdu  \\\n",
       "attendance_number                                                \n",
       "91807184702                231525311101  30.0      F         0   \n",
       "91807209801                400848001421  52.0      M         1   \n",
       "91807209901                874787747747  41.0      M         1   \n",
       "91807210001                644767444724  31.0      F         1   \n",
       "91807210101                774474742172  70.0      M         1   \n",
       "\n",
       "                   DAY(time_leaving_dept_inc_cdu)  DAY(arrival)  \\\n",
       "attendance_number                                                 \n",
       "91807184702                                     5             5   \n",
       "91807209801                                     1             1   \n",
       "91807209901                                     1             1   \n",
       "91807210001                                     1             1   \n",
       "91807210101                                     1             1   \n",
       "\n",
       "                   DAY(arr_date)  YEAR(time_leaving_dept_inc_cdu)  \\\n",
       "attendance_number                                                   \n",
       "91807184702                    5                             2018   \n",
       "91807209801                    1                             2018   \n",
       "91807209901                    1                             2018   \n",
       "91807210001                    1                             2018   \n",
       "91807210101                    1                             2018   \n",
       "\n",
       "                   YEAR(arrival)  YEAR(arr_date)  \\\n",
       "attendance_number                                  \n",
       "91807184702                 2018            2018   \n",
       "91807209801                 2018            2018   \n",
       "91807209901                 2018            2018   \n",
       "91807210001                 2018            2018   \n",
       "91807210101                 2018            2018   \n",
       "\n",
       "                   MONTH(time_leaving_dept_inc_cdu)  MONTH(arrival)  \\\n",
       "attendance_number                                                     \n",
       "91807184702                                       9               9   \n",
       "91807209801                                       9               9   \n",
       "91807209901                                       9               9   \n",
       "91807210001                                       9               9   \n",
       "91807210101                                       9               9   \n",
       "\n",
       "                   MONTH(arr_date)  WEEKDAY(time_leaving_dept_inc_cdu)  \\\n",
       "attendance_number                                                        \n",
       "91807184702                      9                                   2   \n",
       "91807209801                      9                                   5   \n",
       "91807209901                      9                                   5   \n",
       "91807210001                      9                                   5   \n",
       "91807210101                      9                                   5   \n",
       "\n",
       "                   WEEKDAY(arrival)  WEEKDAY(arr_date)  \n",
       "attendance_number                                       \n",
       "91807184702                       2                  2  \n",
       "91807209801                       5                  5  \n",
       "91807209901                       5                  5  \n",
       "91807210001                       5                  5  \n",
       "91807210101                       5                  5  "
      ]
     },
     "execution_count": 32,
     "metadata": {},
     "output_type": "execute_result"
    }
   ],
   "source": [
    "fm, features = ft.dfs(entityset=es,\n",
    "                       target_entity='EDatt',\n",
    "#                        cutoff_time=ct,\n",
    "#                       cutoff_time_in_index=True, # just adds the cuttoff time to fm, if non given in ct df then its taken as now\n",
    "#                      training_window=\"48 hours\",\n",
    "                     )\n",
    " \n",
    "\n",
    "fm.head()"
   ]
  },
  {
   "cell_type": "code",
   "execution_count": 34,
   "metadata": {},
   "outputs": [
    {
     "data": {
      "text/html": [
       "<div>\n",
       "<style scoped>\n",
       "    .dataframe tbody tr th:only-of-type {\n",
       "        vertical-align: middle;\n",
       "    }\n",
       "\n",
       "    .dataframe tbody tr th {\n",
       "        vertical-align: top;\n",
       "    }\n",
       "\n",
       "    .dataframe thead th {\n",
       "        text-align: right;\n",
       "    }\n",
       "</style>\n",
       "<table border=\"1\" class=\"dataframe\">\n",
       "  <thead>\n",
       "    <tr style=\"text-align: right;\">\n",
       "      <th></th>\n",
       "      <th></th>\n",
       "      <th>pseudo_patient_number</th>\n",
       "      <th>age</th>\n",
       "      <th>gender</th>\n",
       "      <th>flag_cdu</th>\n",
       "      <th>DAY(time_leaving_dept_inc_cdu)</th>\n",
       "      <th>DAY(arrival)</th>\n",
       "      <th>DAY(arr_date)</th>\n",
       "      <th>YEAR(time_leaving_dept_inc_cdu)</th>\n",
       "      <th>YEAR(arrival)</th>\n",
       "      <th>YEAR(arr_date)</th>\n",
       "      <th>MONTH(time_leaving_dept_inc_cdu)</th>\n",
       "      <th>MONTH(arrival)</th>\n",
       "      <th>MONTH(arr_date)</th>\n",
       "      <th>WEEKDAY(time_leaving_dept_inc_cdu)</th>\n",
       "      <th>WEEKDAY(arrival)</th>\n",
       "      <th>WEEKDAY(arr_date)</th>\n",
       "    </tr>\n",
       "    <tr>\n",
       "      <th>attendance_number</th>\n",
       "      <th>time</th>\n",
       "      <th></th>\n",
       "      <th></th>\n",
       "      <th></th>\n",
       "      <th></th>\n",
       "      <th></th>\n",
       "      <th></th>\n",
       "      <th></th>\n",
       "      <th></th>\n",
       "      <th></th>\n",
       "      <th></th>\n",
       "      <th></th>\n",
       "      <th></th>\n",
       "      <th></th>\n",
       "      <th></th>\n",
       "      <th></th>\n",
       "      <th></th>\n",
       "    </tr>\n",
       "  </thead>\n",
       "  <tbody>\n",
       "    <tr>\n",
       "      <th>91807209801</th>\n",
       "      <th>2018-09-03 00:07:00</th>\n",
       "      <td>400848001421</td>\n",
       "      <td>52.0</td>\n",
       "      <td>M</td>\n",
       "      <td>1</td>\n",
       "      <td>1</td>\n",
       "      <td>1</td>\n",
       "      <td>1</td>\n",
       "      <td>2018</td>\n",
       "      <td>2018</td>\n",
       "      <td>2018</td>\n",
       "      <td>9</td>\n",
       "      <td>9</td>\n",
       "      <td>9</td>\n",
       "      <td>5</td>\n",
       "      <td>5</td>\n",
       "      <td>5</td>\n",
       "    </tr>\n",
       "  </tbody>\n",
       "</table>\n",
       "</div>"
      ],
      "text/plain": [
       "                                      pseudo_patient_number   age gender  \\\n",
       "attendance_number time                                                     \n",
       "91807209801       2018-09-03 00:07:00          400848001421  52.0      M   \n",
       "\n",
       "                                       flag_cdu  \\\n",
       "attendance_number time                            \n",
       "91807209801       2018-09-03 00:07:00         1   \n",
       "\n",
       "                                       DAY(time_leaving_dept_inc_cdu)  \\\n",
       "attendance_number time                                                  \n",
       "91807209801       2018-09-03 00:07:00                               1   \n",
       "\n",
       "                                       DAY(arrival)  DAY(arr_date)  \\\n",
       "attendance_number time                                               \n",
       "91807209801       2018-09-03 00:07:00             1              1   \n",
       "\n",
       "                                       YEAR(time_leaving_dept_inc_cdu)  \\\n",
       "attendance_number time                                                   \n",
       "91807209801       2018-09-03 00:07:00                             2018   \n",
       "\n",
       "                                       YEAR(arrival)  YEAR(arr_date)  \\\n",
       "attendance_number time                                                 \n",
       "91807209801       2018-09-03 00:07:00           2018            2018   \n",
       "\n",
       "                                       MONTH(time_leaving_dept_inc_cdu)  \\\n",
       "attendance_number time                                                    \n",
       "91807209801       2018-09-03 00:07:00                                 9   \n",
       "\n",
       "                                       MONTH(arrival)  MONTH(arr_date)  \\\n",
       "attendance_number time                                                   \n",
       "91807209801       2018-09-03 00:07:00               9                9   \n",
       "\n",
       "                                       WEEKDAY(time_leaving_dept_inc_cdu)  \\\n",
       "attendance_number time                                                      \n",
       "91807209801       2018-09-03 00:07:00                                   5   \n",
       "\n",
       "                                       WEEKDAY(arrival)  WEEKDAY(arr_date)  \n",
       "attendance_number time                                                      \n",
       "91807209801       2018-09-03 00:07:00                 5                  5  "
      ]
     },
     "execution_count": 34,
     "metadata": {},
     "output_type": "execute_result"
    }
   ],
   "source": [
    "fm, features = ft.dfs(entityset=es,\n",
    "                       target_entity='EDatt',\n",
    "                       cutoff_time=ct,\n",
    "                      cutoff_time_in_index=True, # just adds the cuttoff time to fm\n",
    "                     training_window=\"48 hours\",\n",
    "                     )\n",
    " \n",
    "\n",
    "fm"
   ]
  },
  {
   "cell_type": "code",
   "execution_count": null,
   "metadata": {},
   "outputs": [],
   "source": []
  },
  {
   "cell_type": "code",
   "execution_count": 132,
   "metadata": {},
   "outputs": [],
   "source": [
    "ct = pd.DataFrame()\n",
    "\n",
    "ct['arr_date'] = [pd.datetime(2018,9,3,0,0)]\n",
    "\n",
    "ct['time'] = pd.to_datetime(['2018-09-02 06:00'])"
   ]
  },
  {
   "cell_type": "code",
   "execution_count": 134,
   "metadata": {},
   "outputs": [
    {
     "data": {
      "text/html": [
       "<div>\n",
       "<style scoped>\n",
       "    .dataframe tbody tr th:only-of-type {\n",
       "        vertical-align: middle;\n",
       "    }\n",
       "\n",
       "    .dataframe tbody tr th {\n",
       "        vertical-align: top;\n",
       "    }\n",
       "\n",
       "    .dataframe thead th {\n",
       "        text-align: right;\n",
       "    }\n",
       "</style>\n",
       "<table border=\"1\" class=\"dataframe\">\n",
       "  <thead>\n",
       "    <tr style=\"text-align: right;\">\n",
       "      <th></th>\n",
       "      <th>arr_date</th>\n",
       "      <th>time</th>\n",
       "    </tr>\n",
       "  </thead>\n",
       "  <tbody>\n",
       "    <tr>\n",
       "      <th>0</th>\n",
       "      <td>2018-09-03</td>\n",
       "      <td>2018-09-02 06:00:00</td>\n",
       "    </tr>\n",
       "  </tbody>\n",
       "</table>\n",
       "</div>"
      ],
      "text/plain": [
       "    arr_date                time\n",
       "0 2018-09-03 2018-09-02 06:00:00"
      ]
     },
     "execution_count": 134,
     "metadata": {},
     "output_type": "execute_result"
    }
   ],
   "source": [
    "ct"
   ]
  },
  {
   "cell_type": "code",
   "execution_count": 131,
   "metadata": {},
   "outputs": [
    {
     "data": {
      "text/html": [
       "<div>\n",
       "<style scoped>\n",
       "    .dataframe tbody tr th:only-of-type {\n",
       "        vertical-align: middle;\n",
       "    }\n",
       "\n",
       "    .dataframe tbody tr th {\n",
       "        vertical-align: top;\n",
       "    }\n",
       "\n",
       "    .dataframe thead th {\n",
       "        text-align: right;\n",
       "    }\n",
       "</style>\n",
       "<table border=\"1\" class=\"dataframe\">\n",
       "  <thead>\n",
       "    <tr style=\"text-align: right;\">\n",
       "      <th></th>\n",
       "      <th></th>\n",
       "      <th>SUM(EDatt.wait_time_total)</th>\n",
       "      <th>SUM(EDatt.age)</th>\n",
       "      <th>STD(EDatt.wait_time_total)</th>\n",
       "      <th>STD(EDatt.age)</th>\n",
       "      <th>MAX(EDatt.wait_time_total)</th>\n",
       "      <th>MAX(EDatt.age)</th>\n",
       "      <th>SKEW(EDatt.wait_time_total)</th>\n",
       "      <th>SKEW(EDatt.age)</th>\n",
       "      <th>MIN(EDatt.wait_time_total)</th>\n",
       "      <th>MIN(EDatt.age)</th>\n",
       "      <th>...</th>\n",
       "      <th>NUM_UNIQUE(EDatt.WEEKDAY(time_leaving_dept_inc_cdu))</th>\n",
       "      <th>NUM_UNIQUE(EDatt.WEEKDAY(arrival))</th>\n",
       "      <th>MODE(EDatt.DAY(time_leaving_dept_inc_cdu))</th>\n",
       "      <th>MODE(EDatt.DAY(arrival))</th>\n",
       "      <th>MODE(EDatt.YEAR(time_leaving_dept_inc_cdu))</th>\n",
       "      <th>MODE(EDatt.YEAR(arrival))</th>\n",
       "      <th>MODE(EDatt.MONTH(time_leaving_dept_inc_cdu))</th>\n",
       "      <th>MODE(EDatt.MONTH(arrival))</th>\n",
       "      <th>MODE(EDatt.WEEKDAY(time_leaving_dept_inc_cdu))</th>\n",
       "      <th>MODE(EDatt.WEEKDAY(arrival))</th>\n",
       "    </tr>\n",
       "    <tr>\n",
       "      <th>arr_date</th>\n",
       "      <th>time</th>\n",
       "      <th></th>\n",
       "      <th></th>\n",
       "      <th></th>\n",
       "      <th></th>\n",
       "      <th></th>\n",
       "      <th></th>\n",
       "      <th></th>\n",
       "      <th></th>\n",
       "      <th></th>\n",
       "      <th></th>\n",
       "      <th></th>\n",
       "      <th></th>\n",
       "      <th></th>\n",
       "      <th></th>\n",
       "      <th></th>\n",
       "      <th></th>\n",
       "      <th></th>\n",
       "      <th></th>\n",
       "      <th></th>\n",
       "      <th></th>\n",
       "      <th></th>\n",
       "    </tr>\n",
       "  </thead>\n",
       "  <tbody>\n",
       "    <tr>\n",
       "      <th>2018-09-03</th>\n",
       "      <th>2018-09-02 06:00:00</th>\n",
       "      <td>0</td>\n",
       "      <td>0</td>\n",
       "      <td>NaN</td>\n",
       "      <td>NaN</td>\n",
       "      <td>NaN</td>\n",
       "      <td>NaN</td>\n",
       "      <td>NaN</td>\n",
       "      <td>NaN</td>\n",
       "      <td>NaN</td>\n",
       "      <td>NaN</td>\n",
       "      <td>...</td>\n",
       "      <td>NaN</td>\n",
       "      <td>NaN</td>\n",
       "      <td>NaN</td>\n",
       "      <td>NaN</td>\n",
       "      <td>NaN</td>\n",
       "      <td>NaN</td>\n",
       "      <td>NaN</td>\n",
       "      <td>NaN</td>\n",
       "      <td>NaN</td>\n",
       "      <td>NaN</td>\n",
       "    </tr>\n",
       "  </tbody>\n",
       "</table>\n",
       "<p>1 rows × 41 columns</p>\n",
       "</div>"
      ],
      "text/plain": [
       "                                SUM(EDatt.wait_time_total)  SUM(EDatt.age)  \\\n",
       "arr_date   time                                                              \n",
       "2018-09-03 2018-09-02 06:00:00                           0               0   \n",
       "\n",
       "                                STD(EDatt.wait_time_total)  STD(EDatt.age)  \\\n",
       "arr_date   time                                                              \n",
       "2018-09-03 2018-09-02 06:00:00                         NaN             NaN   \n",
       "\n",
       "                                MAX(EDatt.wait_time_total)  MAX(EDatt.age)  \\\n",
       "arr_date   time                                                              \n",
       "2018-09-03 2018-09-02 06:00:00                         NaN             NaN   \n",
       "\n",
       "                                SKEW(EDatt.wait_time_total)  SKEW(EDatt.age)  \\\n",
       "arr_date   time                                                                \n",
       "2018-09-03 2018-09-02 06:00:00                          NaN              NaN   \n",
       "\n",
       "                                MIN(EDatt.wait_time_total)  MIN(EDatt.age)  \\\n",
       "arr_date   time                                                              \n",
       "2018-09-03 2018-09-02 06:00:00                         NaN             NaN   \n",
       "\n",
       "                                            ...               \\\n",
       "arr_date   time                             ...                \n",
       "2018-09-03 2018-09-02 06:00:00              ...                \n",
       "\n",
       "                                NUM_UNIQUE(EDatt.WEEKDAY(time_leaving_dept_inc_cdu))  \\\n",
       "arr_date   time                                                                        \n",
       "2018-09-03 2018-09-02 06:00:00                                                NaN      \n",
       "\n",
       "                                NUM_UNIQUE(EDatt.WEEKDAY(arrival))  \\\n",
       "arr_date   time                                                      \n",
       "2018-09-03 2018-09-02 06:00:00                                 NaN   \n",
       "\n",
       "                                MODE(EDatt.DAY(time_leaving_dept_inc_cdu))  \\\n",
       "arr_date   time                                                              \n",
       "2018-09-03 2018-09-02 06:00:00                                         NaN   \n",
       "\n",
       "                                MODE(EDatt.DAY(arrival))  \\\n",
       "arr_date   time                                            \n",
       "2018-09-03 2018-09-02 06:00:00                       NaN   \n",
       "\n",
       "                                MODE(EDatt.YEAR(time_leaving_dept_inc_cdu))  \\\n",
       "arr_date   time                                                               \n",
       "2018-09-03 2018-09-02 06:00:00                                          NaN   \n",
       "\n",
       "                                MODE(EDatt.YEAR(arrival))  \\\n",
       "arr_date   time                                             \n",
       "2018-09-03 2018-09-02 06:00:00                        NaN   \n",
       "\n",
       "                                MODE(EDatt.MONTH(time_leaving_dept_inc_cdu))  \\\n",
       "arr_date   time                                                                \n",
       "2018-09-03 2018-09-02 06:00:00                                           NaN   \n",
       "\n",
       "                                MODE(EDatt.MONTH(arrival))  \\\n",
       "arr_date   time                                              \n",
       "2018-09-03 2018-09-02 06:00:00                         NaN   \n",
       "\n",
       "                                MODE(EDatt.WEEKDAY(time_leaving_dept_inc_cdu))  \\\n",
       "arr_date   time                                                                  \n",
       "2018-09-03 2018-09-02 06:00:00                                             NaN   \n",
       "\n",
       "                                MODE(EDatt.WEEKDAY(arrival))  \n",
       "arr_date   time                                               \n",
       "2018-09-03 2018-09-02 06:00:00                           NaN  \n",
       "\n",
       "[1 rows x 41 columns]"
      ]
     },
     "execution_count": 131,
     "metadata": {},
     "output_type": "execute_result"
    }
   ],
   "source": [
    "fm, features = ft.dfs(entityset=es,\n",
    "                       target_entity='EDatt',\n",
    "                       cutoff_time=ct,\n",
    "                      cutoff_time_in_index=True,\n",
    "                     training_window=\"24 hours\",\n",
    "                     )\n",
    " \n",
    "\n",
    "fm"
   ]
  },
  {
   "cell_type": "code",
   "execution_count": 108,
   "metadata": {},
   "outputs": [
    {
     "data": {
      "text/plain": [
       "Entity: days\n",
       "  Variables:\n",
       "    arr_date (dtype: index)\n",
       "  Shape:\n",
       "    (Rows: 30, Columns: 1)"
      ]
     },
     "execution_count": 108,
     "metadata": {},
     "output_type": "execute_result"
    }
   ],
   "source": [
    "es['days']"
   ]
  },
  {
   "cell_type": "code",
   "execution_count": null,
   "metadata": {},
   "outputs": [],
   "source": []
  },
  {
   "cell_type": "markdown",
   "metadata": {},
   "source": [
    "# save out basic entities as pkl"
   ]
  },
  {
   "cell_type": "markdown",
   "metadata": {},
   "source": [
    "es.to_pickle(pickle_path)"
   ]
  },
  {
   "cell_type": "code",
   "execution_count": 33,
   "metadata": {},
   "outputs": [
    {
     "ename": "SyntaxError",
     "evalue": "'break' outside loop (<ipython-input-33-6aaf1f276005>, line 1)",
     "output_type": "error",
     "traceback": [
      "\u001b[1;36m  File \u001b[1;32m\"<ipython-input-33-6aaf1f276005>\"\u001b[1;36m, line \u001b[1;32m1\u001b[0m\n\u001b[1;33m    break\u001b[0m\n\u001b[1;37m         ^\u001b[0m\n\u001b[1;31mSyntaxError\u001b[0m\u001b[1;31m:\u001b[0m 'break' outside loop\n"
     ]
    }
   ],
   "source": [
    "break"
   ]
  },
  {
   "cell_type": "markdown",
   "metadata": {},
   "source": [
    "# Create day features with cuttoffs for different times of day"
   ]
  },
  {
   "cell_type": "code",
   "execution_count": null,
   "metadata": {},
   "outputs": [],
   "source": [
    "es"
   ]
  },
  {
   "cell_type": "code",
   "execution_count": null,
   "metadata": {},
   "outputs": [],
   "source": []
  },
  {
   "cell_type": "code",
   "execution_count": null,
   "metadata": {},
   "outputs": [],
   "source": []
  },
  {
   "cell_type": "code",
   "execution_count": null,
   "metadata": {},
   "outputs": [],
   "source": []
  },
  {
   "cell_type": "markdown",
   "metadata": {},
   "source": [
    "### create hourly - atten_no realationship"
   ]
  },
  {
   "cell_type": "code",
   "execution_count": null,
   "metadata": {},
   "outputs": [],
   "source": [
    "hrly_atten_rel = es['EDatt'].df[['arrival','time_leaving_dept_inc_cdu']]\n",
    "hrly_atten_rel['arrival'] = hrly_atten_rel['arrival'].apply(lambda x : x.replace(second=0,minute=0)) # round arrival hour down\n",
    "hrly_atten_rel['time_leaving_dept_inc_cdu'] = hrly_atten_rel['time_leaving_dept_inc_cdu'].apply(lambda x : x.replace(second=0,minute=0)) +pd.Timedelta(hours=1) # round leaving tim up\n",
    "hrly_atten_rel.head()"
   ]
  },
  {
   "cell_type": "code",
   "execution_count": null,
   "metadata": {},
   "outputs": [],
   "source": [
    "hrly_atten_rel.head()"
   ]
  },
  {
   "cell_type": "code",
   "execution_count": null,
   "metadata": {},
   "outputs": [],
   "source": [
    "hrly_atten_rel['n_hours'] = ((hrly_atten_rel['time_leaving_dept_inc_cdu'] - hrly_atten_rel['arrival'])/pd.Timedelta(1,'h')).astype(int)"
   ]
  },
  {
   "cell_type": "code",
   "execution_count": null,
   "metadata": {},
   "outputs": [],
   "source": [
    "hrly_atten_rel.head()"
   ]
  },
  {
   "cell_type": "code",
   "execution_count": null,
   "metadata": {},
   "outputs": [],
   "source": [
    "import itertools"
   ]
  },
  {
   "cell_type": "code",
   "execution_count": null,
   "metadata": {},
   "outputs": [],
   "source": [
    "#### create a (long format) list of links between attendance numbers and \n",
    "#%%timeit\n",
    "\n",
    "\n",
    "\n",
    "# function for list comp which finds list of datetimes (for each hour)\n",
    "date_func = lambda datetime , offset : datetime + pd.Timedelta(offset,'h')\n",
    "\n",
    "# iterate over rows in df\n",
    "sample = hrly_atten_rel.head()\n",
    "sample = sample.reset_index()\n",
    "\n",
    "ids = np.empty(shape=(sample['n_hours'].sum()),dtype='int64') # initilise array - change to np.empty() to speed up\n",
    "timestamps = np.empty(shape=(sample['n_hours'].sum()),dtype='datetime64[s]')\n",
    "row_count = 0\n",
    "\n",
    "for row in sample.itertuples():\n",
    "    atten_id = [row[1]]\n",
    "    hour_list = [date_func(row[2],i) for i in np.arange(row[4])] # creates list of hour datetimes\n",
    "    \n",
    "    # create array of list for all combinations of timestamp\n",
    "    for i in itertools.product(atten_id,hour_list):\n",
    "        ids[row_count] = i[0] # assign patient numbers\n",
    "        timestamps[row_count] = i[1]\n",
    "        row_count += 1 # add to row count for new array\n",
    "        \n",
    "print(ids)\n",
    "print(timestamps)\n",
    "ids.shape"
   ]
  },
  {
   "cell_type": "code",
   "execution_count": null,
   "metadata": {},
   "outputs": [],
   "source": [
    "data = {'ids':ids,\n",
    "       'timestamp':timestamps}\n",
    "\n",
    "pd.DataFrame(data=data)"
   ]
  },
  {
   "cell_type": "code",
   "execution_count": null,
   "metadata": {},
   "outputs": [],
   "source": [
    "fm, features = ft.dfs(entityset=es,\n",
    "                       target_entity='EDatt',\n",
    "                       cutoff_time=ct,\n",
    "                       cutoff_time_in_index=True,\n",
    "                     max_depth=1,\n",
    "                     training_window=\"1 hours\")\n",
    "\n",
    "fm"
   ]
  },
  {
   "cell_type": "code",
   "execution_count": null,
   "metadata": {},
   "outputs": [],
   "source": []
  },
  {
   "cell_type": "code",
   "execution_count": null,
   "metadata": {},
   "outputs": [],
   "source": [
    "#### put back into df\n",
    "pd.DataFrame(data=[ids,timestamps],columns=['atten_id','timestamp'])"
   ]
  },
  {
   "cell_type": "code",
   "execution_count": null,
   "metadata": {},
   "outputs": [],
   "source": [
    "sample.reset_index(inplace=True)"
   ]
  },
  {
   "cell_type": "code",
   "execution_count": null,
   "metadata": {},
   "outputs": [],
   "source": [
    "\n",
    "#X = np.array()\n",
    "for i in itertools.product(['1'],['2','3','4']):\n",
    "    print(list(i))\n",
    "    X[row[0]] = i\n",
    "    \n",
    "X"
   ]
  },
  {
   "cell_type": "code",
   "execution_count": null,
   "metadata": {},
   "outputs": [],
   "source": [
    "import pandas as pd"
   ]
  },
  {
   "cell_type": "code",
   "execution_count": null,
   "metadata": {},
   "outputs": [],
   "source": [
    "\n",
    "X.append()"
   ]
  },
  {
   "cell_type": "code",
   "execution_count": null,
   "metadata": {},
   "outputs": [],
   "source": [
    "X = np.array([[1,2,3]])\n",
    "X = np.append(X,[[3,4,5]],axis=0)\n",
    "X"
   ]
  },
  {
   "cell_type": "code",
   "execution_count": null,
   "metadata": {},
   "outputs": [],
   "source": [
    "ct=pd.DataFrame()\n",
    "\n",
    "ct['attendance_number'] = [90902042301,90902042301,90902042301,90902042301,90902043501,90902043501]\n",
    "\n",
    "ct['time'] = pd.to_datetime(['2009-4-1 02:00',\n",
    "                             '2009-4-1 03:00',\n",
    "                             '2009-4-1 04:00',\n",
    "                             '2009-4-1 05:00',\n",
    "                              '2009-4-1 07:00',\n",
    "                              '2014-1-1 04:00'])"
   ]
  },
  {
   "cell_type": "code",
   "execution_count": null,
   "metadata": {},
   "outputs": [],
   "source": [
    "ct"
   ]
  },
  {
   "cell_type": "code",
   "execution_count": null,
   "metadata": {},
   "outputs": [],
   "source": [
    "es['EDpatients'].last_time_index = es['EDpatients'].df['last_time']"
   ]
  },
  {
   "cell_type": "code",
   "execution_count": null,
   "metadata": {
    "scrolled": true
   },
   "outputs": [],
   "source": [
    "fm, features = ft.dfs(entityset=es,\n",
    "                       target_entity='EDatt',\n",
    "                       cutoff_time=ct,\n",
    "                       cutoff_time_in_index=True,\n",
    "                     max_depth=1,\n",
    "                     training_window=\"1 hours\")\n",
    "\n",
    "fm"
   ]
  },
  {
   "cell_type": "code",
   "execution_count": null,
   "metadata": {},
   "outputs": [],
   "source": [
    "es"
   ]
  },
  {
   "cell_type": "code",
   "execution_count": null,
   "metadata": {},
   "outputs": [],
   "source": [
    "ct2 = es['EDatt'].df[['attendance_number','arrival','arrival_mode_desc_bool']].head(5)"
   ]
  },
  {
   "cell_type": "code",
   "execution_count": null,
   "metadata": {},
   "outputs": [],
   "source": [
    "ft.__version__"
   ]
  },
  {
   "cell_type": "code",
   "execution_count": null,
   "metadata": {},
   "outputs": [],
   "source": [
    "fm, features = ft.dfs(entityset=es,\n",
    "                       target_entity='EDatt',\n",
    "                       cutoff_time=ct2,\n",
    "                       cutoff_time_in_index=True,\n",
    "                     max_depth=2)\n",
    "\n",
    "fm"
   ]
  },
  {
   "cell_type": "code",
   "execution_count": null,
   "metadata": {},
   "outputs": [],
   "source": [
    "break"
   ]
  },
  {
   "cell_type": "markdown",
   "metadata": {},
   "source": [
    "#### create a day table - by normalising a new feature"
   ]
  },
  {
   "cell_type": "code",
   "execution_count": null,
   "metadata": {},
   "outputs": [],
   "source": [
    "es = es.normalize_entity(base_entity_id='EDatt',\n",
    "                   new_entity_id=\"days\",\n",
    "                    index=\"arr_date\")"
   ]
  },
  {
   "cell_type": "markdown",
   "metadata": {},
   "source": [
    "#### import hourly table"
   ]
  },
  {
   "cell_type": "code",
   "execution_count": null,
   "metadata": {},
   "outputs": [],
   "source": [
    "hrly = pd.read_pickle('./../3_Data/processed/sgh/sghHOURLY.pkl')"
   ]
  },
  {
   "cell_type": "code",
   "execution_count": null,
   "metadata": {},
   "outputs": [],
   "source": [
    "hrly.columns"
   ]
  },
  {
   "cell_type": "code",
   "execution_count": null,
   "metadata": {},
   "outputs": [],
   "source": [
    "hrly2 = hrly[['dt_date','EDocc_nonadmit', 'EDocc_admit', 'EDocc_total', 'EDocc_awaitingadm',\n",
    "       'EDocc_nonbreach', 'EDocc_breach', 'IPocc_NonElective',\n",
    "       'IPocc_Day_Case', 'IPocc_Elective', 'IPocc_total', 'IPocc_elec_nonelec',\n",
    "       'IPadm', 'IPadm_nonelec', 'IPadm_daycase', 'IPadm_elective', 'IPdis',\n",
    "       'IPdis_nonelec', 'IPdis_daycase', 'IPdis_elective',\n",
    "       'IPadm_elec_nonelec', 'IPdis_elec_nonelec', 'EDarrive',\n",
    "       'EDarrive_breach', 'EDarrive_adm', 'EDdepart', 'EDdepart_breach',\n",
    "       'EDdepart_adm']].reset_index()"
   ]
  },
  {
   "cell_type": "code",
   "execution_count": null,
   "metadata": {},
   "outputs": [],
   "source": [
    "es.entity_from_dataframe(entity_id='hourly',dataframe=hrly2,index='index')"
   ]
  },
  {
   "cell_type": "code",
   "execution_count": null,
   "metadata": {},
   "outputs": [],
   "source": [
    "new_relationship = ft.Relationship(es[\"days\"][\"arr_date\"],\n",
    "                                    es[\"hourly\"][\"dt_date\"])\n",
    "\n",
    "es = es.add_relationship(new_relationship)"
   ]
  },
  {
   "cell_type": "code",
   "execution_count": null,
   "metadata": {},
   "outputs": [],
   "source": [
    "es['hourly'].df.head(2)"
   ]
  },
  {
   "cell_type": "code",
   "execution_count": null,
   "metadata": {},
   "outputs": [],
   "source": []
  },
  {
   "cell_type": "markdown",
   "metadata": {},
   "source": [
    "# summary of esets"
   ]
  },
  {
   "cell_type": "code",
   "execution_count": null,
   "metadata": {},
   "outputs": [],
   "source": [
    "es"
   ]
  },
  {
   "cell_type": "code",
   "execution_count": null,
   "metadata": {},
   "outputs": [],
   "source": [
    "es['days'].df.head()"
   ]
  },
  {
   "cell_type": "code",
   "execution_count": null,
   "metadata": {},
   "outputs": [],
   "source": [
    "es['EDatt'].df.head(2)"
   ]
  },
  {
   "cell_type": "code",
   "execution_count": null,
   "metadata": {},
   "outputs": [],
   "source": [
    "es['patients'].df.head(3)"
   ]
  },
  {
   "cell_type": "code",
   "execution_count": null,
   "metadata": {},
   "outputs": [],
   "source": [
    "es['hourly'].df.head(2)"
   ]
  },
  {
   "cell_type": "code",
   "execution_count": null,
   "metadata": {},
   "outputs": [],
   "source": [
    "es['days'].df.head(3)"
   ]
  },
  {
   "cell_type": "markdown",
   "metadata": {},
   "source": [
    "# make features"
   ]
  },
  {
   "cell_type": "markdown",
   "metadata": {},
   "source": [
    "feature_matrix, feature_defs = ft.dfs(entityset=es,target_entity='days',\n",
    "      agg_primitives=['count','mean','num_true','sum'],\n",
    "      trans_primitives=['month','year','day'],\n",
    "    max_depth=1,n_jobs=2)\n",
    "\n",
    "feature_matrix"
   ]
  },
  {
   "cell_type": "code",
   "execution_count": null,
   "metadata": {},
   "outputs": [],
   "source": [
    "feature_matrix1, feature_defs = ft.dfs(entityset=es,target_entity='days',\n",
    "      agg_primitives=['count','mean','num_true','sum','max','last'],\n",
    "      trans_primitives=['month','year','weekend','weekday'],\n",
    "    max_depth=1,n_jobs=1)\n",
    "\n",
    "feature_matrix1.shape"
   ]
  },
  {
   "cell_type": "code",
   "execution_count": null,
   "metadata": {},
   "outputs": [],
   "source": [
    "feature_matrix2, feature_defs = ft.dfs(entityset=es,target_entity='days',\n",
    "      agg_primitives=['count','mean','num_true','sum','max','last'],\n",
    "      trans_primitives=['month','year','weekend','weekday'],\n",
    "    max_depth=2,n_jobs=1)\n",
    "\n",
    "feature_matrix2.shape"
   ]
  },
  {
   "cell_type": "code",
   "execution_count": null,
   "metadata": {},
   "outputs": [],
   "source": [
    "feature_matrix, feature_defs = ft.dfs(entityset=es,target_entity='days',\n",
    "      agg_primitives=['count','mean','num_true','sum','max','last'],\n",
    "      trans_primitives=['month','year','weekend','weekday'],\n",
    "    max_depth=3,n_jobs=1)\n",
    "\n",
    "feature_matrix.shape"
   ]
  },
  {
   "cell_type": "code",
   "execution_count": null,
   "metadata": {},
   "outputs": [],
   "source": [
    "set(feature_matrix.columns) - set(feature_matrix1.columns)"
   ]
  },
  {
   "cell_type": "code",
   "execution_count": null,
   "metadata": {},
   "outputs": [],
   "source": [
    "for i in feature_matrix.columns:\n",
    "    print(i)"
   ]
  },
  {
   "cell_type": "code",
   "execution_count": null,
   "metadata": {},
   "outputs": [],
   "source": [
    "feature_matrix.shape"
   ]
  },
  {
   "cell_type": "code",
   "execution_count": null,
   "metadata": {},
   "outputs": [],
   "source": [
    "feature_matrix.shape"
   ]
  },
  {
   "cell_type": "markdown",
   "metadata": {},
   "source": [
    "## do some basic drops"
   ]
  },
  {
   "cell_type": "code",
   "execution_count": null,
   "metadata": {},
   "outputs": [],
   "source": [
    "uniques = feature_matrix.apply(lambda x: x.nunique())"
   ]
  },
  {
   "cell_type": "code",
   "execution_count": null,
   "metadata": {},
   "outputs": [],
   "source": [
    "uniques[uniques==1].index"
   ]
  },
  {
   "cell_type": "code",
   "execution_count": null,
   "metadata": {},
   "outputs": [],
   "source": [
    "feature_matrix = feature_matrix.drop(uniques[uniques==1].index, axis=1)"
   ]
  },
  {
   "cell_type": "code",
   "execution_count": null,
   "metadata": {},
   "outputs": [],
   "source": []
  },
  {
   "cell_type": "markdown",
   "metadata": {},
   "source": [
    "#### drop columns which have all same values"
   ]
  },
  {
   "cell_type": "code",
   "execution_count": null,
   "metadata": {},
   "outputs": [],
   "source": [
    "feature_matrix.shape"
   ]
  },
  {
   "cell_type": "code",
   "execution_count": null,
   "metadata": {},
   "outputs": [],
   "source": [
    "cols = list(feature_matrix)\n",
    "nunique = feature_matrix.apply(pd.Series.nunique)\n",
    "cols_to_drop = nunique[nunique == 1].index\n",
    "feature_matrix.drop(cols_to_drop, axis=1,inplace=True)"
   ]
  },
  {
   "cell_type": "code",
   "execution_count": null,
   "metadata": {},
   "outputs": [],
   "source": [
    "feature_matrix.shape"
   ]
  },
  {
   "cell_type": "markdown",
   "metadata": {},
   "source": [
    "#### drop cols that are duplicated "
   ]
  },
  {
   "cell_type": "code",
   "execution_count": null,
   "metadata": {},
   "outputs": [],
   "source": [
    "from utils import duplicate_columns"
   ]
  },
  {
   "cell_type": "code",
   "execution_count": null,
   "metadata": {},
   "outputs": [],
   "source": [
    "dups = duplicate_columns(feature_matrix)\n",
    "dups"
   ]
  },
  {
   "cell_type": "code",
   "execution_count": null,
   "metadata": {},
   "outputs": [],
   "source": [
    "feature_matrix.drop(dups,axis=1,inplace=True)"
   ]
  },
  {
   "cell_type": "code",
   "execution_count": null,
   "metadata": {},
   "outputs": [],
   "source": [
    "feature_matrix.shape"
   ]
  },
  {
   "cell_type": "markdown",
   "metadata": {},
   "source": [
    "### save out"
   ]
  },
  {
   "cell_type": "code",
   "execution_count": null,
   "metadata": {},
   "outputs": [],
   "source": [
    "pd.to_pickle(feature_matrix,'./activity.pkl')"
   ]
  },
  {
   "cell_type": "code",
   "execution_count": null,
   "metadata": {},
   "outputs": [],
   "source": [
    "ft.list_primitives().head(40)"
   ]
  },
  {
   "cell_type": "code",
   "execution_count": null,
   "metadata": {},
   "outputs": [],
   "source": [
    "ft.list_primitives().tail(40).loc[22].description"
   ]
  },
  {
   "cell_type": "code",
   "execution_count": null,
   "metadata": {},
   "outputs": [],
   "source": []
  },
  {
   "cell_type": "code",
   "execution_count": null,
   "metadata": {},
   "outputs": [],
   "source": []
  },
  {
   "cell_type": "code",
   "execution_count": null,
   "metadata": {},
   "outputs": [],
   "source": []
  },
  {
   "cell_type": "markdown",
   "metadata": {},
   "source": [
    "# Dev"
   ]
  },
  {
   "cell_type": "code",
   "execution_count": null,
   "metadata": {},
   "outputs": [],
   "source": [
    "break"
   ]
  },
  {
   "cell_type": "code",
   "execution_count": null,
   "metadata": {},
   "outputs": [],
   "source": [
    "ED.columns"
   ]
  },
  {
   "cell_type": "markdown",
   "metadata": {},
   "source": [
    "#### create and link day table - by adding a new df"
   ]
  },
  {
   "cell_type": "markdown",
   "metadata": {},
   "source": [
    "from core import create_timeseries_from_events"
   ]
  },
  {
   "cell_type": "markdown",
   "metadata": {},
   "source": [
    "ED.columns"
   ]
  },
  {
   "cell_type": "markdown",
   "metadata": {},
   "source": [
    "start = ED.tail(i).arrival.min().round('D')\n",
    "end = ED.tail(i).arrival.max().round('D')\n",
    "\n",
    "occED = create_timeseries_from_events(ED.tail(i),'arrival','time_leaving_dept_inc_cdu',col_to_split='admission_flag',start=start,end=end,freq='H')\n",
    "\n",
    "occED['EDocc_MEAN'] = occED.sum(axis=1) # make agg col"
   ]
  },
  {
   "cell_type": "markdown",
   "metadata": {},
   "source": [
    "occED['day'] = occED.index.round('D')"
   ]
  },
  {
   "cell_type": "markdown",
   "metadata": {},
   "source": [
    "occEDday = occED.groupby(['day']).mean()"
   ]
  },
  {
   "cell_type": "markdown",
   "metadata": {},
   "source": [
    "occEDday.index"
   ]
  },
  {
   "cell_type": "markdown",
   "metadata": {},
   "source": [
    "day = occEDday['EDocc_MEAN'].reset_index()"
   ]
  },
  {
   "cell_type": "markdown",
   "metadata": {},
   "source": [
    "day.head(2)"
   ]
  },
  {
   "cell_type": "markdown",
   "metadata": {},
   "source": [
    "#### add to es"
   ]
  },
  {
   "cell_type": "markdown",
   "metadata": {},
   "source": [
    "es = es.entity_from_dataframe(entity_id=\"days\",dataframe=day,\n",
    "                              index=\"day\",\n",
    "                              time_index=\"day\")"
   ]
  },
  {
   "cell_type": "markdown",
   "metadata": {},
   "source": [
    "new_relationship = ft.Relationship(es[\"days\"][\"day\"],\n",
    "                                   es[\"ED_atten\"][\"arr_date\"])\n",
    "\n",
    "es = es.add_relationship(new_relationship)"
   ]
  },
  {
   "cell_type": "markdown",
   "metadata": {},
   "source": [
    "#### Look at tables"
   ]
  },
  {
   "cell_type": "code",
   "execution_count": null,
   "metadata": {},
   "outputs": [],
   "source": [
    "es['days'].df.head()"
   ]
  },
  {
   "cell_type": "markdown",
   "metadata": {},
   "source": [
    "es['days'].df['day'].head()"
   ]
  },
  {
   "cell_type": "markdown",
   "metadata": {},
   "source": [
    "es['days'].df['day'].dtype"
   ]
  },
  {
   "cell_type": "markdown",
   "metadata": {},
   "source": [
    "es['ED_atten'].index"
   ]
  },
  {
   "cell_type": "markdown",
   "metadata": {},
   "source": [
    "es['ED_atten'].df.arrival.dtype"
   ]
  },
  {
   "cell_type": "markdown",
   "metadata": {},
   "source": [
    "es['patient'].df.columns #.dtype"
   ]
  },
  {
   "cell_type": "markdown",
   "metadata": {},
   "source": [
    "es['patient'].df['first_ED_atten_time'].dtype"
   ]
  },
  {
   "cell_type": "code",
   "execution_count": null,
   "metadata": {},
   "outputs": [],
   "source": [
    "es['ED_atten']"
   ]
  },
  {
   "cell_type": "code",
   "execution_count": null,
   "metadata": {},
   "outputs": [],
   "source": [
    "es['patient']"
   ]
  },
  {
   "cell_type": "code",
   "execution_count": null,
   "metadata": {},
   "outputs": [],
   "source": [
    "es['days']"
   ]
  },
  {
   "cell_type": "markdown",
   "metadata": {},
   "source": [
    "es['days']"
   ]
  },
  {
   "cell_type": "code",
   "execution_count": null,
   "metadata": {},
   "outputs": [],
   "source": [
    "es"
   ]
  },
  {
   "cell_type": "markdown",
   "metadata": {},
   "source": [
    "# DFS"
   ]
  },
  {
   "cell_type": "markdown",
   "metadata": {},
   "source": [
    "### create range of datetimes for arrival in df"
   ]
  },
  {
   "cell_type": "code",
   "execution_count": null,
   "metadata": {},
   "outputs": [],
   "source": [
    "feature_matrix, feature_defs = ft.dfs(entityset=es,target_entity=\"days\")"
   ]
  },
  {
   "cell_type": "code",
   "execution_count": null,
   "metadata": {},
   "outputs": [],
   "source": [
    "feature_matrix"
   ]
  },
  {
   "cell_type": "code",
   "execution_count": null,
   "metadata": {},
   "outputs": [],
   "source": [
    "window_fm, window_features = ft.dfs(entityset=es,target_entity='days',cutoff_time=ct,\n",
    "       cutoff_time_in_index=True,\n",
    "      training_window = '24 hours')"
   ]
  },
  {
   "cell_type": "code",
   "execution_count": null,
   "metadata": {},
   "outputs": [],
   "source": []
  },
  {
   "cell_type": "code",
   "execution_count": null,
   "metadata": {},
   "outputs": [],
   "source": []
  },
  {
   "cell_type": "code",
   "execution_count": null,
   "metadata": {},
   "outputs": [],
   "source": [
    "pd.DatetimeIndex(start=start,end=end,freq='D')"
   ]
  },
  {
   "cell_type": "code",
   "execution_count": null,
   "metadata": {},
   "outputs": [],
   "source": [
    "ft.list_primitives().head(40)"
   ]
  },
  {
   "cell_type": "code",
   "execution_count": null,
   "metadata": {},
   "outputs": [],
   "source": []
  },
  {
   "cell_type": "code",
   "execution_count": null,
   "metadata": {},
   "outputs": [],
   "source": []
  }
 ],
 "metadata": {
  "anaconda-cloud": {},
  "kernelspec": {
   "display_name": "Python [conda env:ml]",
   "language": "python",
   "name": "conda-env-ml-py"
  },
  "language_info": {
   "codemirror_mode": {
    "name": "ipython",
    "version": 3
   },
   "file_extension": ".py",
   "mimetype": "text/x-python",
   "name": "python",
   "nbconvert_exporter": "python",
   "pygments_lexer": "ipython3",
   "version": "3.6.3"
  }
 },
 "nbformat": 4,
 "nbformat_minor": 2
}
