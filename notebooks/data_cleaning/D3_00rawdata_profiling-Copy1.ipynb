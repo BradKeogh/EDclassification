{
 "cells": [
  {
   "cell_type": "markdown",
   "metadata": {},
   "source": [
    "OBJ:\n",
    "* find differences in column names between old cleaning and new"
   ]
  },
  {
   "cell_type": "code",
   "execution_count": 1,
   "metadata": {},
   "outputs": [],
   "source": [
    "import pandas as pd\n",
    "import numpy as np\n",
    "%matplotlib inline"
   ]
  },
  {
   "cell_type": "code",
   "execution_count": 6,
   "metadata": {},
   "outputs": [],
   "source": [
    "ed = pd.read_pickle('./../../data/raw/cleanED.pkl')"
   ]
  },
  {
   "cell_type": "code",
   "execution_count": 14,
   "metadata": {},
   "outputs": [],
   "source": [
    "ed2 = pd.read_pickle('./../../data/raw/orig/archive2/sghED.pkl')"
   ]
  },
  {
   "cell_type": "code",
   "execution_count": 8,
   "metadata": {},
   "outputs": [],
   "source": [
    "spl = pd.read_pickle('./../../data/raw/cleanSPELL.pkl')"
   ]
  },
  {
   "cell_type": "code",
   "execution_count": 15,
   "metadata": {},
   "outputs": [],
   "source": [
    "spl2 = pd.read_pickle('./../../data/raw/orig/archive2/sghIPspell.pkl')"
   ]
  },
  {
   "cell_type": "code",
   "execution_count": 10,
   "metadata": {},
   "outputs": [
    {
     "data": {
      "text/plain": [
       "(1315333, 24)"
      ]
     },
     "execution_count": 10,
     "metadata": {},
     "output_type": "execute_result"
    }
   ],
   "source": [
    "spl.shape"
   ]
  },
  {
   "cell_type": "code",
   "execution_count": null,
   "metadata": {},
   "outputs": [],
   "source": []
  },
  {
   "cell_type": "code",
   "execution_count": 18,
   "metadata": {},
   "outputs": [],
   "source": [
    "s1 = set(ed.columns)"
   ]
  },
  {
   "cell_type": "code",
   "execution_count": 19,
   "metadata": {},
   "outputs": [],
   "source": [
    "s2 = set(ed2.columns)"
   ]
  },
  {
   "cell_type": "code",
   "execution_count": 21,
   "metadata": {},
   "outputs": [
    {
     "data": {
      "text/plain": [
       "{'1st_time_seen_by_doctor',\n",
       " '1st_time_triaged_[datetime]',\n",
       " 'admission_flag',\n",
       " 'age',\n",
       " 'arrival',\n",
       " 'arrival_mode',\n",
       " 'arrival_mode_desc',\n",
       " 'attendance_number',\n",
       " 'department',\n",
       " 'flag_admission',\n",
       " 'flag_bedreq',\n",
       " 'flag_cdu',\n",
       " 'flag_specreq',\n",
       " 'gender',\n",
       " 'majorsminorsresus_patient',\n",
       " 'pseudo_patient_number',\n",
       " 'site_attended',\n",
       " 'speciality_referred_to',\n",
       " 'time_into_cdu',\n",
       " 'time_leaving_dept_inc_cdu',\n",
       " 'time_of_inpatient_bed_request',\n",
       " 'time_of_speciality_referral',\n",
       " 'triage_category'}"
      ]
     },
     "execution_count": 21,
     "metadata": {},
     "output_type": "execute_result"
    }
   ],
   "source": [
    "s1"
   ]
  },
  {
   "cell_type": "code",
   "execution_count": 25,
   "metadata": {},
   "outputs": [
    {
     "data": {
      "text/html": [
       "<div>\n",
       "<style scoped>\n",
       "    .dataframe tbody tr th:only-of-type {\n",
       "        vertical-align: middle;\n",
       "    }\n",
       "\n",
       "    .dataframe tbody tr th {\n",
       "        vertical-align: top;\n",
       "    }\n",
       "\n",
       "    .dataframe thead th {\n",
       "        text-align: right;\n",
       "    }\n",
       "</style>\n",
       "<table border=\"1\" class=\"dataframe\">\n",
       "  <thead>\n",
       "    <tr style=\"text-align: right;\">\n",
       "      <th></th>\n",
       "      <th>pseudo_patient_number</th>\n",
       "      <th>attendance_number</th>\n",
       "      <th>age</th>\n",
       "      <th>gender</th>\n",
       "      <th>department</th>\n",
       "      <th>site_attended</th>\n",
       "      <th>arrival</th>\n",
       "      <th>arrival_mode</th>\n",
       "      <th>arrival_mode_desc</th>\n",
       "      <th>1st_time_triaged_[datetime]</th>\n",
       "      <th>...</th>\n",
       "      <th>speciality_referred_to</th>\n",
       "      <th>time_into_cdu</th>\n",
       "      <th>time_leaving_dept_inc_cdu</th>\n",
       "      <th>admission_flag</th>\n",
       "      <th>majorsminorsresus_patient</th>\n",
       "      <th>triage_category</th>\n",
       "      <th>flag_admission</th>\n",
       "      <th>flag_bedreq</th>\n",
       "      <th>flag_specreq</th>\n",
       "      <th>flag_cdu</th>\n",
       "    </tr>\n",
       "  </thead>\n",
       "  <tbody>\n",
       "    <tr>\n",
       "      <th>0</th>\n",
       "      <td>004101045105</td>\n",
       "      <td>90902325901</td>\n",
       "      <td>94.0</td>\n",
       "      <td>F</td>\n",
       "      <td>Main ED</td>\n",
       "      <td>Main ED</td>\n",
       "      <td>2009-04-13 09:16:00</td>\n",
       "      <td>NaN</td>\n",
       "      <td>BROUGHT IN BY AMBULANCE</td>\n",
       "      <td>NaN</td>\n",
       "      <td>...</td>\n",
       "      <td>NaN</td>\n",
       "      <td>NaT</td>\n",
       "      <td>2009-04-13 12:24:00</td>\n",
       "      <td>N</td>\n",
       "      <td>Majors</td>\n",
       "      <td>VERY URGENT</td>\n",
       "      <td>0</td>\n",
       "      <td>1</td>\n",
       "      <td>1</td>\n",
       "      <td>1</td>\n",
       "    </tr>\n",
       "    <tr>\n",
       "      <th>1</th>\n",
       "      <td>644868441371</td>\n",
       "      <td>90902326101</td>\n",
       "      <td>47.0</td>\n",
       "      <td>M</td>\n",
       "      <td>Main ED</td>\n",
       "      <td>Main ED</td>\n",
       "      <td>2009-04-13 09:22:00</td>\n",
       "      <td>NaN</td>\n",
       "      <td>BROUGHT IN BY AMBULANCE</td>\n",
       "      <td>NaN</td>\n",
       "      <td>...</td>\n",
       "      <td>NaN</td>\n",
       "      <td>NaT</td>\n",
       "      <td>2009-04-13 12:55:00</td>\n",
       "      <td>Y</td>\n",
       "      <td>Majors</td>\n",
       "      <td>VERY URGENT</td>\n",
       "      <td>1</td>\n",
       "      <td>1</td>\n",
       "      <td>1</td>\n",
       "      <td>1</td>\n",
       "    </tr>\n",
       "    <tr>\n",
       "      <th>2</th>\n",
       "      <td>668666687357</td>\n",
       "      <td>90902326501</td>\n",
       "      <td>0.0</td>\n",
       "      <td>M</td>\n",
       "      <td>Main ED</td>\n",
       "      <td>Main ED</td>\n",
       "      <td>2009-04-13 09:31:00</td>\n",
       "      <td>NaN</td>\n",
       "      <td>OTHER</td>\n",
       "      <td>NaN</td>\n",
       "      <td>...</td>\n",
       "      <td>Paediatrics - Medical</td>\n",
       "      <td>NaT</td>\n",
       "      <td>2009-04-13 11:54:00</td>\n",
       "      <td>Y</td>\n",
       "      <td>Paeds</td>\n",
       "      <td>STANDARD</td>\n",
       "      <td>1</td>\n",
       "      <td>1</td>\n",
       "      <td>0</td>\n",
       "      <td>1</td>\n",
       "    </tr>\n",
       "    <tr>\n",
       "      <th>3</th>\n",
       "      <td>446747461391</td>\n",
       "      <td>90902328601</td>\n",
       "      <td>4.0</td>\n",
       "      <td>M</td>\n",
       "      <td>Main ED</td>\n",
       "      <td>Main ED</td>\n",
       "      <td>2009-04-13 10:52:00</td>\n",
       "      <td>NaN</td>\n",
       "      <td>OTHER</td>\n",
       "      <td>NaN</td>\n",
       "      <td>...</td>\n",
       "      <td>Orthopaedics</td>\n",
       "      <td>NaT</td>\n",
       "      <td>2009-04-13 13:49:00</td>\n",
       "      <td>N</td>\n",
       "      <td>NaN</td>\n",
       "      <td>STANDARD</td>\n",
       "      <td>0</td>\n",
       "      <td>1</td>\n",
       "      <td>0</td>\n",
       "      <td>1</td>\n",
       "    </tr>\n",
       "    <tr>\n",
       "      <th>4</th>\n",
       "      <td>423646238168</td>\n",
       "      <td>90902328801</td>\n",
       "      <td>31.0</td>\n",
       "      <td>F</td>\n",
       "      <td>Main ED</td>\n",
       "      <td>Main ED</td>\n",
       "      <td>2009-04-13 11:18:00</td>\n",
       "      <td>NaN</td>\n",
       "      <td>BROUGHT IN BY AMBULANCE</td>\n",
       "      <td>NaN</td>\n",
       "      <td>...</td>\n",
       "      <td>Obstetrics &amp; Gynaecology</td>\n",
       "      <td>NaT</td>\n",
       "      <td>2009-04-13 14:49:00</td>\n",
       "      <td>Y</td>\n",
       "      <td>Majors</td>\n",
       "      <td>VERY URGENT</td>\n",
       "      <td>1</td>\n",
       "      <td>1</td>\n",
       "      <td>0</td>\n",
       "      <td>1</td>\n",
       "    </tr>\n",
       "  </tbody>\n",
       "</table>\n",
       "<p>5 rows × 23 columns</p>\n",
       "</div>"
      ],
      "text/plain": [
       "  pseudo_patient_number  attendance_number   age gender department  \\\n",
       "0          004101045105        90902325901  94.0      F    Main ED   \n",
       "1          644868441371        90902326101  47.0      M    Main ED   \n",
       "2          668666687357        90902326501   0.0      M    Main ED   \n",
       "3          446747461391        90902328601   4.0      M    Main ED   \n",
       "4          423646238168        90902328801  31.0      F    Main ED   \n",
       "\n",
       "  site_attended             arrival arrival_mode        arrival_mode_desc  \\\n",
       "0       Main ED 2009-04-13 09:16:00          NaN  BROUGHT IN BY AMBULANCE   \n",
       "1       Main ED 2009-04-13 09:22:00          NaN  BROUGHT IN BY AMBULANCE   \n",
       "2       Main ED 2009-04-13 09:31:00          NaN                    OTHER   \n",
       "3       Main ED 2009-04-13 10:52:00          NaN                    OTHER   \n",
       "4       Main ED 2009-04-13 11:18:00          NaN  BROUGHT IN BY AMBULANCE   \n",
       "\n",
       "  1st_time_triaged_[datetime]  ...    speciality_referred_to time_into_cdu  \\\n",
       "0                         NaN  ...                       NaN           NaT   \n",
       "1                         NaN  ...                       NaN           NaT   \n",
       "2                         NaN  ...     Paediatrics - Medical           NaT   \n",
       "3                         NaN  ...              Orthopaedics           NaT   \n",
       "4                         NaN  ...  Obstetrics & Gynaecology           NaT   \n",
       "\n",
       "  time_leaving_dept_inc_cdu admission_flag majorsminorsresus_patient  \\\n",
       "0       2009-04-13 12:24:00              N                    Majors   \n",
       "1       2009-04-13 12:55:00              Y                    Majors   \n",
       "2       2009-04-13 11:54:00              Y                     Paeds   \n",
       "3       2009-04-13 13:49:00              N                       NaN   \n",
       "4       2009-04-13 14:49:00              Y                    Majors   \n",
       "\n",
       "  triage_category flag_admission flag_bedreq flag_specreq  flag_cdu  \n",
       "0     VERY URGENT              0           1            1         1  \n",
       "1     VERY URGENT              1           1            1         1  \n",
       "2        STANDARD              1           1            0         1  \n",
       "3        STANDARD              0           1            0         1  \n",
       "4     VERY URGENT              1           1            0         1  \n",
       "\n",
       "[5 rows x 23 columns]"
      ]
     },
     "execution_count": 25,
     "metadata": {},
     "output_type": "execute_result"
    }
   ],
   "source": [
    "ed.head()"
   ]
  },
  {
   "cell_type": "code",
   "execution_count": 22,
   "metadata": {},
   "outputs": [
    {
     "data": {
      "text/plain": [
       "{'adm_flag',\n",
       " 'adm_referral_loc',\n",
       " 'adm_req_dep_wait',\n",
       " 'age',\n",
       " 'age_group',\n",
       " 'arr_adm_req_wait',\n",
       " 'arr_dr_wait',\n",
       " 'arr_triage_wait',\n",
       " 'arrive_date',\n",
       " 'arrive_datetime',\n",
       " 'arrive_day',\n",
       " 'arrive_dayofweek',\n",
       " 'arrive_dayofweek_name',\n",
       " 'arrive_flag_wkend',\n",
       " 'arrive_hour',\n",
       " 'arrive_mode',\n",
       " 'arrive_month',\n",
       " 'arrive_week',\n",
       " 'arrive_year',\n",
       " 'breach_datetime',\n",
       " 'breach_flag',\n",
       " 'depart_date',\n",
       " 'depart_datetime',\n",
       " 'depart_day',\n",
       " 'depart_dayofweek',\n",
       " 'depart_dayofweek_name',\n",
       " 'depart_flag_wkend',\n",
       " 'depart_hour',\n",
       " 'depart_month',\n",
       " 'depart_week',\n",
       " 'depart_year',\n",
       " 'dept_patid',\n",
       " 'dr_adm_req_wait',\n",
       " 'dr_dep_wait',\n",
       " 'first_adm_request_datetime',\n",
       " 'first_dr_datetime',\n",
       " 'first_triage_datetime',\n",
       " 'gender',\n",
       " 'hosp_patid',\n",
       " 'site',\n",
       " 'stream',\n",
       " 'waiting_time'}"
      ]
     },
     "execution_count": 22,
     "metadata": {},
     "output_type": "execute_result"
    }
   ],
   "source": [
    "s2"
   ]
  },
  {
   "cell_type": "code",
   "execution_count": null,
   "metadata": {},
   "outputs": [],
   "source": []
  }
 ],
 "metadata": {
  "kernelspec": {
   "display_name": "Python [conda env:EDclass]",
   "language": "python",
   "name": "conda-env-EDclass-py"
  },
  "language_info": {
   "codemirror_mode": {
    "name": "ipython",
    "version": 3
   },
   "file_extension": ".py",
   "mimetype": "text/x-python",
   "name": "python",
   "nbconvert_exporter": "python",
   "pygments_lexer": "ipython3",
   "version": "3.6.7"
  }
 },
 "nbformat": 4,
 "nbformat_minor": 2
}
