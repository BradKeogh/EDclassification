{
 "cells": [
  {
   "cell_type": "markdown",
   "metadata": {},
   "source": [
    "Notebook:\n",
    "- rework of my previosu cleaning but without loading into flosp."
   ]
  },
  {
   "cell_type": "markdown",
   "metadata": {},
   "source": [
    "# import dep and data "
   ]
  },
  {
   "cell_type": "code",
   "execution_count": 1,
   "metadata": {
    "collapsed": true
   },
   "outputs": [],
   "source": [
    "import pandas as pd\n",
    "import numpy as np\n",
    "# import seaborn as sns\n",
    "# import flosp\n",
    "#import bradlib as bl\n",
    "#sns.set()"
   ]
  },
  {
   "cell_type": "markdown",
   "metadata": {},
   "source": [
    "# Import and merge ward df with fce info"
   ]
  },
  {
   "cell_type": "markdown",
   "metadata": {},
   "source": [
    "import fce data"
   ]
  },
  {
   "cell_type": "code",
   "execution_count": 2,
   "metadata": {},
   "outputs": [],
   "source": [
    "fce = pd.read_csv('./../../../../3_Data/EDclassification/WAC_UHS_FCETable1_0918_rr_BK.txt',low_memory=False,error_bad_lines=False,warn_bad_lines=False)"
   ]
  },
  {
   "cell_type": "code",
   "execution_count": null,
   "metadata": {},
   "outputs": [],
   "source": []
  },
  {
   "cell_type": "code",
   "execution_count": 3,
   "metadata": {},
   "outputs": [],
   "source": [
    "ward = pd.read_csv('./../../../../3_Data/EDclassification/WAC_UHS_FCETable2_0918_rr.txt',low_memory=False,error_bad_lines=False,warn_bad_lines=False)"
   ]
  },
  {
   "cell_type": "code",
   "execution_count": null,
   "metadata": {},
   "outputs": [],
   "source": []
  },
  {
   "cell_type": "code",
   "execution_count": null,
   "metadata": {},
   "outputs": [],
   "source": []
  },
  {
   "cell_type": "code",
   "execution_count": 4,
   "metadata": {
    "collapsed": false
   },
   "outputs": [
    {
     "data": {
      "text/plain": [
       "(1735487, 24)"
      ]
     },
     "execution_count": 4,
     "metadata": {},
     "output_type": "execute_result"
    }
   ],
   "source": [
    "fce.shape"
   ]
  },
  {
   "cell_type": "code",
   "execution_count": 5,
   "metadata": {},
   "outputs": [
    {
     "data": {
      "text/plain": [
       "(2115617, 5)"
      ]
     },
     "execution_count": 5,
     "metadata": {},
     "output_type": "execute_result"
    }
   ],
   "source": [
    "ward.shape"
   ]
  },
  {
   "cell_type": "markdown",
   "metadata": {},
   "source": [
    "### clean col names"
   ]
  },
  {
   "cell_type": "code",
   "execution_count": 6,
   "metadata": {},
   "outputs": [],
   "source": [
    "from flosp.basic_tools import tidy_column_heads"
   ]
  },
  {
   "cell_type": "code",
   "execution_count": 7,
   "metadata": {},
   "outputs": [],
   "source": [
    "fce = tidy_column_heads(fce)\n",
    "ward = tidy_column_heads(ward)"
   ]
  },
  {
   "cell_type": "code",
   "execution_count": 8,
   "metadata": {},
   "outputs": [
    {
     "data": {
      "text/plain": [
       "(1735487, 24)"
      ]
     },
     "execution_count": 8,
     "metadata": {},
     "output_type": "execute_result"
    }
   ],
   "source": [
    "fce.shape"
   ]
  },
  {
   "cell_type": "code",
   "execution_count": 9,
   "metadata": {
    "collapsed": false
   },
   "outputs": [
    {
     "data": {
      "text/plain": [
       "(1372415,)"
      ]
     },
     "execution_count": 9,
     "metadata": {},
     "output_type": "execute_result"
    }
   ],
   "source": [
    "fce['spell_number'].unique().shape"
   ]
  },
  {
   "cell_type": "code",
   "execution_count": 10,
   "metadata": {
    "collapsed": false
   },
   "outputs": [
    {
     "data": {
      "text/plain": [
       "(1372283,)"
      ]
     },
     "execution_count": 10,
     "metadata": {},
     "output_type": "execute_result"
    }
   ],
   "source": [
    "ward['spell_number'].unique().shape"
   ]
  },
  {
   "cell_type": "markdown",
   "metadata": {},
   "source": [
    "lines = sum(1 for line in open('./../../../3_Data/WAC_UHS_FCETable1_0918_rr_BK.txt'))"
   ]
  },
  {
   "cell_type": "markdown",
   "metadata": {},
   "source": [
    "lines"
   ]
  },
  {
   "cell_type": "markdown",
   "metadata": {},
   "source": [
    "df.shape"
   ]
  },
  {
   "cell_type": "markdown",
   "metadata": {},
   "source": [
    "df['Spell Number'].unique().shape"
   ]
  },
  {
   "cell_type": "markdown",
   "metadata": {},
   "source": [
    "import ward table"
   ]
  },
  {
   "cell_type": "markdown",
   "metadata": {},
   "source": [
    "df2 = pd.read_csv('./../../../3_Data/WAC_UHS_FCETable2_0918.txt',error_bad_lines=False,warn_bad_lines=False)"
   ]
  },
  {
   "cell_type": "markdown",
   "metadata": {},
   "source": [
    "df3 = df[df.duplicated(['Spell Number'])]"
   ]
  },
  {
   "cell_type": "markdown",
   "metadata": {},
   "source": [
    "df2.head()"
   ]
  },
  {
   "cell_type": "markdown",
   "metadata": {},
   "source": [
    "df2['Spell Number'].unique().shape"
   ]
  },
  {
   "cell_type": "markdown",
   "metadata": {},
   "source": [
    "df2.shape"
   ]
  },
  {
   "cell_type": "markdown",
   "metadata": {},
   "source": [
    "# merge fce and ward tables"
   ]
  },
  {
   "cell_type": "code",
   "execution_count": 11,
   "metadata": {},
   "outputs": [
    {
     "data": {
      "text/html": [
       "<div>\n",
       "<style scoped>\n",
       "    .dataframe tbody tr th:only-of-type {\n",
       "        vertical-align: middle;\n",
       "    }\n",
       "\n",
       "    .dataframe tbody tr th {\n",
       "        vertical-align: top;\n",
       "    }\n",
       "\n",
       "    .dataframe thead th {\n",
       "        text-align: right;\n",
       "    }\n",
       "</style>\n",
       "<table border=\"1\" class=\"dataframe\">\n",
       "  <thead>\n",
       "    <tr style=\"text-align: right;\">\n",
       "      <th></th>\n",
       "      <th>pseudo_patient_number</th>\n",
       "      <th>age_at__admission</th>\n",
       "      <th>gender</th>\n",
       "      <th>spell_number</th>\n",
       "      <th>admission_date</th>\n",
       "      <th>discharge_date</th>\n",
       "      <th>admission_method_code</th>\n",
       "      <th>admission_method_description</th>\n",
       "      <th>length_of_stay_days</th>\n",
       "      <th>admission_source_code</th>\n",
       "      <th>...</th>\n",
       "      <th>discharge_destination_desc</th>\n",
       "      <th>consultant_episode_number</th>\n",
       "      <th>episode_start_date</th>\n",
       "      <th>episode_end_date</th>\n",
       "      <th>specialty_code</th>\n",
       "      <th>specialty_description</th>\n",
       "      <th>consultant_code</th>\n",
       "      <th>main_specialty_code</th>\n",
       "      <th>length_of_episode_days</th>\n",
       "      <th>date_of_death</th>\n",
       "    </tr>\n",
       "  </thead>\n",
       "  <tbody>\n",
       "    <tr>\n",
       "      <th>0</th>\n",
       "      <td>508656089369</td>\n",
       "      <td>10</td>\n",
       "      <td>1</td>\n",
       "      <td>8673622</td>\n",
       "      <td>18-JUN-09 13:15</td>\n",
       "      <td>18-JUN-09 18:00</td>\n",
       "      <td>21</td>\n",
       "      <td>EMERGENCY A+E</td>\n",
       "      <td>0</td>\n",
       "      <td>19</td>\n",
       "      <td>...</td>\n",
       "      <td>USUAL PLACE OF RESIDENCE</td>\n",
       "      <td>1</td>\n",
       "      <td>18-JUN-09 13:15</td>\n",
       "      <td>18-JUN-09 18:00</td>\n",
       "      <td>420</td>\n",
       "      <td>Paediatrics</td>\n",
       "      <td>1240</td>\n",
       "      <td>420</td>\n",
       "      <td>0.0</td>\n",
       "      <td>04-MAR-12 00:00</td>\n",
       "    </tr>\n",
       "    <tr>\n",
       "      <th>1</th>\n",
       "      <td>368636689369</td>\n",
       "      <td>0</td>\n",
       "      <td>2</td>\n",
       "      <td>8672974</td>\n",
       "      <td>18-JUN-09 04:03</td>\n",
       "      <td>19-JUN-09 11:49</td>\n",
       "      <td>82</td>\n",
       "      <td>BABIES BORN IN THIS UNIT</td>\n",
       "      <td>1</td>\n",
       "      <td>79</td>\n",
       "      <td>...</td>\n",
       "      <td>USUAL PLACE OF RESIDENCE</td>\n",
       "      <td>1</td>\n",
       "      <td>18-JUN-09 04:03</td>\n",
       "      <td>19-JUN-09 11:49</td>\n",
       "      <td>424</td>\n",
       "      <td>Well Babies</td>\n",
       "      <td>1463</td>\n",
       "      <td>502</td>\n",
       "      <td>1.0</td>\n",
       "      <td>NaN</td>\n",
       "    </tr>\n",
       "    <tr>\n",
       "      <th>2</th>\n",
       "      <td>518050189349</td>\n",
       "      <td>41</td>\n",
       "      <td>1</td>\n",
       "      <td>8663608</td>\n",
       "      <td>02-JUN-09 12:45</td>\n",
       "      <td>04-JUN-09 10:30</td>\n",
       "      <td>21</td>\n",
       "      <td>EMERGENCY A+E</td>\n",
       "      <td>2</td>\n",
       "      <td>19</td>\n",
       "      <td>...</td>\n",
       "      <td>USUAL PLACE OF RESIDENCE</td>\n",
       "      <td>2</td>\n",
       "      <td>03-JUN-09 13:15</td>\n",
       "      <td>03-JUN-09 13:15</td>\n",
       "      <td>300</td>\n",
       "      <td>General Medicine</td>\n",
       "      <td>1443</td>\n",
       "      <td>300</td>\n",
       "      <td>0.0</td>\n",
       "      <td>NaN</td>\n",
       "    </tr>\n",
       "    <tr>\n",
       "      <th>3</th>\n",
       "      <td>518050189349</td>\n",
       "      <td>41</td>\n",
       "      <td>1</td>\n",
       "      <td>8663608</td>\n",
       "      <td>02-JUN-09 12:45</td>\n",
       "      <td>04-JUN-09 10:30</td>\n",
       "      <td>21</td>\n",
       "      <td>EMERGENCY A+E</td>\n",
       "      <td>2</td>\n",
       "      <td>19</td>\n",
       "      <td>...</td>\n",
       "      <td>USUAL PLACE OF RESIDENCE</td>\n",
       "      <td>4</td>\n",
       "      <td>04-JUN-09 09:10</td>\n",
       "      <td>04-JUN-09 10:30</td>\n",
       "      <td>306</td>\n",
       "      <td>Hepatology</td>\n",
       "      <td>490</td>\n",
       "      <td>300</td>\n",
       "      <td>0.0</td>\n",
       "      <td>NaN</td>\n",
       "    </tr>\n",
       "    <tr>\n",
       "      <th>4</th>\n",
       "      <td>518050189349</td>\n",
       "      <td>41</td>\n",
       "      <td>1</td>\n",
       "      <td>8663608</td>\n",
       "      <td>02-JUN-09 12:45</td>\n",
       "      <td>04-JUN-09 10:30</td>\n",
       "      <td>21</td>\n",
       "      <td>EMERGENCY A+E</td>\n",
       "      <td>2</td>\n",
       "      <td>19</td>\n",
       "      <td>...</td>\n",
       "      <td>USUAL PLACE OF RESIDENCE</td>\n",
       "      <td>3</td>\n",
       "      <td>03-JUN-09 13:35</td>\n",
       "      <td>03-JUN-09 13:35</td>\n",
       "      <td>100</td>\n",
       "      <td>General Surgery</td>\n",
       "      <td>1378</td>\n",
       "      <td>100</td>\n",
       "      <td>0.0</td>\n",
       "      <td>NaN</td>\n",
       "    </tr>\n",
       "  </tbody>\n",
       "</table>\n",
       "<p>5 rows × 24 columns</p>\n",
       "</div>"
      ],
      "text/plain": [
       "  pseudo_patient_number  age_at__admission  gender  spell_number  \\\n",
       "0          508656089369                 10       1       8673622   \n",
       "1          368636689369                  0       2       8672974   \n",
       "2          518050189349                 41       1       8663608   \n",
       "3          518050189349                 41       1       8663608   \n",
       "4          518050189349                 41       1       8663608   \n",
       "\n",
       "    admission_date   discharge_date admission_method_code  \\\n",
       "0  18-JUN-09 13:15  18-JUN-09 18:00                    21   \n",
       "1  18-JUN-09 04:03  19-JUN-09 11:49                    82   \n",
       "2  02-JUN-09 12:45  04-JUN-09 10:30                    21   \n",
       "3  02-JUN-09 12:45  04-JUN-09 10:30                    21   \n",
       "4  02-JUN-09 12:45  04-JUN-09 10:30                    21   \n",
       "\n",
       "  admission_method_description  length_of_stay_days  admission_source_code  \\\n",
       "0                EMERGENCY A+E                    0                     19   \n",
       "1     BABIES BORN IN THIS UNIT                    1                     79   \n",
       "2                EMERGENCY A+E                    2                     19   \n",
       "3                EMERGENCY A+E                    2                     19   \n",
       "4                EMERGENCY A+E                    2                     19   \n",
       "\n",
       "        ...        discharge_destination_desc  consultant_episode_number  \\\n",
       "0       ...          USUAL PLACE OF RESIDENCE                          1   \n",
       "1       ...          USUAL PLACE OF RESIDENCE                          1   \n",
       "2       ...          USUAL PLACE OF RESIDENCE                          2   \n",
       "3       ...          USUAL PLACE OF RESIDENCE                          4   \n",
       "4       ...          USUAL PLACE OF RESIDENCE                          3   \n",
       "\n",
       "  episode_start_date  episode_end_date specialty_code  specialty_description  \\\n",
       "0    18-JUN-09 13:15   18-JUN-09 18:00            420            Paediatrics   \n",
       "1    18-JUN-09 04:03   19-JUN-09 11:49            424            Well Babies   \n",
       "2    03-JUN-09 13:15   03-JUN-09 13:15            300       General Medicine   \n",
       "3    04-JUN-09 09:10   04-JUN-09 10:30            306             Hepatology   \n",
       "4    03-JUN-09 13:35   03-JUN-09 13:35            100        General Surgery   \n",
       "\n",
       "  consultant_code main_specialty_code  length_of_episode_days    date_of_death  \n",
       "0            1240                 420                     0.0  04-MAR-12 00:00  \n",
       "1            1463                 502                     1.0              NaN  \n",
       "2            1443                 300                     0.0              NaN  \n",
       "3             490                 300                     0.0              NaN  \n",
       "4            1378                 100                     0.0              NaN  \n",
       "\n",
       "[5 rows x 24 columns]"
      ]
     },
     "execution_count": 11,
     "metadata": {},
     "output_type": "execute_result"
    }
   ],
   "source": [
    "fce.head()"
   ]
  },
  {
   "cell_type": "code",
   "execution_count": 12,
   "metadata": {},
   "outputs": [
    {
     "data": {
      "text/plain": [
       "Index(['pseudo_patient_number', 'age_at__admission', 'gender', 'spell_number',\n",
       "       'admission_date', 'discharge_date', 'admission_method_code',\n",
       "       'admission_method_description', 'length_of_stay_days',\n",
       "       'admission_source_code', 'admission_source_description',\n",
       "       'discharge_method_code', 'discharge_method_description',\n",
       "       'discharge_destination_code', 'discharge_destination_desc',\n",
       "       'consultant_episode_number', 'episode_start_date', 'episode_end_date',\n",
       "       'specialty_code', 'specialty_description', 'consultant_code',\n",
       "       'main_specialty_code', 'length_of_episode_days', 'date_of_death'],\n",
       "      dtype='object')"
      ]
     },
     "execution_count": 12,
     "metadata": {},
     "output_type": "execute_result"
    }
   ],
   "source": [
    "fce.columns"
   ]
  },
  {
   "cell_type": "code",
   "execution_count": 13,
   "metadata": {
    "collapsed": true
   },
   "outputs": [],
   "source": [
    "drop_col = ['consultant_episode_number','episode_start_date','episode_end_date','specialty_code','specialty_description','consultant_code',\n",
    "           'main_specialty_code','length_of_episode_days']\n",
    "# drop_col = ['Consultant Episode Number','Episode Start Date','Episode End Date','Specialty Code','Specialty Description',\n",
    "#             'Consultant Code','Main Specialty Code','Length of Episode (Days)']"
   ]
  },
  {
   "cell_type": "code",
   "execution_count": 14,
   "metadata": {
    "collapsed": true
   },
   "outputs": [],
   "source": [
    "fce = fce.drop(drop_col, axis=1)"
   ]
  },
  {
   "cell_type": "code",
   "execution_count": 15,
   "metadata": {
    "collapsed": false
   },
   "outputs": [
    {
     "data": {
      "text/plain": [
       "(1735487, 16)"
      ]
     },
     "execution_count": 15,
     "metadata": {},
     "output_type": "execute_result"
    }
   ],
   "source": [
    "fce.shape"
   ]
  },
  {
   "cell_type": "code",
   "execution_count": 16,
   "metadata": {
    "collapsed": true
   },
   "outputs": [],
   "source": [
    "fce.drop_duplicates(inplace=True)"
   ]
  },
  {
   "cell_type": "code",
   "execution_count": 17,
   "metadata": {
    "collapsed": false
   },
   "outputs": [
    {
     "data": {
      "text/plain": [
       "(1372415, 16)"
      ]
     },
     "execution_count": 17,
     "metadata": {},
     "output_type": "execute_result"
    }
   ],
   "source": [
    "fce.shape"
   ]
  },
  {
   "cell_type": "markdown",
   "metadata": {},
   "source": [
    "merge FCE spell list(df)  with ward list (df2)"
   ]
  },
  {
   "cell_type": "code",
   "execution_count": 18,
   "metadata": {
    "collapsed": true
   },
   "outputs": [],
   "source": [
    "dff = fce.merge(ward,on='spell_number',how='inner')"
   ]
  },
  {
   "cell_type": "code",
   "execution_count": 19,
   "metadata": {},
   "outputs": [],
   "source": [
    "ward2 = dff"
   ]
  },
  {
   "cell_type": "code",
   "execution_count": 20,
   "metadata": {
    "collapsed": false
   },
   "outputs": [
    {
     "data": {
      "text/plain": [
       "(2115615, 20)"
      ]
     },
     "execution_count": 20,
     "metadata": {},
     "output_type": "execute_result"
    }
   ],
   "source": [
    "ward2.shape"
   ]
  },
  {
   "cell_type": "code",
   "execution_count": null,
   "metadata": {},
   "outputs": [],
   "source": []
  },
  {
   "cell_type": "markdown",
   "metadata": {},
   "source": [
    "checks"
   ]
  },
  {
   "cell_type": "code",
   "execution_count": 21,
   "metadata": {
    "collapsed": false
   },
   "outputs": [
    {
     "data": {
      "text/html": [
       "<div>\n",
       "<style scoped>\n",
       "    .dataframe tbody tr th:only-of-type {\n",
       "        vertical-align: middle;\n",
       "    }\n",
       "\n",
       "    .dataframe tbody tr th {\n",
       "        vertical-align: top;\n",
       "    }\n",
       "\n",
       "    .dataframe thead th {\n",
       "        text-align: right;\n",
       "    }\n",
       "</style>\n",
       "<table border=\"1\" class=\"dataframe\">\n",
       "  <thead>\n",
       "    <tr style=\"text-align: right;\">\n",
       "      <th></th>\n",
       "      <th>spell_number</th>\n",
       "      <th>ward_code</th>\n",
       "      <th>ward_code_description</th>\n",
       "      <th>ward_stay_start_date</th>\n",
       "      <th>ward_stay_end_date</th>\n",
       "    </tr>\n",
       "  </thead>\n",
       "  <tbody>\n",
       "    <tr>\n",
       "      <th>0</th>\n",
       "      <td>8670648</td>\n",
       "      <td>1146</td>\n",
       "      <td>AMU ADMISSIONS 2</td>\n",
       "      <td>15/06/2009 04:00:00</td>\n",
       "      <td>16/06/2009 11:34:02</td>\n",
       "    </tr>\n",
       "    <tr>\n",
       "      <th>1</th>\n",
       "      <td>8670648</td>\n",
       "      <td>1145</td>\n",
       "      <td>AMU ADMISSIONS 1</td>\n",
       "      <td>16/06/2009 11:34:02</td>\n",
       "      <td>17/06/2009 22:00:02</td>\n",
       "    </tr>\n",
       "    <tr>\n",
       "      <th>2</th>\n",
       "      <td>8670648</td>\n",
       "      <td>151</td>\n",
       "      <td>D8 KENNETT</td>\n",
       "      <td>17/06/2009 22:00:02</td>\n",
       "      <td>24/06/2009 10:59:00</td>\n",
       "    </tr>\n",
       "    <tr>\n",
       "      <th>3</th>\n",
       "      <td>8670696</td>\n",
       "      <td>129</td>\n",
       "      <td>G3 PAEDIATRICS</td>\n",
       "      <td>22/06/2009 08:00:00</td>\n",
       "      <td>23/06/2009 09:46:00</td>\n",
       "    </tr>\n",
       "    <tr>\n",
       "      <th>4</th>\n",
       "      <td>8670732</td>\n",
       "      <td>1169</td>\n",
       "      <td>D3H HAMILTON FAIRLEY</td>\n",
       "      <td>15/06/2009 09:00:00</td>\n",
       "      <td>19/06/2009 14:32:00</td>\n",
       "    </tr>\n",
       "  </tbody>\n",
       "</table>\n",
       "</div>"
      ],
      "text/plain": [
       "   spell_number  ward_code ward_code_description ward_stay_start_date  \\\n",
       "0       8670648       1146      AMU ADMISSIONS 2  15/06/2009 04:00:00   \n",
       "1       8670648       1145      AMU ADMISSIONS 1  16/06/2009 11:34:02   \n",
       "2       8670648        151            D8 KENNETT  17/06/2009 22:00:02   \n",
       "3       8670696        129        G3 PAEDIATRICS  22/06/2009 08:00:00   \n",
       "4       8670732       1169  D3H HAMILTON FAIRLEY  15/06/2009 09:00:00   \n",
       "\n",
       "    ward_stay_end_date  \n",
       "0  16/06/2009 11:34:02  \n",
       "1  17/06/2009 22:00:02  \n",
       "2  24/06/2009 10:59:00  \n",
       "3  23/06/2009 09:46:00  \n",
       "4  19/06/2009 14:32:00  "
      ]
     },
     "execution_count": 21,
     "metadata": {},
     "output_type": "execute_result"
    }
   ],
   "source": [
    "ward.head()"
   ]
  },
  {
   "cell_type": "code",
   "execution_count": 22,
   "metadata": {
    "collapsed": false
   },
   "outputs": [
    {
     "data": {
      "text/html": [
       "<div>\n",
       "<style scoped>\n",
       "    .dataframe tbody tr th:only-of-type {\n",
       "        vertical-align: middle;\n",
       "    }\n",
       "\n",
       "    .dataframe tbody tr th {\n",
       "        vertical-align: top;\n",
       "    }\n",
       "\n",
       "    .dataframe thead th {\n",
       "        text-align: right;\n",
       "    }\n",
       "</style>\n",
       "<table border=\"1\" class=\"dataframe\">\n",
       "  <thead>\n",
       "    <tr style=\"text-align: right;\">\n",
       "      <th></th>\n",
       "      <th>spell_number</th>\n",
       "      <th>ward_code</th>\n",
       "      <th>ward_code_description</th>\n",
       "      <th>ward_stay_start_date</th>\n",
       "      <th>ward_stay_end_date</th>\n",
       "    </tr>\n",
       "  </thead>\n",
       "  <tbody>\n",
       "    <tr>\n",
       "      <th>14328</th>\n",
       "      <td>8663608</td>\n",
       "      <td>168</td>\n",
       "      <td>MEDICAL ENDOSCOPY UNIT E LEVEL</td>\n",
       "      <td>02/06/2009 12:45:00</td>\n",
       "      <td>02/06/2009 13:41:02</td>\n",
       "    </tr>\n",
       "    <tr>\n",
       "      <th>14329</th>\n",
       "      <td>8663608</td>\n",
       "      <td>118</td>\n",
       "      <td>E5 UPPER GI</td>\n",
       "      <td>02/06/2009 13:41:02</td>\n",
       "      <td>03/06/2009 13:15:02</td>\n",
       "    </tr>\n",
       "    <tr>\n",
       "      <th>14330</th>\n",
       "      <td>8663608</td>\n",
       "      <td>168</td>\n",
       "      <td>MEDICAL ENDOSCOPY UNIT E LEVEL</td>\n",
       "      <td>03/06/2009 13:15:02</td>\n",
       "      <td>03/06/2009 13:35:02</td>\n",
       "    </tr>\n",
       "    <tr>\n",
       "      <th>14331</th>\n",
       "      <td>8663608</td>\n",
       "      <td>118</td>\n",
       "      <td>E5 UPPER GI</td>\n",
       "      <td>03/06/2009 13:35:02</td>\n",
       "      <td>04/06/2009 10:31:00</td>\n",
       "    </tr>\n",
       "  </tbody>\n",
       "</table>\n",
       "</div>"
      ],
      "text/plain": [
       "       spell_number  ward_code           ward_code_description  \\\n",
       "14328       8663608        168  MEDICAL ENDOSCOPY UNIT E LEVEL   \n",
       "14329       8663608        118                     E5 UPPER GI   \n",
       "14330       8663608        168  MEDICAL ENDOSCOPY UNIT E LEVEL   \n",
       "14331       8663608        118                     E5 UPPER GI   \n",
       "\n",
       "      ward_stay_start_date   ward_stay_end_date  \n",
       "14328  02/06/2009 12:45:00  02/06/2009 13:41:02  \n",
       "14329  02/06/2009 13:41:02  03/06/2009 13:15:02  \n",
       "14330  03/06/2009 13:15:02  03/06/2009 13:35:02  \n",
       "14331  03/06/2009 13:35:02  04/06/2009 10:31:00  "
      ]
     },
     "execution_count": 22,
     "metadata": {},
     "output_type": "execute_result"
    }
   ],
   "source": [
    "ward[ward['spell_number'] == 8663608]"
   ]
  },
  {
   "cell_type": "code",
   "execution_count": 23,
   "metadata": {
    "collapsed": false
   },
   "outputs": [
    {
     "data": {
      "text/html": [
       "<div>\n",
       "<style scoped>\n",
       "    .dataframe tbody tr th:only-of-type {\n",
       "        vertical-align: middle;\n",
       "    }\n",
       "\n",
       "    .dataframe tbody tr th {\n",
       "        vertical-align: top;\n",
       "    }\n",
       "\n",
       "    .dataframe thead th {\n",
       "        text-align: right;\n",
       "    }\n",
       "</style>\n",
       "<table border=\"1\" class=\"dataframe\">\n",
       "  <thead>\n",
       "    <tr style=\"text-align: right;\">\n",
       "      <th></th>\n",
       "      <th>spell_number</th>\n",
       "      <th>ward_code</th>\n",
       "      <th>ward_code_description</th>\n",
       "      <th>ward_stay_start_date</th>\n",
       "      <th>ward_stay_end_date</th>\n",
       "    </tr>\n",
       "  </thead>\n",
       "  <tbody>\n",
       "    <tr>\n",
       "      <th>14328</th>\n",
       "      <td>8663608</td>\n",
       "      <td>168</td>\n",
       "      <td>MEDICAL ENDOSCOPY UNIT E LEVEL</td>\n",
       "      <td>02/06/2009 12:45:00</td>\n",
       "      <td>02/06/2009 13:41:02</td>\n",
       "    </tr>\n",
       "    <tr>\n",
       "      <th>14329</th>\n",
       "      <td>8663608</td>\n",
       "      <td>118</td>\n",
       "      <td>E5 UPPER GI</td>\n",
       "      <td>02/06/2009 13:41:02</td>\n",
       "      <td>03/06/2009 13:15:02</td>\n",
       "    </tr>\n",
       "    <tr>\n",
       "      <th>14330</th>\n",
       "      <td>8663608</td>\n",
       "      <td>168</td>\n",
       "      <td>MEDICAL ENDOSCOPY UNIT E LEVEL</td>\n",
       "      <td>03/06/2009 13:15:02</td>\n",
       "      <td>03/06/2009 13:35:02</td>\n",
       "    </tr>\n",
       "    <tr>\n",
       "      <th>14331</th>\n",
       "      <td>8663608</td>\n",
       "      <td>118</td>\n",
       "      <td>E5 UPPER GI</td>\n",
       "      <td>03/06/2009 13:35:02</td>\n",
       "      <td>04/06/2009 10:31:00</td>\n",
       "    </tr>\n",
       "  </tbody>\n",
       "</table>\n",
       "</div>"
      ],
      "text/plain": [
       "       spell_number  ward_code           ward_code_description  \\\n",
       "14328       8663608        168  MEDICAL ENDOSCOPY UNIT E LEVEL   \n",
       "14329       8663608        118                     E5 UPPER GI   \n",
       "14330       8663608        168  MEDICAL ENDOSCOPY UNIT E LEVEL   \n",
       "14331       8663608        118                     E5 UPPER GI   \n",
       "\n",
       "      ward_stay_start_date   ward_stay_end_date  \n",
       "14328  02/06/2009 12:45:00  02/06/2009 13:41:02  \n",
       "14329  02/06/2009 13:41:02  03/06/2009 13:15:02  \n",
       "14330  03/06/2009 13:15:02  03/06/2009 13:35:02  \n",
       "14331  03/06/2009 13:35:02  04/06/2009 10:31:00  "
      ]
     },
     "execution_count": 23,
     "metadata": {},
     "output_type": "execute_result"
    }
   ],
   "source": [
    "ward[ward['spell_number'] == 8663608]"
   ]
  },
  {
   "cell_type": "code",
   "execution_count": 24,
   "metadata": {
    "collapsed": false
   },
   "outputs": [
    {
     "data": {
      "text/html": [
       "<div>\n",
       "<style scoped>\n",
       "    .dataframe tbody tr th:only-of-type {\n",
       "        vertical-align: middle;\n",
       "    }\n",
       "\n",
       "    .dataframe tbody tr th {\n",
       "        vertical-align: top;\n",
       "    }\n",
       "\n",
       "    .dataframe thead th {\n",
       "        text-align: right;\n",
       "    }\n",
       "</style>\n",
       "<table border=\"1\" class=\"dataframe\">\n",
       "  <thead>\n",
       "    <tr style=\"text-align: right;\">\n",
       "      <th></th>\n",
       "      <th>pseudo_patient_number</th>\n",
       "      <th>age_at__admission</th>\n",
       "      <th>gender</th>\n",
       "      <th>spell_number</th>\n",
       "      <th>admission_date</th>\n",
       "      <th>discharge_date</th>\n",
       "      <th>admission_method_code</th>\n",
       "      <th>admission_method_description</th>\n",
       "      <th>length_of_stay_days</th>\n",
       "      <th>admission_source_code</th>\n",
       "      <th>admission_source_description</th>\n",
       "      <th>discharge_method_code</th>\n",
       "      <th>discharge_method_description</th>\n",
       "      <th>discharge_destination_code</th>\n",
       "      <th>discharge_destination_desc</th>\n",
       "      <th>date_of_death</th>\n",
       "      <th>ward_code</th>\n",
       "      <th>ward_code_description</th>\n",
       "      <th>ward_stay_start_date</th>\n",
       "      <th>ward_stay_end_date</th>\n",
       "    </tr>\n",
       "  </thead>\n",
       "  <tbody>\n",
       "    <tr>\n",
       "      <th>3</th>\n",
       "      <td>518050189349</td>\n",
       "      <td>41</td>\n",
       "      <td>1</td>\n",
       "      <td>8663608</td>\n",
       "      <td>02-JUN-09 12:45</td>\n",
       "      <td>04-JUN-09 10:30</td>\n",
       "      <td>21</td>\n",
       "      <td>EMERGENCY A+E</td>\n",
       "      <td>2</td>\n",
       "      <td>19</td>\n",
       "      <td>USUAL RESIDENCE INCL NFA</td>\n",
       "      <td>2.0</td>\n",
       "      <td>DISCHARGE BY SELF OR RELATIVE</td>\n",
       "      <td>19.0</td>\n",
       "      <td>USUAL PLACE OF RESIDENCE</td>\n",
       "      <td>NaN</td>\n",
       "      <td>168</td>\n",
       "      <td>MEDICAL ENDOSCOPY UNIT E LEVEL</td>\n",
       "      <td>02/06/2009 12:45:00</td>\n",
       "      <td>02/06/2009 13:41:02</td>\n",
       "    </tr>\n",
       "    <tr>\n",
       "      <th>4</th>\n",
       "      <td>518050189349</td>\n",
       "      <td>41</td>\n",
       "      <td>1</td>\n",
       "      <td>8663608</td>\n",
       "      <td>02-JUN-09 12:45</td>\n",
       "      <td>04-JUN-09 10:30</td>\n",
       "      <td>21</td>\n",
       "      <td>EMERGENCY A+E</td>\n",
       "      <td>2</td>\n",
       "      <td>19</td>\n",
       "      <td>USUAL RESIDENCE INCL NFA</td>\n",
       "      <td>2.0</td>\n",
       "      <td>DISCHARGE BY SELF OR RELATIVE</td>\n",
       "      <td>19.0</td>\n",
       "      <td>USUAL PLACE OF RESIDENCE</td>\n",
       "      <td>NaN</td>\n",
       "      <td>118</td>\n",
       "      <td>E5 UPPER GI</td>\n",
       "      <td>02/06/2009 13:41:02</td>\n",
       "      <td>03/06/2009 13:15:02</td>\n",
       "    </tr>\n",
       "    <tr>\n",
       "      <th>5</th>\n",
       "      <td>518050189349</td>\n",
       "      <td>41</td>\n",
       "      <td>1</td>\n",
       "      <td>8663608</td>\n",
       "      <td>02-JUN-09 12:45</td>\n",
       "      <td>04-JUN-09 10:30</td>\n",
       "      <td>21</td>\n",
       "      <td>EMERGENCY A+E</td>\n",
       "      <td>2</td>\n",
       "      <td>19</td>\n",
       "      <td>USUAL RESIDENCE INCL NFA</td>\n",
       "      <td>2.0</td>\n",
       "      <td>DISCHARGE BY SELF OR RELATIVE</td>\n",
       "      <td>19.0</td>\n",
       "      <td>USUAL PLACE OF RESIDENCE</td>\n",
       "      <td>NaN</td>\n",
       "      <td>168</td>\n",
       "      <td>MEDICAL ENDOSCOPY UNIT E LEVEL</td>\n",
       "      <td>03/06/2009 13:15:02</td>\n",
       "      <td>03/06/2009 13:35:02</td>\n",
       "    </tr>\n",
       "    <tr>\n",
       "      <th>6</th>\n",
       "      <td>518050189349</td>\n",
       "      <td>41</td>\n",
       "      <td>1</td>\n",
       "      <td>8663608</td>\n",
       "      <td>02-JUN-09 12:45</td>\n",
       "      <td>04-JUN-09 10:30</td>\n",
       "      <td>21</td>\n",
       "      <td>EMERGENCY A+E</td>\n",
       "      <td>2</td>\n",
       "      <td>19</td>\n",
       "      <td>USUAL RESIDENCE INCL NFA</td>\n",
       "      <td>2.0</td>\n",
       "      <td>DISCHARGE BY SELF OR RELATIVE</td>\n",
       "      <td>19.0</td>\n",
       "      <td>USUAL PLACE OF RESIDENCE</td>\n",
       "      <td>NaN</td>\n",
       "      <td>118</td>\n",
       "      <td>E5 UPPER GI</td>\n",
       "      <td>03/06/2009 13:35:02</td>\n",
       "      <td>04/06/2009 10:31:00</td>\n",
       "    </tr>\n",
       "  </tbody>\n",
       "</table>\n",
       "</div>"
      ],
      "text/plain": [
       "  pseudo_patient_number  age_at__admission  gender  spell_number  \\\n",
       "3          518050189349                 41       1       8663608   \n",
       "4          518050189349                 41       1       8663608   \n",
       "5          518050189349                 41       1       8663608   \n",
       "6          518050189349                 41       1       8663608   \n",
       "\n",
       "    admission_date   discharge_date admission_method_code  \\\n",
       "3  02-JUN-09 12:45  04-JUN-09 10:30                    21   \n",
       "4  02-JUN-09 12:45  04-JUN-09 10:30                    21   \n",
       "5  02-JUN-09 12:45  04-JUN-09 10:30                    21   \n",
       "6  02-JUN-09 12:45  04-JUN-09 10:30                    21   \n",
       "\n",
       "  admission_method_description  length_of_stay_days  admission_source_code  \\\n",
       "3                EMERGENCY A+E                    2                     19   \n",
       "4                EMERGENCY A+E                    2                     19   \n",
       "5                EMERGENCY A+E                    2                     19   \n",
       "6                EMERGENCY A+E                    2                     19   \n",
       "\n",
       "  admission_source_description  discharge_method_code  \\\n",
       "3     USUAL RESIDENCE INCL NFA                    2.0   \n",
       "4     USUAL RESIDENCE INCL NFA                    2.0   \n",
       "5     USUAL RESIDENCE INCL NFA                    2.0   \n",
       "6     USUAL RESIDENCE INCL NFA                    2.0   \n",
       "\n",
       "    discharge_method_description  discharge_destination_code  \\\n",
       "3  DISCHARGE BY SELF OR RELATIVE                        19.0   \n",
       "4  DISCHARGE BY SELF OR RELATIVE                        19.0   \n",
       "5  DISCHARGE BY SELF OR RELATIVE                        19.0   \n",
       "6  DISCHARGE BY SELF OR RELATIVE                        19.0   \n",
       "\n",
       "  discharge_destination_desc date_of_death  ward_code  \\\n",
       "3   USUAL PLACE OF RESIDENCE           NaN        168   \n",
       "4   USUAL PLACE OF RESIDENCE           NaN        118   \n",
       "5   USUAL PLACE OF RESIDENCE           NaN        168   \n",
       "6   USUAL PLACE OF RESIDENCE           NaN        118   \n",
       "\n",
       "            ward_code_description ward_stay_start_date   ward_stay_end_date  \n",
       "3  MEDICAL ENDOSCOPY UNIT E LEVEL  02/06/2009 12:45:00  02/06/2009 13:41:02  \n",
       "4                     E5 UPPER GI  02/06/2009 13:41:02  03/06/2009 13:15:02  \n",
       "5  MEDICAL ENDOSCOPY UNIT E LEVEL  03/06/2009 13:15:02  03/06/2009 13:35:02  \n",
       "6                     E5 UPPER GI  03/06/2009 13:35:02  04/06/2009 10:31:00  "
      ]
     },
     "execution_count": 24,
     "metadata": {},
     "output_type": "execute_result"
    }
   ],
   "source": [
    "ward2[ward2['spell_number'] == 8663608]"
   ]
  },
  {
   "cell_type": "markdown",
   "metadata": {},
   "source": [
    "make ward move no."
   ]
  },
  {
   "cell_type": "code",
   "execution_count": 25,
   "metadata": {},
   "outputs": [],
   "source": [
    "ward2.sort_values(['spell_number','ward_stay_start_date'],inplace=True)\n",
    "\n",
    "ward2['LOCATION_NUMBER'] = 1\n",
    "ward2['LOCATION_NUMBER'] = ward2.groupby('spell_number')['LOCATION_NUMBER'].cumsum()"
   ]
  },
  {
   "cell_type": "code",
   "execution_count": 26,
   "metadata": {
    "collapsed": false
   },
   "outputs": [
    {
     "data": {
      "text/html": [
       "<div>\n",
       "<style scoped>\n",
       "    .dataframe tbody tr th:only-of-type {\n",
       "        vertical-align: middle;\n",
       "    }\n",
       "\n",
       "    .dataframe tbody tr th {\n",
       "        vertical-align: top;\n",
       "    }\n",
       "\n",
       "    .dataframe thead th {\n",
       "        text-align: right;\n",
       "    }\n",
       "</style>\n",
       "<table border=\"1\" class=\"dataframe\">\n",
       "  <thead>\n",
       "    <tr style=\"text-align: right;\">\n",
       "      <th></th>\n",
       "      <th>pseudo_patient_number</th>\n",
       "      <th>age_at__admission</th>\n",
       "      <th>gender</th>\n",
       "      <th>spell_number</th>\n",
       "      <th>admission_date</th>\n",
       "      <th>discharge_date</th>\n",
       "      <th>admission_method_code</th>\n",
       "      <th>admission_method_description</th>\n",
       "      <th>length_of_stay_days</th>\n",
       "      <th>admission_source_code</th>\n",
       "      <th>...</th>\n",
       "      <th>discharge_method_code</th>\n",
       "      <th>discharge_method_description</th>\n",
       "      <th>discharge_destination_code</th>\n",
       "      <th>discharge_destination_desc</th>\n",
       "      <th>date_of_death</th>\n",
       "      <th>ward_code</th>\n",
       "      <th>ward_code_description</th>\n",
       "      <th>ward_stay_start_date</th>\n",
       "      <th>ward_stay_end_date</th>\n",
       "      <th>LOCATION_NUMBER</th>\n",
       "    </tr>\n",
       "  </thead>\n",
       "  <tbody>\n",
       "    <tr>\n",
       "      <th>16804</th>\n",
       "      <td>353232538008</td>\n",
       "      <td>79</td>\n",
       "      <td>2</td>\n",
       "      <td>6222150</td>\n",
       "      <td>29-APR-09 14:19</td>\n",
       "      <td>29-APR-09 15:08</td>\n",
       "      <td>13</td>\n",
       "      <td>ELECTIVE PLANNED</td>\n",
       "      <td>0</td>\n",
       "      <td>19</td>\n",
       "      <td>...</td>\n",
       "      <td>1.0</td>\n",
       "      <td>ON MEDICAL ADVICE</td>\n",
       "      <td>19.0</td>\n",
       "      <td>USUAL PLACE OF RESIDENCE</td>\n",
       "      <td>08-MAY-18 00:00</td>\n",
       "      <td>1160</td>\n",
       "      <td>UROLOGY ENDOSCOPY SGH</td>\n",
       "      <td>29/04/2009 14:19:00</td>\n",
       "      <td>29/04/2009 15:08:00</td>\n",
       "      <td>1</td>\n",
       "    </tr>\n",
       "    <tr>\n",
       "      <th>74439</th>\n",
       "      <td>352434524354</td>\n",
       "      <td>24</td>\n",
       "      <td>2</td>\n",
       "      <td>6279602</td>\n",
       "      <td>20-AUG-09 23:00</td>\n",
       "      <td>21-AUG-09 02:00</td>\n",
       "      <td>31</td>\n",
       "      <td>MATERNITY ANTE PARTUM</td>\n",
       "      <td>1</td>\n",
       "      <td>19</td>\n",
       "      <td>...</td>\n",
       "      <td>1.0</td>\n",
       "      <td>ON MEDICAL ADVICE</td>\n",
       "      <td>51.0</td>\n",
       "      <td>OTHER-GEN.WARD/YOUNG PHYS.DIS.</td>\n",
       "      <td>NaN</td>\n",
       "      <td>1269</td>\n",
       "      <td>DELIVERY SUITE</td>\n",
       "      <td>20/08/2009 23:00:00</td>\n",
       "      <td>21/08/2009 02:01:00</td>\n",
       "      <td>1</td>\n",
       "    </tr>\n",
       "    <tr>\n",
       "      <th>5238</th>\n",
       "      <td>302434022192</td>\n",
       "      <td>55</td>\n",
       "      <td>2</td>\n",
       "      <td>6635911</td>\n",
       "      <td>14-APR-09 09:00</td>\n",
       "      <td>15-APR-09 16:30</td>\n",
       "      <td>13</td>\n",
       "      <td>ELECTIVE PLANNED</td>\n",
       "      <td>1</td>\n",
       "      <td>19</td>\n",
       "      <td>...</td>\n",
       "      <td>1.0</td>\n",
       "      <td>ON MEDICAL ADVICE</td>\n",
       "      <td>19.0</td>\n",
       "      <td>USUAL PLACE OF RESIDENCE</td>\n",
       "      <td>NaN</td>\n",
       "      <td>1174</td>\n",
       "      <td>C7 MANAGED CARE</td>\n",
       "      <td>14/04/2009 09:00:00</td>\n",
       "      <td>15/04/2009 09:44:00</td>\n",
       "      <td>1</td>\n",
       "    </tr>\n",
       "    <tr>\n",
       "      <th>5237</th>\n",
       "      <td>302434022192</td>\n",
       "      <td>55</td>\n",
       "      <td>2</td>\n",
       "      <td>6635911</td>\n",
       "      <td>14-APR-09 09:00</td>\n",
       "      <td>15-APR-09 16:30</td>\n",
       "      <td>13</td>\n",
       "      <td>ELECTIVE PLANNED</td>\n",
       "      <td>1</td>\n",
       "      <td>19</td>\n",
       "      <td>...</td>\n",
       "      <td>1.0</td>\n",
       "      <td>ON MEDICAL ADVICE</td>\n",
       "      <td>19.0</td>\n",
       "      <td>USUAL PLACE OF RESIDENCE</td>\n",
       "      <td>NaN</td>\n",
       "      <td>168</td>\n",
       "      <td>MEDICAL ENDOSCOPY UNIT E LEVEL</td>\n",
       "      <td>15/04/2009 09:44:00</td>\n",
       "      <td>15/04/2009 11:29:00</td>\n",
       "      <td>2</td>\n",
       "    </tr>\n",
       "    <tr>\n",
       "      <th>5236</th>\n",
       "      <td>302434022192</td>\n",
       "      <td>55</td>\n",
       "      <td>2</td>\n",
       "      <td>6635911</td>\n",
       "      <td>14-APR-09 09:00</td>\n",
       "      <td>15-APR-09 16:30</td>\n",
       "      <td>13</td>\n",
       "      <td>ELECTIVE PLANNED</td>\n",
       "      <td>1</td>\n",
       "      <td>19</td>\n",
       "      <td>...</td>\n",
       "      <td>1.0</td>\n",
       "      <td>ON MEDICAL ADVICE</td>\n",
       "      <td>19.0</td>\n",
       "      <td>USUAL PLACE OF RESIDENCE</td>\n",
       "      <td>NaN</td>\n",
       "      <td>1174</td>\n",
       "      <td>C7 MANAGED CARE</td>\n",
       "      <td>15/04/2009 11:29:00</td>\n",
       "      <td>15/04/2009 16:30:00</td>\n",
       "      <td>3</td>\n",
       "    </tr>\n",
       "  </tbody>\n",
       "</table>\n",
       "<p>5 rows × 21 columns</p>\n",
       "</div>"
      ],
      "text/plain": [
       "      pseudo_patient_number  age_at__admission  gender  spell_number  \\\n",
       "16804          353232538008                 79       2       6222150   \n",
       "74439          352434524354                 24       2       6279602   \n",
       "5238           302434022192                 55       2       6635911   \n",
       "5237           302434022192                 55       2       6635911   \n",
       "5236           302434022192                 55       2       6635911   \n",
       "\n",
       "        admission_date   discharge_date admission_method_code  \\\n",
       "16804  29-APR-09 14:19  29-APR-09 15:08                    13   \n",
       "74439  20-AUG-09 23:00  21-AUG-09 02:00                    31   \n",
       "5238   14-APR-09 09:00  15-APR-09 16:30                    13   \n",
       "5237   14-APR-09 09:00  15-APR-09 16:30                    13   \n",
       "5236   14-APR-09 09:00  15-APR-09 16:30                    13   \n",
       "\n",
       "      admission_method_description  length_of_stay_days  \\\n",
       "16804             ELECTIVE PLANNED                    0   \n",
       "74439        MATERNITY ANTE PARTUM                    1   \n",
       "5238              ELECTIVE PLANNED                    1   \n",
       "5237              ELECTIVE PLANNED                    1   \n",
       "5236              ELECTIVE PLANNED                    1   \n",
       "\n",
       "       admission_source_code       ...       discharge_method_code  \\\n",
       "16804                     19       ...                         1.0   \n",
       "74439                     19       ...                         1.0   \n",
       "5238                      19       ...                         1.0   \n",
       "5237                      19       ...                         1.0   \n",
       "5236                      19       ...                         1.0   \n",
       "\n",
       "       discharge_method_description discharge_destination_code  \\\n",
       "16804             ON MEDICAL ADVICE                       19.0   \n",
       "74439             ON MEDICAL ADVICE                       51.0   \n",
       "5238              ON MEDICAL ADVICE                       19.0   \n",
       "5237              ON MEDICAL ADVICE                       19.0   \n",
       "5236              ON MEDICAL ADVICE                       19.0   \n",
       "\n",
       "           discharge_destination_desc    date_of_death ward_code  \\\n",
       "16804        USUAL PLACE OF RESIDENCE  08-MAY-18 00:00      1160   \n",
       "74439  OTHER-GEN.WARD/YOUNG PHYS.DIS.              NaN      1269   \n",
       "5238         USUAL PLACE OF RESIDENCE              NaN      1174   \n",
       "5237         USUAL PLACE OF RESIDENCE              NaN       168   \n",
       "5236         USUAL PLACE OF RESIDENCE              NaN      1174   \n",
       "\n",
       "                ward_code_description ward_stay_start_date  \\\n",
       "16804           UROLOGY ENDOSCOPY SGH  29/04/2009 14:19:00   \n",
       "74439                  DELIVERY SUITE  20/08/2009 23:00:00   \n",
       "5238                  C7 MANAGED CARE  14/04/2009 09:00:00   \n",
       "5237   MEDICAL ENDOSCOPY UNIT E LEVEL  15/04/2009 09:44:00   \n",
       "5236                  C7 MANAGED CARE  15/04/2009 11:29:00   \n",
       "\n",
       "        ward_stay_end_date LOCATION_NUMBER  \n",
       "16804  29/04/2009 15:08:00               1  \n",
       "74439  21/08/2009 02:01:00               1  \n",
       "5238   15/04/2009 09:44:00               1  \n",
       "5237   15/04/2009 11:29:00               2  \n",
       "5236   15/04/2009 16:30:00               3  \n",
       "\n",
       "[5 rows x 21 columns]"
      ]
     },
     "execution_count": 26,
     "metadata": {},
     "output_type": "execute_result"
    }
   ],
   "source": [
    "ward2.head()"
   ]
  },
  {
   "cell_type": "code",
   "execution_count": null,
   "metadata": {
    "collapsed": true
   },
   "outputs": [],
   "source": []
  },
  {
   "cell_type": "markdown",
   "metadata": {},
   "source": [
    "# cleaning"
   ]
  },
  {
   "cell_type": "markdown",
   "metadata": {},
   "source": [
    "# tidy datetime columns"
   ]
  },
  {
   "cell_type": "markdown",
   "metadata": {},
   "source": [
    "Some datetime columns are fine. Conver these now."
   ]
  },
  {
   "cell_type": "code",
   "execution_count": 27,
   "metadata": {},
   "outputs": [
    {
     "data": {
      "text/html": [
       "<div>\n",
       "<style scoped>\n",
       "    .dataframe tbody tr th:only-of-type {\n",
       "        vertical-align: middle;\n",
       "    }\n",
       "\n",
       "    .dataframe tbody tr th {\n",
       "        vertical-align: top;\n",
       "    }\n",
       "\n",
       "    .dataframe thead th {\n",
       "        text-align: right;\n",
       "    }\n",
       "</style>\n",
       "<table border=\"1\" class=\"dataframe\">\n",
       "  <thead>\n",
       "    <tr style=\"text-align: right;\">\n",
       "      <th></th>\n",
       "      <th>pseudo_patient_number</th>\n",
       "      <th>age_at__admission</th>\n",
       "      <th>gender</th>\n",
       "      <th>spell_number</th>\n",
       "      <th>admission_date</th>\n",
       "      <th>discharge_date</th>\n",
       "      <th>admission_method_code</th>\n",
       "      <th>admission_method_description</th>\n",
       "      <th>length_of_stay_days</th>\n",
       "      <th>admission_source_code</th>\n",
       "      <th>...</th>\n",
       "      <th>discharge_method_code</th>\n",
       "      <th>discharge_method_description</th>\n",
       "      <th>discharge_destination_code</th>\n",
       "      <th>discharge_destination_desc</th>\n",
       "      <th>date_of_death</th>\n",
       "      <th>ward_code</th>\n",
       "      <th>ward_code_description</th>\n",
       "      <th>ward_stay_start_date</th>\n",
       "      <th>ward_stay_end_date</th>\n",
       "      <th>LOCATION_NUMBER</th>\n",
       "    </tr>\n",
       "  </thead>\n",
       "  <tbody>\n",
       "    <tr>\n",
       "      <th>1264585</th>\n",
       "      <td>770878705055</td>\n",
       "      <td>55</td>\n",
       "      <td>1</td>\n",
       "      <td>1700700541</td>\n",
       "      <td>31-MAR-15 12:58</td>\n",
       "      <td>02-APR-15 17:00</td>\n",
       "      <td>22</td>\n",
       "      <td>EMERGENCY GP</td>\n",
       "      <td>2</td>\n",
       "      <td>19</td>\n",
       "      <td>...</td>\n",
       "      <td>1.0</td>\n",
       "      <td>ON MEDICAL ADVICE</td>\n",
       "      <td>19.0</td>\n",
       "      <td>USUAL PLACE OF RESIDENCE</td>\n",
       "      <td></td>\n",
       "      <td>117</td>\n",
       "      <td>WARD E4</td>\n",
       "      <td>01/04/2015 20:05:00</td>\n",
       "      <td>02/04/2015 17:00:00</td>\n",
       "      <td>1</td>\n",
       "    </tr>\n",
       "    <tr>\n",
       "      <th>1264583</th>\n",
       "      <td>770878705055</td>\n",
       "      <td>55</td>\n",
       "      <td>1</td>\n",
       "      <td>1700700541</td>\n",
       "      <td>31-MAR-15 12:58</td>\n",
       "      <td>02-APR-15 17:00</td>\n",
       "      <td>22</td>\n",
       "      <td>EMERGENCY GP</td>\n",
       "      <td>2</td>\n",
       "      <td>19</td>\n",
       "      <td>...</td>\n",
       "      <td>1.0</td>\n",
       "      <td>ON MEDICAL ADVICE</td>\n",
       "      <td>19.0</td>\n",
       "      <td>USUAL PLACE OF RESIDENCE</td>\n",
       "      <td></td>\n",
       "      <td>1429</td>\n",
       "      <td>GP ASSESSMENT AMU</td>\n",
       "      <td>31/03/2015 12:58:00</td>\n",
       "      <td>31/03/2015 18:09:00</td>\n",
       "      <td>2</td>\n",
       "    </tr>\n",
       "    <tr>\n",
       "      <th>1264584</th>\n",
       "      <td>770878705055</td>\n",
       "      <td>55</td>\n",
       "      <td>1</td>\n",
       "      <td>1700700541</td>\n",
       "      <td>31-MAR-15 12:58</td>\n",
       "      <td>02-APR-15 17:00</td>\n",
       "      <td>22</td>\n",
       "      <td>EMERGENCY GP</td>\n",
       "      <td>2</td>\n",
       "      <td>19</td>\n",
       "      <td>...</td>\n",
       "      <td>1.0</td>\n",
       "      <td>ON MEDICAL ADVICE</td>\n",
       "      <td>19.0</td>\n",
       "      <td>USUAL PLACE OF RESIDENCE</td>\n",
       "      <td></td>\n",
       "      <td>13</td>\n",
       "      <td>CORONARY CARE UNIT</td>\n",
       "      <td>31/03/2015 18:09:00</td>\n",
       "      <td>01/04/2015 20:05:00</td>\n",
       "      <td>3</td>\n",
       "    </tr>\n",
       "    <tr>\n",
       "      <th>1264985</th>\n",
       "      <td>692161923303</td>\n",
       "      <td>74</td>\n",
       "      <td>1</td>\n",
       "      <td>1700700649</td>\n",
       "      <td>31-MAR-15 01:55</td>\n",
       "      <td>31-MAR-15 09:45</td>\n",
       "      <td>21</td>\n",
       "      <td>EMERGENCY A+E</td>\n",
       "      <td>0</td>\n",
       "      <td>19</td>\n",
       "      <td>...</td>\n",
       "      <td>1.0</td>\n",
       "      <td>ON MEDICAL ADVICE</td>\n",
       "      <td>19.0</td>\n",
       "      <td>USUAL PLACE OF RESIDENCE</td>\n",
       "      <td></td>\n",
       "      <td>1146</td>\n",
       "      <td>AMU ADMISSIONS 2</td>\n",
       "      <td>31/03/2015 01:55:00</td>\n",
       "      <td>31/03/2015 09:45:00</td>\n",
       "      <td>1</td>\n",
       "    </tr>\n",
       "    <tr>\n",
       "      <th>1264717</th>\n",
       "      <td>213424135045</td>\n",
       "      <td>76</td>\n",
       "      <td>2</td>\n",
       "      <td>1700700662</td>\n",
       "      <td>31-MAR-15 01:45</td>\n",
       "      <td>24-APR-15 20:10</td>\n",
       "      <td>21</td>\n",
       "      <td>EMERGENCY A+E</td>\n",
       "      <td>24</td>\n",
       "      <td>19</td>\n",
       "      <td>...</td>\n",
       "      <td>1.0</td>\n",
       "      <td>ON MEDICAL ADVICE</td>\n",
       "      <td>19.0</td>\n",
       "      <td>USUAL PLACE OF RESIDENCE</td>\n",
       "      <td></td>\n",
       "      <td>1178</td>\n",
       "      <td>D4 VASCULAR</td>\n",
       "      <td>01/04/2015 04:58:00</td>\n",
       "      <td>09/04/2015 16:40:00</td>\n",
       "      <td>1</td>\n",
       "    </tr>\n",
       "  </tbody>\n",
       "</table>\n",
       "<p>5 rows × 21 columns</p>\n",
       "</div>"
      ],
      "text/plain": [
       "        pseudo_patient_number  age_at__admission  gender  spell_number  \\\n",
       "1264585          770878705055                 55       1    1700700541   \n",
       "1264583          770878705055                 55       1    1700700541   \n",
       "1264584          770878705055                 55       1    1700700541   \n",
       "1264985          692161923303                 74       1    1700700649   \n",
       "1264717          213424135045                 76       2    1700700662   \n",
       "\n",
       "          admission_date   discharge_date admission_method_code  \\\n",
       "1264585  31-MAR-15 12:58  02-APR-15 17:00                    22   \n",
       "1264583  31-MAR-15 12:58  02-APR-15 17:00                    22   \n",
       "1264584  31-MAR-15 12:58  02-APR-15 17:00                    22   \n",
       "1264985  31-MAR-15 01:55  31-MAR-15 09:45                    21   \n",
       "1264717  31-MAR-15 01:45  24-APR-15 20:10                    21   \n",
       "\n",
       "        admission_method_description  length_of_stay_days  \\\n",
       "1264585                 EMERGENCY GP                    2   \n",
       "1264583                 EMERGENCY GP                    2   \n",
       "1264584                 EMERGENCY GP                    2   \n",
       "1264985                EMERGENCY A+E                    0   \n",
       "1264717                EMERGENCY A+E                   24   \n",
       "\n",
       "         admission_source_code       ...       discharge_method_code  \\\n",
       "1264585                     19       ...                         1.0   \n",
       "1264583                     19       ...                         1.0   \n",
       "1264584                     19       ...                         1.0   \n",
       "1264985                     19       ...                         1.0   \n",
       "1264717                     19       ...                         1.0   \n",
       "\n",
       "         discharge_method_description discharge_destination_code  \\\n",
       "1264585             ON MEDICAL ADVICE                       19.0   \n",
       "1264583             ON MEDICAL ADVICE                       19.0   \n",
       "1264584             ON MEDICAL ADVICE                       19.0   \n",
       "1264985             ON MEDICAL ADVICE                       19.0   \n",
       "1264717             ON MEDICAL ADVICE                       19.0   \n",
       "\n",
       "         discharge_destination_desc date_of_death ward_code  \\\n",
       "1264585    USUAL PLACE OF RESIDENCE                     117   \n",
       "1264583    USUAL PLACE OF RESIDENCE                    1429   \n",
       "1264584    USUAL PLACE OF RESIDENCE                      13   \n",
       "1264985    USUAL PLACE OF RESIDENCE                    1146   \n",
       "1264717    USUAL PLACE OF RESIDENCE                    1178   \n",
       "\n",
       "         ward_code_description ward_stay_start_date   ward_stay_end_date  \\\n",
       "1264585                WARD E4  01/04/2015 20:05:00  02/04/2015 17:00:00   \n",
       "1264583      GP ASSESSMENT AMU  31/03/2015 12:58:00  31/03/2015 18:09:00   \n",
       "1264584     CORONARY CARE UNIT  31/03/2015 18:09:00  01/04/2015 20:05:00   \n",
       "1264985       AMU ADMISSIONS 2  31/03/2015 01:55:00  31/03/2015 09:45:00   \n",
       "1264717            D4 VASCULAR  01/04/2015 04:58:00  09/04/2015 16:40:00   \n",
       "\n",
       "        LOCATION_NUMBER  \n",
       "1264585               1  \n",
       "1264583               2  \n",
       "1264584               3  \n",
       "1264985               1  \n",
       "1264717               1  \n",
       "\n",
       "[5 rows x 21 columns]"
      ]
     },
     "execution_count": 27,
     "metadata": {},
     "output_type": "execute_result"
    }
   ],
   "source": [
    "ward2.query(\"date_of_death == ' '\").head()"
   ]
  },
  {
   "cell_type": "code",
   "execution_count": 28,
   "metadata": {},
   "outputs": [],
   "source": [
    "dt_cols = ['admission_date','discharge_date'] #,'date_of_death']\n",
    "\n",
    "for i in dt_cols:\n",
    "    ward2[i] = pd.to_datetime(ward2[i], format= '%d-%b-%y %H:%M')"
   ]
  },
  {
   "cell_type": "markdown",
   "metadata": {},
   "source": [
    "Some missing values in date of death column... ' '."
   ]
  },
  {
   "cell_type": "code",
   "execution_count": 29,
   "metadata": {},
   "outputs": [],
   "source": [
    "ward2.loc[ward2[ward2.date_of_death == ' '].index, 'date_of_death'] = np.nan"
   ]
  },
  {
   "cell_type": "markdown",
   "metadata": {},
   "source": [
    "######## error wiht below: ValueError: time data ' ' does not match format '%d-%b-%y %H:%M' (match), so left now."
   ]
  },
  {
   "cell_type": "markdown",
   "metadata": {},
   "source": [
    "dt_cols = ['date_of_death']\n",
    "\n",
    "for i in dt_cols:\n",
    "    ward2[i] =  pd.to_datetime(ward2[ward2.notnull()][i], format= '%d-%b-%y %H:%M')"
   ]
  },
  {
   "cell_type": "markdown",
   "metadata": {},
   "source": [
    "#### Clean up dates as there are differences within columns (at beginning and end of df)"
   ]
  },
  {
   "cell_type": "markdown",
   "metadata": {},
   "source": [
    "25-AUG-17 13:44\n",
    "\n",
    "18/06/2009 13:15:00"
   ]
  },
  {
   "cell_type": "code",
   "execution_count": 30,
   "metadata": {
    "collapsed": false
   },
   "outputs": [
    {
     "data": {
      "text/html": [
       "<div>\n",
       "<style scoped>\n",
       "    .dataframe tbody tr th:only-of-type {\n",
       "        vertical-align: middle;\n",
       "    }\n",
       "\n",
       "    .dataframe tbody tr th {\n",
       "        vertical-align: top;\n",
       "    }\n",
       "\n",
       "    .dataframe thead th {\n",
       "        text-align: right;\n",
       "    }\n",
       "</style>\n",
       "<table border=\"1\" class=\"dataframe\">\n",
       "  <thead>\n",
       "    <tr style=\"text-align: right;\">\n",
       "      <th></th>\n",
       "      <th>pseudo_patient_number</th>\n",
       "      <th>age_at__admission</th>\n",
       "      <th>gender</th>\n",
       "      <th>spell_number</th>\n",
       "      <th>admission_date</th>\n",
       "      <th>discharge_date</th>\n",
       "      <th>admission_method_code</th>\n",
       "      <th>admission_method_description</th>\n",
       "      <th>length_of_stay_days</th>\n",
       "      <th>admission_source_code</th>\n",
       "      <th>...</th>\n",
       "      <th>discharge_method_code</th>\n",
       "      <th>discharge_method_description</th>\n",
       "      <th>discharge_destination_code</th>\n",
       "      <th>discharge_destination_desc</th>\n",
       "      <th>date_of_death</th>\n",
       "      <th>ward_code</th>\n",
       "      <th>ward_code_description</th>\n",
       "      <th>ward_stay_start_date</th>\n",
       "      <th>ward_stay_end_date</th>\n",
       "      <th>LOCATION_NUMBER</th>\n",
       "    </tr>\n",
       "  </thead>\n",
       "  <tbody>\n",
       "    <tr>\n",
       "      <th>16804</th>\n",
       "      <td>353232538008</td>\n",
       "      <td>79</td>\n",
       "      <td>2</td>\n",
       "      <td>6222150</td>\n",
       "      <td>2009-04-29 14:19:00</td>\n",
       "      <td>2009-04-29 15:08:00</td>\n",
       "      <td>13</td>\n",
       "      <td>ELECTIVE PLANNED</td>\n",
       "      <td>0</td>\n",
       "      <td>19</td>\n",
       "      <td>...</td>\n",
       "      <td>1.0</td>\n",
       "      <td>ON MEDICAL ADVICE</td>\n",
       "      <td>19.0</td>\n",
       "      <td>USUAL PLACE OF RESIDENCE</td>\n",
       "      <td>08-MAY-18 00:00</td>\n",
       "      <td>1160</td>\n",
       "      <td>UROLOGY ENDOSCOPY SGH</td>\n",
       "      <td>29/04/2009 14:19:00</td>\n",
       "      <td>29/04/2009 15:08:00</td>\n",
       "      <td>1</td>\n",
       "    </tr>\n",
       "    <tr>\n",
       "      <th>74439</th>\n",
       "      <td>352434524354</td>\n",
       "      <td>24</td>\n",
       "      <td>2</td>\n",
       "      <td>6279602</td>\n",
       "      <td>2009-08-20 23:00:00</td>\n",
       "      <td>2009-08-21 02:00:00</td>\n",
       "      <td>31</td>\n",
       "      <td>MATERNITY ANTE PARTUM</td>\n",
       "      <td>1</td>\n",
       "      <td>19</td>\n",
       "      <td>...</td>\n",
       "      <td>1.0</td>\n",
       "      <td>ON MEDICAL ADVICE</td>\n",
       "      <td>51.0</td>\n",
       "      <td>OTHER-GEN.WARD/YOUNG PHYS.DIS.</td>\n",
       "      <td>NaN</td>\n",
       "      <td>1269</td>\n",
       "      <td>DELIVERY SUITE</td>\n",
       "      <td>20/08/2009 23:00:00</td>\n",
       "      <td>21/08/2009 02:01:00</td>\n",
       "      <td>1</td>\n",
       "    </tr>\n",
       "    <tr>\n",
       "      <th>5238</th>\n",
       "      <td>302434022192</td>\n",
       "      <td>55</td>\n",
       "      <td>2</td>\n",
       "      <td>6635911</td>\n",
       "      <td>2009-04-14 09:00:00</td>\n",
       "      <td>2009-04-15 16:30:00</td>\n",
       "      <td>13</td>\n",
       "      <td>ELECTIVE PLANNED</td>\n",
       "      <td>1</td>\n",
       "      <td>19</td>\n",
       "      <td>...</td>\n",
       "      <td>1.0</td>\n",
       "      <td>ON MEDICAL ADVICE</td>\n",
       "      <td>19.0</td>\n",
       "      <td>USUAL PLACE OF RESIDENCE</td>\n",
       "      <td>NaN</td>\n",
       "      <td>1174</td>\n",
       "      <td>C7 MANAGED CARE</td>\n",
       "      <td>14/04/2009 09:00:00</td>\n",
       "      <td>15/04/2009 09:44:00</td>\n",
       "      <td>1</td>\n",
       "    </tr>\n",
       "    <tr>\n",
       "      <th>5237</th>\n",
       "      <td>302434022192</td>\n",
       "      <td>55</td>\n",
       "      <td>2</td>\n",
       "      <td>6635911</td>\n",
       "      <td>2009-04-14 09:00:00</td>\n",
       "      <td>2009-04-15 16:30:00</td>\n",
       "      <td>13</td>\n",
       "      <td>ELECTIVE PLANNED</td>\n",
       "      <td>1</td>\n",
       "      <td>19</td>\n",
       "      <td>...</td>\n",
       "      <td>1.0</td>\n",
       "      <td>ON MEDICAL ADVICE</td>\n",
       "      <td>19.0</td>\n",
       "      <td>USUAL PLACE OF RESIDENCE</td>\n",
       "      <td>NaN</td>\n",
       "      <td>168</td>\n",
       "      <td>MEDICAL ENDOSCOPY UNIT E LEVEL</td>\n",
       "      <td>15/04/2009 09:44:00</td>\n",
       "      <td>15/04/2009 11:29:00</td>\n",
       "      <td>2</td>\n",
       "    </tr>\n",
       "    <tr>\n",
       "      <th>5236</th>\n",
       "      <td>302434022192</td>\n",
       "      <td>55</td>\n",
       "      <td>2</td>\n",
       "      <td>6635911</td>\n",
       "      <td>2009-04-14 09:00:00</td>\n",
       "      <td>2009-04-15 16:30:00</td>\n",
       "      <td>13</td>\n",
       "      <td>ELECTIVE PLANNED</td>\n",
       "      <td>1</td>\n",
       "      <td>19</td>\n",
       "      <td>...</td>\n",
       "      <td>1.0</td>\n",
       "      <td>ON MEDICAL ADVICE</td>\n",
       "      <td>19.0</td>\n",
       "      <td>USUAL PLACE OF RESIDENCE</td>\n",
       "      <td>NaN</td>\n",
       "      <td>1174</td>\n",
       "      <td>C7 MANAGED CARE</td>\n",
       "      <td>15/04/2009 11:29:00</td>\n",
       "      <td>15/04/2009 16:30:00</td>\n",
       "      <td>3</td>\n",
       "    </tr>\n",
       "  </tbody>\n",
       "</table>\n",
       "<p>5 rows × 21 columns</p>\n",
       "</div>"
      ],
      "text/plain": [
       "      pseudo_patient_number  age_at__admission  gender  spell_number  \\\n",
       "16804          353232538008                 79       2       6222150   \n",
       "74439          352434524354                 24       2       6279602   \n",
       "5238           302434022192                 55       2       6635911   \n",
       "5237           302434022192                 55       2       6635911   \n",
       "5236           302434022192                 55       2       6635911   \n",
       "\n",
       "           admission_date      discharge_date admission_method_code  \\\n",
       "16804 2009-04-29 14:19:00 2009-04-29 15:08:00                    13   \n",
       "74439 2009-08-20 23:00:00 2009-08-21 02:00:00                    31   \n",
       "5238  2009-04-14 09:00:00 2009-04-15 16:30:00                    13   \n",
       "5237  2009-04-14 09:00:00 2009-04-15 16:30:00                    13   \n",
       "5236  2009-04-14 09:00:00 2009-04-15 16:30:00                    13   \n",
       "\n",
       "      admission_method_description  length_of_stay_days  \\\n",
       "16804             ELECTIVE PLANNED                    0   \n",
       "74439        MATERNITY ANTE PARTUM                    1   \n",
       "5238              ELECTIVE PLANNED                    1   \n",
       "5237              ELECTIVE PLANNED                    1   \n",
       "5236              ELECTIVE PLANNED                    1   \n",
       "\n",
       "       admission_source_code       ...       discharge_method_code  \\\n",
       "16804                     19       ...                         1.0   \n",
       "74439                     19       ...                         1.0   \n",
       "5238                      19       ...                         1.0   \n",
       "5237                      19       ...                         1.0   \n",
       "5236                      19       ...                         1.0   \n",
       "\n",
       "       discharge_method_description discharge_destination_code  \\\n",
       "16804             ON MEDICAL ADVICE                       19.0   \n",
       "74439             ON MEDICAL ADVICE                       51.0   \n",
       "5238              ON MEDICAL ADVICE                       19.0   \n",
       "5237              ON MEDICAL ADVICE                       19.0   \n",
       "5236              ON MEDICAL ADVICE                       19.0   \n",
       "\n",
       "           discharge_destination_desc    date_of_death ward_code  \\\n",
       "16804        USUAL PLACE OF RESIDENCE  08-MAY-18 00:00      1160   \n",
       "74439  OTHER-GEN.WARD/YOUNG PHYS.DIS.              NaN      1269   \n",
       "5238         USUAL PLACE OF RESIDENCE              NaN      1174   \n",
       "5237         USUAL PLACE OF RESIDENCE              NaN       168   \n",
       "5236         USUAL PLACE OF RESIDENCE              NaN      1174   \n",
       "\n",
       "                ward_code_description ward_stay_start_date  \\\n",
       "16804           UROLOGY ENDOSCOPY SGH  29/04/2009 14:19:00   \n",
       "74439                  DELIVERY SUITE  20/08/2009 23:00:00   \n",
       "5238                  C7 MANAGED CARE  14/04/2009 09:00:00   \n",
       "5237   MEDICAL ENDOSCOPY UNIT E LEVEL  15/04/2009 09:44:00   \n",
       "5236                  C7 MANAGED CARE  15/04/2009 11:29:00   \n",
       "\n",
       "        ward_stay_end_date LOCATION_NUMBER  \n",
       "16804  29/04/2009 15:08:00               1  \n",
       "74439  21/08/2009 02:01:00               1  \n",
       "5238   15/04/2009 09:44:00               1  \n",
       "5237   15/04/2009 11:29:00               2  \n",
       "5236   15/04/2009 16:30:00               3  \n",
       "\n",
       "[5 rows x 21 columns]"
      ]
     },
     "execution_count": 30,
     "metadata": {},
     "output_type": "execute_result"
    }
   ],
   "source": [
    "ward2.head(5)"
   ]
  },
  {
   "cell_type": "code",
   "execution_count": 31,
   "metadata": {
    "collapsed": false
   },
   "outputs": [
    {
     "data": {
      "text/html": [
       "<div>\n",
       "<style scoped>\n",
       "    .dataframe tbody tr th:only-of-type {\n",
       "        vertical-align: middle;\n",
       "    }\n",
       "\n",
       "    .dataframe tbody tr th {\n",
       "        vertical-align: top;\n",
       "    }\n",
       "\n",
       "    .dataframe thead th {\n",
       "        text-align: right;\n",
       "    }\n",
       "</style>\n",
       "<table border=\"1\" class=\"dataframe\">\n",
       "  <thead>\n",
       "    <tr style=\"text-align: right;\">\n",
       "      <th></th>\n",
       "      <th>pseudo_patient_number</th>\n",
       "      <th>age_at__admission</th>\n",
       "      <th>gender</th>\n",
       "      <th>spell_number</th>\n",
       "      <th>admission_date</th>\n",
       "      <th>discharge_date</th>\n",
       "      <th>admission_method_code</th>\n",
       "      <th>admission_method_description</th>\n",
       "      <th>length_of_stay_days</th>\n",
       "      <th>admission_source_code</th>\n",
       "      <th>...</th>\n",
       "      <th>discharge_method_code</th>\n",
       "      <th>discharge_method_description</th>\n",
       "      <th>discharge_destination_code</th>\n",
       "      <th>discharge_destination_desc</th>\n",
       "      <th>date_of_death</th>\n",
       "      <th>ward_code</th>\n",
       "      <th>ward_code_description</th>\n",
       "      <th>ward_stay_start_date</th>\n",
       "      <th>ward_stay_end_date</th>\n",
       "      <th>LOCATION_NUMBER</th>\n",
       "    </tr>\n",
       "  </thead>\n",
       "  <tbody>\n",
       "    <tr>\n",
       "      <th>2087274</th>\n",
       "      <td>219727190080</td>\n",
       "      <td>36</td>\n",
       "      <td>2</td>\n",
       "      <td>1701306273</td>\n",
       "      <td>2018-09-20 13:00:00</td>\n",
       "      <td>2018-09-20 16:35:00</td>\n",
       "      <td>13</td>\n",
       "      <td>ELECTIVE PLANNED</td>\n",
       "      <td>0</td>\n",
       "      <td>19</td>\n",
       "      <td>...</td>\n",
       "      <td>1.0</td>\n",
       "      <td>ON MEDICAL ADVICE</td>\n",
       "      <td>19.0</td>\n",
       "      <td>USUAL PLACE OF RESIDENCE</td>\n",
       "      <td>NaN</td>\n",
       "      <td>1112</td>\n",
       "      <td>C3 HAMWIC D/C UNIT</td>\n",
       "      <td>20-SEP-18 13:00</td>\n",
       "      <td>20-SEP-18 16:35</td>\n",
       "      <td>1</td>\n",
       "    </tr>\n",
       "    <tr>\n",
       "      <th>2088112</th>\n",
       "      <td>794171940390</td>\n",
       "      <td>61</td>\n",
       "      <td>2</td>\n",
       "      <td>1701306275</td>\n",
       "      <td>2018-09-19 13:00:00</td>\n",
       "      <td>2018-09-19 14:30:00</td>\n",
       "      <td>13</td>\n",
       "      <td>ELECTIVE PLANNED</td>\n",
       "      <td>0</td>\n",
       "      <td>19</td>\n",
       "      <td>...</td>\n",
       "      <td>1.0</td>\n",
       "      <td>ON MEDICAL ADVICE</td>\n",
       "      <td>19.0</td>\n",
       "      <td>USUAL PLACE OF RESIDENCE</td>\n",
       "      <td>NaN</td>\n",
       "      <td>1112</td>\n",
       "      <td>C3 HAMWIC D/C UNIT</td>\n",
       "      <td>19-SEP-18 13:00</td>\n",
       "      <td>19-SEP-18 14:30</td>\n",
       "      <td>1</td>\n",
       "    </tr>\n",
       "    <tr>\n",
       "      <th>2086074</th>\n",
       "      <td>222828226756</td>\n",
       "      <td>17</td>\n",
       "      <td>2</td>\n",
       "      <td>1701306418</td>\n",
       "      <td>2018-09-24 10:00:00</td>\n",
       "      <td>2018-09-24 11:00:00</td>\n",
       "      <td>13</td>\n",
       "      <td>ELECTIVE PLANNED</td>\n",
       "      <td>0</td>\n",
       "      <td>19</td>\n",
       "      <td>...</td>\n",
       "      <td>1.0</td>\n",
       "      <td>ON MEDICAL ADVICE</td>\n",
       "      <td>19.0</td>\n",
       "      <td>USUAL PLACE OF RESIDENCE</td>\n",
       "      <td>NaN</td>\n",
       "      <td>1417</td>\n",
       "      <td>VICTORIA HOUSE INFUSION UNIT</td>\n",
       "      <td>24-SEP-18 10:00</td>\n",
       "      <td>24-SEP-18 11:00</td>\n",
       "      <td>1</td>\n",
       "    </tr>\n",
       "    <tr>\n",
       "      <th>2090902</th>\n",
       "      <td>044202449789</td>\n",
       "      <td>0</td>\n",
       "      <td>1</td>\n",
       "      <td>1701306873</td>\n",
       "      <td>2018-09-27 11:10:00</td>\n",
       "      <td>2018-09-28 14:30:00</td>\n",
       "      <td>2D</td>\n",
       "      <td>OTHER EMERGENCY ADMISSION</td>\n",
       "      <td>1</td>\n",
       "      <td>19</td>\n",
       "      <td>...</td>\n",
       "      <td>1.0</td>\n",
       "      <td>ON MEDICAL ADVICE</td>\n",
       "      <td>19.0</td>\n",
       "      <td>USUAL PLACE OF RESIDENCE</td>\n",
       "      <td>NaN</td>\n",
       "      <td>1294</td>\n",
       "      <td>BABY DELIVERY WD</td>\n",
       "      <td>27-SEP-18 11:10</td>\n",
       "      <td>27-SEP-18 14:24</td>\n",
       "      <td>1</td>\n",
       "    </tr>\n",
       "    <tr>\n",
       "      <th>2090903</th>\n",
       "      <td>044202449789</td>\n",
       "      <td>0</td>\n",
       "      <td>1</td>\n",
       "      <td>1701306873</td>\n",
       "      <td>2018-09-27 11:10:00</td>\n",
       "      <td>2018-09-28 14:30:00</td>\n",
       "      <td>2D</td>\n",
       "      <td>OTHER EMERGENCY ADMISSION</td>\n",
       "      <td>1</td>\n",
       "      <td>19</td>\n",
       "      <td>...</td>\n",
       "      <td>1.0</td>\n",
       "      <td>ON MEDICAL ADVICE</td>\n",
       "      <td>19.0</td>\n",
       "      <td>USUAL PLACE OF RESIDENCE</td>\n",
       "      <td>NaN</td>\n",
       "      <td>1242</td>\n",
       "      <td>BURLEY BABY B</td>\n",
       "      <td>27-SEP-18 14:24</td>\n",
       "      <td>28-SEP-18 14:30</td>\n",
       "      <td>2</td>\n",
       "    </tr>\n",
       "  </tbody>\n",
       "</table>\n",
       "<p>5 rows × 21 columns</p>\n",
       "</div>"
      ],
      "text/plain": [
       "        pseudo_patient_number  age_at__admission  gender  spell_number  \\\n",
       "2087274          219727190080                 36       2    1701306273   \n",
       "2088112          794171940390                 61       2    1701306275   \n",
       "2086074          222828226756                 17       2    1701306418   \n",
       "2090902          044202449789                  0       1    1701306873   \n",
       "2090903          044202449789                  0       1    1701306873   \n",
       "\n",
       "             admission_date      discharge_date admission_method_code  \\\n",
       "2087274 2018-09-20 13:00:00 2018-09-20 16:35:00                    13   \n",
       "2088112 2018-09-19 13:00:00 2018-09-19 14:30:00                    13   \n",
       "2086074 2018-09-24 10:00:00 2018-09-24 11:00:00                    13   \n",
       "2090902 2018-09-27 11:10:00 2018-09-28 14:30:00                    2D   \n",
       "2090903 2018-09-27 11:10:00 2018-09-28 14:30:00                    2D   \n",
       "\n",
       "        admission_method_description  length_of_stay_days  \\\n",
       "2087274             ELECTIVE PLANNED                    0   \n",
       "2088112             ELECTIVE PLANNED                    0   \n",
       "2086074             ELECTIVE PLANNED                    0   \n",
       "2090902    OTHER EMERGENCY ADMISSION                    1   \n",
       "2090903    OTHER EMERGENCY ADMISSION                    1   \n",
       "\n",
       "         admission_source_code       ...       discharge_method_code  \\\n",
       "2087274                     19       ...                         1.0   \n",
       "2088112                     19       ...                         1.0   \n",
       "2086074                     19       ...                         1.0   \n",
       "2090902                     19       ...                         1.0   \n",
       "2090903                     19       ...                         1.0   \n",
       "\n",
       "         discharge_method_description discharge_destination_code  \\\n",
       "2087274             ON MEDICAL ADVICE                       19.0   \n",
       "2088112             ON MEDICAL ADVICE                       19.0   \n",
       "2086074             ON MEDICAL ADVICE                       19.0   \n",
       "2090902             ON MEDICAL ADVICE                       19.0   \n",
       "2090903             ON MEDICAL ADVICE                       19.0   \n",
       "\n",
       "         discharge_destination_desc date_of_death ward_code  \\\n",
       "2087274    USUAL PLACE OF RESIDENCE           NaN      1112   \n",
       "2088112    USUAL PLACE OF RESIDENCE           NaN      1112   \n",
       "2086074    USUAL PLACE OF RESIDENCE           NaN      1417   \n",
       "2090902    USUAL PLACE OF RESIDENCE           NaN      1294   \n",
       "2090903    USUAL PLACE OF RESIDENCE           NaN      1242   \n",
       "\n",
       "                ward_code_description ward_stay_start_date ward_stay_end_date  \\\n",
       "2087274            C3 HAMWIC D/C UNIT      20-SEP-18 13:00    20-SEP-18 16:35   \n",
       "2088112            C3 HAMWIC D/C UNIT      19-SEP-18 13:00    19-SEP-18 14:30   \n",
       "2086074  VICTORIA HOUSE INFUSION UNIT      24-SEP-18 10:00    24-SEP-18 11:00   \n",
       "2090902              BABY DELIVERY WD      27-SEP-18 11:10    27-SEP-18 14:24   \n",
       "2090903                 BURLEY BABY B      27-SEP-18 14:24    28-SEP-18 14:30   \n",
       "\n",
       "        LOCATION_NUMBER  \n",
       "2087274               1  \n",
       "2088112               1  \n",
       "2086074               1  \n",
       "2090902               1  \n",
       "2090903               2  \n",
       "\n",
       "[5 rows x 21 columns]"
      ]
     },
     "execution_count": 31,
     "metadata": {},
     "output_type": "execute_result"
    }
   ],
   "source": [
    "ward2.tail(5)"
   ]
  },
  {
   "cell_type": "code",
   "execution_count": 32,
   "metadata": {
    "collapsed": true
   },
   "outputs": [],
   "source": [
    "months = {'JAN':'01',\n",
    "          'FEB':'02',\n",
    "         'MAR':'03',\n",
    "         'APR':'04',\n",
    "         'MAY':'05',\n",
    "         'JUN':'06',\n",
    "         'JUL':'07',\n",
    "         'AUG':'08',\n",
    "         'SEP':'09',\n",
    "         'OCT':'10',\n",
    "         'NOV':'11',\n",
    "         'DEC':'12'}\n",
    "\n",
    "def f(x):\n",
    "    if (x != 'nan') and (len(x) == 15):\n",
    "        y_date,y_time = x.split(' ')\n",
    "        y_date  = y_date.split('-')\n",
    "        mon = months[y_date[1]]\n",
    "        #z = '20' + '1'\n",
    "        return(y_date[0] + '/' + mon +'/20' + y_date[2] + ' ' + y_time + ':00')\n",
    "    elif (len(x) == 19):\n",
    "        return(x)\n",
    "    else:\n",
    "        return('nan')"
   ]
  },
  {
   "cell_type": "markdown",
   "metadata": {},
   "source": [
    "cols = [i for i in df.columns if ('time' in i)]"
   ]
  },
  {
   "cell_type": "code",
   "execution_count": 33,
   "metadata": {
    "collapsed": true
   },
   "outputs": [],
   "source": [
    "cols = ['ward_stay_start_date','ward_stay_end_date'] #,'adm_datetime','dis_datetime']\n",
    "for i in cols:\n",
    "    ward2[i] = ward2[i].apply(lambda x : str(x)) # make strings\n",
    "    ward2[i] = ward2[i].apply(f)"
   ]
  },
  {
   "cell_type": "code",
   "execution_count": 34,
   "metadata": {
    "collapsed": false
   },
   "outputs": [
    {
     "data": {
      "text/html": [
       "<div>\n",
       "<style scoped>\n",
       "    .dataframe tbody tr th:only-of-type {\n",
       "        vertical-align: middle;\n",
       "    }\n",
       "\n",
       "    .dataframe tbody tr th {\n",
       "        vertical-align: top;\n",
       "    }\n",
       "\n",
       "    .dataframe thead th {\n",
       "        text-align: right;\n",
       "    }\n",
       "</style>\n",
       "<table border=\"1\" class=\"dataframe\">\n",
       "  <thead>\n",
       "    <tr style=\"text-align: right;\">\n",
       "      <th></th>\n",
       "      <th>pseudo_patient_number</th>\n",
       "      <th>age_at__admission</th>\n",
       "      <th>gender</th>\n",
       "      <th>spell_number</th>\n",
       "      <th>admission_date</th>\n",
       "      <th>discharge_date</th>\n",
       "      <th>admission_method_code</th>\n",
       "      <th>admission_method_description</th>\n",
       "      <th>length_of_stay_days</th>\n",
       "      <th>admission_source_code</th>\n",
       "      <th>...</th>\n",
       "      <th>discharge_method_code</th>\n",
       "      <th>discharge_method_description</th>\n",
       "      <th>discharge_destination_code</th>\n",
       "      <th>discharge_destination_desc</th>\n",
       "      <th>date_of_death</th>\n",
       "      <th>ward_code</th>\n",
       "      <th>ward_code_description</th>\n",
       "      <th>ward_stay_start_date</th>\n",
       "      <th>ward_stay_end_date</th>\n",
       "      <th>LOCATION_NUMBER</th>\n",
       "    </tr>\n",
       "  </thead>\n",
       "  <tbody>\n",
       "    <tr>\n",
       "      <th>16804</th>\n",
       "      <td>353232538008</td>\n",
       "      <td>79</td>\n",
       "      <td>2</td>\n",
       "      <td>6222150</td>\n",
       "      <td>2009-04-29 14:19:00</td>\n",
       "      <td>2009-04-29 15:08:00</td>\n",
       "      <td>13</td>\n",
       "      <td>ELECTIVE PLANNED</td>\n",
       "      <td>0</td>\n",
       "      <td>19</td>\n",
       "      <td>...</td>\n",
       "      <td>1.0</td>\n",
       "      <td>ON MEDICAL ADVICE</td>\n",
       "      <td>19.0</td>\n",
       "      <td>USUAL PLACE OF RESIDENCE</td>\n",
       "      <td>08-MAY-18 00:00</td>\n",
       "      <td>1160</td>\n",
       "      <td>UROLOGY ENDOSCOPY SGH</td>\n",
       "      <td>29/04/2009 14:19:00</td>\n",
       "      <td>29/04/2009 15:08:00</td>\n",
       "      <td>1</td>\n",
       "    </tr>\n",
       "  </tbody>\n",
       "</table>\n",
       "<p>1 rows × 21 columns</p>\n",
       "</div>"
      ],
      "text/plain": [
       "      pseudo_patient_number  age_at__admission  gender  spell_number  \\\n",
       "16804          353232538008                 79       2       6222150   \n",
       "\n",
       "           admission_date      discharge_date admission_method_code  \\\n",
       "16804 2009-04-29 14:19:00 2009-04-29 15:08:00                    13   \n",
       "\n",
       "      admission_method_description  length_of_stay_days  \\\n",
       "16804             ELECTIVE PLANNED                    0   \n",
       "\n",
       "       admission_source_code       ...       discharge_method_code  \\\n",
       "16804                     19       ...                         1.0   \n",
       "\n",
       "       discharge_method_description discharge_destination_code  \\\n",
       "16804             ON MEDICAL ADVICE                       19.0   \n",
       "\n",
       "       discharge_destination_desc    date_of_death ward_code  \\\n",
       "16804    USUAL PLACE OF RESIDENCE  08-MAY-18 00:00      1160   \n",
       "\n",
       "       ward_code_description ward_stay_start_date   ward_stay_end_date  \\\n",
       "16804  UROLOGY ENDOSCOPY SGH  29/04/2009 14:19:00  29/04/2009 15:08:00   \n",
       "\n",
       "      LOCATION_NUMBER  \n",
       "16804               1  \n",
       "\n",
       "[1 rows x 21 columns]"
      ]
     },
     "execution_count": 34,
     "metadata": {},
     "output_type": "execute_result"
    }
   ],
   "source": [
    "ward2.head(1)"
   ]
  },
  {
   "cell_type": "code",
   "execution_count": 35,
   "metadata": {
    "collapsed": false
   },
   "outputs": [
    {
     "data": {
      "text/html": [
       "<div>\n",
       "<style scoped>\n",
       "    .dataframe tbody tr th:only-of-type {\n",
       "        vertical-align: middle;\n",
       "    }\n",
       "\n",
       "    .dataframe tbody tr th {\n",
       "        vertical-align: top;\n",
       "    }\n",
       "\n",
       "    .dataframe thead th {\n",
       "        text-align: right;\n",
       "    }\n",
       "</style>\n",
       "<table border=\"1\" class=\"dataframe\">\n",
       "  <thead>\n",
       "    <tr style=\"text-align: right;\">\n",
       "      <th></th>\n",
       "      <th>pseudo_patient_number</th>\n",
       "      <th>age_at__admission</th>\n",
       "      <th>gender</th>\n",
       "      <th>spell_number</th>\n",
       "      <th>admission_date</th>\n",
       "      <th>discharge_date</th>\n",
       "      <th>admission_method_code</th>\n",
       "      <th>admission_method_description</th>\n",
       "      <th>length_of_stay_days</th>\n",
       "      <th>admission_source_code</th>\n",
       "      <th>...</th>\n",
       "      <th>discharge_method_code</th>\n",
       "      <th>discharge_method_description</th>\n",
       "      <th>discharge_destination_code</th>\n",
       "      <th>discharge_destination_desc</th>\n",
       "      <th>date_of_death</th>\n",
       "      <th>ward_code</th>\n",
       "      <th>ward_code_description</th>\n",
       "      <th>ward_stay_start_date</th>\n",
       "      <th>ward_stay_end_date</th>\n",
       "      <th>LOCATION_NUMBER</th>\n",
       "    </tr>\n",
       "  </thead>\n",
       "  <tbody>\n",
       "    <tr>\n",
       "      <th>2090903</th>\n",
       "      <td>044202449789</td>\n",
       "      <td>0</td>\n",
       "      <td>1</td>\n",
       "      <td>1701306873</td>\n",
       "      <td>2018-09-27 11:10:00</td>\n",
       "      <td>2018-09-28 14:30:00</td>\n",
       "      <td>2D</td>\n",
       "      <td>OTHER EMERGENCY ADMISSION</td>\n",
       "      <td>1</td>\n",
       "      <td>19</td>\n",
       "      <td>...</td>\n",
       "      <td>1.0</td>\n",
       "      <td>ON MEDICAL ADVICE</td>\n",
       "      <td>19.0</td>\n",
       "      <td>USUAL PLACE OF RESIDENCE</td>\n",
       "      <td>NaN</td>\n",
       "      <td>1242</td>\n",
       "      <td>BURLEY BABY B</td>\n",
       "      <td>27/09/2018 14:24:00</td>\n",
       "      <td>28/09/2018 14:30:00</td>\n",
       "      <td>2</td>\n",
       "    </tr>\n",
       "  </tbody>\n",
       "</table>\n",
       "<p>1 rows × 21 columns</p>\n",
       "</div>"
      ],
      "text/plain": [
       "        pseudo_patient_number  age_at__admission  gender  spell_number  \\\n",
       "2090903          044202449789                  0       1    1701306873   \n",
       "\n",
       "             admission_date      discharge_date admission_method_code  \\\n",
       "2090903 2018-09-27 11:10:00 2018-09-28 14:30:00                    2D   \n",
       "\n",
       "        admission_method_description  length_of_stay_days  \\\n",
       "2090903    OTHER EMERGENCY ADMISSION                    1   \n",
       "\n",
       "         admission_source_code       ...       discharge_method_code  \\\n",
       "2090903                     19       ...                         1.0   \n",
       "\n",
       "         discharge_method_description discharge_destination_code  \\\n",
       "2090903             ON MEDICAL ADVICE                       19.0   \n",
       "\n",
       "         discharge_destination_desc date_of_death ward_code  \\\n",
       "2090903    USUAL PLACE OF RESIDENCE           NaN      1242   \n",
       "\n",
       "         ward_code_description ward_stay_start_date   ward_stay_end_date  \\\n",
       "2090903          BURLEY BABY B  27/09/2018 14:24:00  28/09/2018 14:30:00   \n",
       "\n",
       "        LOCATION_NUMBER  \n",
       "2090903               2  \n",
       "\n",
       "[1 rows x 21 columns]"
      ]
     },
     "execution_count": 35,
     "metadata": {},
     "output_type": "execute_result"
    }
   ],
   "source": [
    "ward2.tail(1)"
   ]
  },
  {
   "cell_type": "code",
   "execution_count": 36,
   "metadata": {},
   "outputs": [],
   "source": [
    "# dt_cols = ['admission_date','discharge_date'] #,'date_of_death']\n",
    "\n",
    "for i in cols:\n",
    "    ward2[i] = pd.to_datetime(ward2[i], format= '%d/%m/%Y %H:%M:%S')"
   ]
  },
  {
   "cell_type": "code",
   "execution_count": null,
   "metadata": {},
   "outputs": [],
   "source": []
  },
  {
   "cell_type": "markdown",
   "metadata": {},
   "source": [
    "##### check df sizes"
   ]
  },
  {
   "cell_type": "code",
   "execution_count": 37,
   "metadata": {
    "collapsed": false
   },
   "outputs": [
    {
     "data": {
      "text/plain": [
       "(1372415, 16)"
      ]
     },
     "execution_count": 37,
     "metadata": {},
     "output_type": "execute_result"
    }
   ],
   "source": [
    "fce.shape"
   ]
  },
  {
   "cell_type": "code",
   "execution_count": 38,
   "metadata": {
    "collapsed": false
   },
   "outputs": [
    {
     "data": {
      "text/plain": [
       "(1372415, 16)"
      ]
     },
     "execution_count": 38,
     "metadata": {},
     "output_type": "execute_result"
    }
   ],
   "source": [
    "fce.shape"
   ]
  },
  {
   "cell_type": "code",
   "execution_count": 39,
   "metadata": {},
   "outputs": [
    {
     "data": {
      "text/plain": [
       "(2115615, 21)"
      ]
     },
     "execution_count": 39,
     "metadata": {},
     "output_type": "execute_result"
    }
   ],
   "source": [
    "ward2.shape"
   ]
  },
  {
   "cell_type": "markdown",
   "metadata": {},
   "source": [
    "Confirmed that have not lost any records until now"
   ]
  },
  {
   "cell_type": "markdown",
   "metadata": {},
   "source": [
    "#### Clean baby births"
   ]
  },
  {
   "cell_type": "code",
   "execution_count": 40,
   "metadata": {},
   "outputs": [
    {
     "data": {
      "text/plain": [
       "(2115615, 21)"
      ]
     },
     "execution_count": 40,
     "metadata": {},
     "output_type": "execute_result"
    }
   ],
   "source": [
    "ward2.shape"
   ]
  },
  {
   "cell_type": "code",
   "execution_count": 41,
   "metadata": {},
   "outputs": [
    {
     "data": {
      "text/plain": [
       "(1997427, 21)"
      ]
     },
     "execution_count": 41,
     "metadata": {},
     "output_type": "execute_result"
    }
   ],
   "source": [
    "ward2 = ward2.query(\"admission_method_code not in ['82','83','2C']\")\n",
    "ward2.shape"
   ]
  },
  {
   "cell_type": "code",
   "execution_count": null,
   "metadata": {},
   "outputs": [],
   "source": []
  },
  {
   "cell_type": "code",
   "execution_count": null,
   "metadata": {},
   "outputs": [],
   "source": []
  },
  {
   "cell_type": "markdown",
   "metadata": {},
   "source": [
    "#### make simple admission method"
   ]
  },
  {
   "cell_type": "code",
   "execution_count": 42,
   "metadata": {},
   "outputs": [
    {
     "name": "stderr",
     "output_type": "stream",
     "text": [
      "C:\\Anaconda3\\lib\\site-packages\\ipykernel\\__main__.py:1: SettingWithCopyWarning: \n",
      "A value is trying to be set on a copy of a slice from a DataFrame.\n",
      "Try using .loc[row_indexer,col_indexer] = value instead\n",
      "\n",
      "See the caveats in the documentation: http://pandas.pydata.org/pandas-docs/stable/indexing.html#indexing-view-versus-copy\n",
      "  if __name__ == '__main__':\n",
      "C:\\Anaconda3\\lib\\site-packages\\pandas\\core\\indexing.py:543: SettingWithCopyWarning: \n",
      "A value is trying to be set on a copy of a slice from a DataFrame.\n",
      "Try using .loc[row_indexer,col_indexer] = value instead\n",
      "\n",
      "See the caveats in the documentation: http://pandas.pydata.org/pandas-docs/stable/indexing.html#indexing-view-versus-copy\n",
      "  self.obj[item] = s\n"
     ]
    }
   ],
   "source": [
    "ward2['ADM_METHOD_simple'] = 'other'\n",
    "\n",
    "query = ward2.query(\"admission_method_code in ['21','2A']\")\n",
    "ward2.loc[query.index,'ADM_METHOD_simple'] = 'ED'\n",
    "\n",
    "query = ward2.query(\"admission_method_code in ['31','32']\")\n",
    "ward2.loc[query.index,'ADM_METHOD_simple'] = 'Maternity'\n",
    "\n",
    "query = ward2.query(\"admission_method_code in ['22']\")\n",
    "ward2.loc[query.index,'ADM_METHOD_simple'] = 'GP'"
   ]
  },
  {
   "cell_type": "code",
   "execution_count": 43,
   "metadata": {
    "collapsed": false
   },
   "outputs": [
    {
     "data": {
      "text/plain": [
       "other        1059008\n",
       "ED            584023\n",
       "GP            197498\n",
       "Maternity     156898\n",
       "Name: ADM_METHOD_simple, dtype: int64"
      ]
     },
     "execution_count": 43,
     "metadata": {},
     "output_type": "execute_result"
    }
   ],
   "source": [
    "ward2.ADM_METHOD_simple.value_counts()"
   ]
  },
  {
   "cell_type": "code",
   "execution_count": null,
   "metadata": {},
   "outputs": [],
   "source": []
  },
  {
   "cell_type": "markdown",
   "metadata": {},
   "source": [
    "#### make simple admission type"
   ]
  },
  {
   "cell_type": "code",
   "execution_count": 44,
   "metadata": {},
   "outputs": [
    {
     "name": "stderr",
     "output_type": "stream",
     "text": [
      "C:\\Anaconda3\\lib\\site-packages\\ipykernel\\__main__.py:1: SettingWithCopyWarning: \n",
      "A value is trying to be set on a copy of a slice from a DataFrame.\n",
      "Try using .loc[row_indexer,col_indexer] = value instead\n",
      "\n",
      "See the caveats in the documentation: http://pandas.pydata.org/pandas-docs/stable/indexing.html#indexing-view-versus-copy\n",
      "  if __name__ == '__main__':\n"
     ]
    }
   ],
   "source": [
    "ward2['ADM_TYPE'] = 'Non-Elective'\n",
    "\n",
    "query = ward2.query('admission_method_code in [\"11\",\"12\",\"13\"]')\n",
    "ward2.loc[query.index,'ADM_TYPE'] = 'Elective'"
   ]
  },
  {
   "cell_type": "code",
   "execution_count": 45,
   "metadata": {},
   "outputs": [
    {
     "data": {
      "text/plain": [
       "Index(['pseudo_patient_number', 'age_at__admission', 'gender', 'spell_number',\n",
       "       'admission_date', 'discharge_date', 'admission_method_code',\n",
       "       'admission_method_description', 'length_of_stay_days',\n",
       "       'admission_source_code', 'admission_source_description',\n",
       "       'discharge_method_code', 'discharge_method_description',\n",
       "       'discharge_destination_code', 'discharge_destination_desc',\n",
       "       'date_of_death', 'ward_code', 'ward_code_description',\n",
       "       'ward_stay_start_date', 'ward_stay_end_date', 'LOCATION_NUMBER',\n",
       "       'ADM_METHOD_simple', 'ADM_TYPE'],\n",
       "      dtype='object')"
      ]
     },
     "execution_count": 45,
     "metadata": {},
     "output_type": "execute_result"
    }
   ],
   "source": [
    "ward2.columns"
   ]
  },
  {
   "cell_type": "code",
   "execution_count": 46,
   "metadata": {},
   "outputs": [],
   "source": [
    "daycase_query = ward2[ward2.apply(lambda x : x.admission_date.date() == x.discharge_date.date(),axis=1)].index\n"
   ]
  },
  {
   "cell_type": "code",
   "execution_count": 47,
   "metadata": {},
   "outputs": [],
   "source": [
    "ward2.loc[daycase_query,'ADM_TYPE'] = 'Day Case'"
   ]
  },
  {
   "cell_type": "code",
   "execution_count": null,
   "metadata": {},
   "outputs": [],
   "source": []
  },
  {
   "cell_type": "code",
   "execution_count": 48,
   "metadata": {
    "collapsed": false
   },
   "outputs": [
    {
     "data": {
      "text/plain": [
       "Non-Elective    928558\n",
       "Day Case        752740\n",
       "Elective        316129\n",
       "Name: ADM_TYPE, dtype: int64"
      ]
     },
     "execution_count": 48,
     "metadata": {},
     "output_type": "execute_result"
    }
   ],
   "source": [
    "ward2.ADM_TYPE.value_counts()"
   ]
  },
  {
   "cell_type": "markdown",
   "metadata": {},
   "source": [
    "#### make flags\n",
    "\n",
    "- ITU admission/ITU visit?"
   ]
  },
  {
   "cell_type": "markdown",
   "metadata": {},
   "source": [
    "ward2.isnull().sum()"
   ]
  },
  {
   "cell_type": "code",
   "execution_count": null,
   "metadata": {},
   "outputs": [],
   "source": []
  },
  {
   "cell_type": "markdown",
   "metadata": {},
   "source": [
    "### clean and tidy"
   ]
  },
  {
   "cell_type": "code",
   "execution_count": 54,
   "metadata": {},
   "outputs": [
    {
     "name": "stdout",
     "output_type": "stream",
     "text": [
      "pseudo_patient_number\n",
      "age_at__admission\n",
      "gender\n",
      "spell_number\n",
      "admission_date\n",
      "discharge_date\n",
      "admission_method_code\n",
      "admission_method_description\n",
      "length_of_stay_days\n",
      "admission_source_code\n",
      "admission_source_description\n",
      "discharge_method_code\n",
      "discharge_method_description\n",
      "discharge_destination_code\n",
      "discharge_destination_desc\n",
      "date_of_death\n",
      "ward_code\n",
      "ward_code_description\n",
      "ward_stay_start_date\n",
      "ward_stay_end_date\n",
      "LOCATION_NUMBER\n",
      "ADM_METHOD_simple\n",
      "ADM_TYPE\n"
     ]
    }
   ],
   "source": [
    "for i in ward2.columns:\n",
    "    print(i)"
   ]
  },
  {
   "cell_type": "code",
   "execution_count": 55,
   "metadata": {},
   "outputs": [
    {
     "name": "stderr",
     "output_type": "stream",
     "text": [
      "C:\\Anaconda3\\lib\\site-packages\\pandas\\core\\frame.py:3781: SettingWithCopyWarning: \n",
      "A value is trying to be set on a copy of a slice from a DataFrame\n",
      "\n",
      "See the caveats in the documentation: http://pandas.pydata.org/pandas-docs/stable/indexing.html#indexing-view-versus-copy\n",
      "  return super(DataFrame, self).rename(**kwargs)\n"
     ]
    }
   ],
   "source": [
    "col_renames = {\n",
    "    'ADM_TYPE':'admission_type',\n",
    "    'age_at__admission':'age',\n",
    "    'admission_date':'adm_datetime',\n",
    "    'discharge_date':'dis_datetime',\n",
    "    \n",
    "}\n",
    "\n",
    "ward2.rename(columns=col_renames, inplace=True)"
   ]
  },
  {
   "cell_type": "code",
   "execution_count": 57,
   "metadata": {},
   "outputs": [
    {
     "data": {
      "text/html": [
       "<div>\n",
       "<style scoped>\n",
       "    .dataframe tbody tr th:only-of-type {\n",
       "        vertical-align: middle;\n",
       "    }\n",
       "\n",
       "    .dataframe tbody tr th {\n",
       "        vertical-align: top;\n",
       "    }\n",
       "\n",
       "    .dataframe thead th {\n",
       "        text-align: right;\n",
       "    }\n",
       "</style>\n",
       "<table border=\"1\" class=\"dataframe\">\n",
       "  <thead>\n",
       "    <tr style=\"text-align: right;\">\n",
       "      <th></th>\n",
       "      <th>pseudo_patient_number</th>\n",
       "      <th>age</th>\n",
       "      <th>gender</th>\n",
       "      <th>spell_number</th>\n",
       "      <th>adm_datetime</th>\n",
       "      <th>dis_datetime</th>\n",
       "      <th>admission_method_code</th>\n",
       "      <th>admission_method_description</th>\n",
       "      <th>length_of_stay_days</th>\n",
       "      <th>admission_source_code</th>\n",
       "      <th>...</th>\n",
       "      <th>discharge_destination_code</th>\n",
       "      <th>discharge_destination_desc</th>\n",
       "      <th>date_of_death</th>\n",
       "      <th>ward_code</th>\n",
       "      <th>ward_code_description</th>\n",
       "      <th>ward_stay_start_date</th>\n",
       "      <th>ward_stay_end_date</th>\n",
       "      <th>LOCATION_NUMBER</th>\n",
       "      <th>ADM_METHOD_simple</th>\n",
       "      <th>admission_type</th>\n",
       "    </tr>\n",
       "  </thead>\n",
       "  <tbody>\n",
       "    <tr>\n",
       "      <th>16804</th>\n",
       "      <td>353232538008</td>\n",
       "      <td>79</td>\n",
       "      <td>2</td>\n",
       "      <td>6222150</td>\n",
       "      <td>2009-04-29 14:19:00</td>\n",
       "      <td>2009-04-29 15:08:00</td>\n",
       "      <td>13</td>\n",
       "      <td>ELECTIVE PLANNED</td>\n",
       "      <td>0</td>\n",
       "      <td>19</td>\n",
       "      <td>...</td>\n",
       "      <td>19.0</td>\n",
       "      <td>USUAL PLACE OF RESIDENCE</td>\n",
       "      <td>08-MAY-18 00:00</td>\n",
       "      <td>1160</td>\n",
       "      <td>UROLOGY ENDOSCOPY SGH</td>\n",
       "      <td>2009-04-29 14:19:00</td>\n",
       "      <td>2009-04-29 15:08:00</td>\n",
       "      <td>1</td>\n",
       "      <td>other</td>\n",
       "      <td>Day Case</td>\n",
       "    </tr>\n",
       "    <tr>\n",
       "      <th>74439</th>\n",
       "      <td>352434524354</td>\n",
       "      <td>24</td>\n",
       "      <td>2</td>\n",
       "      <td>6279602</td>\n",
       "      <td>2009-08-20 23:00:00</td>\n",
       "      <td>2009-08-21 02:00:00</td>\n",
       "      <td>31</td>\n",
       "      <td>MATERNITY ANTE PARTUM</td>\n",
       "      <td>1</td>\n",
       "      <td>19</td>\n",
       "      <td>...</td>\n",
       "      <td>51.0</td>\n",
       "      <td>OTHER-GEN.WARD/YOUNG PHYS.DIS.</td>\n",
       "      <td>NaN</td>\n",
       "      <td>1269</td>\n",
       "      <td>DELIVERY SUITE</td>\n",
       "      <td>2009-08-20 23:00:00</td>\n",
       "      <td>2009-08-21 02:01:00</td>\n",
       "      <td>1</td>\n",
       "      <td>Maternity</td>\n",
       "      <td>Non-Elective</td>\n",
       "    </tr>\n",
       "    <tr>\n",
       "      <th>5238</th>\n",
       "      <td>302434022192</td>\n",
       "      <td>55</td>\n",
       "      <td>2</td>\n",
       "      <td>6635911</td>\n",
       "      <td>2009-04-14 09:00:00</td>\n",
       "      <td>2009-04-15 16:30:00</td>\n",
       "      <td>13</td>\n",
       "      <td>ELECTIVE PLANNED</td>\n",
       "      <td>1</td>\n",
       "      <td>19</td>\n",
       "      <td>...</td>\n",
       "      <td>19.0</td>\n",
       "      <td>USUAL PLACE OF RESIDENCE</td>\n",
       "      <td>NaN</td>\n",
       "      <td>1174</td>\n",
       "      <td>C7 MANAGED CARE</td>\n",
       "      <td>2009-04-14 09:00:00</td>\n",
       "      <td>2009-04-15 09:44:00</td>\n",
       "      <td>1</td>\n",
       "      <td>other</td>\n",
       "      <td>Elective</td>\n",
       "    </tr>\n",
       "    <tr>\n",
       "      <th>5237</th>\n",
       "      <td>302434022192</td>\n",
       "      <td>55</td>\n",
       "      <td>2</td>\n",
       "      <td>6635911</td>\n",
       "      <td>2009-04-14 09:00:00</td>\n",
       "      <td>2009-04-15 16:30:00</td>\n",
       "      <td>13</td>\n",
       "      <td>ELECTIVE PLANNED</td>\n",
       "      <td>1</td>\n",
       "      <td>19</td>\n",
       "      <td>...</td>\n",
       "      <td>19.0</td>\n",
       "      <td>USUAL PLACE OF RESIDENCE</td>\n",
       "      <td>NaN</td>\n",
       "      <td>168</td>\n",
       "      <td>MEDICAL ENDOSCOPY UNIT E LEVEL</td>\n",
       "      <td>2009-04-15 09:44:00</td>\n",
       "      <td>2009-04-15 11:29:00</td>\n",
       "      <td>2</td>\n",
       "      <td>other</td>\n",
       "      <td>Elective</td>\n",
       "    </tr>\n",
       "    <tr>\n",
       "      <th>5236</th>\n",
       "      <td>302434022192</td>\n",
       "      <td>55</td>\n",
       "      <td>2</td>\n",
       "      <td>6635911</td>\n",
       "      <td>2009-04-14 09:00:00</td>\n",
       "      <td>2009-04-15 16:30:00</td>\n",
       "      <td>13</td>\n",
       "      <td>ELECTIVE PLANNED</td>\n",
       "      <td>1</td>\n",
       "      <td>19</td>\n",
       "      <td>...</td>\n",
       "      <td>19.0</td>\n",
       "      <td>USUAL PLACE OF RESIDENCE</td>\n",
       "      <td>NaN</td>\n",
       "      <td>1174</td>\n",
       "      <td>C7 MANAGED CARE</td>\n",
       "      <td>2009-04-15 11:29:00</td>\n",
       "      <td>2009-04-15 16:30:00</td>\n",
       "      <td>3</td>\n",
       "      <td>other</td>\n",
       "      <td>Elective</td>\n",
       "    </tr>\n",
       "  </tbody>\n",
       "</table>\n",
       "<p>5 rows × 23 columns</p>\n",
       "</div>"
      ],
      "text/plain": [
       "      pseudo_patient_number  age  gender  spell_number        adm_datetime  \\\n",
       "16804          353232538008   79       2       6222150 2009-04-29 14:19:00   \n",
       "74439          352434524354   24       2       6279602 2009-08-20 23:00:00   \n",
       "5238           302434022192   55       2       6635911 2009-04-14 09:00:00   \n",
       "5237           302434022192   55       2       6635911 2009-04-14 09:00:00   \n",
       "5236           302434022192   55       2       6635911 2009-04-14 09:00:00   \n",
       "\n",
       "             dis_datetime admission_method_code admission_method_description  \\\n",
       "16804 2009-04-29 15:08:00                    13             ELECTIVE PLANNED   \n",
       "74439 2009-08-21 02:00:00                    31        MATERNITY ANTE PARTUM   \n",
       "5238  2009-04-15 16:30:00                    13             ELECTIVE PLANNED   \n",
       "5237  2009-04-15 16:30:00                    13             ELECTIVE PLANNED   \n",
       "5236  2009-04-15 16:30:00                    13             ELECTIVE PLANNED   \n",
       "\n",
       "       length_of_stay_days  admission_source_code      ...        \\\n",
       "16804                    0                     19      ...         \n",
       "74439                    1                     19      ...         \n",
       "5238                     1                     19      ...         \n",
       "5237                     1                     19      ...         \n",
       "5236                     1                     19      ...         \n",
       "\n",
       "      discharge_destination_code      discharge_destination_desc  \\\n",
       "16804                       19.0        USUAL PLACE OF RESIDENCE   \n",
       "74439                       51.0  OTHER-GEN.WARD/YOUNG PHYS.DIS.   \n",
       "5238                        19.0        USUAL PLACE OF RESIDENCE   \n",
       "5237                        19.0        USUAL PLACE OF RESIDENCE   \n",
       "5236                        19.0        USUAL PLACE OF RESIDENCE   \n",
       "\n",
       "         date_of_death  ward_code           ward_code_description  \\\n",
       "16804  08-MAY-18 00:00       1160           UROLOGY ENDOSCOPY SGH   \n",
       "74439              NaN       1269                  DELIVERY SUITE   \n",
       "5238               NaN       1174                 C7 MANAGED CARE   \n",
       "5237               NaN        168  MEDICAL ENDOSCOPY UNIT E LEVEL   \n",
       "5236               NaN       1174                 C7 MANAGED CARE   \n",
       "\n",
       "      ward_stay_start_date  ward_stay_end_date LOCATION_NUMBER  \\\n",
       "16804  2009-04-29 14:19:00 2009-04-29 15:08:00               1   \n",
       "74439  2009-08-20 23:00:00 2009-08-21 02:01:00               1   \n",
       "5238   2009-04-14 09:00:00 2009-04-15 09:44:00               1   \n",
       "5237   2009-04-15 09:44:00 2009-04-15 11:29:00               2   \n",
       "5236   2009-04-15 11:29:00 2009-04-15 16:30:00               3   \n",
       "\n",
       "      ADM_METHOD_simple admission_type  \n",
       "16804             other       Day Case  \n",
       "74439         Maternity   Non-Elective  \n",
       "5238              other       Elective  \n",
       "5237              other       Elective  \n",
       "5236              other       Elective  \n",
       "\n",
       "[5 rows x 23 columns]"
      ]
     },
     "execution_count": 57,
     "metadata": {},
     "output_type": "execute_result"
    }
   ],
   "source": [
    "ward2.head()"
   ]
  },
  {
   "cell_type": "code",
   "execution_count": 56,
   "metadata": {},
   "outputs": [
    {
     "data": {
      "text/plain": [
       "(1997427, 23)"
      ]
     },
     "execution_count": 56,
     "metadata": {},
     "output_type": "execute_result"
    }
   ],
   "source": [
    "ward2.shape"
   ]
  },
  {
   "cell_type": "code",
   "execution_count": 59,
   "metadata": {},
   "outputs": [],
   "source": [
    "ward2.to_csv('./../../../../3_Data/EDclassification/cleanWARD.csv',index=False)"
   ]
  },
  {
   "cell_type": "code",
   "execution_count": 60,
   "metadata": {},
   "outputs": [],
   "source": [
    "ward2.to_pickle('./../../../../3_Data/EDclassification/cleanWARD.pkl')"
   ]
  },
  {
   "cell_type": "code",
   "execution_count": null,
   "metadata": {},
   "outputs": [],
   "source": []
  },
  {
   "cell_type": "markdown",
   "metadata": {},
   "source": [
    "#### make spell df"
   ]
  },
  {
   "cell_type": "code",
   "execution_count": 61,
   "metadata": {},
   "outputs": [
    {
     "data": {
      "text/plain": [
       "Index(['pseudo_patient_number', 'age', 'gender', 'spell_number',\n",
       "       'adm_datetime', 'dis_datetime', 'admission_method_code',\n",
       "       'admission_method_description', 'length_of_stay_days',\n",
       "       'admission_source_code', 'admission_source_description',\n",
       "       'discharge_method_code', 'discharge_method_description',\n",
       "       'discharge_destination_code', 'discharge_destination_desc',\n",
       "       'date_of_death', 'ward_code', 'ward_code_description',\n",
       "       'ward_stay_start_date', 'ward_stay_end_date', 'LOCATION_NUMBER',\n",
       "       'ADM_METHOD_simple', 'admission_type'],\n",
       "      dtype='object')"
      ]
     },
     "execution_count": 61,
     "metadata": {},
     "output_type": "execute_result"
    }
   ],
   "source": [
    "ward2.columns"
   ]
  },
  {
   "cell_type": "code",
   "execution_count": 62,
   "metadata": {},
   "outputs": [],
   "source": [
    "move_count = pd.DataFrame(ward2.groupby('spell_number').count()['pseudo_patient_number']).rename(columns={'pseudo_patient_number':'ward_moves'})\n"
   ]
  },
  {
   "cell_type": "code",
   "execution_count": 63,
   "metadata": {},
   "outputs": [
    {
     "data": {
      "text/html": [
       "<div>\n",
       "<style scoped>\n",
       "    .dataframe tbody tr th:only-of-type {\n",
       "        vertical-align: middle;\n",
       "    }\n",
       "\n",
       "    .dataframe tbody tr th {\n",
       "        vertical-align: top;\n",
       "    }\n",
       "\n",
       "    .dataframe thead th {\n",
       "        text-align: right;\n",
       "    }\n",
       "</style>\n",
       "<table border=\"1\" class=\"dataframe\">\n",
       "  <thead>\n",
       "    <tr style=\"text-align: right;\">\n",
       "      <th></th>\n",
       "      <th>ward_moves</th>\n",
       "    </tr>\n",
       "    <tr>\n",
       "      <th>spell_number</th>\n",
       "      <th></th>\n",
       "    </tr>\n",
       "  </thead>\n",
       "  <tbody>\n",
       "    <tr>\n",
       "      <th>6222150</th>\n",
       "      <td>1</td>\n",
       "    </tr>\n",
       "    <tr>\n",
       "      <th>6279602</th>\n",
       "      <td>1</td>\n",
       "    </tr>\n",
       "  </tbody>\n",
       "</table>\n",
       "</div>"
      ],
      "text/plain": [
       "              ward_moves\n",
       "spell_number            \n",
       "6222150                1\n",
       "6279602                1"
      ]
     },
     "execution_count": 63,
     "metadata": {},
     "output_type": "execute_result"
    }
   ],
   "source": [
    "move_count.head(2)"
   ]
  },
  {
   "cell_type": "code",
   "execution_count": 64,
   "metadata": {},
   "outputs": [
    {
     "data": {
      "text/plain": [
       "1315333"
      ]
     },
     "execution_count": 64,
     "metadata": {},
     "output_type": "execute_result"
    }
   ],
   "source": [
    "len(ward2.spell_number.unique())"
   ]
  },
  {
   "cell_type": "code",
   "execution_count": 65,
   "metadata": {},
   "outputs": [
    {
     "data": {
      "text/plain": [
       "(1315333, 23)"
      ]
     },
     "execution_count": 65,
     "metadata": {},
     "output_type": "execute_result"
    }
   ],
   "source": [
    "spell = ward2[ward2.LOCATION_NUMBER == 1]\n",
    "spell.shape"
   ]
  },
  {
   "cell_type": "code",
   "execution_count": 66,
   "metadata": {},
   "outputs": [],
   "source": [
    "spell = spell.merge(move_count,on='spell_number')"
   ]
  },
  {
   "cell_type": "code",
   "execution_count": null,
   "metadata": {},
   "outputs": [],
   "source": []
  },
  {
   "cell_type": "markdown",
   "metadata": {},
   "source": [
    " save spell out"
   ]
  },
  {
   "cell_type": "code",
   "execution_count": 67,
   "metadata": {},
   "outputs": [
    {
     "data": {
      "text/html": [
       "<div>\n",
       "<style scoped>\n",
       "    .dataframe tbody tr th:only-of-type {\n",
       "        vertical-align: middle;\n",
       "    }\n",
       "\n",
       "    .dataframe tbody tr th {\n",
       "        vertical-align: top;\n",
       "    }\n",
       "\n",
       "    .dataframe thead th {\n",
       "        text-align: right;\n",
       "    }\n",
       "</style>\n",
       "<table border=\"1\" class=\"dataframe\">\n",
       "  <thead>\n",
       "    <tr style=\"text-align: right;\">\n",
       "      <th></th>\n",
       "      <th>pseudo_patient_number</th>\n",
       "      <th>age</th>\n",
       "      <th>gender</th>\n",
       "      <th>spell_number</th>\n",
       "      <th>adm_datetime</th>\n",
       "      <th>dis_datetime</th>\n",
       "      <th>admission_method_code</th>\n",
       "      <th>admission_method_description</th>\n",
       "      <th>length_of_stay_days</th>\n",
       "      <th>admission_source_code</th>\n",
       "      <th>...</th>\n",
       "      <th>discharge_destination_desc</th>\n",
       "      <th>date_of_death</th>\n",
       "      <th>ward_code</th>\n",
       "      <th>ward_code_description</th>\n",
       "      <th>ward_stay_start_date</th>\n",
       "      <th>ward_stay_end_date</th>\n",
       "      <th>LOCATION_NUMBER</th>\n",
       "      <th>ADM_METHOD_simple</th>\n",
       "      <th>admission_type</th>\n",
       "      <th>ward_moves</th>\n",
       "    </tr>\n",
       "  </thead>\n",
       "  <tbody>\n",
       "    <tr>\n",
       "      <th>0</th>\n",
       "      <td>353232538008</td>\n",
       "      <td>79</td>\n",
       "      <td>2</td>\n",
       "      <td>6222150</td>\n",
       "      <td>2009-04-29 14:19:00</td>\n",
       "      <td>2009-04-29 15:08:00</td>\n",
       "      <td>13</td>\n",
       "      <td>ELECTIVE PLANNED</td>\n",
       "      <td>0</td>\n",
       "      <td>19</td>\n",
       "      <td>...</td>\n",
       "      <td>USUAL PLACE OF RESIDENCE</td>\n",
       "      <td>08-MAY-18 00:00</td>\n",
       "      <td>1160</td>\n",
       "      <td>UROLOGY ENDOSCOPY SGH</td>\n",
       "      <td>2009-04-29 14:19:00</td>\n",
       "      <td>2009-04-29 15:08:00</td>\n",
       "      <td>1</td>\n",
       "      <td>other</td>\n",
       "      <td>Day Case</td>\n",
       "      <td>1</td>\n",
       "    </tr>\n",
       "    <tr>\n",
       "      <th>1</th>\n",
       "      <td>352434524354</td>\n",
       "      <td>24</td>\n",
       "      <td>2</td>\n",
       "      <td>6279602</td>\n",
       "      <td>2009-08-20 23:00:00</td>\n",
       "      <td>2009-08-21 02:00:00</td>\n",
       "      <td>31</td>\n",
       "      <td>MATERNITY ANTE PARTUM</td>\n",
       "      <td>1</td>\n",
       "      <td>19</td>\n",
       "      <td>...</td>\n",
       "      <td>OTHER-GEN.WARD/YOUNG PHYS.DIS.</td>\n",
       "      <td>NaN</td>\n",
       "      <td>1269</td>\n",
       "      <td>DELIVERY SUITE</td>\n",
       "      <td>2009-08-20 23:00:00</td>\n",
       "      <td>2009-08-21 02:01:00</td>\n",
       "      <td>1</td>\n",
       "      <td>Maternity</td>\n",
       "      <td>Non-Elective</td>\n",
       "      <td>1</td>\n",
       "    </tr>\n",
       "    <tr>\n",
       "      <th>2</th>\n",
       "      <td>302434022192</td>\n",
       "      <td>55</td>\n",
       "      <td>2</td>\n",
       "      <td>6635911</td>\n",
       "      <td>2009-04-14 09:00:00</td>\n",
       "      <td>2009-04-15 16:30:00</td>\n",
       "      <td>13</td>\n",
       "      <td>ELECTIVE PLANNED</td>\n",
       "      <td>1</td>\n",
       "      <td>19</td>\n",
       "      <td>...</td>\n",
       "      <td>USUAL PLACE OF RESIDENCE</td>\n",
       "      <td>NaN</td>\n",
       "      <td>1174</td>\n",
       "      <td>C7 MANAGED CARE</td>\n",
       "      <td>2009-04-14 09:00:00</td>\n",
       "      <td>2009-04-15 09:44:00</td>\n",
       "      <td>1</td>\n",
       "      <td>other</td>\n",
       "      <td>Elective</td>\n",
       "      <td>3</td>\n",
       "    </tr>\n",
       "    <tr>\n",
       "      <th>3</th>\n",
       "      <td>499343990070</td>\n",
       "      <td>80</td>\n",
       "      <td>1</td>\n",
       "      <td>6898128</td>\n",
       "      <td>2009-09-23 08:36:00</td>\n",
       "      <td>2009-09-23 12:19:00</td>\n",
       "      <td>13</td>\n",
       "      <td>ELECTIVE PLANNED</td>\n",
       "      <td>0</td>\n",
       "      <td>19</td>\n",
       "      <td>...</td>\n",
       "      <td>USUAL PLACE OF RESIDENCE</td>\n",
       "      <td>04-JUN-13 00:00</td>\n",
       "      <td>168</td>\n",
       "      <td>MEDICAL ENDOSCOPY UNIT E LEVEL</td>\n",
       "      <td>2009-09-23 08:36:00</td>\n",
       "      <td>2009-09-23 12:20:00</td>\n",
       "      <td>1</td>\n",
       "      <td>other</td>\n",
       "      <td>Day Case</td>\n",
       "      <td>1</td>\n",
       "    </tr>\n",
       "    <tr>\n",
       "      <th>4</th>\n",
       "      <td>522454229119</td>\n",
       "      <td>81</td>\n",
       "      <td>1</td>\n",
       "      <td>6949247</td>\n",
       "      <td>2009-04-27 09:00:00</td>\n",
       "      <td>2009-04-27 10:15:00</td>\n",
       "      <td>13</td>\n",
       "      <td>ELECTIVE PLANNED</td>\n",
       "      <td>0</td>\n",
       "      <td>19</td>\n",
       "      <td>...</td>\n",
       "      <td>USUAL PLACE OF RESIDENCE</td>\n",
       "      <td>08-JAN-10 00:00</td>\n",
       "      <td>1160</td>\n",
       "      <td>UROLOGY ENDOSCOPY SGH</td>\n",
       "      <td>2009-04-27 09:00:00</td>\n",
       "      <td>2009-04-27 10:15:00</td>\n",
       "      <td>1</td>\n",
       "      <td>other</td>\n",
       "      <td>Day Case</td>\n",
       "      <td>1</td>\n",
       "    </tr>\n",
       "  </tbody>\n",
       "</table>\n",
       "<p>5 rows × 24 columns</p>\n",
       "</div>"
      ],
      "text/plain": [
       "  pseudo_patient_number  age  gender  spell_number        adm_datetime  \\\n",
       "0          353232538008   79       2       6222150 2009-04-29 14:19:00   \n",
       "1          352434524354   24       2       6279602 2009-08-20 23:00:00   \n",
       "2          302434022192   55       2       6635911 2009-04-14 09:00:00   \n",
       "3          499343990070   80       1       6898128 2009-09-23 08:36:00   \n",
       "4          522454229119   81       1       6949247 2009-04-27 09:00:00   \n",
       "\n",
       "         dis_datetime admission_method_code admission_method_description  \\\n",
       "0 2009-04-29 15:08:00                    13             ELECTIVE PLANNED   \n",
       "1 2009-08-21 02:00:00                    31        MATERNITY ANTE PARTUM   \n",
       "2 2009-04-15 16:30:00                    13             ELECTIVE PLANNED   \n",
       "3 2009-09-23 12:19:00                    13             ELECTIVE PLANNED   \n",
       "4 2009-04-27 10:15:00                    13             ELECTIVE PLANNED   \n",
       "\n",
       "   length_of_stay_days  admission_source_code    ...      \\\n",
       "0                    0                     19    ...       \n",
       "1                    1                     19    ...       \n",
       "2                    1                     19    ...       \n",
       "3                    0                     19    ...       \n",
       "4                    0                     19    ...       \n",
       "\n",
       "       discharge_destination_desc    date_of_death ward_code  \\\n",
       "0        USUAL PLACE OF RESIDENCE  08-MAY-18 00:00      1160   \n",
       "1  OTHER-GEN.WARD/YOUNG PHYS.DIS.              NaN      1269   \n",
       "2        USUAL PLACE OF RESIDENCE              NaN      1174   \n",
       "3        USUAL PLACE OF RESIDENCE  04-JUN-13 00:00       168   \n",
       "4        USUAL PLACE OF RESIDENCE  08-JAN-10 00:00      1160   \n",
       "\n",
       "            ward_code_description ward_stay_start_date  ward_stay_end_date  \\\n",
       "0           UROLOGY ENDOSCOPY SGH  2009-04-29 14:19:00 2009-04-29 15:08:00   \n",
       "1                  DELIVERY SUITE  2009-08-20 23:00:00 2009-08-21 02:01:00   \n",
       "2                 C7 MANAGED CARE  2009-04-14 09:00:00 2009-04-15 09:44:00   \n",
       "3  MEDICAL ENDOSCOPY UNIT E LEVEL  2009-09-23 08:36:00 2009-09-23 12:20:00   \n",
       "4           UROLOGY ENDOSCOPY SGH  2009-04-27 09:00:00 2009-04-27 10:15:00   \n",
       "\n",
       "   LOCATION_NUMBER ADM_METHOD_simple admission_type ward_moves  \n",
       "0                1             other       Day Case          1  \n",
       "1                1         Maternity   Non-Elective          1  \n",
       "2                1             other       Elective          3  \n",
       "3                1             other       Day Case          1  \n",
       "4                1             other       Day Case          1  \n",
       "\n",
       "[5 rows x 24 columns]"
      ]
     },
     "execution_count": 67,
     "metadata": {},
     "output_type": "execute_result"
    }
   ],
   "source": [
    "spell.head()"
   ]
  },
  {
   "cell_type": "code",
   "execution_count": 83,
   "metadata": {},
   "outputs": [
    {
     "data": {
      "text/plain": [
       "pseudo_patient_number                 0\n",
       "age                                   0\n",
       "gender                                0\n",
       "spell_number                          0\n",
       "adm_datetime                          0\n",
       "dis_datetime                        604\n",
       "admission_method_code                 0\n",
       "admission_method_description          0\n",
       "length_of_stay_days                   0\n",
       "admission_source_code                 0\n",
       "admission_source_description          0\n",
       "discharge_method_code               605\n",
       "discharge_method_description        605\n",
       "discharge_destination_code          604\n",
       "discharge_destination_desc          604\n",
       "date_of_death                   1080563\n",
       "ward_code                             0\n",
       "ward_code_description                 0\n",
       "ward_stay_start_date                  0\n",
       "ward_stay_end_date                  237\n",
       "LOCATION_NUMBER                       0\n",
       "ADM_METHOD_simple                     0\n",
       "admission_type                        0\n",
       "ward_moves                            0\n",
       "dtype: int64"
      ]
     },
     "execution_count": 83,
     "metadata": {},
     "output_type": "execute_result"
    }
   ],
   "source": [
    "spell.isnull().sum()"
   ]
  },
  {
   "cell_type": "code",
   "execution_count": 78,
   "metadata": {},
   "outputs": [
    {
     "data": {
      "text/plain": [
       "(1315333, 24)"
      ]
     },
     "execution_count": 78,
     "metadata": {},
     "output_type": "execute_result"
    }
   ],
   "source": [
    "spell.shape"
   ]
  },
  {
   "cell_type": "code",
   "execution_count": 81,
   "metadata": {},
   "outputs": [],
   "source": [
    "spell.dropna(axis=0, subset=['adm_datetime'], inplace=True)"
   ]
  },
  {
   "cell_type": "code",
   "execution_count": 82,
   "metadata": {},
   "outputs": [
    {
     "data": {
      "text/plain": [
       "(1315330, 24)"
      ]
     },
     "execution_count": 82,
     "metadata": {},
     "output_type": "execute_result"
    }
   ],
   "source": [
    "spell.shape"
   ]
  },
  {
   "cell_type": "code",
   "execution_count": null,
   "metadata": {},
   "outputs": [],
   "source": []
  },
  {
   "cell_type": "code",
   "execution_count": null,
   "metadata": {},
   "outputs": [],
   "source": []
  },
  {
   "cell_type": "code",
   "execution_count": 84,
   "metadata": {},
   "outputs": [],
   "source": [
    "spell.to_csv('./../../../../3_Data/EDclassification/cleanSPELL.csv',index=False)"
   ]
  },
  {
   "cell_type": "code",
   "execution_count": 85,
   "metadata": {},
   "outputs": [],
   "source": [
    "spell.to_pickle('./../../../../3_Data/EDclassification/cleanSPELL.pkl')"
   ]
  },
  {
   "cell_type": "code",
   "execution_count": null,
   "metadata": {},
   "outputs": [],
   "source": []
  },
  {
   "cell_type": "code",
   "execution_count": 133,
   "metadata": {},
   "outputs": [
    {
     "ename": "SyntaxError",
     "evalue": "'break' outside loop (<ipython-input-133-6aaf1f276005>, line 1)",
     "output_type": "error",
     "traceback": [
      "\u001b[1;36m  File \u001b[1;32m\"<ipython-input-133-6aaf1f276005>\"\u001b[1;36m, line \u001b[1;32m1\u001b[0m\n\u001b[1;33m    break\u001b[0m\n\u001b[1;37m         ^\u001b[0m\n\u001b[1;31mSyntaxError\u001b[0m\u001b[1;31m:\u001b[0m 'break' outside loop\n"
     ]
    }
   ],
   "source": [
    "break"
   ]
  },
  {
   "cell_type": "code",
   "execution_count": null,
   "metadata": {},
   "outputs": [],
   "source": []
  },
  {
   "cell_type": "code",
   "execution_count": null,
   "metadata": {},
   "outputs": [],
   "source": []
  },
  {
   "cell_type": "code",
   "execution_count": null,
   "metadata": {},
   "outputs": [],
   "source": []
  },
  {
   "cell_type": "code",
   "execution_count": null,
   "metadata": {},
   "outputs": [],
   "source": []
  },
  {
   "cell_type": "code",
   "execution_count": 77,
   "metadata": {
    "collapsed": false
   },
   "outputs": [
    {
     "data": {
      "text/html": [
       "<div>\n",
       "<style scoped>\n",
       "    .dataframe tbody tr th:only-of-type {\n",
       "        vertical-align: middle;\n",
       "    }\n",
       "\n",
       "    .dataframe tbody tr th {\n",
       "        vertical-align: top;\n",
       "    }\n",
       "\n",
       "    .dataframe thead th {\n",
       "        text-align: right;\n",
       "    }\n",
       "</style>\n",
       "<table border=\"1\" class=\"dataframe\">\n",
       "  <thead>\n",
       "    <tr style=\"text-align: right;\">\n",
       "      <th></th>\n",
       "      <th>hosp_patid</th>\n",
       "      <th>age</th>\n",
       "      <th>gender</th>\n",
       "      <th>spell_no</th>\n",
       "      <th>adm_datetime</th>\n",
       "      <th>dis_datetime</th>\n",
       "      <th>admission_method</th>\n",
       "      <th>admission_method_code</th>\n",
       "      <th>move_start_datetime</th>\n",
       "      <th>move_end_datetime</th>\n",
       "      <th>...</th>\n",
       "      <th>dis_day</th>\n",
       "      <th>dis_month</th>\n",
       "      <th>dis_week</th>\n",
       "      <th>dis_dayofweek_name</th>\n",
       "      <th>dis_year</th>\n",
       "      <th>dis_date</th>\n",
       "      <th>dis_flag_wkend</th>\n",
       "      <th>move_no</th>\n",
       "      <th>site</th>\n",
       "      <th>admission_type</th>\n",
       "    </tr>\n",
       "  </thead>\n",
       "  <tbody>\n",
       "    <tr>\n",
       "      <th>0</th>\n",
       "      <td>353232538008</td>\n",
       "      <td>79</td>\n",
       "      <td>2</td>\n",
       "      <td>6222150</td>\n",
       "      <td>2009-04-29 14:19:00</td>\n",
       "      <td>2009-04-29 15:08:00</td>\n",
       "      <td>13</td>\n",
       "      <td>ELECTIVE PLANNED</td>\n",
       "      <td>2009-04-29 14:19:00</td>\n",
       "      <td>2009-04-29 15:08:00</td>\n",
       "      <td>...</td>\n",
       "      <td>29.0</td>\n",
       "      <td>4.0</td>\n",
       "      <td>18.0</td>\n",
       "      <td>Wednesday</td>\n",
       "      <td>2009.0</td>\n",
       "      <td>2009-04-29</td>\n",
       "      <td>0</td>\n",
       "      <td>1</td>\n",
       "      <td>SGH</td>\n",
       "      <td>Day Case</td>\n",
       "    </tr>\n",
       "    <tr>\n",
       "      <th>1</th>\n",
       "      <td>352434524354</td>\n",
       "      <td>24</td>\n",
       "      <td>2</td>\n",
       "      <td>6279602</td>\n",
       "      <td>2009-08-20 23:00:00</td>\n",
       "      <td>2009-08-21 02:00:00</td>\n",
       "      <td>31</td>\n",
       "      <td>MATERNITY ANTE PARTUM</td>\n",
       "      <td>2009-08-20 23:00:00</td>\n",
       "      <td>2009-08-21 02:01:00</td>\n",
       "      <td>...</td>\n",
       "      <td>21.0</td>\n",
       "      <td>8.0</td>\n",
       "      <td>34.0</td>\n",
       "      <td>Friday</td>\n",
       "      <td>2009.0</td>\n",
       "      <td>2009-08-21</td>\n",
       "      <td>0</td>\n",
       "      <td>1</td>\n",
       "      <td>SGH</td>\n",
       "      <td>Non-Elective</td>\n",
       "    </tr>\n",
       "    <tr>\n",
       "      <th>2</th>\n",
       "      <td>302434022192</td>\n",
       "      <td>55</td>\n",
       "      <td>2</td>\n",
       "      <td>6635911</td>\n",
       "      <td>2009-04-14 09:00:00</td>\n",
       "      <td>2009-04-15 16:30:00</td>\n",
       "      <td>13</td>\n",
       "      <td>ELECTIVE PLANNED</td>\n",
       "      <td>2009-04-14 09:00:00</td>\n",
       "      <td>2009-04-15 09:44:00</td>\n",
       "      <td>...</td>\n",
       "      <td>15.0</td>\n",
       "      <td>4.0</td>\n",
       "      <td>16.0</td>\n",
       "      <td>Wednesday</td>\n",
       "      <td>2009.0</td>\n",
       "      <td>2009-04-15</td>\n",
       "      <td>0</td>\n",
       "      <td>1</td>\n",
       "      <td>SGH</td>\n",
       "      <td>Elective</td>\n",
       "    </tr>\n",
       "    <tr>\n",
       "      <th>3</th>\n",
       "      <td>302434022192</td>\n",
       "      <td>55</td>\n",
       "      <td>2</td>\n",
       "      <td>6635911</td>\n",
       "      <td>2009-04-14 09:00:00</td>\n",
       "      <td>2009-04-15 16:30:00</td>\n",
       "      <td>13</td>\n",
       "      <td>ELECTIVE PLANNED</td>\n",
       "      <td>2009-04-15 09:44:00</td>\n",
       "      <td>2009-04-15 11:29:00</td>\n",
       "      <td>...</td>\n",
       "      <td>15.0</td>\n",
       "      <td>4.0</td>\n",
       "      <td>16.0</td>\n",
       "      <td>Wednesday</td>\n",
       "      <td>2009.0</td>\n",
       "      <td>2009-04-15</td>\n",
       "      <td>0</td>\n",
       "      <td>2</td>\n",
       "      <td>SGH</td>\n",
       "      <td>Elective</td>\n",
       "    </tr>\n",
       "    <tr>\n",
       "      <th>4</th>\n",
       "      <td>302434022192</td>\n",
       "      <td>55</td>\n",
       "      <td>2</td>\n",
       "      <td>6635911</td>\n",
       "      <td>2009-04-14 09:00:00</td>\n",
       "      <td>2009-04-15 16:30:00</td>\n",
       "      <td>13</td>\n",
       "      <td>ELECTIVE PLANNED</td>\n",
       "      <td>2009-04-15 11:29:00</td>\n",
       "      <td>2009-04-15 16:30:00</td>\n",
       "      <td>...</td>\n",
       "      <td>15.0</td>\n",
       "      <td>4.0</td>\n",
       "      <td>16.0</td>\n",
       "      <td>Wednesday</td>\n",
       "      <td>2009.0</td>\n",
       "      <td>2009-04-15</td>\n",
       "      <td>0</td>\n",
       "      <td>3</td>\n",
       "      <td>SGH</td>\n",
       "      <td>Elective</td>\n",
       "    </tr>\n",
       "  </tbody>\n",
       "</table>\n",
       "<p>5 rows × 40 columns</p>\n",
       "</div>"
      ],
      "text/plain": [
       "     hosp_patid  age  gender  spell_no        adm_datetime  \\\n",
       "0  353232538008   79       2   6222150 2009-04-29 14:19:00   \n",
       "1  352434524354   24       2   6279602 2009-08-20 23:00:00   \n",
       "2  302434022192   55       2   6635911 2009-04-14 09:00:00   \n",
       "3  302434022192   55       2   6635911 2009-04-14 09:00:00   \n",
       "4  302434022192   55       2   6635911 2009-04-14 09:00:00   \n",
       "\n",
       "         dis_datetime admission_method  admission_method_code  \\\n",
       "0 2009-04-29 15:08:00               13       ELECTIVE PLANNED   \n",
       "1 2009-08-21 02:00:00               31  MATERNITY ANTE PARTUM   \n",
       "2 2009-04-15 16:30:00               13       ELECTIVE PLANNED   \n",
       "3 2009-04-15 16:30:00               13       ELECTIVE PLANNED   \n",
       "4 2009-04-15 16:30:00               13       ELECTIVE PLANNED   \n",
       "\n",
       "  move_start_datetime   move_end_datetime       ...        dis_day dis_month  \\\n",
       "0 2009-04-29 14:19:00 2009-04-29 15:08:00       ...           29.0       4.0   \n",
       "1 2009-08-20 23:00:00 2009-08-21 02:01:00       ...           21.0       8.0   \n",
       "2 2009-04-14 09:00:00 2009-04-15 09:44:00       ...           15.0       4.0   \n",
       "3 2009-04-15 09:44:00 2009-04-15 11:29:00       ...           15.0       4.0   \n",
       "4 2009-04-15 11:29:00 2009-04-15 16:30:00       ...           15.0       4.0   \n",
       "\n",
       "   dis_week  dis_dayofweek_name  dis_year    dis_date  dis_flag_wkend move_no  \\\n",
       "0      18.0           Wednesday    2009.0  2009-04-29               0       1   \n",
       "1      34.0              Friday    2009.0  2009-08-21               0       1   \n",
       "2      16.0           Wednesday    2009.0  2009-04-15               0       1   \n",
       "3      16.0           Wednesday    2009.0  2009-04-15               0       2   \n",
       "4      16.0           Wednesday    2009.0  2009-04-15               0       3   \n",
       "\n",
       "  site  admission_type  \n",
       "0  SGH        Day Case  \n",
       "1  SGH    Non-Elective  \n",
       "2  SGH        Elective  \n",
       "3  SGH        Elective  \n",
       "4  SGH        Elective  \n",
       "\n",
       "[5 rows x 40 columns]"
      ]
     },
     "execution_count": 77,
     "metadata": {},
     "output_type": "execute_result"
    }
   ],
   "source": [
    "df.head()"
   ]
  },
  {
   "cell_type": "code",
   "execution_count": 78,
   "metadata": {
    "collapsed": false
   },
   "outputs": [
    {
     "data": {
      "text/plain": [
       "Index(['hosp_patid', 'age', 'gender', 'spell_no', 'adm_datetime',\n",
       "       'dis_datetime', 'admission_method', 'admission_method_code',\n",
       "       'move_start_datetime', 'move_end_datetime', 'move_name_code',\n",
       "       'move_name', 'spel_los', 'dis_destination', 'dis_method',\n",
       "       'date_of_death', 'adm_source_code', 'adm_source_desc', 'age_group',\n",
       "       'adm_hour', 'adm_dayofweek', 'adm_day', 'adm_month', 'adm_week',\n",
       "       'adm_dayofweek_name', 'adm_year', 'adm_date', 'adm_flag_wkend',\n",
       "       'dis_hour', 'dis_dayofweek', 'dis_day', 'dis_month', 'dis_week',\n",
       "       'dis_dayofweek_name', 'dis_year', 'dis_date', 'dis_flag_wkend',\n",
       "       'move_no', 'site', 'admission_type'],\n",
       "      dtype='object')"
      ]
     },
     "execution_count": 78,
     "metadata": {},
     "output_type": "execute_result"
    }
   ],
   "source": [
    "df.columns"
   ]
  },
  {
   "cell_type": "code",
   "execution_count": null,
   "metadata": {
    "collapsed": true
   },
   "outputs": [],
   "source": []
  },
  {
   "cell_type": "code",
   "execution_count": 79,
   "metadata": {
    "collapsed": false
   },
   "outputs": [
    {
     "data": {
      "text/plain": [
       "Index(['hosp_patid', 'age', 'gender', 'spell_no', 'adm_datetime',\n",
       "       'dis_datetime', 'admission_method', 'admission_method_code',\n",
       "       'move_start_datetime', 'move_end_datetime', 'move_name_code',\n",
       "       'move_name', 'spel_los', 'dis_destination', 'dis_method',\n",
       "       'date_of_death', 'adm_source_code', 'adm_source_desc', 'age_group',\n",
       "       'adm_hour', 'adm_dayofweek', 'adm_day', 'adm_month', 'adm_week',\n",
       "       'adm_dayofweek_name', 'adm_year', 'adm_date', 'adm_flag_wkend',\n",
       "       'dis_hour', 'dis_dayofweek', 'dis_day', 'dis_month', 'dis_week',\n",
       "       'dis_dayofweek_name', 'dis_year', 'dis_date', 'dis_flag_wkend',\n",
       "       'move_no', 'site', 'admission_type'],\n",
       "      dtype='object')"
      ]
     },
     "execution_count": 79,
     "metadata": {},
     "output_type": "execute_result"
    }
   ],
   "source": [
    "ip._dataRAW.columns"
   ]
  },
  {
   "cell_type": "code",
   "execution_count": 80,
   "metadata": {
    "collapsed": false
   },
   "outputs": [
    {
     "data": {
      "text/html": [
       "<div>\n",
       "<style scoped>\n",
       "    .dataframe tbody tr th:only-of-type {\n",
       "        vertical-align: middle;\n",
       "    }\n",
       "\n",
       "    .dataframe tbody tr th {\n",
       "        vertical-align: top;\n",
       "    }\n",
       "\n",
       "    .dataframe thead th {\n",
       "        text-align: right;\n",
       "    }\n",
       "</style>\n",
       "<table border=\"1\" class=\"dataframe\">\n",
       "  <thead>\n",
       "    <tr style=\"text-align: right;\">\n",
       "      <th></th>\n",
       "      <th>hosp_patid</th>\n",
       "      <th>age</th>\n",
       "      <th>gender</th>\n",
       "      <th>spell_no</th>\n",
       "      <th>adm_datetime</th>\n",
       "      <th>dis_datetime</th>\n",
       "      <th>admission_method</th>\n",
       "      <th>admission_method_code</th>\n",
       "      <th>move_start_datetime</th>\n",
       "      <th>move_end_datetime</th>\n",
       "      <th>...</th>\n",
       "      <th>dis_day</th>\n",
       "      <th>dis_month</th>\n",
       "      <th>dis_week</th>\n",
       "      <th>dis_dayofweek_name</th>\n",
       "      <th>dis_year</th>\n",
       "      <th>dis_date</th>\n",
       "      <th>dis_flag_wkend</th>\n",
       "      <th>move_no</th>\n",
       "      <th>site</th>\n",
       "      <th>admission_type</th>\n",
       "    </tr>\n",
       "  </thead>\n",
       "  <tbody>\n",
       "    <tr>\n",
       "      <th>0</th>\n",
       "      <td>353232538008</td>\n",
       "      <td>79</td>\n",
       "      <td>2</td>\n",
       "      <td>6222150</td>\n",
       "      <td>2009-04-29 14:19:00</td>\n",
       "      <td>2009-04-29 15:08:00</td>\n",
       "      <td>13</td>\n",
       "      <td>ELECTIVE PLANNED</td>\n",
       "      <td>2009-04-29 14:19:00</td>\n",
       "      <td>2009-04-29 15:08:00</td>\n",
       "      <td>...</td>\n",
       "      <td>29.0</td>\n",
       "      <td>4.0</td>\n",
       "      <td>18.0</td>\n",
       "      <td>Wednesday</td>\n",
       "      <td>2009.0</td>\n",
       "      <td>2009-04-29</td>\n",
       "      <td>0</td>\n",
       "      <td>1</td>\n",
       "      <td>SGH</td>\n",
       "      <td>Day Case</td>\n",
       "    </tr>\n",
       "    <tr>\n",
       "      <th>1</th>\n",
       "      <td>352434524354</td>\n",
       "      <td>24</td>\n",
       "      <td>2</td>\n",
       "      <td>6279602</td>\n",
       "      <td>2009-08-20 23:00:00</td>\n",
       "      <td>2009-08-21 02:00:00</td>\n",
       "      <td>31</td>\n",
       "      <td>MATERNITY ANTE PARTUM</td>\n",
       "      <td>2009-08-20 23:00:00</td>\n",
       "      <td>2009-08-21 02:01:00</td>\n",
       "      <td>...</td>\n",
       "      <td>21.0</td>\n",
       "      <td>8.0</td>\n",
       "      <td>34.0</td>\n",
       "      <td>Friday</td>\n",
       "      <td>2009.0</td>\n",
       "      <td>2009-08-21</td>\n",
       "      <td>0</td>\n",
       "      <td>1</td>\n",
       "      <td>SGH</td>\n",
       "      <td>Non-Elective</td>\n",
       "    </tr>\n",
       "    <tr>\n",
       "      <th>2</th>\n",
       "      <td>302434022192</td>\n",
       "      <td>55</td>\n",
       "      <td>2</td>\n",
       "      <td>6635911</td>\n",
       "      <td>2009-04-14 09:00:00</td>\n",
       "      <td>2009-04-15 16:30:00</td>\n",
       "      <td>13</td>\n",
       "      <td>ELECTIVE PLANNED</td>\n",
       "      <td>2009-04-14 09:00:00</td>\n",
       "      <td>2009-04-15 09:44:00</td>\n",
       "      <td>...</td>\n",
       "      <td>15.0</td>\n",
       "      <td>4.0</td>\n",
       "      <td>16.0</td>\n",
       "      <td>Wednesday</td>\n",
       "      <td>2009.0</td>\n",
       "      <td>2009-04-15</td>\n",
       "      <td>0</td>\n",
       "      <td>1</td>\n",
       "      <td>SGH</td>\n",
       "      <td>Elective</td>\n",
       "    </tr>\n",
       "    <tr>\n",
       "      <th>3</th>\n",
       "      <td>302434022192</td>\n",
       "      <td>55</td>\n",
       "      <td>2</td>\n",
       "      <td>6635911</td>\n",
       "      <td>2009-04-14 09:00:00</td>\n",
       "      <td>2009-04-15 16:30:00</td>\n",
       "      <td>13</td>\n",
       "      <td>ELECTIVE PLANNED</td>\n",
       "      <td>2009-04-15 09:44:00</td>\n",
       "      <td>2009-04-15 11:29:00</td>\n",
       "      <td>...</td>\n",
       "      <td>15.0</td>\n",
       "      <td>4.0</td>\n",
       "      <td>16.0</td>\n",
       "      <td>Wednesday</td>\n",
       "      <td>2009.0</td>\n",
       "      <td>2009-04-15</td>\n",
       "      <td>0</td>\n",
       "      <td>2</td>\n",
       "      <td>SGH</td>\n",
       "      <td>Elective</td>\n",
       "    </tr>\n",
       "    <tr>\n",
       "      <th>4</th>\n",
       "      <td>302434022192</td>\n",
       "      <td>55</td>\n",
       "      <td>2</td>\n",
       "      <td>6635911</td>\n",
       "      <td>2009-04-14 09:00:00</td>\n",
       "      <td>2009-04-15 16:30:00</td>\n",
       "      <td>13</td>\n",
       "      <td>ELECTIVE PLANNED</td>\n",
       "      <td>2009-04-15 11:29:00</td>\n",
       "      <td>2009-04-15 16:30:00</td>\n",
       "      <td>...</td>\n",
       "      <td>15.0</td>\n",
       "      <td>4.0</td>\n",
       "      <td>16.0</td>\n",
       "      <td>Wednesday</td>\n",
       "      <td>2009.0</td>\n",
       "      <td>2009-04-15</td>\n",
       "      <td>0</td>\n",
       "      <td>3</td>\n",
       "      <td>SGH</td>\n",
       "      <td>Elective</td>\n",
       "    </tr>\n",
       "  </tbody>\n",
       "</table>\n",
       "<p>5 rows × 40 columns</p>\n",
       "</div>"
      ],
      "text/plain": [
       "     hosp_patid  age  gender  spell_no        adm_datetime  \\\n",
       "0  353232538008   79       2   6222150 2009-04-29 14:19:00   \n",
       "1  352434524354   24       2   6279602 2009-08-20 23:00:00   \n",
       "2  302434022192   55       2   6635911 2009-04-14 09:00:00   \n",
       "3  302434022192   55       2   6635911 2009-04-14 09:00:00   \n",
       "4  302434022192   55       2   6635911 2009-04-14 09:00:00   \n",
       "\n",
       "         dis_datetime admission_method  admission_method_code  \\\n",
       "0 2009-04-29 15:08:00               13       ELECTIVE PLANNED   \n",
       "1 2009-08-21 02:00:00               31  MATERNITY ANTE PARTUM   \n",
       "2 2009-04-15 16:30:00               13       ELECTIVE PLANNED   \n",
       "3 2009-04-15 16:30:00               13       ELECTIVE PLANNED   \n",
       "4 2009-04-15 16:30:00               13       ELECTIVE PLANNED   \n",
       "\n",
       "  move_start_datetime   move_end_datetime       ...        dis_day dis_month  \\\n",
       "0 2009-04-29 14:19:00 2009-04-29 15:08:00       ...           29.0       4.0   \n",
       "1 2009-08-20 23:00:00 2009-08-21 02:01:00       ...           21.0       8.0   \n",
       "2 2009-04-14 09:00:00 2009-04-15 09:44:00       ...           15.0       4.0   \n",
       "3 2009-04-15 09:44:00 2009-04-15 11:29:00       ...           15.0       4.0   \n",
       "4 2009-04-15 11:29:00 2009-04-15 16:30:00       ...           15.0       4.0   \n",
       "\n",
       "   dis_week  dis_dayofweek_name  dis_year    dis_date  dis_flag_wkend move_no  \\\n",
       "0      18.0           Wednesday    2009.0  2009-04-29               0       1   \n",
       "1      34.0              Friday    2009.0  2009-08-21               0       1   \n",
       "2      16.0           Wednesday    2009.0  2009-04-15               0       1   \n",
       "3      16.0           Wednesday    2009.0  2009-04-15               0       2   \n",
       "4      16.0           Wednesday    2009.0  2009-04-15               0       3   \n",
       "\n",
       "  site  admission_type  \n",
       "0  SGH        Day Case  \n",
       "1  SGH    Non-Elective  \n",
       "2  SGH        Elective  \n",
       "3  SGH        Elective  \n",
       "4  SGH        Elective  \n",
       "\n",
       "[5 rows x 40 columns]"
      ]
     },
     "execution_count": 80,
     "metadata": {},
     "output_type": "execute_result"
    }
   ],
   "source": [
    "ip._dataRAW.head()"
   ]
  },
  {
   "cell_type": "code",
   "execution_count": 81,
   "metadata": {
    "collapsed": false
   },
   "outputs": [
    {
     "name": "stdout",
     "output_type": "stream",
     "text": [
      "----------------------------------------\n",
      "Creating spell dataframe...could take 10minutes or more depending on size of data set.\n"
     ]
    }
   ],
   "source": [
    "ip.create_spell_df()"
   ]
  },
  {
   "cell_type": "code",
   "execution_count": null,
   "metadata": {
    "collapsed": true
   },
   "outputs": [],
   "source": []
  },
  {
   "cell_type": "code",
   "execution_count": 82,
   "metadata": {
    "collapsed": false
   },
   "outputs": [
    {
     "data": {
      "text/plain": [
       "Index(['hosp_patid', 'age', 'gender', 'spell_no', 'adm_datetime',\n",
       "       'dis_datetime', 'admission_method', 'admission_method_code',\n",
       "       'move_start_datetime', 'move_end_datetime', 'move_name_code',\n",
       "       'move_name', 'spel_los', 'dis_destination', 'dis_method',\n",
       "       'date_of_death', 'adm_source_code', 'adm_source_desc', 'age_group',\n",
       "       'adm_hour', 'adm_dayofweek', 'adm_day', 'adm_month', 'adm_week',\n",
       "       'adm_dayofweek_name', 'adm_year', 'adm_date', 'adm_flag_wkend',\n",
       "       'dis_hour', 'dis_dayofweek', 'dis_day', 'dis_month', 'dis_week',\n",
       "       'dis_dayofweek_name', 'dis_year', 'dis_date', 'dis_flag_wkend',\n",
       "       'move_no', 'site', 'admission_type'],\n",
       "      dtype='object')"
      ]
     },
     "execution_count": 82,
     "metadata": {},
     "output_type": "execute_result"
    }
   ],
   "source": [
    "df.columns"
   ]
  },
  {
   "cell_type": "code",
   "execution_count": 83,
   "metadata": {
    "collapsed": false
   },
   "outputs": [
    {
     "data": {
      "text/plain": [
       "(1317222, 34)"
      ]
     },
     "execution_count": 83,
     "metadata": {},
     "output_type": "execute_result"
    }
   ],
   "source": [
    "ip._dataRAWspell.shape"
   ]
  },
  {
   "cell_type": "code",
   "execution_count": 84,
   "metadata": {
    "collapsed": false
   },
   "outputs": [
    {
     "data": {
      "text/plain": [
       "(2036456, 40)"
      ]
     },
     "execution_count": 84,
     "metadata": {},
     "output_type": "execute_result"
    }
   ],
   "source": [
    "ip._dataRAW.shape"
   ]
  },
  {
   "cell_type": "markdown",
   "metadata": {},
   "source": [
    "## Save out"
   ]
  },
  {
   "cell_type": "markdown",
   "metadata": {},
   "source": [
    "to do:\n",
    "- count for moves\n",
    "- basic vis: numbers "
   ]
  },
  {
   "cell_type": "code",
   "execution_count": 85,
   "metadata": {
    "collapsed": false
   },
   "outputs": [
    {
     "name": "stdout",
     "output_type": "stream",
     "text": [
      "----------------------------------------\n",
      "saved file: ./../../3_Data/processed/sgh/sghIPward.pkl\n",
      "----------------------------------------\n",
      "saved file: ./../../3_Data/processed/sgh/sghIPspell.pkl\n"
     ]
    }
   ],
   "source": [
    "ip.saveRAWasCLEAN()"
   ]
  },
  {
   "cell_type": "code",
   "execution_count": null,
   "metadata": {
    "collapsed": true
   },
   "outputs": [],
   "source": []
  },
  {
   "cell_type": "code",
   "execution_count": null,
   "metadata": {},
   "outputs": [],
   "source": []
  },
  {
   "cell_type": "code",
   "execution_count": 81,
   "metadata": {},
   "outputs": [
    {
     "ename": "SyntaxError",
     "evalue": "'break' outside loop (<ipython-input-81-6aaf1f276005>, line 1)",
     "output_type": "error",
     "traceback": [
      "\u001b[1;36m  File \u001b[1;32m\"<ipython-input-81-6aaf1f276005>\"\u001b[1;36m, line \u001b[1;32m1\u001b[0m\n\u001b[1;33m    break\u001b[0m\n\u001b[1;37m         ^\u001b[0m\n\u001b[1;31mSyntaxError\u001b[0m\u001b[1;31m:\u001b[0m 'break' outside loop\n"
     ]
    }
   ],
   "source": [
    "break"
   ]
  },
  {
   "cell_type": "markdown",
   "metadata": {},
   "source": [
    "# make timeseries dfs"
   ]
  },
  {
   "cell_type": "code",
   "execution_count": 86,
   "metadata": {
    "collapsed": false
   },
   "outputs": [
    {
     "name": "stdout",
     "output_type": "stream",
     "text": [
      "<flosp._plotting.plotED object at 0x0000023A42AAA2B0>\n",
      "<flosp.analyse.data object at 0x0000023A42AAA940>\n",
      "<flosp.analyse.data object at 0x0000023A42AAA940>\n",
      "----------------------------------------\n",
      "attemping to import processed dataframes.\n",
      "Found: ./../../3_Data/processed/sgh/sghED.pkl\n",
      "Missing: ./../../3_Data/processed/sgh/sghIPfce.pkl\n",
      "Found: ./../../3_Data/processed/sgh/sghIPward.pkl\n",
      "Found: ./../../3_Data/processed/sgh/sghIPspell.pkl\n",
      "Found: ./../../3_Data/processed/sgh/sghHOURLY.pkl\n",
      "Found: ./../../3_Data/processed/sgh/sghDAILY.pkl\n"
     ]
    }
   ],
   "source": [
    "sgh = flosp.analyse('sgh','./../../3_Data/',[2017])"
   ]
  },
  {
   "cell_type": "markdown",
   "metadata": {},
   "source": [
    "sgh.data.ED = sgh.data.ED[-400:-300]"
   ]
  },
  {
   "cell_type": "markdown",
   "metadata": {},
   "source": [
    "sgh.data.IPspell = sgh.data.IPspell[-400:-300]"
   ]
  },
  {
   "cell_type": "code",
   "execution_count": 87,
   "metadata": {
    "collapsed": false
   },
   "outputs": [
    {
     "data": {
      "text/html": [
       "<div>\n",
       "<style scoped>\n",
       "    .dataframe tbody tr th:only-of-type {\n",
       "        vertical-align: middle;\n",
       "    }\n",
       "\n",
       "    .dataframe tbody tr th {\n",
       "        vertical-align: top;\n",
       "    }\n",
       "\n",
       "    .dataframe thead th {\n",
       "        text-align: right;\n",
       "    }\n",
       "</style>\n",
       "<table border=\"1\" class=\"dataframe\">\n",
       "  <thead>\n",
       "    <tr style=\"text-align: right;\">\n",
       "      <th></th>\n",
       "      <th>hosp_patid</th>\n",
       "      <th>adm_datetime</th>\n",
       "      <th>move_total</th>\n",
       "      <th>adm_loc</th>\n",
       "      <th>dis_loc</th>\n",
       "      <th>admission_method</th>\n",
       "      <th>admission_type</th>\n",
       "      <th>spel_los</th>\n",
       "      <th>gender</th>\n",
       "      <th>site</th>\n",
       "      <th>...</th>\n",
       "      <th>dis_month</th>\n",
       "      <th>dis_week</th>\n",
       "      <th>dis_dayofweek_name</th>\n",
       "      <th>dis_year</th>\n",
       "      <th>dis_datetime</th>\n",
       "      <th>dis_destination</th>\n",
       "      <th>dis_method</th>\n",
       "      <th>dis_day</th>\n",
       "      <th>dis_date</th>\n",
       "      <th>dis_flag_wkend</th>\n",
       "    </tr>\n",
       "  </thead>\n",
       "  <tbody>\n",
       "    <tr>\n",
       "      <th>0</th>\n",
       "      <td>90</td>\n",
       "      <td>2011-09-13 00:12:00</td>\n",
       "      <td>2</td>\n",
       "      <td>CLINICAL DECISIONS UNIT AE</td>\n",
       "      <td>2</td>\n",
       "      <td>21</td>\n",
       "      <td>Non-Elective</td>\n",
       "      <td>7</td>\n",
       "      <td>2</td>\n",
       "      <td>SGH</td>\n",
       "      <td>...</td>\n",
       "      <td>9.0</td>\n",
       "      <td>38.0</td>\n",
       "      <td>Tuesday</td>\n",
       "      <td>2011.0</td>\n",
       "      <td>2011-09-20 20:00:00</td>\n",
       "      <td>19.0</td>\n",
       "      <td>1.0</td>\n",
       "      <td>20.0</td>\n",
       "      <td>2011-09-20</td>\n",
       "      <td>0</td>\n",
       "    </tr>\n",
       "    <tr>\n",
       "      <th>1</th>\n",
       "      <td>90</td>\n",
       "      <td>2011-09-30 13:42:00</td>\n",
       "      <td>1</td>\n",
       "      <td>CLINICAL DECISIONS UNIT AE</td>\n",
       "      <td>1</td>\n",
       "      <td>21</td>\n",
       "      <td>Day Case</td>\n",
       "      <td>0</td>\n",
       "      <td>2</td>\n",
       "      <td>SGH</td>\n",
       "      <td>...</td>\n",
       "      <td>9.0</td>\n",
       "      <td>39.0</td>\n",
       "      <td>Friday</td>\n",
       "      <td>2011.0</td>\n",
       "      <td>2011-09-30 17:44:00</td>\n",
       "      <td>19.0</td>\n",
       "      <td>1.0</td>\n",
       "      <td>30.0</td>\n",
       "      <td>2011-09-30</td>\n",
       "      <td>0</td>\n",
       "    </tr>\n",
       "    <tr>\n",
       "      <th>2</th>\n",
       "      <td>90</td>\n",
       "      <td>2012-11-21 09:28:00</td>\n",
       "      <td>1</td>\n",
       "      <td>WARD F3</td>\n",
       "      <td>1</td>\n",
       "      <td>21</td>\n",
       "      <td>Non-Elective</td>\n",
       "      <td>8</td>\n",
       "      <td>2</td>\n",
       "      <td>SGH</td>\n",
       "      <td>...</td>\n",
       "      <td>11.0</td>\n",
       "      <td>48.0</td>\n",
       "      <td>Thursday</td>\n",
       "      <td>2012.0</td>\n",
       "      <td>2012-11-29 15:00:00</td>\n",
       "      <td>51.0</td>\n",
       "      <td>1.0</td>\n",
       "      <td>29.0</td>\n",
       "      <td>2012-11-29</td>\n",
       "      <td>0</td>\n",
       "    </tr>\n",
       "    <tr>\n",
       "      <th>3</th>\n",
       "      <td>90</td>\n",
       "      <td>2013-12-12 10:00:00</td>\n",
       "      <td>1</td>\n",
       "      <td>MEDICAL ENDOSCOPY UNIT E LEVEL</td>\n",
       "      <td>1</td>\n",
       "      <td>11</td>\n",
       "      <td>Day Case</td>\n",
       "      <td>0</td>\n",
       "      <td>2</td>\n",
       "      <td>SGH</td>\n",
       "      <td>...</td>\n",
       "      <td>12.0</td>\n",
       "      <td>50.0</td>\n",
       "      <td>Thursday</td>\n",
       "      <td>2013.0</td>\n",
       "      <td>2013-12-12 13:15:00</td>\n",
       "      <td>19.0</td>\n",
       "      <td>1.0</td>\n",
       "      <td>12.0</td>\n",
       "      <td>2013-12-12</td>\n",
       "      <td>0</td>\n",
       "    </tr>\n",
       "    <tr>\n",
       "      <th>4</th>\n",
       "      <td>90</td>\n",
       "      <td>2014-07-20 14:32:00</td>\n",
       "      <td>1</td>\n",
       "      <td>CLINICAL DECISIONS UNIT AE</td>\n",
       "      <td>1</td>\n",
       "      <td>21</td>\n",
       "      <td>Day Case</td>\n",
       "      <td>0</td>\n",
       "      <td>2</td>\n",
       "      <td>SGH</td>\n",
       "      <td>...</td>\n",
       "      <td>7.0</td>\n",
       "      <td>29.0</td>\n",
       "      <td>Sunday</td>\n",
       "      <td>2014.0</td>\n",
       "      <td>2014-07-20 16:45:00</td>\n",
       "      <td>19.0</td>\n",
       "      <td>1.0</td>\n",
       "      <td>20.0</td>\n",
       "      <td>2014-07-20</td>\n",
       "      <td>1</td>\n",
       "    </tr>\n",
       "  </tbody>\n",
       "</table>\n",
       "<p>5 rows × 34 columns</p>\n",
       "</div>"
      ],
      "text/plain": [
       "  hosp_patid        adm_datetime  move_total                         adm_loc  \\\n",
       "0         90 2011-09-13 00:12:00           2      CLINICAL DECISIONS UNIT AE   \n",
       "1         90 2011-09-30 13:42:00           1      CLINICAL DECISIONS UNIT AE   \n",
       "2         90 2012-11-21 09:28:00           1                         WARD F3   \n",
       "3         90 2013-12-12 10:00:00           1  MEDICAL ENDOSCOPY UNIT E LEVEL   \n",
       "4         90 2014-07-20 14:32:00           1      CLINICAL DECISIONS UNIT AE   \n",
       "\n",
       "   dis_loc admission_method admission_type  spel_los  gender site  \\\n",
       "0        2               21   Non-Elective         7       2  SGH   \n",
       "1        1               21       Day Case         0       2  SGH   \n",
       "2        1               21   Non-Elective         8       2  SGH   \n",
       "3        1               11       Day Case         0       2  SGH   \n",
       "4        1               21       Day Case         0       2  SGH   \n",
       "\n",
       "        ...       dis_month  dis_week  dis_dayofweek_name  dis_year  \\\n",
       "0       ...             9.0      38.0             Tuesday    2011.0   \n",
       "1       ...             9.0      39.0              Friday    2011.0   \n",
       "2       ...            11.0      48.0            Thursday    2012.0   \n",
       "3       ...            12.0      50.0            Thursday    2013.0   \n",
       "4       ...             7.0      29.0              Sunday    2014.0   \n",
       "\n",
       "         dis_datetime dis_destination  dis_method  dis_day    dis_date  \\\n",
       "0 2011-09-20 20:00:00            19.0         1.0     20.0  2011-09-20   \n",
       "1 2011-09-30 17:44:00            19.0         1.0     30.0  2011-09-30   \n",
       "2 2012-11-29 15:00:00            51.0         1.0     29.0  2012-11-29   \n",
       "3 2013-12-12 13:15:00            19.0         1.0     12.0  2013-12-12   \n",
       "4 2014-07-20 16:45:00            19.0         1.0     20.0  2014-07-20   \n",
       "\n",
       "   dis_flag_wkend  \n",
       "0               0  \n",
       "1               0  \n",
       "2               0  \n",
       "3               0  \n",
       "4               1  \n",
       "\n",
       "[5 rows x 34 columns]"
      ]
     },
     "execution_count": 87,
     "metadata": {},
     "output_type": "execute_result"
    }
   ],
   "source": [
    "sgh.data.IPspell.head()"
   ]
  },
  {
   "cell_type": "code",
   "execution_count": 88,
   "metadata": {
    "collapsed": false
   },
   "outputs": [
    {
     "data": {
      "text/plain": [
       "Timestamp('2018-09-02 20:00:00')"
      ]
     },
     "execution_count": 88,
     "metadata": {},
     "output_type": "execute_result"
    }
   ],
   "source": [
    "sgh.data.IPspell.adm_datetime.max()"
   ]
  },
  {
   "cell_type": "code",
   "execution_count": 89,
   "metadata": {
    "collapsed": false
   },
   "outputs": [
    {
     "data": {
      "text/plain": [
       "Timestamp('2009-04-01 00:05:00')"
      ]
     },
     "execution_count": 89,
     "metadata": {},
     "output_type": "execute_result"
    }
   ],
   "source": [
    "sgh.data.IPspell.adm_datetime.min()"
   ]
  },
  {
   "cell_type": "markdown",
   "metadata": {},
   "source": [
    "dates really do start back then...look like it may be complete."
   ]
  },
  {
   "cell_type": "code",
   "execution_count": 90,
   "metadata": {
    "collapsed": false
   },
   "outputs": [
    {
     "data": {
      "text/plain": [
       "Index(['hosp_patid', 'adm_datetime', 'move_total', 'adm_loc', 'dis_loc',\n",
       "       'admission_method', 'admission_type', 'spel_los', 'gender', 'site',\n",
       "       'age_group', 'age', 'adm_year', 'adm_month', 'adm_dayofweek',\n",
       "       'adm_dayofweek_name', 'adm_flag_wkend', 'adm_hour', 'adm_day',\n",
       "       'adm_week', 'adm_date', 'adm_flag_wkend', 'dis_hour', 'dis_dayofweek',\n",
       "       'dis_month', 'dis_week', 'dis_dayofweek_name', 'dis_year',\n",
       "       'dis_datetime', 'dis_destination', 'dis_method', 'dis_day', 'dis_date',\n",
       "       'dis_flag_wkend'],\n",
       "      dtype='object')"
      ]
     },
     "execution_count": 90,
     "metadata": {},
     "output_type": "execute_result"
    }
   ],
   "source": [
    "sgh.data.IPspell.head().columns"
   ]
  },
  {
   "cell_type": "code",
   "execution_count": 91,
   "metadata": {
    "collapsed": false
   },
   "outputs": [
    {
     "data": {
      "text/html": [
       "<div>\n",
       "<style scoped>\n",
       "    .dataframe tbody tr th:only-of-type {\n",
       "        vertical-align: middle;\n",
       "    }\n",
       "\n",
       "    .dataframe tbody tr th {\n",
       "        vertical-align: top;\n",
       "    }\n",
       "\n",
       "    .dataframe thead th {\n",
       "        text-align: right;\n",
       "    }\n",
       "</style>\n",
       "<table border=\"1\" class=\"dataframe\">\n",
       "  <thead>\n",
       "    <tr style=\"text-align: right;\">\n",
       "      <th></th>\n",
       "      <th>dept_patid</th>\n",
       "      <th>hosp_patid</th>\n",
       "      <th>age</th>\n",
       "      <th>gender</th>\n",
       "      <th>site</th>\n",
       "      <th>arrive_datetime</th>\n",
       "      <th>arrive_mode</th>\n",
       "      <th>first_triage_datetime</th>\n",
       "      <th>first_dr_datetime</th>\n",
       "      <th>first_adm_request_datetime</th>\n",
       "      <th>...</th>\n",
       "      <th>waiting_time</th>\n",
       "      <th>arr_triage_wait</th>\n",
       "      <th>arr_dr_wait</th>\n",
       "      <th>arr_adm_req_wait</th>\n",
       "      <th>adm_req_dep_wait</th>\n",
       "      <th>dr_adm_req_wait</th>\n",
       "      <th>dr_dep_wait</th>\n",
       "      <th>breach_flag</th>\n",
       "      <th>breach_datetime</th>\n",
       "      <th>age_group</th>\n",
       "    </tr>\n",
       "  </thead>\n",
       "  <tbody>\n",
       "    <tr>\n",
       "      <th>0</th>\n",
       "      <td>90902325901</td>\n",
       "      <td>004101045105</td>\n",
       "      <td>94.0</td>\n",
       "      <td>F</td>\n",
       "      <td>Main ED</td>\n",
       "      <td>2009-04-13 09:16:00</td>\n",
       "      <td>NaN</td>\n",
       "      <td>NaT</td>\n",
       "      <td>2009-04-13 10:28:00</td>\n",
       "      <td>NaT</td>\n",
       "      <td>...</td>\n",
       "      <td>188.0</td>\n",
       "      <td>NaN</td>\n",
       "      <td>72.0</td>\n",
       "      <td>NaN</td>\n",
       "      <td>NaN</td>\n",
       "      <td>NaN</td>\n",
       "      <td>116.0</td>\n",
       "      <td>0</td>\n",
       "      <td>2009-04-13 13:16:00</td>\n",
       "      <td>65+</td>\n",
       "    </tr>\n",
       "    <tr>\n",
       "      <th>1</th>\n",
       "      <td>90902326101</td>\n",
       "      <td>644868441371</td>\n",
       "      <td>47.0</td>\n",
       "      <td>M</td>\n",
       "      <td>Main ED</td>\n",
       "      <td>2009-04-13 09:22:00</td>\n",
       "      <td>NaN</td>\n",
       "      <td>NaT</td>\n",
       "      <td>2009-04-13 09:30:00</td>\n",
       "      <td>NaT</td>\n",
       "      <td>...</td>\n",
       "      <td>213.0</td>\n",
       "      <td>NaN</td>\n",
       "      <td>8.0</td>\n",
       "      <td>NaN</td>\n",
       "      <td>NaN</td>\n",
       "      <td>NaN</td>\n",
       "      <td>205.0</td>\n",
       "      <td>0</td>\n",
       "      <td>2009-04-13 13:22:00</td>\n",
       "      <td>18-64</td>\n",
       "    </tr>\n",
       "    <tr>\n",
       "      <th>2</th>\n",
       "      <td>90902326501</td>\n",
       "      <td>668666687357</td>\n",
       "      <td>0.0</td>\n",
       "      <td>M</td>\n",
       "      <td>Main ED</td>\n",
       "      <td>2009-04-13 09:31:00</td>\n",
       "      <td>NaN</td>\n",
       "      <td>NaT</td>\n",
       "      <td>2009-04-13 10:00:00</td>\n",
       "      <td>NaT</td>\n",
       "      <td>...</td>\n",
       "      <td>143.0</td>\n",
       "      <td>NaN</td>\n",
       "      <td>29.0</td>\n",
       "      <td>NaN</td>\n",
       "      <td>NaN</td>\n",
       "      <td>NaN</td>\n",
       "      <td>114.0</td>\n",
       "      <td>0</td>\n",
       "      <td>2009-04-13 13:31:00</td>\n",
       "      <td>0-17</td>\n",
       "    </tr>\n",
       "    <tr>\n",
       "      <th>3</th>\n",
       "      <td>90902328601</td>\n",
       "      <td>446747461391</td>\n",
       "      <td>4.0</td>\n",
       "      <td>M</td>\n",
       "      <td>Main ED</td>\n",
       "      <td>2009-04-13 10:52:00</td>\n",
       "      <td>NaN</td>\n",
       "      <td>NaT</td>\n",
       "      <td>2009-04-13 11:30:00</td>\n",
       "      <td>NaT</td>\n",
       "      <td>...</td>\n",
       "      <td>177.0</td>\n",
       "      <td>NaN</td>\n",
       "      <td>38.0</td>\n",
       "      <td>NaN</td>\n",
       "      <td>NaN</td>\n",
       "      <td>NaN</td>\n",
       "      <td>139.0</td>\n",
       "      <td>0</td>\n",
       "      <td>2009-04-13 14:52:00</td>\n",
       "      <td>0-17</td>\n",
       "    </tr>\n",
       "    <tr>\n",
       "      <th>4</th>\n",
       "      <td>90902328801</td>\n",
       "      <td>423646238168</td>\n",
       "      <td>31.0</td>\n",
       "      <td>F</td>\n",
       "      <td>Main ED</td>\n",
       "      <td>2009-04-13 11:18:00</td>\n",
       "      <td>NaN</td>\n",
       "      <td>NaT</td>\n",
       "      <td>2009-04-13 12:00:00</td>\n",
       "      <td>NaT</td>\n",
       "      <td>...</td>\n",
       "      <td>211.0</td>\n",
       "      <td>NaN</td>\n",
       "      <td>42.0</td>\n",
       "      <td>NaN</td>\n",
       "      <td>NaN</td>\n",
       "      <td>NaN</td>\n",
       "      <td>169.0</td>\n",
       "      <td>0</td>\n",
       "      <td>2009-04-13 15:18:00</td>\n",
       "      <td>18-64</td>\n",
       "    </tr>\n",
       "  </tbody>\n",
       "</table>\n",
       "<p>5 rows × 42 columns</p>\n",
       "</div>"
      ],
      "text/plain": [
       "    dept_patid    hosp_patid   age gender     site     arrive_datetime  \\\n",
       "0  90902325901  004101045105  94.0      F  Main ED 2009-04-13 09:16:00   \n",
       "1  90902326101  644868441371  47.0      M  Main ED 2009-04-13 09:22:00   \n",
       "2  90902326501  668666687357   0.0      M  Main ED 2009-04-13 09:31:00   \n",
       "3  90902328601  446747461391   4.0      M  Main ED 2009-04-13 10:52:00   \n",
       "4  90902328801  423646238168  31.0      F  Main ED 2009-04-13 11:18:00   \n",
       "\n",
       "  arrive_mode first_triage_datetime   first_dr_datetime  \\\n",
       "0         NaN                   NaT 2009-04-13 10:28:00   \n",
       "1         NaN                   NaT 2009-04-13 09:30:00   \n",
       "2         NaN                   NaT 2009-04-13 10:00:00   \n",
       "3         NaN                   NaT 2009-04-13 11:30:00   \n",
       "4         NaN                   NaT 2009-04-13 12:00:00   \n",
       "\n",
       "  first_adm_request_datetime    ...    waiting_time  arr_triage_wait  \\\n",
       "0                        NaT    ...           188.0              NaN   \n",
       "1                        NaT    ...           213.0              NaN   \n",
       "2                        NaT    ...           143.0              NaN   \n",
       "3                        NaT    ...           177.0              NaN   \n",
       "4                        NaT    ...           211.0              NaN   \n",
       "\n",
       "  arr_dr_wait arr_adm_req_wait  adm_req_dep_wait  dr_adm_req_wait  \\\n",
       "0        72.0              NaN               NaN              NaN   \n",
       "1         8.0              NaN               NaN              NaN   \n",
       "2        29.0              NaN               NaN              NaN   \n",
       "3        38.0              NaN               NaN              NaN   \n",
       "4        42.0              NaN               NaN              NaN   \n",
       "\n",
       "   dr_dep_wait  breach_flag     breach_datetime age_group  \n",
       "0        116.0            0 2009-04-13 13:16:00       65+  \n",
       "1        205.0            0 2009-04-13 13:22:00     18-64  \n",
       "2        114.0            0 2009-04-13 13:31:00      0-17  \n",
       "3        139.0            0 2009-04-13 14:52:00      0-17  \n",
       "4        169.0            0 2009-04-13 15:18:00     18-64  \n",
       "\n",
       "[5 rows x 42 columns]"
      ]
     },
     "execution_count": 91,
     "metadata": {},
     "output_type": "execute_result"
    }
   ],
   "source": [
    "sgh.data.ED.head()"
   ]
  },
  {
   "cell_type": "code",
   "execution_count": 92,
   "metadata": {
    "collapsed": false
   },
   "outputs": [
    {
     "data": {
      "text/plain": [
       "Timestamp('2009-04-01 00:04:00')"
      ]
     },
     "execution_count": 92,
     "metadata": {},
     "output_type": "execute_result"
    }
   ],
   "source": [
    "sgh.data.ED.arrive_datetime.min()"
   ]
  },
  {
   "cell_type": "code",
   "execution_count": 93,
   "metadata": {
    "collapsed": false
   },
   "outputs": [
    {
     "data": {
      "text/plain": [
       "Timestamp('2018-09-30 23:58:00')"
      ]
     },
     "execution_count": 93,
     "metadata": {},
     "output_type": "execute_result"
    }
   ],
   "source": [
    "sgh.data.ED.arrive_datetime.max()"
   ]
  },
  {
   "cell_type": "code",
   "execution_count": 94,
   "metadata": {
    "collapsed": true
   },
   "outputs": [],
   "source": [
    "start = pd.datetime(2015,9,1)\n",
    "end = pd.datetime(2018,9,1)\n",
    "start = pd.datetime(2009,4,1)"
   ]
  },
  {
   "cell_type": "code",
   "execution_count": 95,
   "metadata": {
    "collapsed": false,
    "scrolled": true
   },
   "outputs": [
    {
     "name": "stdout",
     "output_type": "stream",
     "text": [
      "start date: 2009-04-01 00:00:00\n",
      "end date: 2018-09-01 00:00:00\n",
      "Index(['NonElective', 'Day_Case', 'Elective'], dtype='object')\n",
      "NonElective\n",
      "Day_Case\n",
      "Elective\n",
      "----------------------------------------\n",
      "Making callender columns from:  datetime\n",
      "----------------------------------------\n",
      "saved file: ./../../3_Data/processed/sgh/sghHOURLY.pkl\n"
     ]
    }
   ],
   "source": [
    "sgh.create_status_hourly(start,end)"
   ]
  },
  {
   "cell_type": "code",
   "execution_count": 96,
   "metadata": {
    "collapsed": true
   },
   "outputs": [],
   "source": [
    "%matplotlib inline"
   ]
  },
  {
   "cell_type": "code",
   "execution_count": 97,
   "metadata": {
    "collapsed": false
   },
   "outputs": [
    {
     "data": {
      "text/plain": [
       "<matplotlib.axes._subplots.AxesSubplot at 0x23a74c0dfd0>"
      ]
     },
     "execution_count": 97,
     "metadata": {},
     "output_type": "execute_result"
    },
    {
     "data": {
      "image/png": "[encoded data removed]",
      "text/plain": [
       "<matplotlib.figure.Figure at 0x23a74431080>"
      ]
     },
     "metadata": {},
     "output_type": "display_data"
    }
   ],
   "source": [
    "sgh.data.HOURLY['EDocc_nonadmit'].plot()"
   ]
  },
  {
   "cell_type": "code",
   "execution_count": null,
   "metadata": {
    "collapsed": true
   },
   "outputs": [],
   "source": []
  },
  {
   "cell_type": "code",
   "execution_count": 98,
   "metadata": {
    "collapsed": false
   },
   "outputs": [
    {
     "name": "stdout",
     "output_type": "stream",
     "text": [
      "----------------------------------------\n",
      "saved file: ./../../3_Data/processed/sgh/sghDAILY.pkl\n"
     ]
    }
   ],
   "source": [
    "sgh.create_status_daily()"
   ]
  },
  {
   "cell_type": "code",
   "execution_count": 99,
   "metadata": {
    "collapsed": false
   },
   "outputs": [
    {
     "data": {
      "text/html": [
       "<div>\n",
       "<style scoped>\n",
       "    .dataframe tbody tr th:only-of-type {\n",
       "        vertical-align: middle;\n",
       "    }\n",
       "\n",
       "    .dataframe tbody tr th {\n",
       "        vertical-align: top;\n",
       "    }\n",
       "\n",
       "    .dataframe thead th {\n",
       "        text-align: right;\n",
       "    }\n",
       "</style>\n",
       "<table border=\"1\" class=\"dataframe\">\n",
       "  <thead>\n",
       "    <tr style=\"text-align: right;\">\n",
       "      <th></th>\n",
       "      <th>EDocc_nonadmit</th>\n",
       "      <th>EDocc_admit</th>\n",
       "      <th>EDocc_total</th>\n",
       "      <th>EDocc_awaitingadm</th>\n",
       "      <th>EDocc_nonbreach</th>\n",
       "      <th>EDocc_breach</th>\n",
       "      <th>IPocc_NonElective</th>\n",
       "      <th>IPocc_Day_Case</th>\n",
       "      <th>IPocc_Elective</th>\n",
       "      <th>IPocc_total</th>\n",
       "      <th>...</th>\n",
       "      <th>datetime</th>\n",
       "      <th>dt_hour</th>\n",
       "      <th>dt_dayofweek</th>\n",
       "      <th>dt_day</th>\n",
       "      <th>dt_month</th>\n",
       "      <th>dt_week</th>\n",
       "      <th>dt_dayofweek_name</th>\n",
       "      <th>dt_year</th>\n",
       "      <th>dt_date</th>\n",
       "      <th>dt_flag_wkend</th>\n",
       "    </tr>\n",
       "  </thead>\n",
       "  <tbody>\n",
       "    <tr>\n",
       "      <th>2009-04-01 00:00:00</th>\n",
       "      <td>0.0</td>\n",
       "      <td>0.0</td>\n",
       "      <td>0.0</td>\n",
       "      <td>0.0</td>\n",
       "      <td>0.0</td>\n",
       "      <td>0.0</td>\n",
       "      <td>0.0</td>\n",
       "      <td>0.0</td>\n",
       "      <td>0.0</td>\n",
       "      <td>0.0</td>\n",
       "      <td>...</td>\n",
       "      <td>2009-04-01 00:00:00</td>\n",
       "      <td>0</td>\n",
       "      <td>2</td>\n",
       "      <td>1</td>\n",
       "      <td>4</td>\n",
       "      <td>14</td>\n",
       "      <td>Wednesday</td>\n",
       "      <td>2009</td>\n",
       "      <td>2009-04-01</td>\n",
       "      <td>0</td>\n",
       "    </tr>\n",
       "    <tr>\n",
       "      <th>2009-04-01 01:00:00</th>\n",
       "      <td>2.0</td>\n",
       "      <td>4.0</td>\n",
       "      <td>6.0</td>\n",
       "      <td>0.0</td>\n",
       "      <td>3.0</td>\n",
       "      <td>3.0</td>\n",
       "      <td>3.0</td>\n",
       "      <td>2.0</td>\n",
       "      <td>0.0</td>\n",
       "      <td>5.0</td>\n",
       "      <td>...</td>\n",
       "      <td>2009-04-01 01:00:00</td>\n",
       "      <td>1</td>\n",
       "      <td>2</td>\n",
       "      <td>1</td>\n",
       "      <td>4</td>\n",
       "      <td>14</td>\n",
       "      <td>Wednesday</td>\n",
       "      <td>2009</td>\n",
       "      <td>2009-04-01</td>\n",
       "      <td>0</td>\n",
       "    </tr>\n",
       "    <tr>\n",
       "      <th>2009-04-01 02:00:00</th>\n",
       "      <td>3.0</td>\n",
       "      <td>8.0</td>\n",
       "      <td>11.0</td>\n",
       "      <td>0.0</td>\n",
       "      <td>5.0</td>\n",
       "      <td>6.0</td>\n",
       "      <td>5.0</td>\n",
       "      <td>3.0</td>\n",
       "      <td>0.0</td>\n",
       "      <td>8.0</td>\n",
       "      <td>...</td>\n",
       "      <td>2009-04-01 02:00:00</td>\n",
       "      <td>2</td>\n",
       "      <td>2</td>\n",
       "      <td>1</td>\n",
       "      <td>4</td>\n",
       "      <td>14</td>\n",
       "      <td>Wednesday</td>\n",
       "      <td>2009</td>\n",
       "      <td>2009-04-01</td>\n",
       "      <td>0</td>\n",
       "    </tr>\n",
       "    <tr>\n",
       "      <th>2009-04-01 03:00:00</th>\n",
       "      <td>7.0</td>\n",
       "      <td>9.0</td>\n",
       "      <td>16.0</td>\n",
       "      <td>0.0</td>\n",
       "      <td>9.0</td>\n",
       "      <td>7.0</td>\n",
       "      <td>7.0</td>\n",
       "      <td>7.0</td>\n",
       "      <td>0.0</td>\n",
       "      <td>14.0</td>\n",
       "      <td>...</td>\n",
       "      <td>2009-04-01 03:00:00</td>\n",
       "      <td>3</td>\n",
       "      <td>2</td>\n",
       "      <td>1</td>\n",
       "      <td>4</td>\n",
       "      <td>14</td>\n",
       "      <td>Wednesday</td>\n",
       "      <td>2009</td>\n",
       "      <td>2009-04-01</td>\n",
       "      <td>0</td>\n",
       "    </tr>\n",
       "    <tr>\n",
       "      <th>2009-04-01 04:00:00</th>\n",
       "      <td>7.0</td>\n",
       "      <td>10.0</td>\n",
       "      <td>17.0</td>\n",
       "      <td>0.0</td>\n",
       "      <td>10.0</td>\n",
       "      <td>7.0</td>\n",
       "      <td>10.0</td>\n",
       "      <td>6.0</td>\n",
       "      <td>0.0</td>\n",
       "      <td>16.0</td>\n",
       "      <td>...</td>\n",
       "      <td>2009-04-01 04:00:00</td>\n",
       "      <td>4</td>\n",
       "      <td>2</td>\n",
       "      <td>1</td>\n",
       "      <td>4</td>\n",
       "      <td>14</td>\n",
       "      <td>Wednesday</td>\n",
       "      <td>2009</td>\n",
       "      <td>2009-04-01</td>\n",
       "      <td>0</td>\n",
       "    </tr>\n",
       "  </tbody>\n",
       "</table>\n",
       "<p>5 rows × 37 columns</p>\n",
       "</div>"
      ],
      "text/plain": [
       "                     EDocc_nonadmit  EDocc_admit  EDocc_total  \\\n",
       "2009-04-01 00:00:00             0.0          0.0          0.0   \n",
       "2009-04-01 01:00:00             2.0          4.0          6.0   \n",
       "2009-04-01 02:00:00             3.0          8.0         11.0   \n",
       "2009-04-01 03:00:00             7.0          9.0         16.0   \n",
       "2009-04-01 04:00:00             7.0         10.0         17.0   \n",
       "\n",
       "                     EDocc_awaitingadm  EDocc_nonbreach  EDocc_breach  \\\n",
       "2009-04-01 00:00:00                0.0              0.0           0.0   \n",
       "2009-04-01 01:00:00                0.0              3.0           3.0   \n",
       "2009-04-01 02:00:00                0.0              5.0           6.0   \n",
       "2009-04-01 03:00:00                0.0              9.0           7.0   \n",
       "2009-04-01 04:00:00                0.0             10.0           7.0   \n",
       "\n",
       "                     IPocc_NonElective  IPocc_Day_Case  IPocc_Elective  \\\n",
       "2009-04-01 00:00:00                0.0             0.0             0.0   \n",
       "2009-04-01 01:00:00                3.0             2.0             0.0   \n",
       "2009-04-01 02:00:00                5.0             3.0             0.0   \n",
       "2009-04-01 03:00:00                7.0             7.0             0.0   \n",
       "2009-04-01 04:00:00               10.0             6.0             0.0   \n",
       "\n",
       "                     IPocc_total      ...                  datetime  dt_hour  \\\n",
       "2009-04-01 00:00:00          0.0      ...       2009-04-01 00:00:00        0   \n",
       "2009-04-01 01:00:00          5.0      ...       2009-04-01 01:00:00        1   \n",
       "2009-04-01 02:00:00          8.0      ...       2009-04-01 02:00:00        2   \n",
       "2009-04-01 03:00:00         14.0      ...       2009-04-01 03:00:00        3   \n",
       "2009-04-01 04:00:00         16.0      ...       2009-04-01 04:00:00        4   \n",
       "\n",
       "                     dt_dayofweek  dt_day  dt_month  dt_week  \\\n",
       "2009-04-01 00:00:00             2       1         4       14   \n",
       "2009-04-01 01:00:00             2       1         4       14   \n",
       "2009-04-01 02:00:00             2       1         4       14   \n",
       "2009-04-01 03:00:00             2       1         4       14   \n",
       "2009-04-01 04:00:00             2       1         4       14   \n",
       "\n",
       "                     dt_dayofweek_name  dt_year     dt_date  dt_flag_wkend  \n",
       "2009-04-01 00:00:00          Wednesday     2009  2009-04-01              0  \n",
       "2009-04-01 01:00:00          Wednesday     2009  2009-04-01              0  \n",
       "2009-04-01 02:00:00          Wednesday     2009  2009-04-01              0  \n",
       "2009-04-01 03:00:00          Wednesday     2009  2009-04-01              0  \n",
       "2009-04-01 04:00:00          Wednesday     2009  2009-04-01              0  \n",
       "\n",
       "[5 rows x 37 columns]"
      ]
     },
     "execution_count": 99,
     "metadata": {},
     "output_type": "execute_result"
    }
   ],
   "source": [
    "sgh.data.HOURLY.head()"
   ]
  },
  {
   "cell_type": "code",
   "execution_count": 100,
   "metadata": {
    "collapsed": false
   },
   "outputs": [
    {
     "data": {
      "text/plain": [
       "Index(['EDocc_nonadmit', 'EDocc_admit', 'EDocc_total', 'EDocc_awaitingadm',\n",
       "       'EDocc_nonbreach', 'EDocc_breach', 'IPocc_NonElective',\n",
       "       'IPocc_Day_Case', 'IPocc_Elective', 'IPocc_total', 'IPocc_elec_nonelec',\n",
       "       'IPadm', 'IPadm_nonelec', 'IPadm_daycase', 'IPadm_elective', 'IPdis',\n",
       "       'IPdis_nonelec', 'IPdis_daycase', 'IPdis_elective',\n",
       "       'IPadm_elec_nonelec', 'IPdis_elec_nonelec', 'EDarrive',\n",
       "       'EDarrive_breach', 'EDarrive_adm', 'EDdepart', 'EDdepart_breach',\n",
       "       'EDdepart_adm', 'datetime', 'dt_hour', 'dt_dayofweek', 'dt_day',\n",
       "       'dt_month', 'dt_week', 'dt_dayofweek_name', 'dt_year', 'dt_date',\n",
       "       'dt_flag_wkend'],\n",
       "      dtype='object')"
      ]
     },
     "execution_count": 100,
     "metadata": {},
     "output_type": "execute_result"
    }
   ],
   "source": [
    "sgh.data.HOURLY.columns"
   ]
  },
  {
   "cell_type": "code",
   "execution_count": 101,
   "metadata": {
    "collapsed": false
   },
   "outputs": [
    {
     "data": {
      "text/plain": [
       "Index(['dt_year', 'dt_month', 'dt_day', 'ED_attendances', 'ED_breaches',\n",
       "       'ED_admissions', 'EDarrive', 'IPadm_elec_nonelec', 'IPdis_elec_nonelec',\n",
       "       'IPocc_total_MEAN', 'IPocc_total_MAX', 'IPocc_elec_nonelec_MEAN',\n",
       "       'IPocc_elec_nonelec_MAX', 'IPocc_elec_nonelec_LAST',\n",
       "       'IPocc_NonElective_LAST', 'EDocc_total_MAX', 'EDocc_total_MEAN',\n",
       "       'EDocc_total_LAST', 'EDocc_awaitingadm', 'EDocc_awaitingadm_LAST',\n",
       "       'IPadm_minus_dis_elec_nonelec', 'IPdis_pre12_elec_nonelec'],\n",
       "      dtype='object')"
      ]
     },
     "execution_count": 101,
     "metadata": {},
     "output_type": "execute_result"
    }
   ],
   "source": [
    "sgh.data.DAILY.columns"
   ]
  },
  {
   "cell_type": "markdown",
   "metadata": {},
   "source": [
    "# Dev"
   ]
  },
  {
   "cell_type": "code",
   "execution_count": 102,
   "metadata": {
    "collapsed": false
   },
   "outputs": [
    {
     "ename": "SyntaxError",
     "evalue": "'break' outside loop (<ipython-input-102-6aaf1f276005>, line 1)",
     "output_type": "error",
     "traceback": [
      "\u001b[1;36m  File \u001b[1;32m\"<ipython-input-102-6aaf1f276005>\"\u001b[1;36m, line \u001b[1;32m1\u001b[0m\n\u001b[1;33m    break\u001b[0m\n\u001b[1;37m         ^\u001b[0m\n\u001b[1;31mSyntaxError\u001b[0m\u001b[1;31m:\u001b[0m 'break' outside loop\n"
     ]
    }
   ],
   "source": [
    "break"
   ]
  },
  {
   "cell_type": "code",
   "execution_count": null,
   "metadata": {
    "collapsed": true
   },
   "outputs": [],
   "source": [
    "for i in df.head():\n",
    "    print(df['move_end_datetime'].ix[i] - df['move_start_datetime'][i])"
   ]
  },
  {
   "cell_type": "code",
   "execution_count": null,
   "metadata": {
    "collapsed": true
   },
   "outputs": [],
   "source": []
  },
  {
   "cell_type": "code",
   "execution_count": null,
   "metadata": {
    "collapsed": true
   },
   "outputs": [],
   "source": [
    "pd.timedelta(days=1)"
   ]
  },
  {
   "cell_type": "code",
   "execution_count": null,
   "metadata": {
    "collapsed": true
   },
   "outputs": [],
   "source": [
    "round((df['move_end_datetime'] - df['move_start_datetime'])/pd.Timedelta(days=1)).head(20)"
   ]
  },
  {
   "cell_type": "code",
   "execution_count": null,
   "metadata": {
    "collapsed": true
   },
   "outputs": [],
   "source": [
    "df['move_los'].head(20)"
   ]
  },
  {
   "cell_type": "code",
   "execution_count": null,
   "metadata": {
    "collapsed": true
   },
   "outputs": [],
   "source": [
    "inpat = pd.read_csv('./../../3_Data/HH_IP_FLOW_Study.csv',low_memory=False)"
   ]
  },
  {
   "cell_type": "code",
   "execution_count": null,
   "metadata": {
    "collapsed": true
   },
   "outputs": [],
   "source": [
    "inpat.head(3)"
   ]
  },
  {
   "cell_type": "code",
   "execution_count": null,
   "metadata": {
    "collapsed": true
   },
   "outputs": [],
   "source": [
    "cols = []\n",
    "for i in inpat.columns:\n",
    "    if 'WARD' not in i:\n",
    "        cols.append(i)\n",
    "        print(i)"
   ]
  },
  {
   "cell_type": "code",
   "execution_count": null,
   "metadata": {
    "collapsed": true
   },
   "outputs": [],
   "source": [
    "cols"
   ]
  },
  {
   "cell_type": "code",
   "execution_count": null,
   "metadata": {
    "collapsed": true
   },
   "outputs": [],
   "source": [
    "inpat[cols].head(2)"
   ]
  },
  {
   "cell_type": "code",
   "execution_count": null,
   "metadata": {
    "collapsed": true
   },
   "outputs": [],
   "source": [
    "cols2 = ['ADMISSION_METHOD_DESCRIPTION','ADMISSION_TYPE','DISCHARGE_DESTINATION_DESCRIPTION','DISCHARGE_METHOD_DESTINATION']"
   ]
  },
  {
   "cell_type": "markdown",
   "metadata": {},
   "source": [
    "for i in cols2:\n",
    "    print(inpat[i].value_counts())"
   ]
  },
  {
   "cell_type": "markdown",
   "metadata": {},
   "source": [
    "inpat[cols2]"
   ]
  },
  {
   "cell_type": "code",
   "execution_count": null,
   "metadata": {
    "collapsed": true
   },
   "outputs": [],
   "source": [
    "inpat[cols].describe()"
   ]
  },
  {
   "cell_type": "code",
   "execution_count": null,
   "metadata": {
    "collapsed": true
   },
   "outputs": [],
   "source": [
    "inpat['DISCHARGE_METHOD_DESTINATION'].value_counts()"
   ]
  },
  {
   "cell_type": "code",
   "execution_count": null,
   "metadata": {
    "collapsed": true
   },
   "outputs": [],
   "source": [
    "col_map = {\n",
    "    'PSEUDONYMISED_PATIENT_ID':'hosp_patid',\n",
    " 'AGE_AT_ADMISSION':'age',\n",
    " 'GENDER_NATIONAL_CODE_1':'gender',\n",
    " 'SITE':'site',\n",
    " 'ADMISSION_DTTM':'adm_datetime',\n",
    " 'DISCHARGE_DTTM':'dis_datetime',\n",
    " 'ADMISSION_METHOD_DESCRIPTION':'admission_method',\n",
    " 'ADMISSION_TYPE':'admission_type',\n",
    " 'EPISODE_NO':'epis_no',\n",
    " 'EPISODE_START_DTTM':'epis_start_datetime',\n",
    " 'EPISODE_END_DTTM':'epis_end_datetime',\n",
    " 'SPECIALTY_DESCRIPTION':'epis_specialty',\n",
    " 'EPISODE_LOS':'epis_los',\n",
    " 'SPELL_LOS':'spel_los',\n",
    " 'DISCHARGE_DESTINATION_NC':'dis_destination',\n",
    " 'DISCHARGE_METHOD_DESTINATION':'dis_method'\n",
    "}"
   ]
  },
  {
   "cell_type": "code",
   "execution_count": null,
   "metadata": {
    "collapsed": true
   },
   "outputs": [],
   "source": []
  },
  {
   "cell_type": "code",
   "execution_count": null,
   "metadata": {
    "collapsed": true
   },
   "outputs": [],
   "source": []
  },
  {
   "cell_type": "code",
   "execution_count": null,
   "metadata": {
    "collapsed": true
   },
   "outputs": [],
   "source": []
  },
  {
   "cell_type": "code",
   "execution_count": null,
   "metadata": {
    "collapsed": true
   },
   "outputs": [],
   "source": [
    "inpat = bl.dftools.pd_tidy_column_heads(inpat)"
   ]
  },
  {
   "cell_type": "code",
   "execution_count": null,
   "metadata": {
    "collapsed": true
   },
   "outputs": [],
   "source": [
    "inpat.head(2)"
   ]
  },
  {
   "cell_type": "code",
   "execution_count": null,
   "metadata": {
    "collapsed": true
   },
   "outputs": [],
   "source": []
  },
  {
   "cell_type": "markdown",
   "metadata": {},
   "source": [
    "reduce for testing"
   ]
  },
  {
   "cell_type": "code",
   "execution_count": null,
   "metadata": {
    "collapsed": true
   },
   "outputs": [],
   "source": [
    "inpat = inpat[0:5000]"
   ]
  },
  {
   "cell_type": "code",
   "execution_count": null,
   "metadata": {
    "collapsed": true
   },
   "outputs": [],
   "source": []
  },
  {
   "cell_type": "markdown",
   "metadata": {},
   "source": [
    "# Cleaning"
   ]
  },
  {
   "cell_type": "code",
   "execution_count": null,
   "metadata": {
    "collapsed": true
   },
   "outputs": [],
   "source": [
    "inpat.columns"
   ]
  },
  {
   "cell_type": "markdown",
   "metadata": {},
   "source": [
    "make datetime col format"
   ]
  },
  {
   "cell_type": "code",
   "execution_count": null,
   "metadata": {
    "collapsed": true
   },
   "outputs": [],
   "source": [
    "datetime_cols = []\n",
    "for i in inpat.columns:\n",
    "    if ('dttm' in i): # or ('_end' in i):\n",
    "        datetime_cols.append(i)"
   ]
  },
  {
   "cell_type": "code",
   "execution_count": null,
   "metadata": {
    "collapsed": true
   },
   "outputs": [],
   "source": [
    "datetime_cols"
   ]
  },
  {
   "cell_type": "code",
   "execution_count": null,
   "metadata": {
    "collapsed": true
   },
   "outputs": [],
   "source": [
    "for i in datetime_cols:\n",
    "    inpat[i] = pd.to_datetime(inpat[i], format= '%d/%m/%Y %H:%M')"
   ]
  },
  {
   "cell_type": "markdown",
   "metadata": {},
   "source": [
    "datetimes"
   ]
  },
  {
   "cell_type": "code",
   "execution_count": null,
   "metadata": {
    "collapsed": true
   },
   "outputs": [],
   "source": [
    "inpat[i].dtype"
   ]
  },
  {
   "cell_type": "markdown",
   "metadata": {},
   "source": [
    "make arrival year etc?"
   ]
  },
  {
   "cell_type": "code",
   "execution_count": null,
   "metadata": {
    "collapsed": true
   },
   "outputs": [],
   "source": []
  },
  {
   "cell_type": "markdown",
   "metadata": {},
   "source": [
    "# basics dataset"
   ]
  },
  {
   "cell_type": "code",
   "execution_count": null,
   "metadata": {
    "collapsed": true
   },
   "outputs": [],
   "source": [
    "inpat.admission_dttm.min()"
   ]
  },
  {
   "cell_type": "code",
   "execution_count": null,
   "metadata": {
    "collapsed": true
   },
   "outputs": [],
   "source": [
    "inpat.discharge_dttm.min()"
   ]
  },
  {
   "cell_type": "code",
   "execution_count": null,
   "metadata": {
    "collapsed": true
   },
   "outputs": [],
   "source": []
  },
  {
   "cell_type": "markdown",
   "metadata": {},
   "source": [
    "# volumes/activity"
   ]
  },
  {
   "cell_type": "markdown",
   "metadata": {},
   "source": [
    "- groupby year/admission method\n",
    "- groupby year/age groups"
   ]
  },
  {
   "cell_type": "code",
   "execution_count": null,
   "metadata": {
    "collapsed": true
   },
   "outputs": [],
   "source": []
  },
  {
   "cell_type": "markdown",
   "metadata": {},
   "source": [
    "- no of beds\n",
    "- no of wards\n",
    "- changges over time\n",
    "- occupancy?\n",
    "- "
   ]
  },
  {
   "cell_type": "code",
   "execution_count": null,
   "metadata": {
    "collapsed": true
   },
   "outputs": [],
   "source": []
  },
  {
   "cell_type": "markdown",
   "metadata": {},
   "source": [
    "# patient flow through wards"
   ]
  },
  {
   "cell_type": "markdown",
   "metadata": {},
   "source": [
    "- isolate ward movements into 1 df\n",
    "- look at individual years?\n",
    "- proprtion of entry to wards\n",
    "- proportion of exit wards\n",
    "- number of ward moves"
   ]
  },
  {
   "cell_type": "code",
   "execution_count": null,
   "metadata": {
    "collapsed": true
   },
   "outputs": [],
   "source": []
  },
  {
   "cell_type": "code",
   "execution_count": null,
   "metadata": {
    "collapsed": true
   },
   "outputs": [],
   "source": []
  },
  {
   "cell_type": "markdown",
   "metadata": {},
   "source": [
    "# outliers"
   ]
  },
  {
   "cell_type": "markdown",
   "metadata": {},
   "source": [
    "- average no.s of ward moves\n",
    "- "
   ]
  },
  {
   "cell_type": "code",
   "execution_count": null,
   "metadata": {
    "collapsed": true
   },
   "outputs": [],
   "source": []
  },
  {
   "cell_type": "code",
   "execution_count": null,
   "metadata": {
    "collapsed": true
   },
   "outputs": [],
   "source": []
  },
  {
   "cell_type": "markdown",
   "metadata": {},
   "source": [
    "# link between wards and ED data?"
   ]
  },
  {
   "cell_type": "markdown",
   "metadata": {},
   "source": [
    "- look through analysis from pmth data and copy?"
   ]
  },
  {
   "cell_type": "code",
   "execution_count": null,
   "metadata": {
    "collapsed": true
   },
   "outputs": [],
   "source": []
  },
  {
   "cell_type": "markdown",
   "metadata": {},
   "source": [
    "# patient group clustering"
   ]
  },
  {
   "cell_type": "code",
   "execution_count": null,
   "metadata": {
    "collapsed": true
   },
   "outputs": [],
   "source": []
  },
  {
   "cell_type": "code",
   "execution_count": null,
   "metadata": {
    "collapsed": true
   },
   "outputs": [],
   "source": []
  },
  {
   "cell_type": "code",
   "execution_count": null,
   "metadata": {
    "collapsed": true
   },
   "outputs": [],
   "source": []
  },
  {
   "cell_type": "markdown",
   "metadata": {},
   "source": [
    "# Dev"
   ]
  },
  {
   "cell_type": "code",
   "execution_count": null,
   "metadata": {
    "collapsed": true
   },
   "outputs": [],
   "source": [
    "break"
   ]
  },
  {
   "cell_type": "code",
   "execution_count": null,
   "metadata": {
    "collapsed": true
   },
   "outputs": [],
   "source": []
  }
 ],
 "metadata": {
  "kernelspec": {
   "display_name": "Python [default]",
   "language": "python",
   "name": "python3"
  },
  "language_info": {
   "codemirror_mode": {
    "name": "ipython",
    "version": 3
   },
   "file_extension": ".py",
   "mimetype": "text/x-python",
   "name": "python",
   "nbconvert_exporter": "python",
   "pygments_lexer": "ipython3",
   "version": "3.5.5"
  }
 },
 "nbformat": 4,
 "nbformat_minor": 2
}
