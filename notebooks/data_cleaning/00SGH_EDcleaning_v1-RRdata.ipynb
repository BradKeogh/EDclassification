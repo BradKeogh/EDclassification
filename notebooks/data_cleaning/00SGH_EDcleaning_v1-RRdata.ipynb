{
 "cells": [
  {
   "cell_type": "markdown",
   "metadata": {},
   "source": [
    "refactoring of the initial cleaning i had done but without importing data into flosp"
   ]
  },
  {
   "cell_type": "code",
   "execution_count": 1,
   "metadata": {},
   "outputs": [],
   "source": [
    "import pandas as pd\n",
    "import numpy as np\n",
    "import seaborn as sns\n",
    "import flosp\n",
    "#import bradlib as bl\n",
    "#sns.set()"
   ]
  },
  {
   "cell_type": "code",
   "execution_count": 2,
   "metadata": {},
   "outputs": [],
   "source": [
    "df  = pd.read_csv('./../../../../3_Data/EDclassification/WAC_UHS_EDexport_0918_rr.txt',low_memory=False)"
   ]
  },
  {
   "cell_type": "markdown",
   "metadata": {},
   "source": [
    "ed = flosp.ioED('sgh','./../../3_Data/')"
   ]
  },
  {
   "cell_type": "markdown",
   "metadata": {},
   "source": [
    "ed.load_csv('./../../3_Data/WAC_UHS_EDexport_0918_rr.txt')"
   ]
  },
  {
   "cell_type": "markdown",
   "metadata": {},
   "source": [
    "map clean cols"
   ]
  },
  {
   "cell_type": "code",
   "execution_count": 3,
   "metadata": {},
   "outputs": [
    {
     "data": {
      "text/plain": [
       "Index(['Pseudo Patient Number', 'ATTENDANCE_NUMBER', 'Age', 'Gender',\n",
       "       'Department', 'Site attended', 'Arrival', 'Arrival mode',\n",
       "       'Arrival mode desc', '1st time triaged [datetime]',\n",
       "       '1st time seen by doctor', 'Time of inpatient bed request',\n",
       "       'Time of speciality referral', 'Speciality referred to',\n",
       "       'Time into CDU', 'Time leaving dept (inc CDU)', 'Admission flag',\n",
       "       'Majors/Minors/Resus patient', 'Triage category'],\n",
       "      dtype='object')"
      ]
     },
     "execution_count": 3,
     "metadata": {},
     "output_type": "execute_result"
    }
   ],
   "source": [
    "df.columns"
   ]
  },
  {
   "cell_type": "code",
   "execution_count": 4,
   "metadata": {},
   "outputs": [
    {
     "data": {
      "text/html": [
       "<div>\n",
       "<style scoped>\n",
       "    .dataframe tbody tr th:only-of-type {\n",
       "        vertical-align: middle;\n",
       "    }\n",
       "\n",
       "    .dataframe tbody tr th {\n",
       "        vertical-align: top;\n",
       "    }\n",
       "\n",
       "    .dataframe thead th {\n",
       "        text-align: right;\n",
       "    }\n",
       "</style>\n",
       "<table border=\"1\" class=\"dataframe\">\n",
       "  <thead>\n",
       "    <tr style=\"text-align: right;\">\n",
       "      <th></th>\n",
       "      <th>Pseudo Patient Number</th>\n",
       "      <th>ATTENDANCE_NUMBER</th>\n",
       "      <th>Age</th>\n",
       "      <th>Gender</th>\n",
       "      <th>Department</th>\n",
       "      <th>Site attended</th>\n",
       "      <th>Arrival</th>\n",
       "      <th>Arrival mode</th>\n",
       "      <th>Arrival mode desc</th>\n",
       "      <th>1st time triaged [datetime]</th>\n",
       "      <th>1st time seen by doctor</th>\n",
       "      <th>Time of inpatient bed request</th>\n",
       "      <th>Time of speciality referral</th>\n",
       "      <th>Speciality referred to</th>\n",
       "      <th>Time into CDU</th>\n",
       "      <th>Time leaving dept (inc CDU)</th>\n",
       "      <th>Admission flag</th>\n",
       "      <th>Majors/Minors/Resus patient</th>\n",
       "      <th>Triage category</th>\n",
       "    </tr>\n",
       "  </thead>\n",
       "  <tbody>\n",
       "    <tr>\n",
       "      <th>0</th>\n",
       "      <td>004101045105</td>\n",
       "      <td>90902325901</td>\n",
       "      <td>94.0</td>\n",
       "      <td>F</td>\n",
       "      <td>Main ED</td>\n",
       "      <td>Main ED</td>\n",
       "      <td>13-APR-09 09:16</td>\n",
       "      <td>NaN</td>\n",
       "      <td>BROUGHT IN BY AMBULANCE</td>\n",
       "      <td>NaN</td>\n",
       "      <td>13-APR-09 10:28</td>\n",
       "      <td>NaN</td>\n",
       "      <td>NaN</td>\n",
       "      <td>NaN</td>\n",
       "      <td>NaN</td>\n",
       "      <td>13-APR-09 12:24</td>\n",
       "      <td>N</td>\n",
       "      <td>Majors</td>\n",
       "      <td>VERY URGENT</td>\n",
       "    </tr>\n",
       "    <tr>\n",
       "      <th>1</th>\n",
       "      <td>644868441371</td>\n",
       "      <td>90902326101</td>\n",
       "      <td>47.0</td>\n",
       "      <td>M</td>\n",
       "      <td>Main ED</td>\n",
       "      <td>Main ED</td>\n",
       "      <td>13-APR-09 09:22</td>\n",
       "      <td>NaN</td>\n",
       "      <td>BROUGHT IN BY AMBULANCE</td>\n",
       "      <td>NaN</td>\n",
       "      <td>13-APR-09 09:30</td>\n",
       "      <td>NaN</td>\n",
       "      <td>NaN</td>\n",
       "      <td>NaN</td>\n",
       "      <td>NaN</td>\n",
       "      <td>13-APR-09 12:55</td>\n",
       "      <td>Y</td>\n",
       "      <td>Majors</td>\n",
       "      <td>VERY URGENT</td>\n",
       "    </tr>\n",
       "  </tbody>\n",
       "</table>\n",
       "</div>"
      ],
      "text/plain": [
       "  Pseudo Patient Number  ATTENDANCE_NUMBER   Age Gender Department  \\\n",
       "0          004101045105        90902325901  94.0      F    Main ED   \n",
       "1          644868441371        90902326101  47.0      M    Main ED   \n",
       "\n",
       "  Site attended          Arrival Arrival mode        Arrival mode desc  \\\n",
       "0       Main ED  13-APR-09 09:16          NaN  BROUGHT IN BY AMBULANCE   \n",
       "1       Main ED  13-APR-09 09:22          NaN  BROUGHT IN BY AMBULANCE   \n",
       "\n",
       "  1st time triaged [datetime] 1st time seen by doctor  \\\n",
       "0                         NaN         13-APR-09 10:28   \n",
       "1                         NaN         13-APR-09 09:30   \n",
       "\n",
       "  Time of inpatient bed request Time of speciality referral  \\\n",
       "0                           NaN                         NaN   \n",
       "1                           NaN                         NaN   \n",
       "\n",
       "  Speciality referred to Time into CDU Time leaving dept (inc CDU)  \\\n",
       "0                    NaN           NaN             13-APR-09 12:24   \n",
       "1                    NaN           NaN             13-APR-09 12:55   \n",
       "\n",
       "  Admission flag Majors/Minors/Resus patient Triage category  \n",
       "0              N                      Majors     VERY URGENT  \n",
       "1              Y                      Majors     VERY URGENT  "
      ]
     },
     "execution_count": 4,
     "metadata": {},
     "output_type": "execute_result"
    }
   ],
   "source": [
    "df.head(2)"
   ]
  },
  {
   "cell_type": "code",
   "execution_count": 5,
   "metadata": {},
   "outputs": [
    {
     "data": {
      "text/html": [
       "<div>\n",
       "<style scoped>\n",
       "    .dataframe tbody tr th:only-of-type {\n",
       "        vertical-align: middle;\n",
       "    }\n",
       "\n",
       "    .dataframe tbody tr th {\n",
       "        vertical-align: top;\n",
       "    }\n",
       "\n",
       "    .dataframe thead th {\n",
       "        text-align: right;\n",
       "    }\n",
       "</style>\n",
       "<table border=\"1\" class=\"dataframe\">\n",
       "  <thead>\n",
       "    <tr style=\"text-align: right;\">\n",
       "      <th></th>\n",
       "      <th>Pseudo Patient Number</th>\n",
       "      <th>ATTENDANCE_NUMBER</th>\n",
       "      <th>Age</th>\n",
       "      <th>Gender</th>\n",
       "      <th>Department</th>\n",
       "      <th>Site attended</th>\n",
       "      <th>Arrival</th>\n",
       "      <th>Arrival mode</th>\n",
       "      <th>Arrival mode desc</th>\n",
       "      <th>1st time triaged [datetime]</th>\n",
       "      <th>1st time seen by doctor</th>\n",
       "      <th>Time of inpatient bed request</th>\n",
       "      <th>Time of speciality referral</th>\n",
       "      <th>Speciality referred to</th>\n",
       "      <th>Time into CDU</th>\n",
       "      <th>Time leaving dept (inc CDU)</th>\n",
       "      <th>Admission flag</th>\n",
       "      <th>Majors/Minors/Resus patient</th>\n",
       "      <th>Triage category</th>\n",
       "    </tr>\n",
       "  </thead>\n",
       "  <tbody>\n",
       "    <tr>\n",
       "      <th>1124685</th>\n",
       "      <td>206828068058</td>\n",
       "      <td>91734736</td>\n",
       "      <td>44.0</td>\n",
       "      <td>F</td>\n",
       "      <td>Eye Casualty</td>\n",
       "      <td>Eye Casualty</td>\n",
       "      <td>09-MAY-18 08:24</td>\n",
       "      <td>NaN</td>\n",
       "      <td>OTHER</td>\n",
       "      <td>NaN</td>\n",
       "      <td>NaN</td>\n",
       "      <td>NaN</td>\n",
       "      <td>NaN</td>\n",
       "      <td>NaN</td>\n",
       "      <td>NaN</td>\n",
       "      <td>09-MAY-18 10:18</td>\n",
       "      <td>N</td>\n",
       "      <td>NaN</td>\n",
       "      <td>UNKNOWN</td>\n",
       "    </tr>\n",
       "    <tr>\n",
       "      <th>1124686</th>\n",
       "      <td>854787547747</td>\n",
       "      <td>91804267301</td>\n",
       "      <td>37.0</td>\n",
       "      <td>M</td>\n",
       "      <td>Main ED</td>\n",
       "      <td>Main ED</td>\n",
       "      <td>27-MAY-18 00:13</td>\n",
       "      <td>Emergency Road Ambulance</td>\n",
       "      <td>BROUGHT IN BY AMBULANCE</td>\n",
       "      <td>NaN</td>\n",
       "      <td>NaN</td>\n",
       "      <td>27-MAY-18 04:38</td>\n",
       "      <td>NaN</td>\n",
       "      <td>NaN</td>\n",
       "      <td>27-MAY-18 04:43</td>\n",
       "      <td>27-MAY-18 10:04</td>\n",
       "      <td>N</td>\n",
       "      <td>NaN</td>\n",
       "      <td>STANDARD</td>\n",
       "    </tr>\n",
       "  </tbody>\n",
       "</table>\n",
       "</div>"
      ],
      "text/plain": [
       "        Pseudo Patient Number  ATTENDANCE_NUMBER   Age Gender    Department  \\\n",
       "1124685          206828068058           91734736  44.0      F  Eye Casualty   \n",
       "1124686          854787547747        91804267301  37.0      M       Main ED   \n",
       "\n",
       "        Site attended          Arrival              Arrival mode  \\\n",
       "1124685  Eye Casualty  09-MAY-18 08:24                       NaN   \n",
       "1124686       Main ED  27-MAY-18 00:13  Emergency Road Ambulance   \n",
       "\n",
       "               Arrival mode desc 1st time triaged [datetime]  \\\n",
       "1124685                    OTHER                         NaN   \n",
       "1124686  BROUGHT IN BY AMBULANCE                         NaN   \n",
       "\n",
       "        1st time seen by doctor Time of inpatient bed request  \\\n",
       "1124685                     NaN                           NaN   \n",
       "1124686                     NaN               27-MAY-18 04:38   \n",
       "\n",
       "        Time of speciality referral Speciality referred to    Time into CDU  \\\n",
       "1124685                         NaN                    NaN              NaN   \n",
       "1124686                         NaN                    NaN  27-MAY-18 04:43   \n",
       "\n",
       "        Time leaving dept (inc CDU) Admission flag  \\\n",
       "1124685             09-MAY-18 10:18              N   \n",
       "1124686             27-MAY-18 10:04              N   \n",
       "\n",
       "        Majors/Minors/Resus patient Triage category  \n",
       "1124685                         NaN         UNKNOWN  \n",
       "1124686                         NaN        STANDARD  "
      ]
     },
     "execution_count": 5,
     "metadata": {},
     "output_type": "execute_result"
    }
   ],
   "source": [
    "df.tail(2)"
   ]
  },
  {
   "cell_type": "markdown",
   "metadata": {},
   "source": [
    "Clean col names"
   ]
  },
  {
   "cell_type": "code",
   "execution_count": 6,
   "metadata": {},
   "outputs": [],
   "source": [
    "from flosp.basic_tools import tidy_column_heads"
   ]
  },
  {
   "cell_type": "code",
   "execution_count": 7,
   "metadata": {},
   "outputs": [],
   "source": [
    "df = tidy_column_heads(df)"
   ]
  },
  {
   "cell_type": "markdown",
   "metadata": {},
   "source": [
    "Exclude eye cashualty"
   ]
  },
  {
   "cell_type": "code",
   "execution_count": 8,
   "metadata": {},
   "outputs": [
    {
     "data": {
      "text/plain": [
       "Main ED               907932\n",
       "Eye Casualty          210850\n",
       "GP Urgent Care Hub      4940\n",
       "Cath Lab                 548\n",
       "Bramshaw                 417\n",
       "Name: site_attended, dtype: int64"
      ]
     },
     "execution_count": 8,
     "metadata": {},
     "output_type": "execute_result"
    }
   ],
   "source": [
    "df.site_attended.value_counts()"
   ]
  },
  {
   "cell_type": "code",
   "execution_count": 9,
   "metadata": {},
   "outputs": [
    {
     "data": {
      "text/plain": [
       "(1124687, 19)"
      ]
     },
     "execution_count": 9,
     "metadata": {},
     "output_type": "execute_result"
    }
   ],
   "source": [
    "df.shape"
   ]
  },
  {
   "cell_type": "code",
   "execution_count": 10,
   "metadata": {},
   "outputs": [
    {
     "data": {
      "text/plain": [
       "(913837, 19)"
      ]
     },
     "execution_count": 10,
     "metadata": {},
     "output_type": "execute_result"
    }
   ],
   "source": [
    "df = df.query('site_attended != \"Eye Casualty\"')\n",
    "df.shape"
   ]
  },
  {
   "cell_type": "markdown",
   "metadata": {},
   "source": [
    "whats missing?"
   ]
  },
  {
   "cell_type": "code",
   "execution_count": 11,
   "metadata": {},
   "outputs": [
    {
     "data": {
      "text/plain": [
       "pseudo_patient_number                 1\n",
       "attendance_number                     0\n",
       "age                                  10\n",
       "gender                               10\n",
       "department                            0\n",
       "site_attended                         0\n",
       "arrival                               0\n",
       "arrival_mode                     269946\n",
       "arrival_mode_desc                     0\n",
       "1st_time_triaged_[datetime]      280630\n",
       "1st_time_seen_by_doctor           76978\n",
       "time_of_inpatient_bed_request    658458\n",
       "time_of_speciality_referral      653702\n",
       "speciality_referred_to           653703\n",
       "time_into_cdu                    816058\n",
       "time_leaving_dept_inc_cdu             0\n",
       "admission_flag                        0\n",
       "majorsminorsresus_patient        114766\n",
       "triage_category                  639560\n",
       "dtype: int64"
      ]
     },
     "execution_count": 11,
     "metadata": {},
     "output_type": "execute_result"
    }
   ],
   "source": [
    "df.isnull().sum()"
   ]
  },
  {
   "cell_type": "code",
   "execution_count": null,
   "metadata": {},
   "outputs": [],
   "source": []
  },
  {
   "cell_type": "code",
   "execution_count": null,
   "metadata": {},
   "outputs": [],
   "source": []
  },
  {
   "cell_type": "markdown",
   "metadata": {},
   "source": [
    "# commence cleaning"
   ]
  },
  {
   "cell_type": "markdown",
   "metadata": {},
   "source": [
    "#### define dictionary for mapping\n",
    "col_map = {\n",
    "'ATTENDANCE_NUMBER':'dept_patid',\n",
    "'Pseudo Patient Number':'hosp_patid',\n",
    "'Age':'age',\n",
    "'Gender':'gender',\n",
    "'Site attended':'site',\n",
    "'Arrival':'arrive_datetime',\n",
    "'Arrival mode':'arrive_mode',\n",
    "'1st time triaged [datetime]':'first_triage_datetime',\n",
    "'1st time seen by doctor':'first_dr_datetime',\n",
    "'Time of inpatient bed request':'first_adm_request_datetime',\n",
    "'Speciality referred to':'adm_referral_loc',\n",
    "'Admission flag':'adm_flag',\n",
    "'Time leaving dept (inc CDU)':'depart_datetime',\n",
    "'Majors/Minors/Resus patient':'stream'\n",
    "}"
   ]
  },
  {
   "cell_type": "markdown",
   "metadata": {},
   "source": [
    "ed.map_columns(col_map)"
   ]
  },
  {
   "cell_type": "markdown",
   "metadata": {},
   "source": [
    "ed._dataRAW.head(2)"
   ]
  },
  {
   "cell_type": "code",
   "execution_count": null,
   "metadata": {},
   "outputs": [],
   "source": []
  },
  {
   "cell_type": "markdown",
   "metadata": {},
   "source": [
    "ed._dataRAW['site'].value_counts()"
   ]
  },
  {
   "cell_type": "markdown",
   "metadata": {},
   "source": [
    "Huge numbers are missing departure times?!'  -half?"
   ]
  },
  {
   "cell_type": "markdown",
   "metadata": {},
   "source": [
    "ed._dataRAW.shape"
   ]
  },
  {
   "cell_type": "markdown",
   "metadata": {},
   "source": [
    "ed._dataRAW[ed._dataRAW['depart_datetime'].isnull()].head(1)"
   ]
  },
  {
   "cell_type": "markdown",
   "metadata": {},
   "source": [
    "#### clean adm flag"
   ]
  },
  {
   "cell_type": "code",
   "execution_count": 12,
   "metadata": {},
   "outputs": [
    {
     "data": {
      "text/plain": [
       "Index(['pseudo_patient_number', 'attendance_number', 'age', 'gender',\n",
       "       'department', 'site_attended', 'arrival', 'arrival_mode',\n",
       "       'arrival_mode_desc', '1st_time_triaged_[datetime]',\n",
       "       '1st_time_seen_by_doctor', 'time_of_inpatient_bed_request',\n",
       "       'time_of_speciality_referral', 'speciality_referred_to',\n",
       "       'time_into_cdu', 'time_leaving_dept_inc_cdu', 'admission_flag',\n",
       "       'majorsminorsresus_patient', 'triage_category'],\n",
       "      dtype='object')"
      ]
     },
     "execution_count": 12,
     "metadata": {},
     "output_type": "execute_result"
    }
   ],
   "source": [
    "df.columns"
   ]
  },
  {
   "cell_type": "code",
   "execution_count": 13,
   "metadata": {},
   "outputs": [],
   "source": [
    "z = {'Y':1,'N':0}\n",
    "df['flag_admission'] = df.admission_flag.map(z)"
   ]
  },
  {
   "cell_type": "markdown",
   "metadata": {},
   "source": [
    "#### clean gender"
   ]
  },
  {
   "cell_type": "code",
   "execution_count": 14,
   "metadata": {},
   "outputs": [
    {
     "data": {
      "text/plain": [
       "M    465247\n",
       "F    448551\n",
       "U        27\n",
       "I         2\n",
       "Name: gender, dtype: int64"
      ]
     },
     "execution_count": 14,
     "metadata": {},
     "output_type": "execute_result"
    }
   ],
   "source": [
    "df.gender.value_counts()"
   ]
  },
  {
   "cell_type": "code",
   "execution_count": 15,
   "metadata": {},
   "outputs": [],
   "source": [
    "z = {'M':1,'F':0,'U':0,'I':0}\n",
    "df['gender'] = df.gender.map(z)"
   ]
  },
  {
   "cell_type": "code",
   "execution_count": 16,
   "metadata": {},
   "outputs": [],
   "source": [
    "# df['gender'] = \n",
    "df.gender.fillna(1,inplace=True)"
   ]
  },
  {
   "cell_type": "code",
   "execution_count": 17,
   "metadata": {},
   "outputs": [
    {
     "data": {
      "text/plain": [
       "1.0    465257\n",
       "0.0    448580\n",
       "Name: gender, dtype: int64"
      ]
     },
     "execution_count": 17,
     "metadata": {},
     "output_type": "execute_result"
    }
   ],
   "source": [
    "df.gender.value_counts()"
   ]
  },
  {
   "cell_type": "code",
   "execution_count": 18,
   "metadata": {},
   "outputs": [
    {
     "data": {
      "text/plain": [
       "0"
      ]
     },
     "execution_count": 18,
     "metadata": {},
     "output_type": "execute_result"
    }
   ],
   "source": [
    "df.gender.isnull().sum()"
   ]
  },
  {
   "cell_type": "code",
   "execution_count": 19,
   "metadata": {},
   "outputs": [],
   "source": [
    "df['gender'] = df.gender.astype('int32')"
   ]
  },
  {
   "cell_type": "code",
   "execution_count": 20,
   "metadata": {},
   "outputs": [
    {
     "data": {
      "text/plain": [
       "1    465257\n",
       "0    448580\n",
       "Name: gender, dtype: int64"
      ]
     },
     "execution_count": 20,
     "metadata": {},
     "output_type": "execute_result"
    }
   ],
   "source": [
    "df.gender.value_counts()"
   ]
  },
  {
   "cell_type": "code",
   "execution_count": null,
   "metadata": {},
   "outputs": [],
   "source": []
  },
  {
   "cell_type": "markdown",
   "metadata": {},
   "source": [
    "### clean age"
   ]
  },
  {
   "cell_type": "code",
   "execution_count": 21,
   "metadata": {},
   "outputs": [
    {
     "data": {
      "text/plain": [
       "10"
      ]
     },
     "execution_count": 21,
     "metadata": {},
     "output_type": "execute_result"
    }
   ],
   "source": [
    "df.age.isnull().sum()"
   ]
  },
  {
   "cell_type": "code",
   "execution_count": 22,
   "metadata": {},
   "outputs": [],
   "source": [
    "median = df.age.median()"
   ]
  },
  {
   "cell_type": "code",
   "execution_count": 23,
   "metadata": {},
   "outputs": [],
   "source": [
    "df.age.fillna(value=median, inplace=True)"
   ]
  },
  {
   "cell_type": "code",
   "execution_count": 24,
   "metadata": {},
   "outputs": [],
   "source": [
    "df['age'] = df.age.astype(int)"
   ]
  },
  {
   "cell_type": "markdown",
   "metadata": {},
   "source": [
    "#### flag patient had bed request/speciality req/entered cdu"
   ]
  },
  {
   "cell_type": "code",
   "execution_count": 25,
   "metadata": {},
   "outputs": [],
   "source": [
    "df['flag_bedreq'] = df.time_of_inpatient_bed_request.isnull().astype(int)"
   ]
  },
  {
   "cell_type": "code",
   "execution_count": 26,
   "metadata": {},
   "outputs": [],
   "source": [
    "df['flag_specreq'] = df.time_of_speciality_referral.isnull().astype(int)"
   ]
  },
  {
   "cell_type": "code",
   "execution_count": 27,
   "metadata": {},
   "outputs": [],
   "source": [
    "df['flag_cdu'] = df.time_into_cdu.isnull().astype(int)"
   ]
  },
  {
   "cell_type": "code",
   "execution_count": 28,
   "metadata": {},
   "outputs": [
    {
     "data": {
      "text/plain": [
       "0    559945\n",
       "1    353892\n",
       "Name: flag_admission, dtype: int64"
      ]
     },
     "execution_count": 28,
     "metadata": {},
     "output_type": "execute_result"
    }
   ],
   "source": [
    "df.flag_admission.value_counts()"
   ]
  },
  {
   "cell_type": "code",
   "execution_count": null,
   "metadata": {},
   "outputs": [],
   "source": []
  },
  {
   "cell_type": "markdown",
   "metadata": {},
   "source": [
    "Note: more missing adm_flag values for adm_referral_loc, have used this to mark additional adm_flags. addiitonal 30k records ups coversion ratio by 2%...see below (albeit post assingment)."
   ]
  },
  {
   "cell_type": "code",
   "execution_count": null,
   "metadata": {},
   "outputs": [],
   "source": []
  },
  {
   "cell_type": "code",
   "execution_count": null,
   "metadata": {},
   "outputs": [],
   "source": []
  },
  {
   "cell_type": "markdown",
   "metadata": {},
   "source": [
    "#### covert datetime cols"
   ]
  },
  {
   "cell_type": "code",
   "execution_count": 29,
   "metadata": {},
   "outputs": [
    {
     "data": {
      "text/plain": [
       "Index(['pseudo_patient_number', 'attendance_number', 'age', 'gender',\n",
       "       'department', 'site_attended', 'arrival', 'arrival_mode',\n",
       "       'arrival_mode_desc', '1st_time_triaged_[datetime]',\n",
       "       '1st_time_seen_by_doctor', 'time_of_inpatient_bed_request',\n",
       "       'time_of_speciality_referral', 'speciality_referred_to',\n",
       "       'time_into_cdu', 'time_leaving_dept_inc_cdu', 'admission_flag',\n",
       "       'majorsminorsresus_patient', 'triage_category', 'flag_admission',\n",
       "       'flag_bedreq', 'flag_specreq', 'flag_cdu'],\n",
       "      dtype='object')"
      ]
     },
     "execution_count": 29,
     "metadata": {},
     "output_type": "execute_result"
    }
   ],
   "source": [
    "df.columns"
   ]
  },
  {
   "cell_type": "code",
   "execution_count": 30,
   "metadata": {},
   "outputs": [],
   "source": [
    "dt_cols = ['arrival','time_leaving_dept_inc_cdu','time_of_inpatient_bed_request','time_into_cdu','time_of_speciality_referral','1st_time_seen_by_doctor']\n",
    "\n",
    "for i in dt_cols:\n",
    "    df[i] = pd.to_datetime(df[i], format= '%d-%b-%y %H:%M')"
   ]
  },
  {
   "cell_type": "code",
   "execution_count": null,
   "metadata": {},
   "outputs": [],
   "source": []
  },
  {
   "cell_type": "code",
   "execution_count": null,
   "metadata": {},
   "outputs": [],
   "source": []
  },
  {
   "cell_type": "markdown",
   "metadata": {},
   "source": [
    "### tidy and rename cols"
   ]
  },
  {
   "cell_type": "code",
   "execution_count": null,
   "metadata": {},
   "outputs": [],
   "source": []
  },
  {
   "cell_type": "code",
   "execution_count": 31,
   "metadata": {},
   "outputs": [
    {
     "data": {
      "text/html": [
       "<div>\n",
       "<style scoped>\n",
       "    .dataframe tbody tr th:only-of-type {\n",
       "        vertical-align: middle;\n",
       "    }\n",
       "\n",
       "    .dataframe tbody tr th {\n",
       "        vertical-align: top;\n",
       "    }\n",
       "\n",
       "    .dataframe thead th {\n",
       "        text-align: right;\n",
       "    }\n",
       "</style>\n",
       "<table border=\"1\" class=\"dataframe\">\n",
       "  <thead>\n",
       "    <tr style=\"text-align: right;\">\n",
       "      <th></th>\n",
       "      <th>pseudo_patient_number</th>\n",
       "      <th>attendance_number</th>\n",
       "      <th>age</th>\n",
       "      <th>gender</th>\n",
       "      <th>department</th>\n",
       "      <th>site_attended</th>\n",
       "      <th>arrival</th>\n",
       "      <th>arrival_mode</th>\n",
       "      <th>arrival_mode_desc</th>\n",
       "      <th>1st_time_triaged_[datetime]</th>\n",
       "      <th>...</th>\n",
       "      <th>speciality_referred_to</th>\n",
       "      <th>time_into_cdu</th>\n",
       "      <th>time_leaving_dept_inc_cdu</th>\n",
       "      <th>admission_flag</th>\n",
       "      <th>majorsminorsresus_patient</th>\n",
       "      <th>triage_category</th>\n",
       "      <th>flag_admission</th>\n",
       "      <th>flag_bedreq</th>\n",
       "      <th>flag_specreq</th>\n",
       "      <th>flag_cdu</th>\n",
       "    </tr>\n",
       "  </thead>\n",
       "  <tbody>\n",
       "    <tr>\n",
       "      <th>0</th>\n",
       "      <td>004101045105</td>\n",
       "      <td>90902325901</td>\n",
       "      <td>94</td>\n",
       "      <td>0</td>\n",
       "      <td>Main ED</td>\n",
       "      <td>Main ED</td>\n",
       "      <td>2009-04-13 09:16:00</td>\n",
       "      <td>NaN</td>\n",
       "      <td>BROUGHT IN BY AMBULANCE</td>\n",
       "      <td>NaN</td>\n",
       "      <td>...</td>\n",
       "      <td>NaN</td>\n",
       "      <td>NaT</td>\n",
       "      <td>2009-04-13 12:24:00</td>\n",
       "      <td>N</td>\n",
       "      <td>Majors</td>\n",
       "      <td>VERY URGENT</td>\n",
       "      <td>0</td>\n",
       "      <td>1</td>\n",
       "      <td>1</td>\n",
       "      <td>1</td>\n",
       "    </tr>\n",
       "    <tr>\n",
       "      <th>1</th>\n",
       "      <td>644868441371</td>\n",
       "      <td>90902326101</td>\n",
       "      <td>47</td>\n",
       "      <td>1</td>\n",
       "      <td>Main ED</td>\n",
       "      <td>Main ED</td>\n",
       "      <td>2009-04-13 09:22:00</td>\n",
       "      <td>NaN</td>\n",
       "      <td>BROUGHT IN BY AMBULANCE</td>\n",
       "      <td>NaN</td>\n",
       "      <td>...</td>\n",
       "      <td>NaN</td>\n",
       "      <td>NaT</td>\n",
       "      <td>2009-04-13 12:55:00</td>\n",
       "      <td>Y</td>\n",
       "      <td>Majors</td>\n",
       "      <td>VERY URGENT</td>\n",
       "      <td>1</td>\n",
       "      <td>1</td>\n",
       "      <td>1</td>\n",
       "      <td>1</td>\n",
       "    </tr>\n",
       "  </tbody>\n",
       "</table>\n",
       "<p>2 rows × 23 columns</p>\n",
       "</div>"
      ],
      "text/plain": [
       "  pseudo_patient_number  attendance_number  age  gender department  \\\n",
       "0          004101045105        90902325901   94       0    Main ED   \n",
       "1          644868441371        90902326101   47       1    Main ED   \n",
       "\n",
       "  site_attended             arrival arrival_mode        arrival_mode_desc  \\\n",
       "0       Main ED 2009-04-13 09:16:00          NaN  BROUGHT IN BY AMBULANCE   \n",
       "1       Main ED 2009-04-13 09:22:00          NaN  BROUGHT IN BY AMBULANCE   \n",
       "\n",
       "  1st_time_triaged_[datetime]    ...    speciality_referred_to time_into_cdu  \\\n",
       "0                         NaN    ...                       NaN           NaT   \n",
       "1                         NaN    ...                       NaN           NaT   \n",
       "\n",
       "  time_leaving_dept_inc_cdu admission_flag majorsminorsresus_patient  \\\n",
       "0       2009-04-13 12:24:00              N                    Majors   \n",
       "1       2009-04-13 12:55:00              Y                    Majors   \n",
       "\n",
       "  triage_category flag_admission flag_bedreq flag_specreq  flag_cdu  \n",
       "0     VERY URGENT              0           1            1         1  \n",
       "1     VERY URGENT              1           1            1         1  \n",
       "\n",
       "[2 rows x 23 columns]"
      ]
     },
     "execution_count": 31,
     "metadata": {},
     "output_type": "execute_result"
    }
   ],
   "source": [
    "df.head(2)"
   ]
  },
  {
   "cell_type": "code",
   "execution_count": 32,
   "metadata": {},
   "outputs": [
    {
     "data": {
      "text/plain": [
       "Main ED    913837\n",
       "Name: department, dtype: int64"
      ]
     },
     "execution_count": 32,
     "metadata": {},
     "output_type": "execute_result"
    }
   ],
   "source": [
    "df.department.value_counts()"
   ]
  },
  {
   "cell_type": "code",
   "execution_count": 33,
   "metadata": {},
   "outputs": [
    {
     "data": {
      "text/plain": [
       "Main ED               907932\n",
       "GP Urgent Care Hub      4940\n",
       "Cath Lab                 548\n",
       "Bramshaw                 417\n",
       "Name: site_attended, dtype: int64"
      ]
     },
     "execution_count": 33,
     "metadata": {},
     "output_type": "execute_result"
    }
   ],
   "source": [
    "df.site_attended.value_counts()"
   ]
  },
  {
   "cell_type": "code",
   "execution_count": 34,
   "metadata": {},
   "outputs": [],
   "source": [
    "df = df.drop(labels = ['department','admission_flag'], axis=1)"
   ]
  },
  {
   "cell_type": "code",
   "execution_count": 35,
   "metadata": {},
   "outputs": [
    {
     "data": {
      "text/plain": [
       "pseudo_patient_number                 1\n",
       "attendance_number                     0\n",
       "age                                   0\n",
       "gender                                0\n",
       "site_attended                         0\n",
       "arrival                               0\n",
       "arrival_mode                     269946\n",
       "arrival_mode_desc                     0\n",
       "1st_time_triaged_[datetime]      280630\n",
       "1st_time_seen_by_doctor           76978\n",
       "time_of_inpatient_bed_request    658458\n",
       "time_of_speciality_referral      653702\n",
       "speciality_referred_to           653703\n",
       "time_into_cdu                    816058\n",
       "time_leaving_dept_inc_cdu             0\n",
       "majorsminorsresus_patient        114766\n",
       "triage_category                  639560\n",
       "flag_admission                        0\n",
       "flag_bedreq                           0\n",
       "flag_specreq                          0\n",
       "flag_cdu                              0\n",
       "dtype: int64"
      ]
     },
     "execution_count": 35,
     "metadata": {},
     "output_type": "execute_result"
    }
   ],
   "source": [
    "df.isnull().sum()"
   ]
  },
  {
   "cell_type": "code",
   "execution_count": 36,
   "metadata": {},
   "outputs": [
    {
     "data": {
      "text/plain": [
       "Index(['pseudo_patient_number', 'attendance_number', 'age', 'gender',\n",
       "       'site_attended', 'arrival', 'arrival_mode', 'arrival_mode_desc',\n",
       "       '1st_time_triaged_[datetime]', '1st_time_seen_by_doctor',\n",
       "       'time_of_inpatient_bed_request', 'time_of_speciality_referral',\n",
       "       'speciality_referred_to', 'time_into_cdu', 'time_leaving_dept_inc_cdu',\n",
       "       'majorsminorsresus_patient', 'triage_category', 'flag_admission',\n",
       "       'flag_bedreq', 'flag_specreq', 'flag_cdu'],\n",
       "      dtype='object')"
      ]
     },
     "execution_count": 36,
     "metadata": {},
     "output_type": "execute_result"
    }
   ],
   "source": [
    "df.columns"
   ]
  },
  {
   "cell_type": "code",
   "execution_count": 37,
   "metadata": {},
   "outputs": [],
   "source": [
    "cols_rename = {\n",
    "    'arrival':'arrive_datetime',\n",
    "    'time_leaving_dept_inc_cdu':'depart_datetime',\n",
    "}\n",
    "df.rename(columns=cols_rename, inplace=True)"
   ]
  },
  {
   "cell_type": "code",
   "execution_count": null,
   "metadata": {},
   "outputs": [],
   "source": []
  },
  {
   "cell_type": "markdown",
   "metadata": {},
   "source": [
    "# save out"
   ]
  },
  {
   "cell_type": "code",
   "execution_count": 38,
   "metadata": {},
   "outputs": [
    {
     "data": {
      "text/html": [
       "<div>\n",
       "<style scoped>\n",
       "    .dataframe tbody tr th:only-of-type {\n",
       "        vertical-align: middle;\n",
       "    }\n",
       "\n",
       "    .dataframe tbody tr th {\n",
       "        vertical-align: top;\n",
       "    }\n",
       "\n",
       "    .dataframe thead th {\n",
       "        text-align: right;\n",
       "    }\n",
       "</style>\n",
       "<table border=\"1\" class=\"dataframe\">\n",
       "  <thead>\n",
       "    <tr style=\"text-align: right;\">\n",
       "      <th></th>\n",
       "      <th>pseudo_patient_number</th>\n",
       "      <th>attendance_number</th>\n",
       "      <th>age</th>\n",
       "      <th>gender</th>\n",
       "      <th>site_attended</th>\n",
       "      <th>arrive_datetime</th>\n",
       "      <th>arrival_mode</th>\n",
       "      <th>arrival_mode_desc</th>\n",
       "      <th>1st_time_triaged_[datetime]</th>\n",
       "      <th>1st_time_seen_by_doctor</th>\n",
       "      <th>...</th>\n",
       "      <th>time_of_speciality_referral</th>\n",
       "      <th>speciality_referred_to</th>\n",
       "      <th>time_into_cdu</th>\n",
       "      <th>depart_datetime</th>\n",
       "      <th>majorsminorsresus_patient</th>\n",
       "      <th>triage_category</th>\n",
       "      <th>flag_admission</th>\n",
       "      <th>flag_bedreq</th>\n",
       "      <th>flag_specreq</th>\n",
       "      <th>flag_cdu</th>\n",
       "    </tr>\n",
       "  </thead>\n",
       "  <tbody>\n",
       "    <tr>\n",
       "      <th>0</th>\n",
       "      <td>004101045105</td>\n",
       "      <td>90902325901</td>\n",
       "      <td>94</td>\n",
       "      <td>0</td>\n",
       "      <td>Main ED</td>\n",
       "      <td>2009-04-13 09:16:00</td>\n",
       "      <td>NaN</td>\n",
       "      <td>BROUGHT IN BY AMBULANCE</td>\n",
       "      <td>NaN</td>\n",
       "      <td>2009-04-13 10:28:00</td>\n",
       "      <td>...</td>\n",
       "      <td>NaT</td>\n",
       "      <td>NaN</td>\n",
       "      <td>NaT</td>\n",
       "      <td>2009-04-13 12:24:00</td>\n",
       "      <td>Majors</td>\n",
       "      <td>VERY URGENT</td>\n",
       "      <td>0</td>\n",
       "      <td>1</td>\n",
       "      <td>1</td>\n",
       "      <td>1</td>\n",
       "    </tr>\n",
       "    <tr>\n",
       "      <th>1</th>\n",
       "      <td>644868441371</td>\n",
       "      <td>90902326101</td>\n",
       "      <td>47</td>\n",
       "      <td>1</td>\n",
       "      <td>Main ED</td>\n",
       "      <td>2009-04-13 09:22:00</td>\n",
       "      <td>NaN</td>\n",
       "      <td>BROUGHT IN BY AMBULANCE</td>\n",
       "      <td>NaN</td>\n",
       "      <td>2009-04-13 09:30:00</td>\n",
       "      <td>...</td>\n",
       "      <td>NaT</td>\n",
       "      <td>NaN</td>\n",
       "      <td>NaT</td>\n",
       "      <td>2009-04-13 12:55:00</td>\n",
       "      <td>Majors</td>\n",
       "      <td>VERY URGENT</td>\n",
       "      <td>1</td>\n",
       "      <td>1</td>\n",
       "      <td>1</td>\n",
       "      <td>1</td>\n",
       "    </tr>\n",
       "    <tr>\n",
       "      <th>2</th>\n",
       "      <td>668666687357</td>\n",
       "      <td>90902326501</td>\n",
       "      <td>0</td>\n",
       "      <td>1</td>\n",
       "      <td>Main ED</td>\n",
       "      <td>2009-04-13 09:31:00</td>\n",
       "      <td>NaN</td>\n",
       "      <td>OTHER</td>\n",
       "      <td>NaN</td>\n",
       "      <td>2009-04-13 10:00:00</td>\n",
       "      <td>...</td>\n",
       "      <td>2009-04-13 11:19:00</td>\n",
       "      <td>Paediatrics - Medical</td>\n",
       "      <td>NaT</td>\n",
       "      <td>2009-04-13 11:54:00</td>\n",
       "      <td>Paeds</td>\n",
       "      <td>STANDARD</td>\n",
       "      <td>1</td>\n",
       "      <td>1</td>\n",
       "      <td>0</td>\n",
       "      <td>1</td>\n",
       "    </tr>\n",
       "    <tr>\n",
       "      <th>3</th>\n",
       "      <td>446747461391</td>\n",
       "      <td>90902328601</td>\n",
       "      <td>4</td>\n",
       "      <td>1</td>\n",
       "      <td>Main ED</td>\n",
       "      <td>2009-04-13 10:52:00</td>\n",
       "      <td>NaN</td>\n",
       "      <td>OTHER</td>\n",
       "      <td>NaN</td>\n",
       "      <td>2009-04-13 11:30:00</td>\n",
       "      <td>...</td>\n",
       "      <td>2009-04-13 12:09:00</td>\n",
       "      <td>Orthopaedics</td>\n",
       "      <td>NaT</td>\n",
       "      <td>2009-04-13 13:49:00</td>\n",
       "      <td>NaN</td>\n",
       "      <td>STANDARD</td>\n",
       "      <td>0</td>\n",
       "      <td>1</td>\n",
       "      <td>0</td>\n",
       "      <td>1</td>\n",
       "    </tr>\n",
       "    <tr>\n",
       "      <th>4</th>\n",
       "      <td>423646238168</td>\n",
       "      <td>90902328801</td>\n",
       "      <td>31</td>\n",
       "      <td>0</td>\n",
       "      <td>Main ED</td>\n",
       "      <td>2009-04-13 11:18:00</td>\n",
       "      <td>NaN</td>\n",
       "      <td>BROUGHT IN BY AMBULANCE</td>\n",
       "      <td>NaN</td>\n",
       "      <td>2009-04-13 12:00:00</td>\n",
       "      <td>...</td>\n",
       "      <td>2009-04-13 12:27:00</td>\n",
       "      <td>Obstetrics &amp; Gynaecology</td>\n",
       "      <td>NaT</td>\n",
       "      <td>2009-04-13 14:49:00</td>\n",
       "      <td>Majors</td>\n",
       "      <td>VERY URGENT</td>\n",
       "      <td>1</td>\n",
       "      <td>1</td>\n",
       "      <td>0</td>\n",
       "      <td>1</td>\n",
       "    </tr>\n",
       "  </tbody>\n",
       "</table>\n",
       "<p>5 rows × 21 columns</p>\n",
       "</div>"
      ],
      "text/plain": [
       "  pseudo_patient_number  attendance_number  age  gender site_attended  \\\n",
       "0          004101045105        90902325901   94       0       Main ED   \n",
       "1          644868441371        90902326101   47       1       Main ED   \n",
       "2          668666687357        90902326501    0       1       Main ED   \n",
       "3          446747461391        90902328601    4       1       Main ED   \n",
       "4          423646238168        90902328801   31       0       Main ED   \n",
       "\n",
       "      arrive_datetime arrival_mode        arrival_mode_desc  \\\n",
       "0 2009-04-13 09:16:00          NaN  BROUGHT IN BY AMBULANCE   \n",
       "1 2009-04-13 09:22:00          NaN  BROUGHT IN BY AMBULANCE   \n",
       "2 2009-04-13 09:31:00          NaN                    OTHER   \n",
       "3 2009-04-13 10:52:00          NaN                    OTHER   \n",
       "4 2009-04-13 11:18:00          NaN  BROUGHT IN BY AMBULANCE   \n",
       "\n",
       "  1st_time_triaged_[datetime] 1st_time_seen_by_doctor    ...     \\\n",
       "0                         NaN     2009-04-13 10:28:00    ...      \n",
       "1                         NaN     2009-04-13 09:30:00    ...      \n",
       "2                         NaN     2009-04-13 10:00:00    ...      \n",
       "3                         NaN     2009-04-13 11:30:00    ...      \n",
       "4                         NaN     2009-04-13 12:00:00    ...      \n",
       "\n",
       "  time_of_speciality_referral    speciality_referred_to time_into_cdu  \\\n",
       "0                         NaT                       NaN           NaT   \n",
       "1                         NaT                       NaN           NaT   \n",
       "2         2009-04-13 11:19:00     Paediatrics - Medical           NaT   \n",
       "3         2009-04-13 12:09:00              Orthopaedics           NaT   \n",
       "4         2009-04-13 12:27:00  Obstetrics & Gynaecology           NaT   \n",
       "\n",
       "      depart_datetime majorsminorsresus_patient triage_category  \\\n",
       "0 2009-04-13 12:24:00                    Majors     VERY URGENT   \n",
       "1 2009-04-13 12:55:00                    Majors     VERY URGENT   \n",
       "2 2009-04-13 11:54:00                     Paeds        STANDARD   \n",
       "3 2009-04-13 13:49:00                       NaN        STANDARD   \n",
       "4 2009-04-13 14:49:00                    Majors     VERY URGENT   \n",
       "\n",
       "  flag_admission  flag_bedreq  flag_specreq  flag_cdu  \n",
       "0              0            1             1         1  \n",
       "1              1            1             1         1  \n",
       "2              1            1             0         1  \n",
       "3              0            1             0         1  \n",
       "4              1            1             0         1  \n",
       "\n",
       "[5 rows x 21 columns]"
      ]
     },
     "execution_count": 38,
     "metadata": {},
     "output_type": "execute_result"
    }
   ],
   "source": [
    "df.head()"
   ]
  },
  {
   "cell_type": "code",
   "execution_count": 39,
   "metadata": {},
   "outputs": [],
   "source": [
    "df.to_csv('./../../../../3_Data/EDclassification/cleanED.csv', index=False)"
   ]
  },
  {
   "cell_type": "code",
   "execution_count": 40,
   "metadata": {},
   "outputs": [],
   "source": [
    "df.to_pickle('./../../../../3_Data/EDclassification/cleanED.pkl')"
   ]
  },
  {
   "cell_type": "code",
   "execution_count": null,
   "metadata": {},
   "outputs": [],
   "source": []
  },
  {
   "cell_type": "markdown",
   "metadata": {},
   "source": [
    "# DEV"
   ]
  },
  {
   "cell_type": "markdown",
   "metadata": {},
   "source": [
    "basic plotting for checks"
   ]
  },
  {
   "cell_type": "code",
   "execution_count": 30,
   "metadata": {},
   "outputs": [
    {
     "ename": "SyntaxError",
     "evalue": "'break' outside loop (<ipython-input-30-6aaf1f276005>, line 1)",
     "output_type": "error",
     "traceback": [
      "\u001b[1;36m  File \u001b[1;32m\"<ipython-input-30-6aaf1f276005>\"\u001b[1;36m, line \u001b[1;32m1\u001b[0m\n\u001b[1;33m    break\u001b[0m\n\u001b[1;37m         ^\u001b[0m\n\u001b[1;31mSyntaxError\u001b[0m\u001b[1;31m:\u001b[0m 'break' outside loop\n"
     ]
    }
   ],
   "source": [
    "break"
   ]
  }
 ],
 "metadata": {
  "kernelspec": {
   "display_name": "Python [default]",
   "language": "python",
   "name": "python3"
  },
  "language_info": {
   "codemirror_mode": {
    "name": "ipython",
    "version": 3
   },
   "file_extension": ".py",
   "mimetype": "text/x-python",
   "name": "python",
   "nbconvert_exporter": "python",
   "pygments_lexer": "ipython3",
   "version": "3.5.5"
  }
 },
 "nbformat": 4,
 "nbformat_minor": 2
}
