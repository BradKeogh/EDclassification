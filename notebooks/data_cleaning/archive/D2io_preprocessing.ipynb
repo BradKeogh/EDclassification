{
 "cells": [
  {
   "cell_type": "markdown",
   "metadata": {},
   "source": [
    "# Notebook used to help create:\n",
    "\n",
    "- importing data src\n",
    "- precprocessing data src"
   ]
  },
  {
   "cell_type": "code",
   "execution_count": 1,
   "metadata": {},
   "outputs": [
    {
     "data": {
      "text/plain": [
       "'C:\\\\Users\\\\bjk1y13\\\\OneDrive - University of Southampton\\\\MH028_UHS_Weather\\\\4_Analysis\\\\EDclassification\\\\notebooks\\\\data_cleaning'"
      ]
     },
     "execution_count": 1,
     "metadata": {},
     "output_type": "execute_result"
    }
   ],
   "source": [
    "%pwd"
   ]
  },
  {
   "cell_type": "code",
   "execution_count": 2,
   "metadata": {},
   "outputs": [],
   "source": [
    "import pandas as pd\n",
    "import numpy as np\n",
    "from src.data.io import import_pickled_feature_dfs, import_merge_prevday_target_column, import_merge_pickled_target_class"
   ]
  },
  {
   "cell_type": "markdown",
   "metadata": {},
   "source": [
    "# Import data"
   ]
  },
  {
   "cell_type": "code",
   "execution_count": 15,
   "metadata": {},
   "outputs": [],
   "source": [
    "features = import_pickled_feature_dfs('../../data/interim/D2_timeseries/', ['EDdaily.pkl', 'IPdaily.pkl', 'callender.pkl'])"
   ]
  },
  {
   "cell_type": "code",
   "execution_count": 16,
   "metadata": {},
   "outputs": [
    {
     "data": {
      "text/plain": [
       "(2465, 13)"
      ]
     },
     "execution_count": 16,
     "metadata": {},
     "output_type": "execute_result"
    }
   ],
   "source": [
    "features.shape"
   ]
  },
  {
   "cell_type": "code",
   "execution_count": 17,
   "metadata": {},
   "outputs": [
    {
     "data": {
      "text/html": [
       "<div>\n",
       "<style scoped>\n",
       "    .dataframe tbody tr th:only-of-type {\n",
       "        vertical-align: middle;\n",
       "    }\n",
       "\n",
       "    .dataframe tbody tr th {\n",
       "        vertical-align: top;\n",
       "    }\n",
       "\n",
       "    .dataframe thead th {\n",
       "        text-align: right;\n",
       "    }\n",
       "</style>\n",
       "<table border=\"1\" class=\"dataframe\">\n",
       "  <thead>\n",
       "    <tr style=\"text-align: right;\">\n",
       "      <th></th>\n",
       "      <th>EDDAILYattendances</th>\n",
       "      <th>EDDAILYadmissions</th>\n",
       "      <th>EDDAILYage_mean</th>\n",
       "      <th>EDDAILYage_75plus</th>\n",
       "      <th>IPDAILYpatients_total</th>\n",
       "      <th>IPDAILYpatients_nonelec</th>\n",
       "      <th>IPDAILYpatients_elec</th>\n",
       "      <th>IPDAILYpatients_daycase</th>\n",
       "      <th>IPDAILYage_mean_elecnonelec</th>\n",
       "      <th>IPDAILYage_75plus_elecnonelec</th>\n",
       "      <th>year</th>\n",
       "      <th>month</th>\n",
       "      <th>dayofweek</th>\n",
       "    </tr>\n",
       "    <tr>\n",
       "      <th></th>\n",
       "      <th></th>\n",
       "      <th></th>\n",
       "      <th></th>\n",
       "      <th></th>\n",
       "      <th></th>\n",
       "      <th></th>\n",
       "      <th></th>\n",
       "      <th></th>\n",
       "      <th></th>\n",
       "      <th></th>\n",
       "      <th></th>\n",
       "      <th></th>\n",
       "      <th></th>\n",
       "    </tr>\n",
       "  </thead>\n",
       "  <tbody>\n",
       "    <tr>\n",
       "      <th>2018-09-26</th>\n",
       "      <td>446</td>\n",
       "      <td>182</td>\n",
       "      <td>42.9126</td>\n",
       "      <td>62</td>\n",
       "      <td>2</td>\n",
       "      <td>1</td>\n",
       "      <td>1</td>\n",
       "      <td>0</td>\n",
       "      <td>35.5</td>\n",
       "      <td>0</td>\n",
       "      <td>2018</td>\n",
       "      <td>9</td>\n",
       "      <td>Wednesday</td>\n",
       "    </tr>\n",
       "    <tr>\n",
       "      <th>2018-09-27</th>\n",
       "      <td>487</td>\n",
       "      <td>188</td>\n",
       "      <td>44.7064</td>\n",
       "      <td>82</td>\n",
       "      <td>2</td>\n",
       "      <td>1</td>\n",
       "      <td>1</td>\n",
       "      <td>0</td>\n",
       "      <td>35.5</td>\n",
       "      <td>0</td>\n",
       "      <td>2018</td>\n",
       "      <td>9</td>\n",
       "      <td>Thursday</td>\n",
       "    </tr>\n",
       "    <tr>\n",
       "      <th>2018-09-28</th>\n",
       "      <td>482</td>\n",
       "      <td>168</td>\n",
       "      <td>44.1992</td>\n",
       "      <td>74</td>\n",
       "      <td>2</td>\n",
       "      <td>1</td>\n",
       "      <td>1</td>\n",
       "      <td>0</td>\n",
       "      <td>35.5</td>\n",
       "      <td>0</td>\n",
       "      <td>2018</td>\n",
       "      <td>9</td>\n",
       "      <td>Friday</td>\n",
       "    </tr>\n",
       "    <tr>\n",
       "      <th>2018-09-29</th>\n",
       "      <td>463</td>\n",
       "      <td>191</td>\n",
       "      <td>46.4989</td>\n",
       "      <td>84</td>\n",
       "      <td>1</td>\n",
       "      <td>0</td>\n",
       "      <td>1</td>\n",
       "      <td>0</td>\n",
       "      <td>0</td>\n",
       "      <td>0</td>\n",
       "      <td>2018</td>\n",
       "      <td>9</td>\n",
       "      <td>Saturday</td>\n",
       "    </tr>\n",
       "    <tr>\n",
       "      <th>2018-09-30</th>\n",
       "      <td>367</td>\n",
       "      <td>157</td>\n",
       "      <td>40.3597</td>\n",
       "      <td>47</td>\n",
       "      <td>1</td>\n",
       "      <td>0</td>\n",
       "      <td>1</td>\n",
       "      <td>0</td>\n",
       "      <td>0</td>\n",
       "      <td>0</td>\n",
       "      <td>2018</td>\n",
       "      <td>9</td>\n",
       "      <td>Sunday</td>\n",
       "    </tr>\n",
       "  </tbody>\n",
       "</table>\n",
       "</div>"
      ],
      "text/plain": [
       "           EDDAILYattendances EDDAILYadmissions EDDAILYage_mean  \\\n",
       "                                                                  \n",
       "2018-09-26                446               182         42.9126   \n",
       "2018-09-27                487               188         44.7064   \n",
       "2018-09-28                482               168         44.1992   \n",
       "2018-09-29                463               191         46.4989   \n",
       "2018-09-30                367               157         40.3597   \n",
       "\n",
       "           EDDAILYage_75plus IPDAILYpatients_total IPDAILYpatients_nonelec  \\\n",
       "                                                                             \n",
       "2018-09-26                62                     2                       1   \n",
       "2018-09-27                82                     2                       1   \n",
       "2018-09-28                74                     2                       1   \n",
       "2018-09-29                84                     1                       0   \n",
       "2018-09-30                47                     1                       0   \n",
       "\n",
       "           IPDAILYpatients_elec IPDAILYpatients_daycase  \\\n",
       "                                                          \n",
       "2018-09-26                    1                       0   \n",
       "2018-09-27                    1                       0   \n",
       "2018-09-28                    1                       0   \n",
       "2018-09-29                    1                       0   \n",
       "2018-09-30                    1                       0   \n",
       "\n",
       "           IPDAILYage_mean_elecnonelec IPDAILYage_75plus_elecnonelec  year  \\\n",
       "                                                                             \n",
       "2018-09-26                        35.5                             0  2018   \n",
       "2018-09-27                        35.5                             0  2018   \n",
       "2018-09-28                        35.5                             0  2018   \n",
       "2018-09-29                           0                             0  2018   \n",
       "2018-09-30                           0                             0  2018   \n",
       "\n",
       "            month  dayofweek  \n",
       "                              \n",
       "2018-09-26      9  Wednesday  \n",
       "2018-09-27      9   Thursday  \n",
       "2018-09-28      9     Friday  \n",
       "2018-09-29      9   Saturday  \n",
       "2018-09-30      9     Sunday  "
      ]
     },
     "execution_count": 17,
     "metadata": {},
     "output_type": "execute_result"
    }
   ],
   "source": [
    "features.tail()"
   ]
  },
  {
   "cell_type": "code",
   "execution_count": 18,
   "metadata": {},
   "outputs": [],
   "source": [
    "target = pd.read_pickle('../../data/interim/EDooc_class.pkl')"
   ]
  },
  {
   "cell_type": "code",
   "execution_count": 19,
   "metadata": {},
   "outputs": [],
   "source": [
    "features = target.merge(features, right_index=True, left_index=True)"
   ]
  },
  {
   "cell_type": "markdown",
   "metadata": {},
   "source": [
    "Remember target does not need to be offset because features were calculated for the previous days records"
   ]
  },
  {
   "cell_type": "code",
   "execution_count": 20,
   "metadata": {},
   "outputs": [],
   "source": [
    "features_final = features.copy()\n",
    "# features_final['flag_target'] = features_final['flag_target'].shift(-1)\n",
    "##### we do shift the EDocc col as this is for the current date in index.\n",
    "features_final['EDocc'] = features_final['EDocc'].shift(1)"
   ]
  },
  {
   "cell_type": "code",
   "execution_count": 24,
   "metadata": {},
   "outputs": [],
   "source": [
    "features_final.rename(columns={'EDocc':'TARGET_prevday'},inplace=True)"
   ]
  },
  {
   "cell_type": "code",
   "execution_count": 25,
   "metadata": {},
   "outputs": [
    {
     "data": {
      "text/plain": [
       "0    2094\n",
       "1     371\n",
       "Name: flag_target, dtype: int64"
      ]
     },
     "execution_count": 25,
     "metadata": {},
     "output_type": "execute_result"
    }
   ],
   "source": [
    "features_final.flag_target.value_counts()"
   ]
  },
  {
   "cell_type": "code",
   "execution_count": 26,
   "metadata": {},
   "outputs": [
    {
     "data": {
      "text/html": [
       "<div>\n",
       "<style scoped>\n",
       "    .dataframe tbody tr th:only-of-type {\n",
       "        vertical-align: middle;\n",
       "    }\n",
       "\n",
       "    .dataframe tbody tr th {\n",
       "        vertical-align: top;\n",
       "    }\n",
       "\n",
       "    .dataframe thead th {\n",
       "        text-align: right;\n",
       "    }\n",
       "</style>\n",
       "<table border=\"1\" class=\"dataframe\">\n",
       "  <thead>\n",
       "    <tr style=\"text-align: right;\">\n",
       "      <th></th>\n",
       "      <th>TARGET_prevday</th>\n",
       "      <th>flag_target</th>\n",
       "      <th>EDDAILYattendances</th>\n",
       "      <th>EDDAILYadmissions</th>\n",
       "      <th>EDDAILYage_mean</th>\n",
       "      <th>EDDAILYage_75plus</th>\n",
       "      <th>IPDAILYpatients_total</th>\n",
       "      <th>IPDAILYpatients_nonelec</th>\n",
       "      <th>IPDAILYpatients_elec</th>\n",
       "      <th>IPDAILYpatients_daycase</th>\n",
       "      <th>IPDAILYage_mean_elecnonelec</th>\n",
       "      <th>IPDAILYage_75plus_elecnonelec</th>\n",
       "      <th>year</th>\n",
       "      <th>month</th>\n",
       "      <th>dayofweek</th>\n",
       "    </tr>\n",
       "    <tr>\n",
       "      <th>dt_date</th>\n",
       "      <th></th>\n",
       "      <th></th>\n",
       "      <th></th>\n",
       "      <th></th>\n",
       "      <th></th>\n",
       "      <th></th>\n",
       "      <th></th>\n",
       "      <th></th>\n",
       "      <th></th>\n",
       "      <th></th>\n",
       "      <th></th>\n",
       "      <th></th>\n",
       "      <th></th>\n",
       "      <th></th>\n",
       "      <th></th>\n",
       "    </tr>\n",
       "  </thead>\n",
       "  <tbody>\n",
       "    <tr>\n",
       "      <th>2012-01-01</th>\n",
       "      <td>NaN</td>\n",
       "      <td>1</td>\n",
       "      <td>NaN</td>\n",
       "      <td>NaN</td>\n",
       "      <td>NaN</td>\n",
       "      <td>NaN</td>\n",
       "      <td>NaN</td>\n",
       "      <td>NaN</td>\n",
       "      <td>NaN</td>\n",
       "      <td>NaN</td>\n",
       "      <td>NaN</td>\n",
       "      <td>NaN</td>\n",
       "      <td>2012</td>\n",
       "      <td>1</td>\n",
       "      <td>Sunday</td>\n",
       "    </tr>\n",
       "    <tr>\n",
       "      <th>2012-01-02</th>\n",
       "      <td>55.750000</td>\n",
       "      <td>0</td>\n",
       "      <td>377</td>\n",
       "      <td>151</td>\n",
       "      <td>40.0186</td>\n",
       "      <td>59</td>\n",
       "      <td>1185</td>\n",
       "      <td>1001</td>\n",
       "      <td>141</td>\n",
       "      <td>43</td>\n",
       "      <td>57.3814</td>\n",
       "      <td>441</td>\n",
       "      <td>2012</td>\n",
       "      <td>1</td>\n",
       "      <td>Monday</td>\n",
       "    </tr>\n",
       "    <tr>\n",
       "      <th>2012-01-03</th>\n",
       "      <td>38.541667</td>\n",
       "      <td>0</td>\n",
       "      <td>350</td>\n",
       "      <td>139</td>\n",
       "      <td>42.2114</td>\n",
       "      <td>44</td>\n",
       "      <td>1228</td>\n",
       "      <td>1037</td>\n",
       "      <td>141</td>\n",
       "      <td>50</td>\n",
       "      <td>57.4292</td>\n",
       "      <td>453</td>\n",
       "      <td>2012</td>\n",
       "      <td>1</td>\n",
       "      <td>Tuesday</td>\n",
       "    </tr>\n",
       "    <tr>\n",
       "      <th>2012-01-04</th>\n",
       "      <td>40.208333</td>\n",
       "      <td>0</td>\n",
       "      <td>356</td>\n",
       "      <td>125</td>\n",
       "      <td>45.1011</td>\n",
       "      <td>58</td>\n",
       "      <td>1564</td>\n",
       "      <td>1074</td>\n",
       "      <td>208</td>\n",
       "      <td>282</td>\n",
       "      <td>55.5352</td>\n",
       "      <td>475</td>\n",
       "      <td>2012</td>\n",
       "      <td>1</td>\n",
       "      <td>Wednesday</td>\n",
       "    </tr>\n",
       "    <tr>\n",
       "      <th>2012-01-05</th>\n",
       "      <td>32.375000</td>\n",
       "      <td>0</td>\n",
       "      <td>284</td>\n",
       "      <td>92</td>\n",
       "      <td>42.5035</td>\n",
       "      <td>49</td>\n",
       "      <td>1535</td>\n",
       "      <td>1066</td>\n",
       "      <td>241</td>\n",
       "      <td>228</td>\n",
       "      <td>55.4072</td>\n",
       "      <td>482</td>\n",
       "      <td>2012</td>\n",
       "      <td>1</td>\n",
       "      <td>Thursday</td>\n",
       "    </tr>\n",
       "  </tbody>\n",
       "</table>\n",
       "</div>"
      ],
      "text/plain": [
       "            TARGET_prevday  flag_target EDDAILYattendances EDDAILYadmissions  \\\n",
       "dt_date                                                                        \n",
       "2012-01-01             NaN            1                NaN               NaN   \n",
       "2012-01-02       55.750000            0                377               151   \n",
       "2012-01-03       38.541667            0                350               139   \n",
       "2012-01-04       40.208333            0                356               125   \n",
       "2012-01-05       32.375000            0                284                92   \n",
       "\n",
       "           EDDAILYage_mean EDDAILYage_75plus IPDAILYpatients_total  \\\n",
       "dt_date                                                              \n",
       "2012-01-01             NaN               NaN                   NaN   \n",
       "2012-01-02         40.0186                59                  1185   \n",
       "2012-01-03         42.2114                44                  1228   \n",
       "2012-01-04         45.1011                58                  1564   \n",
       "2012-01-05         42.5035                49                  1535   \n",
       "\n",
       "           IPDAILYpatients_nonelec IPDAILYpatients_elec  \\\n",
       "dt_date                                                   \n",
       "2012-01-01                     NaN                  NaN   \n",
       "2012-01-02                    1001                  141   \n",
       "2012-01-03                    1037                  141   \n",
       "2012-01-04                    1074                  208   \n",
       "2012-01-05                    1066                  241   \n",
       "\n",
       "           IPDAILYpatients_daycase IPDAILYage_mean_elecnonelec  \\\n",
       "dt_date                                                          \n",
       "2012-01-01                     NaN                         NaN   \n",
       "2012-01-02                      43                     57.3814   \n",
       "2012-01-03                      50                     57.4292   \n",
       "2012-01-04                     282                     55.5352   \n",
       "2012-01-05                     228                     55.4072   \n",
       "\n",
       "           IPDAILYage_75plus_elecnonelec  year  month  dayofweek  \n",
       "dt_date                                                           \n",
       "2012-01-01                           NaN  2012      1     Sunday  \n",
       "2012-01-02                           441  2012      1     Monday  \n",
       "2012-01-03                           453  2012      1    Tuesday  \n",
       "2012-01-04                           475  2012      1  Wednesday  \n",
       "2012-01-05                           482  2012      1   Thursday  "
      ]
     },
     "execution_count": 26,
     "metadata": {},
     "output_type": "execute_result"
    }
   ],
   "source": [
    "features_final.head()"
   ]
  },
  {
   "cell_type": "markdown",
   "metadata": {},
   "source": [
    "IP occ data after 2018-5-31 is not valid. NOTE: must check if that is same in RAW."
   ]
  },
  {
   "cell_type": "markdown",
   "metadata": {},
   "source": [
    "## check and remove nans"
   ]
  },
  {
   "cell_type": "code",
   "execution_count": 29,
   "metadata": {},
   "outputs": [
    {
     "data": {
      "text/plain": [
       "TARGET_prevday                   1\n",
       "flag_target                      0\n",
       "EDDAILYattendances               1\n",
       "EDDAILYadmissions                1\n",
       "EDDAILYage_mean                  1\n",
       "EDDAILYage_75plus                1\n",
       "IPDAILYpatients_total            1\n",
       "IPDAILYpatients_nonelec          1\n",
       "IPDAILYpatients_elec             1\n",
       "IPDAILYpatients_daycase          1\n",
       "IPDAILYage_mean_elecnonelec      1\n",
       "IPDAILYage_75plus_elecnonelec    1\n",
       "year                             0\n",
       "month                            0\n",
       "dayofweek                        0\n",
       "dtype: int64"
      ]
     },
     "execution_count": 29,
     "metadata": {},
     "output_type": "execute_result"
    }
   ],
   "source": [
    "features_final.isnull().sum()"
   ]
  },
  {
   "cell_type": "code",
   "execution_count": 33,
   "metadata": {},
   "outputs": [],
   "source": [
    "features_final.dropna(inplace=True)"
   ]
  },
  {
   "cell_type": "markdown",
   "metadata": {},
   "source": [
    "# Processing\n",
    "\n",
    "#### split test and train sets"
   ]
  },
  {
   "cell_type": "code",
   "execution_count": 34,
   "metadata": {},
   "outputs": [],
   "source": [
    "from src.data.preprocess import make_timeseries_test_train_splits"
   ]
  },
  {
   "cell_type": "code",
   "execution_count": 35,
   "metadata": {},
   "outputs": [
    {
     "name": "stdout",
     "output_type": "stream",
     "text": [
      "DATA POINTS:\n",
      "orig size 2464\n",
      "training:  2099\n",
      "testing:  365\n"
     ]
    }
   ],
   "source": [
    "X_train, X_test, y_train, y_test = make_timeseries_test_train_splits(features_final, 'flag_target', 365)"
   ]
  },
  {
   "cell_type": "code",
   "execution_count": null,
   "metadata": {},
   "outputs": [],
   "source": []
  },
  {
   "cell_type": "code",
   "execution_count": null,
   "metadata": {},
   "outputs": [],
   "source": []
  },
  {
   "cell_type": "code",
   "execution_count": 36,
   "metadata": {},
   "outputs": [],
   "source": [
    "from src.data.preprocess import get_variable_types_lists, check_for_catagorical_type_difference_between_train_test, change_feature_types_to_numeric\n",
    "    \n",
    "\n",
    "# num_features, cat_features, bin_features = get_variable_types_lists(X_train)"
   ]
  },
  {
   "cell_type": "code",
   "execution_count": 37,
   "metadata": {},
   "outputs": [
    {
     "data": {
      "text/plain": [
       "Index(['TARGET_prevday', 'EDDAILYattendances', 'EDDAILYadmissions',\n",
       "       'EDDAILYage_mean', 'EDDAILYage_75plus', 'IPDAILYpatients_total',\n",
       "       'IPDAILYpatients_nonelec', 'IPDAILYpatients_elec',\n",
       "       'IPDAILYpatients_daycase', 'IPDAILYage_mean_elecnonelec',\n",
       "       'IPDAILYage_75plus_elecnonelec', 'year', 'month', 'dayofweek'],\n",
       "      dtype='object')"
      ]
     },
     "execution_count": 37,
     "metadata": {},
     "output_type": "execute_result"
    }
   ],
   "source": [
    "X_train.columns"
   ]
  },
  {
   "cell_type": "code",
   "execution_count": 38,
   "metadata": {},
   "outputs": [],
   "source": [
    "cat_features = ['month','dayofweek']\n",
    "num_features = list(set(X_train.columns) - set(cat_features))\n",
    "bin_features = []"
   ]
  },
  {
   "cell_type": "markdown",
   "metadata": {},
   "source": [
    "#### find problem columns that will crash preprocessing pipleine when converting test data"
   ]
  },
  {
   "cell_type": "code",
   "execution_count": 39,
   "metadata": {},
   "outputs": [],
   "source": [
    "problem_col_list = check_for_catagorical_type_difference_between_train_test(X_train, X_test, cat_features)"
   ]
  },
  {
   "cell_type": "code",
   "execution_count": 40,
   "metadata": {},
   "outputs": [],
   "source": [
    "problem_col_list"
   ]
  },
  {
   "cell_type": "markdown",
   "metadata": {},
   "source": [
    "Treat problem features as numerical so that process can continue.\n"
   ]
  },
  {
   "cell_type": "markdown",
   "metadata": {},
   "source": [
    "- use sklearn pipelines to clean\n"
   ]
  },
  {
   "cell_type": "code",
   "execution_count": 41,
   "metadata": {},
   "outputs": [],
   "source": [
    "# version 19.2\n",
    "from sklearn.pipeline import Pipeline\n",
    "from sklearn.pipeline import FeatureUnion\n",
    "\n",
    "from sklearn.preprocessing import StandardScaler\n",
    "from sklearn.impute import SimpleImputer\n",
    "from sklearn.preprocessing import LabelEncoder\n",
    "from sklearn.preprocessing import OneHotEncoder \n",
    "\n",
    "from sklearn.feature_selection import SelectKBest\n",
    "from sklearn.feature_selection import f_classif\n",
    "\n",
    "from src.data.preprocess import DataFrameSelector, MakeBooleanAnInteger"
   ]
  },
  {
   "cell_type": "markdown",
   "metadata": {},
   "source": [
    "for col_name in cat_features:\n",
    "    values_list = X_train[col_name].unique()\n",
    "    for value in values_list:\n",
    "        print(col_name + '_' + str(value))"
   ]
  },
  {
   "cell_type": "code",
   "execution_count": 42,
   "metadata": {},
   "outputs": [],
   "source": [
    "#### failed to get this to work as kept doubling size of output array. Didnt matter if get_col_list_for_after_pipeline fundtion was inside or outside of DataFrameReform class.\n",
    "\n",
    "\n",
    "from sklearn.base import BaseEstimator, TransformerMixin\n",
    "\n",
    "class DataFrameReform(BaseEstimator,TransformerMixin):\n",
    "    \" Takes numpy array and forms into dataframe with column names.\"\n",
    "    def __init__(self, new_features_list):\n",
    "        self.new_features_list = new_features_list\n",
    "    def fit(self, X, y=None):\n",
    "        return self\n",
    "    def transform(self,X):        \n",
    "        return(pd.DataFrame(X, columns = self.new_features_list))"
   ]
  },
  {
   "cell_type": "code",
   "execution_count": 43,
   "metadata": {},
   "outputs": [],
   "source": [
    "num_pipeline = Pipeline([\n",
    "    ('selector',DataFrameSelector(num_features)),\n",
    "    ('feature_filter',SelectKBest(f_classif,k='all')),\n",
    "    ('imputer',SimpleImputer(strategy='median')),\n",
    "    ('std_scaler',StandardScaler()),\n",
    "])\n",
    "\n",
    "cat_pipeline = Pipeline([\n",
    "    ('selector',DataFrameSelector(cat_features)),\n",
    "    ('imputer',SimpleImputer(strategy='most_frequent')),\n",
    "    ('OneHot_encoder',OneHotEncoder(sparse=False))\n",
    "])\n",
    "\n",
    "bin_pipeline = Pipeline([\n",
    "    ('selector',DataFrameSelector(bin_features)),\n",
    "    ('boolean_conversion',MakeBooleanAnInteger()),\n",
    "    ('imputer',SimpleImputer(strategy='most_frequent')),\n",
    "    #('encoding',LabelEncoder()),\n",
    "])\n",
    "\n",
    "# df_reform_pipeline = Pipeline([\n",
    "#     ('reform_df', DataFrameReform(new_features_list))\n",
    "# ])\n",
    "\n",
    "#### create list of pipelines to include\n",
    "\n",
    "pipes_list = [\n",
    "    ('num_pipeline',num_pipeline),\n",
    "  ('cat_pipeline',cat_pipeline),\n",
    "#   ('bin_pipeline',bin_pipeline),\n",
    "#     ('df_reform_pipeline', df_reform_pipeline)\n",
    "]\n",
    "\n",
    "full_pipeline = FeatureUnion(transformer_list=pipes_list\n",
    ")\n",
    "\n",
    "\n",
    "X_trainT = full_pipeline.fit_transform(X_train,y_train)\n",
    "X_testT = full_pipeline.transform(X_test)"
   ]
  },
  {
   "cell_type": "code",
   "execution_count": 44,
   "metadata": {},
   "outputs": [
    {
     "data": {
      "text/plain": [
       "(2099, 14)"
      ]
     },
     "execution_count": 44,
     "metadata": {},
     "output_type": "execute_result"
    }
   ],
   "source": [
    "X_train.shape"
   ]
  },
  {
   "cell_type": "code",
   "execution_count": 45,
   "metadata": {},
   "outputs": [
    {
     "data": {
      "text/plain": [
       "(2099, 31)"
      ]
     },
     "execution_count": 45,
     "metadata": {},
     "output_type": "execute_result"
    }
   ],
   "source": [
    "X_trainT.shape"
   ]
  },
  {
   "cell_type": "code",
   "execution_count": 46,
   "metadata": {},
   "outputs": [],
   "source": [
    "def get_col_list_for_after_pipeline(X, num_features, cat_features, bin_features):\n",
    "    cat_features_new = []\n",
    "    #### get new names for cat_features - must do here, otherwise when call fit transform the cat_features_new is appedned too twice.\n",
    "#     print('TRANSFORM METHOD')\n",
    "    for col_name in cat_features:\n",
    "#         print('CAT FEATURES LOOP', col_name)\n",
    "        values_list = X[col_name].unique()\n",
    "        for value in values_list:\n",
    "            cat_features_new.append(col_name + '_' + str(value))\n",
    "#         print(cat_features_new)\n",
    "    \n",
    "    columns_list = num_features + cat_features_new + bin_features\n",
    "#     print(len(columns_list))\n",
    "    return(columns_list)\n",
    "\n",
    "new_features_list = get_col_list_for_after_pipeline(X_train, num_features, cat_features, bin_features)"
   ]
  },
  {
   "cell_type": "code",
   "execution_count": 47,
   "metadata": {},
   "outputs": [],
   "source": [
    "def reform_df(X, new_features_list):\n",
    "    return(pd.DataFrame(X, columns= new_features_list))\n",
    "\n",
    "X_trainT = reform_df(X_trainT, new_features_list)\n",
    "X_testT = reform_df(X_testT, new_features_list)"
   ]
  },
  {
   "cell_type": "code",
   "execution_count": 48,
   "metadata": {},
   "outputs": [
    {
     "data": {
      "text/plain": [
       "(365, 31)"
      ]
     },
     "execution_count": 48,
     "metadata": {},
     "output_type": "execute_result"
    }
   ],
   "source": [
    "X_testT.shape"
   ]
  },
  {
   "cell_type": "code",
   "execution_count": 49,
   "metadata": {},
   "outputs": [
    {
     "data": {
      "text/plain": [
       "(2099, 31)"
      ]
     },
     "execution_count": 49,
     "metadata": {},
     "output_type": "execute_result"
    }
   ],
   "source": [
    "X_trainT.shape"
   ]
  },
  {
   "cell_type": "code",
   "execution_count": 50,
   "metadata": {},
   "outputs": [
    {
     "data": {
      "text/plain": [
       "(365, 31)"
      ]
     },
     "execution_count": 50,
     "metadata": {},
     "output_type": "execute_result"
    }
   ],
   "source": [
    "X_testT.shape"
   ]
  },
  {
   "cell_type": "markdown",
   "metadata": {},
   "source": [
    "# Save preprocessed out as pkl"
   ]
  },
  {
   "cell_type": "code",
   "execution_count": 52,
   "metadata": {},
   "outputs": [],
   "source": [
    "def save_pickle_preprocessed_data(path, X_train, X_test, y_train, y_test):\n",
    "    \"\"\"\n",
    "    Take prepared data which has been split into Train/Test and has been scaled/blanks filled/...., and save to pickle files at specified location.\n",
    "    \n",
    "    Input\n",
    "    =====\n",
    "    path, str, to folder where data should be saved. Must end in /\n",
    "\n",
    "    X_train/X_test/y_train,/y_test, dataframes, conatining data.\n",
    "    \n",
    "    Ouput\n",
    "    =====\n",
    "    \n",
    "    \"\"\"\n",
    "    \n",
    "    #### create folder with versioned name etc.(future dev)\n",
    "    \n",
    "    pd.to_pickle(X_train, path + 'X_train.pkl')\n",
    "    pd.to_pickle(X_test, path + 'X_test.pkl')\n",
    "    pd.to_pickle(y_train, path + 'y_train.pkl')\n",
    "    pd.to_pickle(y_test, path + 'y_test.pkl')\n",
    "    \n",
    "    return\n",
    "\n",
    "save_pickle_preprocessed_data('../../data/processed/D2/', X_trainT, X_testT, y_train, y_test)"
   ]
  },
  {
   "cell_type": "markdown",
   "metadata": {},
   "source": [
    "NOTE: consider creating log for preprocessing information in order for repeatability in future."
   ]
  },
  {
   "cell_type": "code",
   "execution_count": null,
   "metadata": {},
   "outputs": [],
   "source": []
  },
  {
   "cell_type": "code",
   "execution_count": null,
   "metadata": {},
   "outputs": [],
   "source": []
  },
  {
   "cell_type": "code",
   "execution_count": null,
   "metadata": {},
   "outputs": [],
   "source": []
  },
  {
   "cell_type": "code",
   "execution_count": null,
   "metadata": {},
   "outputs": [],
   "source": []
  },
  {
   "cell_type": "code",
   "execution_count": null,
   "metadata": {},
   "outputs": [],
   "source": []
  }
 ],
 "metadata": {
  "kernelspec": {
   "display_name": "Python [conda env:EDclass]",
   "language": "python",
   "name": "conda-env-EDclass-py"
  },
  "language_info": {
   "codemirror_mode": {
    "name": "ipython",
    "version": 3
   },
   "file_extension": ".py",
   "mimetype": "text/x-python",
   "name": "python",
   "nbconvert_exporter": "python",
   "pygments_lexer": "ipython3",
   "version": "3.6.7"
  }
 },
 "nbformat": 4,
 "nbformat_minor": 2
}
