{
 "cells": [
  {
   "cell_type": "code",
   "execution_count": 1,
   "metadata": {},
   "outputs": [],
   "source": [
    "import pandas as pd"
   ]
  },
  {
   "cell_type": "code",
   "execution_count": 3,
   "metadata": {},
   "outputs": [],
   "source": [
    "log = pd.read_pickle('./../data/output/model_log.pkl')"
   ]
  },
  {
   "cell_type": "code",
   "execution_count": 4,
   "metadata": {},
   "outputs": [
    {
     "data": {
      "text/html": [
       "<div>\n",
       "<style scoped>\n",
       "    .dataframe tbody tr th:only-of-type {\n",
       "        vertical-align: middle;\n",
       "    }\n",
       "\n",
       "    .dataframe tbody tr th {\n",
       "        vertical-align: top;\n",
       "    }\n",
       "\n",
       "    .dataframe thead th {\n",
       "        text-align: right;\n",
       "    }\n",
       "</style>\n",
       "<table border=\"1\" class=\"dataframe\">\n",
       "  <thead>\n",
       "    <tr style=\"text-align: right;\">\n",
       "      <th></th>\n",
       "      <th>dataV</th>\n",
       "      <th>model</th>\n",
       "      <th>gridsearch</th>\n",
       "      <th>mean_train</th>\n",
       "      <th>mean_valid</th>\n",
       "      <th>notes</th>\n",
       "    </tr>\n",
       "  </thead>\n",
       "  <tbody>\n",
       "    <tr>\n",
       "      <th>0</th>\n",
       "      <td>v1</td>\n",
       "      <td>LogisticRegression(C=0.3, class_weight='balanc...</td>\n",
       "      <td>mean_fit_time  std_fit_time  mean_score_tim...</td>\n",
       "      <td>[0.629]</td>\n",
       "      <td>[0.52]</td>\n",
       "      <td>Initial model which was built on first edition...</td>\n",
       "    </tr>\n",
       "    <tr>\n",
       "      <th>1</th>\n",
       "      <td>v1</td>\n",
       "      <td>(DecisionTreeClassifier(class_weight=None, cri...</td>\n",
       "      <td>mean_fit_time  std_fit_time  mean_score_ti...</td>\n",
       "      <td>[0.685]</td>\n",
       "      <td>[0.419]</td>\n",
       "      <td>Random Forest 1st attempt with v1.</td>\n",
       "    </tr>\n",
       "    <tr>\n",
       "      <th>2</th>\n",
       "      <td>v1</td>\n",
       "      <td>XGBClassifier(base_score=0.5, booster='gbtree'...</td>\n",
       "      <td>mean_fit_time  std_fit_time  mean_score_tim...</td>\n",
       "      <td>[0.829]</td>\n",
       "      <td>[0.439]</td>\n",
       "      <td>V1 attempt with XGBOOST. KFOLD selection of fe...</td>\n",
       "    </tr>\n",
       "    <tr>\n",
       "      <th>3</th>\n",
       "      <td>D2</td>\n",
       "      <td>RandomForestClassifier(bootstrap=True, class_w...</td>\n",
       "      <td>mean_fit_time  std_fit_time  mean_score_tim...</td>\n",
       "      <td>[0.64]</td>\n",
       "      <td>[0.454]</td>\n",
       "      <td>Model uses all derivative features from previo...</td>\n",
       "    </tr>\n",
       "    <tr>\n",
       "      <th>4</th>\n",
       "      <td>D2</td>\n",
       "      <td>LogisticRegression(C=1.0, class_weight='balanc...</td>\n",
       "      <td>mean_fit_time  std_fit_time  mean_score_ti...</td>\n",
       "      <td>[0.489]</td>\n",
       "      <td>[0.445]</td>\n",
       "      <td>Model uses all derivative features from previo...</td>\n",
       "    </tr>\n",
       "    <tr>\n",
       "      <th>5</th>\n",
       "      <td>D2</td>\n",
       "      <td>LogisticRegression(C=1.0, class_weight='balanc...</td>\n",
       "      <td>mean_fit_time  std_fit_time  mean_score_ti...</td>\n",
       "      <td>[0.515]</td>\n",
       "      <td>[0.448]</td>\n",
       "      <td>only target features from previous day + der+l...</td>\n",
       "    </tr>\n",
       "    <tr>\n",
       "      <th>6</th>\n",
       "      <td>D2</td>\n",
       "      <td>LogisticRegression(C=1.0, class_weight='balanc...</td>\n",
       "      <td>mean_fit_time  std_fit_time  mean_score_tim...</td>\n",
       "      <td>[0.552]</td>\n",
       "      <td>[0.486]</td>\n",
       "      <td>Uses all features + derivatives from previous ...</td>\n",
       "    </tr>\n",
       "    <tr>\n",
       "      <th>7</th>\n",
       "      <td>D2</td>\n",
       "      <td>LogisticRegression(C=1.0, class_weight='balanc...</td>\n",
       "      <td>mean_fit_time  std_fit_time  mean_score_tim...</td>\n",
       "      <td>[0.577]</td>\n",
       "      <td>[0.494]</td>\n",
       "      <td>Uses all features + derivatives from previous ...</td>\n",
       "    </tr>\n",
       "  </tbody>\n",
       "</table>\n",
       "</div>"
      ],
      "text/plain": [
       "  dataV                                              model  \\\n",
       "0    v1  LogisticRegression(C=0.3, class_weight='balanc...   \n",
       "1    v1  (DecisionTreeClassifier(class_weight=None, cri...   \n",
       "2    v1  XGBClassifier(base_score=0.5, booster='gbtree'...   \n",
       "3    D2  RandomForestClassifier(bootstrap=True, class_w...   \n",
       "4    D2  LogisticRegression(C=1.0, class_weight='balanc...   \n",
       "5    D2  LogisticRegression(C=1.0, class_weight='balanc...   \n",
       "6    D2  LogisticRegression(C=1.0, class_weight='balanc...   \n",
       "7    D2  LogisticRegression(C=1.0, class_weight='balanc...   \n",
       "\n",
       "                                          gridsearch mean_train mean_valid  \\\n",
       "0     mean_fit_time  std_fit_time  mean_score_tim...    [0.629]     [0.52]   \n",
       "1      mean_fit_time  std_fit_time  mean_score_ti...    [0.685]    [0.419]   \n",
       "2     mean_fit_time  std_fit_time  mean_score_tim...    [0.829]    [0.439]   \n",
       "3     mean_fit_time  std_fit_time  mean_score_tim...     [0.64]    [0.454]   \n",
       "4      mean_fit_time  std_fit_time  mean_score_ti...    [0.489]    [0.445]   \n",
       "5      mean_fit_time  std_fit_time  mean_score_ti...    [0.515]    [0.448]   \n",
       "6     mean_fit_time  std_fit_time  mean_score_tim...    [0.552]    [0.486]   \n",
       "7     mean_fit_time  std_fit_time  mean_score_tim...    [0.577]    [0.494]   \n",
       "\n",
       "                                               notes  \n",
       "0  Initial model which was built on first edition...  \n",
       "1                 Random Forest 1st attempt with v1.  \n",
       "2  V1 attempt with XGBOOST. KFOLD selection of fe...  \n",
       "3  Model uses all derivative features from previo...  \n",
       "4  Model uses all derivative features from previo...  \n",
       "5  only target features from previous day + der+l...  \n",
       "6  Uses all features + derivatives from previous ...  \n",
       "7  Uses all features + derivatives from previous ...  "
      ]
     },
     "execution_count": 4,
     "metadata": {},
     "output_type": "execute_result"
    }
   ],
   "source": [
    "log"
   ]
  },
  {
   "cell_type": "code",
   "execution_count": 8,
   "metadata": {},
   "outputs": [
    {
     "data": {
      "text/plain": [
       "'Uses all features + derivatives from previous day. l2 pen iterated over all variables (rm coef < 0.05 or 1) to reduce number of vars. in D2_daily_data_to_model_FULLPIPELINE_find best features.ipynb.'"
      ]
     },
     "execution_count": 8,
     "metadata": {},
     "output_type": "execute_result"
    }
   ],
   "source": [
    "log.iloc[7].notes"
   ]
  },
  {
   "cell_type": "code",
   "execution_count": 9,
   "metadata": {},
   "outputs": [
    {
     "data": {
      "text/plain": [
       "'Initial model which was built on first edition of data as basline.'"
      ]
     },
     "execution_count": 9,
     "metadata": {},
     "output_type": "execute_result"
    }
   ],
   "source": [
    "log.iloc[0].notes"
   ]
  },
  {
   "cell_type": "code",
   "execution_count": null,
   "metadata": {},
   "outputs": [],
   "source": []
  }
 ],
 "metadata": {
  "kernelspec": {
   "display_name": "Python [conda env:EDclass]",
   "language": "python",
   "name": "conda-env-EDclass-py"
  },
  "language_info": {
   "codemirror_mode": {
    "name": "ipython",
    "version": 3
   },
   "file_extension": ".py",
   "mimetype": "text/x-python",
   "name": "python",
   "nbconvert_exporter": "python",
   "pygments_lexer": "ipython3",
   "version": "3.6.7"
  }
 },
 "nbformat": 4,
 "nbformat_minor": 2
}
