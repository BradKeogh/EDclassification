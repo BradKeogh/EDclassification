{
 "cells": [
  {
   "cell_type": "code",
   "execution_count": 1,
   "metadata": {},
   "outputs": [],
   "source": [
    "import pandas as pd\n",
    "import numpy as np"
   ]
  },
  {
   "cell_type": "code",
   "execution_count": 2,
   "metadata": {},
   "outputs": [],
   "source": [
    "import src"
   ]
  },
  {
   "cell_type": "code",
   "execution_count": 3,
   "metadata": {},
   "outputs": [
    {
     "data": {
      "text/plain": [
       "'C:\\\\Users\\\\bjk1y13\\\\OneDrive - University of Southampton\\\\MH028_UHS_Weather\\\\4_Analysis\\\\EDclassification\\\\notebooks'"
      ]
     },
     "execution_count": 3,
     "metadata": {},
     "output_type": "execute_result"
    }
   ],
   "source": [
    "%pwd"
   ]
  },
  {
   "cell_type": "code",
   "execution_count": 4,
   "metadata": {},
   "outputs": [],
   "source": [
    "def load_pickle_preprocessed_data(path):\n",
    "    \"\"\"\n",
    "    Load pickled data for modelling.\n",
    "    \n",
    "    Input\n",
    "    =====\n",
    "    path, str, to fodler where data is located.\n",
    "    \n",
    "    Output\n",
    "    ======\n",
    "    X_train,dataframe, \n",
    "    X_test,dataframe, \n",
    "    y_train,dataframe, \n",
    "    y_test, dataframe, \n",
    "    \n",
    "    \"\"\"\n",
    "    #### load each data file\n",
    "    X_train = pd.read_pickle(path + 'X_train.pkl')\n",
    "    X_test = pd.read_pickle(path + 'X_test.pkl')\n",
    "    y_train = pd.read_pickle(path + 'y_train.pkl')\n",
    "    y_test = pd.read_pickle(path + 'y_test.pkl')\n",
    "    \n",
    "    return(X_train, X_test, y_train, y_test)\n",
    "\n",
    "X_train, X_test, y_train, y_test = load_pickle_preprocessed_data('../data/processed/v1/')"
   ]
  },
  {
   "cell_type": "code",
   "execution_count": 5,
   "metadata": {},
   "outputs": [
    {
     "data": {
      "text/plain": [
       "(1654, 52)"
      ]
     },
     "execution_count": 5,
     "metadata": {},
     "output_type": "execute_result"
    }
   ],
   "source": [
    "X_train.shape"
   ]
  },
  {
   "cell_type": "code",
   "execution_count": 6,
   "metadata": {},
   "outputs": [
    {
     "data": {
      "text/html": [
       "<div>\n",
       "<style scoped>\n",
       "    .dataframe tbody tr th:only-of-type {\n",
       "        vertical-align: middle;\n",
       "    }\n",
       "\n",
       "    .dataframe tbody tr th {\n",
       "        vertical-align: top;\n",
       "    }\n",
       "\n",
       "    .dataframe thead th {\n",
       "        text-align: right;\n",
       "    }\n",
       "</style>\n",
       "<table border=\"1\" class=\"dataframe\">\n",
       "  <thead>\n",
       "    <tr style=\"text-align: right;\">\n",
       "      <th></th>\n",
       "      <th>EDoccMAX_prevday</th>\n",
       "      <th>callender_DAY(first_EDatt_time)</th>\n",
       "      <th>EDmorn_COUNT(EDatt)</th>\n",
       "      <th>EDmorn_MEAN(EDatt.wait_time_total)</th>\n",
       "      <th>EDmorn_MEAN(EDatt.flag_specreq)</th>\n",
       "      <th>EDmorn_MEAN(EDatt.age)</th>\n",
       "      <th>EDmorn_MEAN(EDatt.flag_admission)</th>\n",
       "      <th>EDmorn_STD(EDatt.wait_time_total)</th>\n",
       "      <th>EDmorn_STD(EDatt.flag_specreq)</th>\n",
       "      <th>EDmorn_STD(EDatt.age)</th>\n",
       "      <th>...</th>\n",
       "      <th>callender_MONTH(first_EDatt_time)_4</th>\n",
       "      <th>callender_MONTH(first_EDatt_time)_5</th>\n",
       "      <th>callender_MONTH(first_EDatt_time)_6</th>\n",
       "      <th>callender_MONTH(first_EDatt_time)_7</th>\n",
       "      <th>callender_MONTH(first_EDatt_time)_8</th>\n",
       "      <th>callender_MONTH(first_EDatt_time)_9</th>\n",
       "      <th>callender_MONTH(first_EDatt_time)_10</th>\n",
       "      <th>callender_MONTH(first_EDatt_time)_11</th>\n",
       "      <th>callender_MONTH(first_EDatt_time)_12</th>\n",
       "      <th>callender_WEEKEND(first_EDatt_time)</th>\n",
       "    </tr>\n",
       "  </thead>\n",
       "  <tbody>\n",
       "    <tr>\n",
       "      <th>0</th>\n",
       "      <td>-0.452744</td>\n",
       "      <td>-1.552923</td>\n",
       "      <td>-1.520733</td>\n",
       "      <td>-2.575791</td>\n",
       "      <td>0.77684</td>\n",
       "      <td>0.788307</td>\n",
       "      <td>-1.017596</td>\n",
       "      <td>-1.371472</td>\n",
       "      <td>-0.44764</td>\n",
       "      <td>0.724071</td>\n",
       "      <td>...</td>\n",
       "      <td>0.0</td>\n",
       "      <td>0.0</td>\n",
       "      <td>0.0</td>\n",
       "      <td>0.0</td>\n",
       "      <td>0.0</td>\n",
       "      <td>0.0</td>\n",
       "      <td>0.0</td>\n",
       "      <td>0.0</td>\n",
       "      <td>0.0</td>\n",
       "      <td>0.0</td>\n",
       "    </tr>\n",
       "  </tbody>\n",
       "</table>\n",
       "<p>1 rows × 52 columns</p>\n",
       "</div>"
      ],
      "text/plain": [
       "   EDoccMAX_prevday  callender_DAY(first_EDatt_time)  EDmorn_COUNT(EDatt)  \\\n",
       "0         -0.452744                        -1.552923            -1.520733   \n",
       "\n",
       "   EDmorn_MEAN(EDatt.wait_time_total)  EDmorn_MEAN(EDatt.flag_specreq)  \\\n",
       "0                           -2.575791                          0.77684   \n",
       "\n",
       "   EDmorn_MEAN(EDatt.age)  EDmorn_MEAN(EDatt.flag_admission)  \\\n",
       "0                0.788307                          -1.017596   \n",
       "\n",
       "   EDmorn_STD(EDatt.wait_time_total)  EDmorn_STD(EDatt.flag_specreq)  \\\n",
       "0                          -1.371472                        -0.44764   \n",
       "\n",
       "   EDmorn_STD(EDatt.age)  ...  callender_MONTH(first_EDatt_time)_4  \\\n",
       "0               0.724071  ...                                  0.0   \n",
       "\n",
       "   callender_MONTH(first_EDatt_time)_5  callender_MONTH(first_EDatt_time)_6  \\\n",
       "0                                  0.0                                  0.0   \n",
       "\n",
       "   callender_MONTH(first_EDatt_time)_7  callender_MONTH(first_EDatt_time)_8  \\\n",
       "0                                  0.0                                  0.0   \n",
       "\n",
       "   callender_MONTH(first_EDatt_time)_9  callender_MONTH(first_EDatt_time)_10  \\\n",
       "0                                  0.0                                   0.0   \n",
       "\n",
       "   callender_MONTH(first_EDatt_time)_11  callender_MONTH(first_EDatt_time)_12  \\\n",
       "0                                   0.0                                   0.0   \n",
       "\n",
       "   callender_WEEKEND(first_EDatt_time)  \n",
       "0                                  0.0  \n",
       "\n",
       "[1 rows x 52 columns]"
      ]
     },
     "execution_count": 6,
     "metadata": {},
     "output_type": "execute_result"
    }
   ],
   "source": [
    "X_train.head(1)"
   ]
  },
  {
   "cell_type": "markdown",
   "metadata": {},
   "source": [
    "# Instantiate model"
   ]
  },
  {
   "cell_type": "code",
   "execution_count": null,
   "metadata": {},
   "outputs": [],
   "source": []
  },
  {
   "cell_type": "markdown",
   "metadata": {},
   "source": [
    "# Run CV gridsearch"
   ]
  },
  {
   "cell_type": "code",
   "execution_count": 7,
   "metadata": {},
   "outputs": [],
   "source": [
    "from sklearn.metrics import classification_report,precision_score, recall_score, confusion_matrix, accuracy_score\n",
    "from sklearn.metrics import precision_recall_curve,roc_curve\n",
    "from sklearn.model_selection import TimeSeriesSplit\n",
    "\n",
    "from sklearn.model_selection import cross_val_predict, cross_val_score, GridSearchCV\n",
    "\n",
    "\n",
    "\n",
    "def find_best_model(model, grid, Xdata, ydata, plot_label):\n",
    "    \"\"\"does gridsearch for model and plots result from \"\"\"\n",
    "    my_cv = TimeSeriesSplit(n_splits=5).split(Xdata) # 5 chosen as gives roughly 1 year groups for each fold\n",
    "    grid_search = GridSearchCV(model,grid,scoring='f1',cv=my_cv,return_train_score=True)\n",
    "    grid_search.fit(Xdata,ydata)\n",
    "    model = grid_search.best_estimator_\n",
    "    print('CV MODEL RESULTS')\n",
    "    print(grid_search.best_params_)\n",
    "    print(pd.DataFrame(grid_search.cv_results_).query('rank_test_score == 1')[['mean_test_score','mean_train_score']])\n",
    "    \n",
    "#     plot_model_perf(ydata,Xdata,model,plot_label)\n",
    "\n",
    "    \n",
    "    return(grid_search)\n",
    "    "
   ]
  },
  {
   "cell_type": "code",
   "execution_count": 8,
   "metadata": {},
   "outputs": [],
   "source": [
    "import xgboost as xgb"
   ]
  },
  {
   "cell_type": "code",
   "execution_count": 16,
   "metadata": {},
   "outputs": [],
   "source": [
    "from scipy.stats import uniform, randint"
   ]
  },
  {
   "cell_type": "code",
   "execution_count": 15,
   "metadata": {},
   "outputs": [
    {
     "data": {
      "text/plain": [
       "<scipy.stats._distn_infrastructure.rv_frozen at 0x22599cca080>"
      ]
     },
     "execution_count": 15,
     "metadata": {},
     "output_type": "execute_result"
    }
   ],
   "source": [
    "uniform(0,0.5)"
   ]
  },
  {
   "cell_type": "code",
   "execution_count": null,
   "metadata": {},
   "outputs": [],
   "source": [
    "    \"colsample_bytree\": uniform(0.7, 0.3),\n",
    "    \"gamma\": uniform(0, 0.5),\n",
    "    \"learning_rate\": uniform(0.03, 0.3), # default 0.1 \n",
    "    \"max_depth\": randint(2, 6), # default 3\n",
    "    \"n_estimators\": randint(100, 150), # default 100\n",
    "    \"subsample\": uniform(0.6, 0.4)"
   ]
  },
  {
   "cell_type": "code",
   "execution_count": 21,
   "metadata": {},
   "outputs": [
    {
     "name": "stdout",
     "output_type": "stream",
     "text": [
      "CV MODEL RESULTS\n",
      "{'gamma': 0, 'max_depth': 4, 'n_estimators': 150}\n",
      "    mean_test_score  mean_train_score\n",
      "11         0.450341               1.0\n"
     ]
    }
   ],
   "source": [
    "xgb_clf = xgb.XGBClassifier()\n",
    "\n",
    "# grid = {\n",
    "#     \"colsample_bytree\": uniform(0.07, 0.7),\n",
    "#     \"gamma\": uniform(0, 0.5),\n",
    "#     \"learning_rate\": uniform(0.03, 0.3), # default 0.1 \n",
    "#     \"max_depth\": randint(2, 6), # default 3\n",
    "#     \"n_estimators\": randint(100, 150), # default 100\n",
    "#     \"subsample\": uniform(0.6, 0.4)\n",
    "# }\n",
    "\n",
    "grid = {\n",
    "    \"gamma\": np.arange(0,10),\n",
    "    \"max_depth\": np.arange(1,6),\n",
    "    \"n_estimators\": [50,100,150],\n",
    "}\n",
    "\n",
    "grid_search = find_best_model(xgb_clf,grid,X_train,y_train,'CV set')\n",
    "svm_clf = grid_search.best_estimator_\n",
    "\n",
    "# grid_search.fit(X_trainT,y_train)\n",
    "# plot_model_perf(y_test,X_testT,grid_search.best_estimator_,'Test')"
   ]
  },
  {
   "cell_type": "code",
   "execution_count": 24,
   "metadata": {},
   "outputs": [
    {
     "data": {
      "text/html": [
       "<div>\n",
       "<style scoped>\n",
       "    .dataframe tbody tr th:only-of-type {\n",
       "        vertical-align: middle;\n",
       "    }\n",
       "\n",
       "    .dataframe tbody tr th {\n",
       "        vertical-align: top;\n",
       "    }\n",
       "\n",
       "    .dataframe thead th {\n",
       "        text-align: right;\n",
       "    }\n",
       "</style>\n",
       "<table border=\"1\" class=\"dataframe\">\n",
       "  <thead>\n",
       "    <tr style=\"text-align: right;\">\n",
       "      <th></th>\n",
       "      <th>mean_fit_time</th>\n",
       "      <th>std_fit_time</th>\n",
       "      <th>mean_score_time</th>\n",
       "      <th>std_score_time</th>\n",
       "      <th>param_gamma</th>\n",
       "      <th>param_max_depth</th>\n",
       "      <th>param_n_estimators</th>\n",
       "      <th>params</th>\n",
       "      <th>split0_test_score</th>\n",
       "      <th>split1_test_score</th>\n",
       "      <th>...</th>\n",
       "      <th>mean_test_score</th>\n",
       "      <th>std_test_score</th>\n",
       "      <th>rank_test_score</th>\n",
       "      <th>split0_train_score</th>\n",
       "      <th>split1_train_score</th>\n",
       "      <th>split2_train_score</th>\n",
       "      <th>split3_train_score</th>\n",
       "      <th>split4_train_score</th>\n",
       "      <th>mean_train_score</th>\n",
       "      <th>std_train_score</th>\n",
       "    </tr>\n",
       "  </thead>\n",
       "  <tbody>\n",
       "    <tr>\n",
       "      <th>5</th>\n",
       "      <td>0.227591</td>\n",
       "      <td>0.105819</td>\n",
       "      <td>0.003790</td>\n",
       "      <td>0.001163</td>\n",
       "      <td>0</td>\n",
       "      <td>2</td>\n",
       "      <td>150</td>\n",
       "      <td>{'gamma': 0, 'max_depth': 2, 'n_estimators': 150}</td>\n",
       "      <td>0.368421</td>\n",
       "      <td>0.371429</td>\n",
       "      <td>...</td>\n",
       "      <td>0.423161</td>\n",
       "      <td>0.073145</td>\n",
       "      <td>11</td>\n",
       "      <td>1.000000</td>\n",
       "      <td>0.920000</td>\n",
       "      <td>0.848214</td>\n",
       "      <td>0.785965</td>\n",
       "      <td>0.741176</td>\n",
       "      <td>0.859071</td>\n",
       "      <td>0.092666</td>\n",
       "    </tr>\n",
       "    <tr>\n",
       "      <th>7</th>\n",
       "      <td>0.196084</td>\n",
       "      <td>0.075580</td>\n",
       "      <td>0.003790</td>\n",
       "      <td>0.000975</td>\n",
       "      <td>0</td>\n",
       "      <td>3</td>\n",
       "      <td>100</td>\n",
       "      <td>{'gamma': 0, 'max_depth': 3, 'n_estimators': 100}</td>\n",
       "      <td>0.338028</td>\n",
       "      <td>0.432432</td>\n",
       "      <td>...</td>\n",
       "      <td>0.421582</td>\n",
       "      <td>0.057089</td>\n",
       "      <td>12</td>\n",
       "      <td>1.000000</td>\n",
       "      <td>0.993711</td>\n",
       "      <td>0.932773</td>\n",
       "      <td>0.851351</td>\n",
       "      <td>0.846797</td>\n",
       "      <td>0.924926</td>\n",
       "      <td>0.066252</td>\n",
       "    </tr>\n",
       "    <tr>\n",
       "      <th>8</th>\n",
       "      <td>0.326525</td>\n",
       "      <td>0.160145</td>\n",
       "      <td>0.004580</td>\n",
       "      <td>0.001187</td>\n",
       "      <td>0</td>\n",
       "      <td>3</td>\n",
       "      <td>150</td>\n",
       "      <td>{'gamma': 0, 'max_depth': 3, 'n_estimators': 150}</td>\n",
       "      <td>0.314286</td>\n",
       "      <td>0.453333</td>\n",
       "      <td>...</td>\n",
       "      <td>0.434856</td>\n",
       "      <td>0.073661</td>\n",
       "      <td>4</td>\n",
       "      <td>1.000000</td>\n",
       "      <td>1.000000</td>\n",
       "      <td>0.988048</td>\n",
       "      <td>0.929936</td>\n",
       "      <td>0.927083</td>\n",
       "      <td>0.969013</td>\n",
       "      <td>0.033370</td>\n",
       "    </tr>\n",
       "    <tr>\n",
       "      <th>10</th>\n",
       "      <td>0.277268</td>\n",
       "      <td>0.096431</td>\n",
       "      <td>0.004189</td>\n",
       "      <td>0.000976</td>\n",
       "      <td>0</td>\n",
       "      <td>4</td>\n",
       "      <td>100</td>\n",
       "      <td>{'gamma': 0, 'max_depth': 4, 'n_estimators': 100}</td>\n",
       "      <td>0.382353</td>\n",
       "      <td>0.469136</td>\n",
       "      <td>...</td>\n",
       "      <td>0.428409</td>\n",
       "      <td>0.080078</td>\n",
       "      <td>8</td>\n",
       "      <td>1.000000</td>\n",
       "      <td>1.000000</td>\n",
       "      <td>1.000000</td>\n",
       "      <td>0.981818</td>\n",
       "      <td>0.972569</td>\n",
       "      <td>0.990877</td>\n",
       "      <td>0.011549</td>\n",
       "    </tr>\n",
       "    <tr>\n",
       "      <th>11</th>\n",
       "      <td>0.473152</td>\n",
       "      <td>0.189001</td>\n",
       "      <td>0.004389</td>\n",
       "      <td>0.001017</td>\n",
       "      <td>0</td>\n",
       "      <td>4</td>\n",
       "      <td>150</td>\n",
       "      <td>{'gamma': 0, 'max_depth': 4, 'n_estimators': 150}</td>\n",
       "      <td>0.400000</td>\n",
       "      <td>0.475000</td>\n",
       "      <td>...</td>\n",
       "      <td>0.450341</td>\n",
       "      <td>0.073571</td>\n",
       "      <td>1</td>\n",
       "      <td>1.000000</td>\n",
       "      <td>1.000000</td>\n",
       "      <td>1.000000</td>\n",
       "      <td>1.000000</td>\n",
       "      <td>1.000000</td>\n",
       "      <td>1.000000</td>\n",
       "      <td>0.000000</td>\n",
       "    </tr>\n",
       "    <tr>\n",
       "      <th>20</th>\n",
       "      <td>0.172774</td>\n",
       "      <td>0.062987</td>\n",
       "      <td>0.002983</td>\n",
       "      <td>0.000617</td>\n",
       "      <td>1</td>\n",
       "      <td>2</td>\n",
       "      <td>150</td>\n",
       "      <td>{'gamma': 1, 'max_depth': 2, 'n_estimators': 150}</td>\n",
       "      <td>0.347826</td>\n",
       "      <td>0.400000</td>\n",
       "      <td>...</td>\n",
       "      <td>0.423762</td>\n",
       "      <td>0.068692</td>\n",
       "      <td>10</td>\n",
       "      <td>0.988506</td>\n",
       "      <td>0.913907</td>\n",
       "      <td>0.834081</td>\n",
       "      <td>0.787456</td>\n",
       "      <td>0.729412</td>\n",
       "      <td>0.850672</td>\n",
       "      <td>0.091621</td>\n",
       "    </tr>\n",
       "    <tr>\n",
       "      <th>22</th>\n",
       "      <td>0.162562</td>\n",
       "      <td>0.060095</td>\n",
       "      <td>0.003182</td>\n",
       "      <td>0.000380</td>\n",
       "      <td>1</td>\n",
       "      <td>3</td>\n",
       "      <td>100</td>\n",
       "      <td>{'gamma': 1, 'max_depth': 3, 'n_estimators': 100}</td>\n",
       "      <td>0.382353</td>\n",
       "      <td>0.426667</td>\n",
       "      <td>...</td>\n",
       "      <td>0.434820</td>\n",
       "      <td>0.054423</td>\n",
       "      <td>5</td>\n",
       "      <td>0.988506</td>\n",
       "      <td>0.987342</td>\n",
       "      <td>0.923729</td>\n",
       "      <td>0.847458</td>\n",
       "      <td>0.837079</td>\n",
       "      <td>0.916823</td>\n",
       "      <td>0.065314</td>\n",
       "    </tr>\n",
       "    <tr>\n",
       "      <th>24</th>\n",
       "      <td>0.114511</td>\n",
       "      <td>0.042238</td>\n",
       "      <td>0.002584</td>\n",
       "      <td>0.000782</td>\n",
       "      <td>1</td>\n",
       "      <td>4</td>\n",
       "      <td>50</td>\n",
       "      <td>{'gamma': 1, 'max_depth': 4, 'n_estimators': 50}</td>\n",
       "      <td>0.382353</td>\n",
       "      <td>0.426667</td>\n",
       "      <td>...</td>\n",
       "      <td>0.426361</td>\n",
       "      <td>0.051304</td>\n",
       "      <td>9</td>\n",
       "      <td>0.988506</td>\n",
       "      <td>0.967742</td>\n",
       "      <td>0.914530</td>\n",
       "      <td>0.865772</td>\n",
       "      <td>0.833803</td>\n",
       "      <td>0.914070</td>\n",
       "      <td>0.058647</td>\n",
       "    </tr>\n",
       "    <tr>\n",
       "      <th>25</th>\n",
       "      <td>0.217844</td>\n",
       "      <td>0.089106</td>\n",
       "      <td>0.003193</td>\n",
       "      <td>0.000397</td>\n",
       "      <td>1</td>\n",
       "      <td>4</td>\n",
       "      <td>100</td>\n",
       "      <td>{'gamma': 1, 'max_depth': 4, 'n_estimators': 100}</td>\n",
       "      <td>0.358209</td>\n",
       "      <td>0.405405</td>\n",
       "      <td>...</td>\n",
       "      <td>0.421035</td>\n",
       "      <td>0.047520</td>\n",
       "      <td>13</td>\n",
       "      <td>0.988506</td>\n",
       "      <td>0.993711</td>\n",
       "      <td>0.996047</td>\n",
       "      <td>0.978723</td>\n",
       "      <td>0.962217</td>\n",
       "      <td>0.983841</td>\n",
       "      <td>0.012345</td>\n",
       "    </tr>\n",
       "    <tr>\n",
       "      <th>28</th>\n",
       "      <td>0.282063</td>\n",
       "      <td>0.106784</td>\n",
       "      <td>0.003401</td>\n",
       "      <td>0.000815</td>\n",
       "      <td>1</td>\n",
       "      <td>5</td>\n",
       "      <td>100</td>\n",
       "      <td>{'gamma': 1, 'max_depth': 5, 'n_estimators': 100}</td>\n",
       "      <td>0.388060</td>\n",
       "      <td>0.410256</td>\n",
       "      <td>...</td>\n",
       "      <td>0.440285</td>\n",
       "      <td>0.040855</td>\n",
       "      <td>2</td>\n",
       "      <td>0.988506</td>\n",
       "      <td>0.993711</td>\n",
       "      <td>1.000000</td>\n",
       "      <td>0.990991</td>\n",
       "      <td>0.990196</td>\n",
       "      <td>0.992681</td>\n",
       "      <td>0.004027</td>\n",
       "    </tr>\n",
       "    <tr>\n",
       "      <th>29</th>\n",
       "      <td>0.394745</td>\n",
       "      <td>0.157299</td>\n",
       "      <td>0.003391</td>\n",
       "      <td>0.000489</td>\n",
       "      <td>1</td>\n",
       "      <td>5</td>\n",
       "      <td>150</td>\n",
       "      <td>{'gamma': 1, 'max_depth': 5, 'n_estimators': 150}</td>\n",
       "      <td>0.388060</td>\n",
       "      <td>0.410256</td>\n",
       "      <td>...</td>\n",
       "      <td>0.440285</td>\n",
       "      <td>0.040855</td>\n",
       "      <td>2</td>\n",
       "      <td>0.988506</td>\n",
       "      <td>0.993711</td>\n",
       "      <td>1.000000</td>\n",
       "      <td>0.990991</td>\n",
       "      <td>0.990196</td>\n",
       "      <td>0.992681</td>\n",
       "      <td>0.004027</td>\n",
       "    </tr>\n",
       "    <tr>\n",
       "      <th>37</th>\n",
       "      <td>0.168367</td>\n",
       "      <td>0.064599</td>\n",
       "      <td>0.003182</td>\n",
       "      <td>0.000380</td>\n",
       "      <td>2</td>\n",
       "      <td>3</td>\n",
       "      <td>100</td>\n",
       "      <td>{'gamma': 2, 'max_depth': 3, 'n_estimators': 100}</td>\n",
       "      <td>0.411765</td>\n",
       "      <td>0.388889</td>\n",
       "      <td>...</td>\n",
       "      <td>0.430566</td>\n",
       "      <td>0.066722</td>\n",
       "      <td>7</td>\n",
       "      <td>0.942529</td>\n",
       "      <td>0.913907</td>\n",
       "      <td>0.849558</td>\n",
       "      <td>0.836735</td>\n",
       "      <td>0.824859</td>\n",
       "      <td>0.873517</td>\n",
       "      <td>0.046236</td>\n",
       "    </tr>\n",
       "    <tr>\n",
       "      <th>38</th>\n",
       "      <td>0.236976</td>\n",
       "      <td>0.089906</td>\n",
       "      <td>0.002783</td>\n",
       "      <td>0.000731</td>\n",
       "      <td>2</td>\n",
       "      <td>3</td>\n",
       "      <td>150</td>\n",
       "      <td>{'gamma': 2, 'max_depth': 3, 'n_estimators': 150}</td>\n",
       "      <td>0.411765</td>\n",
       "      <td>0.388889</td>\n",
       "      <td>...</td>\n",
       "      <td>0.431605</td>\n",
       "      <td>0.066356</td>\n",
       "      <td>6</td>\n",
       "      <td>0.942529</td>\n",
       "      <td>0.913907</td>\n",
       "      <td>0.849558</td>\n",
       "      <td>0.836735</td>\n",
       "      <td>0.824859</td>\n",
       "      <td>0.873517</td>\n",
       "      <td>0.046236</td>\n",
       "    </tr>\n",
       "  </tbody>\n",
       "</table>\n",
       "<p>13 rows × 23 columns</p>\n",
       "</div>"
      ],
      "text/plain": [
       "    mean_fit_time  std_fit_time  mean_score_time  std_score_time param_gamma  \\\n",
       "5        0.227591      0.105819         0.003790        0.001163           0   \n",
       "7        0.196084      0.075580         0.003790        0.000975           0   \n",
       "8        0.326525      0.160145         0.004580        0.001187           0   \n",
       "10       0.277268      0.096431         0.004189        0.000976           0   \n",
       "11       0.473152      0.189001         0.004389        0.001017           0   \n",
       "20       0.172774      0.062987         0.002983        0.000617           1   \n",
       "22       0.162562      0.060095         0.003182        0.000380           1   \n",
       "24       0.114511      0.042238         0.002584        0.000782           1   \n",
       "25       0.217844      0.089106         0.003193        0.000397           1   \n",
       "28       0.282063      0.106784         0.003401        0.000815           1   \n",
       "29       0.394745      0.157299         0.003391        0.000489           1   \n",
       "37       0.168367      0.064599         0.003182        0.000380           2   \n",
       "38       0.236976      0.089906         0.002783        0.000731           2   \n",
       "\n",
       "   param_max_depth param_n_estimators  \\\n",
       "5                2                150   \n",
       "7                3                100   \n",
       "8                3                150   \n",
       "10               4                100   \n",
       "11               4                150   \n",
       "20               2                150   \n",
       "22               3                100   \n",
       "24               4                 50   \n",
       "25               4                100   \n",
       "28               5                100   \n",
       "29               5                150   \n",
       "37               3                100   \n",
       "38               3                150   \n",
       "\n",
       "                                               params  split0_test_score  \\\n",
       "5   {'gamma': 0, 'max_depth': 2, 'n_estimators': 150}           0.368421   \n",
       "7   {'gamma': 0, 'max_depth': 3, 'n_estimators': 100}           0.338028   \n",
       "8   {'gamma': 0, 'max_depth': 3, 'n_estimators': 150}           0.314286   \n",
       "10  {'gamma': 0, 'max_depth': 4, 'n_estimators': 100}           0.382353   \n",
       "11  {'gamma': 0, 'max_depth': 4, 'n_estimators': 150}           0.400000   \n",
       "20  {'gamma': 1, 'max_depth': 2, 'n_estimators': 150}           0.347826   \n",
       "22  {'gamma': 1, 'max_depth': 3, 'n_estimators': 100}           0.382353   \n",
       "24   {'gamma': 1, 'max_depth': 4, 'n_estimators': 50}           0.382353   \n",
       "25  {'gamma': 1, 'max_depth': 4, 'n_estimators': 100}           0.358209   \n",
       "28  {'gamma': 1, 'max_depth': 5, 'n_estimators': 100}           0.388060   \n",
       "29  {'gamma': 1, 'max_depth': 5, 'n_estimators': 150}           0.388060   \n",
       "37  {'gamma': 2, 'max_depth': 3, 'n_estimators': 100}           0.411765   \n",
       "38  {'gamma': 2, 'max_depth': 3, 'n_estimators': 150}           0.411765   \n",
       "\n",
       "    split1_test_score  ...  mean_test_score  std_test_score  rank_test_score  \\\n",
       "5            0.371429  ...         0.423161        0.073145               11   \n",
       "7            0.432432  ...         0.421582        0.057089               12   \n",
       "8            0.453333  ...         0.434856        0.073661                4   \n",
       "10           0.469136  ...         0.428409        0.080078                8   \n",
       "11           0.475000  ...         0.450341        0.073571                1   \n",
       "20           0.400000  ...         0.423762        0.068692               10   \n",
       "22           0.426667  ...         0.434820        0.054423                5   \n",
       "24           0.426667  ...         0.426361        0.051304                9   \n",
       "25           0.405405  ...         0.421035        0.047520               13   \n",
       "28           0.410256  ...         0.440285        0.040855                2   \n",
       "29           0.410256  ...         0.440285        0.040855                2   \n",
       "37           0.388889  ...         0.430566        0.066722                7   \n",
       "38           0.388889  ...         0.431605        0.066356                6   \n",
       "\n",
       "    split0_train_score  split1_train_score  split2_train_score  \\\n",
       "5             1.000000            0.920000            0.848214   \n",
       "7             1.000000            0.993711            0.932773   \n",
       "8             1.000000            1.000000            0.988048   \n",
       "10            1.000000            1.000000            1.000000   \n",
       "11            1.000000            1.000000            1.000000   \n",
       "20            0.988506            0.913907            0.834081   \n",
       "22            0.988506            0.987342            0.923729   \n",
       "24            0.988506            0.967742            0.914530   \n",
       "25            0.988506            0.993711            0.996047   \n",
       "28            0.988506            0.993711            1.000000   \n",
       "29            0.988506            0.993711            1.000000   \n",
       "37            0.942529            0.913907            0.849558   \n",
       "38            0.942529            0.913907            0.849558   \n",
       "\n",
       "    split3_train_score  split4_train_score  mean_train_score  std_train_score  \n",
       "5             0.785965            0.741176          0.859071         0.092666  \n",
       "7             0.851351            0.846797          0.924926         0.066252  \n",
       "8             0.929936            0.927083          0.969013         0.033370  \n",
       "10            0.981818            0.972569          0.990877         0.011549  \n",
       "11            1.000000            1.000000          1.000000         0.000000  \n",
       "20            0.787456            0.729412          0.850672         0.091621  \n",
       "22            0.847458            0.837079          0.916823         0.065314  \n",
       "24            0.865772            0.833803          0.914070         0.058647  \n",
       "25            0.978723            0.962217          0.983841         0.012345  \n",
       "28            0.990991            0.990196          0.992681         0.004027  \n",
       "29            0.990991            0.990196          0.992681         0.004027  \n",
       "37            0.836735            0.824859          0.873517         0.046236  \n",
       "38            0.836735            0.824859          0.873517         0.046236  \n",
       "\n",
       "[13 rows x 23 columns]"
      ]
     },
     "execution_count": 24,
     "metadata": {},
     "output_type": "execute_result"
    }
   ],
   "source": [
    "pd.DataFrame(grid_search.cv_results_).query('mean_test_score > 0.42')"
   ]
  },
  {
   "cell_type": "code",
   "execution_count": 26,
   "metadata": {},
   "outputs": [
    {
     "name": "stdout",
     "output_type": "stream",
     "text": [
      "CV MODEL RESULTS\n",
      "{'gamma': 0, 'max_depth': 2, 'n_estimators': 150}\n",
      "   mean_test_score  mean_train_score\n",
      "0         0.423161          0.859071\n"
     ]
    }
   ],
   "source": [
    "xgb_clf = xgb.XGBClassifier()\n",
    "\n",
    "# grid = {\n",
    "#     \"colsample_bytree\": uniform(0.07, 0.7),\n",
    "#     \"gamma\": uniform(0, 0.5),\n",
    "#     \"learning_rate\": uniform(0.03, 0.3), # default 0.1 \n",
    "#     \"max_depth\": randint(2, 6), # default 3\n",
    "#     \"n_estimators\": randint(100, 150), # default 100\n",
    "#     \"subsample\": uniform(0.6, 0.4)\n",
    "# }\n",
    "\n",
    "grid = {\n",
    "    \"gamma\": [0],\n",
    "    \"max_depth\": [2],\n",
    "    \"n_estimators\": [150],\n",
    "}\n",
    "\n",
    "grid_search = find_best_model(xgb_clf,grid,X_train,y_train,'CV set')\n",
    "xgb_clf = grid_search.best_estimator_\n",
    "\n",
    "# grid_search.fit(X_trainT,y_train)\n",
    "# plot_model_perf(y_test,X_testT,grid_search.best_estimator_,'Test')"
   ]
  },
  {
   "cell_type": "code",
   "execution_count": 27,
   "metadata": {},
   "outputs": [],
   "source": [
    "from src.eval.eval_utils import BinClassEval"
   ]
  },
  {
   "cell_type": "markdown",
   "metadata": {},
   "source": [
    "# Warning not sure hsould be evaluating like this! should be using cv_prediction!"
   ]
  },
  {
   "cell_type": "code",
   "execution_count": 28,
   "metadata": {},
   "outputs": [
    {
     "name": "stderr",
     "output_type": "stream",
     "text": [
      "No handles with labels found to put in legend.\n"
     ]
    },
    {
     "name": "stdout",
     "output_type": "stream",
     "text": [
      "Model has predict_proba.\n",
      "AUC:  0.968\n",
      "F1 score:  0.712\n",
      "accuracy:  0.929\n"
     ]
    },
    {
     "data": {
      "text/plain": [
       "<src.eval.eval_utils.BinClassEval at 0x2259a2ca358>"
      ]
     },
     "execution_count": 28,
     "metadata": {},
     "output_type": "execute_result"
    },
    {
     "data": {
      "image/png": "[encoded data removed]",
      "text/plain": [
       "<Figure size 648x288 with 2 Axes>"
      ]
     },
     "metadata": {
      "needs_background": "light"
     },
     "output_type": "display_data"
    }
   ],
   "source": [
    "BinClassEval(xgb_clf, X_train, y_train, plot=True)"
   ]
  },
  {
   "cell_type": "code",
   "execution_count": 29,
   "metadata": {},
   "outputs": [],
   "source": [
    "from sklearn.feature_selection import SelectKBest"
   ]
  },
  {
   "cell_type": "code",
   "execution_count": 30,
   "metadata": {},
   "outputs": [],
   "source": [
    "X = SelectKBest(k=30).fit_transform(X_train, y_train)"
   ]
  },
  {
   "cell_type": "code",
   "execution_count": 31,
   "metadata": {},
   "outputs": [
    {
     "name": "stdout",
     "output_type": "stream",
     "text": [
      "CV MODEL RESULTS\n",
      "{'gamma': 0, 'max_depth': 2, 'n_estimators': 150}\n",
      "   mean_test_score  mean_train_score\n",
      "0         0.438919          0.829361\n"
     ]
    }
   ],
   "source": [
    "grid_search = find_best_model(xgb_clf,grid,X,y_train,'CV set')\n",
    "xgb_kbest = grid_search.best_estimator_"
   ]
  },
  {
   "cell_type": "code",
   "execution_count": 32,
   "metadata": {},
   "outputs": [
    {
     "name": "stderr",
     "output_type": "stream",
     "text": [
      "No handles with labels found to put in legend.\n"
     ]
    },
    {
     "name": "stdout",
     "output_type": "stream",
     "text": [
      "Model has predict_proba.\n",
      "AUC:  0.957\n",
      "F1 score:  0.683\n",
      "accuracy:  0.921\n"
     ]
    },
    {
     "data": {
      "text/plain": [
       "<src.eval.eval_utils.BinClassEval at 0x2259a79a4e0>"
      ]
     },
     "execution_count": 32,
     "metadata": {},
     "output_type": "execute_result"
    },
    {
     "data": {
      "image/png": "[encoded data removed]",
      "text/plain": [
       "<Figure size 648x288 with 2 Axes>"
      ]
     },
     "metadata": {
      "needs_background": "light"
     },
     "output_type": "display_data"
    }
   ],
   "source": [
    "BinClassEval(xgb_kbest, X, y_train, plot=True)"
   ]
  },
  {
   "cell_type": "markdown",
   "metadata": {},
   "source": [
    "Reducing number of features help the SVM. I guess this is regularising it."
   ]
  },
  {
   "cell_type": "markdown",
   "metadata": {},
   "source": [
    "# Logging model and trianing results"
   ]
  },
  {
   "cell_type": "markdown",
   "metadata": {},
   "source": [
    "Create first log df"
   ]
  },
  {
   "cell_type": "markdown",
   "metadata": {},
   "source": [
    "model_log = pd.DataFrame(columns=['dataV','model','gridsearch','mean_train','mean_valid','notes'])"
   ]
  },
  {
   "cell_type": "markdown",
   "metadata": {},
   "source": [
    "model_log"
   ]
  },
  {
   "cell_type": "markdown",
   "metadata": {},
   "source": [
    "model_log.to_pickle('./../data/output/model_log.pkl')"
   ]
  },
  {
   "cell_type": "code",
   "execution_count": 33,
   "metadata": {},
   "outputs": [],
   "source": [
    "from src.eval.eval_utils import save_model_to_log"
   ]
  },
  {
   "cell_type": "code",
   "execution_count": 34,
   "metadata": {},
   "outputs": [
    {
     "name": "stdout",
     "output_type": "stream",
     "text": [
      "Model logged.\n"
     ]
    }
   ],
   "source": [
    "save_model_to_log('./../data/output/model_log.pkl', 'v1', xgb_kbest, grid_search, 'V1 attempt with XGBOOST. KFOLD selection of features helped regularise.')"
   ]
  },
  {
   "cell_type": "code",
   "execution_count": 35,
   "metadata": {},
   "outputs": [
    {
     "data": {
      "text/html": [
       "<div>\n",
       "<style scoped>\n",
       "    .dataframe tbody tr th:only-of-type {\n",
       "        vertical-align: middle;\n",
       "    }\n",
       "\n",
       "    .dataframe tbody tr th {\n",
       "        vertical-align: top;\n",
       "    }\n",
       "\n",
       "    .dataframe thead th {\n",
       "        text-align: right;\n",
       "    }\n",
       "</style>\n",
       "<table border=\"1\" class=\"dataframe\">\n",
       "  <thead>\n",
       "    <tr style=\"text-align: right;\">\n",
       "      <th></th>\n",
       "      <th>dataV</th>\n",
       "      <th>model</th>\n",
       "      <th>gridsearch</th>\n",
       "      <th>mean_train</th>\n",
       "      <th>mean_valid</th>\n",
       "      <th>notes</th>\n",
       "    </tr>\n",
       "  </thead>\n",
       "  <tbody>\n",
       "    <tr>\n",
       "      <th>0</th>\n",
       "      <td>v1</td>\n",
       "      <td>LogisticRegression(C=0.3, class_weight='balanc...</td>\n",
       "      <td>mean_fit_time  std_fit_time  mean_score_tim...</td>\n",
       "      <td>[0.629]</td>\n",
       "      <td>[0.52]</td>\n",
       "      <td>Initial model which was built on first edition...</td>\n",
       "    </tr>\n",
       "    <tr>\n",
       "      <th>1</th>\n",
       "      <td>v1</td>\n",
       "      <td>(DecisionTreeClassifier(class_weight=None, cri...</td>\n",
       "      <td>mean_fit_time  std_fit_time  mean_score_ti...</td>\n",
       "      <td>[0.685]</td>\n",
       "      <td>[0.419]</td>\n",
       "      <td>Random Forest 1st attempt with v1.</td>\n",
       "    </tr>\n",
       "    <tr>\n",
       "      <th>2</th>\n",
       "      <td>v1</td>\n",
       "      <td>XGBClassifier(base_score=0.5, booster='gbtree'...</td>\n",
       "      <td>mean_fit_time  std_fit_time  mean_score_tim...</td>\n",
       "      <td>[0.829]</td>\n",
       "      <td>[0.439]</td>\n",
       "      <td>V1 attempt with XGBOOST. KFOLD selection of fe...</td>\n",
       "    </tr>\n",
       "  </tbody>\n",
       "</table>\n",
       "</div>"
      ],
      "text/plain": [
       "  dataV                                              model  \\\n",
       "0    v1  LogisticRegression(C=0.3, class_weight='balanc...   \n",
       "1    v1  (DecisionTreeClassifier(class_weight=None, cri...   \n",
       "2    v1  XGBClassifier(base_score=0.5, booster='gbtree'...   \n",
       "\n",
       "                                          gridsearch mean_train mean_valid  \\\n",
       "0     mean_fit_time  std_fit_time  mean_score_tim...    [0.629]     [0.52]   \n",
       "1      mean_fit_time  std_fit_time  mean_score_ti...    [0.685]    [0.419]   \n",
       "2     mean_fit_time  std_fit_time  mean_score_tim...    [0.829]    [0.439]   \n",
       "\n",
       "                                               notes  \n",
       "0  Initial model which was built on first edition...  \n",
       "1                 Random Forest 1st attempt with v1.  \n",
       "2  V1 attempt with XGBOOST. KFOLD selection of fe...  "
      ]
     },
     "execution_count": 35,
     "metadata": {},
     "output_type": "execute_result"
    }
   ],
   "source": [
    "pd.read_pickle('./../data/output/model_log.pkl')"
   ]
  },
  {
   "cell_type": "code",
   "execution_count": null,
   "metadata": {},
   "outputs": [],
   "source": []
  }
 ],
 "metadata": {
  "kernelspec": {
   "display_name": "Python [conda env:class]",
   "language": "python",
   "name": "conda-env-class-py"
  },
  "language_info": {
   "codemirror_mode": {
    "name": "ipython",
    "version": 3
   },
   "file_extension": ".py",
   "mimetype": "text/x-python",
   "name": "python",
   "nbconvert_exporter": "python",
   "pygments_lexer": "ipython3",
   "version": "3.6.7"
  }
 },
 "nbformat": 4,
 "nbformat_minor": 2
}
