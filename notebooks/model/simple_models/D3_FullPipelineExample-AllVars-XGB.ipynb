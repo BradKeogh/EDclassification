{
 "cells": [
  {
   "cell_type": "markdown",
   "metadata": {},
   "source": [
    "OBJ:\n",
    "* Demo smooth pipeline for complete ML model."
   ]
  },
  {
   "cell_type": "code",
   "execution_count": 1,
   "metadata": {},
   "outputs": [],
   "source": [
    "import pandas as pd\n",
    "import numpy as np"
   ]
  },
  {
   "cell_type": "markdown",
   "metadata": {},
   "source": [
    "## Load data"
   ]
  },
  {
   "cell_type": "code",
   "execution_count": 2,
   "metadata": {},
   "outputs": [],
   "source": [
    "from src.data.io import import_and_prep_target_df_from_pickle, import_and_merge_feature_dfs_from_pickles"
   ]
  },
  {
   "cell_type": "code",
   "execution_count": 3,
   "metadata": {},
   "outputs": [
    {
     "data": {
      "text/html": [
       "<div>\n",
       "<style scoped>\n",
       "    .dataframe tbody tr th:only-of-type {\n",
       "        vertical-align: middle;\n",
       "    }\n",
       "\n",
       "    .dataframe tbody tr th {\n",
       "        vertical-align: top;\n",
       "    }\n",
       "\n",
       "    .dataframe thead th {\n",
       "        text-align: right;\n",
       "    }\n",
       "</style>\n",
       "<table border=\"1\" class=\"dataframe\">\n",
       "  <thead>\n",
       "    <tr style=\"text-align: right;\">\n",
       "      <th></th>\n",
       "      <th>flag_target</th>\n",
       "      <th>EDMeanOcc_prevday</th>\n",
       "    </tr>\n",
       "    <tr>\n",
       "      <th>dt_date</th>\n",
       "      <th></th>\n",
       "      <th></th>\n",
       "    </tr>\n",
       "  </thead>\n",
       "  <tbody>\n",
       "    <tr>\n",
       "      <th>2011-09-01</th>\n",
       "      <td>0</td>\n",
       "      <td>NaN</td>\n",
       "    </tr>\n",
       "    <tr>\n",
       "      <th>2011-09-02</th>\n",
       "      <td>0</td>\n",
       "      <td>28.000000</td>\n",
       "    </tr>\n",
       "    <tr>\n",
       "      <th>2011-09-03</th>\n",
       "      <td>0</td>\n",
       "      <td>36.833333</td>\n",
       "    </tr>\n",
       "    <tr>\n",
       "      <th>2011-09-04</th>\n",
       "      <td>0</td>\n",
       "      <td>29.291667</td>\n",
       "    </tr>\n",
       "    <tr>\n",
       "      <th>2011-09-05</th>\n",
       "      <td>0</td>\n",
       "      <td>36.833333</td>\n",
       "    </tr>\n",
       "  </tbody>\n",
       "</table>\n",
       "</div>"
      ],
      "text/plain": [
       "            flag_target  EDMeanOcc_prevday\n",
       "dt_date                                   \n",
       "2011-09-01            0                NaN\n",
       "2011-09-02            0          28.000000\n",
       "2011-09-03            0          36.833333\n",
       "2011-09-04            0          29.291667\n",
       "2011-09-05            0          36.833333"
      ]
     },
     "execution_count": 3,
     "metadata": {},
     "output_type": "execute_result"
    }
   ],
   "source": [
    "df = import_and_prep_target_df_from_pickle('./../../../data/interim/D3_dailyTS/EDdaily_occupancy_classRollQ90_clipped.pkl')\n",
    "\n",
    "df.head()"
   ]
  },
  {
   "cell_type": "code",
   "execution_count": 4,
   "metadata": {},
   "outputs": [
    {
     "data": {
      "text/plain": [
       "(2587, 2)"
      ]
     },
     "execution_count": 4,
     "metadata": {},
     "output_type": "execute_result"
    }
   ],
   "source": [
    "df.shape"
   ]
  },
  {
   "cell_type": "code",
   "execution_count": 5,
   "metadata": {},
   "outputs": [
    {
     "data": {
      "text/html": [
       "<div>\n",
       "<style scoped>\n",
       "    .dataframe tbody tr th:only-of-type {\n",
       "        vertical-align: middle;\n",
       "    }\n",
       "\n",
       "    .dataframe tbody tr th {\n",
       "        vertical-align: top;\n",
       "    }\n",
       "\n",
       "    .dataframe thead th {\n",
       "        text-align: right;\n",
       "    }\n",
       "</style>\n",
       "<table border=\"1\" class=\"dataframe\">\n",
       "  <thead>\n",
       "    <tr style=\"text-align: right;\">\n",
       "      <th></th>\n",
       "      <th>flag_target</th>\n",
       "      <th>EDMeanOcc_prevday</th>\n",
       "      <th>year</th>\n",
       "      <th>month</th>\n",
       "      <th>holiday</th>\n",
       "      <th>christmas_period</th>\n",
       "      <th>week_sin</th>\n",
       "      <th>week_cos</th>\n",
       "      <th>year_sin</th>\n",
       "      <th>year_cos</th>\n",
       "      <th>...</th>\n",
       "      <th>IPDAILYno_patients_nonelec</th>\n",
       "      <th>IPDAILYno_patients_elec</th>\n",
       "      <th>IPDAILYno_patients_daycase</th>\n",
       "      <th>IPDAILYage_mean_elecnonelec</th>\n",
       "      <th>IPDAILYno_age_75plus_elecnonelec</th>\n",
       "      <th>EDDAILYno_attendances</th>\n",
       "      <th>EDDAILYno_admissions</th>\n",
       "      <th>EDDAILYage_mean</th>\n",
       "      <th>EDDAILYno_age_75plus</th>\n",
       "      <th>EDDAILYno_attendances_ambulance</th>\n",
       "    </tr>\n",
       "    <tr>\n",
       "      <th>dt_date</th>\n",
       "      <th></th>\n",
       "      <th></th>\n",
       "      <th></th>\n",
       "      <th></th>\n",
       "      <th></th>\n",
       "      <th></th>\n",
       "      <th></th>\n",
       "      <th></th>\n",
       "      <th></th>\n",
       "      <th></th>\n",
       "      <th></th>\n",
       "      <th></th>\n",
       "      <th></th>\n",
       "      <th></th>\n",
       "      <th></th>\n",
       "      <th></th>\n",
       "      <th></th>\n",
       "      <th></th>\n",
       "      <th></th>\n",
       "      <th></th>\n",
       "      <th></th>\n",
       "    </tr>\n",
       "  </thead>\n",
       "  <tbody>\n",
       "    <tr>\n",
       "      <th>2011-09-01</th>\n",
       "      <td>0</td>\n",
       "      <td>NaN</td>\n",
       "      <td>2011</td>\n",
       "      <td>9</td>\n",
       "      <td>0</td>\n",
       "      <td>0</td>\n",
       "      <td>0.000000</td>\n",
       "      <td>1.000000</td>\n",
       "      <td>0.000000</td>\n",
       "      <td>1.000000</td>\n",
       "      <td>...</td>\n",
       "      <td>898</td>\n",
       "      <td>221</td>\n",
       "      <td>203</td>\n",
       "      <td>63.4048</td>\n",
       "      <td>443</td>\n",
       "      <td>193</td>\n",
       "      <td>83</td>\n",
       "      <td>46.7513</td>\n",
       "      <td>32</td>\n",
       "      <td>68</td>\n",
       "    </tr>\n",
       "    <tr>\n",
       "      <th>2011-09-02</th>\n",
       "      <td>0</td>\n",
       "      <td>28.000000</td>\n",
       "      <td>2011</td>\n",
       "      <td>9</td>\n",
       "      <td>0</td>\n",
       "      <td>0</td>\n",
       "      <td>0.781831</td>\n",
       "      <td>0.623490</td>\n",
       "      <td>0.017213</td>\n",
       "      <td>0.999852</td>\n",
       "      <td>...</td>\n",
       "      <td>901</td>\n",
       "      <td>238</td>\n",
       "      <td>221</td>\n",
       "      <td>63.5031</td>\n",
       "      <td>446</td>\n",
       "      <td>213</td>\n",
       "      <td>99</td>\n",
       "      <td>48.6761</td>\n",
       "      <td>35</td>\n",
       "      <td>89</td>\n",
       "    </tr>\n",
       "    <tr>\n",
       "      <th>2011-09-03</th>\n",
       "      <td>0</td>\n",
       "      <td>36.833333</td>\n",
       "      <td>2011</td>\n",
       "      <td>9</td>\n",
       "      <td>0</td>\n",
       "      <td>0</td>\n",
       "      <td>0.974928</td>\n",
       "      <td>-0.222521</td>\n",
       "      <td>0.034422</td>\n",
       "      <td>0.999407</td>\n",
       "      <td>...</td>\n",
       "      <td>892</td>\n",
       "      <td>227</td>\n",
       "      <td>182</td>\n",
       "      <td>63.3021</td>\n",
       "      <td>437</td>\n",
       "      <td>215</td>\n",
       "      <td>100</td>\n",
       "      <td>49.107</td>\n",
       "      <td>40</td>\n",
       "      <td>91</td>\n",
       "    </tr>\n",
       "    <tr>\n",
       "      <th>2011-09-04</th>\n",
       "      <td>0</td>\n",
       "      <td>29.291667</td>\n",
       "      <td>2011</td>\n",
       "      <td>9</td>\n",
       "      <td>0</td>\n",
       "      <td>0</td>\n",
       "      <td>0.433884</td>\n",
       "      <td>-0.900969</td>\n",
       "      <td>0.051620</td>\n",
       "      <td>0.998667</td>\n",
       "      <td>...</td>\n",
       "      <td>859</td>\n",
       "      <td>176</td>\n",
       "      <td>53</td>\n",
       "      <td>63.9923</td>\n",
       "      <td>418</td>\n",
       "      <td>251</td>\n",
       "      <td>124</td>\n",
       "      <td>47.8247</td>\n",
       "      <td>43</td>\n",
       "      <td>114</td>\n",
       "    </tr>\n",
       "    <tr>\n",
       "      <th>2011-09-05</th>\n",
       "      <td>0</td>\n",
       "      <td>36.833333</td>\n",
       "      <td>2011</td>\n",
       "      <td>9</td>\n",
       "      <td>0</td>\n",
       "      <td>0</td>\n",
       "      <td>-0.433884</td>\n",
       "      <td>-0.900969</td>\n",
       "      <td>0.068802</td>\n",
       "      <td>0.997630</td>\n",
       "      <td>...</td>\n",
       "      <td>852</td>\n",
       "      <td>161</td>\n",
       "      <td>38</td>\n",
       "      <td>64.2655</td>\n",
       "      <td>415</td>\n",
       "      <td>273</td>\n",
       "      <td>114</td>\n",
       "      <td>47.4908</td>\n",
       "      <td>44</td>\n",
       "      <td>107</td>\n",
       "    </tr>\n",
       "  </tbody>\n",
       "</table>\n",
       "<p>5 rows × 43 columns</p>\n",
       "</div>"
      ],
      "text/plain": [
       "            flag_target  EDMeanOcc_prevday  year  month  holiday  \\\n",
       "dt_date                                                            \n",
       "2011-09-01            0                NaN  2011      9        0   \n",
       "2011-09-02            0          28.000000  2011      9        0   \n",
       "2011-09-03            0          36.833333  2011      9        0   \n",
       "2011-09-04            0          29.291667  2011      9        0   \n",
       "2011-09-05            0          36.833333  2011      9        0   \n",
       "\n",
       "            christmas_period  week_sin  week_cos  year_sin  year_cos  ...  \\\n",
       "dt_date                                                               ...   \n",
       "2011-09-01                 0  0.000000  1.000000  0.000000  1.000000  ...   \n",
       "2011-09-02                 0  0.781831  0.623490  0.017213  0.999852  ...   \n",
       "2011-09-03                 0  0.974928 -0.222521  0.034422  0.999407  ...   \n",
       "2011-09-04                 0  0.433884 -0.900969  0.051620  0.998667  ...   \n",
       "2011-09-05                 0 -0.433884 -0.900969  0.068802  0.997630  ...   \n",
       "\n",
       "           IPDAILYno_patients_nonelec IPDAILYno_patients_elec  \\\n",
       "dt_date                                                         \n",
       "2011-09-01                        898                     221   \n",
       "2011-09-02                        901                     238   \n",
       "2011-09-03                        892                     227   \n",
       "2011-09-04                        859                     176   \n",
       "2011-09-05                        852                     161   \n",
       "\n",
       "           IPDAILYno_patients_daycase IPDAILYage_mean_elecnonelec  \\\n",
       "dt_date                                                             \n",
       "2011-09-01                        203                     63.4048   \n",
       "2011-09-02                        221                     63.5031   \n",
       "2011-09-03                        182                     63.3021   \n",
       "2011-09-04                         53                     63.9923   \n",
       "2011-09-05                         38                     64.2655   \n",
       "\n",
       "           IPDAILYno_age_75plus_elecnonelec EDDAILYno_attendances  \\\n",
       "dt_date                                                             \n",
       "2011-09-01                              443                   193   \n",
       "2011-09-02                              446                   213   \n",
       "2011-09-03                              437                   215   \n",
       "2011-09-04                              418                   251   \n",
       "2011-09-05                              415                   273   \n",
       "\n",
       "           EDDAILYno_admissions EDDAILYage_mean EDDAILYno_age_75plus  \\\n",
       "dt_date                                                                \n",
       "2011-09-01                   83         46.7513                   32   \n",
       "2011-09-02                   99         48.6761                   35   \n",
       "2011-09-03                  100          49.107                   40   \n",
       "2011-09-04                  124         47.8247                   43   \n",
       "2011-09-05                  114         47.4908                   44   \n",
       "\n",
       "           EDDAILYno_attendances_ambulance  \n",
       "dt_date                                     \n",
       "2011-09-01                              68  \n",
       "2011-09-02                              89  \n",
       "2011-09-03                              91  \n",
       "2011-09-04                             114  \n",
       "2011-09-05                             107  \n",
       "\n",
       "[5 rows x 43 columns]"
      ]
     },
     "execution_count": 5,
     "metadata": {},
     "output_type": "execute_result"
    }
   ],
   "source": [
    "pickle_features_list = ['callender.pkl', 'EDmorn.pkl', 'IPmorn.pkl', 'IPprevday_summary.pkl', 'EDprevday_summary.pkl']\n",
    "df2 = import_and_merge_feature_dfs_from_pickles('./../../../data/interim/D3_dailyTS/', pickle_features_list, df)\n",
    "df2.head()"
   ]
  },
  {
   "cell_type": "code",
   "execution_count": 6,
   "metadata": {},
   "outputs": [
    {
     "name": "stdout",
     "output_type": "stream",
     "text": [
      "flag_target\n",
      "EDMeanOcc_prevday\n",
      "year\n",
      "month\n",
      "holiday\n",
      "christmas_period\n",
      "week_sin\n",
      "week_cos\n",
      "year_sin\n",
      "year_cos\n",
      "EDMORNoccupancy\n",
      "EDMORNage_mean\n",
      "EDMORNocc_age_75plus\n",
      "EDMORNocc_ambulance\n",
      "EDMORNocc_majors\n",
      "EDMORNocc_minors\n",
      "EDMORNocc_resus\n",
      "EDMORNocc_mmrother\n",
      "EDMORNwait_time_mean\n",
      "EDMORNwait_time_std\n",
      "EDMORNwait_time_skew\n",
      "IPMORNocc_patients_total\n",
      "IPMORNocc_patients_nonelec\n",
      "IPMORNocc_patients_elec\n",
      "IPMORNocc_patients_daycase\n",
      "IPMORNage_mean_elecnonelec\n",
      "IPMORNocc_age_75plus_elecnonelec\n",
      "IPMORNocc_patients_elecnonelec_gp\n",
      "IPMORNocc_patients_elecnonelec_ed\n",
      "IPMORNcurrent_los_mean\n",
      "IPMORNcurrent_los_std\n",
      "IPMORNcurrent_los_skew\n",
      "IPDAILYno_patients_total\n",
      "IPDAILYno_patients_nonelec\n",
      "IPDAILYno_patients_elec\n",
      "IPDAILYno_patients_daycase\n",
      "IPDAILYage_mean_elecnonelec\n",
      "IPDAILYno_age_75plus_elecnonelec\n",
      "EDDAILYno_attendances\n",
      "EDDAILYno_admissions\n",
      "EDDAILYage_mean\n",
      "EDDAILYno_age_75plus\n",
      "EDDAILYno_attendances_ambulance\n"
     ]
    }
   ],
   "source": [
    "for i in df2:\n",
    "    print(i)"
   ]
  },
  {
   "cell_type": "markdown",
   "metadata": {},
   "source": [
    "Create some proportional features"
   ]
  },
  {
   "cell_type": "code",
   "execution_count": 7,
   "metadata": {},
   "outputs": [],
   "source": [
    "\n",
    "df2['EDMORNprop_ambulance'] = df2.EDMORNocc_ambulance/df2.EDMORNoccupancy\n",
    "df2['EDMORNprop_major_resus'] = (df2.EDMORNocc_resus + df2.EDMORNocc_majors)/df2.EDMORNoccupancy\n",
    "df2['EDMORNprop_mmr_missing'] = df2.EDMORNocc_mmrother/df2.EDMORNoccupancy\n",
    "df2['EDMORNprop_age_75plus'] = df2.EDMORNocc_age_75plus/df2.EDMORNoccupancy\n",
    "\n",
    "df2['IPMORNocc_patients_elecnonelec'] = df2.IPMORNocc_patients_nonelec + df2.IPMORNocc_patients_elec\n",
    "df2['IPMORNprop_patients_nonelec'] = df2.IPMORNocc_patients_nonelec/df2.IPMORNocc_patients_elecnonelec\n",
    "df2['IPMORNprop_patients_elecnonelec75plus'] = df2.IPMORNocc_age_75plus_elecnonelec/df2.IPMORNocc_patients_elecnonelec\n",
    "df2['IPMORNprop_patients_elecnonelec_gp'] = df2.IPMORNocc_patients_elecnonelec_gp/df2.IPMORNocc_patients_elecnonelec # poss should be only nonelec\n",
    "df2['IPMORNprop_patients_elecnonelec_ed'] = df2.IPMORNocc_patients_elecnonelec_ed/df2.IPMORNocc_patients_elecnonelec\n"
   ]
  },
  {
   "cell_type": "markdown",
   "metadata": {},
   "source": [
    "Remove some features"
   ]
  },
  {
   "cell_type": "code",
   "execution_count": 8,
   "metadata": {},
   "outputs": [],
   "source": [
    "list_to_drop = ['holiday',\n",
    "                'month',\n",
    "                \n",
    "                'EDMORNage_mean', # we have 75 plus prop in\n",
    "                'EDMORNocc_age_75plus',\n",
    "                'EDMORNocc_ambulance',\n",
    "                'EDMORNocc_majors',\n",
    "                'EDMORNocc_minors',\n",
    "                'EDMORNocc_resus',\n",
    "                'EDMORNocc_mmrother',\n",
    "                \n",
    "                'IPMORNocc_patients_nonelec',\n",
    "                'IPMORNocc_patients_elec',\n",
    "                'IPMORNocc_age_75plus_elecnonelec',\n",
    "                'IPMORNage_mean_elecnonelec',\n",
    "                'IPMORNocc_patients_elecnonelec_gp',\n",
    "                'IPMORNocc_patients_elecnonelec_ed',\n",
    "                \n",
    "#                 'IPMORNcurrent_los_skew',\n",
    "#                 'IPMORNocc_patients_elecnonelec_ed',\n",
    "#                 'IPMORNocc_patients_elecnonelec_gp',\n",
    "                \n",
    "#                 'IPDAILYno_patients_elec'\n",
    "                \n",
    "#                'EDDAILYno_attendances_ambulance',\n",
    "                \n",
    "                ]\n",
    "\n",
    "df2 = df2.drop(list_to_drop,axis=1)"
   ]
  },
  {
   "cell_type": "code",
   "execution_count": null,
   "metadata": {},
   "outputs": [],
   "source": []
  },
  {
   "cell_type": "markdown",
   "metadata": {},
   "source": [
    "## Split data"
   ]
  },
  {
   "cell_type": "code",
   "execution_count": 9,
   "metadata": {},
   "outputs": [
    {
     "name": "stdout",
     "output_type": "stream",
     "text": [
      "DATA POINTS:\n",
      "orig size 2587\n",
      "training:  2222\n",
      "testing:  365\n"
     ]
    }
   ],
   "source": [
    "from src.data.preprocess import make_timeseries_test_train_splits\n",
    "X_train, X_test, y_train, y_test = make_timeseries_test_train_splits(df2, 'flag_target', 365)"
   ]
  },
  {
   "cell_type": "code",
   "execution_count": null,
   "metadata": {},
   "outputs": [],
   "source": []
  },
  {
   "cell_type": "markdown",
   "metadata": {},
   "source": [
    "## Prepare data"
   ]
  },
  {
   "cell_type": "code",
   "execution_count": 10,
   "metadata": {},
   "outputs": [],
   "source": [
    "# version 19.2\n",
    "from sklearn.pipeline import Pipeline, FeatureUnion, make_pipeline\n",
    "\n",
    "from sklearn.preprocessing import StandardScaler\n",
    "from sklearn.impute import SimpleImputer\n",
    "from sklearn.preprocessing import LabelEncoder\n",
    "from sklearn.preprocessing import OneHotEncoder \n",
    "\n",
    "from sklearn.feature_selection import SelectKBest\n",
    "from sklearn.feature_selection import f_classif\n",
    "\n",
    "from src.data.preprocess import DataFrameSelector, DataFrameReform, MakeBooleanAnInteger"
   ]
  },
  {
   "cell_type": "code",
   "execution_count": 11,
   "metadata": {},
   "outputs": [
    {
     "data": {
      "text/html": [
       "<div>\n",
       "<style scoped>\n",
       "    .dataframe tbody tr th:only-of-type {\n",
       "        vertical-align: middle;\n",
       "    }\n",
       "\n",
       "    .dataframe tbody tr th {\n",
       "        vertical-align: top;\n",
       "    }\n",
       "\n",
       "    .dataframe thead th {\n",
       "        text-align: right;\n",
       "    }\n",
       "</style>\n",
       "<table border=\"1\" class=\"dataframe\">\n",
       "  <thead>\n",
       "    <tr style=\"text-align: right;\">\n",
       "      <th></th>\n",
       "      <th>EDMeanOcc_prevday</th>\n",
       "      <th>year</th>\n",
       "      <th>christmas_period</th>\n",
       "      <th>week_sin</th>\n",
       "      <th>week_cos</th>\n",
       "      <th>year_sin</th>\n",
       "      <th>year_cos</th>\n",
       "      <th>EDMORNoccupancy</th>\n",
       "      <th>EDMORNwait_time_mean</th>\n",
       "      <th>EDMORNwait_time_std</th>\n",
       "      <th>...</th>\n",
       "      <th>EDDAILYno_attendances_ambulance</th>\n",
       "      <th>EDMORNprop_ambulance</th>\n",
       "      <th>EDMORNprop_major_resus</th>\n",
       "      <th>EDMORNprop_mmr_missing</th>\n",
       "      <th>EDMORNprop_age_75plus</th>\n",
       "      <th>IPMORNocc_patients_elecnonelec</th>\n",
       "      <th>IPMORNprop_patients_nonelec</th>\n",
       "      <th>IPMORNprop_patients_elecnonelec75plus</th>\n",
       "      <th>IPMORNprop_patients_elecnonelec_gp</th>\n",
       "      <th>IPMORNprop_patients_elecnonelec_ed</th>\n",
       "    </tr>\n",
       "    <tr>\n",
       "      <th>dt_date</th>\n",
       "      <th></th>\n",
       "      <th></th>\n",
       "      <th></th>\n",
       "      <th></th>\n",
       "      <th></th>\n",
       "      <th></th>\n",
       "      <th></th>\n",
       "      <th></th>\n",
       "      <th></th>\n",
       "      <th></th>\n",
       "      <th></th>\n",
       "      <th></th>\n",
       "      <th></th>\n",
       "      <th></th>\n",
       "      <th></th>\n",
       "      <th></th>\n",
       "      <th></th>\n",
       "      <th></th>\n",
       "      <th></th>\n",
       "      <th></th>\n",
       "      <th></th>\n",
       "    </tr>\n",
       "  </thead>\n",
       "  <tbody>\n",
       "    <tr>\n",
       "      <th>2011-09-01</th>\n",
       "      <td>NaN</td>\n",
       "      <td>2011</td>\n",
       "      <td>0</td>\n",
       "      <td>0.000000</td>\n",
       "      <td>1.00000</td>\n",
       "      <td>0.000000</td>\n",
       "      <td>1.000000</td>\n",
       "      <td>13</td>\n",
       "      <td>198</td>\n",
       "      <td>138</td>\n",
       "      <td>...</td>\n",
       "      <td>68</td>\n",
       "      <td>0.538462</td>\n",
       "      <td>0.846154</td>\n",
       "      <td>0</td>\n",
       "      <td>0.230769</td>\n",
       "      <td>963</td>\n",
       "      <td>0.80893</td>\n",
       "      <td>0.420561</td>\n",
       "      <td>0.159917</td>\n",
       "      <td>0.404984</td>\n",
       "    </tr>\n",
       "    <tr>\n",
       "      <th>2011-09-02</th>\n",
       "      <td>28.0</td>\n",
       "      <td>2011</td>\n",
       "      <td>0</td>\n",
       "      <td>0.781831</td>\n",
       "      <td>0.62349</td>\n",
       "      <td>0.017213</td>\n",
       "      <td>0.999852</td>\n",
       "      <td>7</td>\n",
       "      <td>375</td>\n",
       "      <td>235</td>\n",
       "      <td>...</td>\n",
       "      <td>89</td>\n",
       "      <td>1</td>\n",
       "      <td>1</td>\n",
       "      <td>0</td>\n",
       "      <td>0.142857</td>\n",
       "      <td>990</td>\n",
       "      <td>0.79798</td>\n",
       "      <td>0.40202</td>\n",
       "      <td>0.159596</td>\n",
       "      <td>0.392929</td>\n",
       "    </tr>\n",
       "  </tbody>\n",
       "</table>\n",
       "<p>2 rows × 36 columns</p>\n",
       "</div>"
      ],
      "text/plain": [
       "            EDMeanOcc_prevday  year  christmas_period  week_sin  week_cos  \\\n",
       "dt_date                                                                     \n",
       "2011-09-01                NaN  2011                 0  0.000000   1.00000   \n",
       "2011-09-02               28.0  2011                 0  0.781831   0.62349   \n",
       "\n",
       "            year_sin  year_cos EDMORNoccupancy EDMORNwait_time_mean  \\\n",
       "dt_date                                                               \n",
       "2011-09-01  0.000000  1.000000              13                  198   \n",
       "2011-09-02  0.017213  0.999852               7                  375   \n",
       "\n",
       "           EDMORNwait_time_std  ... EDDAILYno_attendances_ambulance  \\\n",
       "dt_date                         ...                                   \n",
       "2011-09-01                 138  ...                              68   \n",
       "2011-09-02                 235  ...                              89   \n",
       "\n",
       "           EDMORNprop_ambulance EDMORNprop_major_resus EDMORNprop_mmr_missing  \\\n",
       "dt_date                                                                         \n",
       "2011-09-01             0.538462               0.846154                      0   \n",
       "2011-09-02                    1                      1                      0   \n",
       "\n",
       "           EDMORNprop_age_75plus IPMORNocc_patients_elecnonelec  \\\n",
       "dt_date                                                           \n",
       "2011-09-01              0.230769                            963   \n",
       "2011-09-02              0.142857                            990   \n",
       "\n",
       "           IPMORNprop_patients_nonelec IPMORNprop_patients_elecnonelec75plus  \\\n",
       "dt_date                                                                        \n",
       "2011-09-01                     0.80893                              0.420561   \n",
       "2011-09-02                     0.79798                               0.40202   \n",
       "\n",
       "           IPMORNprop_patients_elecnonelec_gp  \\\n",
       "dt_date                                         \n",
       "2011-09-01                           0.159917   \n",
       "2011-09-02                           0.159596   \n",
       "\n",
       "           IPMORNprop_patients_elecnonelec_ed  \n",
       "dt_date                                        \n",
       "2011-09-01                           0.404984  \n",
       "2011-09-02                           0.392929  \n",
       "\n",
       "[2 rows x 36 columns]"
      ]
     },
     "execution_count": 11,
     "metadata": {},
     "output_type": "execute_result"
    }
   ],
   "source": [
    "X_train.head(2)"
   ]
  },
  {
   "cell_type": "code",
   "execution_count": 12,
   "metadata": {},
   "outputs": [],
   "source": [
    "\n",
    "bin_features = ['christmas_period']\n",
    "num_features = list(set(X_train.columns) - set(bin_features))\n",
    "all_features = num_features + bin_features"
   ]
  },
  {
   "cell_type": "code",
   "execution_count": 13,
   "metadata": {},
   "outputs": [
    {
     "data": {
      "text/html": [
       "<div>\n",
       "<style scoped>\n",
       "    .dataframe tbody tr th:only-of-type {\n",
       "        vertical-align: middle;\n",
       "    }\n",
       "\n",
       "    .dataframe tbody tr th {\n",
       "        vertical-align: top;\n",
       "    }\n",
       "\n",
       "    .dataframe thead th {\n",
       "        text-align: right;\n",
       "    }\n",
       "</style>\n",
       "<table border=\"1\" class=\"dataframe\">\n",
       "  <thead>\n",
       "    <tr style=\"text-align: right;\">\n",
       "      <th></th>\n",
       "      <th>IPMORNcurrent_los_std</th>\n",
       "      <th>IPMORNocc_patients_elecnonelec</th>\n",
       "      <th>year_cos</th>\n",
       "      <th>IPDAILYno_patients_daycase</th>\n",
       "      <th>IPMORNprop_patients_elecnonelec_gp</th>\n",
       "      <th>EDDAILYno_age_75plus</th>\n",
       "      <th>EDMORNwait_time_skew</th>\n",
       "      <th>EDDAILYno_attendances</th>\n",
       "      <th>IPDAILYno_patients_elec</th>\n",
       "      <th>IPMORNprop_patients_elecnonelec75plus</th>\n",
       "      <th>...</th>\n",
       "      <th>IPMORNcurrent_los_mean</th>\n",
       "      <th>IPMORNprop_patients_nonelec</th>\n",
       "      <th>EDMORNwait_time_std</th>\n",
       "      <th>EDMORNprop_mmr_missing</th>\n",
       "      <th>IPMORNocc_patients_daycase</th>\n",
       "      <th>EDDAILYno_attendances_ambulance</th>\n",
       "      <th>IPDAILYage_mean_elecnonelec</th>\n",
       "      <th>EDMeanOcc_prevday</th>\n",
       "      <th>year</th>\n",
       "      <th>christmas_period</th>\n",
       "    </tr>\n",
       "  </thead>\n",
       "  <tbody>\n",
       "    <tr>\n",
       "      <th>0</th>\n",
       "      <td>-1.393829</td>\n",
       "      <td>-1.630599</td>\n",
       "      <td>1.386928</td>\n",
       "      <td>0.232559</td>\n",
       "      <td>1.132327</td>\n",
       "      <td>-2.026146</td>\n",
       "      <td>0.831798</td>\n",
       "      <td>-2.209605</td>\n",
       "      <td>0.251307</td>\n",
       "      <td>-1.000179</td>\n",
       "      <td>...</td>\n",
       "      <td>-1.603337</td>\n",
       "      <td>-1.148748</td>\n",
       "      <td>-1.116428</td>\n",
       "      <td>-0.660820</td>\n",
       "      <td>0.473518</td>\n",
       "      <td>-3.327018</td>\n",
       "      <td>-2.723724</td>\n",
       "      <td>-0.090345</td>\n",
       "      <td>-1.789729</td>\n",
       "      <td>0.0</td>\n",
       "    </tr>\n",
       "    <tr>\n",
       "      <th>1</th>\n",
       "      <td>-1.461983</td>\n",
       "      <td>-1.249969</td>\n",
       "      <td>1.386719</td>\n",
       "      <td>0.453192</td>\n",
       "      <td>1.115910</td>\n",
       "      <td>-1.675607</td>\n",
       "      <td>-0.466764</td>\n",
       "      <td>-1.439328</td>\n",
       "      <td>0.718935</td>\n",
       "      <td>-1.824740</td>\n",
       "      <td>...</td>\n",
       "      <td>-1.997639</td>\n",
       "      <td>-1.600715</td>\n",
       "      <td>-0.579075</td>\n",
       "      <td>-0.660820</td>\n",
       "      <td>-0.191142</td>\n",
       "      <td>-1.922858</td>\n",
       "      <td>-2.621887</td>\n",
       "      <td>-1.697900</td>\n",
       "      <td>-1.789729</td>\n",
       "      <td>0.0</td>\n",
       "    </tr>\n",
       "    <tr>\n",
       "      <th>2</th>\n",
       "      <td>-1.416547</td>\n",
       "      <td>-2.095814</td>\n",
       "      <td>1.386094</td>\n",
       "      <td>-0.024846</td>\n",
       "      <td>1.807567</td>\n",
       "      <td>-1.091374</td>\n",
       "      <td>0.367700</td>\n",
       "      <td>-1.362301</td>\n",
       "      <td>0.416352</td>\n",
       "      <td>-1.101630</td>\n",
       "      <td>...</td>\n",
       "      <td>-1.845984</td>\n",
       "      <td>-0.896019</td>\n",
       "      <td>-0.651092</td>\n",
       "      <td>-0.660820</td>\n",
       "      <td>1.802837</td>\n",
       "      <td>-1.789129</td>\n",
       "      <td>-2.830249</td>\n",
       "      <td>-0.382063</td>\n",
       "      <td>-1.789729</td>\n",
       "      <td>0.0</td>\n",
       "    </tr>\n",
       "    <tr>\n",
       "      <th>3</th>\n",
       "      <td>-1.359752</td>\n",
       "      <td>-2.307275</td>\n",
       "      <td>1.385053</td>\n",
       "      <td>-1.606048</td>\n",
       "      <td>1.617324</td>\n",
       "      <td>-0.740834</td>\n",
       "      <td>1.669401</td>\n",
       "      <td>0.024197</td>\n",
       "      <td>-0.986533</td>\n",
       "      <td>-0.796674</td>\n",
       "      <td>...</td>\n",
       "      <td>-1.573006</td>\n",
       "      <td>0.151633</td>\n",
       "      <td>-0.817283</td>\n",
       "      <td>-0.660820</td>\n",
       "      <td>0.141188</td>\n",
       "      <td>-0.251239</td>\n",
       "      <td>-2.114816</td>\n",
       "      <td>-1.505490</td>\n",
       "      <td>-1.789729</td>\n",
       "      <td>0.0</td>\n",
       "    </tr>\n",
       "    <tr>\n",
       "      <th>4</th>\n",
       "      <td>-1.416547</td>\n",
       "      <td>-1.827963</td>\n",
       "      <td>1.383595</td>\n",
       "      <td>-1.789909</td>\n",
       "      <td>1.360793</td>\n",
       "      <td>-0.623988</td>\n",
       "      <td>1.551242</td>\n",
       "      <td>0.871501</td>\n",
       "      <td>-1.399146</td>\n",
       "      <td>-0.771117</td>\n",
       "      <td>...</td>\n",
       "      <td>-1.573006</td>\n",
       "      <td>0.257105</td>\n",
       "      <td>-0.468281</td>\n",
       "      <td>2.952126</td>\n",
       "      <td>0.805848</td>\n",
       "      <td>-0.719293</td>\n",
       "      <td>-1.831554</td>\n",
       "      <td>-0.382063</td>\n",
       "      <td>-1.789729</td>\n",
       "      <td>0.0</td>\n",
       "    </tr>\n",
       "  </tbody>\n",
       "</table>\n",
       "<p>5 rows × 36 columns</p>\n",
       "</div>"
      ],
      "text/plain": [
       "   IPMORNcurrent_los_std  IPMORNocc_patients_elecnonelec  year_cos  \\\n",
       "0              -1.393829                       -1.630599  1.386928   \n",
       "1              -1.461983                       -1.249969  1.386719   \n",
       "2              -1.416547                       -2.095814  1.386094   \n",
       "3              -1.359752                       -2.307275  1.385053   \n",
       "4              -1.416547                       -1.827963  1.383595   \n",
       "\n",
       "   IPDAILYno_patients_daycase  IPMORNprop_patients_elecnonelec_gp  \\\n",
       "0                    0.232559                            1.132327   \n",
       "1                    0.453192                            1.115910   \n",
       "2                   -0.024846                            1.807567   \n",
       "3                   -1.606048                            1.617324   \n",
       "4                   -1.789909                            1.360793   \n",
       "\n",
       "   EDDAILYno_age_75plus  EDMORNwait_time_skew  EDDAILYno_attendances  \\\n",
       "0             -2.026146              0.831798              -2.209605   \n",
       "1             -1.675607             -0.466764              -1.439328   \n",
       "2             -1.091374              0.367700              -1.362301   \n",
       "3             -0.740834              1.669401               0.024197   \n",
       "4             -0.623988              1.551242               0.871501   \n",
       "\n",
       "   IPDAILYno_patients_elec  IPMORNprop_patients_elecnonelec75plus  ...  \\\n",
       "0                 0.251307                              -1.000179  ...   \n",
       "1                 0.718935                              -1.824740  ...   \n",
       "2                 0.416352                              -1.101630  ...   \n",
       "3                -0.986533                              -0.796674  ...   \n",
       "4                -1.399146                              -0.771117  ...   \n",
       "\n",
       "   IPMORNcurrent_los_mean  IPMORNprop_patients_nonelec  EDMORNwait_time_std  \\\n",
       "0               -1.603337                    -1.148748            -1.116428   \n",
       "1               -1.997639                    -1.600715            -0.579075   \n",
       "2               -1.845984                    -0.896019            -0.651092   \n",
       "3               -1.573006                     0.151633            -0.817283   \n",
       "4               -1.573006                     0.257105            -0.468281   \n",
       "\n",
       "   EDMORNprop_mmr_missing  IPMORNocc_patients_daycase  \\\n",
       "0               -0.660820                    0.473518   \n",
       "1               -0.660820                   -0.191142   \n",
       "2               -0.660820                    1.802837   \n",
       "3               -0.660820                    0.141188   \n",
       "4                2.952126                    0.805848   \n",
       "\n",
       "   EDDAILYno_attendances_ambulance  IPDAILYage_mean_elecnonelec  \\\n",
       "0                        -3.327018                    -2.723724   \n",
       "1                        -1.922858                    -2.621887   \n",
       "2                        -1.789129                    -2.830249   \n",
       "3                        -0.251239                    -2.114816   \n",
       "4                        -0.719293                    -1.831554   \n",
       "\n",
       "   EDMeanOcc_prevday      year  christmas_period  \n",
       "0          -0.090345 -1.789729               0.0  \n",
       "1          -1.697900 -1.789729               0.0  \n",
       "2          -0.382063 -1.789729               0.0  \n",
       "3          -1.505490 -1.789729               0.0  \n",
       "4          -0.382063 -1.789729               0.0  \n",
       "\n",
       "[5 rows x 36 columns]"
      ]
     },
     "execution_count": 13,
     "metadata": {},
     "output_type": "execute_result"
    }
   ],
   "source": [
    "#### make numerical and binary pipelines\n",
    "num_pipeline = Pipeline([\n",
    "    ('selector',DataFrameSelector(num_features)),\n",
    "#     ('feature_filter',SelectKBest(f_classif,k='all')),\n",
    "    ('imputer',SimpleImputer(strategy='median')),\n",
    "    ('std_scaler',StandardScaler()),\n",
    "])\n",
    "\n",
    "bin_pipeline = Pipeline([\n",
    "    ('selector',DataFrameSelector(bin_features)),\n",
    "    ('boolean_conversion',MakeBooleanAnInteger()),\n",
    "    ('imputer',SimpleImputer(strategy='most_frequent')),\n",
    "])\n",
    "\n",
    "\n",
    "pipes_type_list = [\n",
    "    ('num_pipeline',num_pipeline),\n",
    "  ('bin_pipeline',bin_pipeline),\n",
    "]\n",
    "\n",
    "\n",
    "#### define all parts of preprocessing in pipeline\n",
    "preprocess_pipeline = make_pipeline(\n",
    "    FeatureUnion(transformer_list=pipes_type_list),\n",
    "    DataFrameReform(all_features)\n",
    ")\n",
    "\n",
    "#### call pipeline\n",
    "X_trainT = preprocess_pipeline.fit_transform(X_train,y_train)\n",
    "X_trainT.head()"
   ]
  },
  {
   "cell_type": "markdown",
   "metadata": {},
   "source": [
    "## Model search"
   ]
  },
  {
   "cell_type": "code",
   "execution_count": 14,
   "metadata": {},
   "outputs": [],
   "source": [
    "from sklearn.linear_model import LogisticRegression\n",
    "from sklearn.ensemble import RandomForestClassifier\n",
    "from xgboost import XGBClassifier\n",
    "from sklearn.model_selection import train_test_split, GridSearchCV, cross_val_predict, TimeSeriesSplit"
   ]
  },
  {
   "cell_type": "code",
   "execution_count": 88,
   "metadata": {},
   "outputs": [],
   "source": [
    "model = XGBClassifier(n_jobs=2, n_estimators=300)"
   ]
  },
  {
   "cell_type": "code",
   "execution_count": 89,
   "metadata": {},
   "outputs": [],
   "source": [
    "param_grid = {\n",
    "#     'C':[0.01, 0.05, 0.1,0.2,0.3,0.5,0.7,1,3,10],\n",
    "#     'kernel':['linear'],\n",
    "    'scale_pos_weight':[0.3,0.5,0.7,1],\n",
    "    'max_depth':[2],\n",
    "    'min_child_weight':[4],\n",
    "    'reg_alpha':[0,0.5,1,5,10],\n",
    "#     'reg_lambda':[0,1],\n",
    "       }"
   ]
  },
  {
   "cell_type": "code",
   "execution_count": 90,
   "metadata": {},
   "outputs": [],
   "source": [
    "tscv = TimeSeriesSplit(n_splits=5)"
   ]
  },
  {
   "cell_type": "code",
   "execution_count": 91,
   "metadata": {},
   "outputs": [
    {
     "data": {
      "text/plain": [
       "GridSearchCV(cv=TimeSeriesSplit(max_train_size=None, n_splits=5),\n",
       "             error_score='raise-deprecating',\n",
       "             estimator=XGBClassifier(base_score=0.5, booster='gbtree',\n",
       "                                     colsample_bylevel=1, colsample_bynode=1,\n",
       "                                     colsample_bytree=1, gamma=0,\n",
       "                                     learning_rate=0.1, max_delta_step=0,\n",
       "                                     max_depth=3, min_child_weight=1,\n",
       "                                     missing=None, n_estimators=300, n_jobs=2,\n",
       "                                     nthread=None, objective='binary:logistic',\n",
       "                                     random_state=0, reg_alpha=0, reg_lambda=1,\n",
       "                                     scale_pos_weight=1, seed=None, silent=None,\n",
       "                                     subsample=1, verbosity=1),\n",
       "             iid='warn', n_jobs=None,\n",
       "             param_grid={'max_depth': [2], 'min_child_weight': [4],\n",
       "                         'reg_alpha': [0, 0.5, 1, 5, 10],\n",
       "                         'scale_pos_weight': [0.3, 0.5, 0.7, 1]},\n",
       "             pre_dispatch='2*n_jobs', refit=True, return_train_score=True,\n",
       "             scoring='brier_score_loss', verbose=0)"
      ]
     },
     "execution_count": 91,
     "metadata": {},
     "output_type": "execute_result"
    }
   ],
   "source": [
    "grid_search = GridSearchCV(model, param_grid, cv=tscv, scoring='brier_score_loss', return_train_score=True)\n",
    "# brier_score_loss, average_precision\n",
    "grid_search.fit(X_trainT, y_train)"
   ]
  },
  {
   "cell_type": "code",
   "execution_count": 92,
   "metadata": {},
   "outputs": [
    {
     "data": {
      "text/html": [
       "<div>\n",
       "<style scoped>\n",
       "    .dataframe tbody tr th:only-of-type {\n",
       "        vertical-align: middle;\n",
       "    }\n",
       "\n",
       "    .dataframe tbody tr th {\n",
       "        vertical-align: top;\n",
       "    }\n",
       "\n",
       "    .dataframe thead th {\n",
       "        text-align: right;\n",
       "    }\n",
       "</style>\n",
       "<table border=\"1\" class=\"dataframe\">\n",
       "  <thead>\n",
       "    <tr style=\"text-align: right;\">\n",
       "      <th></th>\n",
       "      <th>params</th>\n",
       "      <th>mean_train_score</th>\n",
       "      <th>mean_test_score</th>\n",
       "      <th>param_reg_alpha</th>\n",
       "      <th>param_scale_pos_weight</th>\n",
       "    </tr>\n",
       "  </thead>\n",
       "  <tbody>\n",
       "    <tr>\n",
       "      <th>0</th>\n",
       "      <td>{'max_depth': 2, 'min_child_weight': 4, 'reg_a...</td>\n",
       "      <td>-0.053692</td>\n",
       "      <td>-0.093719</td>\n",
       "      <td>0</td>\n",
       "      <td>0.3</td>\n",
       "    </tr>\n",
       "    <tr>\n",
       "      <th>1</th>\n",
       "      <td>{'max_depth': 2, 'min_child_weight': 4, 'reg_a...</td>\n",
       "      <td>-0.036560</td>\n",
       "      <td>-0.097003</td>\n",
       "      <td>0</td>\n",
       "      <td>0.5</td>\n",
       "    </tr>\n",
       "    <tr>\n",
       "      <th>2</th>\n",
       "      <td>{'max_depth': 2, 'min_child_weight': 4, 'reg_a...</td>\n",
       "      <td>-0.029920</td>\n",
       "      <td>-0.098688</td>\n",
       "      <td>0</td>\n",
       "      <td>0.7</td>\n",
       "    </tr>\n",
       "    <tr>\n",
       "      <th>3</th>\n",
       "      <td>{'max_depth': 2, 'min_child_weight': 4, 'reg_a...</td>\n",
       "      <td>-0.025024</td>\n",
       "      <td>-0.101496</td>\n",
       "      <td>0</td>\n",
       "      <td>1</td>\n",
       "    </tr>\n",
       "    <tr>\n",
       "      <th>4</th>\n",
       "      <td>{'max_depth': 2, 'min_child_weight': 4, 'reg_a...</td>\n",
       "      <td>-0.058410</td>\n",
       "      <td>-0.091800</td>\n",
       "      <td>0.5</td>\n",
       "      <td>0.3</td>\n",
       "    </tr>\n",
       "    <tr>\n",
       "      <th>5</th>\n",
       "      <td>{'max_depth': 2, 'min_child_weight': 4, 'reg_a...</td>\n",
       "      <td>-0.040457</td>\n",
       "      <td>-0.094649</td>\n",
       "      <td>0.5</td>\n",
       "      <td>0.5</td>\n",
       "    </tr>\n",
       "    <tr>\n",
       "      <th>6</th>\n",
       "      <td>{'max_depth': 2, 'min_child_weight': 4, 'reg_a...</td>\n",
       "      <td>-0.032664</td>\n",
       "      <td>-0.097404</td>\n",
       "      <td>0.5</td>\n",
       "      <td>0.7</td>\n",
       "    </tr>\n",
       "    <tr>\n",
       "      <th>7</th>\n",
       "      <td>{'max_depth': 2, 'min_child_weight': 4, 'reg_a...</td>\n",
       "      <td>-0.027101</td>\n",
       "      <td>-0.101298</td>\n",
       "      <td>0.5</td>\n",
       "      <td>1</td>\n",
       "    </tr>\n",
       "    <tr>\n",
       "      <th>8</th>\n",
       "      <td>{'max_depth': 2, 'min_child_weight': 4, 'reg_a...</td>\n",
       "      <td>-0.063431</td>\n",
       "      <td>-0.091150</td>\n",
       "      <td>1</td>\n",
       "      <td>0.3</td>\n",
       "    </tr>\n",
       "    <tr>\n",
       "      <th>9</th>\n",
       "      <td>{'max_depth': 2, 'min_child_weight': 4, 'reg_a...</td>\n",
       "      <td>-0.044666</td>\n",
       "      <td>-0.092537</td>\n",
       "      <td>1</td>\n",
       "      <td>0.5</td>\n",
       "    </tr>\n",
       "    <tr>\n",
       "      <th>10</th>\n",
       "      <td>{'max_depth': 2, 'min_child_weight': 4, 'reg_a...</td>\n",
       "      <td>-0.036026</td>\n",
       "      <td>-0.096239</td>\n",
       "      <td>1</td>\n",
       "      <td>0.7</td>\n",
       "    </tr>\n",
       "    <tr>\n",
       "      <th>11</th>\n",
       "      <td>{'max_depth': 2, 'min_child_weight': 4, 'reg_a...</td>\n",
       "      <td>-0.029771</td>\n",
       "      <td>-0.099906</td>\n",
       "      <td>1</td>\n",
       "      <td>1</td>\n",
       "    </tr>\n",
       "    <tr>\n",
       "      <th>12</th>\n",
       "      <td>{'max_depth': 2, 'min_child_weight': 4, 'reg_a...</td>\n",
       "      <td>-0.093270</td>\n",
       "      <td>-0.093114</td>\n",
       "      <td>5</td>\n",
       "      <td>0.3</td>\n",
       "    </tr>\n",
       "    <tr>\n",
       "      <th>13</th>\n",
       "      <td>{'max_depth': 2, 'min_child_weight': 4, 'reg_a...</td>\n",
       "      <td>-0.076503</td>\n",
       "      <td>-0.086659</td>\n",
       "      <td>5</td>\n",
       "      <td>0.5</td>\n",
       "    </tr>\n",
       "    <tr>\n",
       "      <th>14</th>\n",
       "      <td>{'max_depth': 2, 'min_child_weight': 4, 'reg_a...</td>\n",
       "      <td>-0.065948</td>\n",
       "      <td>-0.086719</td>\n",
       "      <td>5</td>\n",
       "      <td>0.7</td>\n",
       "    </tr>\n",
       "    <tr>\n",
       "      <th>15</th>\n",
       "      <td>{'max_depth': 2, 'min_child_weight': 4, 'reg_a...</td>\n",
       "      <td>-0.056507</td>\n",
       "      <td>-0.090287</td>\n",
       "      <td>5</td>\n",
       "      <td>1</td>\n",
       "    </tr>\n",
       "    <tr>\n",
       "      <th>16</th>\n",
       "      <td>{'max_depth': 2, 'min_child_weight': 4, 'reg_a...</td>\n",
       "      <td>-0.101745</td>\n",
       "      <td>-0.092323</td>\n",
       "      <td>10</td>\n",
       "      <td>0.3</td>\n",
       "    </tr>\n",
       "    <tr>\n",
       "      <th>17</th>\n",
       "      <td>{'max_depth': 2, 'min_child_weight': 4, 'reg_a...</td>\n",
       "      <td>-0.088136</td>\n",
       "      <td>-0.086235</td>\n",
       "      <td>10</td>\n",
       "      <td>0.5</td>\n",
       "    </tr>\n",
       "    <tr>\n",
       "      <th>18</th>\n",
       "      <td>{'max_depth': 2, 'min_child_weight': 4, 'reg_a...</td>\n",
       "      <td>-0.079234</td>\n",
       "      <td>-0.086536</td>\n",
       "      <td>10</td>\n",
       "      <td>0.7</td>\n",
       "    </tr>\n",
       "    <tr>\n",
       "      <th>19</th>\n",
       "      <td>{'max_depth': 2, 'min_child_weight': 4, 'reg_a...</td>\n",
       "      <td>-0.072479</td>\n",
       "      <td>-0.087983</td>\n",
       "      <td>10</td>\n",
       "      <td>1</td>\n",
       "    </tr>\n",
       "  </tbody>\n",
       "</table>\n",
       "</div>"
      ],
      "text/plain": [
       "                                               params  mean_train_score  \\\n",
       "0   {'max_depth': 2, 'min_child_weight': 4, 'reg_a...         -0.053692   \n",
       "1   {'max_depth': 2, 'min_child_weight': 4, 'reg_a...         -0.036560   \n",
       "2   {'max_depth': 2, 'min_child_weight': 4, 'reg_a...         -0.029920   \n",
       "3   {'max_depth': 2, 'min_child_weight': 4, 'reg_a...         -0.025024   \n",
       "4   {'max_depth': 2, 'min_child_weight': 4, 'reg_a...         -0.058410   \n",
       "5   {'max_depth': 2, 'min_child_weight': 4, 'reg_a...         -0.040457   \n",
       "6   {'max_depth': 2, 'min_child_weight': 4, 'reg_a...         -0.032664   \n",
       "7   {'max_depth': 2, 'min_child_weight': 4, 'reg_a...         -0.027101   \n",
       "8   {'max_depth': 2, 'min_child_weight': 4, 'reg_a...         -0.063431   \n",
       "9   {'max_depth': 2, 'min_child_weight': 4, 'reg_a...         -0.044666   \n",
       "10  {'max_depth': 2, 'min_child_weight': 4, 'reg_a...         -0.036026   \n",
       "11  {'max_depth': 2, 'min_child_weight': 4, 'reg_a...         -0.029771   \n",
       "12  {'max_depth': 2, 'min_child_weight': 4, 'reg_a...         -0.093270   \n",
       "13  {'max_depth': 2, 'min_child_weight': 4, 'reg_a...         -0.076503   \n",
       "14  {'max_depth': 2, 'min_child_weight': 4, 'reg_a...         -0.065948   \n",
       "15  {'max_depth': 2, 'min_child_weight': 4, 'reg_a...         -0.056507   \n",
       "16  {'max_depth': 2, 'min_child_weight': 4, 'reg_a...         -0.101745   \n",
       "17  {'max_depth': 2, 'min_child_weight': 4, 'reg_a...         -0.088136   \n",
       "18  {'max_depth': 2, 'min_child_weight': 4, 'reg_a...         -0.079234   \n",
       "19  {'max_depth': 2, 'min_child_weight': 4, 'reg_a...         -0.072479   \n",
       "\n",
       "    mean_test_score param_reg_alpha param_scale_pos_weight  \n",
       "0         -0.093719               0                    0.3  \n",
       "1         -0.097003               0                    0.5  \n",
       "2         -0.098688               0                    0.7  \n",
       "3         -0.101496               0                      1  \n",
       "4         -0.091800             0.5                    0.3  \n",
       "5         -0.094649             0.5                    0.5  \n",
       "6         -0.097404             0.5                    0.7  \n",
       "7         -0.101298             0.5                      1  \n",
       "8         -0.091150               1                    0.3  \n",
       "9         -0.092537               1                    0.5  \n",
       "10        -0.096239               1                    0.7  \n",
       "11        -0.099906               1                      1  \n",
       "12        -0.093114               5                    0.3  \n",
       "13        -0.086659               5                    0.5  \n",
       "14        -0.086719               5                    0.7  \n",
       "15        -0.090287               5                      1  \n",
       "16        -0.092323              10                    0.3  \n",
       "17        -0.086235              10                    0.5  \n",
       "18        -0.086536              10                    0.7  \n",
       "19        -0.087983              10                      1  "
      ]
     },
     "execution_count": 92,
     "metadata": {},
     "output_type": "execute_result"
    }
   ],
   "source": [
    "pd.DataFrame(grid_search.cv_results_)[['params','mean_train_score','mean_test_score','param_reg_alpha','param_scale_pos_weight']]"
   ]
  },
  {
   "cell_type": "code",
   "execution_count": 93,
   "metadata": {},
   "outputs": [
    {
     "data": {
      "text/plain": [
       "{'max_depth': 2,\n",
       " 'min_child_weight': 4,\n",
       " 'reg_alpha': 10,\n",
       " 'scale_pos_weight': 0.5}"
      ]
     },
     "execution_count": 93,
     "metadata": {},
     "output_type": "execute_result"
    }
   ],
   "source": [
    "grid_search.best_params_"
   ]
  },
  {
   "cell_type": "code",
   "execution_count": 94,
   "metadata": {},
   "outputs": [
    {
     "data": {
      "text/plain": [
       "XGBClassifier(base_score=0.5, booster='gbtree', colsample_bylevel=1,\n",
       "              colsample_bynode=1, colsample_bytree=1, gamma=0,\n",
       "              learning_rate=0.1, max_delta_step=0, max_depth=2,\n",
       "              min_child_weight=4, missing=None, n_estimators=300, n_jobs=2,\n",
       "              nthread=None, objective='binary:logistic', random_state=0,\n",
       "              reg_alpha=10, reg_lambda=1, scale_pos_weight=0.5, seed=None,\n",
       "              silent=None, subsample=1, verbosity=1)"
      ]
     },
     "execution_count": 94,
     "metadata": {},
     "output_type": "execute_result"
    }
   ],
   "source": [
    "grid_search.best_estimator_"
   ]
  },
  {
   "cell_type": "code",
   "execution_count": null,
   "metadata": {},
   "outputs": [],
   "source": [
    "model."
   ]
  },
  {
   "cell_type": "markdown",
   "metadata": {},
   "source": [
    "## Evaluation using CV on training set"
   ]
  },
  {
   "cell_type": "code",
   "execution_count": 23,
   "metadata": {},
   "outputs": [],
   "source": [
    "from src.eval.eval_utils import cross_val_predict_tscv, ModelCVEvaluation"
   ]
  },
  {
   "cell_type": "code",
   "execution_count": 95,
   "metadata": {},
   "outputs": [
    {
     "name": "stderr",
     "output_type": "stream",
     "text": [
      "No handles with labels found to put in legend.\n"
     ]
    },
    {
     "name": "stdout",
     "output_type": "stream",
     "text": [
      "INPUT DATA\n",
      "==========\n",
      "FEATURES:36\n",
      "TRAINING SAMPLES: 2222\n",
      "CLASS 1 PROPORTION: 0.13\n",
      "==============================\n",
      "CV RESULTS\n",
      "==========\n",
      "average_precision\n",
      "TRAIN MEAN (std):  0.695 ( 0.016 )\n",
      "VALID MEAN (std):  0.559 ( 0.089 )\n",
      "DIFF BETWEEN MEAN:  0.136\n",
      "==========\n",
      "briers_score_loss\n",
      "TRAIN MEAN (std):  0.089 ( 0.010 )\n",
      "VALID MEAN (std):  0.087 ( 0.032 )\n",
      "DIFF BETWEEN MEAN:  0.002\n",
      "==============================\n"
     ]
    },
    {
     "data": {
      "image/png": "[encoded data removed]",
      "text/plain": [
       "<Figure size 648x288 with 2 Axes>"
      ]
     },
     "metadata": {
      "needs_background": "light"
     },
     "output_type": "display_data"
    }
   ],
   "source": [
    "meval = ModelCVEvaluation(grid_search.best_estimator_, 'D3_lgr_simplefeatures', X_trainT, y_train, 6)"
   ]
  },
  {
   "cell_type": "code",
   "execution_count": 79,
   "metadata": {},
   "outputs": [
    {
     "name": "stderr",
     "output_type": "stream",
     "text": [
      "No handles with labels found to put in legend.\n"
     ]
    },
    {
     "name": "stdout",
     "output_type": "stream",
     "text": [
      "INPUT DATA\n",
      "==========\n",
      "FEATURES:36\n",
      "TRAINING SAMPLES: 2222\n",
      "CLASS 1 PROPORTION: 0.13\n",
      "==============================\n",
      "CV RESULTS\n",
      "==========\n",
      "average_precision\n",
      "TRAIN MEAN (std):  0.763 ( 0.030 )\n",
      "VALID MEAN (std):  0.567 ( 0.079 )\n",
      "DIFF BETWEEN MEAN:  0.197\n",
      "==========\n",
      "briers_score_loss\n",
      "TRAIN MEAN (std):  0.072 ( 0.005 )\n",
      "VALID MEAN (std):  0.086 ( 0.029 )\n",
      "DIFF BETWEEN MEAN:  -0.014\n",
      "==============================\n"
     ]
    },
    {
     "data": {
      "image/png": "[encoded data removed]",
      "text/plain": [
       "<Figure size 648x288 with 2 Axes>"
      ]
     },
     "metadata": {
      "needs_background": "light"
     },
     "output_type": "display_data"
    }
   ],
   "source": [
    "meval = ModelCVEvaluation(grid_search.best_estimator_, 'D3_lgr_simplefeatures', X_trainT, y_train, 6)"
   ]
  },
  {
   "cell_type": "code",
   "execution_count": null,
   "metadata": {},
   "outputs": [],
   "source": []
  },
  {
   "cell_type": "code",
   "execution_count": null,
   "metadata": {},
   "outputs": [],
   "source": []
  },
  {
   "cell_type": "code",
   "execution_count": null,
   "metadata": {},
   "outputs": [],
   "source": []
  },
  {
   "cell_type": "code",
   "execution_count": null,
   "metadata": {},
   "outputs": [],
   "source": []
  },
  {
   "cell_type": "code",
   "execution_count": null,
   "metadata": {},
   "outputs": [],
   "source": []
  },
  {
   "cell_type": "code",
   "execution_count": null,
   "metadata": {},
   "outputs": [],
   "source": []
  },
  {
   "cell_type": "code",
   "execution_count": 32,
   "metadata": {},
   "outputs": [
    {
     "name": "stderr",
     "output_type": "stream",
     "text": [
      "No handles with labels found to put in legend.\n"
     ]
    },
    {
     "name": "stdout",
     "output_type": "stream",
     "text": [
      "INPUT DATA\n",
      "==========\n",
      "FEATURES:36\n",
      "TRAINING SAMPLES: 2222\n",
      "CLASS 1 PROPORTION: 0.13\n",
      "==============================\n",
      "CV RESULTS\n",
      "==========\n",
      "average_precision\n",
      "TRAIN MEAN (std):  0.705 ( 0.039 )\n",
      "VALID MEAN (std):  0.593 ( 0.067 )\n",
      "DIFF BETWEEN MEAN:  0.112\n",
      "==========\n",
      "briers_score_loss\n",
      "TRAIN MEAN (std):  0.074 ( 0.006 )\n",
      "VALID MEAN (std):  0.100 ( 0.043 )\n",
      "DIFF BETWEEN MEAN:  -0.026\n",
      "==============================\n"
     ]
    },
    {
     "data": {
      "image/png": "[encoded data removed]",
      "text/plain": [
       "<Figure size 648x288 with 2 Axes>"
      ]
     },
     "metadata": {
      "needs_background": "light"
     },
     "output_type": "display_data"
    }
   ],
   "source": [
    "meval = ModelCVEvaluation(grid_search.best_estimator_, 'D3_lgr_simplefeatures', X_trainT, y_train, 6)"
   ]
  },
  {
   "cell_type": "code",
   "execution_count": null,
   "metadata": {},
   "outputs": [],
   "source": []
  },
  {
   "cell_type": "markdown",
   "metadata": {},
   "source": [
    "Find params most useful"
   ]
  },
  {
   "cell_type": "code",
   "execution_count": null,
   "metadata": {},
   "outputs": [],
   "source": []
  },
  {
   "cell_type": "code",
   "execution_count": 24,
   "metadata": {},
   "outputs": [
    {
     "data": {
      "text/html": [
       "<div>\n",
       "<style scoped>\n",
       "    .dataframe tbody tr th:only-of-type {\n",
       "        vertical-align: middle;\n",
       "    }\n",
       "\n",
       "    .dataframe tbody tr th {\n",
       "        vertical-align: top;\n",
       "    }\n",
       "\n",
       "    .dataframe thead th {\n",
       "        text-align: right;\n",
       "    }\n",
       "</style>\n",
       "<table border=\"1\" class=\"dataframe\">\n",
       "  <thead>\n",
       "    <tr style=\"text-align: right;\">\n",
       "      <th></th>\n",
       "      <th>coef</th>\n",
       "    </tr>\n",
       "  </thead>\n",
       "  <tbody>\n",
       "    <tr>\n",
       "      <th>EDMORNwait_time_std</th>\n",
       "      <td>-1.950738</td>\n",
       "    </tr>\n",
       "    <tr>\n",
       "      <th>IPMORNocc_patients_elec</th>\n",
       "      <td>-1.362879</td>\n",
       "    </tr>\n",
       "    <tr>\n",
       "      <th>week_sin</th>\n",
       "      <td>-0.950546</td>\n",
       "    </tr>\n",
       "    <tr>\n",
       "      <th>EDMORNage_mean</th>\n",
       "      <td>-0.796138</td>\n",
       "    </tr>\n",
       "    <tr>\n",
       "      <th>EDDAILYno_admissions</th>\n",
       "      <td>-0.453936</td>\n",
       "    </tr>\n",
       "    <tr>\n",
       "      <th>IPMORNocc_patients_total</th>\n",
       "      <td>-0.372838</td>\n",
       "    </tr>\n",
       "    <tr>\n",
       "      <th>EDMORNocc_majors</th>\n",
       "      <td>-0.370918</td>\n",
       "    </tr>\n",
       "    <tr>\n",
       "      <th>IPDAILYno_patients_daycase</th>\n",
       "      <td>-0.357133</td>\n",
       "    </tr>\n",
       "    <tr>\n",
       "      <th>IPMORNocc_patients_elecnonelec_gp</th>\n",
       "      <td>-0.338180</td>\n",
       "    </tr>\n",
       "    <tr>\n",
       "      <th>week_cos</th>\n",
       "      <td>-0.221950</td>\n",
       "    </tr>\n",
       "    <tr>\n",
       "      <th>EDMORNocc_minors</th>\n",
       "      <td>-0.196925</td>\n",
       "    </tr>\n",
       "    <tr>\n",
       "      <th>year_sin</th>\n",
       "      <td>-0.164712</td>\n",
       "    </tr>\n",
       "    <tr>\n",
       "      <th>EDDAILYno_age_75plus</th>\n",
       "      <td>-0.113767</td>\n",
       "    </tr>\n",
       "    <tr>\n",
       "      <th>IPMORNage_mean_elecnonelec</th>\n",
       "      <td>-0.112992</td>\n",
       "    </tr>\n",
       "    <tr>\n",
       "      <th>EDMORNocc_age_75plus</th>\n",
       "      <td>-0.107778</td>\n",
       "    </tr>\n",
       "    <tr>\n",
       "      <th>holiday</th>\n",
       "      <td>-0.077339</td>\n",
       "    </tr>\n",
       "    <tr>\n",
       "      <th>EDMORNwait_time_skew</th>\n",
       "      <td>-0.071502</td>\n",
       "    </tr>\n",
       "    <tr>\n",
       "      <th>EDMORNocc_resus</th>\n",
       "      <td>-0.065279</td>\n",
       "    </tr>\n",
       "    <tr>\n",
       "      <th>IPMORNocc_patients_nonelec</th>\n",
       "      <td>-0.058373</td>\n",
       "    </tr>\n",
       "    <tr>\n",
       "      <th>IPMORNcurrent_los_mean</th>\n",
       "      <td>-0.029515</td>\n",
       "    </tr>\n",
       "    <tr>\n",
       "      <th>IPMORNocc_patients_elecnonelec_ed</th>\n",
       "      <td>0.012116</td>\n",
       "    </tr>\n",
       "    <tr>\n",
       "      <th>year</th>\n",
       "      <td>0.059038</td>\n",
       "    </tr>\n",
       "    <tr>\n",
       "      <th>IPMORNocc_age_75plus_elecnonelec</th>\n",
       "      <td>0.059449</td>\n",
       "    </tr>\n",
       "    <tr>\n",
       "      <th>IPDAILYno_patients_elec</th>\n",
       "      <td>0.129291</td>\n",
       "    </tr>\n",
       "    <tr>\n",
       "      <th>EDMORNocc_mmrother</th>\n",
       "      <td>0.148039</td>\n",
       "    </tr>\n",
       "    <tr>\n",
       "      <th>IPMORNcurrent_los_std</th>\n",
       "      <td>0.166547</td>\n",
       "    </tr>\n",
       "    <tr>\n",
       "      <th>EDMeanOcc_prevday</th>\n",
       "      <td>0.224127</td>\n",
       "    </tr>\n",
       "    <tr>\n",
       "      <th>IPDAILYno_patients_total</th>\n",
       "      <td>0.229803</td>\n",
       "    </tr>\n",
       "    <tr>\n",
       "      <th>IPDAILYno_age_75plus_elecnonelec</th>\n",
       "      <td>0.288350</td>\n",
       "    </tr>\n",
       "    <tr>\n",
       "      <th>EDMORNwait_time_mean</th>\n",
       "      <td>0.295409</td>\n",
       "    </tr>\n",
       "    <tr>\n",
       "      <th>EDDAILYage_mean</th>\n",
       "      <td>0.297228</td>\n",
       "    </tr>\n",
       "    <tr>\n",
       "      <th>IPMORNcurrent_los_skew</th>\n",
       "      <td>0.375222</td>\n",
       "    </tr>\n",
       "    <tr>\n",
       "      <th>EDDAILYno_attendances_ambulance</th>\n",
       "      <td>0.389679</td>\n",
       "    </tr>\n",
       "    <tr>\n",
       "      <th>year_cos</th>\n",
       "      <td>0.440502</td>\n",
       "    </tr>\n",
       "    <tr>\n",
       "      <th>month</th>\n",
       "      <td>0.451316</td>\n",
       "    </tr>\n",
       "    <tr>\n",
       "      <th>EDDAILYno_attendances</th>\n",
       "      <td>0.506243</td>\n",
       "    </tr>\n",
       "    <tr>\n",
       "      <th>EDMORNocc_ambulance</th>\n",
       "      <td>0.517982</td>\n",
       "    </tr>\n",
       "    <tr>\n",
       "      <th>EDMORNoccupancy</th>\n",
       "      <td>0.662508</td>\n",
       "    </tr>\n",
       "    <tr>\n",
       "      <th>IPDAILYage_mean_elecnonelec</th>\n",
       "      <td>0.680256</td>\n",
       "    </tr>\n",
       "    <tr>\n",
       "      <th>IPMORNocc_patients_daycase</th>\n",
       "      <td>0.725434</td>\n",
       "    </tr>\n",
       "    <tr>\n",
       "      <th>IPDAILYno_patients_nonelec</th>\n",
       "      <td>0.767287</td>\n",
       "    </tr>\n",
       "    <tr>\n",
       "      <th>christmas_period</th>\n",
       "      <td>1.282693</td>\n",
       "    </tr>\n",
       "  </tbody>\n",
       "</table>\n",
       "</div>"
      ],
      "text/plain": [
       "                                       coef\n",
       "EDMORNwait_time_std               -1.950738\n",
       "IPMORNocc_patients_elec           -1.362879\n",
       "week_sin                          -0.950546\n",
       "EDMORNage_mean                    -0.796138\n",
       "EDDAILYno_admissions              -0.453936\n",
       "IPMORNocc_patients_total          -0.372838\n",
       "EDMORNocc_majors                  -0.370918\n",
       "IPDAILYno_patients_daycase        -0.357133\n",
       "IPMORNocc_patients_elecnonelec_gp -0.338180\n",
       "week_cos                          -0.221950\n",
       "EDMORNocc_minors                  -0.196925\n",
       "year_sin                          -0.164712\n",
       "EDDAILYno_age_75plus              -0.113767\n",
       "IPMORNage_mean_elecnonelec        -0.112992\n",
       "EDMORNocc_age_75plus              -0.107778\n",
       "holiday                           -0.077339\n",
       "EDMORNwait_time_skew              -0.071502\n",
       "EDMORNocc_resus                   -0.065279\n",
       "IPMORNocc_patients_nonelec        -0.058373\n",
       "IPMORNcurrent_los_mean            -0.029515\n",
       "IPMORNocc_patients_elecnonelec_ed  0.012116\n",
       "year                               0.059038\n",
       "IPMORNocc_age_75plus_elecnonelec   0.059449\n",
       "IPDAILYno_patients_elec            0.129291\n",
       "EDMORNocc_mmrother                 0.148039\n",
       "IPMORNcurrent_los_std              0.166547\n",
       "EDMeanOcc_prevday                  0.224127\n",
       "IPDAILYno_patients_total           0.229803\n",
       "IPDAILYno_age_75plus_elecnonelec   0.288350\n",
       "EDMORNwait_time_mean               0.295409\n",
       "EDDAILYage_mean                    0.297228\n",
       "IPMORNcurrent_los_skew             0.375222\n",
       "EDDAILYno_attendances_ambulance    0.389679\n",
       "year_cos                           0.440502\n",
       "month                              0.451316\n",
       "EDDAILYno_attendances              0.506243\n",
       "EDMORNocc_ambulance                0.517982\n",
       "EDMORNoccupancy                    0.662508\n",
       "IPDAILYage_mean_elecnonelec        0.680256\n",
       "IPMORNocc_patients_daycase         0.725434\n",
       "IPDAILYno_patients_nonelec         0.767287\n",
       "christmas_period                   1.282693"
      ]
     },
     "execution_count": 24,
     "metadata": {},
     "output_type": "execute_result"
    }
   ],
   "source": [
    "names = X_train.columns\n",
    "coefs = grid_search.best_estimator_.coef_[0]\n",
    "coefs_dict = dict(zip(names, coefs))\n",
    "coefs = pd.DataFrame(coefs_dict,index=['coef']).T\n",
    "coefs.sort_values('coef')"
   ]
  },
  {
   "cell_type": "code",
   "execution_count": null,
   "metadata": {},
   "outputs": [],
   "source": []
  },
  {
   "cell_type": "code",
   "execution_count": 22,
   "metadata": {},
   "outputs": [
    {
     "name": "stderr",
     "output_type": "stream",
     "text": [
      "No handles with labels found to put in legend.\n"
     ]
    },
    {
     "name": "stdout",
     "output_type": "stream",
     "text": [
      "INPUT DATA\n",
      "==========\n",
      "FEATURES:39\n",
      "TRAINING SAMPLES: 2222\n",
      "CLASS 1 PROPORTION: 0.13\n",
      "==============================\n",
      "CV RESULTS\n",
      "==========\n",
      "average_precision\n",
      "TRAIN MEAN (std):  0.701 ( 0.040 )\n",
      "VALID MEAN (std):  0.614 ( 0.088 )\n",
      "DIFF BETWEEN MEAN:  0.088\n",
      "==========\n",
      "briers_score_loss\n",
      "TRAIN MEAN (std):  0.075 ( 0.006 )\n",
      "VALID MEAN (std):  0.099 ( 0.037 )\n",
      "DIFF BETWEEN MEAN:  -0.025\n",
      "==============================\n"
     ]
    },
    {
     "data": {
      "image/png": "[encoded data removed]",
      "text/plain": [
       "<Figure size 648x288 with 2 Axes>"
      ]
     },
     "metadata": {
      "needs_background": "light"
     },
     "output_type": "display_data"
    }
   ],
   "source": [
    "meval = ModelCVEvaluation(grid_search.best_estimator_, 'D3_lgr_simplefeatures', X_trainT, y_train, 6)"
   ]
  },
  {
   "cell_type": "code",
   "execution_count": 22,
   "metadata": {},
   "outputs": [
    {
     "name": "stderr",
     "output_type": "stream",
     "text": [
      "No handles with labels found to put in legend.\n"
     ]
    },
    {
     "name": "stdout",
     "output_type": "stream",
     "text": [
      "INPUT DATA\n",
      "==========\n",
      "FEATURES:39\n",
      "TRAINING SAMPLES: 2222\n",
      "CLASS 1 PROPORTION: 0.13\n",
      "==============================\n",
      "CV RESULTS\n",
      "==========\n",
      "average_precision\n",
      "TRAIN MEAN (std):  0.666 ( 0.032 )\n",
      "VALID MEAN (std):  0.618 ( 0.085 )\n",
      "DIFF BETWEEN MEAN:  0.049\n",
      "==========\n",
      "briers_score_loss\n",
      "TRAIN MEAN (std):  0.121 ( 0.012 )\n",
      "VALID MEAN (std):  0.137 ( 0.082 )\n",
      "DIFF BETWEEN MEAN:  -0.016\n",
      "==============================\n"
     ]
    },
    {
     "data": {
      "image/png": "[encoded data removed]",
      "text/plain": [
       "<Figure size 648x288 with 2 Axes>"
      ]
     },
     "metadata": {
      "needs_background": "light"
     },
     "output_type": "display_data"
    }
   ],
   "source": [
    "meval = ModelCVEvaluation(grid_search.best_estimator_, 'D3_lgr_simplefeatures', X_trainT, y_train, 6)"
   ]
  },
  {
   "cell_type": "markdown",
   "metadata": {},
   "source": [
    "Look at each fold of Timseries:"
   ]
  },
  {
   "cell_type": "code",
   "execution_count": 23,
   "metadata": {},
   "outputs": [
    {
     "name": "stderr",
     "output_type": "stream",
     "text": [
      "No handles with labels found to put in legend.\n",
      "No handles with labels found to put in legend.\n",
      "No handles with labels found to put in legend.\n",
      "No handles with labels found to put in legend.\n",
      "No handles with labels found to put in legend.\n",
      "No handles with labels found to put in legend.\n"
     ]
    },
    {
     "name": "stdout",
     "output_type": "stream",
     "text": [
      "--------------------\n",
      "fold1\n",
      "VALIDATION SAMPLES: 317\n",
      "CLASS 1 PROPORTION: 0.22\n",
      "--------------------\n",
      "fold2\n",
      "VALIDATION SAMPLES: 317\n",
      "CLASS 1 PROPORTION: 0.09\n",
      "--------------------\n",
      "fold3\n",
      "VALIDATION SAMPLES: 317\n",
      "CLASS 1 PROPORTION: 0.16\n",
      "--------------------\n",
      "fold4\n",
      "VALIDATION SAMPLES: 317\n",
      "CLASS 1 PROPORTION: 0.06\n",
      "--------------------\n",
      "fold5\n",
      "VALIDATION SAMPLES: 317\n",
      "CLASS 1 PROPORTION: 0.12\n",
      "--------------------\n",
      "fold6\n",
      "VALIDATION SAMPLES: 317\n",
      "CLASS 1 PROPORTION: 0.15\n"
     ]
    },
    {
     "data": {
      "image/png": "[encoded data removed]",
      "text/plain": [
       "<Figure size 648x288 with 2 Axes>"
      ]
     },
     "metadata": {
      "needs_background": "light"
     },
     "output_type": "display_data"
    },
    {
     "data": {
      "image/png": "[encoded data removed]",
      "text/plain": [
       "<Figure size 648x288 with 2 Axes>"
      ]
     },
     "metadata": {
      "needs_background": "light"
     },
     "output_type": "display_data"
    },
    {
     "data": {
      "image/png": "[encoded data removed]",
      "text/plain": [
       "<Figure size 648x288 with 2 Axes>"
      ]
     },
     "metadata": {
      "needs_background": "light"
     },
     "output_type": "display_data"
    },
    {
     "data": {
      "image/png": "[encoded data removed]",
      "text/plain": [
       "<Figure size 648x288 with 2 Axes>"
      ]
     },
     "metadata": {
      "needs_background": "light"
     },
     "output_type": "display_data"
    },
    {
     "data": {
      "image/png": "[encoded data removed]",
      "text/plain": [
       "<Figure size 648x288 with 2 Axes>"
      ]
     },
     "metadata": {
      "needs_background": "light"
     },
     "output_type": "display_data"
    },
    {
     "data": {
      "image/png": "[encoded data removed]",
      "text/plain": [
       "<Figure size 648x288 with 2 Axes>"
      ]
     },
     "metadata": {
      "needs_background": "light"
     },
     "output_type": "display_data"
    }
   ],
   "source": [
    "meval.plot_PR_curve_each_valid_set()"
   ]
  },
  {
   "cell_type": "markdown",
   "metadata": {},
   "source": [
    "Save model evaluation to pickle."
   ]
  },
  {
   "cell_type": "code",
   "execution_count": 24,
   "metadata": {},
   "outputs": [],
   "source": [
    "import pickle\n",
    "filename = '../../../data/output/SimpleModelLGR_Allvars.pkl'\n",
    "\n",
    "outfile = open(filename,'wb')\n",
    "pickle.dump(meval,outfile)\n",
    "outfile.close()"
   ]
  },
  {
   "cell_type": "code",
   "execution_count": null,
   "metadata": {},
   "outputs": [],
   "source": []
  },
  {
   "cell_type": "code",
   "execution_count": null,
   "metadata": {},
   "outputs": [],
   "source": []
  }
 ],
 "metadata": {
  "kernelspec": {
   "display_name": "Python 3",
   "language": "python",
   "name": "python3"
  },
  "language_info": {
   "codemirror_mode": {
    "name": "ipython",
    "version": 3
   },
   "file_extension": ".py",
   "mimetype": "text/x-python",
   "name": "python",
   "nbconvert_exporter": "python",
   "pygments_lexer": "ipython3",
   "version": "3.6.7"
  }
 },
 "nbformat": 4,
 "nbformat_minor": 2
}
