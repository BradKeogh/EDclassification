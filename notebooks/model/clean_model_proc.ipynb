{
 "cells": [
  {
   "cell_type": "markdown",
   "metadata": {},
   "source": [
    "# Aims\n",
    "\n",
    "- create lean model building process for 'bad day' in ED\n",
    "\n",
    "# Objectives\n",
    "\n",
    "- import daily data that has had features created\n",
    "- add in target feature: worst days of occupancy\n",
    "- add in lagged features\n",
    "- run model with all variables\n",
    "\n",
    "- feature selection? + re-run model\n",
    "\n",
    "# Intentions\n",
    "- build pipelines for data integration\n",
    "- export as much of the heavy functions to seperate .py files\n"
   ]
  },
  {
   "cell_type": "code",
   "execution_count": 1,
   "metadata": {},
   "outputs": [],
   "source": [
    "import pandas as pd\n",
    "import numpy as np\n",
    "import matplotlib.pyplot as plt\n",
    "%matplotlib inline\n",
    "import seaborn as sns\n",
    "sns.set()\n",
    "\n",
    "# %load_ext autoreload\n",
    "# %autoreload 2\n",
    "\n",
    "#import mlxtend"
   ]
  },
  {
   "cell_type": "markdown",
   "metadata": {},
   "source": [
    "# get data & merge"
   ]
  },
  {
   "cell_type": "code",
   "execution_count": 2,
   "metadata": {},
   "outputs": [],
   "source": [
    "# target_class = pd.read_pickle('./../target_feature_df.pkl')\n",
    "target_class = pd.read_pickle('./../occ_target/EDooc_class.pkl')"
   ]
  },
  {
   "cell_type": "code",
   "execution_count": 3,
   "metadata": {},
   "outputs": [],
   "source": [
    "# pickle_names = []\n",
    "cal = pd.read_pickle('./../../../3_Data/EDclassification/processed/callender.pkl')\n",
    "\n",
    "EDmorn = pd.read_pickle('./../../../3_Data/EDclassification/processed/EDmorn.pkl')\n",
    "\n",
    "EDpd = pd.read_pickle('./../../../3_Data/EDclassification/processed/EDprevday.pkl')\n",
    "\n",
    "IPoccperc = pd.read_pickle('./../feature_creation/IPocc_perc.pkl')\n",
    "\n",
    "IPmorn = pd.read_pickle('./../../../3_Data/EDclassification/processed/IPmorn.pkl')"
   ]
  },
  {
   "cell_type": "code",
   "execution_count": 4,
   "metadata": {},
   "outputs": [
    {
     "data": {
      "text/plain": [
       "(2099, 4)"
      ]
     },
     "execution_count": 4,
     "metadata": {},
     "output_type": "execute_result"
    }
   ],
   "source": [
    "cal.shape"
   ]
  },
  {
   "cell_type": "code",
   "execution_count": 5,
   "metadata": {},
   "outputs": [
    {
     "data": {
      "text/plain": [
       "(2830, 13)"
      ]
     },
     "execution_count": 5,
     "metadata": {},
     "output_type": "execute_result"
    }
   ],
   "source": [
    "EDmorn.shape"
   ]
  },
  {
   "cell_type": "code",
   "execution_count": 6,
   "metadata": {},
   "outputs": [
    {
     "data": {
      "text/plain": [
       "(2099, 13)"
      ]
     },
     "execution_count": 6,
     "metadata": {},
     "output_type": "execute_result"
    }
   ],
   "source": [
    "EDpd.shape"
   ]
  },
  {
   "cell_type": "code",
   "execution_count": 7,
   "metadata": {},
   "outputs": [
    {
     "data": {
      "text/plain": [
       "(2386, 8)"
      ]
     },
     "execution_count": 7,
     "metadata": {},
     "output_type": "execute_result"
    }
   ],
   "source": [
    "IPmorn.shape"
   ]
  },
  {
   "cell_type": "code",
   "execution_count": 8,
   "metadata": {},
   "outputs": [
    {
     "data": {
      "text/html": [
       "<div>\n",
       "<style scoped>\n",
       "    .dataframe tbody tr th:only-of-type {\n",
       "        vertical-align: middle;\n",
       "    }\n",
       "\n",
       "    .dataframe tbody tr th {\n",
       "        vertical-align: top;\n",
       "    }\n",
       "\n",
       "    .dataframe thead th {\n",
       "        text-align: right;\n",
       "    }\n",
       "</style>\n",
       "<table border=\"1\" class=\"dataframe\">\n",
       "  <thead>\n",
       "    <tr style=\"text-align: right;\">\n",
       "      <th></th>\n",
       "      <th>IPmorn_day</th>\n",
       "      <th>IPmorn_count</th>\n",
       "      <th>IPmorn_count_elec</th>\n",
       "      <th>IPmorn_count_nonelec</th>\n",
       "      <th>IPmorn_age_mean</th>\n",
       "      <th>IPmorn_age_std</th>\n",
       "      <th>IPmorn_age_skew</th>\n",
       "      <th>IPmorn_prop_nonelec</th>\n",
       "    </tr>\n",
       "    <tr>\n",
       "      <th>time</th>\n",
       "      <th></th>\n",
       "      <th></th>\n",
       "      <th></th>\n",
       "      <th></th>\n",
       "      <th></th>\n",
       "      <th></th>\n",
       "      <th></th>\n",
       "      <th></th>\n",
       "    </tr>\n",
       "  </thead>\n",
       "  <tbody>\n",
       "    <tr>\n",
       "      <th>2012-01-01 07:00:00</th>\n",
       "      <td>2012-01-01</td>\n",
       "      <td>974.0</td>\n",
       "      <td>112.0</td>\n",
       "      <td>853.0</td>\n",
       "      <td>62.297741</td>\n",
       "      <td>26.585503</td>\n",
       "      <td>-0.897309</td>\n",
       "      <td>0.875770</td>\n",
       "    </tr>\n",
       "    <tr>\n",
       "      <th>2012-01-02 07:00:00</th>\n",
       "      <td>2012-01-02</td>\n",
       "      <td>1008.0</td>\n",
       "      <td>98.0</td>\n",
       "      <td>899.0</td>\n",
       "      <td>62.568452</td>\n",
       "      <td>26.251803</td>\n",
       "      <td>-0.901787</td>\n",
       "      <td>0.891865</td>\n",
       "    </tr>\n",
       "    <tr>\n",
       "      <th>2012-01-03 07:00:00</th>\n",
       "      <td>2012-01-03</td>\n",
       "      <td>1043.0</td>\n",
       "      <td>99.0</td>\n",
       "      <td>925.0</td>\n",
       "      <td>62.461170</td>\n",
       "      <td>26.026363</td>\n",
       "      <td>-0.868892</td>\n",
       "      <td>0.886865</td>\n",
       "    </tr>\n",
       "    <tr>\n",
       "      <th>2012-01-04 07:00:00</th>\n",
       "      <td>2012-01-04</td>\n",
       "      <td>1111.0</td>\n",
       "      <td>156.0</td>\n",
       "      <td>946.0</td>\n",
       "      <td>61.738074</td>\n",
       "      <td>26.454768</td>\n",
       "      <td>-0.862075</td>\n",
       "      <td>0.851485</td>\n",
       "    </tr>\n",
       "    <tr>\n",
       "      <th>2012-01-05 07:00:00</th>\n",
       "      <td>2012-01-05</td>\n",
       "      <td>1109.0</td>\n",
       "      <td>166.0</td>\n",
       "      <td>931.0</td>\n",
       "      <td>61.451758</td>\n",
       "      <td>26.787347</td>\n",
       "      <td>-0.844904</td>\n",
       "      <td>0.839495</td>\n",
       "    </tr>\n",
       "  </tbody>\n",
       "</table>\n",
       "</div>"
      ],
      "text/plain": [
       "                     IPmorn_day  IPmorn_count  IPmorn_count_elec  \\\n",
       "time                                                               \n",
       "2012-01-01 07:00:00  2012-01-01         974.0              112.0   \n",
       "2012-01-02 07:00:00  2012-01-02        1008.0               98.0   \n",
       "2012-01-03 07:00:00  2012-01-03        1043.0               99.0   \n",
       "2012-01-04 07:00:00  2012-01-04        1111.0              156.0   \n",
       "2012-01-05 07:00:00  2012-01-05        1109.0              166.0   \n",
       "\n",
       "                     IPmorn_count_nonelec  IPmorn_age_mean  IPmorn_age_std  \\\n",
       "time                                                                         \n",
       "2012-01-01 07:00:00                 853.0        62.297741       26.585503   \n",
       "2012-01-02 07:00:00                 899.0        62.568452       26.251803   \n",
       "2012-01-03 07:00:00                 925.0        62.461170       26.026363   \n",
       "2012-01-04 07:00:00                 946.0        61.738074       26.454768   \n",
       "2012-01-05 07:00:00                 931.0        61.451758       26.787347   \n",
       "\n",
       "                     IPmorn_age_skew  IPmorn_prop_nonelec  \n",
       "time                                                       \n",
       "2012-01-01 07:00:00        -0.897309             0.875770  \n",
       "2012-01-02 07:00:00        -0.901787             0.891865  \n",
       "2012-01-03 07:00:00        -0.868892             0.886865  \n",
       "2012-01-04 07:00:00        -0.862075             0.851485  \n",
       "2012-01-05 07:00:00        -0.844904             0.839495  "
      ]
     },
     "execution_count": 8,
     "metadata": {},
     "output_type": "execute_result"
    }
   ],
   "source": [
    "IPmorn.head()"
   ]
  },
  {
   "cell_type": "code",
   "execution_count": 9,
   "metadata": {},
   "outputs": [],
   "source": [
    "IPmorn.set_index('IPmorn_day',inplace=True)"
   ]
  },
  {
   "cell_type": "markdown",
   "metadata": {},
   "source": [
    "merge all dfs to one"
   ]
  },
  {
   "cell_type": "code",
   "execution_count": 10,
   "metadata": {},
   "outputs": [],
   "source": [
    "feature_dfs = [cal,EDmorn,EDpd,IPoccperc,IPmorn]\n",
    "\n",
    "fm = feature_dfs[0]\n",
    "for df in feature_dfs[1:]:\n",
    "    fm = fm.merge(df, right_index=True, left_index=True)"
   ]
  },
  {
   "cell_type": "code",
   "execution_count": 11,
   "metadata": {},
   "outputs": [
    {
     "data": {
      "text/html": [
       "<div>\n",
       "<style scoped>\n",
       "    .dataframe tbody tr th:only-of-type {\n",
       "        vertical-align: middle;\n",
       "    }\n",
       "\n",
       "    .dataframe tbody tr th {\n",
       "        vertical-align: top;\n",
       "    }\n",
       "\n",
       "    .dataframe thead th {\n",
       "        text-align: right;\n",
       "    }\n",
       "</style>\n",
       "<table border=\"1\" class=\"dataframe\">\n",
       "  <thead>\n",
       "    <tr style=\"text-align: right;\">\n",
       "      <th></th>\n",
       "      <th>callender_DAY(first_EDatt_time)</th>\n",
       "      <th>callender_MONTH(first_EDatt_time)</th>\n",
       "      <th>callender_YEAR(first_EDatt_time)</th>\n",
       "      <th>callender_WEEKEND(first_EDatt_time)</th>\n",
       "      <th>EDmorn_COUNT(EDatt)</th>\n",
       "      <th>EDmorn_MEAN(EDatt.wait_time_total)</th>\n",
       "      <th>EDmorn_MEAN(EDatt.flag_specreq)</th>\n",
       "      <th>EDmorn_MEAN(EDatt.age)</th>\n",
       "      <th>EDmorn_MEAN(EDatt.flag_admission)</th>\n",
       "      <th>EDmorn_STD(EDatt.wait_time_total)</th>\n",
       "      <th>...</th>\n",
       "      <th>IPocc_perc</th>\n",
       "      <th>IP_admissions_elec_nonelec</th>\n",
       "      <th>IP_discharges_elec_nonelec_PRE12</th>\n",
       "      <th>IPmorn_count</th>\n",
       "      <th>IPmorn_count_elec</th>\n",
       "      <th>IPmorn_count_nonelec</th>\n",
       "      <th>IPmorn_age_mean</th>\n",
       "      <th>IPmorn_age_std</th>\n",
       "      <th>IPmorn_age_skew</th>\n",
       "      <th>IPmorn_prop_nonelec</th>\n",
       "    </tr>\n",
       "  </thead>\n",
       "  <tbody>\n",
       "    <tr>\n",
       "      <th>2013-01-02</th>\n",
       "      <td>2</td>\n",
       "      <td>1</td>\n",
       "      <td>2013</td>\n",
       "      <td>False</td>\n",
       "      <td>24</td>\n",
       "      <td>104.916667</td>\n",
       "      <td>0.833333</td>\n",
       "      <td>45.25</td>\n",
       "      <td>0.166667</td>\n",
       "      <td>51.839715</td>\n",
       "      <td>...</td>\n",
       "      <td>0.745533</td>\n",
       "      <td>122.0</td>\n",
       "      <td>39.0</td>\n",
       "      <td>1069.0</td>\n",
       "      <td>97.0</td>\n",
       "      <td>955.0</td>\n",
       "      <td>65.192703</td>\n",
       "      <td>24.748781</td>\n",
       "      <td>-1.113181</td>\n",
       "      <td>0.893358</td>\n",
       "    </tr>\n",
       "  </tbody>\n",
       "</table>\n",
       "<p>1 rows × 40 columns</p>\n",
       "</div>"
      ],
      "text/plain": [
       "            callender_DAY(first_EDatt_time)  \\\n",
       "2013-01-02                                2   \n",
       "\n",
       "            callender_MONTH(first_EDatt_time)  \\\n",
       "2013-01-02                                  1   \n",
       "\n",
       "            callender_YEAR(first_EDatt_time)  \\\n",
       "2013-01-02                              2013   \n",
       "\n",
       "            callender_WEEKEND(first_EDatt_time)  EDmorn_COUNT(EDatt)  \\\n",
       "2013-01-02                                False                   24   \n",
       "\n",
       "            EDmorn_MEAN(EDatt.wait_time_total)  \\\n",
       "2013-01-02                          104.916667   \n",
       "\n",
       "            EDmorn_MEAN(EDatt.flag_specreq)  EDmorn_MEAN(EDatt.age)  \\\n",
       "2013-01-02                         0.833333                   45.25   \n",
       "\n",
       "            EDmorn_MEAN(EDatt.flag_admission)  \\\n",
       "2013-01-02                           0.166667   \n",
       "\n",
       "            EDmorn_STD(EDatt.wait_time_total)         ...           \\\n",
       "2013-01-02                          51.839715         ...            \n",
       "\n",
       "            IPocc_perc  IP_admissions_elec_nonelec  \\\n",
       "2013-01-02    0.745533                       122.0   \n",
       "\n",
       "            IP_discharges_elec_nonelec_PRE12  IPmorn_count  IPmorn_count_elec  \\\n",
       "2013-01-02                              39.0        1069.0               97.0   \n",
       "\n",
       "            IPmorn_count_nonelec  IPmorn_age_mean  IPmorn_age_std  \\\n",
       "2013-01-02                 955.0        65.192703       24.748781   \n",
       "\n",
       "            IPmorn_age_skew  IPmorn_prop_nonelec  \n",
       "2013-01-02        -1.113181             0.893358  \n",
       "\n",
       "[1 rows x 40 columns]"
      ]
     },
     "execution_count": 11,
     "metadata": {},
     "output_type": "execute_result"
    }
   ],
   "source": [
    "fm.head(1)"
   ]
  },
  {
   "cell_type": "code",
   "execution_count": 12,
   "metadata": {},
   "outputs": [
    {
     "data": {
      "text/html": [
       "<div>\n",
       "<style scoped>\n",
       "    .dataframe tbody tr th:only-of-type {\n",
       "        vertical-align: middle;\n",
       "    }\n",
       "\n",
       "    .dataframe tbody tr th {\n",
       "        vertical-align: top;\n",
       "    }\n",
       "\n",
       "    .dataframe thead th {\n",
       "        text-align: right;\n",
       "    }\n",
       "</style>\n",
       "<table border=\"1\" class=\"dataframe\">\n",
       "  <thead>\n",
       "    <tr style=\"text-align: right;\">\n",
       "      <th></th>\n",
       "      <th>callender_DAY(first_EDatt_time)</th>\n",
       "      <th>callender_MONTH(first_EDatt_time)</th>\n",
       "      <th>callender_YEAR(first_EDatt_time)</th>\n",
       "      <th>callender_WEEKEND(first_EDatt_time)</th>\n",
       "      <th>EDmorn_COUNT(EDatt)</th>\n",
       "      <th>EDmorn_MEAN(EDatt.wait_time_total)</th>\n",
       "      <th>EDmorn_MEAN(EDatt.flag_specreq)</th>\n",
       "      <th>EDmorn_MEAN(EDatt.age)</th>\n",
       "      <th>EDmorn_MEAN(EDatt.flag_admission)</th>\n",
       "      <th>EDmorn_STD(EDatt.wait_time_total)</th>\n",
       "      <th>...</th>\n",
       "      <th>IPocc_perc</th>\n",
       "      <th>IP_admissions_elec_nonelec</th>\n",
       "      <th>IP_discharges_elec_nonelec_PRE12</th>\n",
       "      <th>IPmorn_count</th>\n",
       "      <th>IPmorn_count_elec</th>\n",
       "      <th>IPmorn_count_nonelec</th>\n",
       "      <th>IPmorn_age_mean</th>\n",
       "      <th>IPmorn_age_std</th>\n",
       "      <th>IPmorn_age_skew</th>\n",
       "      <th>IPmorn_prop_nonelec</th>\n",
       "    </tr>\n",
       "  </thead>\n",
       "  <tbody>\n",
       "    <tr>\n",
       "      <th>2018-07-12</th>\n",
       "      <td>12</td>\n",
       "      <td>7</td>\n",
       "      <td>2018</td>\n",
       "      <td>False</td>\n",
       "      <td>40</td>\n",
       "      <td>179.863636</td>\n",
       "      <td>0.636364</td>\n",
       "      <td>46.800000</td>\n",
       "      <td>0.454545</td>\n",
       "      <td>70.048484</td>\n",
       "      <td>...</td>\n",
       "      <td>0.925265</td>\n",
       "      <td>194.0</td>\n",
       "      <td>69.0</td>\n",
       "      <td>1174.0</td>\n",
       "      <td>238.0</td>\n",
       "      <td>918.0</td>\n",
       "      <td>60.308348</td>\n",
       "      <td>25.486910</td>\n",
       "      <td>-0.831932</td>\n",
       "      <td>0.781942</td>\n",
       "    </tr>\n",
       "    <tr>\n",
       "      <th>2018-07-13</th>\n",
       "      <td>13</td>\n",
       "      <td>7</td>\n",
       "      <td>2018</td>\n",
       "      <td>False</td>\n",
       "      <td>43</td>\n",
       "      <td>189.375000</td>\n",
       "      <td>0.500000</td>\n",
       "      <td>45.139535</td>\n",
       "      <td>0.500000</td>\n",
       "      <td>59.235574</td>\n",
       "      <td>...</td>\n",
       "      <td>0.904762</td>\n",
       "      <td>230.0</td>\n",
       "      <td>57.0</td>\n",
       "      <td>1233.0</td>\n",
       "      <td>253.0</td>\n",
       "      <td>957.0</td>\n",
       "      <td>60.189781</td>\n",
       "      <td>25.289005</td>\n",
       "      <td>-0.806191</td>\n",
       "      <td>0.776156</td>\n",
       "    </tr>\n",
       "  </tbody>\n",
       "</table>\n",
       "<p>2 rows × 40 columns</p>\n",
       "</div>"
      ],
      "text/plain": [
       "            callender_DAY(first_EDatt_time)  \\\n",
       "2018-07-12                               12   \n",
       "2018-07-13                               13   \n",
       "\n",
       "            callender_MONTH(first_EDatt_time)  \\\n",
       "2018-07-12                                  7   \n",
       "2018-07-13                                  7   \n",
       "\n",
       "            callender_YEAR(first_EDatt_time)  \\\n",
       "2018-07-12                              2018   \n",
       "2018-07-13                              2018   \n",
       "\n",
       "            callender_WEEKEND(first_EDatt_time)  EDmorn_COUNT(EDatt)  \\\n",
       "2018-07-12                                False                   40   \n",
       "2018-07-13                                False                   43   \n",
       "\n",
       "            EDmorn_MEAN(EDatt.wait_time_total)  \\\n",
       "2018-07-12                          179.863636   \n",
       "2018-07-13                          189.375000   \n",
       "\n",
       "            EDmorn_MEAN(EDatt.flag_specreq)  EDmorn_MEAN(EDatt.age)  \\\n",
       "2018-07-12                         0.636364               46.800000   \n",
       "2018-07-13                         0.500000               45.139535   \n",
       "\n",
       "            EDmorn_MEAN(EDatt.flag_admission)  \\\n",
       "2018-07-12                           0.454545   \n",
       "2018-07-13                           0.500000   \n",
       "\n",
       "            EDmorn_STD(EDatt.wait_time_total)         ...           \\\n",
       "2018-07-12                          70.048484         ...            \n",
       "2018-07-13                          59.235574         ...            \n",
       "\n",
       "            IPocc_perc  IP_admissions_elec_nonelec  \\\n",
       "2018-07-12    0.925265                       194.0   \n",
       "2018-07-13    0.904762                       230.0   \n",
       "\n",
       "            IP_discharges_elec_nonelec_PRE12  IPmorn_count  IPmorn_count_elec  \\\n",
       "2018-07-12                              69.0        1174.0              238.0   \n",
       "2018-07-13                              57.0        1233.0              253.0   \n",
       "\n",
       "            IPmorn_count_nonelec  IPmorn_age_mean  IPmorn_age_std  \\\n",
       "2018-07-12                 918.0        60.308348       25.486910   \n",
       "2018-07-13                 957.0        60.189781       25.289005   \n",
       "\n",
       "            IPmorn_age_skew  IPmorn_prop_nonelec  \n",
       "2018-07-12        -0.831932             0.781942  \n",
       "2018-07-13        -0.806191             0.776156  \n",
       "\n",
       "[2 rows x 40 columns]"
      ]
     },
     "execution_count": 12,
     "metadata": {},
     "output_type": "execute_result"
    }
   ],
   "source": [
    "fm.tail(2)"
   ]
  },
  {
   "cell_type": "markdown",
   "metadata": {},
   "source": [
    "get day of week - move to callender creation**"
   ]
  },
  {
   "cell_type": "code",
   "execution_count": 13,
   "metadata": {},
   "outputs": [],
   "source": [
    "fm['date'] = fm.index\n",
    "fm['dayofweek'] = fm.apply(lambda x : x.date.dayofweek ,axis =1 )\n",
    "fm = fm.drop('date',axis=1)"
   ]
  },
  {
   "cell_type": "code",
   "execution_count": 14,
   "metadata": {},
   "outputs": [
    {
     "data": {
      "text/html": [
       "<div>\n",
       "<style scoped>\n",
       "    .dataframe tbody tr th:only-of-type {\n",
       "        vertical-align: middle;\n",
       "    }\n",
       "\n",
       "    .dataframe tbody tr th {\n",
       "        vertical-align: top;\n",
       "    }\n",
       "\n",
       "    .dataframe thead th {\n",
       "        text-align: right;\n",
       "    }\n",
       "</style>\n",
       "<table border=\"1\" class=\"dataframe\">\n",
       "  <thead>\n",
       "    <tr style=\"text-align: right;\">\n",
       "      <th></th>\n",
       "      <th>callender_DAY(first_EDatt_time)</th>\n",
       "      <th>callender_MONTH(first_EDatt_time)</th>\n",
       "      <th>callender_YEAR(first_EDatt_time)</th>\n",
       "      <th>callender_WEEKEND(first_EDatt_time)</th>\n",
       "      <th>EDmorn_COUNT(EDatt)</th>\n",
       "      <th>EDmorn_MEAN(EDatt.wait_time_total)</th>\n",
       "      <th>EDmorn_MEAN(EDatt.flag_specreq)</th>\n",
       "      <th>EDmorn_MEAN(EDatt.age)</th>\n",
       "      <th>EDmorn_MEAN(EDatt.flag_admission)</th>\n",
       "      <th>EDmorn_STD(EDatt.wait_time_total)</th>\n",
       "      <th>...</th>\n",
       "      <th>IP_admissions_elec_nonelec</th>\n",
       "      <th>IP_discharges_elec_nonelec_PRE12</th>\n",
       "      <th>IPmorn_count</th>\n",
       "      <th>IPmorn_count_elec</th>\n",
       "      <th>IPmorn_count_nonelec</th>\n",
       "      <th>IPmorn_age_mean</th>\n",
       "      <th>IPmorn_age_std</th>\n",
       "      <th>IPmorn_age_skew</th>\n",
       "      <th>IPmorn_prop_nonelec</th>\n",
       "      <th>dayofweek</th>\n",
       "    </tr>\n",
       "  </thead>\n",
       "  <tbody>\n",
       "    <tr>\n",
       "      <th>2013-01-02</th>\n",
       "      <td>2</td>\n",
       "      <td>1</td>\n",
       "      <td>2013</td>\n",
       "      <td>False</td>\n",
       "      <td>24</td>\n",
       "      <td>104.916667</td>\n",
       "      <td>0.833333</td>\n",
       "      <td>45.250000</td>\n",
       "      <td>0.166667</td>\n",
       "      <td>51.839715</td>\n",
       "      <td>...</td>\n",
       "      <td>122.0</td>\n",
       "      <td>39.0</td>\n",
       "      <td>1069.0</td>\n",
       "      <td>97.0</td>\n",
       "      <td>955.0</td>\n",
       "      <td>65.192703</td>\n",
       "      <td>24.748781</td>\n",
       "      <td>-1.113181</td>\n",
       "      <td>0.893358</td>\n",
       "      <td>2</td>\n",
       "    </tr>\n",
       "    <tr>\n",
       "      <th>2013-01-03</th>\n",
       "      <td>3</td>\n",
       "      <td>1</td>\n",
       "      <td>2013</td>\n",
       "      <td>False</td>\n",
       "      <td>32</td>\n",
       "      <td>157.272727</td>\n",
       "      <td>0.727273</td>\n",
       "      <td>50.781250</td>\n",
       "      <td>0.272727</td>\n",
       "      <td>72.372772</td>\n",
       "      <td>...</td>\n",
       "      <td>210.0</td>\n",
       "      <td>39.0</td>\n",
       "      <td>1137.0</td>\n",
       "      <td>151.0</td>\n",
       "      <td>970.0</td>\n",
       "      <td>64.325418</td>\n",
       "      <td>24.896858</td>\n",
       "      <td>-1.067481</td>\n",
       "      <td>0.853122</td>\n",
       "      <td>3</td>\n",
       "    </tr>\n",
       "    <tr>\n",
       "      <th>2013-01-04</th>\n",
       "      <td>4</td>\n",
       "      <td>1</td>\n",
       "      <td>2013</td>\n",
       "      <td>False</td>\n",
       "      <td>31</td>\n",
       "      <td>176.916667</td>\n",
       "      <td>0.666667</td>\n",
       "      <td>36.645161</td>\n",
       "      <td>0.375000</td>\n",
       "      <td>65.250632</td>\n",
       "      <td>...</td>\n",
       "      <td>181.0</td>\n",
       "      <td>70.0</td>\n",
       "      <td>1141.0</td>\n",
       "      <td>156.0</td>\n",
       "      <td>973.0</td>\n",
       "      <td>62.812445</td>\n",
       "      <td>25.652021</td>\n",
       "      <td>-0.942528</td>\n",
       "      <td>0.852761</td>\n",
       "      <td>4</td>\n",
       "    </tr>\n",
       "    <tr>\n",
       "      <th>2013-01-05</th>\n",
       "      <td>5</td>\n",
       "      <td>1</td>\n",
       "      <td>2013</td>\n",
       "      <td>True</td>\n",
       "      <td>30</td>\n",
       "      <td>160.217391</td>\n",
       "      <td>0.695652</td>\n",
       "      <td>39.866667</td>\n",
       "      <td>0.347826</td>\n",
       "      <td>87.252484</td>\n",
       "      <td>...</td>\n",
       "      <td>149.0</td>\n",
       "      <td>50.0</td>\n",
       "      <td>1104.0</td>\n",
       "      <td>150.0</td>\n",
       "      <td>936.0</td>\n",
       "      <td>62.668478</td>\n",
       "      <td>25.448019</td>\n",
       "      <td>-0.917823</td>\n",
       "      <td>0.847826</td>\n",
       "      <td>5</td>\n",
       "    </tr>\n",
       "    <tr>\n",
       "      <th>2013-01-06</th>\n",
       "      <td>6</td>\n",
       "      <td>1</td>\n",
       "      <td>2013</td>\n",
       "      <td>True</td>\n",
       "      <td>41</td>\n",
       "      <td>171.045455</td>\n",
       "      <td>0.590909</td>\n",
       "      <td>46.682927</td>\n",
       "      <td>0.454545</td>\n",
       "      <td>103.064694</td>\n",
       "      <td>...</td>\n",
       "      <td>136.0</td>\n",
       "      <td>36.0</td>\n",
       "      <td>1121.0</td>\n",
       "      <td>136.0</td>\n",
       "      <td>975.0</td>\n",
       "      <td>62.371097</td>\n",
       "      <td>25.658430</td>\n",
       "      <td>-0.900726</td>\n",
       "      <td>0.869759</td>\n",
       "      <td>6</td>\n",
       "    </tr>\n",
       "  </tbody>\n",
       "</table>\n",
       "<p>5 rows × 41 columns</p>\n",
       "</div>"
      ],
      "text/plain": [
       "            callender_DAY(first_EDatt_time)  \\\n",
       "2013-01-02                                2   \n",
       "2013-01-03                                3   \n",
       "2013-01-04                                4   \n",
       "2013-01-05                                5   \n",
       "2013-01-06                                6   \n",
       "\n",
       "            callender_MONTH(first_EDatt_time)  \\\n",
       "2013-01-02                                  1   \n",
       "2013-01-03                                  1   \n",
       "2013-01-04                                  1   \n",
       "2013-01-05                                  1   \n",
       "2013-01-06                                  1   \n",
       "\n",
       "            callender_YEAR(first_EDatt_time)  \\\n",
       "2013-01-02                              2013   \n",
       "2013-01-03                              2013   \n",
       "2013-01-04                              2013   \n",
       "2013-01-05                              2013   \n",
       "2013-01-06                              2013   \n",
       "\n",
       "            callender_WEEKEND(first_EDatt_time)  EDmorn_COUNT(EDatt)  \\\n",
       "2013-01-02                                False                   24   \n",
       "2013-01-03                                False                   32   \n",
       "2013-01-04                                False                   31   \n",
       "2013-01-05                                 True                   30   \n",
       "2013-01-06                                 True                   41   \n",
       "\n",
       "            EDmorn_MEAN(EDatt.wait_time_total)  \\\n",
       "2013-01-02                          104.916667   \n",
       "2013-01-03                          157.272727   \n",
       "2013-01-04                          176.916667   \n",
       "2013-01-05                          160.217391   \n",
       "2013-01-06                          171.045455   \n",
       "\n",
       "            EDmorn_MEAN(EDatt.flag_specreq)  EDmorn_MEAN(EDatt.age)  \\\n",
       "2013-01-02                         0.833333               45.250000   \n",
       "2013-01-03                         0.727273               50.781250   \n",
       "2013-01-04                         0.666667               36.645161   \n",
       "2013-01-05                         0.695652               39.866667   \n",
       "2013-01-06                         0.590909               46.682927   \n",
       "\n",
       "            EDmorn_MEAN(EDatt.flag_admission)  \\\n",
       "2013-01-02                           0.166667   \n",
       "2013-01-03                           0.272727   \n",
       "2013-01-04                           0.375000   \n",
       "2013-01-05                           0.347826   \n",
       "2013-01-06                           0.454545   \n",
       "\n",
       "            EDmorn_STD(EDatt.wait_time_total)    ...      \\\n",
       "2013-01-02                          51.839715    ...       \n",
       "2013-01-03                          72.372772    ...       \n",
       "2013-01-04                          65.250632    ...       \n",
       "2013-01-05                          87.252484    ...       \n",
       "2013-01-06                         103.064694    ...       \n",
       "\n",
       "            IP_admissions_elec_nonelec  IP_discharges_elec_nonelec_PRE12  \\\n",
       "2013-01-02                       122.0                              39.0   \n",
       "2013-01-03                       210.0                              39.0   \n",
       "2013-01-04                       181.0                              70.0   \n",
       "2013-01-05                       149.0                              50.0   \n",
       "2013-01-06                       136.0                              36.0   \n",
       "\n",
       "            IPmorn_count  IPmorn_count_elec  IPmorn_count_nonelec  \\\n",
       "2013-01-02        1069.0               97.0                 955.0   \n",
       "2013-01-03        1137.0              151.0                 970.0   \n",
       "2013-01-04        1141.0              156.0                 973.0   \n",
       "2013-01-05        1104.0              150.0                 936.0   \n",
       "2013-01-06        1121.0              136.0                 975.0   \n",
       "\n",
       "            IPmorn_age_mean  IPmorn_age_std  IPmorn_age_skew  \\\n",
       "2013-01-02        65.192703       24.748781        -1.113181   \n",
       "2013-01-03        64.325418       24.896858        -1.067481   \n",
       "2013-01-04        62.812445       25.652021        -0.942528   \n",
       "2013-01-05        62.668478       25.448019        -0.917823   \n",
       "2013-01-06        62.371097       25.658430        -0.900726   \n",
       "\n",
       "            IPmorn_prop_nonelec  dayofweek  \n",
       "2013-01-02             0.893358          2  \n",
       "2013-01-03             0.853122          3  \n",
       "2013-01-04             0.852761          4  \n",
       "2013-01-05             0.847826          5  \n",
       "2013-01-06             0.869759          6  \n",
       "\n",
       "[5 rows x 41 columns]"
      ]
     },
     "execution_count": 14,
     "metadata": {},
     "output_type": "execute_result"
    }
   ],
   "source": [
    "fm.head()"
   ]
  },
  {
   "cell_type": "code",
   "execution_count": null,
   "metadata": {},
   "outputs": [],
   "source": []
  },
  {
   "cell_type": "code",
   "execution_count": null,
   "metadata": {},
   "outputs": [],
   "source": []
  },
  {
   "cell_type": "markdown",
   "metadata": {},
   "source": [
    "# combine features and target"
   ]
  },
  {
   "cell_type": "code",
   "execution_count": 15,
   "metadata": {},
   "outputs": [
    {
     "data": {
      "text/plain": [
       "(2465, 2)"
      ]
     },
     "execution_count": 15,
     "metadata": {},
     "output_type": "execute_result"
    }
   ],
   "source": [
    "target_class.shape"
   ]
  },
  {
   "cell_type": "code",
   "execution_count": 16,
   "metadata": {},
   "outputs": [
    {
     "data": {
      "text/html": [
       "<div>\n",
       "<style scoped>\n",
       "    .dataframe tbody tr th:only-of-type {\n",
       "        vertical-align: middle;\n",
       "    }\n",
       "\n",
       "    .dataframe tbody tr th {\n",
       "        vertical-align: top;\n",
       "    }\n",
       "\n",
       "    .dataframe thead th {\n",
       "        text-align: right;\n",
       "    }\n",
       "</style>\n",
       "<table border=\"1\" class=\"dataframe\">\n",
       "  <thead>\n",
       "    <tr style=\"text-align: right;\">\n",
       "      <th></th>\n",
       "      <th>EDocc</th>\n",
       "      <th>flag_target</th>\n",
       "    </tr>\n",
       "    <tr>\n",
       "      <th>dt_date</th>\n",
       "      <th></th>\n",
       "      <th></th>\n",
       "    </tr>\n",
       "  </thead>\n",
       "  <tbody>\n",
       "    <tr>\n",
       "      <th>2012-01-01</th>\n",
       "      <td>55.750000</td>\n",
       "      <td>1</td>\n",
       "    </tr>\n",
       "    <tr>\n",
       "      <th>2012-01-02</th>\n",
       "      <td>38.541667</td>\n",
       "      <td>0</td>\n",
       "    </tr>\n",
       "  </tbody>\n",
       "</table>\n",
       "</div>"
      ],
      "text/plain": [
       "                EDocc  flag_target\n",
       "dt_date                           \n",
       "2012-01-01  55.750000            1\n",
       "2012-01-02  38.541667            0"
      ]
     },
     "execution_count": 16,
     "metadata": {},
     "output_type": "execute_result"
    }
   ],
   "source": [
    "target_class.head(2)"
   ]
  },
  {
   "cell_type": "markdown",
   "metadata": {},
   "source": [
    "add label"
   ]
  },
  {
   "cell_type": "code",
   "execution_count": 17,
   "metadata": {},
   "outputs": [],
   "source": [
    "df = pd.DataFrame(target_class['flag_target']).merge(fm,right_index=True, left_index=True)"
   ]
  },
  {
   "cell_type": "markdown",
   "metadata": {},
   "source": [
    " note this is possiblr MEAN not max: htink the target is mean"
   ]
  },
  {
   "cell_type": "code",
   "execution_count": 18,
   "metadata": {},
   "outputs": [],
   "source": [
    "EDocc_MAX_prevday = pd.DataFrame(target_class['EDocc']).rename(columns={'EDocc':'EDoccMAX_prevday'})"
   ]
  },
  {
   "cell_type": "code",
   "execution_count": 19,
   "metadata": {},
   "outputs": [],
   "source": [
    "EDocc_MAX_prevday.index = EDocc_MAX_prevday.index.shift(1,'d')"
   ]
  },
  {
   "cell_type": "code",
   "execution_count": 20,
   "metadata": {},
   "outputs": [],
   "source": [
    "df = EDocc_MAX_prevday.merge(df,right_index=True, left_index=True)"
   ]
  },
  {
   "cell_type": "code",
   "execution_count": null,
   "metadata": {},
   "outputs": [],
   "source": []
  },
  {
   "cell_type": "code",
   "execution_count": 21,
   "metadata": {},
   "outputs": [
    {
     "data": {
      "text/html": [
       "<div>\n",
       "<style scoped>\n",
       "    .dataframe tbody tr th:only-of-type {\n",
       "        vertical-align: middle;\n",
       "    }\n",
       "\n",
       "    .dataframe tbody tr th {\n",
       "        vertical-align: top;\n",
       "    }\n",
       "\n",
       "    .dataframe thead th {\n",
       "        text-align: right;\n",
       "    }\n",
       "</style>\n",
       "<table border=\"1\" class=\"dataframe\">\n",
       "  <thead>\n",
       "    <tr style=\"text-align: right;\">\n",
       "      <th></th>\n",
       "      <th>EDoccMAX_prevday</th>\n",
       "      <th>flag_target</th>\n",
       "      <th>callender_DAY(first_EDatt_time)</th>\n",
       "      <th>callender_MONTH(first_EDatt_time)</th>\n",
       "      <th>callender_YEAR(first_EDatt_time)</th>\n",
       "      <th>callender_WEEKEND(first_EDatt_time)</th>\n",
       "      <th>EDmorn_COUNT(EDatt)</th>\n",
       "      <th>EDmorn_MEAN(EDatt.wait_time_total)</th>\n",
       "      <th>EDmorn_MEAN(EDatt.flag_specreq)</th>\n",
       "      <th>EDmorn_MEAN(EDatt.age)</th>\n",
       "      <th>...</th>\n",
       "      <th>IP_admissions_elec_nonelec</th>\n",
       "      <th>IP_discharges_elec_nonelec_PRE12</th>\n",
       "      <th>IPmorn_count</th>\n",
       "      <th>IPmorn_count_elec</th>\n",
       "      <th>IPmorn_count_nonelec</th>\n",
       "      <th>IPmorn_age_mean</th>\n",
       "      <th>IPmorn_age_std</th>\n",
       "      <th>IPmorn_age_skew</th>\n",
       "      <th>IPmorn_prop_nonelec</th>\n",
       "      <th>dayofweek</th>\n",
       "    </tr>\n",
       "  </thead>\n",
       "  <tbody>\n",
       "    <tr>\n",
       "      <th>2013-01-02</th>\n",
       "      <td>43.583333</td>\n",
       "      <td>0</td>\n",
       "      <td>2</td>\n",
       "      <td>1</td>\n",
       "      <td>2013</td>\n",
       "      <td>False</td>\n",
       "      <td>24</td>\n",
       "      <td>104.916667</td>\n",
       "      <td>0.833333</td>\n",
       "      <td>45.25</td>\n",
       "      <td>...</td>\n",
       "      <td>122.0</td>\n",
       "      <td>39.0</td>\n",
       "      <td>1069.0</td>\n",
       "      <td>97.0</td>\n",
       "      <td>955.0</td>\n",
       "      <td>65.192703</td>\n",
       "      <td>24.748781</td>\n",
       "      <td>-1.113181</td>\n",
       "      <td>0.893358</td>\n",
       "      <td>2</td>\n",
       "    </tr>\n",
       "  </tbody>\n",
       "</table>\n",
       "<p>1 rows × 43 columns</p>\n",
       "</div>"
      ],
      "text/plain": [
       "            EDoccMAX_prevday  flag_target  callender_DAY(first_EDatt_time)  \\\n",
       "2013-01-02         43.583333            0                                2   \n",
       "\n",
       "            callender_MONTH(first_EDatt_time)  \\\n",
       "2013-01-02                                  1   \n",
       "\n",
       "            callender_YEAR(first_EDatt_time)  \\\n",
       "2013-01-02                              2013   \n",
       "\n",
       "            callender_WEEKEND(first_EDatt_time)  EDmorn_COUNT(EDatt)  \\\n",
       "2013-01-02                                False                   24   \n",
       "\n",
       "            EDmorn_MEAN(EDatt.wait_time_total)  \\\n",
       "2013-01-02                          104.916667   \n",
       "\n",
       "            EDmorn_MEAN(EDatt.flag_specreq)  EDmorn_MEAN(EDatt.age)  \\\n",
       "2013-01-02                         0.833333                   45.25   \n",
       "\n",
       "              ...      IP_admissions_elec_nonelec  \\\n",
       "2013-01-02    ...                           122.0   \n",
       "\n",
       "            IP_discharges_elec_nonelec_PRE12  IPmorn_count  IPmorn_count_elec  \\\n",
       "2013-01-02                              39.0        1069.0               97.0   \n",
       "\n",
       "            IPmorn_count_nonelec  IPmorn_age_mean  IPmorn_age_std  \\\n",
       "2013-01-02                 955.0        65.192703       24.748781   \n",
       "\n",
       "            IPmorn_age_skew  IPmorn_prop_nonelec  dayofweek  \n",
       "2013-01-02        -1.113181             0.893358          2  \n",
       "\n",
       "[1 rows x 43 columns]"
      ]
     },
     "execution_count": 21,
     "metadata": {},
     "output_type": "execute_result"
    }
   ],
   "source": [
    "df.head(1)"
   ]
  },
  {
   "cell_type": "code",
   "execution_count": 22,
   "metadata": {},
   "outputs": [
    {
     "data": {
      "text/plain": [
       "(2019, 43)"
      ]
     },
     "execution_count": 22,
     "metadata": {},
     "output_type": "execute_result"
    }
   ],
   "source": [
    "df.shape"
   ]
  },
  {
   "cell_type": "markdown",
   "metadata": {},
   "source": [
    "# Data Cleaning\n",
    "\n",
    "## drop uninteresting features"
   ]
  },
  {
   "cell_type": "code",
   "execution_count": 23,
   "metadata": {},
   "outputs": [
    {
     "name": "stdout",
     "output_type": "stream",
     "text": [
      "[]\n"
     ]
    }
   ],
   "source": [
    "def find_columns_single_value(df):\n",
    "    \"takes df. returns list of columns names which contain all the same value.\"\n",
    "    cols_to_drop = []\n",
    "    for col in df.columns:\n",
    "        col_values_list = df[col].unique()\n",
    "        if len(col_values_list) == 1:\n",
    "            cols_to_drop.append(col)\n",
    "    return(cols_to_drop)\n",
    "\n",
    "single_names = find_columns_single_value(fm)\n",
    "print(single_names)\n",
    "fm = fm.drop(single_names,axis=1)"
   ]
  },
  {
   "cell_type": "code",
   "execution_count": 24,
   "metadata": {},
   "outputs": [
    {
     "data": {
      "text/plain": [
       "[]"
      ]
     },
     "execution_count": 24,
     "metadata": {},
     "output_type": "execute_result"
    }
   ],
   "source": [
    "from utils import find_duplicate_column_names\n",
    "\n",
    "dup_names = find_duplicate_column_names(fm)\n",
    "dup_names"
   ]
  },
  {
   "cell_type": "markdown",
   "metadata": {},
   "source": [
    "# Engineer additional features"
   ]
  },
  {
   "cell_type": "markdown",
   "metadata": {},
   "source": [
    "## Lagged features "
   ]
  },
  {
   "cell_type": "code",
   "execution_count": null,
   "metadata": {},
   "outputs": [],
   "source": []
  },
  {
   "cell_type": "markdown",
   "metadata": {},
   "source": [
    "## Lagged target"
   ]
  },
  {
   "cell_type": "code",
   "execution_count": null,
   "metadata": {},
   "outputs": [],
   "source": []
  },
  {
   "cell_type": "markdown",
   "metadata": {},
   "source": [
    "## Dirivitive features"
   ]
  },
  {
   "cell_type": "code",
   "execution_count": null,
   "metadata": {},
   "outputs": [],
   "source": []
  },
  {
   "cell_type": "markdown",
   "metadata": {},
   "source": [
    "Proportion of(non-elec / elec +non-elec )IP occupancy at final hour of day."
   ]
  },
  {
   "cell_type": "markdown",
   "metadata": {},
   "source": [
    "df['IPocc_ratio_LAST'] = df['LAST(hourly.IPocc_NonElective)']/df['LAST(hourly.IPocc_elec_nonelec)']"
   ]
  },
  {
   "cell_type": "markdown",
   "metadata": {},
   "source": [
    "df.IPocc_ratio_LAST.plot()"
   ]
  },
  {
   "cell_type": "markdown",
   "metadata": {},
   "source": [
    "IPocc percenrtage"
   ]
  },
  {
   "cell_type": "markdown",
   "metadata": {},
   "source": [
    "interval = 90\n",
    "df['MAX(hourly.IPocc_elec_nonelec)'].plot(figsize=(16,4))\n",
    "df['MAX(hourly.IPocc_elec_nonelec)'].rolling(interval).mean().plot()\n",
    "df['MAX(hourly.IPocc_elec_nonelec)'].rolling(interval).max().plot()"
   ]
  },
  {
   "cell_type": "markdown",
   "metadata": {},
   "source": [
    "df['IPbed_cap_synth'] = df['MAX(hourly.IPocc_elec_nonelec)'].rolling(interval).max()"
   ]
  },
  {
   "cell_type": "markdown",
   "metadata": {},
   "source": [
    "df['IPbed_occupancy'] = df['MAX(hourly.IPocc_elec_nonelec)']/df.IPbed_cap_synth"
   ]
  },
  {
   "cell_type": "markdown",
   "metadata": {},
   "source": [
    "adm - dis IP"
   ]
  },
  {
   "cell_type": "markdown",
   "metadata": {},
   "source": [
    "df['IPadm_minus_dis_elec_nonelec'] = df['SUM(hourly.IPadm_elec_nonelec)'] - df['SUM(hourly.IPdis_elec_nonelec)']"
   ]
  },
  {
   "cell_type": "markdown",
   "metadata": {},
   "source": [
    "# pipeline for data prep"
   ]
  },
  {
   "cell_type": "markdown",
   "metadata": {},
   "source": [
    "#### get data into x,y, test,train"
   ]
  },
  {
   "cell_type": "code",
   "execution_count": 25,
   "metadata": {},
   "outputs": [],
   "source": [
    "from sklearn.pipeline import FeatureUnion\n",
    "from sklearn.pipeline import Pipeline"
   ]
  },
  {
   "cell_type": "code",
   "execution_count": 26,
   "metadata": {},
   "outputs": [
    {
     "data": {
      "text/html": [
       "<div>\n",
       "<style scoped>\n",
       "    .dataframe tbody tr th:only-of-type {\n",
       "        vertical-align: middle;\n",
       "    }\n",
       "\n",
       "    .dataframe tbody tr th {\n",
       "        vertical-align: top;\n",
       "    }\n",
       "\n",
       "    .dataframe thead th {\n",
       "        text-align: right;\n",
       "    }\n",
       "</style>\n",
       "<table border=\"1\" class=\"dataframe\">\n",
       "  <thead>\n",
       "    <tr style=\"text-align: right;\">\n",
       "      <th></th>\n",
       "      <th>EDoccMAX_prevday</th>\n",
       "      <th>flag_target</th>\n",
       "      <th>callender_DAY(first_EDatt_time)</th>\n",
       "      <th>callender_MONTH(first_EDatt_time)</th>\n",
       "      <th>callender_YEAR(first_EDatt_time)</th>\n",
       "      <th>callender_WEEKEND(first_EDatt_time)</th>\n",
       "      <th>EDmorn_COUNT(EDatt)</th>\n",
       "      <th>EDmorn_MEAN(EDatt.wait_time_total)</th>\n",
       "      <th>EDmorn_MEAN(EDatt.flag_specreq)</th>\n",
       "      <th>EDmorn_MEAN(EDatt.age)</th>\n",
       "      <th>...</th>\n",
       "      <th>IP_admissions_elec_nonelec</th>\n",
       "      <th>IP_discharges_elec_nonelec_PRE12</th>\n",
       "      <th>IPmorn_count</th>\n",
       "      <th>IPmorn_count_elec</th>\n",
       "      <th>IPmorn_count_nonelec</th>\n",
       "      <th>IPmorn_age_mean</th>\n",
       "      <th>IPmorn_age_std</th>\n",
       "      <th>IPmorn_age_skew</th>\n",
       "      <th>IPmorn_prop_nonelec</th>\n",
       "      <th>dayofweek</th>\n",
       "    </tr>\n",
       "  </thead>\n",
       "  <tbody>\n",
       "    <tr>\n",
       "      <th>2013-01-02</th>\n",
       "      <td>43.583333</td>\n",
       "      <td>0</td>\n",
       "      <td>2</td>\n",
       "      <td>1</td>\n",
       "      <td>2013</td>\n",
       "      <td>False</td>\n",
       "      <td>24</td>\n",
       "      <td>104.916667</td>\n",
       "      <td>0.833333</td>\n",
       "      <td>45.25</td>\n",
       "      <td>...</td>\n",
       "      <td>122.0</td>\n",
       "      <td>39.0</td>\n",
       "      <td>1069.0</td>\n",
       "      <td>97.0</td>\n",
       "      <td>955.0</td>\n",
       "      <td>65.192703</td>\n",
       "      <td>24.748781</td>\n",
       "      <td>-1.113181</td>\n",
       "      <td>0.893358</td>\n",
       "      <td>2</td>\n",
       "    </tr>\n",
       "  </tbody>\n",
       "</table>\n",
       "<p>1 rows × 43 columns</p>\n",
       "</div>"
      ],
      "text/plain": [
       "            EDoccMAX_prevday  flag_target  callender_DAY(first_EDatt_time)  \\\n",
       "2013-01-02         43.583333            0                                2   \n",
       "\n",
       "            callender_MONTH(first_EDatt_time)  \\\n",
       "2013-01-02                                  1   \n",
       "\n",
       "            callender_YEAR(first_EDatt_time)  \\\n",
       "2013-01-02                              2013   \n",
       "\n",
       "            callender_WEEKEND(first_EDatt_time)  EDmorn_COUNT(EDatt)  \\\n",
       "2013-01-02                                False                   24   \n",
       "\n",
       "            EDmorn_MEAN(EDatt.wait_time_total)  \\\n",
       "2013-01-02                          104.916667   \n",
       "\n",
       "            EDmorn_MEAN(EDatt.flag_specreq)  EDmorn_MEAN(EDatt.age)  \\\n",
       "2013-01-02                         0.833333                   45.25   \n",
       "\n",
       "              ...      IP_admissions_elec_nonelec  \\\n",
       "2013-01-02    ...                           122.0   \n",
       "\n",
       "            IP_discharges_elec_nonelec_PRE12  IPmorn_count  IPmorn_count_elec  \\\n",
       "2013-01-02                              39.0        1069.0               97.0   \n",
       "\n",
       "            IPmorn_count_nonelec  IPmorn_age_mean  IPmorn_age_std  \\\n",
       "2013-01-02                 955.0        65.192703       24.748781   \n",
       "\n",
       "            IPmorn_age_skew  IPmorn_prop_nonelec  dayofweek  \n",
       "2013-01-02        -1.113181             0.893358          2  \n",
       "\n",
       "[1 rows x 43 columns]"
      ]
     },
     "execution_count": 26,
     "metadata": {},
     "output_type": "execute_result"
    }
   ],
   "source": [
    "df.head(1)"
   ]
  },
  {
   "cell_type": "code",
   "execution_count": 27,
   "metadata": {},
   "outputs": [],
   "source": [
    "target_col = 'flag_target'"
   ]
  },
  {
   "cell_type": "markdown",
   "metadata": {},
   "source": [
    "df.drop('EDocc',axis=1,inplace=True) # drop column with continuous target variable in !"
   ]
  },
  {
   "cell_type": "code",
   "execution_count": 28,
   "metadata": {},
   "outputs": [],
   "source": [
    "df.reset_index(inplace=True, drop=True) #.rename(columns={'index':'date'})"
   ]
  },
  {
   "cell_type": "code",
   "execution_count": 29,
   "metadata": {},
   "outputs": [
    {
     "name": "stdout",
     "output_type": "stream",
     "text": [
      "DATA POINTS:\n",
      "training:  1654\n",
      "validation:  0\n",
      "testing:  365\n"
     ]
    }
   ],
   "source": [
    "from utils import make_test_train_splits\n",
    "\n",
    "X_test,X_valid,X_train,X_train_valid,y_test,y_valid,y_train,y_train_valid = make_test_train_splits(df,target_col,'flag_target',365,0)"
   ]
  },
  {
   "cell_type": "markdown",
   "metadata": {},
   "source": [
    "#### pipeline: feature selection and scaling"
   ]
  },
  {
   "cell_type": "markdown",
   "metadata": {},
   "source": [
    "drop cols wiht duplicate values"
   ]
  },
  {
   "cell_type": "markdown",
   "metadata": {},
   "source": [
    "from utils import find_duplicate_column_names\n",
    "\n",
    "dup_names = find_duplicate_column_names(df)"
   ]
  },
  {
   "cell_type": "markdown",
   "metadata": {},
   "source": [
    "df.drop(dup_names,axis=1,inplace=True)"
   ]
  },
  {
   "cell_type": "markdown",
   "metadata": {},
   "source": [
    "df.shape"
   ]
  },
  {
   "cell_type": "markdown",
   "metadata": {},
   "source": [
    "drop columns that have high proportion of missing values - unfinished"
   ]
  },
  {
   "cell_type": "markdown",
   "metadata": {},
   "source": [
    "df.isnull().sum()[(df.isnull().sum()/df.shape[0]) > 0.1]"
   ]
  },
  {
   "cell_type": "markdown",
   "metadata": {},
   "source": [
    "drop all mentions of month, weekday, "
   ]
  },
  {
   "cell_type": "code",
   "execution_count": null,
   "metadata": {},
   "outputs": [],
   "source": []
  },
  {
   "cell_type": "code",
   "execution_count": 30,
   "metadata": {},
   "outputs": [],
   "source": [
    "#### a sklearn transformer class to select attributes of interest for each group\n",
    "from sklearn.base import BaseEstimator, TransformerMixin\n",
    "\n",
    "class DataFrameSelector(BaseEstimator,TransformerMixin):\n",
    "    def __init__(self,attribute_names):\n",
    "        self.attribute_names = attribute_names\n",
    "    def fit(self, X, y=None):\n",
    "        return self\n",
    "    def transform(self,X):\n",
    "        return X[self.attribute_names].values"
   ]
  },
  {
   "cell_type": "code",
   "execution_count": 31,
   "metadata": {},
   "outputs": [],
   "source": [
    "#### a sklearn transformer class to select attributes of interest for each group\n",
    "from sklearn.base import BaseEstimator, TransformerMixin\n",
    "\n",
    "class MakeBooleanAnInteger(BaseEstimator,TransformerMixin):\n",
    "    def __init__(self):\n",
    "        return\n",
    "    def fit(self, X, y=None):\n",
    "        return self\n",
    "    def transform(self,X):\n",
    "        return X*1"
   ]
  },
  {
   "cell_type": "code",
   "execution_count": 32,
   "metadata": {},
   "outputs": [],
   "source": [
    "# version 19.2\n",
    "from sklearn.preprocessing import StandardScaler\n",
    "from sklearn.preprocessing import Imputer\n",
    "\n",
    "from sklearn.preprocessing import LabelEncoder\n",
    "from sklearn.preprocessing import OneHotEncoder \n",
    "#from sklearn.preprocessing import OrdinalEncoder\n",
    "\n",
    "from sklearn.feature_selection import SelectKBest\n",
    "from sklearn.feature_selection import f_classif"
   ]
  },
  {
   "cell_type": "markdown",
   "metadata": {},
   "source": [
    "num_attribs,cat_attribs,bin_attribs,typesdf = find_feature_types(df)"
   ]
  },
  {
   "cell_type": "code",
   "execution_count": 33,
   "metadata": {},
   "outputs": [
    {
     "name": "stdout",
     "output_type": "stream",
     "text": [
      "EDoccMAX_prevday\n",
      "flag_target\n",
      "callender_DAY(first_EDatt_time)\n",
      "callender_MONTH(first_EDatt_time)\n",
      "callender_YEAR(first_EDatt_time)\n",
      "callender_WEEKEND(first_EDatt_time)\n",
      "EDmorn_COUNT(EDatt)\n",
      "EDmorn_MEAN(EDatt.wait_time_total)\n",
      "EDmorn_MEAN(EDatt.flag_specreq)\n",
      "EDmorn_MEAN(EDatt.age)\n",
      "EDmorn_MEAN(EDatt.flag_admission)\n",
      "EDmorn_STD(EDatt.wait_time_total)\n",
      "EDmorn_STD(EDatt.flag_specreq)\n",
      "EDmorn_STD(EDatt.age)\n",
      "EDmorn_STD(EDatt.flag_admission)\n",
      "EDmorn_SUM(EDatt.wait_time_total)\n",
      "EDmorn_SUM(EDatt.flag_specreq)\n",
      "EDmorn_SUM(EDatt.age)\n",
      "EDmorn_SUM(EDatt.flag_admission)\n",
      "EDprevday_COUNT(EDatt)\n",
      "EDprevday_MEAN(EDatt.wait_time_total)\n",
      "EDprevday_MEAN(EDatt.flag_specreq)\n",
      "EDprevday_MEAN(EDatt.age)\n",
      "EDprevday_MEAN(EDatt.flag_admission)\n",
      "EDprevday_STD(EDatt.wait_time_total)\n",
      "EDprevday_STD(EDatt.flag_specreq)\n",
      "EDprevday_STD(EDatt.age)\n",
      "EDprevday_STD(EDatt.flag_admission)\n",
      "EDprevday_SUM(EDatt.wait_time_total)\n",
      "EDprevday_SUM(EDatt.flag_specreq)\n",
      "EDprevday_SUM(EDatt.age)\n",
      "EDprevday_SUM(EDatt.flag_admission)\n",
      "IPocc_perc\n",
      "IP_admissions_elec_nonelec\n",
      "IP_discharges_elec_nonelec_PRE12\n",
      "IPmorn_count\n",
      "IPmorn_count_elec\n",
      "IPmorn_count_nonelec\n",
      "IPmorn_age_mean\n",
      "IPmorn_age_std\n",
      "IPmorn_age_skew\n",
      "IPmorn_prop_nonelec\n",
      "dayofweek\n"
     ]
    }
   ],
   "source": [
    "for i in df.columns:\n",
    "    print(i)"
   ]
  },
  {
   "cell_type": "code",
   "execution_count": 34,
   "metadata": {},
   "outputs": [
    {
     "data": {
      "text/html": [
       "<div>\n",
       "<style scoped>\n",
       "    .dataframe tbody tr th:only-of-type {\n",
       "        vertical-align: middle;\n",
       "    }\n",
       "\n",
       "    .dataframe tbody tr th {\n",
       "        vertical-align: top;\n",
       "    }\n",
       "\n",
       "    .dataframe thead th {\n",
       "        text-align: right;\n",
       "    }\n",
       "</style>\n",
       "<table border=\"1\" class=\"dataframe\">\n",
       "  <thead>\n",
       "    <tr style=\"text-align: right;\">\n",
       "      <th></th>\n",
       "      <th>EDoccMAX_prevday</th>\n",
       "      <th>flag_target</th>\n",
       "      <th>callender_DAY(first_EDatt_time)</th>\n",
       "      <th>callender_MONTH(first_EDatt_time)</th>\n",
       "      <th>callender_YEAR(first_EDatt_time)</th>\n",
       "      <th>callender_WEEKEND(first_EDatt_time)</th>\n",
       "      <th>EDmorn_COUNT(EDatt)</th>\n",
       "      <th>EDmorn_MEAN(EDatt.wait_time_total)</th>\n",
       "      <th>EDmorn_MEAN(EDatt.flag_specreq)</th>\n",
       "      <th>EDmorn_MEAN(EDatt.age)</th>\n",
       "      <th>...</th>\n",
       "      <th>IP_admissions_elec_nonelec</th>\n",
       "      <th>IP_discharges_elec_nonelec_PRE12</th>\n",
       "      <th>IPmorn_count</th>\n",
       "      <th>IPmorn_count_elec</th>\n",
       "      <th>IPmorn_count_nonelec</th>\n",
       "      <th>IPmorn_age_mean</th>\n",
       "      <th>IPmorn_age_std</th>\n",
       "      <th>IPmorn_age_skew</th>\n",
       "      <th>IPmorn_prop_nonelec</th>\n",
       "      <th>dayofweek</th>\n",
       "    </tr>\n",
       "  </thead>\n",
       "  <tbody>\n",
       "    <tr>\n",
       "      <th>0</th>\n",
       "      <td>43.583333</td>\n",
       "      <td>0</td>\n",
       "      <td>2</td>\n",
       "      <td>1</td>\n",
       "      <td>2013</td>\n",
       "      <td>False</td>\n",
       "      <td>24</td>\n",
       "      <td>104.916667</td>\n",
       "      <td>0.833333</td>\n",
       "      <td>45.250000</td>\n",
       "      <td>...</td>\n",
       "      <td>122.0</td>\n",
       "      <td>39.0</td>\n",
       "      <td>1069.0</td>\n",
       "      <td>97.0</td>\n",
       "      <td>955.0</td>\n",
       "      <td>65.192703</td>\n",
       "      <td>24.748781</td>\n",
       "      <td>-1.113181</td>\n",
       "      <td>0.893358</td>\n",
       "      <td>2</td>\n",
       "    </tr>\n",
       "    <tr>\n",
       "      <th>1</th>\n",
       "      <td>45.250000</td>\n",
       "      <td>0</td>\n",
       "      <td>3</td>\n",
       "      <td>1</td>\n",
       "      <td>2013</td>\n",
       "      <td>False</td>\n",
       "      <td>32</td>\n",
       "      <td>157.272727</td>\n",
       "      <td>0.727273</td>\n",
       "      <td>50.781250</td>\n",
       "      <td>...</td>\n",
       "      <td>210.0</td>\n",
       "      <td>39.0</td>\n",
       "      <td>1137.0</td>\n",
       "      <td>151.0</td>\n",
       "      <td>970.0</td>\n",
       "      <td>64.325418</td>\n",
       "      <td>24.896858</td>\n",
       "      <td>-1.067481</td>\n",
       "      <td>0.853122</td>\n",
       "      <td>3</td>\n",
       "    </tr>\n",
       "    <tr>\n",
       "      <th>2</th>\n",
       "      <td>50.708333</td>\n",
       "      <td>0</td>\n",
       "      <td>4</td>\n",
       "      <td>1</td>\n",
       "      <td>2013</td>\n",
       "      <td>False</td>\n",
       "      <td>31</td>\n",
       "      <td>176.916667</td>\n",
       "      <td>0.666667</td>\n",
       "      <td>36.645161</td>\n",
       "      <td>...</td>\n",
       "      <td>181.0</td>\n",
       "      <td>70.0</td>\n",
       "      <td>1141.0</td>\n",
       "      <td>156.0</td>\n",
       "      <td>973.0</td>\n",
       "      <td>62.812445</td>\n",
       "      <td>25.652021</td>\n",
       "      <td>-0.942528</td>\n",
       "      <td>0.852761</td>\n",
       "      <td>4</td>\n",
       "    </tr>\n",
       "    <tr>\n",
       "      <th>3</th>\n",
       "      <td>38.666667</td>\n",
       "      <td>0</td>\n",
       "      <td>5</td>\n",
       "      <td>1</td>\n",
       "      <td>2013</td>\n",
       "      <td>True</td>\n",
       "      <td>30</td>\n",
       "      <td>160.217391</td>\n",
       "      <td>0.695652</td>\n",
       "      <td>39.866667</td>\n",
       "      <td>...</td>\n",
       "      <td>149.0</td>\n",
       "      <td>50.0</td>\n",
       "      <td>1104.0</td>\n",
       "      <td>150.0</td>\n",
       "      <td>936.0</td>\n",
       "      <td>62.668478</td>\n",
       "      <td>25.448019</td>\n",
       "      <td>-0.917823</td>\n",
       "      <td>0.847826</td>\n",
       "      <td>5</td>\n",
       "    </tr>\n",
       "    <tr>\n",
       "      <th>4</th>\n",
       "      <td>42.250000</td>\n",
       "      <td>0</td>\n",
       "      <td>6</td>\n",
       "      <td>1</td>\n",
       "      <td>2013</td>\n",
       "      <td>True</td>\n",
       "      <td>41</td>\n",
       "      <td>171.045455</td>\n",
       "      <td>0.590909</td>\n",
       "      <td>46.682927</td>\n",
       "      <td>...</td>\n",
       "      <td>136.0</td>\n",
       "      <td>36.0</td>\n",
       "      <td>1121.0</td>\n",
       "      <td>136.0</td>\n",
       "      <td>975.0</td>\n",
       "      <td>62.371097</td>\n",
       "      <td>25.658430</td>\n",
       "      <td>-0.900726</td>\n",
       "      <td>0.869759</td>\n",
       "      <td>6</td>\n",
       "    </tr>\n",
       "  </tbody>\n",
       "</table>\n",
       "<p>5 rows × 43 columns</p>\n",
       "</div>"
      ],
      "text/plain": [
       "   EDoccMAX_prevday  flag_target  callender_DAY(first_EDatt_time)  \\\n",
       "0         43.583333            0                                2   \n",
       "1         45.250000            0                                3   \n",
       "2         50.708333            0                                4   \n",
       "3         38.666667            0                                5   \n",
       "4         42.250000            0                                6   \n",
       "\n",
       "   callender_MONTH(first_EDatt_time)  callender_YEAR(first_EDatt_time)  \\\n",
       "0                                  1                              2013   \n",
       "1                                  1                              2013   \n",
       "2                                  1                              2013   \n",
       "3                                  1                              2013   \n",
       "4                                  1                              2013   \n",
       "\n",
       "   callender_WEEKEND(first_EDatt_time)  EDmorn_COUNT(EDatt)  \\\n",
       "0                                False                   24   \n",
       "1                                False                   32   \n",
       "2                                False                   31   \n",
       "3                                 True                   30   \n",
       "4                                 True                   41   \n",
       "\n",
       "   EDmorn_MEAN(EDatt.wait_time_total)  EDmorn_MEAN(EDatt.flag_specreq)  \\\n",
       "0                          104.916667                         0.833333   \n",
       "1                          157.272727                         0.727273   \n",
       "2                          176.916667                         0.666667   \n",
       "3                          160.217391                         0.695652   \n",
       "4                          171.045455                         0.590909   \n",
       "\n",
       "   EDmorn_MEAN(EDatt.age)    ...      IP_admissions_elec_nonelec  \\\n",
       "0               45.250000    ...                           122.0   \n",
       "1               50.781250    ...                           210.0   \n",
       "2               36.645161    ...                           181.0   \n",
       "3               39.866667    ...                           149.0   \n",
       "4               46.682927    ...                           136.0   \n",
       "\n",
       "   IP_discharges_elec_nonelec_PRE12  IPmorn_count  IPmorn_count_elec  \\\n",
       "0                              39.0        1069.0               97.0   \n",
       "1                              39.0        1137.0              151.0   \n",
       "2                              70.0        1141.0              156.0   \n",
       "3                              50.0        1104.0              150.0   \n",
       "4                              36.0        1121.0              136.0   \n",
       "\n",
       "   IPmorn_count_nonelec  IPmorn_age_mean  IPmorn_age_std  IPmorn_age_skew  \\\n",
       "0                 955.0        65.192703       24.748781        -1.113181   \n",
       "1                 970.0        64.325418       24.896858        -1.067481   \n",
       "2                 973.0        62.812445       25.652021        -0.942528   \n",
       "3                 936.0        62.668478       25.448019        -0.917823   \n",
       "4                 975.0        62.371097       25.658430        -0.900726   \n",
       "\n",
       "   IPmorn_prop_nonelec  dayofweek  \n",
       "0             0.893358          2  \n",
       "1             0.853122          3  \n",
       "2             0.852761          4  \n",
       "3             0.847826          5  \n",
       "4             0.869759          6  \n",
       "\n",
       "[5 rows x 43 columns]"
      ]
     },
     "execution_count": 34,
     "metadata": {},
     "output_type": "execute_result"
    }
   ],
   "source": [
    "df.head()"
   ]
  },
  {
   "cell_type": "markdown",
   "metadata": {},
   "source": [
    "# manual pick of variables"
   ]
  },
  {
   "cell_type": "code",
   "execution_count": 35,
   "metadata": {},
   "outputs": [
    {
     "data": {
      "text/plain": [
       "1654"
      ]
     },
     "execution_count": 35,
     "metadata": {},
     "output_type": "execute_result"
    }
   ],
   "source": [
    "df.shape[0]-365"
   ]
  },
  {
   "cell_type": "code",
   "execution_count": 36,
   "metadata": {},
   "outputs": [
    {
     "data": {
      "text/plain": [
       "Index(['callender_DAY(first_EDatt_time)', 'callender_MONTH(first_EDatt_time)',\n",
       "       'callender_YEAR(first_EDatt_time)',\n",
       "       'callender_WEEKEND(first_EDatt_time)', 'EDmorn_COUNT(EDatt)',\n",
       "       'EDmorn_MEAN(EDatt.wait_time_total)', 'EDmorn_MEAN(EDatt.flag_specreq)',\n",
       "       'EDmorn_MEAN(EDatt.age)', 'EDmorn_MEAN(EDatt.flag_admission)',\n",
       "       'EDmorn_STD(EDatt.wait_time_total)', 'EDmorn_STD(EDatt.flag_specreq)',\n",
       "       'EDmorn_STD(EDatt.age)', 'EDmorn_STD(EDatt.flag_admission)',\n",
       "       'EDmorn_SUM(EDatt.wait_time_total)', 'EDmorn_SUM(EDatt.flag_specreq)',\n",
       "       'EDmorn_SUM(EDatt.age)', 'EDmorn_SUM(EDatt.flag_admission)',\n",
       "       'EDprevday_COUNT(EDatt)', 'EDprevday_MEAN(EDatt.wait_time_total)',\n",
       "       'EDprevday_MEAN(EDatt.flag_specreq)', 'EDprevday_MEAN(EDatt.age)',\n",
       "       'EDprevday_MEAN(EDatt.flag_admission)',\n",
       "       'EDprevday_STD(EDatt.wait_time_total)',\n",
       "       'EDprevday_STD(EDatt.flag_specreq)', 'EDprevday_STD(EDatt.age)',\n",
       "       'EDprevday_STD(EDatt.flag_admission)',\n",
       "       'EDprevday_SUM(EDatt.wait_time_total)',\n",
       "       'EDprevday_SUM(EDatt.flag_specreq)', 'EDprevday_SUM(EDatt.age)',\n",
       "       'EDprevday_SUM(EDatt.flag_admission)', 'IPocc_perc',\n",
       "       'IP_admissions_elec_nonelec', 'IP_discharges_elec_nonelec_PRE12',\n",
       "       'IPmorn_count', 'IPmorn_count_elec', 'IPmorn_count_nonelec',\n",
       "       'IPmorn_age_mean', 'IPmorn_age_std', 'IPmorn_age_skew',\n",
       "       'IPmorn_prop_nonelec', 'dayofweek'],\n",
       "      dtype='object')"
      ]
     },
     "execution_count": 36,
     "metadata": {},
     "output_type": "execute_result"
    }
   ],
   "source": [
    "fm.columns"
   ]
  },
  {
   "cell_type": "markdown",
   "metadata": {},
   "source": [
    "'MIN(hours.NUM_UNIQUE(active_visits.atten_id))',\n",
    "        'MAX(hours.NUM_UNIQUE(active_visits.atten_id))',\n",
    "       ,'MEAN(active_visits.EDatt.age)','SKEW(active_visits.EDatt.age)'"
   ]
  },
  {
   "cell_type": "code",
   "execution_count": 37,
   "metadata": {},
   "outputs": [
    {
     "data": {
      "text/html": [
       "<div>\n",
       "<style scoped>\n",
       "    .dataframe tbody tr th:only-of-type {\n",
       "        vertical-align: middle;\n",
       "    }\n",
       "\n",
       "    .dataframe tbody tr th {\n",
       "        vertical-align: top;\n",
       "    }\n",
       "\n",
       "    .dataframe thead th {\n",
       "        text-align: right;\n",
       "    }\n",
       "</style>\n",
       "<table border=\"1\" class=\"dataframe\">\n",
       "  <thead>\n",
       "    <tr style=\"text-align: right;\">\n",
       "      <th></th>\n",
       "      <th>callender_DAY(first_EDatt_time)</th>\n",
       "      <th>callender_MONTH(first_EDatt_time)</th>\n",
       "      <th>callender_YEAR(first_EDatt_time)</th>\n",
       "      <th>callender_WEEKEND(first_EDatt_time)</th>\n",
       "      <th>EDmorn_COUNT(EDatt)</th>\n",
       "      <th>EDmorn_MEAN(EDatt.wait_time_total)</th>\n",
       "      <th>EDmorn_MEAN(EDatt.flag_specreq)</th>\n",
       "      <th>EDmorn_MEAN(EDatt.age)</th>\n",
       "      <th>EDmorn_MEAN(EDatt.flag_admission)</th>\n",
       "      <th>EDmorn_STD(EDatt.wait_time_total)</th>\n",
       "      <th>...</th>\n",
       "      <th>IP_admissions_elec_nonelec</th>\n",
       "      <th>IP_discharges_elec_nonelec_PRE12</th>\n",
       "      <th>IPmorn_count</th>\n",
       "      <th>IPmorn_count_elec</th>\n",
       "      <th>IPmorn_count_nonelec</th>\n",
       "      <th>IPmorn_age_mean</th>\n",
       "      <th>IPmorn_age_std</th>\n",
       "      <th>IPmorn_age_skew</th>\n",
       "      <th>IPmorn_prop_nonelec</th>\n",
       "      <th>dayofweek</th>\n",
       "    </tr>\n",
       "  </thead>\n",
       "  <tbody>\n",
       "    <tr>\n",
       "      <th>2013-01-02</th>\n",
       "      <td>2</td>\n",
       "      <td>1</td>\n",
       "      <td>2013</td>\n",
       "      <td>False</td>\n",
       "      <td>24</td>\n",
       "      <td>104.916667</td>\n",
       "      <td>0.833333</td>\n",
       "      <td>45.250000</td>\n",
       "      <td>0.166667</td>\n",
       "      <td>51.839715</td>\n",
       "      <td>...</td>\n",
       "      <td>122.0</td>\n",
       "      <td>39.0</td>\n",
       "      <td>1069.0</td>\n",
       "      <td>97.0</td>\n",
       "      <td>955.0</td>\n",
       "      <td>65.192703</td>\n",
       "      <td>24.748781</td>\n",
       "      <td>-1.113181</td>\n",
       "      <td>0.893358</td>\n",
       "      <td>2</td>\n",
       "    </tr>\n",
       "    <tr>\n",
       "      <th>2013-01-03</th>\n",
       "      <td>3</td>\n",
       "      <td>1</td>\n",
       "      <td>2013</td>\n",
       "      <td>False</td>\n",
       "      <td>32</td>\n",
       "      <td>157.272727</td>\n",
       "      <td>0.727273</td>\n",
       "      <td>50.781250</td>\n",
       "      <td>0.272727</td>\n",
       "      <td>72.372772</td>\n",
       "      <td>...</td>\n",
       "      <td>210.0</td>\n",
       "      <td>39.0</td>\n",
       "      <td>1137.0</td>\n",
       "      <td>151.0</td>\n",
       "      <td>970.0</td>\n",
       "      <td>64.325418</td>\n",
       "      <td>24.896858</td>\n",
       "      <td>-1.067481</td>\n",
       "      <td>0.853122</td>\n",
       "      <td>3</td>\n",
       "    </tr>\n",
       "    <tr>\n",
       "      <th>2013-01-04</th>\n",
       "      <td>4</td>\n",
       "      <td>1</td>\n",
       "      <td>2013</td>\n",
       "      <td>False</td>\n",
       "      <td>31</td>\n",
       "      <td>176.916667</td>\n",
       "      <td>0.666667</td>\n",
       "      <td>36.645161</td>\n",
       "      <td>0.375000</td>\n",
       "      <td>65.250632</td>\n",
       "      <td>...</td>\n",
       "      <td>181.0</td>\n",
       "      <td>70.0</td>\n",
       "      <td>1141.0</td>\n",
       "      <td>156.0</td>\n",
       "      <td>973.0</td>\n",
       "      <td>62.812445</td>\n",
       "      <td>25.652021</td>\n",
       "      <td>-0.942528</td>\n",
       "      <td>0.852761</td>\n",
       "      <td>4</td>\n",
       "    </tr>\n",
       "    <tr>\n",
       "      <th>2013-01-05</th>\n",
       "      <td>5</td>\n",
       "      <td>1</td>\n",
       "      <td>2013</td>\n",
       "      <td>True</td>\n",
       "      <td>30</td>\n",
       "      <td>160.217391</td>\n",
       "      <td>0.695652</td>\n",
       "      <td>39.866667</td>\n",
       "      <td>0.347826</td>\n",
       "      <td>87.252484</td>\n",
       "      <td>...</td>\n",
       "      <td>149.0</td>\n",
       "      <td>50.0</td>\n",
       "      <td>1104.0</td>\n",
       "      <td>150.0</td>\n",
       "      <td>936.0</td>\n",
       "      <td>62.668478</td>\n",
       "      <td>25.448019</td>\n",
       "      <td>-0.917823</td>\n",
       "      <td>0.847826</td>\n",
       "      <td>5</td>\n",
       "    </tr>\n",
       "    <tr>\n",
       "      <th>2013-01-06</th>\n",
       "      <td>6</td>\n",
       "      <td>1</td>\n",
       "      <td>2013</td>\n",
       "      <td>True</td>\n",
       "      <td>41</td>\n",
       "      <td>171.045455</td>\n",
       "      <td>0.590909</td>\n",
       "      <td>46.682927</td>\n",
       "      <td>0.454545</td>\n",
       "      <td>103.064694</td>\n",
       "      <td>...</td>\n",
       "      <td>136.0</td>\n",
       "      <td>36.0</td>\n",
       "      <td>1121.0</td>\n",
       "      <td>136.0</td>\n",
       "      <td>975.0</td>\n",
       "      <td>62.371097</td>\n",
       "      <td>25.658430</td>\n",
       "      <td>-0.900726</td>\n",
       "      <td>0.869759</td>\n",
       "      <td>6</td>\n",
       "    </tr>\n",
       "  </tbody>\n",
       "</table>\n",
       "<p>5 rows × 41 columns</p>\n",
       "</div>"
      ],
      "text/plain": [
       "            callender_DAY(first_EDatt_time)  \\\n",
       "2013-01-02                                2   \n",
       "2013-01-03                                3   \n",
       "2013-01-04                                4   \n",
       "2013-01-05                                5   \n",
       "2013-01-06                                6   \n",
       "\n",
       "            callender_MONTH(first_EDatt_time)  \\\n",
       "2013-01-02                                  1   \n",
       "2013-01-03                                  1   \n",
       "2013-01-04                                  1   \n",
       "2013-01-05                                  1   \n",
       "2013-01-06                                  1   \n",
       "\n",
       "            callender_YEAR(first_EDatt_time)  \\\n",
       "2013-01-02                              2013   \n",
       "2013-01-03                              2013   \n",
       "2013-01-04                              2013   \n",
       "2013-01-05                              2013   \n",
       "2013-01-06                              2013   \n",
       "\n",
       "            callender_WEEKEND(first_EDatt_time)  EDmorn_COUNT(EDatt)  \\\n",
       "2013-01-02                                False                   24   \n",
       "2013-01-03                                False                   32   \n",
       "2013-01-04                                False                   31   \n",
       "2013-01-05                                 True                   30   \n",
       "2013-01-06                                 True                   41   \n",
       "\n",
       "            EDmorn_MEAN(EDatt.wait_time_total)  \\\n",
       "2013-01-02                          104.916667   \n",
       "2013-01-03                          157.272727   \n",
       "2013-01-04                          176.916667   \n",
       "2013-01-05                          160.217391   \n",
       "2013-01-06                          171.045455   \n",
       "\n",
       "            EDmorn_MEAN(EDatt.flag_specreq)  EDmorn_MEAN(EDatt.age)  \\\n",
       "2013-01-02                         0.833333               45.250000   \n",
       "2013-01-03                         0.727273               50.781250   \n",
       "2013-01-04                         0.666667               36.645161   \n",
       "2013-01-05                         0.695652               39.866667   \n",
       "2013-01-06                         0.590909               46.682927   \n",
       "\n",
       "            EDmorn_MEAN(EDatt.flag_admission)  \\\n",
       "2013-01-02                           0.166667   \n",
       "2013-01-03                           0.272727   \n",
       "2013-01-04                           0.375000   \n",
       "2013-01-05                           0.347826   \n",
       "2013-01-06                           0.454545   \n",
       "\n",
       "            EDmorn_STD(EDatt.wait_time_total)    ...      \\\n",
       "2013-01-02                          51.839715    ...       \n",
       "2013-01-03                          72.372772    ...       \n",
       "2013-01-04                          65.250632    ...       \n",
       "2013-01-05                          87.252484    ...       \n",
       "2013-01-06                         103.064694    ...       \n",
       "\n",
       "            IP_admissions_elec_nonelec  IP_discharges_elec_nonelec_PRE12  \\\n",
       "2013-01-02                       122.0                              39.0   \n",
       "2013-01-03                       210.0                              39.0   \n",
       "2013-01-04                       181.0                              70.0   \n",
       "2013-01-05                       149.0                              50.0   \n",
       "2013-01-06                       136.0                              36.0   \n",
       "\n",
       "            IPmorn_count  IPmorn_count_elec  IPmorn_count_nonelec  \\\n",
       "2013-01-02        1069.0               97.0                 955.0   \n",
       "2013-01-03        1137.0              151.0                 970.0   \n",
       "2013-01-04        1141.0              156.0                 973.0   \n",
       "2013-01-05        1104.0              150.0                 936.0   \n",
       "2013-01-06        1121.0              136.0                 975.0   \n",
       "\n",
       "            IPmorn_age_mean  IPmorn_age_std  IPmorn_age_skew  \\\n",
       "2013-01-02        65.192703       24.748781        -1.113181   \n",
       "2013-01-03        64.325418       24.896858        -1.067481   \n",
       "2013-01-04        62.812445       25.652021        -0.942528   \n",
       "2013-01-05        62.668478       25.448019        -0.917823   \n",
       "2013-01-06        62.371097       25.658430        -0.900726   \n",
       "\n",
       "            IPmorn_prop_nonelec  dayofweek  \n",
       "2013-01-02             0.893358          2  \n",
       "2013-01-03             0.853122          3  \n",
       "2013-01-04             0.852761          4  \n",
       "2013-01-05             0.847826          5  \n",
       "2013-01-06             0.869759          6  \n",
       "\n",
       "[5 rows x 41 columns]"
      ]
     },
     "execution_count": 37,
     "metadata": {},
     "output_type": "execute_result"
    }
   ],
   "source": [
    "fm.head()"
   ]
  },
  {
   "cell_type": "code",
   "execution_count": 38,
   "metadata": {},
   "outputs": [],
   "source": [
    "num_attribs = [\n",
    "'callender_YEAR(first_EDatt_time)',\n",
    "'EDmorn_COUNT(EDatt)',\n",
    "'EDmorn_MEAN(EDatt.wait_time_total)',\n",
    "# 'EDmorn_MEAN(EDatt.flag_specreq)',\n",
    "'EDmorn_MEAN(EDatt.age)',\n",
    "# 'EDmorn_MEAN(EDatt.flag_admission)',\n",
    "# 'EDmorn_STD(EDatt.wait_time_total)',\n",
    "# 'EDmorn_STD(EDatt.flag_specreq)',\n",
    "'EDmorn_STD(EDatt.age)',\n",
    "# 'EDmorn_STD(EDatt.flag_admission)',\n",
    "# 'EDmorn_SUM(EDatt.wait_time_total)',\n",
    "'EDmorn_SUM(EDatt.flag_specreq)',\n",
    "# 'EDmorn_SUM(EDatt.age)',\n",
    "'EDmorn_SUM(EDatt.flag_admission)',\n",
    "'EDprevday_COUNT(EDatt)',\n",
    "# 'EDprevday_MEAN(EDatt.wait_time_total)',\n",
    "# 'EDprevday_MEAN(EDatt.flag_specreq)',\n",
    "'EDprevday_MEAN(EDatt.age)',\n",
    "# 'EDprevday_MEAN(EDatt.flag_admission)',\n",
    "# 'EDprevday_STD(EDatt.wait_time_total)',\n",
    "# 'EDprevday_STD(EDatt.flag_specreq)',\n",
    "# 'EDprevday_STD(EDatt.age)',\n",
    "# 'EDprevday_STD(EDatt.flag_admission)',\n",
    "# 'EDprevday_SUM(EDatt.wait_time_total)',\n",
    "# 'EDprevday_SUM(EDatt.flag_specreq)',\n",
    "# 'EDprevday_SUM(EDatt.age)',\n",
    "'EDprevday_SUM(EDatt.flag_admission)',\n",
    "'IPocc_perc',\n",
    "'IP_admissions_elec_nonelec',\n",
    "# 'IP_discharges_elec_nonelec_PRE12',\n",
    "# 'IPmorn_count',\n",
    "# 'IPmorn_count_elec',\n",
    "# 'IPmorn_count_nonelec',\n",
    "# 'IPmorn_age_mean',\n",
    "# 'IPmorn_age_std',\n",
    "# 'IPmorn_age_skew',\n",
    "# 'IPmorn_prop_nonelec',\n",
    "              \n",
    "              ]\n",
    "\n",
    "cat_attribs = [\n",
    "    'callender_MONTH(first_EDatt_time)',\n",
    "              'dayofweek',\n",
    "]\n",
    "\n",
    "bin_attribs = ['callender_WEEKEND(first_EDatt_time)']"
   ]
  },
  {
   "cell_type": "code",
   "execution_count": 39,
   "metadata": {},
   "outputs": [],
   "source": [
    "from sklearn.pipeline import Pipeline\n",
    "from utils import LaggedFeaturesAll, OffsetTargetVar"
   ]
  },
  {
   "cell_type": "markdown",
   "metadata": {},
   "source": [
    "feature_changes = {'lag':[1,2,3,4,5,6,7],\n",
    "                  'sum':[7],\n",
    "                  'mean':[7,30]}\n",
    "\n",
    "\n",
    "target_changes = {'flag_target':[1]}\n",
    "\n",
    "# create piptleine to create lags in data\n",
    "feature_prep = Pipeline([\n",
    "   ('LaggedFeature',LaggedFeaturesAll(feature_changes,num_attribs)),\n",
    "#     ('OffsetTarget',OffsetTargetVar(target_changes)),\n",
    "])"
   ]
  },
  {
   "cell_type": "markdown",
   "metadata": {},
   "source": [
    "feature_prep.fit_transform(fm)\n",
    "fm.dropna(inplace=True)"
   ]
  },
  {
   "cell_type": "code",
   "execution_count": null,
   "metadata": {},
   "outputs": [],
   "source": []
  },
  {
   "cell_type": "code",
   "execution_count": 40,
   "metadata": {},
   "outputs": [],
   "source": [
    "num_attribs = list(set(fm.columns) - set(cat_attribs) - set(bin_attribs))"
   ]
  },
  {
   "cell_type": "markdown",
   "metadata": {},
   "source": [
    "num_attribs = [\n",
    "'callender_YEAR(first_EDatt_time)',\n",
    "'EDmorn_COUNT(EDatt)',\n",
    "'EDmorn_MEAN(EDatt.wait_time_total)',\n",
    "'EDmorn_MEAN(EDatt.flag_specreq)',\n",
    "'EDmorn_MEAN(EDatt.age)',\n",
    "'EDmorn_MEAN(EDatt.flag_admission)',\n",
    "'EDmorn_STD(EDatt.wait_time_total)',\n",
    "'EDmorn_STD(EDatt.flag_specreq)',\n",
    "'EDmorn_STD(EDatt.age)',\n",
    "'EDmorn_STD(EDatt.flag_admission)',\n",
    "'EDmorn_SUM(EDatt.wait_time_total)',\n",
    "'EDmorn_SUM(EDatt.flag_specreq)',\n",
    "'EDmorn_SUM(EDatt.age)',\n",
    "'EDmorn_SUM(EDatt.flag_admission)',\n",
    "'EDprevday_COUNT(EDatt)',\n",
    "'EDprevday_MEAN(EDatt.wait_time_total)',\n",
    "'EDprevday_MEAN(EDatt.flag_specreq)',\n",
    "'EDprevday_MEAN(EDatt.age)',\n",
    "'EDprevday_MEAN(EDatt.flag_admission)',\n",
    "'EDprevday_STD(EDatt.wait_time_total)',\n",
    "'EDprevday_STD(EDatt.flag_specreq)',\n",
    "'EDprevday_STD(EDatt.age)',\n",
    "'EDprevday_STD(EDatt.flag_admission)',\n",
    "'EDprevday_SUM(EDatt.wait_time_total)',\n",
    "'EDprevday_SUM(EDatt.flag_specreq)',\n",
    "'EDprevday_SUM(EDatt.age)',\n",
    "'EDprevday_SUM(EDatt.flag_admission)',\n",
    "'IPocc_perc',\n",
    "'IP_admissions_elec_nonelec',\n",
    "'IP_discharges_elec_nonelec_PRE12',\n",
    "'IPmorn_count',\n",
    "'IPmorn_count_elec',\n",
    "'IPmorn_count_nonelec',\n",
    "'IPmorn_age_mean',\n",
    "'IPmorn_age_std',\n",
    "'IPmorn_age_skew',\n",
    "'IPmorn_prop_nonelec',\n",
    "              \n",
    "              ]\n",
    "\n",
    "cat_attribs = [\n",
    "    'callender_MONTH(first_EDatt_time)',\n",
    "              'dayofweek',\n",
    "]\n",
    "\n",
    "bin_attribs = ['callender_WEEKEND(first_EDatt_time)']"
   ]
  },
  {
   "cell_type": "code",
   "execution_count": null,
   "metadata": {},
   "outputs": [],
   "source": [
    "num"
   ]
  },
  {
   "cell_type": "code",
   "execution_count": 41,
   "metadata": {},
   "outputs": [],
   "source": [
    "num_pipeline = Pipeline([\n",
    "    ('selector',DataFrameSelector(num_attribs)),\n",
    "    ('feature_filter',SelectKBest(f_classif,k='all')),\n",
    "    ('imputer',Imputer(strategy='median')),\n",
    "    ('std_scaler',StandardScaler()),\n",
    "])\n",
    "\n",
    "cat_pipeline = Pipeline([\n",
    "    ('selector',DataFrameSelector(cat_attribs)),\n",
    "    ('imputer',Imputer(strategy='most_frequent')),\n",
    "    ('OneHot_encoder',OneHotEncoder(sparse=False))\n",
    "])\n",
    "\n",
    "bin_pipeline = Pipeline([\n",
    "    ('selector',DataFrameSelector(bin_attribs)),\n",
    "    ('imputer',Imputer(strategy='most_frequent')),\n",
    "    ('boolean_conversion',MakeBooleanAnInteger()),\n",
    "    #('encoding',LabelEncoder()),\n",
    "])\n",
    "\n",
    "full_pipeline = FeatureUnion(transformer_list=[\n",
    "    ('num_pipeline',num_pipeline),\n",
    "  ('cat_pipeline',cat_pipeline),\n",
    " #  ('bin_pipeline',bin_pipeline) \n",
    "])\n",
    "\n",
    "X_trainT = full_pipeline.fit_transform(X_train,y_train)\n",
    "\n",
    "# X_train_validT = full_pipeline.transform(X_train_valid)\n",
    "# X_validT = full_pipeline.transform(X_valid)\n",
    "X_testT = full_pipeline.transform(X_test)"
   ]
  },
  {
   "cell_type": "markdown",
   "metadata": {},
   "source": [
    "# basic model build"
   ]
  },
  {
   "cell_type": "code",
   "execution_count": 42,
   "metadata": {},
   "outputs": [
    {
     "data": {
      "text/plain": [
       "(2019, 43)"
      ]
     },
     "execution_count": 42,
     "metadata": {},
     "output_type": "execute_result"
    }
   ],
   "source": [
    "df.shape"
   ]
  },
  {
   "cell_type": "code",
   "execution_count": 47,
   "metadata": {},
   "outputs": [],
   "source": [
    "from sklearn.metrics import classification_report,precision_score, recall_score, confusion_matrix,accuracy_score\n",
    "from sklearn.metrics import precision_recall_curve,roc_curve\n",
    "from sklearn.model_selection import TimeSeriesSplit\n",
    "from utils import plot_model_perf\n",
    "\n",
    "from sklearn.model_selection import cross_val_predict, cross_val_score, GridSearchCV\n",
    "\n",
    "\n",
    "\n",
    "def find_best_model(model, grid, Xdata, ydata, plot_label):\n",
    "    \"\"\"does gridsearch for model and plots result from \"\"\"\n",
    "#     tscv = TimeSeriesSplit(n_splits=10)\n",
    "    my_cv = TimeSeriesSplit(n_splits=10).split(Xdata)\n",
    "    grid_search = GridSearchCV(model,grid,scoring='f1',cv=my_cv,return_train_score=True)\n",
    "    grid_search.fit(Xdata,ydata)\n",
    "    model = grid_search.best_estimator_\n",
    "    print('CV MODEL RESULTS')\n",
    "    print(grid_search.best_params_)\n",
    "    print(pd.DataFrame(grid_search.cv_results_).query('rank_test_score == 1')[['mean_test_score','mean_train_score']])\n",
    "    \n",
    "    plot_model_perf(ydata,Xdata,model,plot_label)\n",
    "\n",
    "    \n",
    "    return(grid_search)\n",
    "    "
   ]
  },
  {
   "cell_type": "markdown",
   "metadata": {},
   "source": [
    "tscv = TimeSeriesSplit(n_splits=5)\n",
    "my_cv = TimeSeriesSplit(n_splits=5).split(X)\n",
    "gsearch = GridSearchCV(estimator=model, cv=my_cv,\n",
    "                        param_grid=param_search)\n",
    "gsearch.fit(X, y)"
   ]
  },
  {
   "cell_type": "markdown",
   "metadata": {},
   "source": [
    "# Model build + tune\n",
    "### regression\n",
    "\n",
    "- just putting more data into model seems to boost performance"
   ]
  },
  {
   "cell_type": "code",
   "execution_count": 48,
   "metadata": {},
   "outputs": [
    {
     "name": "stdout",
     "output_type": "stream",
     "text": [
      "CV MODEL RESULTS\n",
      "{'C': 0.1}\n",
      "   mean_test_score  mean_train_score\n",
      "1         0.486355          0.621343\n",
      "accuracy:  0.81\n",
      "precision:  0.43\n",
      "recall:  0.86\n",
      "auc:  0.83\n"
     ]
    },
    {
     "data": {
      "image/png": "[encoded data removed]",
      "text/plain": [
       "<matplotlib.figure.Figure at 0x1ceae45c128>"
      ]
     },
     "metadata": {},
     "output_type": "display_data"
    }
   ],
   "source": [
    "from sklearn.linear_model import LogisticRegression\n",
    "lgr = LogisticRegression(solver='liblinear',class_weight ='balanced')\n",
    "\n",
    "grid = {'C':[0.05, 0.1,0.2,0.3,0.5,0.7,1,3,10]}\n",
    "#grid = {'C':[0.1]}\n",
    "\n",
    "grid_search = find_best_model(lgr,grid,X_trainT,y_train,'CV set')\n",
    "lgr = grid_search.best_estimator_\n",
    "\n",
    "# grid_search.fit(X_trainT,y_train)\n",
    "# plot_model_perf(y_test,X_testT,grid_search.best_estimator_,'Test')"
   ]
  },
  {
   "cell_type": "code",
   "execution_count": 126,
   "metadata": {},
   "outputs": [
    {
     "name": "stdout",
     "output_type": "stream",
     "text": [
      "CV MODEL RESULTS\n",
      "{'C': 0.2}\n",
      "   mean_test_score  mean_train_score\n",
      "2         0.440527          0.656393\n",
      "accuracy:  0.81\n",
      "precision:  0.44\n",
      "recall:  0.85\n",
      "auc:  0.83\n"
     ]
    },
    {
     "data": {
      "image/png": "[encoded data removed]",
      "text/plain": [
       "<matplotlib.figure.Figure at 0x2023b01cac8>"
      ]
     },
     "metadata": {},
     "output_type": "display_data"
    }
   ],
   "source": [
    "from sklearn.linear_model import LogisticRegression\n",
    "lgr = LogisticRegression(solver='liblinear',class_weight ='balanced')\n",
    "\n",
    "grid = {'C':[0.05, 0.1,0.2,0.3,0.5,0.7,1,10]}\n",
    "#grid = {'C':[0.1]}\n",
    "\n",
    "grid_search = find_best_model(lgr,grid,X_trainT,y_train,'CV set')\n",
    "lgr = grid_search.best_estimator_\n",
    "\n",
    "# grid_search.fit(X_trainT,y_train)\n",
    "# plot_model_perf(y_test,X_testT,grid_search.best_estimator_,'Test')"
   ]
  },
  {
   "cell_type": "code",
   "execution_count": 73,
   "metadata": {},
   "outputs": [
    {
     "name": "stdout",
     "output_type": "stream",
     "text": [
      "CV MODEL RESULTS\n",
      "{'C': 0.7}\n",
      "   mean_test_score  mean_train_score\n",
      "5         0.471642          0.574291\n",
      "accuracy:  0.78\n",
      "precision:  0.4\n",
      "recall:  0.81\n",
      "auc:  0.79\n",
      "accuracy:  0.64\n",
      "precision:  0.29\n",
      "recall:  0.95\n",
      "auc:  0.76\n"
     ]
    },
    {
     "data": {
      "image/png": "[encoded data removed]",
      "text/plain": [
       "<matplotlib.figure.Figure at 0x272d71f2eb8>"
      ]
     },
     "metadata": {},
     "output_type": "display_data"
    },
    {
     "data": {
      "image/png": "[encoded data removed]",
      "text/plain": [
       "<matplotlib.figure.Figure at 0x272d6e27780>"
      ]
     },
     "metadata": {},
     "output_type": "display_data"
    }
   ],
   "source": [
    "from sklearn.linear_model import LogisticRegression\n",
    "lgr = LogisticRegression(solver='liblinear',class_weight ='balanced')\n",
    "\n",
    "grid = {'C':[0.05, 0.1,0.2,0.3,0.5,0.7,1,10]}\n",
    "#grid = {'C':[0.1]}\n",
    "\n",
    "grid_search = find_best_model(lgr,grid,X_trainT,y_train,'CV set')\n",
    "lgr = grid_search.best_estimator_\n",
    "\n",
    "# grid_search.fit(X_trainT,y_train)\n",
    "plot_model_perf(y_test,X_testT,grid_search.best_estimator_,'Test')"
   ]
  },
  {
   "cell_type": "code",
   "execution_count": null,
   "metadata": {},
   "outputs": [],
   "source": []
  },
  {
   "cell_type": "code",
   "execution_count": null,
   "metadata": {},
   "outputs": [],
   "source": []
  },
  {
   "cell_type": "markdown",
   "metadata": {},
   "source": [
    "# Dev"
   ]
  },
  {
   "cell_type": "code",
   "execution_count": 48,
   "metadata": {},
   "outputs": [
    {
     "name": "stdout",
     "output_type": "stream",
     "text": [
      "TimeSeriesSplit(max_train_size=None, n_splits=5)\n",
      "TRAIN: [0] TEST: [1]\n",
      "TRAIN: [0 1] TEST: [2]\n",
      "TRAIN: [0 1 2] TEST: [3]\n",
      "TRAIN: [0 1 2 3] TEST: [4]\n",
      "TRAIN: [0 1 2 3 4] TEST: [5]\n"
     ]
    }
   ],
   "source": [
    "from sklearn.model_selection import TimeSeriesSplit\n",
    "X = np.array([[1, 2], [3, 4], [1, 2], [3, 4], [1, 2], [3, 4]])\n",
    "y = np.array([1, 2, 3, 4, 5, 6])\n",
    "tscv = TimeSeriesSplit(n_splits=5)\n",
    "print(tscv)  \n",
    "\n",
    "for train_index, test_index in tscv.split(X):\n",
    "   print(\"TRAIN:\", train_index, \"TEST:\", test_index)\n",
    "   X_train, X_test = X[train_index], X[test_index]\n",
    "   y_train, y_test = y[train_index], y[test_index]"
   ]
  },
  {
   "cell_type": "code",
   "execution_count": 44,
   "metadata": {},
   "outputs": [
    {
     "data": {
      "text/plain": [
       "<generator object TimeSeriesSplit.split at 0x000002407BF86518>"
      ]
     },
     "execution_count": 44,
     "metadata": {},
     "output_type": "execute_result"
    }
   ],
   "source": [
    "tscv.split(X)"
   ]
  },
  {
   "cell_type": "code",
   "execution_count": 50,
   "metadata": {},
   "outputs": [
    {
     "ename": "NameError",
     "evalue": "name 'model' is not defined",
     "output_type": "error",
     "traceback": [
      "\u001b[1;31m---------------------------------------------------------------------------\u001b[0m",
      "\u001b[1;31mNameError\u001b[0m                                 Traceback (most recent call last)",
      "\u001b[1;32m<ipython-input-50-b011e21f2da0>\u001b[0m in \u001b[0;36m<module>\u001b[1;34m()\u001b[0m\n\u001b[0;32m     10\u001b[0m \u001b[1;33m\u001b[0m\u001b[0m\n\u001b[0;32m     11\u001b[0m \u001b[0mmy_cv\u001b[0m \u001b[1;33m=\u001b[0m \u001b[0mTimeSeriesSplit\u001b[0m\u001b[1;33m(\u001b[0m\u001b[0mn_splits\u001b[0m\u001b[1;33m=\u001b[0m\u001b[1;36m2\u001b[0m\u001b[1;33m)\u001b[0m\u001b[1;33m.\u001b[0m\u001b[0msplit\u001b[0m\u001b[1;33m(\u001b[0m\u001b[0mX\u001b[0m\u001b[1;33m)\u001b[0m\u001b[1;33m\u001b[0m\u001b[0m\n\u001b[1;32m---> 12\u001b[1;33m gsearch = GridSearchCV(estimator=model, cv=my_cv,\n\u001b[0m\u001b[0;32m     13\u001b[0m                         param_grid=param_search)\n\u001b[0;32m     14\u001b[0m \u001b[0mgsearch\u001b[0m\u001b[1;33m.\u001b[0m\u001b[0mfit\u001b[0m\u001b[1;33m(\u001b[0m\u001b[0mX\u001b[0m\u001b[1;33m,\u001b[0m \u001b[0my\u001b[0m\u001b[1;33m)\u001b[0m\u001b[1;33m\u001b[0m\u001b[0m\n",
      "\u001b[1;31mNameError\u001b[0m: name 'model' is not defined"
     ]
    }
   ],
   "source": [
    "# import xgboost as xgb\n",
    "from sklearn.model_selection import TimeSeriesSplit, GridSearchCV\n",
    "import numpy as np\n",
    "X = np.array([[4, 5, 6, 1, 0, 2], [3.1, 3.5, 1.0, 2.1, 8.3, 1.1]]).T\n",
    "y = np.array([1, 6, 7, 1, 2, 3])\n",
    "tscv = TimeSeriesSplit(n_splits=2)\n",
    "\n",
    "# model = xgb.XGBRegressor()\n",
    "# param_search = {'max_depth' : [3, 5]}\n",
    "tscv = TimeSeriesSplit(n_splits=2)\n",
    "my_cv = TimeSeriesSplit(n_splits=2).split(X)\n",
    "gsearch = GridSearchCV(estimator=model, cv=my_cv,\n",
    "                        param_grid=param_search)\n",
    "gsearch.fit(X, y)"
   ]
  },
  {
   "cell_type": "code",
   "execution_count": null,
   "metadata": {},
   "outputs": [],
   "source": []
  },
  {
   "cell_type": "code",
   "execution_count": 37,
   "metadata": {},
   "outputs": [
    {
     "name": "stdout",
     "output_type": "stream",
     "text": [
      "CV MODEL RESULTS\n",
      "{'C': 0.7}\n",
      "   mean_test_score  mean_train_score\n",
      "5         0.556513          0.590606\n",
      "accuracy:  0.82\n",
      "precision:  0.45\n",
      "recall:  0.84\n",
      "auc:  0.83\n"
     ]
    },
    {
     "data": {
      "image/png": "[encoded data removed]",
      "text/plain": [
       "<matplotlib.figure.Figure at 0x1c3a9a43828>"
      ]
     },
     "metadata": {},
     "output_type": "display_data"
    }
   ],
   "source": [
    "from sklearn.linear_model import LogisticRegression\n",
    "lgr = LogisticRegression(solver='liblinear',class_weight ='balanced')\n",
    "\n",
    "grid = {'C':[0.05, 0.1,0.2,0.3,0.5,0.7,1,10]}\n",
    "#grid = {'C':[0.1]}\n",
    "\n",
    "grid_search = find_best_model(lgr,grid,X_trainT,y_train,'CV set')\n",
    "lgr = grid_search.best_estimator_\n",
    "\n",
    "# grid_search.fit(X_trainT,y_train)\n",
    "# plot_model_perf(y_test,X_testT,grid_search.best_estimator_,'Test')"
   ]
  },
  {
   "cell_type": "code",
   "execution_count": 38,
   "metadata": {},
   "outputs": [
    {
     "name": "stdout",
     "output_type": "stream",
     "text": [
      "CV MODEL RESULTS\n",
      "{'C': 1}\n",
      "   mean_test_score  mean_train_score\n",
      "6         0.552451          0.628499\n",
      "accuracy:  0.91\n",
      "precision:  0.77\n",
      "recall:  0.52\n",
      "auc:  0.75\n"
     ]
    },
    {
     "data": {
      "image/png": "[encoded data removed]",
      "text/plain": [
       "<matplotlib.figure.Figure at 0x1c3a9cf6eb8>"
      ]
     },
     "metadata": {},
     "output_type": "display_data"
    }
   ],
   "source": [
    "from sklearn.linear_model import LogisticRegression\n",
    "lgr = LogisticRegression(solver='liblinear',class_weight =None)\n",
    "\n",
    "grid = {'C':[0.05, 0.1,0.2,0.3,0.5,0.7,1,10]}\n",
    "#grid = {'C':[0.1]}\n",
    "\n",
    "grid_search = find_best_model(lgr,grid,X_trainT,y_train,'CV set')\n",
    "lgr = grid_search.best_estimator_\n",
    "\n",
    "# grid_search.fit(X_trainT,y_train)\n",
    "# plot_model_perf(y_test,X_testT,grid_search.best_estimator_,'Test')"
   ]
  },
  {
   "cell_type": "code",
   "execution_count": 39,
   "metadata": {},
   "outputs": [
    {
     "name": "stdout",
     "output_type": "stream",
     "text": [
      "CV MODEL RESULTS\n",
      "{'C': 0.7}\n",
      "   mean_test_score  mean_train_score\n",
      "5         0.556513          0.590606\n",
      "accuracy:  0.82\n",
      "precision:  0.45\n",
      "recall:  0.84\n",
      "auc:  0.83\n"
     ]
    },
    {
     "data": {
      "image/png": "[encoded data removed]",
      "text/plain": [
       "<matplotlib.figure.Figure at 0x1db18f49e80>"
      ]
     },
     "metadata": {},
     "output_type": "display_data"
    }
   ],
   "source": [
    "from sklearn.linear_model import LogisticRegression\n",
    "lgr = LogisticRegression(solver='liblinear',class_weight ='balanced')\n",
    "\n",
    "grid = {'C':[0.05, 0.1,0.2,0.3,0.5,0.7,1,10]}\n",
    "#grid = {'C':[0.1]}\n",
    "\n",
    "grid_search = find_best_model(lgr,grid,X_trainT,y_train,'CV set')\n",
    "lgr = grid_search.best_estimator_\n",
    "\n",
    "# grid_search.fit(X_trainT,y_train)\n",
    "# plot_model_perf(y_test,X_testT,grid_search.best_estimator_,'Test')"
   ]
  },
  {
   "cell_type": "code",
   "execution_count": null,
   "metadata": {},
   "outputs": [],
   "source": []
  },
  {
   "cell_type": "markdown",
   "metadata": {},
   "source": [
    "## Attempt with kfold set to see if any difference in perf\n",
    "\n",
    "- using CV seems to get better performance in test set (improvments)"
   ]
  },
  {
   "cell_type": "code",
   "execution_count": 72,
   "metadata": {},
   "outputs": [
    {
     "name": "stdout",
     "output_type": "stream",
     "text": [
      "DATA POINTS:\n",
      "training:  1733\n",
      "validation:  0\n",
      "testing:  365\n"
     ]
    }
   ],
   "source": [
    "from utils import make_test_train_splits\n",
    "\n",
    "X_test,X_valid,X_train,X_train_valid,y_test,y_valid,y_train,y_train_valid = make_test_train_splits(df,target_col,'flag_target',365,0)"
   ]
  },
  {
   "cell_type": "markdown",
   "metadata": {},
   "source": [
    "from sklearn.model_selection import train_test_split\n",
    "\n",
    "# X = df\n",
    "# y = df.pop('flag_target')\n",
    "\n",
    "X_train, X_valid, y_train, y_valid = train_test_split(X_train, y_train, test_size=0.2)#, random_state=42)"
   ]
  },
  {
   "cell_type": "code",
   "execution_count": 74,
   "metadata": {},
   "outputs": [],
   "source": [
    "num_pipeline = Pipeline([\n",
    "    ('selector',DataFrameSelector(num_attribs)),\n",
    "    ('feature_filter',SelectKBest(f_classif,k='all')),\n",
    "    ('imputer',Imputer(strategy='median')),\n",
    "    ('std_scaler',StandardScaler()),\n",
    "])\n",
    "\n",
    "cat_pipeline = Pipeline([\n",
    "    ('selector',DataFrameSelector(cat_attribs)),\n",
    "    ('imputer',Imputer(strategy='most_frequent')),\n",
    "    ('OneHot_encoder',OneHotEncoder(sparse=False))\n",
    "])\n",
    "\n",
    "bin_pipeline = Pipeline([\n",
    "    ('selector',DataFrameSelector(bin_attribs)),\n",
    "    ('imputer',Imputer(strategy='most_frequent')),\n",
    "    ('boolean_conversion',MakeBooleanAnInteger()),\n",
    "    #('encoding',LabelEncoder()),\n",
    "])\n",
    "\n",
    "full_pipeline = FeatureUnion(transformer_list=[\n",
    "    ('num_pipeline',num_pipeline),\n",
    "  ('cat_pipeline',cat_pipeline),\n",
    " #  ('bin_pipeline',bin_pipeline) \n",
    "])\n",
    "\n",
    "X_trainT = full_pipeline.fit_transform(X_train,y_train)\n",
    "\n",
    "# X_train_validT = full_pipeline.transform(X_train_valid)\n",
    "# X_validT = full_pipeline.transform(X_valid)\n",
    "X_testT = full_pipeline.transform(X_test)"
   ]
  },
  {
   "cell_type": "code",
   "execution_count": 75,
   "metadata": {},
   "outputs": [
    {
     "name": "stdout",
     "output_type": "stream",
     "text": [
      "CV MODEL RESULTS\n",
      "{'C': 0.1}\n",
      "   mean_test_score  mean_train_score\n",
      "1         0.526624          0.562775\n",
      "accuracy:  0.9\n",
      "precision:  0.75\n",
      "recall:  0.45\n",
      "auc:  0.71\n"
     ]
    },
    {
     "data": {
      "image/png": "[encoded data removed]",
      "text/plain": [
       "<matplotlib.figure.Figure at 0x1db1aa7edd8>"
      ]
     },
     "metadata": {},
     "output_type": "display_data"
    }
   ],
   "source": [
    "from sklearn.linear_model import LogisticRegression\n",
    "lgr = LogisticRegression(solver='liblinear',class_weight =None)\n",
    "\n",
    "grid = {'C':[0.05, 0.1,0.2,0.3,0.5,0.7,1,10]}\n",
    "#grid = {'C':[0.1]}\n",
    "\n",
    "grid_search = find_best_model(lgr,grid,X_trainT,y_train,'CV set')\n",
    "lgr = grid_search.best_estimator_\n",
    "\n",
    "# grid_search.fit(X_trainT,y_train)\n",
    "# plot_model_perf(y_test,X_testT,grid_search.best_estimator_,'Test')"
   ]
  },
  {
   "cell_type": "code",
   "execution_count": 77,
   "metadata": {},
   "outputs": [
    {
     "name": "stdout",
     "output_type": "stream",
     "text": [
      "CV MODEL RESULTS\n",
      "{'C': 0.1}\n",
      "   mean_test_score  mean_train_score\n",
      "1         0.526624          0.562775\n",
      "accuracy:  0.9\n",
      "precision:  0.75\n",
      "recall:  0.45\n",
      "auc:  0.71\n",
      "accuracy:  0.92\n",
      "precision:  0.78\n",
      "recall:  0.66\n",
      "auc:  0.81\n"
     ]
    },
    {
     "data": {
      "image/png": "[encoded data removed]",
      "text/plain": [
       "<matplotlib.figure.Figure at 0x1db1aa42e80>"
      ]
     },
     "metadata": {},
     "output_type": "display_data"
    },
    {
     "data": {
      "image/png": "[encoded data removed]",
      "text/plain": [
       "<matplotlib.figure.Figure at 0x1db1aa9f748>"
      ]
     },
     "metadata": {},
     "output_type": "display_data"
    }
   ],
   "source": [
    "from sklearn.linear_model import LogisticRegression\n",
    "lgr = LogisticRegression(solver='liblinear',class_weight =None)\n",
    "\n",
    "grid = {'C':[0.05, 0.1,0.2,0.3,0.5,0.7,1,10]}\n",
    "#grid = {'C':[0.1]}\n",
    "\n",
    "grid_search = find_best_model(lgr,grid,X_trainT,y_train,'CV set')\n",
    "lgr = grid_search.best_estimator_\n",
    "\n",
    "grid_search.fit(X_trainT,y_train)\n",
    "plot_model_perf(y_test,X_testT,grid_search.best_estimator_,'Test')"
   ]
  },
  {
   "cell_type": "code",
   "execution_count": null,
   "metadata": {},
   "outputs": [],
   "source": []
  },
  {
   "cell_type": "code",
   "execution_count": null,
   "metadata": {},
   "outputs": [],
   "source": []
  },
  {
   "cell_type": "markdown",
   "metadata": {},
   "source": [
    "## Using more recent data only\n",
    "\n",
    "- accuracy and ROC are increasing with more data!"
   ]
  },
  {
   "cell_type": "code",
   "execution_count": 101,
   "metadata": {},
   "outputs": [
    {
     "data": {
      "text/plain": [
       "array([-1.38204095, -1.5238513 , -2.57234599,  0.79305209,  0.77604285,\n",
       "       -1.02523076, -1.37550578, -0.46621314,  0.73983692, -0.80796676,\n",
       "       -1.88588797, -0.78366605, -1.24548325, -1.29653812,  1.60579135,\n",
       "       -1.47870446,  1.14686126, -0.45522531, -0.60029134, -0.02956503,\n",
       "       -1.18703626, -0.36393712, -0.49127564, -0.20864327,  1.96611451,\n",
       "        1.32252245,  0.79192399, -2.46480462, -1.40561106, -0.80991869,\n",
       "       -0.45922303,  1.        ,  0.        ,  0.        ,  0.        ,\n",
       "        0.        ,  0.        ,  0.        ,  0.        ,  0.        ,\n",
       "        0.        ,  0.        ,  0.        ,  0.        ,  0.        ,\n",
       "        1.        ,  0.        ,  0.        ,  0.        ,  0.        ])"
      ]
     },
     "execution_count": 101,
     "metadata": {},
     "output_type": "execute_result"
    }
   ],
   "source": [
    "X_trainT[0]"
   ]
  },
  {
   "cell_type": "code",
   "execution_count": 102,
   "metadata": {},
   "outputs": [
    {
     "data": {
      "text/plain": [
       "array([-1.38204095, -0.56472503, -0.52655269, -0.11173573,  1.88737462,\n",
       "       -0.13686788, -0.17115923,  0.47225026,  2.28067964,  0.30431652,\n",
       "       -1.40691042, -1.22560984,  0.34431825, -0.89516253, -0.34952123,\n",
       "        0.24510365, -0.41195642,  0.44185246, -0.33396447, -0.07322384,\n",
       "        0.50696712,  0.24753011, -0.15582022, -0.0639781 , -0.48095093,\n",
       "       -0.11123661, -0.50756454, -0.72866707,  1.13888783, -0.80991869,\n",
       "       -0.22978198,  1.        ,  0.        ,  0.        ,  0.        ,\n",
       "        0.        ,  0.        ,  0.        ,  0.        ,  0.        ,\n",
       "        0.        ,  0.        ,  0.        ,  0.        ,  0.        ,\n",
       "        0.        ,  1.        ,  0.        ,  0.        ,  0.        ])"
      ]
     },
     "execution_count": 102,
     "metadata": {},
     "output_type": "execute_result"
    }
   ],
   "source": [
    "X_trainT[1]"
   ]
  },
  {
   "cell_type": "code",
   "execution_count": 132,
   "metadata": {},
   "outputs": [],
   "source": [
    "i = 1600 #sample size\n",
    "X_trainTf = X_trainT[-i:]\n",
    "y_trainf = y_train[-i:]"
   ]
  },
  {
   "cell_type": "code",
   "execution_count": 133,
   "metadata": {},
   "outputs": [
    {
     "data": {
      "text/plain": [
       "(1733, 50)"
      ]
     },
     "execution_count": 133,
     "metadata": {},
     "output_type": "execute_result"
    }
   ],
   "source": [
    "X_trainT.shape"
   ]
  },
  {
   "cell_type": "code",
   "execution_count": 134,
   "metadata": {},
   "outputs": [
    {
     "data": {
      "text/plain": [
       "(1600, 50)"
      ]
     },
     "execution_count": 134,
     "metadata": {},
     "output_type": "execute_result"
    }
   ],
   "source": [
    "X_trainTf.shape"
   ]
  },
  {
   "cell_type": "code",
   "execution_count": 135,
   "metadata": {},
   "outputs": [
    {
     "data": {
      "text/plain": [
       "(1600,)"
      ]
     },
     "execution_count": 135,
     "metadata": {},
     "output_type": "execute_result"
    }
   ],
   "source": [
    "y_trainf.shape"
   ]
  },
  {
   "cell_type": "code",
   "execution_count": 136,
   "metadata": {},
   "outputs": [
    {
     "name": "stdout",
     "output_type": "stream",
     "text": [
      "CV MODEL RESULTS\n",
      "{'C': 0.2}\n",
      "   mean_test_score  mean_train_score\n",
      "2         0.441072          0.547625\n",
      "accuracy:  0.9\n",
      "precision:  0.75\n",
      "recall:  0.4\n",
      "auc:  0.69\n",
      "accuracy:  0.91\n",
      "precision:  0.74\n",
      "recall:  0.69\n",
      "auc:  0.82\n"
     ]
    },
    {
     "data": {
      "image/png": "[encoded data removed]",
      "text/plain": [
       "<matplotlib.figure.Figure at 0x1db1ad4ff28>"
      ]
     },
     "metadata": {},
     "output_type": "display_data"
    },
    {
     "data": {
      "image/png": "[encoded data removed]",
      "text/plain": [
       "<matplotlib.figure.Figure at 0x1db191b4b70>"
      ]
     },
     "metadata": {},
     "output_type": "display_data"
    }
   ],
   "source": [
    "from sklearn.linear_model import LogisticRegression\n",
    "lgr = LogisticRegression(solver='liblinear',class_weight =None)\n",
    "\n",
    "grid = {'C':[0.05, 0.1,0.2,0.3,0.5,0.7,1,10]}\n",
    "#grid = {'C':[0.1]}\n",
    "\n",
    "grid_search = find_best_model(lgr,grid,X_trainTf,y_trainf,'CV set')\n",
    "lgr = grid_search.best_estimator_\n",
    "\n",
    "grid_search.fit(X_trainTf,y_trainf)\n",
    "plot_model_perf(y_test,X_testT,grid_search.best_estimator_,'Test')"
   ]
  },
  {
   "cell_type": "code",
   "execution_count": null,
   "metadata": {},
   "outputs": [],
   "source": []
  },
  {
   "cell_type": "code",
   "execution_count": null,
   "metadata": {},
   "outputs": [],
   "source": []
  },
  {
   "cell_type": "code",
   "execution_count": null,
   "metadata": {},
   "outputs": [],
   "source": []
  },
  {
   "cell_type": "code",
   "execution_count": null,
   "metadata": {},
   "outputs": [],
   "source": []
  },
  {
   "cell_type": "code",
   "execution_count": null,
   "metadata": {},
   "outputs": [],
   "source": []
  },
  {
   "cell_type": "code",
   "execution_count": null,
   "metadata": {},
   "outputs": [],
   "source": []
  },
  {
   "cell_type": "code",
   "execution_count": null,
   "metadata": {},
   "outputs": [],
   "source": [
    "from utils import DataFrameRebuild"
   ]
  },
  {
   "cell_type": "code",
   "execution_count": null,
   "metadata": {},
   "outputs": [],
   "source": [
    "break"
   ]
  },
  {
   "cell_type": "code",
   "execution_count": null,
   "metadata": {},
   "outputs": [],
   "source": []
  },
  {
   "cell_type": "code",
   "execution_count": null,
   "metadata": {},
   "outputs": [],
   "source": [
    "cols_list = DataFrameRebuild(X_train,X_trainT,num_attribs=num_attribs,bin_attribs=bin_attribs).columns"
   ]
  },
  {
   "cell_type": "code",
   "execution_count": null,
   "metadata": {},
   "outputs": [],
   "source": [
    "lgr.coef_"
   ]
  },
  {
   "cell_type": "code",
   "execution_count": null,
   "metadata": {},
   "outputs": [],
   "source": [
    "cols_list.shape"
   ]
  },
  {
   "cell_type": "code",
   "execution_count": null,
   "metadata": {},
   "outputs": [],
   "source": [
    "pd.DataFrame(index=cols_list,data=lgr.coef_)"
   ]
  },
  {
   "cell_type": "code",
   "execution_count": null,
   "metadata": {},
   "outputs": [],
   "source": []
  },
  {
   "cell_type": "code",
   "execution_count": null,
   "metadata": {},
   "outputs": [],
   "source": [
    "plot_model_perf(y_valid,X_validT,lgr,'Valid')"
   ]
  },
  {
   "cell_type": "code",
   "execution_count": null,
   "metadata": {},
   "outputs": [],
   "source": [
    "plot_model_perf(y_test,X_testT,lgr,'Test')"
   ]
  },
  {
   "cell_type": "code",
   "execution_count": null,
   "metadata": {},
   "outputs": [],
   "source": []
  },
  {
   "cell_type": "code",
   "execution_count": null,
   "metadata": {},
   "outputs": [],
   "source": []
  },
  {
   "cell_type": "code",
   "execution_count": null,
   "metadata": {},
   "outputs": [],
   "source": []
  },
  {
   "cell_type": "code",
   "execution_count": null,
   "metadata": {},
   "outputs": [],
   "source": []
  },
  {
   "cell_type": "markdown",
   "metadata": {},
   "source": [
    "coefs = pd.DataFrame(data=lgr.coef_.reshape(-1,1),index=X_trainT.columns,columns=['coef'])\n",
    "coefs = (np.sqrt(coefs**2)).sort_values(by='coef')\n",
    "list(coefs[coefs.coef < 0.15].index)"
   ]
  },
  {
   "cell_type": "markdown",
   "metadata": {},
   "source": [
    "coefs[coefs.coef < 0.15].shape"
   ]
  },
  {
   "cell_type": "markdown",
   "metadata": {},
   "source": [
    "plot_model_perf(y_test,X_testT,lgr,'Test')"
   ]
  },
  {
   "cell_type": "code",
   "execution_count": null,
   "metadata": {},
   "outputs": [],
   "source": [
    "import sklearn\n",
    "sklearn.metrics.SCORERS.keys()"
   ]
  },
  {
   "cell_type": "code",
   "execution_count": null,
   "metadata": {},
   "outputs": [],
   "source": [
    "\n",
    "lasso = LogisticRegression(penalty = 'l1', solver='liblinear',class_weight ='balanced')\n",
    "\n",
    "grid = {'C':[0.2,1]}\n",
    "\n",
    "\n",
    "grid_search = find_best_model(lasso,grid,X_trainT,y_train,'CV set')\n",
    "lasso = grid_search.best_estimator_\n",
    "\n",
    "#grid_search.fit(X_trainT,y_train)\n",
    "#plot_model_perf(y_test,X_testT,grid_search.best_estimator_,'Test')"
   ]
  },
  {
   "cell_type": "code",
   "execution_count": null,
   "metadata": {},
   "outputs": [],
   "source": [
    "from sklearn.linear_model import RidgeClassifier\n",
    "ridge = RidgeClassifier(class_weight ='balanced')\n",
    "\n",
    "grid = {'alpha':[0.2,0.3,0.5,1,5,10,30,50,70,100,1000,2000,5000]}\n",
    "\n",
    "\n",
    "grid_search = find_best_model(ridge,grid,X_trainT,y_train,'CV set')\n",
    "ridge = grid_search.best_estimator_\n",
    "\n",
    "#grid_search.fit(X_trainT,y_train)\n",
    "#plot_model_perf(y_test,X_testT,grid_search.best_estimator_,'Test')"
   ]
  },
  {
   "cell_type": "markdown",
   "metadata": {},
   "source": [
    "plot_model_perf(y_test,X_testT,grid_search.best_estimator_,'Test')"
   ]
  },
  {
   "cell_type": "code",
   "execution_count": null,
   "metadata": {},
   "outputs": [],
   "source": [
    "#grid_search.fit(X_trainT,y_train)\n",
    "plot_model_perf(y_test,X_testT,grid_search.best_estimator_,'Test')"
   ]
  },
  {
   "cell_type": "code",
   "execution_count": null,
   "metadata": {},
   "outputs": [],
   "source": [
    "break"
   ]
  },
  {
   "cell_type": "markdown",
   "metadata": {},
   "source": [
    "### SVM"
   ]
  },
  {
   "cell_type": "code",
   "execution_count": null,
   "metadata": {},
   "outputs": [],
   "source": [
    "from sklearn.svm import SVC\n",
    "\n",
    "svc = SVC(class_weight ='balanced',kernel='rbf',probability=True)\n",
    "\n",
    "grid = {'C':[0.5,1,5,50,70,1000],\n",
    "       'gamma':['auto']}\n",
    "\n",
    "\n",
    "grid_search = find_best_model(svc,grid,X_trainT,y_train,'CV set')\n",
    "svc = grid_search.best_estimator_\n",
    "\n",
    "\n",
    "#grid_search.fit(X_trainT,y_train)\n",
    "#plot_model_perf(y_test,X_testT,grid_search.best_estimator_,'Test')"
   ]
  },
  {
   "cell_type": "code",
   "execution_count": null,
   "metadata": {},
   "outputs": [],
   "source": [
    "#grid_search.fit(X_trainT,y_train)\n",
    "plot_model_perf(y_test,X_testT,svc,'Test')"
   ]
  },
  {
   "cell_type": "code",
   "execution_count": null,
   "metadata": {},
   "outputs": [],
   "source": [
    "from sklearn.svm import SVC\n",
    "\n",
    "svc = SVC(class_weight ='balanced',kernel='rbf',probability=True)\n",
    "\n",
    "grid = {'C':[0.5,1,5,50,70,1000],\n",
    "       'gamma':['auto']}\n",
    "\n",
    "\n",
    "grid_search = find_best_model(svc,grid,X_trainT,y_train,'CV set')\n",
    "svc = grid_search.best_estimator_\n",
    "\n",
    "#grid_search.fit(X_trainT,y_train)\n",
    "#plot_model_perf(y_test,X_testT,grid_search.best_estimator_,'Test')"
   ]
  },
  {
   "cell_type": "code",
   "execution_count": null,
   "metadata": {},
   "outputs": [],
   "source": [
    "from sklearn.svm import SVC\n",
    "\n",
    "svc_lin = SVC(class_weight ='balanced',kernel='linear',probability=True)\n",
    "\n",
    "grid = {'C':[0.2,0.5,1,5],\n",
    "       'gamma':['auto']}\n",
    "\n",
    "\n",
    "grid_search = find_best_model(svc_lin,grid,X_trainT,y_train,'CV set')\n",
    "svc_lin = grid_search.best_estimator_\n",
    "\n",
    "#grid_search.fit(X_trainT,y_train)\n",
    "#plot_model_perf(y_test,X_testT,grid_search.best_estimator_,'Test')"
   ]
  },
  {
   "cell_type": "code",
   "execution_count": null,
   "metadata": {},
   "outputs": [],
   "source": [
    "from sklearn.svm import SVC\n",
    "\n",
    "svc_lin = SVC(class_weight ='balanced',kernel='linear',probability=True)\n",
    "\n",
    "grid = {'C':[0.2,0.5,1,5],\n",
    "       'gamma':['auto']}\n",
    "\n",
    "\n",
    "grid_search = find_best_model(svc_lin,grid,X_trainT,y_train,'CV set')\n",
    "svc_lin = grid_search.best_estimator_\n",
    "\n",
    "#grid_search.fit(X_trainT,y_train)\n",
    "#plot_model_perf(y_test,X_testT,grid_search.best_estimator_,'Test')"
   ]
  },
  {
   "cell_type": "code",
   "execution_count": null,
   "metadata": {},
   "outputs": [],
   "source": [
    "plot_model_perf(y_test,X_testT,svc_lin,'Test')"
   ]
  },
  {
   "cell_type": "markdown",
   "metadata": {},
   "source": [
    "### Bagging"
   ]
  },
  {
   "cell_type": "markdown",
   "metadata": {},
   "source": [
    "from sklearn.ensemble import BaggingClassifier\n",
    "from sklearn.tree import DecisionTreeClassifier\n",
    "\n",
    "\n",
    "\n",
    "bag_clf = BaggingClassifier(\n",
    "        RidgeClassifier(class_weight='balanced'),n_jobs=-1\n",
    "    )\n",
    "\n",
    "\n",
    "grid = {\"bootstrap\" : [\"True\"],\n",
    "              \"base_estimator__alpha\": [0.2,0.3,0.5,1,5]\n",
    "             }\n",
    "\n",
    "\n",
    "grid_search = find_best_model(bag_clf,grid,X_trainT,y_train,'CV set')\n",
    "bag_clf = grid_search.best_estimator_\n",
    "\n",
    "#grid_search.fit(X_trainT,y_train)\n",
    "#plot_model_perf(y_test,X_testT,grid_search.best_estimator_,'Test')"
   ]
  },
  {
   "cell_type": "code",
   "execution_count": null,
   "metadata": {},
   "outputs": [],
   "source": [
    "from sklearn.ensemble import BaggingClassifier\n",
    "from sklearn.tree import DecisionTreeClassifier\n",
    "\n",
    "\n",
    "\n",
    "bag_clf = BaggingClassifier(\n",
    "        DecisionTreeClassifier(class_weight='balanced'),bootstrap=True,n_jobs=-1\n",
    "    )\n",
    "\n",
    "\n",
    "grid = {\"bootstrap\" : [\"True\"],\n",
    "        \"n_estimators\":[10,50,100],\n",
    "              \"base_estimator__max_depth\": [3],\n",
    "        \"base_estimator__splitter\":['random']\n",
    "             }\n",
    "\n",
    "\n",
    "grid_search = find_best_model(bag_clf,grid,X_trainT,y_train,'CV set')\n",
    "bag_clf = grid_search.best_estimator_\n",
    "\n",
    "#grid_search.fit(X_trainT,y_train)\n",
    "#plot_model_perf(y_test,X_testT,grid_search.best_estimator_,'Test')"
   ]
  },
  {
   "cell_type": "code",
   "execution_count": null,
   "metadata": {},
   "outputs": [],
   "source": [
    "plot_model_perf(y_test,X_testT,bag_clf,'Test')"
   ]
  },
  {
   "cell_type": "code",
   "execution_count": null,
   "metadata": {},
   "outputs": [],
   "source": [
    "from sklearn.ensemble import BaggingClassifier\n",
    "from sklearn.tree import DecisionTreeClassifier\n",
    "\n",
    "\n",
    "\n",
    "bag_clf2 = BaggingClassifier(\n",
    "        DecisionTreeClassifier(class_weight='balanced'),bootstrap=True,n_jobs=-1\n",
    "    )\n",
    "\n",
    "\n",
    "grid = {\"bootstrap\" : [\"True\"],\n",
    "        \"n_estimators\":[10,50,100],\n",
    "              \"base_estimator__max_depth\": [3],\n",
    "        \"max_samples\": [150],\n",
    "        \"base_estimator__splitter\":['random']\n",
    "             }\n",
    "\n",
    "\n",
    "grid_search = find_best_model(bag_clf2,grid,X_trainT,y_train,'CV set')\n",
    "bag_clf2 = grid_search.best_estimator_\n",
    "\n",
    "#grid_search.fit(X_trainT,y_train)\n",
    "#plot_model_perf(y_test,X_testT,grid_search.best_estimator_,'Test')"
   ]
  },
  {
   "cell_type": "markdown",
   "metadata": {},
   "source": [
    "from sklearn.ensemble import BaggingClassifier\n",
    "from sklearn.tree import DecisionTreeClassifier\n",
    "\n",
    "\n",
    "\n",
    "bag_clf2 = BaggingClassifier(\n",
    "        DecisionTreeClassifier(class_weight='balanced'),bootstrap=True,n_jobs=-1\n",
    "    )\n",
    "\n",
    "\n",
    "grid = {\"bootstrap\" : [\"True\", \"False\"],\n",
    "        \"n_estimators\":[10,50,100,200,400,600,800],\n",
    "              \"base_estimator__max_depth\": [2],\n",
    "        \"max_samples\": [50,150,250],\n",
    "        \"base_estimator__splitter\":['random']\n",
    "             }\n",
    "\n",
    "\n",
    "grid_search = find_best_model(bag_clf2,grid,X_trainT,y_train,'CV set')\n",
    "bag_clf2 = grid_search.best_estimator_\n",
    "\n",
    "#grid_search.fit(X_trainT,y_train)\n",
    "#plot_model_perf(y_test,X_testT,grid_search.best_estimator_,'Test')"
   ]
  },
  {
   "cell_type": "markdown",
   "metadata": {},
   "source": [
    "from sklearn.ensemble import BaggingClassifier\n",
    "from sklearn.tree import DecisionTreeClassifier\n",
    "\n",
    "\n",
    "\n",
    "bag_clf3 = BaggingClassifier(\n",
    "        DecisionTreeClassifier(class_weight='balanced'),bootstrap=True,n_jobs=-1\n",
    "    )\n",
    "\n",
    "\n",
    "grid = {\"bootstrap\" : [\"True\"],\n",
    "        \"n_estimators\":[1000],\n",
    "              \"base_estimator__max_depth\": [1,2],\n",
    "        \"max_samples\": [10,20,30,50],\n",
    "        \"base_estimator__splitter\":['random']\n",
    "             }\n",
    "\n",
    "\n",
    "grid_search = find_best_model(bag_clf3,grid,X_trainT,y_train,'CV set')\n",
    "bag_clf3 = grid_search.best_estimator_\n",
    "\n",
    "#grid_search.fit(X_trainT,y_train)\n",
    "#plot_model_perf(y_test,X_testT,grid_search.best_estimator_,'Test')"
   ]
  },
  {
   "cell_type": "markdown",
   "metadata": {},
   "source": [
    "from sklearn.ensemble import BaggingClassifier\n",
    "from sklearn.tree import DecisionTreeClassifier\n",
    "\n",
    "\n",
    "\n",
    "bag_clf2 = BaggingClassifier(\n",
    "        DecisionTreeClassifier(class_weight='balanced'),bootstrap=True,n_jobs=-1\n",
    "    )\n",
    "\n",
    "\n",
    "grid = {\"bootstrap\" : [\"True\", \"False\"],\n",
    "        \"n_estimators\":[1000],\n",
    "              \"base_estimator__max_depth\": [1,2],\n",
    "        \"max_samples\": [10,20,30,50],\n",
    "        \"base_estimator__splitter\":['random']\n",
    "             }\n",
    "\n",
    "\n",
    "grid_search = find_best_model(bag_clf2,grid,X_trainT,y_train,'CV set')\n",
    "bag_clf2 = grid_search.best_estimator_\n",
    "\n",
    "#grid_search.fit(X_trainT,y_train)\n",
    "#plot_model_perf(y_test,X_testT,grid_search.best_estimator_,'Test')"
   ]
  },
  {
   "cell_type": "markdown",
   "metadata": {},
   "source": [
    "## test ensemble"
   ]
  },
  {
   "cell_type": "code",
   "execution_count": null,
   "metadata": {},
   "outputs": [],
   "source": [
    "from civismlext.stacking import StackedClassifier\n",
    "\n",
    "rng = np.random.RandomState(17)\n",
    "est_list = [\n",
    "    ('lgr',lgr),\n",
    "    ('svm_linear',svc_lin),\n",
    "    ('bag',bag_clf),\n",
    "    ('metalr',LogisticRegression(penalty = 'l1', solver='liblinear',class_weight='balanced'))\n",
    "]"
   ]
  },
  {
   "cell_type": "code",
   "execution_count": null,
   "metadata": {},
   "outputs": [],
   "source": [
    "sm = StackedClassifier(est_list,n_jobs=2,cv=5)"
   ]
  },
  {
   "cell_type": "code",
   "execution_count": null,
   "metadata": {},
   "outputs": [],
   "source": [
    "sm.fit(X_train_validT, y_train_valid)"
   ]
  },
  {
   "cell_type": "code",
   "execution_count": null,
   "metadata": {},
   "outputs": [],
   "source": [
    "X_validT = full_pipeline.transform(X_valid)"
   ]
  },
  {
   "cell_type": "code",
   "execution_count": null,
   "metadata": {},
   "outputs": [],
   "source": [
    "X_train_validT = full_pipeline.transform(X_train_valid)"
   ]
  },
  {
   "cell_type": "code",
   "execution_count": null,
   "metadata": {},
   "outputs": [],
   "source": [
    "sm.meta_estimator.coef_"
   ]
  },
  {
   "cell_type": "code",
   "execution_count": null,
   "metadata": {},
   "outputs": [],
   "source": [
    "plot_model_perf(y_train,X_trainT,sm,'train')"
   ]
  },
  {
   "cell_type": "code",
   "execution_count": null,
   "metadata": {},
   "outputs": [],
   "source": [
    "plot_model_perf(y_valid,X_validT,sm,'valid')"
   ]
  },
  {
   "cell_type": "code",
   "execution_count": null,
   "metadata": {},
   "outputs": [],
   "source": [
    "plot_model_perf(y_test,X_testT,sm,'test')"
   ]
  },
  {
   "cell_type": "code",
   "execution_count": null,
   "metadata": {},
   "outputs": [],
   "source": [
    "plot_model_perf(y_test,X_testT,sm,'test')"
   ]
  },
  {
   "cell_type": "markdown",
   "metadata": {},
   "source": [
    "NOtes:\n",
    "    - made little differnece having the extra validation data for training"
   ]
  },
  {
   "cell_type": "code",
   "execution_count": null,
   "metadata": {},
   "outputs": [],
   "source": [
    "param_grid = {\n",
    "    'metalr__C': [0.5,1]\n",
    "}\n",
    "\n",
    "grid = GridSearchCV(sm,param_grid,scoring='roc_auc',cv=5)"
   ]
  },
  {
   "cell_type": "code",
   "execution_count": null,
   "metadata": {},
   "outputs": [],
   "source": [
    "grid.fit(X_train_validT,y_train_valid)"
   ]
  },
  {
   "cell_type": "code",
   "execution_count": null,
   "metadata": {},
   "outputs": [],
   "source": [
    "plot_model_perf(y_train_valid,X_train_validT,grid.best_estimator_,'train')"
   ]
  },
  {
   "cell_type": "code",
   "execution_count": null,
   "metadata": {},
   "outputs": [],
   "source": [
    "plot_model_perf(y_test,X_testT,grid.best_estimator_,'test')"
   ]
  },
  {
   "cell_type": "code",
   "execution_count": null,
   "metadata": {},
   "outputs": [],
   "source": [
    "grid.best_estimator_.get_params()"
   ]
  },
  {
   "cell_type": "code",
   "execution_count": null,
   "metadata": {},
   "outputs": [],
   "source": [
    "sm.meta_estimator"
   ]
  },
  {
   "cell_type": "code",
   "execution_count": null,
   "metadata": {},
   "outputs": [],
   "source": [
    "grid.best_estimator_.meta_estimator.coef_"
   ]
  },
  {
   "cell_type": "code",
   "execution_count": null,
   "metadata": {},
   "outputs": [],
   "source": [
    "sm.meta_estimator."
   ]
  },
  {
   "cell_type": "markdown",
   "metadata": {},
   "source": [
    "#### more complex meta estimator"
   ]
  },
  {
   "cell_type": "code",
   "execution_count": null,
   "metadata": {},
   "outputs": [],
   "source": [
    "from civismlext.stacking import StackedClassifier\n",
    "from sklearn.svm import SVC\n",
    "\n",
    "rng = np.random.RandomState(17)\n",
    "est_list = [\n",
    "    ('lgr',lgr),\n",
    "    ('svm_linear',svc_lin),\n",
    "    ('bag',bag_clf),\n",
    "    ('metalr',SVC(kernel='linear',class_weight='balanced'))\n",
    "]"
   ]
  },
  {
   "cell_type": "code",
   "execution_count": null,
   "metadata": {},
   "outputs": [],
   "source": [
    "sm = StackedClassifier(est_list,n_jobs=-1,cv=5)"
   ]
  },
  {
   "cell_type": "code",
   "execution_count": null,
   "metadata": {},
   "outputs": [],
   "source": [
    "param_grid = {\n",
    "    'metalr__C': [0.5,1,5]\n",
    "}\n",
    "\n",
    "grid = GridSearchCV(sm,param_grid,scoring='roc_auc',cv=5)"
   ]
  },
  {
   "cell_type": "code",
   "execution_count": null,
   "metadata": {},
   "outputs": [],
   "source": [
    "grid.fit(X_train_validT, y_train_valid)"
   ]
  },
  {
   "cell_type": "code",
   "execution_count": null,
   "metadata": {},
   "outputs": [],
   "source": [
    "grid.best_estimator_.meta_estimator.coef_"
   ]
  },
  {
   "cell_type": "code",
   "execution_count": null,
   "metadata": {},
   "outputs": [],
   "source": [
    "plot_model_perf(y_train_valid,X_train_validT,grid.best_estimator_,'train')"
   ]
  },
  {
   "cell_type": "code",
   "execution_count": null,
   "metadata": {},
   "outputs": [],
   "source": [
    "plot_model_perf(y_test,X_testT,grid.best_estimator_,'test')"
   ]
  },
  {
   "cell_type": "code",
   "execution_count": null,
   "metadata": {},
   "outputs": [],
   "source": []
  },
  {
   "cell_type": "code",
   "execution_count": null,
   "metadata": {},
   "outputs": [],
   "source": []
  },
  {
   "cell_type": "code",
   "execution_count": null,
   "metadata": {},
   "outputs": [],
   "source": []
  },
  {
   "cell_type": "markdown",
   "metadata": {},
   "source": [
    "# Dev"
   ]
  },
  {
   "cell_type": "code",
   "execution_count": null,
   "metadata": {},
   "outputs": [],
   "source": [
    "break"
   ]
  },
  {
   "cell_type": "markdown",
   "metadata": {},
   "source": [
    "# Analayse errors"
   ]
  },
  {
   "cell_type": "code",
   "execution_count": null,
   "metadata": {},
   "outputs": [],
   "source": [
    "estimator_list = [('lgr',lgr),('lasso',lasso),('SVM',svc),('SVM_lin',svc_lin),('bag1',bag_clf),('bag2',bag_clf2),('vote',voting_clf)]\n",
    "\n",
    "pred_results = pd.DataFrame(data = y_train.values, index=X_train.index, columns=['y_test'])\n",
    "\n",
    "for name,model in estimator_list:\n",
    "    print(name)\n",
    "    y_train_pred = cross_val_predict(model,X_trainT,y_train,cv=5,n_jobs=-1,method='predict_proba')[:,1]\n",
    "    y_train_pred = pd.DataFrame(y_train_pred, index = X_train.index, columns=['y_pred_' + name])\n",
    "    pred_results = pred_results.merge(y_train_pred,right_index=True,left_index=True) # merge model results\n",
    "    \n",
    "    \n",
    "pred_results = pred_results.merge(X_train,right_index=True,left_index=True) # merge "
   ]
  },
  {
   "cell_type": "code",
   "execution_count": null,
   "metadata": {},
   "outputs": [],
   "source": [
    "pred_results.head()"
   ]
  },
  {
   "cell_type": "markdown",
   "metadata": {},
   "source": [
    "pred_cols = ['y_test','y_pred_lgr','y_pred_lasso','y_pred_SVM','y_pred_SVM_lin','y_pred_bag1','y_pred_bag2','y_pred_vote']"
   ]
  },
  {
   "cell_type": "code",
   "execution_count": null,
   "metadata": {},
   "outputs": [],
   "source": [
    "pred_cols = {'y_test':0.5,'y_pred_lgr':0.9,'y_pred_lasso':0.9,'y_pred_SVM_lin':0.6,'y_pred_bag1':0.75,\n",
    "             'y_pred_bag2':0.5,'y_pred_vote':0.65}"
   ]
  },
  {
   "cell_type": "code",
   "execution_count": null,
   "metadata": {},
   "outputs": [],
   "source": [
    "pred_cols"
   ]
  },
  {
   "cell_type": "code",
   "execution_count": null,
   "metadata": {},
   "outputs": [],
   "source": [
    "for name in pred_cols:\n",
    "    col =  name # 'y_pred_' +\n",
    "    print([name])\n",
    "    thresh = pred_cols[name]\n",
    "    print(pred_results[pred_results[name] > thresh][col].count())\n",
    "    pred_results[name + '_CLASS'] = pred_results[pred_results[name] > thresh][name].astype('bool').astype('int')"
   ]
  },
  {
   "cell_type": "code",
   "execution_count": null,
   "metadata": {},
   "outputs": [],
   "source": [
    "pred_results.groupby('y_test').sum()"
   ]
  },
  {
   "cell_type": "code",
   "execution_count": null,
   "metadata": {},
   "outputs": [],
   "source": [
    "missed = pred_results.query('y_test == 1')[['y_pred_lgr_CLASS','y_pred_lasso_CLASS',\n",
    "                                  'y_pred_SVM_lin_CLASS','y_pred_bag1_CLASS','y_pred_bag2_CLASS','y_pred_vote_CLASS']].isnull().sum(axis=1)"
   ]
  },
  {
   "cell_type": "code",
   "execution_count": null,
   "metadata": {},
   "outputs": [],
   "source": [
    "pred_results.query('y_test == 1')[['y_pred_lgr_CLASS','y_pred_lasso_CLASS',\n",
    "                                  'y_pred_SVM_lin_CLASS','y_pred_bag1_CLASS','y_pred_bag2_CLASS','y_pred_vote_CLASS']].isnull().sum(axis=1).value_counts()"
   ]
  },
  {
   "cell_type": "code",
   "execution_count": null,
   "metadata": {},
   "outputs": [],
   "source": [
    "missed.head(10)"
   ]
  },
  {
   "cell_type": "code",
   "execution_count": null,
   "metadata": {},
   "outputs": [],
   "source": [
    "missed = missed[missed == 6]"
   ]
  },
  {
   "cell_type": "code",
   "execution_count": null,
   "metadata": {},
   "outputs": [],
   "source": [
    "missed.head()"
   ]
  },
  {
   "cell_type": "code",
   "execution_count": null,
   "metadata": {},
   "outputs": [],
   "source": [
    "pred_results['y_pred_MISSED'] = 0\n",
    "pred_results.loc[missed.index,'y_pred_MISSED'] = 1"
   ]
  },
  {
   "cell_type": "code",
   "execution_count": null,
   "metadata": {},
   "outputs": [],
   "source": [
    "pred_results.y_pred_MISSED.sum()"
   ]
  },
  {
   "cell_type": "code",
   "execution_count": null,
   "metadata": {},
   "outputs": [],
   "source": [
    "X_train.head()"
   ]
  },
  {
   "cell_type": "code",
   "execution_count": null,
   "metadata": {},
   "outputs": [],
   "source": [
    "pred_results['y_pred_MISSED'].sum()"
   ]
  },
  {
   "cell_type": "code",
   "execution_count": null,
   "metadata": {},
   "outputs": [],
   "source": [
    "pred_results['flag_prediction'].sum()"
   ]
  },
  {
   "cell_type": "code",
   "execution_count": null,
   "metadata": {},
   "outputs": [],
   "source": [
    "pred_col = 'y_pred_MISSED'\n",
    "pred_results[pred_col + '_lag1'] = pred_results[pred_col].shift(1)\n",
    "\n",
    "fig2, ax = plt.subplots(figsize=(18,6))\n",
    "pred_results.plot(x=\"dt_date\", y=target_col, ax=ax, label=\"validate\",style='g')\n",
    "pred_results[pred_results[pred_col + '_lag1'] == 1].plot(x='dt_date',y=target_col,ax=ax,style='ob')\n",
    "pred_results[pred_results['flag_prediction'] == 1].plot(x='dt_date',y=target_col,ax=ax,style='.k')\n",
    "\n",
    "plt.legend(loc='upper left')\n"
   ]
  },
  {
   "cell_type": "code",
   "execution_count": null,
   "metadata": {},
   "outputs": [],
   "source": [
    "correct_col = 'y_test'\n",
    "pred_col = 'y_pred_' + 'SVM_lin' + '_CLASS'\n",
    "fig2, ax = plt.subplots(figsize=(18,6))\n",
    "pred_results.plot(x=\"dt_date\", y=target_col, ax=ax, label=\"validate\",style='g')\n",
    "pred_results[pred_results[pred_col] == 1].plot(x='dt_date',y=target_col,ax=ax,style='or')\n",
    "pred_results[pred_results['flag_prediction'] == 1].plot(x='dt_date',y=target_col,ax=ax,style='.k')\n",
    "\n",
    "plt.legend(loc='upper left')\n"
   ]
  },
  {
   "cell_type": "code",
   "execution_count": null,
   "metadata": {},
   "outputs": [],
   "source": [
    "correct_col = 'y_test'\n",
    "pred_col = 'y_pred_' + 'lgr' + '_CLASS'\n",
    "fig2, ax = plt.subplots(figsize=(18,6))\n",
    "\n",
    "pred_results.plot(x=\"dt_date\", y=target_col, ax=ax, label=\"validate\",style='g')\n",
    "pred_results[pred_results[pred_col] == 1].plot(x='dt_date',y=target_col,ax=ax,style='or')\n",
    "pred_results[pred_results['flag_prediction'] == 1].plot(x='dt_date',y=target_col,ax=ax,style='.k')\n",
    "plt.legend(loc='upper left')\n"
   ]
  },
  {
   "cell_type": "code",
   "execution_count": null,
   "metadata": {},
   "outputs": [],
   "source": [
    "correct_col = 'y_test'\n",
    "pred_col = 'y_pred_' + 'bag1' + '_CLASS'\n",
    "fig2, ax = plt.subplots(figsize=(18,6))\n",
    "\n",
    "pred_results.plot(x=\"dt_date\", y=target_col, ax=ax, label=\"validate\",style='g')\n",
    "pred_results[pred_results[pred_col] == 1].plot(x='dt_date',y=target_col,ax=ax,style='or')\n",
    "pred_results[pred_results['flag_prediction'] == 1].plot(x='dt_date',y=target_col,ax=ax,style='.k')\n",
    "plt.legend(loc='upper left')\n"
   ]
  },
  {
   "cell_type": "code",
   "execution_count": null,
   "metadata": {},
   "outputs": [],
   "source": [
    "correct_col = 'y_test'\n",
    "pred_col = 'y_pred_' + 'bag2' + '_CLASS'\n",
    "fig2, ax = plt.subplots(figsize=(18,6))\n",
    "\n",
    "pred_results.plot(x=\"dt_date\", y=target_col, ax=ax, label=\"validate\",style='g')\n",
    "pred_results[pred_results[pred_col] == 1].plot(x='dt_date',y=target_col,ax=ax,style='or')\n",
    "pred_results[pred_results['flag_prediction'] == 1].plot(x='dt_date',y=target_col,ax=ax,style='.k')\n",
    "plt.legend(loc='upper left')\n"
   ]
  },
  {
   "cell_type": "code",
   "execution_count": null,
   "metadata": {},
   "outputs": [],
   "source": [
    "correct_col = 'y_test'\n",
    "pred_col = 'y_pred_' + 'vote' + '_CLASS'\n",
    "fig2, ax = plt.subplots(figsize=(18,6))\n",
    "\n",
    "pred_results.plot(x=\"dt_date\", y=target_col, ax=ax, label=\"validate\",style='g')\n",
    "pred_results[pred_results[pred_col] == 1].plot(x='dt_date',y=target_col,ax=ax,style='or')\n",
    "pred_results[pred_results['flag_prediction'] == 1].plot(x='dt_date',y=target_col,ax=ax,style='.k')\n",
    "plt.legend(loc='upper left')\n"
   ]
  },
  {
   "cell_type": "code",
   "execution_count": null,
   "metadata": {},
   "outputs": [],
   "source": [
    "correct_col = 'y_test'\n",
    "pred_col = 'y_pred_' + 'vote'\n",
    "\n",
    "\n",
    "fig2, ax = plt.subplots(figsize=(18,6))\n",
    "#### plot lines\n",
    "#X_train.plot(x=\"dt_date\", y=target_col, ax=ax, label=\"train\")\n",
    "pred_results.plot(x=\"dt_date\", y=target_col, ax=ax, label=\"validate\",style='g')\n",
    "#X_test.plot(x=\"dt_date\", y=target_col, ax=ax, label=\"test\")\n",
    "\n",
    "\n",
    "pred_results[pred_results[pred_col] == 1].plot(x='dt_date',y=target_col,ax=ax,style='or')\n",
    "pred_results[pred_results['flag_prediction'] == 1].plot(x='dt_date',y=target_col,ax=ax,style='.k')\n",
    "#plt.axvline(pd.to_datetime(str(df.loc[validate_range].period.values[0])), c='green', ls='--', lw=1)\n",
    "# plt.axvline(pd.to_datetime(str(df.loc[test_range].period.values[0])), c='red', ls='--', lw=1)\n",
    "plt.legend(loc='upper left')\n",
    "\n",
    "# plt.savefig('images/svm-split.png');"
   ]
  },
  {
   "cell_type": "code",
   "execution_count": null,
   "metadata": {},
   "outputs": [],
   "source": [
    "correct_col = 'y_test'\n",
    "pred_col = 'y_pred_' + 'bag2'\n",
    "\n",
    "\n",
    "fig2, ax = plt.subplots(figsize=(18,6))\n",
    "#### plot lines\n",
    "#X_train.plot(x=\"dt_date\", y=target_col, ax=ax, label=\"train\")\n",
    "pred_results.plot(x=\"dt_date\", y=target_col, ax=ax, label=\"validate\",style='g')\n",
    "#X_test.plot(x=\"dt_date\", y=target_col, ax=ax, label=\"test\")\n",
    "\n",
    "\n",
    "pred_results[pred_results[pred_col] == 1].plot(x='dt_date',y=target_col,ax=ax,style='or')\n",
    "pred_results[pred_results['flag_prediction'] == 1].plot(x='dt_date',y=target_col,ax=ax,style='.k')\n",
    "#plt.axvline(pd.to_datetime(str(df.loc[validate_range].period.values[0])), c='green', ls='--', lw=1)\n",
    "# plt.axvline(pd.to_datetime(str(df.loc[test_range].period.values[0])), c='red', ls='--', lw=1)\n",
    "plt.legend(loc='upper left')\n",
    "\n",
    "# plt.savefig('images/svm-split.png');"
   ]
  },
  {
   "cell_type": "code",
   "execution_count": null,
   "metadata": {},
   "outputs": [],
   "source": [
    "correct_col = 'y_test'\n",
    "pred_col = 'y_pred_' + 'bag1'\n",
    "\n",
    "\n",
    "fig2, ax = plt.subplots(figsize=(18,6))\n",
    "#### plot lines\n",
    "#X_train.plot(x=\"dt_date\", y=target_col, ax=ax, label=\"train\")\n",
    "pred_results.plot(x=\"dt_date\", y=target_col, ax=ax, label=\"validate\",style='g')\n",
    "#X_test.plot(x=\"dt_date\", y=target_col, ax=ax, label=\"test\")\n",
    "\n",
    "\n",
    "pred_results[pred_results[pred_col] == 1].plot(x='dt_date',y=target_col,ax=ax,style='or')\n",
    "pred_results[pred_results['flag_prediction'] == 1].plot(x='dt_date',y=target_col,ax=ax,style='.k')\n",
    "#plt.axvline(pd.to_datetime(str(df.loc[validate_range].period.values[0])), c='green', ls='--', lw=1)\n",
    "# plt.axvline(pd.to_datetime(str(df.loc[test_range].period.values[0])), c='red', ls='--', lw=1)\n",
    "plt.legend(loc='upper left')\n",
    "\n",
    "# plt.savefig('images/svm-split.png');"
   ]
  },
  {
   "cell_type": "code",
   "execution_count": null,
   "metadata": {},
   "outputs": [],
   "source": []
  }
 ],
 "metadata": {
  "anaconda-cloud": {},
  "kernelspec": {
   "display_name": "Python [conda env:ml]",
   "language": "python",
   "name": "conda-env-ml-py"
  },
  "language_info": {
   "codemirror_mode": {
    "name": "ipython",
    "version": 3
   },
   "file_extension": ".py",
   "mimetype": "text/x-python",
   "name": "python",
   "nbconvert_exporter": "python",
   "pygments_lexer": "ipython3",
   "version": "3.6.3"
  }
 },
 "nbformat": 4,
 "nbformat_minor": 2
}
