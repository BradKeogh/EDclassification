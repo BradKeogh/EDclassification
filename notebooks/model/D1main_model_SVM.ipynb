{
 "cells": [
  {
   "cell_type": "code",
   "execution_count": 1,
   "metadata": {},
   "outputs": [],
   "source": [
    "import pandas as pd\n",
    "import numpy as np"
   ]
  },
  {
   "cell_type": "code",
   "execution_count": 2,
   "metadata": {},
   "outputs": [],
   "source": [
    "import src"
   ]
  },
  {
   "cell_type": "code",
   "execution_count": 3,
   "metadata": {},
   "outputs": [
    {
     "data": {
      "text/plain": [
       "'C:\\\\Users\\\\bjk1y13\\\\OneDrive - University of Southampton\\\\MH028_UHS_Weather\\\\4_Analysis\\\\EDclassification\\\\notebooks'"
      ]
     },
     "execution_count": 3,
     "metadata": {},
     "output_type": "execute_result"
    }
   ],
   "source": [
    "%pwd"
   ]
  },
  {
   "cell_type": "code",
   "execution_count": 4,
   "metadata": {},
   "outputs": [],
   "source": [
    "def load_pickle_preprocessed_data(path):\n",
    "    \"\"\"\n",
    "    Load pickled data for modelling.\n",
    "    \n",
    "    Input\n",
    "    =====\n",
    "    path, str, to fodler where data is located.\n",
    "    \n",
    "    Output\n",
    "    ======\n",
    "    X_train,dataframe, \n",
    "    X_test,dataframe, \n",
    "    y_train,dataframe, \n",
    "    y_test, dataframe, \n",
    "    \n",
    "    \"\"\"\n",
    "    #### load each data file\n",
    "    X_train = pd.read_pickle(path + 'X_train.pkl')\n",
    "    X_test = pd.read_pickle(path + 'X_test.pkl')\n",
    "    y_train = pd.read_pickle(path + 'y_train.pkl')\n",
    "    y_test = pd.read_pickle(path + 'y_test.pkl')\n",
    "    \n",
    "    return(X_train, X_test, y_train, y_test)\n",
    "\n",
    "X_train, X_test, y_train, y_test = load_pickle_preprocessed_data('../data/processed/v1/')"
   ]
  },
  {
   "cell_type": "code",
   "execution_count": 5,
   "metadata": {},
   "outputs": [
    {
     "data": {
      "text/plain": [
       "(1654, 52)"
      ]
     },
     "execution_count": 5,
     "metadata": {},
     "output_type": "execute_result"
    }
   ],
   "source": [
    "X_train.shape"
   ]
  },
  {
   "cell_type": "code",
   "execution_count": 6,
   "metadata": {},
   "outputs": [
    {
     "data": {
      "text/html": [
       "<div>\n",
       "<style scoped>\n",
       "    .dataframe tbody tr th:only-of-type {\n",
       "        vertical-align: middle;\n",
       "    }\n",
       "\n",
       "    .dataframe tbody tr th {\n",
       "        vertical-align: top;\n",
       "    }\n",
       "\n",
       "    .dataframe thead th {\n",
       "        text-align: right;\n",
       "    }\n",
       "</style>\n",
       "<table border=\"1\" class=\"dataframe\">\n",
       "  <thead>\n",
       "    <tr style=\"text-align: right;\">\n",
       "      <th></th>\n",
       "      <th>EDoccMAX_prevday</th>\n",
       "      <th>callender_DAY(first_EDatt_time)</th>\n",
       "      <th>EDmorn_COUNT(EDatt)</th>\n",
       "      <th>EDmorn_MEAN(EDatt.wait_time_total)</th>\n",
       "      <th>EDmorn_MEAN(EDatt.flag_specreq)</th>\n",
       "      <th>EDmorn_MEAN(EDatt.age)</th>\n",
       "      <th>EDmorn_MEAN(EDatt.flag_admission)</th>\n",
       "      <th>EDmorn_STD(EDatt.wait_time_total)</th>\n",
       "      <th>EDmorn_STD(EDatt.flag_specreq)</th>\n",
       "      <th>EDmorn_STD(EDatt.age)</th>\n",
       "      <th>...</th>\n",
       "      <th>callender_MONTH(first_EDatt_time)_4</th>\n",
       "      <th>callender_MONTH(first_EDatt_time)_5</th>\n",
       "      <th>callender_MONTH(first_EDatt_time)_6</th>\n",
       "      <th>callender_MONTH(first_EDatt_time)_7</th>\n",
       "      <th>callender_MONTH(first_EDatt_time)_8</th>\n",
       "      <th>callender_MONTH(first_EDatt_time)_9</th>\n",
       "      <th>callender_MONTH(first_EDatt_time)_10</th>\n",
       "      <th>callender_MONTH(first_EDatt_time)_11</th>\n",
       "      <th>callender_MONTH(first_EDatt_time)_12</th>\n",
       "      <th>callender_WEEKEND(first_EDatt_time)</th>\n",
       "    </tr>\n",
       "  </thead>\n",
       "  <tbody>\n",
       "    <tr>\n",
       "      <th>0</th>\n",
       "      <td>-0.452744</td>\n",
       "      <td>-1.552923</td>\n",
       "      <td>-1.520733</td>\n",
       "      <td>-2.575791</td>\n",
       "      <td>0.77684</td>\n",
       "      <td>0.788307</td>\n",
       "      <td>-1.017596</td>\n",
       "      <td>-1.371472</td>\n",
       "      <td>-0.44764</td>\n",
       "      <td>0.724071</td>\n",
       "      <td>...</td>\n",
       "      <td>0.0</td>\n",
       "      <td>0.0</td>\n",
       "      <td>0.0</td>\n",
       "      <td>0.0</td>\n",
       "      <td>0.0</td>\n",
       "      <td>0.0</td>\n",
       "      <td>0.0</td>\n",
       "      <td>0.0</td>\n",
       "      <td>0.0</td>\n",
       "      <td>0.0</td>\n",
       "    </tr>\n",
       "  </tbody>\n",
       "</table>\n",
       "<p>1 rows × 52 columns</p>\n",
       "</div>"
      ],
      "text/plain": [
       "   EDoccMAX_prevday  callender_DAY(first_EDatt_time)  EDmorn_COUNT(EDatt)  \\\n",
       "0         -0.452744                        -1.552923            -1.520733   \n",
       "\n",
       "   EDmorn_MEAN(EDatt.wait_time_total)  EDmorn_MEAN(EDatt.flag_specreq)  \\\n",
       "0                           -2.575791                          0.77684   \n",
       "\n",
       "   EDmorn_MEAN(EDatt.age)  EDmorn_MEAN(EDatt.flag_admission)  \\\n",
       "0                0.788307                          -1.017596   \n",
       "\n",
       "   EDmorn_STD(EDatt.wait_time_total)  EDmorn_STD(EDatt.flag_specreq)  \\\n",
       "0                          -1.371472                        -0.44764   \n",
       "\n",
       "   EDmorn_STD(EDatt.age)  ...  callender_MONTH(first_EDatt_time)_4  \\\n",
       "0               0.724071  ...                                  0.0   \n",
       "\n",
       "   callender_MONTH(first_EDatt_time)_5  callender_MONTH(first_EDatt_time)_6  \\\n",
       "0                                  0.0                                  0.0   \n",
       "\n",
       "   callender_MONTH(first_EDatt_time)_7  callender_MONTH(first_EDatt_time)_8  \\\n",
       "0                                  0.0                                  0.0   \n",
       "\n",
       "   callender_MONTH(first_EDatt_time)_9  callender_MONTH(first_EDatt_time)_10  \\\n",
       "0                                  0.0                                   0.0   \n",
       "\n",
       "   callender_MONTH(first_EDatt_time)_11  callender_MONTH(first_EDatt_time)_12  \\\n",
       "0                                   0.0                                   0.0   \n",
       "\n",
       "   callender_WEEKEND(first_EDatt_time)  \n",
       "0                                  0.0  \n",
       "\n",
       "[1 rows x 52 columns]"
      ]
     },
     "execution_count": 6,
     "metadata": {},
     "output_type": "execute_result"
    }
   ],
   "source": [
    "X_train.head(1)"
   ]
  },
  {
   "cell_type": "markdown",
   "metadata": {},
   "source": [
    "# Instantiate model"
   ]
  },
  {
   "cell_type": "code",
   "execution_count": null,
   "metadata": {},
   "outputs": [],
   "source": []
  },
  {
   "cell_type": "markdown",
   "metadata": {},
   "source": [
    "# Run CV gridsearch"
   ]
  },
  {
   "cell_type": "code",
   "execution_count": 7,
   "metadata": {},
   "outputs": [],
   "source": [
    "from sklearn.metrics import classification_report,precision_score, recall_score, confusion_matrix, accuracy_score\n",
    "from sklearn.metrics import precision_recall_curve,roc_curve\n",
    "from sklearn.model_selection import TimeSeriesSplit\n",
    "\n",
    "from sklearn.model_selection import cross_val_predict, cross_val_score, GridSearchCV\n",
    "\n",
    "\n",
    "\n",
    "def find_best_model(model, grid, Xdata, ydata, plot_label):\n",
    "    \"\"\"does gridsearch for model and plots result from \"\"\"\n",
    "    my_cv = TimeSeriesSplit(n_splits=5).split(Xdata) # 5 chosen as gives roughly 1 year groups for each fold\n",
    "    grid_search = GridSearchCV(model,grid,scoring='f1',cv=my_cv,return_train_score=True)\n",
    "    grid_search.fit(Xdata,ydata)\n",
    "    model = grid_search.best_estimator_\n",
    "    print('CV MODEL RESULTS')\n",
    "    print(grid_search.best_params_)\n",
    "    print(pd.DataFrame(grid_search.cv_results_).query('rank_test_score == 1')[['mean_test_score','mean_train_score']])\n",
    "    \n",
    "#     plot_model_perf(ydata,Xdata,model,plot_label)\n",
    "\n",
    "    \n",
    "    return(grid_search)\n",
    "    "
   ]
  },
  {
   "cell_type": "code",
   "execution_count": 8,
   "metadata": {},
   "outputs": [],
   "source": [
    "from sklearn.svm import SVC"
   ]
  },
  {
   "cell_type": "code",
   "execution_count": 22,
   "metadata": {},
   "outputs": [
    {
     "name": "stderr",
     "output_type": "stream",
     "text": [
      "C:\\Anaconda3\\envs\\class\\lib\\site-packages\\sklearn\\metrics\\classification.py:1437: UndefinedMetricWarning: F-score is ill-defined and being set to 0.0 due to no predicted samples.\n",
      "  'precision', 'predicted', average, warn_for)\n",
      "C:\\Anaconda3\\envs\\class\\lib\\site-packages\\sklearn\\metrics\\classification.py:1437: UndefinedMetricWarning: F-score is ill-defined and being set to 0.0 due to no predicted samples.\n",
      "  'precision', 'predicted', average, warn_for)\n",
      "C:\\Anaconda3\\envs\\class\\lib\\site-packages\\sklearn\\metrics\\classification.py:1437: UndefinedMetricWarning: F-score is ill-defined and being set to 0.0 due to no predicted samples.\n",
      "  'precision', 'predicted', average, warn_for)\n",
      "C:\\Anaconda3\\envs\\class\\lib\\site-packages\\sklearn\\metrics\\classification.py:1437: UndefinedMetricWarning: F-score is ill-defined and being set to 0.0 due to no predicted samples.\n",
      "  'precision', 'predicted', average, warn_for)\n",
      "C:\\Anaconda3\\envs\\class\\lib\\site-packages\\sklearn\\metrics\\classification.py:1437: UndefinedMetricWarning: F-score is ill-defined and being set to 0.0 due to no predicted samples.\n",
      "  'precision', 'predicted', average, warn_for)\n",
      "C:\\Anaconda3\\envs\\class\\lib\\site-packages\\sklearn\\metrics\\classification.py:1437: UndefinedMetricWarning: F-score is ill-defined and being set to 0.0 due to no predicted samples.\n",
      "  'precision', 'predicted', average, warn_for)\n",
      "C:\\Anaconda3\\envs\\class\\lib\\site-packages\\sklearn\\metrics\\classification.py:1437: UndefinedMetricWarning: F-score is ill-defined and being set to 0.0 due to no predicted samples.\n",
      "  'precision', 'predicted', average, warn_for)\n",
      "C:\\Anaconda3\\envs\\class\\lib\\site-packages\\sklearn\\metrics\\classification.py:1437: UndefinedMetricWarning: F-score is ill-defined and being set to 0.0 due to no predicted samples.\n",
      "  'precision', 'predicted', average, warn_for)\n",
      "C:\\Anaconda3\\envs\\class\\lib\\site-packages\\sklearn\\metrics\\classification.py:1437: UndefinedMetricWarning: F-score is ill-defined and being set to 0.0 due to no predicted samples.\n",
      "  'precision', 'predicted', average, warn_for)\n",
      "C:\\Anaconda3\\envs\\class\\lib\\site-packages\\sklearn\\metrics\\classification.py:1437: UndefinedMetricWarning: F-score is ill-defined and being set to 0.0 due to no predicted samples.\n",
      "  'precision', 'predicted', average, warn_for)\n"
     ]
    },
    {
     "name": "stdout",
     "output_type": "stream",
     "text": [
      "CV MODEL RESULTS\n",
      "{'C': 10, 'gamma': 'scale', 'kernel': 'linear'}\n",
      "   mean_test_score  mean_train_score\n",
      "5         0.442678          0.713229\n"
     ]
    }
   ],
   "source": [
    "svm = SVC()\n",
    "\n",
    "grid = {'kernel':['rbf','linear'], 'C':[0.1, 1, 10,100], 'gamma':['scale']}\n",
    "\n",
    "grid_search = find_best_model(svm,grid,X_train,y_train,'CV set')\n",
    "svm_clf = grid_search.best_estimator_\n",
    "\n",
    "# grid_search.fit(X_trainT,y_train)\n",
    "# plot_model_perf(y_test,X_testT,grid_search.best_estimator_,'Test')"
   ]
  },
  {
   "cell_type": "code",
   "execution_count": 25,
   "metadata": {},
   "outputs": [
    {
     "data": {
      "text/html": [
       "<div>\n",
       "<style scoped>\n",
       "    .dataframe tbody tr th:only-of-type {\n",
       "        vertical-align: middle;\n",
       "    }\n",
       "\n",
       "    .dataframe tbody tr th {\n",
       "        vertical-align: top;\n",
       "    }\n",
       "\n",
       "    .dataframe thead th {\n",
       "        text-align: right;\n",
       "    }\n",
       "</style>\n",
       "<table border=\"1\" class=\"dataframe\">\n",
       "  <thead>\n",
       "    <tr style=\"text-align: right;\">\n",
       "      <th></th>\n",
       "      <th>mean_fit_time</th>\n",
       "      <th>std_fit_time</th>\n",
       "      <th>mean_score_time</th>\n",
       "      <th>std_score_time</th>\n",
       "      <th>param_C</th>\n",
       "      <th>param_gamma</th>\n",
       "      <th>param_kernel</th>\n",
       "      <th>params</th>\n",
       "      <th>split0_test_score</th>\n",
       "      <th>split1_test_score</th>\n",
       "      <th>...</th>\n",
       "      <th>mean_test_score</th>\n",
       "      <th>std_test_score</th>\n",
       "      <th>rank_test_score</th>\n",
       "      <th>split0_train_score</th>\n",
       "      <th>split1_train_score</th>\n",
       "      <th>split2_train_score</th>\n",
       "      <th>split3_train_score</th>\n",
       "      <th>split4_train_score</th>\n",
       "      <th>mean_train_score</th>\n",
       "      <th>std_train_score</th>\n",
       "    </tr>\n",
       "  </thead>\n",
       "  <tbody>\n",
       "    <tr>\n",
       "      <th>0</th>\n",
       "      <td>0.031514</td>\n",
       "      <td>0.019411</td>\n",
       "      <td>0.008975</td>\n",
       "      <td>0.002092</td>\n",
       "      <td>0.1</td>\n",
       "      <td>scale</td>\n",
       "      <td>rbf</td>\n",
       "      <td>{'C': 0.1, 'gamma': 'scale', 'kernel': 'rbf'}</td>\n",
       "      <td>0.000000</td>\n",
       "      <td>0.000000</td>\n",
       "      <td>...</td>\n",
       "      <td>0.000000</td>\n",
       "      <td>0.000000</td>\n",
       "      <td>8</td>\n",
       "      <td>0.000000</td>\n",
       "      <td>0.000000</td>\n",
       "      <td>0.000000</td>\n",
       "      <td>0.000000</td>\n",
       "      <td>0.000000</td>\n",
       "      <td>0.000000</td>\n",
       "      <td>0.000000</td>\n",
       "    </tr>\n",
       "    <tr>\n",
       "      <th>2</th>\n",
       "      <td>0.029921</td>\n",
       "      <td>0.021839</td>\n",
       "      <td>0.007776</td>\n",
       "      <td>0.003045</td>\n",
       "      <td>1</td>\n",
       "      <td>scale</td>\n",
       "      <td>rbf</td>\n",
       "      <td>{'C': 1, 'gamma': 'scale', 'kernel': 'rbf'}</td>\n",
       "      <td>0.387097</td>\n",
       "      <td>0.271186</td>\n",
       "      <td>...</td>\n",
       "      <td>0.348976</td>\n",
       "      <td>0.056182</td>\n",
       "      <td>7</td>\n",
       "      <td>0.815789</td>\n",
       "      <td>0.650000</td>\n",
       "      <td>0.656250</td>\n",
       "      <td>0.656250</td>\n",
       "      <td>0.660317</td>\n",
       "      <td>0.687721</td>\n",
       "      <td>0.064119</td>\n",
       "    </tr>\n",
       "    <tr>\n",
       "      <th>4</th>\n",
       "      <td>0.046468</td>\n",
       "      <td>0.035511</td>\n",
       "      <td>0.010373</td>\n",
       "      <td>0.004574</td>\n",
       "      <td>10</td>\n",
       "      <td>scale</td>\n",
       "      <td>rbf</td>\n",
       "      <td>{'C': 10, 'gamma': 'scale', 'kernel': 'rbf'}</td>\n",
       "      <td>0.373626</td>\n",
       "      <td>0.358974</td>\n",
       "      <td>...</td>\n",
       "      <td>0.421374</td>\n",
       "      <td>0.046154</td>\n",
       "      <td>3</td>\n",
       "      <td>1.000000</td>\n",
       "      <td>0.993789</td>\n",
       "      <td>0.992126</td>\n",
       "      <td>0.991045</td>\n",
       "      <td>0.990244</td>\n",
       "      <td>0.993441</td>\n",
       "      <td>0.003488</td>\n",
       "    </tr>\n",
       "    <tr>\n",
       "      <th>6</th>\n",
       "      <td>0.051064</td>\n",
       "      <td>0.037611</td>\n",
       "      <td>0.011371</td>\n",
       "      <td>0.004212</td>\n",
       "      <td>100</td>\n",
       "      <td>scale</td>\n",
       "      <td>rbf</td>\n",
       "      <td>{'C': 100, 'gamma': 'scale', 'kernel': 'rbf'}</td>\n",
       "      <td>0.359551</td>\n",
       "      <td>0.384615</td>\n",
       "      <td>...</td>\n",
       "      <td>0.413396</td>\n",
       "      <td>0.036158</td>\n",
       "      <td>4</td>\n",
       "      <td>1.000000</td>\n",
       "      <td>1.000000</td>\n",
       "      <td>1.000000</td>\n",
       "      <td>1.000000</td>\n",
       "      <td>1.000000</td>\n",
       "      <td>1.000000</td>\n",
       "      <td>0.000000</td>\n",
       "    </tr>\n",
       "  </tbody>\n",
       "</table>\n",
       "<p>4 rows × 23 columns</p>\n",
       "</div>"
      ],
      "text/plain": [
       "   mean_fit_time  std_fit_time  mean_score_time  std_score_time param_C  \\\n",
       "0       0.031514      0.019411         0.008975        0.002092     0.1   \n",
       "2       0.029921      0.021839         0.007776        0.003045       1   \n",
       "4       0.046468      0.035511         0.010373        0.004574      10   \n",
       "6       0.051064      0.037611         0.011371        0.004212     100   \n",
       "\n",
       "  param_gamma param_kernel                                         params  \\\n",
       "0       scale          rbf  {'C': 0.1, 'gamma': 'scale', 'kernel': 'rbf'}   \n",
       "2       scale          rbf    {'C': 1, 'gamma': 'scale', 'kernel': 'rbf'}   \n",
       "4       scale          rbf   {'C': 10, 'gamma': 'scale', 'kernel': 'rbf'}   \n",
       "6       scale          rbf  {'C': 100, 'gamma': 'scale', 'kernel': 'rbf'}   \n",
       "\n",
       "   split0_test_score  split1_test_score  ...  mean_test_score  std_test_score  \\\n",
       "0           0.000000           0.000000  ...         0.000000        0.000000   \n",
       "2           0.387097           0.271186  ...         0.348976        0.056182   \n",
       "4           0.373626           0.358974  ...         0.421374        0.046154   \n",
       "6           0.359551           0.384615  ...         0.413396        0.036158   \n",
       "\n",
       "   rank_test_score  split0_train_score  split1_train_score  \\\n",
       "0                8            0.000000            0.000000   \n",
       "2                7            0.815789            0.650000   \n",
       "4                3            1.000000            0.993789   \n",
       "6                4            1.000000            1.000000   \n",
       "\n",
       "   split2_train_score  split3_train_score  split4_train_score  \\\n",
       "0            0.000000            0.000000            0.000000   \n",
       "2            0.656250            0.656250            0.660317   \n",
       "4            0.992126            0.991045            0.990244   \n",
       "6            1.000000            1.000000            1.000000   \n",
       "\n",
       "   mean_train_score  std_train_score  \n",
       "0          0.000000         0.000000  \n",
       "2          0.687721         0.064119  \n",
       "4          0.993441         0.003488  \n",
       "6          1.000000         0.000000  \n",
       "\n",
       "[4 rows x 23 columns]"
      ]
     },
     "execution_count": 25,
     "metadata": {},
     "output_type": "execute_result"
    }
   ],
   "source": [
    "pd.DataFrame(grid_search.cv_results_).query('param_kernel == \"rbf\"')"
   ]
  },
  {
   "cell_type": "code",
   "execution_count": 26,
   "metadata": {},
   "outputs": [
    {
     "data": {
      "text/html": [
       "<div>\n",
       "<style scoped>\n",
       "    .dataframe tbody tr th:only-of-type {\n",
       "        vertical-align: middle;\n",
       "    }\n",
       "\n",
       "    .dataframe tbody tr th {\n",
       "        vertical-align: top;\n",
       "    }\n",
       "\n",
       "    .dataframe thead th {\n",
       "        text-align: right;\n",
       "    }\n",
       "</style>\n",
       "<table border=\"1\" class=\"dataframe\">\n",
       "  <thead>\n",
       "    <tr style=\"text-align: right;\">\n",
       "      <th></th>\n",
       "      <th>mean_fit_time</th>\n",
       "      <th>std_fit_time</th>\n",
       "      <th>mean_score_time</th>\n",
       "      <th>std_score_time</th>\n",
       "      <th>param_C</th>\n",
       "      <th>param_gamma</th>\n",
       "      <th>param_kernel</th>\n",
       "      <th>params</th>\n",
       "      <th>split0_test_score</th>\n",
       "      <th>split1_test_score</th>\n",
       "      <th>...</th>\n",
       "      <th>mean_test_score</th>\n",
       "      <th>std_test_score</th>\n",
       "      <th>rank_test_score</th>\n",
       "      <th>split0_train_score</th>\n",
       "      <th>split1_train_score</th>\n",
       "      <th>split2_train_score</th>\n",
       "      <th>split3_train_score</th>\n",
       "      <th>split4_train_score</th>\n",
       "      <th>mean_train_score</th>\n",
       "      <th>std_train_score</th>\n",
       "    </tr>\n",
       "  </thead>\n",
       "  <tbody>\n",
       "    <tr>\n",
       "      <th>1</th>\n",
       "      <td>0.021152</td>\n",
       "      <td>0.014422</td>\n",
       "      <td>0.004978</td>\n",
       "      <td>0.002272</td>\n",
       "      <td>0.1</td>\n",
       "      <td>scale</td>\n",
       "      <td>linear</td>\n",
       "      <td>{'C': 0.1, 'gamma': 'scale', 'kernel': 'linear'}</td>\n",
       "      <td>0.435897</td>\n",
       "      <td>0.342857</td>\n",
       "      <td>...</td>\n",
       "      <td>0.406843</td>\n",
       "      <td>0.061915</td>\n",
       "      <td>5</td>\n",
       "      <td>0.800000</td>\n",
       "      <td>0.625000</td>\n",
       "      <td>0.564356</td>\n",
       "      <td>0.620438</td>\n",
       "      <td>0.597561</td>\n",
       "      <td>0.641471</td>\n",
       "      <td>0.082122</td>\n",
       "    </tr>\n",
       "    <tr>\n",
       "      <th>3</th>\n",
       "      <td>0.052244</td>\n",
       "      <td>0.038494</td>\n",
       "      <td>0.004803</td>\n",
       "      <td>0.001610</td>\n",
       "      <td>1</td>\n",
       "      <td>scale</td>\n",
       "      <td>linear</td>\n",
       "      <td>{'C': 1, 'gamma': 'scale', 'kernel': 'linear'}</td>\n",
       "      <td>0.387755</td>\n",
       "      <td>0.383562</td>\n",
       "      <td>...</td>\n",
       "      <td>0.399922</td>\n",
       "      <td>0.065215</td>\n",
       "      <td>6</td>\n",
       "      <td>0.853659</td>\n",
       "      <td>0.696296</td>\n",
       "      <td>0.617647</td>\n",
       "      <td>0.620939</td>\n",
       "      <td>0.613095</td>\n",
       "      <td>0.680327</td>\n",
       "      <td>0.091951</td>\n",
       "    </tr>\n",
       "    <tr>\n",
       "      <th>5</th>\n",
       "      <td>0.436832</td>\n",
       "      <td>0.327801</td>\n",
       "      <td>0.005587</td>\n",
       "      <td>0.002411</td>\n",
       "      <td>10</td>\n",
       "      <td>scale</td>\n",
       "      <td>linear</td>\n",
       "      <td>{'C': 10, 'gamma': 'scale', 'kernel': 'linear'}</td>\n",
       "      <td>0.409836</td>\n",
       "      <td>0.378378</td>\n",
       "      <td>...</td>\n",
       "      <td>0.442678</td>\n",
       "      <td>0.049208</td>\n",
       "      <td>1</td>\n",
       "      <td>0.904762</td>\n",
       "      <td>0.713287</td>\n",
       "      <td>0.660465</td>\n",
       "      <td>0.659722</td>\n",
       "      <td>0.627907</td>\n",
       "      <td>0.713229</td>\n",
       "      <td>0.099611</td>\n",
       "    </tr>\n",
       "    <tr>\n",
       "      <th>7</th>\n",
       "      <td>3.134808</td>\n",
       "      <td>2.266827</td>\n",
       "      <td>0.005188</td>\n",
       "      <td>0.001170</td>\n",
       "      <td>100</td>\n",
       "      <td>scale</td>\n",
       "      <td>linear</td>\n",
       "      <td>{'C': 100, 'gamma': 'scale', 'kernel': 'linear'}</td>\n",
       "      <td>0.397059</td>\n",
       "      <td>0.356164</td>\n",
       "      <td>...</td>\n",
       "      <td>0.439474</td>\n",
       "      <td>0.058026</td>\n",
       "      <td>2</td>\n",
       "      <td>0.953488</td>\n",
       "      <td>0.742857</td>\n",
       "      <td>0.650943</td>\n",
       "      <td>0.643836</td>\n",
       "      <td>0.618076</td>\n",
       "      <td>0.721840</td>\n",
       "      <td>0.123273</td>\n",
       "    </tr>\n",
       "  </tbody>\n",
       "</table>\n",
       "<p>4 rows × 23 columns</p>\n",
       "</div>"
      ],
      "text/plain": [
       "   mean_fit_time  std_fit_time  mean_score_time  std_score_time param_C  \\\n",
       "1       0.021152      0.014422         0.004978        0.002272     0.1   \n",
       "3       0.052244      0.038494         0.004803        0.001610       1   \n",
       "5       0.436832      0.327801         0.005587        0.002411      10   \n",
       "7       3.134808      2.266827         0.005188        0.001170     100   \n",
       "\n",
       "  param_gamma param_kernel                                            params  \\\n",
       "1       scale       linear  {'C': 0.1, 'gamma': 'scale', 'kernel': 'linear'}   \n",
       "3       scale       linear    {'C': 1, 'gamma': 'scale', 'kernel': 'linear'}   \n",
       "5       scale       linear   {'C': 10, 'gamma': 'scale', 'kernel': 'linear'}   \n",
       "7       scale       linear  {'C': 100, 'gamma': 'scale', 'kernel': 'linear'}   \n",
       "\n",
       "   split0_test_score  split1_test_score  ...  mean_test_score  std_test_score  \\\n",
       "1           0.435897           0.342857  ...         0.406843        0.061915   \n",
       "3           0.387755           0.383562  ...         0.399922        0.065215   \n",
       "5           0.409836           0.378378  ...         0.442678        0.049208   \n",
       "7           0.397059           0.356164  ...         0.439474        0.058026   \n",
       "\n",
       "   rank_test_score  split0_train_score  split1_train_score  \\\n",
       "1                5            0.800000            0.625000   \n",
       "3                6            0.853659            0.696296   \n",
       "5                1            0.904762            0.713287   \n",
       "7                2            0.953488            0.742857   \n",
       "\n",
       "   split2_train_score  split3_train_score  split4_train_score  \\\n",
       "1            0.564356            0.620438            0.597561   \n",
       "3            0.617647            0.620939            0.613095   \n",
       "5            0.660465            0.659722            0.627907   \n",
       "7            0.650943            0.643836            0.618076   \n",
       "\n",
       "   mean_train_score  std_train_score  \n",
       "1          0.641471         0.082122  \n",
       "3          0.680327         0.091951  \n",
       "5          0.713229         0.099611  \n",
       "7          0.721840         0.123273  \n",
       "\n",
       "[4 rows x 23 columns]"
      ]
     },
     "execution_count": 26,
     "metadata": {},
     "output_type": "execute_result"
    }
   ],
   "source": [
    "pd.DataFrame(grid_search.cv_results_).query('param_kernel == \"linear\"')"
   ]
  },
  {
   "cell_type": "code",
   "execution_count": 27,
   "metadata": {},
   "outputs": [],
   "source": [
    "from src.eval.eval_utils import BinClassEval"
   ]
  },
  {
   "cell_type": "markdown",
   "metadata": {},
   "source": [
    "# Warning not sure hsould be evaluating like this! should be using cv_prediction!"
   ]
  },
  {
   "cell_type": "code",
   "execution_count": 28,
   "metadata": {},
   "outputs": [
    {
     "name": "stderr",
     "output_type": "stream",
     "text": [
      "No handles with labels found to put in legend.\n"
     ]
    },
    {
     "name": "stdout",
     "output_type": "stream",
     "text": [
      "Model has decision_function.\n",
      "AUC:  0.905\n",
      "F1 score:  0.605\n",
      "accuracy:  0.904\n"
     ]
    },
    {
     "data": {
      "text/plain": [
       "<src.eval.eval_utils.BinClassEval at 0x1997fdd7908>"
      ]
     },
     "execution_count": 28,
     "metadata": {},
     "output_type": "execute_result"
    },
    {
     "data": {
      "image/png": "[encoded data removed]",
      "text/plain": [
       "<Figure size 648x288 with 2 Axes>"
      ]
     },
     "metadata": {
      "needs_background": "light"
     },
     "output_type": "display_data"
    }
   ],
   "source": [
    "BinClassEval(svm_clf, X_train, y_train, plot=True)"
   ]
  },
  {
   "cell_type": "code",
   "execution_count": 29,
   "metadata": {},
   "outputs": [],
   "source": [
    "from sklearn.feature_selection import SelectKBest"
   ]
  },
  {
   "cell_type": "code",
   "execution_count": 34,
   "metadata": {},
   "outputs": [],
   "source": [
    "X = SelectKBest(k=30).fit_transform(X_train, y_train)"
   ]
  },
  {
   "cell_type": "code",
   "execution_count": 35,
   "metadata": {},
   "outputs": [
    {
     "name": "stderr",
     "output_type": "stream",
     "text": [
      "C:\\Anaconda3\\envs\\class\\lib\\site-packages\\sklearn\\metrics\\classification.py:1437: UndefinedMetricWarning: F-score is ill-defined and being set to 0.0 due to no predicted samples.\n",
      "  'precision', 'predicted', average, warn_for)\n",
      "C:\\Anaconda3\\envs\\class\\lib\\site-packages\\sklearn\\metrics\\classification.py:1437: UndefinedMetricWarning: F-score is ill-defined and being set to 0.0 due to no predicted samples.\n",
      "  'precision', 'predicted', average, warn_for)\n",
      "C:\\Anaconda3\\envs\\class\\lib\\site-packages\\sklearn\\metrics\\classification.py:1437: UndefinedMetricWarning: F-score is ill-defined and being set to 0.0 due to no predicted samples.\n",
      "  'precision', 'predicted', average, warn_for)\n",
      "C:\\Anaconda3\\envs\\class\\lib\\site-packages\\sklearn\\metrics\\classification.py:1437: UndefinedMetricWarning: F-score is ill-defined and being set to 0.0 due to no predicted samples.\n",
      "  'precision', 'predicted', average, warn_for)\n",
      "C:\\Anaconda3\\envs\\class\\lib\\site-packages\\sklearn\\metrics\\classification.py:1437: UndefinedMetricWarning: F-score is ill-defined and being set to 0.0 due to no predicted samples.\n",
      "  'precision', 'predicted', average, warn_for)\n",
      "C:\\Anaconda3\\envs\\class\\lib\\site-packages\\sklearn\\metrics\\classification.py:1437: UndefinedMetricWarning: F-score is ill-defined and being set to 0.0 due to no predicted samples.\n",
      "  'precision', 'predicted', average, warn_for)\n",
      "C:\\Anaconda3\\envs\\class\\lib\\site-packages\\sklearn\\metrics\\classification.py:1437: UndefinedMetricWarning: F-score is ill-defined and being set to 0.0 due to no predicted samples.\n",
      "  'precision', 'predicted', average, warn_for)\n",
      "C:\\Anaconda3\\envs\\class\\lib\\site-packages\\sklearn\\metrics\\classification.py:1437: UndefinedMetricWarning: F-score is ill-defined and being set to 0.0 due to no predicted samples.\n",
      "  'precision', 'predicted', average, warn_for)\n",
      "C:\\Anaconda3\\envs\\class\\lib\\site-packages\\sklearn\\metrics\\classification.py:1437: UndefinedMetricWarning: F-score is ill-defined and being set to 0.0 due to no predicted samples.\n",
      "  'precision', 'predicted', average, warn_for)\n",
      "C:\\Anaconda3\\envs\\class\\lib\\site-packages\\sklearn\\metrics\\classification.py:1437: UndefinedMetricWarning: F-score is ill-defined and being set to 0.0 due to no predicted samples.\n",
      "  'precision', 'predicted', average, warn_for)\n"
     ]
    },
    {
     "name": "stdout",
     "output_type": "stream",
     "text": [
      "CV MODEL RESULTS\n",
      "{'C': 1, 'gamma': 'scale', 'kernel': 'linear'}\n",
      "   mean_test_score  mean_train_score\n",
      "3         0.495198          0.616668\n"
     ]
    }
   ],
   "source": [
    "grid_search = find_best_model(svm,grid,X,y_train,'CV set')\n",
    "svm_kbest = grid_search.best_estimator_"
   ]
  },
  {
   "cell_type": "code",
   "execution_count": 37,
   "metadata": {},
   "outputs": [
    {
     "name": "stderr",
     "output_type": "stream",
     "text": [
      "No handles with labels found to put in legend.\n"
     ]
    },
    {
     "name": "stdout",
     "output_type": "stream",
     "text": [
      "Model has decision_function.\n",
      "AUC:  0.903\n",
      "F1 score:  0.527\n",
      "accuracy:  0.889\n"
     ]
    },
    {
     "data": {
      "text/plain": [
       "<src.eval.eval_utils.BinClassEval at 0x19901838da0>"
      ]
     },
     "execution_count": 37,
     "metadata": {},
     "output_type": "execute_result"
    },
    {
     "data": {
      "image/png": "[encoded data removed]",
      "text/plain": [
       "<Figure size 648x288 with 2 Axes>"
      ]
     },
     "metadata": {
      "needs_background": "light"
     },
     "output_type": "display_data"
    }
   ],
   "source": [
    "BinClassEval(svm_kbest, X, y_train, plot=True)"
   ]
  },
  {
   "cell_type": "markdown",
   "metadata": {},
   "source": [
    "Reducing number of features help the SVM. I guess this is regularising it."
   ]
  },
  {
   "cell_type": "markdown",
   "metadata": {},
   "source": [
    "# Logging model and trianing results"
   ]
  },
  {
   "cell_type": "markdown",
   "metadata": {},
   "source": [
    "Create first log df"
   ]
  },
  {
   "cell_type": "markdown",
   "metadata": {},
   "source": [
    "model_log = pd.DataFrame(columns=['dataV','model','gridsearch','mean_train','mean_valid','notes'])"
   ]
  },
  {
   "cell_type": "markdown",
   "metadata": {},
   "source": [
    "model_log"
   ]
  },
  {
   "cell_type": "markdown",
   "metadata": {},
   "source": [
    "model_log.to_pickle('./../data/output/model_log.pkl')"
   ]
  },
  {
   "cell_type": "code",
   "execution_count": 32,
   "metadata": {},
   "outputs": [],
   "source": [
    "from src.eval.eval_utils import save_model_to_log"
   ]
  },
  {
   "cell_type": "code",
   "execution_count": 34,
   "metadata": {},
   "outputs": [
    {
     "name": "stdout",
     "output_type": "stream",
     "text": [
      "Model logged.\n"
     ]
    }
   ],
   "source": [
    "save_model_to_log('./../data/output/model_log.pkl', 'v1', rf, grid_search, 'Random Forest 1st attempt with v1.')"
   ]
  },
  {
   "cell_type": "code",
   "execution_count": 35,
   "metadata": {},
   "outputs": [
    {
     "data": {
      "text/html": [
       "<div>\n",
       "<style scoped>\n",
       "    .dataframe tbody tr th:only-of-type {\n",
       "        vertical-align: middle;\n",
       "    }\n",
       "\n",
       "    .dataframe tbody tr th {\n",
       "        vertical-align: top;\n",
       "    }\n",
       "\n",
       "    .dataframe thead th {\n",
       "        text-align: right;\n",
       "    }\n",
       "</style>\n",
       "<table border=\"1\" class=\"dataframe\">\n",
       "  <thead>\n",
       "    <tr style=\"text-align: right;\">\n",
       "      <th></th>\n",
       "      <th>dataV</th>\n",
       "      <th>model</th>\n",
       "      <th>gridsearch</th>\n",
       "      <th>mean_train</th>\n",
       "      <th>mean_valid</th>\n",
       "      <th>notes</th>\n",
       "    </tr>\n",
       "  </thead>\n",
       "  <tbody>\n",
       "    <tr>\n",
       "      <th>0</th>\n",
       "      <td>v1</td>\n",
       "      <td>LogisticRegression(C=0.3, class_weight='balanc...</td>\n",
       "      <td>mean_fit_time  std_fit_time  mean_score_tim...</td>\n",
       "      <td>[0.629]</td>\n",
       "      <td>[0.52]</td>\n",
       "      <td>Initial model which was built on first edition...</td>\n",
       "    </tr>\n",
       "    <tr>\n",
       "      <th>1</th>\n",
       "      <td>v1</td>\n",
       "      <td>(DecisionTreeClassifier(class_weight=None, cri...</td>\n",
       "      <td>mean_fit_time  std_fit_time  mean_score_ti...</td>\n",
       "      <td>[0.685]</td>\n",
       "      <td>[0.419]</td>\n",
       "      <td>Random Forest 1st attempt with v1.</td>\n",
       "    </tr>\n",
       "  </tbody>\n",
       "</table>\n",
       "</div>"
      ],
      "text/plain": [
       "  dataV                                              model  \\\n",
       "0    v1  LogisticRegression(C=0.3, class_weight='balanc...   \n",
       "1    v1  (DecisionTreeClassifier(class_weight=None, cri...   \n",
       "\n",
       "                                          gridsearch mean_train mean_valid  \\\n",
       "0     mean_fit_time  std_fit_time  mean_score_tim...    [0.629]     [0.52]   \n",
       "1      mean_fit_time  std_fit_time  mean_score_ti...    [0.685]    [0.419]   \n",
       "\n",
       "                                               notes  \n",
       "0  Initial model which was built on first edition...  \n",
       "1                 Random Forest 1st attempt with v1.  "
      ]
     },
     "execution_count": 35,
     "metadata": {},
     "output_type": "execute_result"
    }
   ],
   "source": [
    "pd.read_pickle('./../data/output/model_log.pkl')"
   ]
  },
  {
   "cell_type": "code",
   "execution_count": null,
   "metadata": {},
   "outputs": [],
   "source": []
  }
 ],
 "metadata": {
  "kernelspec": {
   "display_name": "Python [conda env:class]",
   "language": "python",
   "name": "conda-env-class-py"
  },
  "language_info": {
   "codemirror_mode": {
    "name": "ipython",
    "version": 3
   },
   "file_extension": ".py",
   "mimetype": "text/x-python",
   "name": "python",
   "nbconvert_exporter": "python",
   "pygments_lexer": "ipython3",
   "version": "3.6.7"
  }
 },
 "nbformat": 4,
 "nbformat_minor": 2
}
