{
 "cells": [
  {
   "cell_type": "code",
   "execution_count": 1,
   "metadata": {},
   "outputs": [],
   "source": [
    "import pandas as pd\n",
    "import numpy as np"
   ]
  },
  {
   "cell_type": "code",
   "execution_count": 2,
   "metadata": {},
   "outputs": [],
   "source": [
    "import src"
   ]
  },
  {
   "cell_type": "code",
   "execution_count": 3,
   "metadata": {},
   "outputs": [
    {
     "data": {
      "text/plain": [
       "'C:\\\\Users\\\\bjk1y13\\\\OneDrive - University of Southampton\\\\MH028_UHS_Weather\\\\4_Analysis\\\\EDclassification\\\\notebooks\\\\model'"
      ]
     },
     "execution_count": 3,
     "metadata": {},
     "output_type": "execute_result"
    }
   ],
   "source": [
    "%pwd"
   ]
  },
  {
   "cell_type": "code",
   "execution_count": 6,
   "metadata": {},
   "outputs": [],
   "source": [
    "def load_pickle_preprocessed_data(path):\n",
    "    \"\"\"\n",
    "    Load pickled data for modelling.\n",
    "    \n",
    "    Input\n",
    "    =====\n",
    "    path, str, to fodler where data is located.\n",
    "    \n",
    "    Output\n",
    "    ======\n",
    "    X_train,dataframe, \n",
    "    X_test,dataframe, \n",
    "    y_train,dataframe, \n",
    "    y_test, dataframe, \n",
    "    \n",
    "    \"\"\"\n",
    "    #### load each data file\n",
    "    X_train = pd.read_pickle(path + 'X_train.pkl')\n",
    "    X_test = pd.read_pickle(path + 'X_test.pkl')\n",
    "    y_train = pd.read_pickle(path + 'y_train.pkl')\n",
    "    y_test = pd.read_pickle(path + 'y_test.pkl')\n",
    "    \n",
    "    return(X_train, X_test, y_train, y_test)\n",
    "\n",
    "X_train, X_test, y_train, y_test = load_pickle_preprocessed_data('../../data/processed/v1/')"
   ]
  },
  {
   "cell_type": "code",
   "execution_count": 7,
   "metadata": {},
   "outputs": [
    {
     "data": {
      "text/plain": [
       "(1654, 52)"
      ]
     },
     "execution_count": 7,
     "metadata": {},
     "output_type": "execute_result"
    }
   ],
   "source": [
    "X_train.shape"
   ]
  },
  {
   "cell_type": "code",
   "execution_count": 8,
   "metadata": {},
   "outputs": [
    {
     "data": {
      "text/html": [
       "<div>\n",
       "<style scoped>\n",
       "    .dataframe tbody tr th:only-of-type {\n",
       "        vertical-align: middle;\n",
       "    }\n",
       "\n",
       "    .dataframe tbody tr th {\n",
       "        vertical-align: top;\n",
       "    }\n",
       "\n",
       "    .dataframe thead th {\n",
       "        text-align: right;\n",
       "    }\n",
       "</style>\n",
       "<table border=\"1\" class=\"dataframe\">\n",
       "  <thead>\n",
       "    <tr style=\"text-align: right;\">\n",
       "      <th></th>\n",
       "      <th>EDoccMAX_prevday</th>\n",
       "      <th>callender_DAY(first_EDatt_time)</th>\n",
       "      <th>EDmorn_COUNT(EDatt)</th>\n",
       "      <th>EDmorn_MEAN(EDatt.wait_time_total)</th>\n",
       "      <th>EDmorn_MEAN(EDatt.flag_specreq)</th>\n",
       "      <th>EDmorn_MEAN(EDatt.age)</th>\n",
       "      <th>EDmorn_MEAN(EDatt.flag_admission)</th>\n",
       "      <th>EDmorn_STD(EDatt.wait_time_total)</th>\n",
       "      <th>EDmorn_STD(EDatt.flag_specreq)</th>\n",
       "      <th>EDmorn_STD(EDatt.age)</th>\n",
       "      <th>...</th>\n",
       "      <th>callender_MONTH(first_EDatt_time)_4</th>\n",
       "      <th>callender_MONTH(first_EDatt_time)_5</th>\n",
       "      <th>callender_MONTH(first_EDatt_time)_6</th>\n",
       "      <th>callender_MONTH(first_EDatt_time)_7</th>\n",
       "      <th>callender_MONTH(first_EDatt_time)_8</th>\n",
       "      <th>callender_MONTH(first_EDatt_time)_9</th>\n",
       "      <th>callender_MONTH(first_EDatt_time)_10</th>\n",
       "      <th>callender_MONTH(first_EDatt_time)_11</th>\n",
       "      <th>callender_MONTH(first_EDatt_time)_12</th>\n",
       "      <th>callender_WEEKEND(first_EDatt_time)</th>\n",
       "    </tr>\n",
       "  </thead>\n",
       "  <tbody>\n",
       "    <tr>\n",
       "      <th>0</th>\n",
       "      <td>-0.452744</td>\n",
       "      <td>-1.552923</td>\n",
       "      <td>-1.520733</td>\n",
       "      <td>-2.575791</td>\n",
       "      <td>0.77684</td>\n",
       "      <td>0.788307</td>\n",
       "      <td>-1.017596</td>\n",
       "      <td>-1.371472</td>\n",
       "      <td>-0.44764</td>\n",
       "      <td>0.724071</td>\n",
       "      <td>...</td>\n",
       "      <td>0.0</td>\n",
       "      <td>0.0</td>\n",
       "      <td>0.0</td>\n",
       "      <td>0.0</td>\n",
       "      <td>0.0</td>\n",
       "      <td>0.0</td>\n",
       "      <td>0.0</td>\n",
       "      <td>0.0</td>\n",
       "      <td>0.0</td>\n",
       "      <td>0.0</td>\n",
       "    </tr>\n",
       "  </tbody>\n",
       "</table>\n",
       "<p>1 rows × 52 columns</p>\n",
       "</div>"
      ],
      "text/plain": [
       "   EDoccMAX_prevday  callender_DAY(first_EDatt_time)  EDmorn_COUNT(EDatt)  \\\n",
       "0         -0.452744                        -1.552923            -1.520733   \n",
       "\n",
       "   EDmorn_MEAN(EDatt.wait_time_total)  EDmorn_MEAN(EDatt.flag_specreq)  \\\n",
       "0                           -2.575791                          0.77684   \n",
       "\n",
       "   EDmorn_MEAN(EDatt.age)  EDmorn_MEAN(EDatt.flag_admission)  \\\n",
       "0                0.788307                          -1.017596   \n",
       "\n",
       "   EDmorn_STD(EDatt.wait_time_total)  EDmorn_STD(EDatt.flag_specreq)  \\\n",
       "0                          -1.371472                        -0.44764   \n",
       "\n",
       "   EDmorn_STD(EDatt.age)  ...  callender_MONTH(first_EDatt_time)_4  \\\n",
       "0               0.724071  ...                                  0.0   \n",
       "\n",
       "   callender_MONTH(first_EDatt_time)_5  callender_MONTH(first_EDatt_time)_6  \\\n",
       "0                                  0.0                                  0.0   \n",
       "\n",
       "   callender_MONTH(first_EDatt_time)_7  callender_MONTH(first_EDatt_time)_8  \\\n",
       "0                                  0.0                                  0.0   \n",
       "\n",
       "   callender_MONTH(first_EDatt_time)_9  callender_MONTH(first_EDatt_time)_10  \\\n",
       "0                                  0.0                                   0.0   \n",
       "\n",
       "   callender_MONTH(first_EDatt_time)_11  callender_MONTH(first_EDatt_time)_12  \\\n",
       "0                                   0.0                                   0.0   \n",
       "\n",
       "   callender_WEEKEND(first_EDatt_time)  \n",
       "0                                  0.0  \n",
       "\n",
       "[1 rows x 52 columns]"
      ]
     },
     "execution_count": 8,
     "metadata": {},
     "output_type": "execute_result"
    }
   ],
   "source": [
    "X_train.head(1)"
   ]
  },
  {
   "cell_type": "markdown",
   "metadata": {},
   "source": [
    "# Instantiate model"
   ]
  },
  {
   "cell_type": "code",
   "execution_count": null,
   "metadata": {},
   "outputs": [],
   "source": []
  },
  {
   "cell_type": "markdown",
   "metadata": {},
   "source": [
    "# Run CV gridsearch"
   ]
  },
  {
   "cell_type": "code",
   "execution_count": 9,
   "metadata": {},
   "outputs": [],
   "source": [
    "from sklearn.metrics import classification_report,precision_score, recall_score, confusion_matrix, accuracy_score\n",
    "from sklearn.metrics import precision_recall_curve,roc_curve\n",
    "from sklearn.model_selection import TimeSeriesSplit\n",
    "\n",
    "from sklearn.model_selection import cross_val_predict, cross_val_score, GridSearchCV\n",
    "\n",
    "\n",
    "\n",
    "def find_best_model(model, grid, Xdata, ydata, plot_label):\n",
    "    \"\"\"does gridsearch for model and plots result from \"\"\"\n",
    "    my_cv = TimeSeriesSplit(n_splits=5).split(Xdata) # 5 chosen as gives roughly 1 year groups for each fold\n",
    "    grid_search = GridSearchCV(model,grid,scoring='f1',cv=my_cv,return_train_score=True)\n",
    "    grid_search.fit(Xdata,ydata)\n",
    "    model = grid_search.best_estimator_\n",
    "    print('CV MODEL RESULTS')\n",
    "    print(grid_search.best_params_)\n",
    "    print(pd.DataFrame(grid_search.cv_results_).query('rank_test_score == 1')[['mean_test_score','mean_train_score']])\n",
    "    \n",
    "#     plot_model_perf(ydata,Xdata,model,plot_label)\n",
    "\n",
    "    \n",
    "    return(grid_search)\n",
    "    "
   ]
  },
  {
   "cell_type": "code",
   "execution_count": 10,
   "metadata": {},
   "outputs": [
    {
     "data": {
      "text/plain": [
       "330.8"
      ]
     },
     "execution_count": 10,
     "metadata": {},
     "output_type": "execute_result"
    }
   ],
   "source": [
    "X_train.shape[0]/5"
   ]
  },
  {
   "cell_type": "code",
   "execution_count": 11,
   "metadata": {},
   "outputs": [
    {
     "name": "stdout",
     "output_type": "stream",
     "text": [
      "CV MODEL RESULTS\n",
      "{'C': 0.3}\n",
      "   mean_test_score  mean_train_score\n",
      "3         0.513112          0.641505\n"
     ]
    }
   ],
   "source": [
    "from sklearn.linear_model import LogisticRegression\n",
    "lgr = LogisticRegression(solver='liblinear',class_weight ='balanced')\n",
    "\n",
    "grid = {'C':[0.05, 0.1,0.2,0.3,0.5,0.7,1,3,10]}\n",
    "#grid = {'C':[0.1]}\n",
    "\n",
    "grid_search = find_best_model(lgr,grid,X_train,y_train,'CV set')\n",
    "lgr = grid_search.best_estimator_\n",
    "\n",
    "# grid_search.fit(X_trainT,y_train)\n",
    "# plot_model_perf(y_test,X_testT,grid_search.best_estimator_,'Test')"
   ]
  },
  {
   "cell_type": "code",
   "execution_count": 12,
   "metadata": {},
   "outputs": [
    {
     "data": {
      "text/html": [
       "<div>\n",
       "<style scoped>\n",
       "    .dataframe tbody tr th:only-of-type {\n",
       "        vertical-align: middle;\n",
       "    }\n",
       "\n",
       "    .dataframe tbody tr th {\n",
       "        vertical-align: top;\n",
       "    }\n",
       "\n",
       "    .dataframe thead th {\n",
       "        text-align: right;\n",
       "    }\n",
       "</style>\n",
       "<table border=\"1\" class=\"dataframe\">\n",
       "  <thead>\n",
       "    <tr style=\"text-align: right;\">\n",
       "      <th></th>\n",
       "      <th>0</th>\n",
       "      <th>1</th>\n",
       "      <th>2</th>\n",
       "      <th>3</th>\n",
       "      <th>4</th>\n",
       "      <th>5</th>\n",
       "      <th>6</th>\n",
       "      <th>7</th>\n",
       "      <th>8</th>\n",
       "    </tr>\n",
       "  </thead>\n",
       "  <tbody>\n",
       "    <tr>\n",
       "      <th>mean_fit_time</th>\n",
       "      <td>0.00978246</td>\n",
       "      <td>0.00799403</td>\n",
       "      <td>0.00838556</td>\n",
       "      <td>0.00976262</td>\n",
       "      <td>0.00997205</td>\n",
       "      <td>0.0103794</td>\n",
       "      <td>0.0139628</td>\n",
       "      <td>0.0147679</td>\n",
       "      <td>0.0183421</td>\n",
       "    </tr>\n",
       "    <tr>\n",
       "      <th>std_fit_time</th>\n",
       "      <td>0.00272905</td>\n",
       "      <td>0.00324271</td>\n",
       "      <td>0.00311834</td>\n",
       "      <td>0.00426086</td>\n",
       "      <td>0.0029742</td>\n",
       "      <td>0.00343772</td>\n",
       "      <td>0.00591555</td>\n",
       "      <td>0.00687004</td>\n",
       "      <td>0.00993164</td>\n",
       "    </tr>\n",
       "    <tr>\n",
       "      <th>mean_score_time</th>\n",
       "      <td>0.00318837</td>\n",
       "      <td>0.00198808</td>\n",
       "      <td>0.0019896</td>\n",
       "      <td>0.00200272</td>\n",
       "      <td>0.00180383</td>\n",
       "      <td>0.00178785</td>\n",
       "      <td>0.00217786</td>\n",
       "      <td>0.00220375</td>\n",
       "      <td>0.00159669</td>\n",
       "    </tr>\n",
       "    <tr>\n",
       "      <th>std_score_time</th>\n",
       "      <td>0.00193552</td>\n",
       "      <td>2.89313e-05</td>\n",
       "      <td>2.18743e-05</td>\n",
       "      <td>0.000891947</td>\n",
       "      <td>0.000403321</td>\n",
       "      <td>0.000395563</td>\n",
       "      <td>0.00117419</td>\n",
       "      <td>0.000756219</td>\n",
       "      <td>0.000489493</td>\n",
       "    </tr>\n",
       "    <tr>\n",
       "      <th>param_C</th>\n",
       "      <td>0.05</td>\n",
       "      <td>0.1</td>\n",
       "      <td>0.2</td>\n",
       "      <td>0.3</td>\n",
       "      <td>0.5</td>\n",
       "      <td>0.7</td>\n",
       "      <td>1</td>\n",
       "      <td>3</td>\n",
       "      <td>10</td>\n",
       "    </tr>\n",
       "    <tr>\n",
       "      <th>params</th>\n",
       "      <td>{'C': 0.05}</td>\n",
       "      <td>{'C': 0.1}</td>\n",
       "      <td>{'C': 0.2}</td>\n",
       "      <td>{'C': 0.3}</td>\n",
       "      <td>{'C': 0.5}</td>\n",
       "      <td>{'C': 0.7}</td>\n",
       "      <td>{'C': 1}</td>\n",
       "      <td>{'C': 3}</td>\n",
       "      <td>{'C': 10}</td>\n",
       "    </tr>\n",
       "    <tr>\n",
       "      <th>split0_test_score</th>\n",
       "      <td>0.391892</td>\n",
       "      <td>0.408163</td>\n",
       "      <td>0.408163</td>\n",
       "      <td>0.394558</td>\n",
       "      <td>0.386207</td>\n",
       "      <td>0.383562</td>\n",
       "      <td>0.378378</td>\n",
       "      <td>0.380952</td>\n",
       "      <td>0.383562</td>\n",
       "    </tr>\n",
       "    <tr>\n",
       "      <th>split1_test_score</th>\n",
       "      <td>0.493976</td>\n",
       "      <td>0.503067</td>\n",
       "      <td>0.5</td>\n",
       "      <td>0.496644</td>\n",
       "      <td>0.478873</td>\n",
       "      <td>0.444444</td>\n",
       "      <td>0.415385</td>\n",
       "      <td>0.413793</td>\n",
       "      <td>0.381818</td>\n",
       "    </tr>\n",
       "    <tr>\n",
       "      <th>split2_test_score</th>\n",
       "      <td>0.548673</td>\n",
       "      <td>0.576923</td>\n",
       "      <td>0.623656</td>\n",
       "      <td>0.644444</td>\n",
       "      <td>0.626506</td>\n",
       "      <td>0.592593</td>\n",
       "      <td>0.6</td>\n",
       "      <td>0.586667</td>\n",
       "      <td>0.583333</td>\n",
       "    </tr>\n",
       "    <tr>\n",
       "      <th>split3_test_score</th>\n",
       "      <td>0.5</td>\n",
       "      <td>0.52381</td>\n",
       "      <td>0.533333</td>\n",
       "      <td>0.529915</td>\n",
       "      <td>0.530973</td>\n",
       "      <td>0.550459</td>\n",
       "      <td>0.560748</td>\n",
       "      <td>0.582524</td>\n",
       "      <td>0.571429</td>\n",
       "    </tr>\n",
       "    <tr>\n",
       "      <th>split4_test_score</th>\n",
       "      <td>0.534161</td>\n",
       "      <td>0.519481</td>\n",
       "      <td>0.493151</td>\n",
       "      <td>0.5</td>\n",
       "      <td>0.503597</td>\n",
       "      <td>0.489209</td>\n",
       "      <td>0.492754</td>\n",
       "      <td>0.496241</td>\n",
       "      <td>0.484848</td>\n",
       "    </tr>\n",
       "    <tr>\n",
       "      <th>mean_test_score</th>\n",
       "      <td>0.49374</td>\n",
       "      <td>0.506289</td>\n",
       "      <td>0.511661</td>\n",
       "      <td>0.513112</td>\n",
       "      <td>0.505231</td>\n",
       "      <td>0.492053</td>\n",
       "      <td>0.489453</td>\n",
       "      <td>0.492035</td>\n",
       "      <td>0.480998</td>\n",
       "    </tr>\n",
       "    <tr>\n",
       "      <th>std_test_score</th>\n",
       "      <td>0.0548885</td>\n",
       "      <td>0.0549713</td>\n",
       "      <td>0.0695743</td>\n",
       "      <td>0.0800359</td>\n",
       "      <td>0.0777617</td>\n",
       "      <td>0.0742489</td>\n",
       "      <td>0.083831</td>\n",
       "      <td>0.0844065</td>\n",
       "      <td>0.0871728</td>\n",
       "    </tr>\n",
       "    <tr>\n",
       "      <th>rank_test_score</th>\n",
       "      <td>5</td>\n",
       "      <td>3</td>\n",
       "      <td>2</td>\n",
       "      <td>1</td>\n",
       "      <td>4</td>\n",
       "      <td>6</td>\n",
       "      <td>8</td>\n",
       "      <td>7</td>\n",
       "      <td>9</td>\n",
       "    </tr>\n",
       "    <tr>\n",
       "      <th>split0_train_score</th>\n",
       "      <td>0.700855</td>\n",
       "      <td>0.75</td>\n",
       "      <td>0.781818</td>\n",
       "      <td>0.792793</td>\n",
       "      <td>0.8</td>\n",
       "      <td>0.814815</td>\n",
       "      <td>0.814815</td>\n",
       "      <td>0.854369</td>\n",
       "      <td>0.88</td>\n",
       "    </tr>\n",
       "    <tr>\n",
       "      <th>split1_train_score</th>\n",
       "      <td>0.588235</td>\n",
       "      <td>0.612069</td>\n",
       "      <td>0.628319</td>\n",
       "      <td>0.642857</td>\n",
       "      <td>0.657658</td>\n",
       "      <td>0.663677</td>\n",
       "      <td>0.669683</td>\n",
       "      <td>0.669643</td>\n",
       "      <td>0.694444</td>\n",
       "    </tr>\n",
       "    <tr>\n",
       "      <th>split2_train_score</th>\n",
       "      <td>0.57672</td>\n",
       "      <td>0.584699</td>\n",
       "      <td>0.5961</td>\n",
       "      <td>0.60221</td>\n",
       "      <td>0.618785</td>\n",
       "      <td>0.614958</td>\n",
       "      <td>0.618384</td>\n",
       "      <td>0.620112</td>\n",
       "      <td>0.610169</td>\n",
       "    </tr>\n",
       "    <tr>\n",
       "      <th>split3_train_score</th>\n",
       "      <td>0.568548</td>\n",
       "      <td>0.572597</td>\n",
       "      <td>0.589958</td>\n",
       "      <td>0.585774</td>\n",
       "      <td>0.590717</td>\n",
       "      <td>0.590717</td>\n",
       "      <td>0.591966</td>\n",
       "      <td>0.592751</td>\n",
       "      <td>0.597015</td>\n",
       "    </tr>\n",
       "    <tr>\n",
       "      <th>split4_train_score</th>\n",
       "      <td>0.560897</td>\n",
       "      <td>0.569106</td>\n",
       "      <td>0.576159</td>\n",
       "      <td>0.583893</td>\n",
       "      <td>0.583474</td>\n",
       "      <td>0.584459</td>\n",
       "      <td>0.586441</td>\n",
       "      <td>0.586031</td>\n",
       "      <td>0.587031</td>\n",
       "    </tr>\n",
       "    <tr>\n",
       "      <th>mean_train_score</th>\n",
       "      <td>0.599051</td>\n",
       "      <td>0.617694</td>\n",
       "      <td>0.634471</td>\n",
       "      <td>0.641505</td>\n",
       "      <td>0.650127</td>\n",
       "      <td>0.653725</td>\n",
       "      <td>0.656258</td>\n",
       "      <td>0.664581</td>\n",
       "      <td>0.673732</td>\n",
       "    </tr>\n",
       "    <tr>\n",
       "      <th>std_train_score</th>\n",
       "      <td>0.0517026</td>\n",
       "      <td>0.0678524</td>\n",
       "      <td>0.0756347</td>\n",
       "      <td>0.0785609</td>\n",
       "      <td>0.0793387</td>\n",
       "      <td>0.0852285</td>\n",
       "      <td>0.0845728</td>\n",
       "      <td>0.0993503</td>\n",
       "      <td>0.109926</td>\n",
       "    </tr>\n",
       "  </tbody>\n",
       "</table>\n",
       "</div>"
      ],
      "text/plain": [
       "                              0            1            2            3  \\\n",
       "mean_fit_time        0.00978246   0.00799403   0.00838556   0.00976262   \n",
       "std_fit_time         0.00272905   0.00324271   0.00311834   0.00426086   \n",
       "mean_score_time      0.00318837   0.00198808    0.0019896   0.00200272   \n",
       "std_score_time       0.00193552  2.89313e-05  2.18743e-05  0.000891947   \n",
       "param_C                    0.05          0.1          0.2          0.3   \n",
       "params              {'C': 0.05}   {'C': 0.1}   {'C': 0.2}   {'C': 0.3}   \n",
       "split0_test_score      0.391892     0.408163     0.408163     0.394558   \n",
       "split1_test_score      0.493976     0.503067          0.5     0.496644   \n",
       "split2_test_score      0.548673     0.576923     0.623656     0.644444   \n",
       "split3_test_score           0.5      0.52381     0.533333     0.529915   \n",
       "split4_test_score      0.534161     0.519481     0.493151          0.5   \n",
       "mean_test_score         0.49374     0.506289     0.511661     0.513112   \n",
       "std_test_score        0.0548885    0.0549713    0.0695743    0.0800359   \n",
       "rank_test_score               5            3            2            1   \n",
       "split0_train_score     0.700855         0.75     0.781818     0.792793   \n",
       "split1_train_score     0.588235     0.612069     0.628319     0.642857   \n",
       "split2_train_score      0.57672     0.584699       0.5961      0.60221   \n",
       "split3_train_score     0.568548     0.572597     0.589958     0.585774   \n",
       "split4_train_score     0.560897     0.569106     0.576159     0.583893   \n",
       "mean_train_score       0.599051     0.617694     0.634471     0.641505   \n",
       "std_train_score       0.0517026    0.0678524    0.0756347    0.0785609   \n",
       "\n",
       "                              4            5           6            7  \\\n",
       "mean_fit_time        0.00997205    0.0103794   0.0139628    0.0147679   \n",
       "std_fit_time          0.0029742   0.00343772  0.00591555   0.00687004   \n",
       "mean_score_time      0.00180383   0.00178785  0.00217786   0.00220375   \n",
       "std_score_time      0.000403321  0.000395563  0.00117419  0.000756219   \n",
       "param_C                     0.5          0.7           1            3   \n",
       "params               {'C': 0.5}   {'C': 0.7}    {'C': 1}     {'C': 3}   \n",
       "split0_test_score      0.386207     0.383562    0.378378     0.380952   \n",
       "split1_test_score      0.478873     0.444444    0.415385     0.413793   \n",
       "split2_test_score      0.626506     0.592593         0.6     0.586667   \n",
       "split3_test_score      0.530973     0.550459    0.560748     0.582524   \n",
       "split4_test_score      0.503597     0.489209    0.492754     0.496241   \n",
       "mean_test_score        0.505231     0.492053    0.489453     0.492035   \n",
       "std_test_score        0.0777617    0.0742489    0.083831    0.0844065   \n",
       "rank_test_score               4            6           8            7   \n",
       "split0_train_score          0.8     0.814815    0.814815     0.854369   \n",
       "split1_train_score     0.657658     0.663677    0.669683     0.669643   \n",
       "split2_train_score     0.618785     0.614958    0.618384     0.620112   \n",
       "split3_train_score     0.590717     0.590717    0.591966     0.592751   \n",
       "split4_train_score     0.583474     0.584459    0.586441     0.586031   \n",
       "mean_train_score       0.650127     0.653725    0.656258     0.664581   \n",
       "std_train_score       0.0793387    0.0852285   0.0845728    0.0993503   \n",
       "\n",
       "                              8  \n",
       "mean_fit_time         0.0183421  \n",
       "std_fit_time         0.00993164  \n",
       "mean_score_time      0.00159669  \n",
       "std_score_time      0.000489493  \n",
       "param_C                      10  \n",
       "params                {'C': 10}  \n",
       "split0_test_score      0.383562  \n",
       "split1_test_score      0.381818  \n",
       "split2_test_score      0.583333  \n",
       "split3_test_score      0.571429  \n",
       "split4_test_score      0.484848  \n",
       "mean_test_score        0.480998  \n",
       "std_test_score        0.0871728  \n",
       "rank_test_score               9  \n",
       "split0_train_score         0.88  \n",
       "split1_train_score     0.694444  \n",
       "split2_train_score     0.610169  \n",
       "split3_train_score     0.597015  \n",
       "split4_train_score     0.587031  \n",
       "mean_train_score       0.673732  \n",
       "std_train_score        0.109926  "
      ]
     },
     "execution_count": 12,
     "metadata": {},
     "output_type": "execute_result"
    }
   ],
   "source": [
    "pd.DataFrame(grid_search.cv_results_).T"
   ]
  },
  {
   "cell_type": "code",
   "execution_count": 13,
   "metadata": {},
   "outputs": [],
   "source": [
    "from src.eval.eval_utils import BinClassEval"
   ]
  },
  {
   "cell_type": "markdown",
   "metadata": {},
   "source": [
    "# Warning not sure hsould be evaluating like this! should be using cv_prediction!"
   ]
  },
  {
   "cell_type": "code",
   "execution_count": 14,
   "metadata": {},
   "outputs": [
    {
     "name": "stderr",
     "output_type": "stream",
     "text": [
      "No handles with labels found to put in legend.\n"
     ]
    },
    {
     "name": "stdout",
     "output_type": "stream",
     "text": [
      "Model has decision_function.\n",
      "Model has predict_proba.\n",
      "AUC:  0.911\n",
      "F1 score:  0.577\n",
      "accuracy:  0.813\n"
     ]
    },
    {
     "data": {
      "text/plain": [
       "<src.eval.eval_utils.BinClassEval at 0x26e73190ba8>"
      ]
     },
     "execution_count": 14,
     "metadata": {},
     "output_type": "execute_result"
    },
    {
     "data": {
      "image/png": "[encoded data removed]",
      "text/plain": [
       "<Figure size 648x288 with 2 Axes>"
      ]
     },
     "metadata": {
      "needs_background": "light"
     },
     "output_type": "display_data"
    }
   ],
   "source": [
    "BinClassEval(lgr, X_train, y_train, plot=True)"
   ]
  },
  {
   "cell_type": "code",
   "execution_count": 13,
   "metadata": {},
   "outputs": [],
   "source": [
    "from sklearn.feature_selection import SelectKBest"
   ]
  },
  {
   "cell_type": "code",
   "execution_count": 14,
   "metadata": {},
   "outputs": [],
   "source": [
    "X = SelectKBest(k=40).fit_transform(X_train, y_train)"
   ]
  },
  {
   "cell_type": "code",
   "execution_count": 15,
   "metadata": {},
   "outputs": [
    {
     "name": "stdout",
     "output_type": "stream",
     "text": [
      "CV MODEL RESULTS\n",
      "{'C': 0.5}\n",
      "   mean_test_score  mean_train_score\n",
      "4         0.519775          0.628764\n"
     ]
    }
   ],
   "source": [
    "grid_search = find_best_model(lgr,grid,X,y_train,'CV set')\n",
    "lgr_kbest = grid_search.best_estimator_"
   ]
  },
  {
   "cell_type": "code",
   "execution_count": 16,
   "metadata": {},
   "outputs": [
    {
     "name": "stderr",
     "output_type": "stream",
     "text": [
      "No handles with labels found to put in legend.\n"
     ]
    },
    {
     "name": "stdout",
     "output_type": "stream",
     "text": [
      "Model has decision_function.\n",
      "Model has predict_proba.\n",
      "AUC:  0.909\n",
      "F1 score:  0.573\n",
      "accuracy:  0.81\n"
     ]
    },
    {
     "data": {
      "text/plain": [
       "<src.eval.eval_utils.BinClassEval at 0x1fa4e780ba8>"
      ]
     },
     "execution_count": 16,
     "metadata": {},
     "output_type": "execute_result"
    },
    {
     "data": {
      "image/png": "[encoded data removed]",
      "text/plain": [
       "<Figure size 648x288 with 2 Axes>"
      ]
     },
     "metadata": {
      "needs_background": "light"
     },
     "output_type": "display_data"
    }
   ],
   "source": [
    "BinClassEval(lgr_kbest, X, y_train, plot=True)"
   ]
  },
  {
   "cell_type": "markdown",
   "metadata": {},
   "source": [
    "# Logging model and trianing results"
   ]
  },
  {
   "cell_type": "markdown",
   "metadata": {},
   "source": [
    "Create first log df"
   ]
  },
  {
   "cell_type": "code",
   "execution_count": 17,
   "metadata": {},
   "outputs": [],
   "source": [
    "model_log = pd.DataFrame(columns=['dataV','model','gridsearch','mean_train','mean_valid','notes'])"
   ]
  },
  {
   "cell_type": "code",
   "execution_count": 18,
   "metadata": {},
   "outputs": [
    {
     "data": {
      "text/html": [
       "<div>\n",
       "<style scoped>\n",
       "    .dataframe tbody tr th:only-of-type {\n",
       "        vertical-align: middle;\n",
       "    }\n",
       "\n",
       "    .dataframe tbody tr th {\n",
       "        vertical-align: top;\n",
       "    }\n",
       "\n",
       "    .dataframe thead th {\n",
       "        text-align: right;\n",
       "    }\n",
       "</style>\n",
       "<table border=\"1\" class=\"dataframe\">\n",
       "  <thead>\n",
       "    <tr style=\"text-align: right;\">\n",
       "      <th></th>\n",
       "      <th>dataV</th>\n",
       "      <th>model</th>\n",
       "      <th>gridsearch</th>\n",
       "      <th>mean_train</th>\n",
       "      <th>mean_valid</th>\n",
       "      <th>notes</th>\n",
       "    </tr>\n",
       "  </thead>\n",
       "  <tbody>\n",
       "  </tbody>\n",
       "</table>\n",
       "</div>"
      ],
      "text/plain": [
       "Empty DataFrame\n",
       "Columns: [dataV, model, gridsearch, mean_train, mean_valid, notes]\n",
       "Index: []"
      ]
     },
     "execution_count": 18,
     "metadata": {},
     "output_type": "execute_result"
    }
   ],
   "source": [
    "model_log"
   ]
  },
  {
   "cell_type": "code",
   "execution_count": 19,
   "metadata": {},
   "outputs": [],
   "source": [
    "model_log.to_pickle('./../data/output/model_log.pkl')"
   ]
  },
  {
   "cell_type": "code",
   "execution_count": 21,
   "metadata": {},
   "outputs": [],
   "source": [
    "from src.eval.eval_utils import save_model_to_log"
   ]
  },
  {
   "cell_type": "code",
   "execution_count": 22,
   "metadata": {},
   "outputs": [
    {
     "name": "stdout",
     "output_type": "stream",
     "text": [
      "Model logged.\n"
     ]
    }
   ],
   "source": [
    "save_model_to_log('./../data/output/model_log.pkl', 'v1', lgr, grid_search, 'Initial model which was built on first edition of data as basline.')"
   ]
  },
  {
   "cell_type": "code",
   "execution_count": 23,
   "metadata": {},
   "outputs": [
    {
     "data": {
      "text/html": [
       "<div>\n",
       "<style scoped>\n",
       "    .dataframe tbody tr th:only-of-type {\n",
       "        vertical-align: middle;\n",
       "    }\n",
       "\n",
       "    .dataframe tbody tr th {\n",
       "        vertical-align: top;\n",
       "    }\n",
       "\n",
       "    .dataframe thead th {\n",
       "        text-align: right;\n",
       "    }\n",
       "</style>\n",
       "<table border=\"1\" class=\"dataframe\">\n",
       "  <thead>\n",
       "    <tr style=\"text-align: right;\">\n",
       "      <th></th>\n",
       "      <th>dataV</th>\n",
       "      <th>model</th>\n",
       "      <th>gridsearch</th>\n",
       "      <th>mean_train</th>\n",
       "      <th>mean_valid</th>\n",
       "      <th>notes</th>\n",
       "    </tr>\n",
       "  </thead>\n",
       "  <tbody>\n",
       "    <tr>\n",
       "      <th>0</th>\n",
       "      <td>v1</td>\n",
       "      <td>LogisticRegression(C=0.3, class_weight='balanc...</td>\n",
       "      <td>mean_fit_time  std_fit_time  mean_score_tim...</td>\n",
       "      <td>[0.629]</td>\n",
       "      <td>[0.52]</td>\n",
       "      <td>Initial model which was built on first edition...</td>\n",
       "    </tr>\n",
       "  </tbody>\n",
       "</table>\n",
       "</div>"
      ],
      "text/plain": [
       "  dataV                                              model  \\\n",
       "0    v1  LogisticRegression(C=0.3, class_weight='balanc...   \n",
       "\n",
       "                                          gridsearch mean_train mean_valid  \\\n",
       "0     mean_fit_time  std_fit_time  mean_score_tim...    [0.629]     [0.52]   \n",
       "\n",
       "                                               notes  \n",
       "0  Initial model which was built on first edition...  "
      ]
     },
     "execution_count": 23,
     "metadata": {},
     "output_type": "execute_result"
    }
   ],
   "source": [
    "pd.read_pickle('./../data/output/model_log.pkl')"
   ]
  }
 ],
 "metadata": {
  "kernelspec": {
   "display_name": "Python [conda env:EDclass]",
   "language": "python",
   "name": "conda-env-EDclass-py"
  },
  "language_info": {
   "codemirror_mode": {
    "name": "ipython",
    "version": 3
   },
   "file_extension": ".py",
   "mimetype": "text/x-python",
   "name": "python",
   "nbconvert_exporter": "python",
   "pygments_lexer": "ipython3",
   "version": "3.6.7"
  }
 },
 "nbformat": 4,
 "nbformat_minor": 2
}
