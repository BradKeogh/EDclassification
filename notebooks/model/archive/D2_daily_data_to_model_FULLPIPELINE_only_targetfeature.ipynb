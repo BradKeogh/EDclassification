{
 "cells": [
  {
   "cell_type": "markdown",
   "metadata": {},
   "source": [
    "# Notebook used to help create:\n",
    "\n",
    "- importing data src\n",
    "- precprocessing data src"
   ]
  },
  {
   "cell_type": "code",
   "execution_count": 1,
   "metadata": {},
   "outputs": [
    {
     "data": {
      "text/plain": [
       "'C:\\\\Users\\\\bjk1y13\\\\OneDrive - University of Southampton\\\\MH028_UHS_Weather\\\\4_Analysis\\\\EDclassification\\\\notebooks\\\\model'"
      ]
     },
     "execution_count": 1,
     "metadata": {},
     "output_type": "execute_result"
    }
   ],
   "source": [
    "%pwd"
   ]
  },
  {
   "cell_type": "code",
   "execution_count": 2,
   "metadata": {},
   "outputs": [],
   "source": [
    "import pandas as pd\n",
    "import numpy as np\n",
    "from src.data.io import import_pickled_feature_dfs, import_merge_prevday_target_column, import_merge_pickled_target_class"
   ]
  },
  {
   "cell_type": "markdown",
   "metadata": {},
   "source": [
    "# Import data"
   ]
  },
  {
   "cell_type": "code",
   "execution_count": 3,
   "metadata": {},
   "outputs": [],
   "source": [
    "features = import_pickled_feature_dfs('../../data/interim/D2_timeseries/', ['EDdaily.pkl', 'IPdaily.pkl', 'callender.pkl'])"
   ]
  },
  {
   "cell_type": "code",
   "execution_count": 4,
   "metadata": {},
   "outputs": [
    {
     "data": {
      "text/plain": [
       "(2465, 13)"
      ]
     },
     "execution_count": 4,
     "metadata": {},
     "output_type": "execute_result"
    }
   ],
   "source": [
    "features.shape"
   ]
  },
  {
   "cell_type": "code",
   "execution_count": 5,
   "metadata": {},
   "outputs": [
    {
     "data": {
      "text/html": [
       "<div>\n",
       "<style scoped>\n",
       "    .dataframe tbody tr th:only-of-type {\n",
       "        vertical-align: middle;\n",
       "    }\n",
       "\n",
       "    .dataframe tbody tr th {\n",
       "        vertical-align: top;\n",
       "    }\n",
       "\n",
       "    .dataframe thead th {\n",
       "        text-align: right;\n",
       "    }\n",
       "</style>\n",
       "<table border=\"1\" class=\"dataframe\">\n",
       "  <thead>\n",
       "    <tr style=\"text-align: right;\">\n",
       "      <th></th>\n",
       "      <th>EDDAILYattendances</th>\n",
       "      <th>EDDAILYadmissions</th>\n",
       "      <th>EDDAILYage_mean</th>\n",
       "      <th>EDDAILYage_75plus</th>\n",
       "      <th>IPDAILYpatients_total</th>\n",
       "      <th>IPDAILYpatients_nonelec</th>\n",
       "      <th>IPDAILYpatients_elec</th>\n",
       "      <th>IPDAILYpatients_daycase</th>\n",
       "      <th>IPDAILYage_mean_elecnonelec</th>\n",
       "      <th>IPDAILYage_75plus_elecnonelec</th>\n",
       "      <th>year</th>\n",
       "      <th>month</th>\n",
       "      <th>dayofweek</th>\n",
       "    </tr>\n",
       "    <tr>\n",
       "      <th></th>\n",
       "      <th></th>\n",
       "      <th></th>\n",
       "      <th></th>\n",
       "      <th></th>\n",
       "      <th></th>\n",
       "      <th></th>\n",
       "      <th></th>\n",
       "      <th></th>\n",
       "      <th></th>\n",
       "      <th></th>\n",
       "      <th></th>\n",
       "      <th></th>\n",
       "      <th></th>\n",
       "    </tr>\n",
       "  </thead>\n",
       "  <tbody>\n",
       "    <tr>\n",
       "      <th>2018-09-26</th>\n",
       "      <td>446</td>\n",
       "      <td>182</td>\n",
       "      <td>42.9126</td>\n",
       "      <td>62</td>\n",
       "      <td>2</td>\n",
       "      <td>1</td>\n",
       "      <td>1</td>\n",
       "      <td>0</td>\n",
       "      <td>35.5</td>\n",
       "      <td>0</td>\n",
       "      <td>2018</td>\n",
       "      <td>9</td>\n",
       "      <td>Wednesday</td>\n",
       "    </tr>\n",
       "    <tr>\n",
       "      <th>2018-09-27</th>\n",
       "      <td>487</td>\n",
       "      <td>188</td>\n",
       "      <td>44.7064</td>\n",
       "      <td>82</td>\n",
       "      <td>2</td>\n",
       "      <td>1</td>\n",
       "      <td>1</td>\n",
       "      <td>0</td>\n",
       "      <td>35.5</td>\n",
       "      <td>0</td>\n",
       "      <td>2018</td>\n",
       "      <td>9</td>\n",
       "      <td>Thursday</td>\n",
       "    </tr>\n",
       "    <tr>\n",
       "      <th>2018-09-28</th>\n",
       "      <td>482</td>\n",
       "      <td>168</td>\n",
       "      <td>44.1992</td>\n",
       "      <td>74</td>\n",
       "      <td>2</td>\n",
       "      <td>1</td>\n",
       "      <td>1</td>\n",
       "      <td>0</td>\n",
       "      <td>35.5</td>\n",
       "      <td>0</td>\n",
       "      <td>2018</td>\n",
       "      <td>9</td>\n",
       "      <td>Friday</td>\n",
       "    </tr>\n",
       "    <tr>\n",
       "      <th>2018-09-29</th>\n",
       "      <td>463</td>\n",
       "      <td>191</td>\n",
       "      <td>46.4989</td>\n",
       "      <td>84</td>\n",
       "      <td>1</td>\n",
       "      <td>0</td>\n",
       "      <td>1</td>\n",
       "      <td>0</td>\n",
       "      <td>0</td>\n",
       "      <td>0</td>\n",
       "      <td>2018</td>\n",
       "      <td>9</td>\n",
       "      <td>Saturday</td>\n",
       "    </tr>\n",
       "    <tr>\n",
       "      <th>2018-09-30</th>\n",
       "      <td>367</td>\n",
       "      <td>157</td>\n",
       "      <td>40.3597</td>\n",
       "      <td>47</td>\n",
       "      <td>1</td>\n",
       "      <td>0</td>\n",
       "      <td>1</td>\n",
       "      <td>0</td>\n",
       "      <td>0</td>\n",
       "      <td>0</td>\n",
       "      <td>2018</td>\n",
       "      <td>9</td>\n",
       "      <td>Sunday</td>\n",
       "    </tr>\n",
       "  </tbody>\n",
       "</table>\n",
       "</div>"
      ],
      "text/plain": [
       "           EDDAILYattendances EDDAILYadmissions EDDAILYage_mean  \\\n",
       "                                                                  \n",
       "2018-09-26                446               182         42.9126   \n",
       "2018-09-27                487               188         44.7064   \n",
       "2018-09-28                482               168         44.1992   \n",
       "2018-09-29                463               191         46.4989   \n",
       "2018-09-30                367               157         40.3597   \n",
       "\n",
       "           EDDAILYage_75plus IPDAILYpatients_total IPDAILYpatients_nonelec  \\\n",
       "                                                                             \n",
       "2018-09-26                62                     2                       1   \n",
       "2018-09-27                82                     2                       1   \n",
       "2018-09-28                74                     2                       1   \n",
       "2018-09-29                84                     1                       0   \n",
       "2018-09-30                47                     1                       0   \n",
       "\n",
       "           IPDAILYpatients_elec IPDAILYpatients_daycase  \\\n",
       "                                                          \n",
       "2018-09-26                    1                       0   \n",
       "2018-09-27                    1                       0   \n",
       "2018-09-28                    1                       0   \n",
       "2018-09-29                    1                       0   \n",
       "2018-09-30                    1                       0   \n",
       "\n",
       "           IPDAILYage_mean_elecnonelec IPDAILYage_75plus_elecnonelec  year  \\\n",
       "                                                                             \n",
       "2018-09-26                        35.5                             0  2018   \n",
       "2018-09-27                        35.5                             0  2018   \n",
       "2018-09-28                        35.5                             0  2018   \n",
       "2018-09-29                           0                             0  2018   \n",
       "2018-09-30                           0                             0  2018   \n",
       "\n",
       "            month  dayofweek  \n",
       "                              \n",
       "2018-09-26      9  Wednesday  \n",
       "2018-09-27      9   Thursday  \n",
       "2018-09-28      9     Friday  \n",
       "2018-09-29      9   Saturday  \n",
       "2018-09-30      9     Sunday  "
      ]
     },
     "execution_count": 5,
     "metadata": {},
     "output_type": "execute_result"
    }
   ],
   "source": [
    "features.tail()"
   ]
  },
  {
   "cell_type": "code",
   "execution_count": 6,
   "metadata": {},
   "outputs": [],
   "source": [
    "target = pd.read_pickle('../../data/interim/EDooc_class.pkl')"
   ]
  },
  {
   "cell_type": "code",
   "execution_count": 7,
   "metadata": {},
   "outputs": [],
   "source": [
    "features = target.merge(features, right_index=True, left_index=True)"
   ]
  },
  {
   "cell_type": "markdown",
   "metadata": {},
   "source": [
    "Remember target does not need to be offset because features were calculated for the previous days records"
   ]
  },
  {
   "cell_type": "code",
   "execution_count": 8,
   "metadata": {},
   "outputs": [],
   "source": [
    "features_final = features.copy()\n",
    "# features_final['flag_target'] = features_final['flag_target'].shift(-1)\n",
    "##### we do shift the EDocc col as this is for the current date in index.\n",
    "features_final['EDocc'] = features_final['EDocc'].shift(1)"
   ]
  },
  {
   "cell_type": "code",
   "execution_count": 9,
   "metadata": {},
   "outputs": [],
   "source": [
    "features_final.rename(columns={'EDocc':'TARGET_prevday'},inplace=True)"
   ]
  },
  {
   "cell_type": "code",
   "execution_count": 10,
   "metadata": {},
   "outputs": [],
   "source": [
    "features_final['flag_target_prevday'] = features_final['flag_target'].shift(1)"
   ]
  },
  {
   "cell_type": "code",
   "execution_count": 11,
   "metadata": {},
   "outputs": [
    {
     "data": {
      "text/plain": [
       "0    2094\n",
       "1     371\n",
       "Name: flag_target, dtype: int64"
      ]
     },
     "execution_count": 11,
     "metadata": {},
     "output_type": "execute_result"
    }
   ],
   "source": [
    "features_final.flag_target.value_counts()"
   ]
  },
  {
   "cell_type": "code",
   "execution_count": 12,
   "metadata": {},
   "outputs": [
    {
     "data": {
      "text/html": [
       "<div>\n",
       "<style scoped>\n",
       "    .dataframe tbody tr th:only-of-type {\n",
       "        vertical-align: middle;\n",
       "    }\n",
       "\n",
       "    .dataframe tbody tr th {\n",
       "        vertical-align: top;\n",
       "    }\n",
       "\n",
       "    .dataframe thead th {\n",
       "        text-align: right;\n",
       "    }\n",
       "</style>\n",
       "<table border=\"1\" class=\"dataframe\">\n",
       "  <thead>\n",
       "    <tr style=\"text-align: right;\">\n",
       "      <th></th>\n",
       "      <th>TARGET_prevday</th>\n",
       "      <th>flag_target</th>\n",
       "      <th>EDDAILYattendances</th>\n",
       "      <th>EDDAILYadmissions</th>\n",
       "      <th>EDDAILYage_mean</th>\n",
       "      <th>EDDAILYage_75plus</th>\n",
       "      <th>IPDAILYpatients_total</th>\n",
       "      <th>IPDAILYpatients_nonelec</th>\n",
       "      <th>IPDAILYpatients_elec</th>\n",
       "      <th>IPDAILYpatients_daycase</th>\n",
       "      <th>IPDAILYage_mean_elecnonelec</th>\n",
       "      <th>IPDAILYage_75plus_elecnonelec</th>\n",
       "      <th>year</th>\n",
       "      <th>month</th>\n",
       "      <th>dayofweek</th>\n",
       "      <th>flag_target_prevday</th>\n",
       "    </tr>\n",
       "    <tr>\n",
       "      <th>dt_date</th>\n",
       "      <th></th>\n",
       "      <th></th>\n",
       "      <th></th>\n",
       "      <th></th>\n",
       "      <th></th>\n",
       "      <th></th>\n",
       "      <th></th>\n",
       "      <th></th>\n",
       "      <th></th>\n",
       "      <th></th>\n",
       "      <th></th>\n",
       "      <th></th>\n",
       "      <th></th>\n",
       "      <th></th>\n",
       "      <th></th>\n",
       "      <th></th>\n",
       "    </tr>\n",
       "  </thead>\n",
       "  <tbody>\n",
       "    <tr>\n",
       "      <th>2012-01-01</th>\n",
       "      <td>NaN</td>\n",
       "      <td>1</td>\n",
       "      <td>NaN</td>\n",
       "      <td>NaN</td>\n",
       "      <td>NaN</td>\n",
       "      <td>NaN</td>\n",
       "      <td>NaN</td>\n",
       "      <td>NaN</td>\n",
       "      <td>NaN</td>\n",
       "      <td>NaN</td>\n",
       "      <td>NaN</td>\n",
       "      <td>NaN</td>\n",
       "      <td>2012</td>\n",
       "      <td>1</td>\n",
       "      <td>Sunday</td>\n",
       "      <td>NaN</td>\n",
       "    </tr>\n",
       "    <tr>\n",
       "      <th>2012-01-02</th>\n",
       "      <td>55.750000</td>\n",
       "      <td>0</td>\n",
       "      <td>377</td>\n",
       "      <td>151</td>\n",
       "      <td>40.0186</td>\n",
       "      <td>59</td>\n",
       "      <td>1185</td>\n",
       "      <td>1001</td>\n",
       "      <td>141</td>\n",
       "      <td>43</td>\n",
       "      <td>57.3814</td>\n",
       "      <td>441</td>\n",
       "      <td>2012</td>\n",
       "      <td>1</td>\n",
       "      <td>Monday</td>\n",
       "      <td>1.0</td>\n",
       "    </tr>\n",
       "    <tr>\n",
       "      <th>2012-01-03</th>\n",
       "      <td>38.541667</td>\n",
       "      <td>0</td>\n",
       "      <td>350</td>\n",
       "      <td>139</td>\n",
       "      <td>42.2114</td>\n",
       "      <td>44</td>\n",
       "      <td>1228</td>\n",
       "      <td>1037</td>\n",
       "      <td>141</td>\n",
       "      <td>50</td>\n",
       "      <td>57.4292</td>\n",
       "      <td>453</td>\n",
       "      <td>2012</td>\n",
       "      <td>1</td>\n",
       "      <td>Tuesday</td>\n",
       "      <td>0.0</td>\n",
       "    </tr>\n",
       "    <tr>\n",
       "      <th>2012-01-04</th>\n",
       "      <td>40.208333</td>\n",
       "      <td>0</td>\n",
       "      <td>356</td>\n",
       "      <td>125</td>\n",
       "      <td>45.1011</td>\n",
       "      <td>58</td>\n",
       "      <td>1564</td>\n",
       "      <td>1074</td>\n",
       "      <td>208</td>\n",
       "      <td>282</td>\n",
       "      <td>55.5352</td>\n",
       "      <td>475</td>\n",
       "      <td>2012</td>\n",
       "      <td>1</td>\n",
       "      <td>Wednesday</td>\n",
       "      <td>0.0</td>\n",
       "    </tr>\n",
       "    <tr>\n",
       "      <th>2012-01-05</th>\n",
       "      <td>32.375000</td>\n",
       "      <td>0</td>\n",
       "      <td>284</td>\n",
       "      <td>92</td>\n",
       "      <td>42.5035</td>\n",
       "      <td>49</td>\n",
       "      <td>1535</td>\n",
       "      <td>1066</td>\n",
       "      <td>241</td>\n",
       "      <td>228</td>\n",
       "      <td>55.4072</td>\n",
       "      <td>482</td>\n",
       "      <td>2012</td>\n",
       "      <td>1</td>\n",
       "      <td>Thursday</td>\n",
       "      <td>0.0</td>\n",
       "    </tr>\n",
       "  </tbody>\n",
       "</table>\n",
       "</div>"
      ],
      "text/plain": [
       "            TARGET_prevday  flag_target EDDAILYattendances EDDAILYadmissions  \\\n",
       "dt_date                                                                        \n",
       "2012-01-01             NaN            1                NaN               NaN   \n",
       "2012-01-02       55.750000            0                377               151   \n",
       "2012-01-03       38.541667            0                350               139   \n",
       "2012-01-04       40.208333            0                356               125   \n",
       "2012-01-05       32.375000            0                284                92   \n",
       "\n",
       "           EDDAILYage_mean EDDAILYage_75plus IPDAILYpatients_total  \\\n",
       "dt_date                                                              \n",
       "2012-01-01             NaN               NaN                   NaN   \n",
       "2012-01-02         40.0186                59                  1185   \n",
       "2012-01-03         42.2114                44                  1228   \n",
       "2012-01-04         45.1011                58                  1564   \n",
       "2012-01-05         42.5035                49                  1535   \n",
       "\n",
       "           IPDAILYpatients_nonelec IPDAILYpatients_elec  \\\n",
       "dt_date                                                   \n",
       "2012-01-01                     NaN                  NaN   \n",
       "2012-01-02                    1001                  141   \n",
       "2012-01-03                    1037                  141   \n",
       "2012-01-04                    1074                  208   \n",
       "2012-01-05                    1066                  241   \n",
       "\n",
       "           IPDAILYpatients_daycase IPDAILYage_mean_elecnonelec  \\\n",
       "dt_date                                                          \n",
       "2012-01-01                     NaN                         NaN   \n",
       "2012-01-02                      43                     57.3814   \n",
       "2012-01-03                      50                     57.4292   \n",
       "2012-01-04                     282                     55.5352   \n",
       "2012-01-05                     228                     55.4072   \n",
       "\n",
       "           IPDAILYage_75plus_elecnonelec  year  month  dayofweek  \\\n",
       "dt_date                                                            \n",
       "2012-01-01                           NaN  2012      1     Sunday   \n",
       "2012-01-02                           441  2012      1     Monday   \n",
       "2012-01-03                           453  2012      1    Tuesday   \n",
       "2012-01-04                           475  2012      1  Wednesday   \n",
       "2012-01-05                           482  2012      1   Thursday   \n",
       "\n",
       "            flag_target_prevday  \n",
       "dt_date                          \n",
       "2012-01-01                  NaN  \n",
       "2012-01-02                  1.0  \n",
       "2012-01-03                  0.0  \n",
       "2012-01-04                  0.0  \n",
       "2012-01-05                  0.0  "
      ]
     },
     "execution_count": 12,
     "metadata": {},
     "output_type": "execute_result"
    }
   ],
   "source": [
    "features_final.head()"
   ]
  },
  {
   "cell_type": "code",
   "execution_count": 13,
   "metadata": {},
   "outputs": [],
   "source": [
    "features_final.drop(['EDDAILYattendances',\n",
    "       'EDDAILYadmissions', 'EDDAILYage_mean', 'EDDAILYage_75plus',\n",
    "       'IPDAILYpatients_total', 'IPDAILYpatients_nonelec',\n",
    "       'IPDAILYpatients_elec', 'IPDAILYpatients_daycase',\n",
    "       'IPDAILYage_mean_elecnonelec', 'IPDAILYage_75plus_elecnonelec'],axis=1, inplace=True)"
   ]
  },
  {
   "cell_type": "code",
   "execution_count": 14,
   "metadata": {},
   "outputs": [
    {
     "data": {
      "text/plain": [
       "Index(['TARGET_prevday', 'flag_target', 'year', 'month', 'dayofweek',\n",
       "       'flag_target_prevday'],\n",
       "      dtype='object')"
      ]
     },
     "execution_count": 14,
     "metadata": {},
     "output_type": "execute_result"
    }
   ],
   "source": [
    "features_final.columns"
   ]
  },
  {
   "cell_type": "markdown",
   "metadata": {},
   "source": [
    "IP occ data after 2018-5-31 is not valid. NOTE: must check if that is same in RAW."
   ]
  },
  {
   "cell_type": "markdown",
   "metadata": {},
   "source": [
    "## Add new lagged and derivative features"
   ]
  },
  {
   "cell_type": "code",
   "execution_count": 15,
   "metadata": {},
   "outputs": [],
   "source": [
    "features_final = features_final.copy()"
   ]
  },
  {
   "cell_type": "code",
   "execution_count": 20,
   "metadata": {},
   "outputs": [],
   "source": [
    "from src.features.feature_gen import create_lagged_vars_list\n",
    "\n",
    "features_final = create_lagged_vars_list(features_final, 'TARGET_prevday', [6,13,27])"
   ]
  },
  {
   "cell_type": "code",
   "execution_count": 21,
   "metadata": {},
   "outputs": [
    {
     "data": {
      "text/html": [
       "<div>\n",
       "<style scoped>\n",
       "    .dataframe tbody tr th:only-of-type {\n",
       "        vertical-align: middle;\n",
       "    }\n",
       "\n",
       "    .dataframe tbody tr th {\n",
       "        vertical-align: top;\n",
       "    }\n",
       "\n",
       "    .dataframe thead th {\n",
       "        text-align: right;\n",
       "    }\n",
       "</style>\n",
       "<table border=\"1\" class=\"dataframe\">\n",
       "  <thead>\n",
       "    <tr style=\"text-align: right;\">\n",
       "      <th></th>\n",
       "      <th>TARGET_prevday</th>\n",
       "      <th>flag_target</th>\n",
       "      <th>year</th>\n",
       "      <th>month</th>\n",
       "      <th>dayofweek</th>\n",
       "      <th>flag_target_prevday</th>\n",
       "      <th>TARGET_prevday_lag6</th>\n",
       "      <th>TARGET_prevday_lag13</th>\n",
       "      <th>TARGET_prevday_lag27</th>\n",
       "      <th>TARGET_prevday_deriv1_lag1</th>\n",
       "      <th>...</th>\n",
       "      <th>TARGET_prevday_deriv1_lag5</th>\n",
       "      <th>TARGET_prevday_deriv2_lag5</th>\n",
       "      <th>TARGET_prevday_deriv1_lag6</th>\n",
       "      <th>TARGET_prevday_deriv2_lag6</th>\n",
       "      <th>TARGET_prevday_deriv1_lag7</th>\n",
       "      <th>TARGET_prevday_deriv2_lag7</th>\n",
       "      <th>TARGET_prevday_deriv1_lag13</th>\n",
       "      <th>TARGET_prevday_deriv2_lag13</th>\n",
       "      <th>TARGET_prevday_deriv1_lag27</th>\n",
       "      <th>TARGET_prevday_deriv2_lag27</th>\n",
       "    </tr>\n",
       "    <tr>\n",
       "      <th>dt_date</th>\n",
       "      <th></th>\n",
       "      <th></th>\n",
       "      <th></th>\n",
       "      <th></th>\n",
       "      <th></th>\n",
       "      <th></th>\n",
       "      <th></th>\n",
       "      <th></th>\n",
       "      <th></th>\n",
       "      <th></th>\n",
       "      <th></th>\n",
       "      <th></th>\n",
       "      <th></th>\n",
       "      <th></th>\n",
       "      <th></th>\n",
       "      <th></th>\n",
       "      <th></th>\n",
       "      <th></th>\n",
       "      <th></th>\n",
       "      <th></th>\n",
       "      <th></th>\n",
       "    </tr>\n",
       "  </thead>\n",
       "  <tbody>\n",
       "    <tr>\n",
       "      <th>2012-01-01</th>\n",
       "      <td>NaN</td>\n",
       "      <td>1</td>\n",
       "      <td>2012</td>\n",
       "      <td>1</td>\n",
       "      <td>Sunday</td>\n",
       "      <td>NaN</td>\n",
       "      <td>NaN</td>\n",
       "      <td>NaN</td>\n",
       "      <td>NaN</td>\n",
       "      <td>-17.208333</td>\n",
       "      <td>...</td>\n",
       "      <td>-21.625</td>\n",
       "      <td>19.708333</td>\n",
       "      <td>-18.5</td>\n",
       "      <td>16.666667</td>\n",
       "      <td>-19.416667</td>\n",
       "      <td>20.0</td>\n",
       "      <td>-23.416667</td>\n",
       "      <td>19.416667</td>\n",
       "      <td>-20.125</td>\n",
       "      <td>26.833333</td>\n",
       "    </tr>\n",
       "    <tr>\n",
       "      <th>2012-01-02</th>\n",
       "      <td>55.750000</td>\n",
       "      <td>0</td>\n",
       "      <td>2012</td>\n",
       "      <td>1</td>\n",
       "      <td>Monday</td>\n",
       "      <td>1.0</td>\n",
       "      <td>NaN</td>\n",
       "      <td>NaN</td>\n",
       "      <td>NaN</td>\n",
       "      <td>-17.208333</td>\n",
       "      <td>...</td>\n",
       "      <td>-21.625</td>\n",
       "      <td>19.708333</td>\n",
       "      <td>-18.5</td>\n",
       "      <td>16.666667</td>\n",
       "      <td>-19.416667</td>\n",
       "      <td>20.0</td>\n",
       "      <td>-23.416667</td>\n",
       "      <td>19.416667</td>\n",
       "      <td>-20.125</td>\n",
       "      <td>26.833333</td>\n",
       "    </tr>\n",
       "    <tr>\n",
       "      <th>2012-01-03</th>\n",
       "      <td>38.541667</td>\n",
       "      <td>0</td>\n",
       "      <td>2012</td>\n",
       "      <td>1</td>\n",
       "      <td>Tuesday</td>\n",
       "      <td>0.0</td>\n",
       "      <td>NaN</td>\n",
       "      <td>NaN</td>\n",
       "      <td>NaN</td>\n",
       "      <td>-17.208333</td>\n",
       "      <td>...</td>\n",
       "      <td>-21.625</td>\n",
       "      <td>19.708333</td>\n",
       "      <td>-18.5</td>\n",
       "      <td>16.666667</td>\n",
       "      <td>-19.416667</td>\n",
       "      <td>20.0</td>\n",
       "      <td>-23.416667</td>\n",
       "      <td>19.416667</td>\n",
       "      <td>-20.125</td>\n",
       "      <td>26.833333</td>\n",
       "    </tr>\n",
       "    <tr>\n",
       "      <th>2012-01-04</th>\n",
       "      <td>40.208333</td>\n",
       "      <td>0</td>\n",
       "      <td>2012</td>\n",
       "      <td>1</td>\n",
       "      <td>Wednesday</td>\n",
       "      <td>0.0</td>\n",
       "      <td>NaN</td>\n",
       "      <td>NaN</td>\n",
       "      <td>NaN</td>\n",
       "      <td>1.666667</td>\n",
       "      <td>...</td>\n",
       "      <td>-21.625</td>\n",
       "      <td>19.708333</td>\n",
       "      <td>-18.5</td>\n",
       "      <td>16.666667</td>\n",
       "      <td>-19.416667</td>\n",
       "      <td>20.0</td>\n",
       "      <td>-23.416667</td>\n",
       "      <td>19.416667</td>\n",
       "      <td>-20.125</td>\n",
       "      <td>26.833333</td>\n",
       "    </tr>\n",
       "    <tr>\n",
       "      <th>2012-01-05</th>\n",
       "      <td>32.375000</td>\n",
       "      <td>0</td>\n",
       "      <td>2012</td>\n",
       "      <td>1</td>\n",
       "      <td>Thursday</td>\n",
       "      <td>0.0</td>\n",
       "      <td>NaN</td>\n",
       "      <td>NaN</td>\n",
       "      <td>NaN</td>\n",
       "      <td>-7.833333</td>\n",
       "      <td>...</td>\n",
       "      <td>-21.625</td>\n",
       "      <td>19.708333</td>\n",
       "      <td>-18.5</td>\n",
       "      <td>16.666667</td>\n",
       "      <td>-19.416667</td>\n",
       "      <td>20.0</td>\n",
       "      <td>-23.416667</td>\n",
       "      <td>19.416667</td>\n",
       "      <td>-20.125</td>\n",
       "      <td>26.833333</td>\n",
       "    </tr>\n",
       "  </tbody>\n",
       "</table>\n",
       "<p>5 rows × 27 columns</p>\n",
       "</div>"
      ],
      "text/plain": [
       "            TARGET_prevday  flag_target  year  month  dayofweek  \\\n",
       "dt_date                                                           \n",
       "2012-01-01             NaN            1  2012      1     Sunday   \n",
       "2012-01-02       55.750000            0  2012      1     Monday   \n",
       "2012-01-03       38.541667            0  2012      1    Tuesday   \n",
       "2012-01-04       40.208333            0  2012      1  Wednesday   \n",
       "2012-01-05       32.375000            0  2012      1   Thursday   \n",
       "\n",
       "            flag_target_prevday  TARGET_prevday_lag6  TARGET_prevday_lag13  \\\n",
       "dt_date                                                                      \n",
       "2012-01-01                  NaN                  NaN                   NaN   \n",
       "2012-01-02                  1.0                  NaN                   NaN   \n",
       "2012-01-03                  0.0                  NaN                   NaN   \n",
       "2012-01-04                  0.0                  NaN                   NaN   \n",
       "2012-01-05                  0.0                  NaN                   NaN   \n",
       "\n",
       "            TARGET_prevday_lag27  TARGET_prevday_deriv1_lag1  ...  \\\n",
       "dt_date                                                       ...   \n",
       "2012-01-01                   NaN                  -17.208333  ...   \n",
       "2012-01-02                   NaN                  -17.208333  ...   \n",
       "2012-01-03                   NaN                  -17.208333  ...   \n",
       "2012-01-04                   NaN                    1.666667  ...   \n",
       "2012-01-05                   NaN                   -7.833333  ...   \n",
       "\n",
       "            TARGET_prevday_deriv1_lag5  TARGET_prevday_deriv2_lag5  \\\n",
       "dt_date                                                              \n",
       "2012-01-01                     -21.625                   19.708333   \n",
       "2012-01-02                     -21.625                   19.708333   \n",
       "2012-01-03                     -21.625                   19.708333   \n",
       "2012-01-04                     -21.625                   19.708333   \n",
       "2012-01-05                     -21.625                   19.708333   \n",
       "\n",
       "            TARGET_prevday_deriv1_lag6  TARGET_prevday_deriv2_lag6  \\\n",
       "dt_date                                                              \n",
       "2012-01-01                       -18.5                   16.666667   \n",
       "2012-01-02                       -18.5                   16.666667   \n",
       "2012-01-03                       -18.5                   16.666667   \n",
       "2012-01-04                       -18.5                   16.666667   \n",
       "2012-01-05                       -18.5                   16.666667   \n",
       "\n",
       "            TARGET_prevday_deriv1_lag7  TARGET_prevday_deriv2_lag7  \\\n",
       "dt_date                                                              \n",
       "2012-01-01                  -19.416667                        20.0   \n",
       "2012-01-02                  -19.416667                        20.0   \n",
       "2012-01-03                  -19.416667                        20.0   \n",
       "2012-01-04                  -19.416667                        20.0   \n",
       "2012-01-05                  -19.416667                        20.0   \n",
       "\n",
       "            TARGET_prevday_deriv1_lag13  TARGET_prevday_deriv2_lag13  \\\n",
       "dt_date                                                                \n",
       "2012-01-01                   -23.416667                    19.416667   \n",
       "2012-01-02                   -23.416667                    19.416667   \n",
       "2012-01-03                   -23.416667                    19.416667   \n",
       "2012-01-04                   -23.416667                    19.416667   \n",
       "2012-01-05                   -23.416667                    19.416667   \n",
       "\n",
       "            TARGET_prevday_deriv1_lag27  TARGET_prevday_deriv2_lag27  \n",
       "dt_date                                                               \n",
       "2012-01-01                      -20.125                    26.833333  \n",
       "2012-01-02                      -20.125                    26.833333  \n",
       "2012-01-03                      -20.125                    26.833333  \n",
       "2012-01-04                      -20.125                    26.833333  \n",
       "2012-01-05                      -20.125                    26.833333  \n",
       "\n",
       "[5 rows x 27 columns]"
      ]
     },
     "execution_count": 21,
     "metadata": {},
     "output_type": "execute_result"
    }
   ],
   "source": [
    "features_final.head()"
   ]
  },
  {
   "cell_type": "code",
   "execution_count": 22,
   "metadata": {},
   "outputs": [],
   "source": [
    "from src.features.feature_gen import perform_deriv_cals_multiple_columns"
   ]
  },
  {
   "cell_type": "code",
   "execution_count": 23,
   "metadata": {},
   "outputs": [],
   "source": [
    "lags_required = {'TARGET_prevday':[1,2,3,4,5,6,7,13,27]} \n",
    "features_final = perform_deriv_cals_multiple_columns(features_final, lags_required, 2)"
   ]
  },
  {
   "cell_type": "code",
   "execution_count": 24,
   "metadata": {},
   "outputs": [
    {
     "data": {
      "text/html": [
       "<div>\n",
       "<style scoped>\n",
       "    .dataframe tbody tr th:only-of-type {\n",
       "        vertical-align: middle;\n",
       "    }\n",
       "\n",
       "    .dataframe tbody tr th {\n",
       "        vertical-align: top;\n",
       "    }\n",
       "\n",
       "    .dataframe thead th {\n",
       "        text-align: right;\n",
       "    }\n",
       "</style>\n",
       "<table border=\"1\" class=\"dataframe\">\n",
       "  <thead>\n",
       "    <tr style=\"text-align: right;\">\n",
       "      <th></th>\n",
       "      <th>TARGET_prevday</th>\n",
       "      <th>flag_target</th>\n",
       "      <th>year</th>\n",
       "      <th>month</th>\n",
       "      <th>dayofweek</th>\n",
       "      <th>flag_target_prevday</th>\n",
       "      <th>TARGET_prevday_lag6</th>\n",
       "      <th>TARGET_prevday_lag13</th>\n",
       "      <th>TARGET_prevday_lag27</th>\n",
       "      <th>TARGET_prevday_deriv1_lag1</th>\n",
       "      <th>...</th>\n",
       "      <th>TARGET_prevday_deriv1_lag5</th>\n",
       "      <th>TARGET_prevday_deriv2_lag5</th>\n",
       "      <th>TARGET_prevday_deriv1_lag6</th>\n",
       "      <th>TARGET_prevday_deriv2_lag6</th>\n",
       "      <th>TARGET_prevday_deriv1_lag7</th>\n",
       "      <th>TARGET_prevday_deriv2_lag7</th>\n",
       "      <th>TARGET_prevday_deriv1_lag13</th>\n",
       "      <th>TARGET_prevday_deriv2_lag13</th>\n",
       "      <th>TARGET_prevday_deriv1_lag27</th>\n",
       "      <th>TARGET_prevday_deriv2_lag27</th>\n",
       "    </tr>\n",
       "    <tr>\n",
       "      <th>dt_date</th>\n",
       "      <th></th>\n",
       "      <th></th>\n",
       "      <th></th>\n",
       "      <th></th>\n",
       "      <th></th>\n",
       "      <th></th>\n",
       "      <th></th>\n",
       "      <th></th>\n",
       "      <th></th>\n",
       "      <th></th>\n",
       "      <th></th>\n",
       "      <th></th>\n",
       "      <th></th>\n",
       "      <th></th>\n",
       "      <th></th>\n",
       "      <th></th>\n",
       "      <th></th>\n",
       "      <th></th>\n",
       "      <th></th>\n",
       "      <th></th>\n",
       "      <th></th>\n",
       "    </tr>\n",
       "  </thead>\n",
       "  <tbody>\n",
       "    <tr>\n",
       "      <th>2012-01-01</th>\n",
       "      <td>NaN</td>\n",
       "      <td>1</td>\n",
       "      <td>2012</td>\n",
       "      <td>1</td>\n",
       "      <td>Sunday</td>\n",
       "      <td>NaN</td>\n",
       "      <td>NaN</td>\n",
       "      <td>NaN</td>\n",
       "      <td>NaN</td>\n",
       "      <td>-17.208333</td>\n",
       "      <td>...</td>\n",
       "      <td>-21.625</td>\n",
       "      <td>19.708333</td>\n",
       "      <td>-18.5</td>\n",
       "      <td>16.666667</td>\n",
       "      <td>-19.416667</td>\n",
       "      <td>20.0</td>\n",
       "      <td>-23.416667</td>\n",
       "      <td>19.416667</td>\n",
       "      <td>-20.125</td>\n",
       "      <td>26.833333</td>\n",
       "    </tr>\n",
       "    <tr>\n",
       "      <th>2012-01-02</th>\n",
       "      <td>55.750000</td>\n",
       "      <td>0</td>\n",
       "      <td>2012</td>\n",
       "      <td>1</td>\n",
       "      <td>Monday</td>\n",
       "      <td>1.0</td>\n",
       "      <td>NaN</td>\n",
       "      <td>NaN</td>\n",
       "      <td>NaN</td>\n",
       "      <td>-17.208333</td>\n",
       "      <td>...</td>\n",
       "      <td>-21.625</td>\n",
       "      <td>19.708333</td>\n",
       "      <td>-18.5</td>\n",
       "      <td>16.666667</td>\n",
       "      <td>-19.416667</td>\n",
       "      <td>20.0</td>\n",
       "      <td>-23.416667</td>\n",
       "      <td>19.416667</td>\n",
       "      <td>-20.125</td>\n",
       "      <td>26.833333</td>\n",
       "    </tr>\n",
       "    <tr>\n",
       "      <th>2012-01-03</th>\n",
       "      <td>38.541667</td>\n",
       "      <td>0</td>\n",
       "      <td>2012</td>\n",
       "      <td>1</td>\n",
       "      <td>Tuesday</td>\n",
       "      <td>0.0</td>\n",
       "      <td>NaN</td>\n",
       "      <td>NaN</td>\n",
       "      <td>NaN</td>\n",
       "      <td>-17.208333</td>\n",
       "      <td>...</td>\n",
       "      <td>-21.625</td>\n",
       "      <td>19.708333</td>\n",
       "      <td>-18.5</td>\n",
       "      <td>16.666667</td>\n",
       "      <td>-19.416667</td>\n",
       "      <td>20.0</td>\n",
       "      <td>-23.416667</td>\n",
       "      <td>19.416667</td>\n",
       "      <td>-20.125</td>\n",
       "      <td>26.833333</td>\n",
       "    </tr>\n",
       "    <tr>\n",
       "      <th>2012-01-04</th>\n",
       "      <td>40.208333</td>\n",
       "      <td>0</td>\n",
       "      <td>2012</td>\n",
       "      <td>1</td>\n",
       "      <td>Wednesday</td>\n",
       "      <td>0.0</td>\n",
       "      <td>NaN</td>\n",
       "      <td>NaN</td>\n",
       "      <td>NaN</td>\n",
       "      <td>1.666667</td>\n",
       "      <td>...</td>\n",
       "      <td>-21.625</td>\n",
       "      <td>19.708333</td>\n",
       "      <td>-18.5</td>\n",
       "      <td>16.666667</td>\n",
       "      <td>-19.416667</td>\n",
       "      <td>20.0</td>\n",
       "      <td>-23.416667</td>\n",
       "      <td>19.416667</td>\n",
       "      <td>-20.125</td>\n",
       "      <td>26.833333</td>\n",
       "    </tr>\n",
       "    <tr>\n",
       "      <th>2012-01-05</th>\n",
       "      <td>32.375000</td>\n",
       "      <td>0</td>\n",
       "      <td>2012</td>\n",
       "      <td>1</td>\n",
       "      <td>Thursday</td>\n",
       "      <td>0.0</td>\n",
       "      <td>NaN</td>\n",
       "      <td>NaN</td>\n",
       "      <td>NaN</td>\n",
       "      <td>-7.833333</td>\n",
       "      <td>...</td>\n",
       "      <td>-21.625</td>\n",
       "      <td>19.708333</td>\n",
       "      <td>-18.5</td>\n",
       "      <td>16.666667</td>\n",
       "      <td>-19.416667</td>\n",
       "      <td>20.0</td>\n",
       "      <td>-23.416667</td>\n",
       "      <td>19.416667</td>\n",
       "      <td>-20.125</td>\n",
       "      <td>26.833333</td>\n",
       "    </tr>\n",
       "  </tbody>\n",
       "</table>\n",
       "<p>5 rows × 27 columns</p>\n",
       "</div>"
      ],
      "text/plain": [
       "            TARGET_prevday  flag_target  year  month  dayofweek  \\\n",
       "dt_date                                                           \n",
       "2012-01-01             NaN            1  2012      1     Sunday   \n",
       "2012-01-02       55.750000            0  2012      1     Monday   \n",
       "2012-01-03       38.541667            0  2012      1    Tuesday   \n",
       "2012-01-04       40.208333            0  2012      1  Wednesday   \n",
       "2012-01-05       32.375000            0  2012      1   Thursday   \n",
       "\n",
       "            flag_target_prevday  TARGET_prevday_lag6  TARGET_prevday_lag13  \\\n",
       "dt_date                                                                      \n",
       "2012-01-01                  NaN                  NaN                   NaN   \n",
       "2012-01-02                  1.0                  NaN                   NaN   \n",
       "2012-01-03                  0.0                  NaN                   NaN   \n",
       "2012-01-04                  0.0                  NaN                   NaN   \n",
       "2012-01-05                  0.0                  NaN                   NaN   \n",
       "\n",
       "            TARGET_prevday_lag27  TARGET_prevday_deriv1_lag1  ...  \\\n",
       "dt_date                                                       ...   \n",
       "2012-01-01                   NaN                  -17.208333  ...   \n",
       "2012-01-02                   NaN                  -17.208333  ...   \n",
       "2012-01-03                   NaN                  -17.208333  ...   \n",
       "2012-01-04                   NaN                    1.666667  ...   \n",
       "2012-01-05                   NaN                   -7.833333  ...   \n",
       "\n",
       "            TARGET_prevday_deriv1_lag5  TARGET_prevday_deriv2_lag5  \\\n",
       "dt_date                                                              \n",
       "2012-01-01                     -21.625                   19.708333   \n",
       "2012-01-02                     -21.625                   19.708333   \n",
       "2012-01-03                     -21.625                   19.708333   \n",
       "2012-01-04                     -21.625                   19.708333   \n",
       "2012-01-05                     -21.625                   19.708333   \n",
       "\n",
       "            TARGET_prevday_deriv1_lag6  TARGET_prevday_deriv2_lag6  \\\n",
       "dt_date                                                              \n",
       "2012-01-01                       -18.5                   16.666667   \n",
       "2012-01-02                       -18.5                   16.666667   \n",
       "2012-01-03                       -18.5                   16.666667   \n",
       "2012-01-04                       -18.5                   16.666667   \n",
       "2012-01-05                       -18.5                   16.666667   \n",
       "\n",
       "            TARGET_prevday_deriv1_lag7  TARGET_prevday_deriv2_lag7  \\\n",
       "dt_date                                                              \n",
       "2012-01-01                  -19.416667                        20.0   \n",
       "2012-01-02                  -19.416667                        20.0   \n",
       "2012-01-03                  -19.416667                        20.0   \n",
       "2012-01-04                  -19.416667                        20.0   \n",
       "2012-01-05                  -19.416667                        20.0   \n",
       "\n",
       "            TARGET_prevday_deriv1_lag13  TARGET_prevday_deriv2_lag13  \\\n",
       "dt_date                                                                \n",
       "2012-01-01                   -23.416667                    19.416667   \n",
       "2012-01-02                   -23.416667                    19.416667   \n",
       "2012-01-03                   -23.416667                    19.416667   \n",
       "2012-01-04                   -23.416667                    19.416667   \n",
       "2012-01-05                   -23.416667                    19.416667   \n",
       "\n",
       "            TARGET_prevday_deriv1_lag27  TARGET_prevday_deriv2_lag27  \n",
       "dt_date                                                               \n",
       "2012-01-01                      -20.125                    26.833333  \n",
       "2012-01-02                      -20.125                    26.833333  \n",
       "2012-01-03                      -20.125                    26.833333  \n",
       "2012-01-04                      -20.125                    26.833333  \n",
       "2012-01-05                      -20.125                    26.833333  \n",
       "\n",
       "[5 rows x 27 columns]"
      ]
     },
     "execution_count": 24,
     "metadata": {},
     "output_type": "execute_result"
    }
   ],
   "source": [
    "features_final.head()"
   ]
  },
  {
   "cell_type": "code",
   "execution_count": 25,
   "metadata": {},
   "outputs": [],
   "source": [
    "%matplotlib inline"
   ]
  },
  {
   "cell_type": "code",
   "execution_count": 26,
   "metadata": {},
   "outputs": [
    {
     "data": {
      "text/plain": [
       "<matplotlib.axes._subplots.AxesSubplot at 0x1d82c90c860>"
      ]
     },
     "execution_count": 26,
     "metadata": {},
     "output_type": "execute_result"
    },
    {
     "data": {
      "image/png": "[encoded data removed]",
      "text/plain": [
       "<Figure size 1296x288 with 1 Axes>"
      ]
     },
     "metadata": {
      "needs_background": "light"
     },
     "output_type": "display_data"
    }
   ],
   "source": [
    "features_final[['TARGET_prevday','TARGET_prevday_deriv1_lag1','TARGET_prevday_deriv2_lag1']].iloc[0:90].plot(figsize=(18,4))"
   ]
  },
  {
   "cell_type": "code",
   "execution_count": 27,
   "metadata": {},
   "outputs": [
    {
     "data": {
      "text/plain": [
       "<matplotlib.axes._subplots.AxesSubplot at 0x1d82cec64e0>"
      ]
     },
     "execution_count": 27,
     "metadata": {},
     "output_type": "execute_result"
    },
    {
     "data": {
      "image/png": "[encoded data removed]",
      "text/plain": [
       "<Figure size 1296x288 with 1 Axes>"
      ]
     },
     "metadata": {
      "needs_background": "light"
     },
     "output_type": "display_data"
    }
   ],
   "source": [
    "features_final[['TARGET_prevday','TARGET_prevday_deriv1_lag3','TARGET_prevday_deriv2_lag3']].iloc[0:90].plot(figsize=(18,4))"
   ]
  },
  {
   "cell_type": "code",
   "execution_count": 28,
   "metadata": {},
   "outputs": [
    {
     "data": {
      "text/plain": [
       "<matplotlib.axes._subplots.AxesSubplot at 0x1d82cdd2320>"
      ]
     },
     "execution_count": 28,
     "metadata": {},
     "output_type": "execute_result"
    },
    {
     "data": {
      "image/png": "[encoded data removed]",
      "text/plain": [
       "<Figure size 1296x288 with 1 Axes>"
      ]
     },
     "metadata": {
      "needs_background": "light"
     },
     "output_type": "display_data"
    }
   ],
   "source": [
    "features_final[['TARGET_prevday','TARGET_prevday_deriv1_lag7','TARGET_prevday_deriv2_lag7']].iloc[0:90].plot(figsize=(18,4))"
   ]
  },
  {
   "cell_type": "code",
   "execution_count": 29,
   "metadata": {},
   "outputs": [
    {
     "data": {
      "text/plain": [
       "Index(['TARGET_prevday', 'flag_target', 'year', 'month', 'dayofweek',\n",
       "       'flag_target_prevday', 'TARGET_prevday_lag6', 'TARGET_prevday_lag13',\n",
       "       'TARGET_prevday_lag27', 'TARGET_prevday_deriv1_lag1',\n",
       "       'TARGET_prevday_deriv2_lag1', 'TARGET_prevday_deriv1_lag2',\n",
       "       'TARGET_prevday_deriv2_lag2', 'TARGET_prevday_deriv1_lag3',\n",
       "       'TARGET_prevday_deriv2_lag3', 'TARGET_prevday_deriv1_lag4',\n",
       "       'TARGET_prevday_deriv2_lag4', 'TARGET_prevday_deriv1_lag5',\n",
       "       'TARGET_prevday_deriv2_lag5', 'TARGET_prevday_deriv1_lag6',\n",
       "       'TARGET_prevday_deriv2_lag6', 'TARGET_prevday_deriv1_lag7',\n",
       "       'TARGET_prevday_deriv2_lag7', 'TARGET_prevday_deriv1_lag13',\n",
       "       'TARGET_prevday_deriv2_lag13', 'TARGET_prevday_deriv1_lag27',\n",
       "       'TARGET_prevday_deriv2_lag27'],\n",
       "      dtype='object')"
      ]
     },
     "execution_count": 29,
     "metadata": {},
     "output_type": "execute_result"
    }
   ],
   "source": [
    "features_final.columns"
   ]
  },
  {
   "cell_type": "code",
   "execution_count": 30,
   "metadata": {},
   "outputs": [
    {
     "data": {
      "text/html": [
       "<div>\n",
       "<style scoped>\n",
       "    .dataframe tbody tr th:only-of-type {\n",
       "        vertical-align: middle;\n",
       "    }\n",
       "\n",
       "    .dataframe tbody tr th {\n",
       "        vertical-align: top;\n",
       "    }\n",
       "\n",
       "    .dataframe thead th {\n",
       "        text-align: right;\n",
       "    }\n",
       "</style>\n",
       "<table border=\"1\" class=\"dataframe\">\n",
       "  <thead>\n",
       "    <tr style=\"text-align: right;\">\n",
       "      <th></th>\n",
       "      <th>TARGET_prevday</th>\n",
       "      <th>flag_target</th>\n",
       "      <th>year</th>\n",
       "      <th>month</th>\n",
       "      <th>dayofweek</th>\n",
       "      <th>flag_target_prevday</th>\n",
       "      <th>TARGET_prevday_lag6</th>\n",
       "      <th>TARGET_prevday_lag13</th>\n",
       "      <th>TARGET_prevday_lag27</th>\n",
       "      <th>TARGET_prevday_deriv1_lag1</th>\n",
       "      <th>...</th>\n",
       "      <th>TARGET_prevday_deriv1_lag5</th>\n",
       "      <th>TARGET_prevday_deriv2_lag5</th>\n",
       "      <th>TARGET_prevday_deriv1_lag6</th>\n",
       "      <th>TARGET_prevday_deriv2_lag6</th>\n",
       "      <th>TARGET_prevday_deriv1_lag7</th>\n",
       "      <th>TARGET_prevday_deriv2_lag7</th>\n",
       "      <th>TARGET_prevday_deriv1_lag13</th>\n",
       "      <th>TARGET_prevday_deriv2_lag13</th>\n",
       "      <th>TARGET_prevday_deriv1_lag27</th>\n",
       "      <th>TARGET_prevday_deriv2_lag27</th>\n",
       "    </tr>\n",
       "    <tr>\n",
       "      <th>dt_date</th>\n",
       "      <th></th>\n",
       "      <th></th>\n",
       "      <th></th>\n",
       "      <th></th>\n",
       "      <th></th>\n",
       "      <th></th>\n",
       "      <th></th>\n",
       "      <th></th>\n",
       "      <th></th>\n",
       "      <th></th>\n",
       "      <th></th>\n",
       "      <th></th>\n",
       "      <th></th>\n",
       "      <th></th>\n",
       "      <th></th>\n",
       "      <th></th>\n",
       "      <th></th>\n",
       "      <th></th>\n",
       "      <th></th>\n",
       "      <th></th>\n",
       "      <th></th>\n",
       "    </tr>\n",
       "  </thead>\n",
       "  <tbody>\n",
       "    <tr>\n",
       "      <th>2012-01-01</th>\n",
       "      <td>NaN</td>\n",
       "      <td>1</td>\n",
       "      <td>2012</td>\n",
       "      <td>1</td>\n",
       "      <td>Sunday</td>\n",
       "      <td>NaN</td>\n",
       "      <td>NaN</td>\n",
       "      <td>NaN</td>\n",
       "      <td>NaN</td>\n",
       "      <td>-17.208333</td>\n",
       "      <td>...</td>\n",
       "      <td>-21.625</td>\n",
       "      <td>19.708333</td>\n",
       "      <td>-18.5</td>\n",
       "      <td>16.666667</td>\n",
       "      <td>-19.416667</td>\n",
       "      <td>20.0</td>\n",
       "      <td>-23.416667</td>\n",
       "      <td>19.416667</td>\n",
       "      <td>-20.125</td>\n",
       "      <td>26.833333</td>\n",
       "    </tr>\n",
       "    <tr>\n",
       "      <th>2012-01-02</th>\n",
       "      <td>55.750000</td>\n",
       "      <td>0</td>\n",
       "      <td>2012</td>\n",
       "      <td>1</td>\n",
       "      <td>Monday</td>\n",
       "      <td>1.0</td>\n",
       "      <td>NaN</td>\n",
       "      <td>NaN</td>\n",
       "      <td>NaN</td>\n",
       "      <td>-17.208333</td>\n",
       "      <td>...</td>\n",
       "      <td>-21.625</td>\n",
       "      <td>19.708333</td>\n",
       "      <td>-18.5</td>\n",
       "      <td>16.666667</td>\n",
       "      <td>-19.416667</td>\n",
       "      <td>20.0</td>\n",
       "      <td>-23.416667</td>\n",
       "      <td>19.416667</td>\n",
       "      <td>-20.125</td>\n",
       "      <td>26.833333</td>\n",
       "    </tr>\n",
       "    <tr>\n",
       "      <th>2012-01-03</th>\n",
       "      <td>38.541667</td>\n",
       "      <td>0</td>\n",
       "      <td>2012</td>\n",
       "      <td>1</td>\n",
       "      <td>Tuesday</td>\n",
       "      <td>0.0</td>\n",
       "      <td>NaN</td>\n",
       "      <td>NaN</td>\n",
       "      <td>NaN</td>\n",
       "      <td>-17.208333</td>\n",
       "      <td>...</td>\n",
       "      <td>-21.625</td>\n",
       "      <td>19.708333</td>\n",
       "      <td>-18.5</td>\n",
       "      <td>16.666667</td>\n",
       "      <td>-19.416667</td>\n",
       "      <td>20.0</td>\n",
       "      <td>-23.416667</td>\n",
       "      <td>19.416667</td>\n",
       "      <td>-20.125</td>\n",
       "      <td>26.833333</td>\n",
       "    </tr>\n",
       "    <tr>\n",
       "      <th>2012-01-04</th>\n",
       "      <td>40.208333</td>\n",
       "      <td>0</td>\n",
       "      <td>2012</td>\n",
       "      <td>1</td>\n",
       "      <td>Wednesday</td>\n",
       "      <td>0.0</td>\n",
       "      <td>NaN</td>\n",
       "      <td>NaN</td>\n",
       "      <td>NaN</td>\n",
       "      <td>1.666667</td>\n",
       "      <td>...</td>\n",
       "      <td>-21.625</td>\n",
       "      <td>19.708333</td>\n",
       "      <td>-18.5</td>\n",
       "      <td>16.666667</td>\n",
       "      <td>-19.416667</td>\n",
       "      <td>20.0</td>\n",
       "      <td>-23.416667</td>\n",
       "      <td>19.416667</td>\n",
       "      <td>-20.125</td>\n",
       "      <td>26.833333</td>\n",
       "    </tr>\n",
       "    <tr>\n",
       "      <th>2012-01-05</th>\n",
       "      <td>32.375000</td>\n",
       "      <td>0</td>\n",
       "      <td>2012</td>\n",
       "      <td>1</td>\n",
       "      <td>Thursday</td>\n",
       "      <td>0.0</td>\n",
       "      <td>NaN</td>\n",
       "      <td>NaN</td>\n",
       "      <td>NaN</td>\n",
       "      <td>-7.833333</td>\n",
       "      <td>...</td>\n",
       "      <td>-21.625</td>\n",
       "      <td>19.708333</td>\n",
       "      <td>-18.5</td>\n",
       "      <td>16.666667</td>\n",
       "      <td>-19.416667</td>\n",
       "      <td>20.0</td>\n",
       "      <td>-23.416667</td>\n",
       "      <td>19.416667</td>\n",
       "      <td>-20.125</td>\n",
       "      <td>26.833333</td>\n",
       "    </tr>\n",
       "  </tbody>\n",
       "</table>\n",
       "<p>5 rows × 27 columns</p>\n",
       "</div>"
      ],
      "text/plain": [
       "            TARGET_prevday  flag_target  year  month  dayofweek  \\\n",
       "dt_date                                                           \n",
       "2012-01-01             NaN            1  2012      1     Sunday   \n",
       "2012-01-02       55.750000            0  2012      1     Monday   \n",
       "2012-01-03       38.541667            0  2012      1    Tuesday   \n",
       "2012-01-04       40.208333            0  2012      1  Wednesday   \n",
       "2012-01-05       32.375000            0  2012      1   Thursday   \n",
       "\n",
       "            flag_target_prevday  TARGET_prevday_lag6  TARGET_prevday_lag13  \\\n",
       "dt_date                                                                      \n",
       "2012-01-01                  NaN                  NaN                   NaN   \n",
       "2012-01-02                  1.0                  NaN                   NaN   \n",
       "2012-01-03                  0.0                  NaN                   NaN   \n",
       "2012-01-04                  0.0                  NaN                   NaN   \n",
       "2012-01-05                  0.0                  NaN                   NaN   \n",
       "\n",
       "            TARGET_prevday_lag27  TARGET_prevday_deriv1_lag1  ...  \\\n",
       "dt_date                                                       ...   \n",
       "2012-01-01                   NaN                  -17.208333  ...   \n",
       "2012-01-02                   NaN                  -17.208333  ...   \n",
       "2012-01-03                   NaN                  -17.208333  ...   \n",
       "2012-01-04                   NaN                    1.666667  ...   \n",
       "2012-01-05                   NaN                   -7.833333  ...   \n",
       "\n",
       "            TARGET_prevday_deriv1_lag5  TARGET_prevday_deriv2_lag5  \\\n",
       "dt_date                                                              \n",
       "2012-01-01                     -21.625                   19.708333   \n",
       "2012-01-02                     -21.625                   19.708333   \n",
       "2012-01-03                     -21.625                   19.708333   \n",
       "2012-01-04                     -21.625                   19.708333   \n",
       "2012-01-05                     -21.625                   19.708333   \n",
       "\n",
       "            TARGET_prevday_deriv1_lag6  TARGET_prevday_deriv2_lag6  \\\n",
       "dt_date                                                              \n",
       "2012-01-01                       -18.5                   16.666667   \n",
       "2012-01-02                       -18.5                   16.666667   \n",
       "2012-01-03                       -18.5                   16.666667   \n",
       "2012-01-04                       -18.5                   16.666667   \n",
       "2012-01-05                       -18.5                   16.666667   \n",
       "\n",
       "            TARGET_prevday_deriv1_lag7  TARGET_prevday_deriv2_lag7  \\\n",
       "dt_date                                                              \n",
       "2012-01-01                  -19.416667                        20.0   \n",
       "2012-01-02                  -19.416667                        20.0   \n",
       "2012-01-03                  -19.416667                        20.0   \n",
       "2012-01-04                  -19.416667                        20.0   \n",
       "2012-01-05                  -19.416667                        20.0   \n",
       "\n",
       "            TARGET_prevday_deriv1_lag13  TARGET_prevday_deriv2_lag13  \\\n",
       "dt_date                                                                \n",
       "2012-01-01                   -23.416667                    19.416667   \n",
       "2012-01-02                   -23.416667                    19.416667   \n",
       "2012-01-03                   -23.416667                    19.416667   \n",
       "2012-01-04                   -23.416667                    19.416667   \n",
       "2012-01-05                   -23.416667                    19.416667   \n",
       "\n",
       "            TARGET_prevday_deriv1_lag27  TARGET_prevday_deriv2_lag27  \n",
       "dt_date                                                               \n",
       "2012-01-01                      -20.125                    26.833333  \n",
       "2012-01-02                      -20.125                    26.833333  \n",
       "2012-01-03                      -20.125                    26.833333  \n",
       "2012-01-04                      -20.125                    26.833333  \n",
       "2012-01-05                      -20.125                    26.833333  \n",
       "\n",
       "[5 rows x 27 columns]"
      ]
     },
     "execution_count": 30,
     "metadata": {},
     "output_type": "execute_result"
    }
   ],
   "source": [
    "features_final.head()"
   ]
  },
  {
   "cell_type": "markdown",
   "metadata": {},
   "source": [
    "## check and remove nans"
   ]
  },
  {
   "cell_type": "code",
   "execution_count": 31,
   "metadata": {},
   "outputs": [
    {
     "data": {
      "text/plain": [
       "TARGET_prevday                  1\n",
       "flag_target                     0\n",
       "year                            0\n",
       "month                           0\n",
       "dayofweek                       0\n",
       "flag_target_prevday             1\n",
       "TARGET_prevday_lag6             7\n",
       "TARGET_prevday_lag13           14\n",
       "TARGET_prevday_lag27           28\n",
       "TARGET_prevday_deriv1_lag1      0\n",
       "TARGET_prevday_deriv2_lag1      0\n",
       "TARGET_prevday_deriv1_lag2      0\n",
       "TARGET_prevday_deriv2_lag2      0\n",
       "TARGET_prevday_deriv1_lag3      0\n",
       "TARGET_prevday_deriv2_lag3      0\n",
       "TARGET_prevday_deriv1_lag4      0\n",
       "TARGET_prevday_deriv2_lag4      0\n",
       "TARGET_prevday_deriv1_lag5      0\n",
       "TARGET_prevday_deriv2_lag5      0\n",
       "TARGET_prevday_deriv1_lag6      0\n",
       "TARGET_prevday_deriv2_lag6      0\n",
       "TARGET_prevday_deriv1_lag7      0\n",
       "TARGET_prevday_deriv2_lag7      0\n",
       "TARGET_prevday_deriv1_lag13     0\n",
       "TARGET_prevday_deriv2_lag13     0\n",
       "TARGET_prevday_deriv1_lag27     0\n",
       "TARGET_prevday_deriv2_lag27     0\n",
       "dtype: int64"
      ]
     },
     "execution_count": 31,
     "metadata": {},
     "output_type": "execute_result"
    }
   ],
   "source": [
    "features_final.isnull().sum()"
   ]
  },
  {
   "cell_type": "code",
   "execution_count": 32,
   "metadata": {},
   "outputs": [],
   "source": [
    "features_final.dropna(inplace=True)"
   ]
  },
  {
   "cell_type": "markdown",
   "metadata": {},
   "source": [
    "# Processing\n",
    "\n",
    "#### split test and train sets"
   ]
  },
  {
   "cell_type": "code",
   "execution_count": 33,
   "metadata": {},
   "outputs": [],
   "source": [
    "from src.data.preprocess import make_timeseries_test_train_splits"
   ]
  },
  {
   "cell_type": "code",
   "execution_count": 34,
   "metadata": {},
   "outputs": [
    {
     "name": "stdout",
     "output_type": "stream",
     "text": [
      "DATA POINTS:\n",
      "orig size 2437\n",
      "training:  2072\n",
      "testing:  365\n"
     ]
    }
   ],
   "source": [
    "X_train, X_test, y_train, y_test = make_timeseries_test_train_splits(features_final, 'flag_target', 365)"
   ]
  },
  {
   "cell_type": "code",
   "execution_count": null,
   "metadata": {},
   "outputs": [],
   "source": []
  },
  {
   "cell_type": "code",
   "execution_count": null,
   "metadata": {},
   "outputs": [],
   "source": []
  },
  {
   "cell_type": "code",
   "execution_count": 35,
   "metadata": {},
   "outputs": [],
   "source": [
    "from src.data.preprocess import get_variable_types_lists, check_for_catagorical_type_difference_between_train_test, change_feature_types_to_numeric\n",
    "    \n",
    "\n",
    "# num_features, cat_features, bin_features = get_variable_types_lists(X_train)"
   ]
  },
  {
   "cell_type": "code",
   "execution_count": 36,
   "metadata": {},
   "outputs": [
    {
     "data": {
      "text/plain": [
       "Index(['TARGET_prevday', 'year', 'month', 'dayofweek', 'flag_target_prevday',\n",
       "       'TARGET_prevday_lag6', 'TARGET_prevday_lag13', 'TARGET_prevday_lag27',\n",
       "       'TARGET_prevday_deriv1_lag1', 'TARGET_prevday_deriv2_lag1',\n",
       "       'TARGET_prevday_deriv1_lag2', 'TARGET_prevday_deriv2_lag2',\n",
       "       'TARGET_prevday_deriv1_lag3', 'TARGET_prevday_deriv2_lag3',\n",
       "       'TARGET_prevday_deriv1_lag4', 'TARGET_prevday_deriv2_lag4',\n",
       "       'TARGET_prevday_deriv1_lag5', 'TARGET_prevday_deriv2_lag5',\n",
       "       'TARGET_prevday_deriv1_lag6', 'TARGET_prevday_deriv2_lag6',\n",
       "       'TARGET_prevday_deriv1_lag7', 'TARGET_prevday_deriv2_lag7',\n",
       "       'TARGET_prevday_deriv1_lag13', 'TARGET_prevday_deriv2_lag13',\n",
       "       'TARGET_prevday_deriv1_lag27', 'TARGET_prevday_deriv2_lag27'],\n",
       "      dtype='object')"
      ]
     },
     "execution_count": 36,
     "metadata": {},
     "output_type": "execute_result"
    }
   ],
   "source": [
    "X_train.columns"
   ]
  },
  {
   "cell_type": "code",
   "execution_count": 37,
   "metadata": {},
   "outputs": [],
   "source": [
    "cat_features = ['month','dayofweek']\n",
    "num_features = list(set(X_train.columns) - set(cat_features))\n",
    "bin_features = []"
   ]
  },
  {
   "cell_type": "markdown",
   "metadata": {},
   "source": [
    "#### find problem columns that will crash preprocessing pipleine when converting test data"
   ]
  },
  {
   "cell_type": "code",
   "execution_count": 38,
   "metadata": {},
   "outputs": [],
   "source": [
    "problem_col_list = check_for_catagorical_type_difference_between_train_test(X_train, X_test, cat_features)"
   ]
  },
  {
   "cell_type": "code",
   "execution_count": 39,
   "metadata": {},
   "outputs": [],
   "source": [
    "problem_col_list"
   ]
  },
  {
   "cell_type": "markdown",
   "metadata": {},
   "source": [
    "Treat problem features as numerical so that process can continue.\n"
   ]
  },
  {
   "cell_type": "markdown",
   "metadata": {},
   "source": [
    "- use sklearn pipelines to clean\n"
   ]
  },
  {
   "cell_type": "code",
   "execution_count": 40,
   "metadata": {},
   "outputs": [],
   "source": [
    "# version 19.2\n",
    "from sklearn.pipeline import Pipeline\n",
    "from sklearn.pipeline import FeatureUnion\n",
    "\n",
    "from sklearn.preprocessing import StandardScaler\n",
    "from sklearn.impute import SimpleImputer\n",
    "from sklearn.preprocessing import LabelEncoder\n",
    "from sklearn.preprocessing import OneHotEncoder \n",
    "\n",
    "from sklearn.feature_selection import SelectKBest\n",
    "from sklearn.feature_selection import f_classif\n",
    "\n",
    "from src.data.preprocess import DataFrameSelector, MakeBooleanAnInteger"
   ]
  },
  {
   "cell_type": "markdown",
   "metadata": {},
   "source": [
    "for col_name in cat_features:\n",
    "    values_list = X_train[col_name].unique()\n",
    "    for value in values_list:\n",
    "        print(col_name + '_' + str(value))"
   ]
  },
  {
   "cell_type": "code",
   "execution_count": 41,
   "metadata": {},
   "outputs": [],
   "source": [
    "#### failed to get this to work as kept doubling size of output array. Didnt matter if get_col_list_for_after_pipeline fundtion was inside or outside of DataFrameReform class.\n",
    "\n",
    "\n",
    "from sklearn.base import BaseEstimator, TransformerMixin\n",
    "\n",
    "class DataFrameReform(BaseEstimator,TransformerMixin):\n",
    "    \" Takes numpy array and forms into dataframe with column names.\"\n",
    "    def __init__(self, new_features_list):\n",
    "        self.new_features_list = new_features_list\n",
    "    def fit(self, X, y=None):\n",
    "        return self\n",
    "    def transform(self,X):        \n",
    "        return(pd.DataFrame(X, columns = self.new_features_list))"
   ]
  },
  {
   "cell_type": "code",
   "execution_count": null,
   "metadata": {},
   "outputs": [],
   "source": []
  },
  {
   "cell_type": "code",
   "execution_count": 42,
   "metadata": {},
   "outputs": [],
   "source": [
    "num_pipeline = Pipeline([\n",
    "    ('selector',DataFrameSelector(num_features)),\n",
    "    # lagger\n",
    "    # derivative\n",
    "    ('feature_filter',SelectKBest(f_classif,k='all')),\n",
    "    ('imputer',SimpleImputer(strategy='median')),\n",
    "    ('std_scaler',StandardScaler()),\n",
    "])\n",
    "\n",
    "cat_pipeline = Pipeline([\n",
    "    ('selector',DataFrameSelector(cat_features)),\n",
    "    ('imputer',SimpleImputer(strategy='most_frequent')),\n",
    "    ('OneHot_encoder',OneHotEncoder(sparse=False))\n",
    "])\n",
    "\n",
    "bin_pipeline = Pipeline([\n",
    "    ('selector',DataFrameSelector(bin_features)),\n",
    "    ('boolean_conversion',MakeBooleanAnInteger()),\n",
    "    ('imputer',SimpleImputer(strategy='most_frequent')),\n",
    "    #('encoding',LabelEncoder()),\n",
    "])\n",
    "\n",
    "# df_reform_pipeline = Pipeline([\n",
    "#     ('reform_df', DataFrameReform(new_features_list))\n",
    "# ])\n",
    "\n",
    "#### create list of pipelines to include\n",
    "\n",
    "pipes_list = [\n",
    "    ('num_pipeline',num_pipeline),\n",
    "  ('cat_pipeline',cat_pipeline),\n",
    "#   ('bin_pipeline',bin_pipeline),\n",
    "#     ('df_reform_pipeline', df_reform_pipeline)\n",
    "]\n",
    "\n",
    "full_pipeline = FeatureUnion(transformer_list=pipes_list\n",
    ")\n",
    "\n",
    "\n",
    "X_trainT = full_pipeline.fit_transform(X_train,y_train)\n",
    "X_testT = full_pipeline.transform(X_test)"
   ]
  },
  {
   "cell_type": "code",
   "execution_count": 43,
   "metadata": {},
   "outputs": [
    {
     "data": {
      "text/plain": [
       "(2072, 26)"
      ]
     },
     "execution_count": 43,
     "metadata": {},
     "output_type": "execute_result"
    }
   ],
   "source": [
    "X_train.shape"
   ]
  },
  {
   "cell_type": "code",
   "execution_count": 44,
   "metadata": {},
   "outputs": [
    {
     "data": {
      "text/plain": [
       "(2072, 43)"
      ]
     },
     "execution_count": 44,
     "metadata": {},
     "output_type": "execute_result"
    }
   ],
   "source": [
    "X_trainT.shape"
   ]
  },
  {
   "cell_type": "code",
   "execution_count": 45,
   "metadata": {},
   "outputs": [],
   "source": [
    "def get_col_list_for_after_pipeline(X, num_features, cat_features, bin_features):\n",
    "    cat_features_new = []\n",
    "    #### get new names for cat_features - must do here, otherwise when call fit transform the cat_features_new is appedned too twice.\n",
    "#     print('TRANSFORM METHOD')\n",
    "    for col_name in cat_features:\n",
    "#         print('CAT FEATURES LOOP', col_name)\n",
    "        values_list = X[col_name].unique()\n",
    "        for value in values_list:\n",
    "            cat_features_new.append(col_name + '_' + str(value))\n",
    "#         print(cat_features_new)\n",
    "    \n",
    "    columns_list = num_features + cat_features_new + bin_features\n",
    "#     print(len(columns_list))\n",
    "    return(columns_list)\n",
    "\n",
    "new_features_list = get_col_list_for_after_pipeline(X_train, num_features, cat_features, bin_features)"
   ]
  },
  {
   "cell_type": "code",
   "execution_count": 46,
   "metadata": {},
   "outputs": [],
   "source": [
    "def reform_df(X, new_features_list):\n",
    "    return(pd.DataFrame(X, columns= new_features_list))\n",
    "\n",
    "X_trainT = reform_df(X_trainT, new_features_list)\n",
    "X_testT = reform_df(X_testT, new_features_list)"
   ]
  },
  {
   "cell_type": "code",
   "execution_count": 47,
   "metadata": {},
   "outputs": [
    {
     "data": {
      "text/plain": [
       "(365, 43)"
      ]
     },
     "execution_count": 47,
     "metadata": {},
     "output_type": "execute_result"
    }
   ],
   "source": [
    "X_testT.shape"
   ]
  },
  {
   "cell_type": "code",
   "execution_count": 48,
   "metadata": {},
   "outputs": [
    {
     "data": {
      "text/plain": [
       "(2072, 43)"
      ]
     },
     "execution_count": 48,
     "metadata": {},
     "output_type": "execute_result"
    }
   ],
   "source": [
    "X_trainT.shape"
   ]
  },
  {
   "cell_type": "code",
   "execution_count": 49,
   "metadata": {},
   "outputs": [
    {
     "data": {
      "text/plain": [
       "(365, 43)"
      ]
     },
     "execution_count": 49,
     "metadata": {},
     "output_type": "execute_result"
    }
   ],
   "source": [
    "X_testT.shape"
   ]
  },
  {
   "cell_type": "code",
   "execution_count": null,
   "metadata": {},
   "outputs": [],
   "source": []
  },
  {
   "cell_type": "markdown",
   "metadata": {},
   "source": [
    "## Model"
   ]
  },
  {
   "cell_type": "code",
   "execution_count": 1,
   "metadata": {},
   "outputs": [],
   "source": [
    "from sklearn.metrics import classification_report,precision_score, recall_score, confusion_matrix, accuracy_score\n",
    "from sklearn.metrics import precision_recall_curve,roc_curve\n",
    "from sklearn.model_selection import TimeSeriesSplit\n",
    "\n",
    "from sklearn.model_selection import cross_val_predict, cross_val_score, GridSearchCV\n",
    "\n",
    "\n",
    "\n",
    "def find_best_model(model, grid, Xdata, ydata, plot_label):\n",
    "    \"\"\"does gridsearch for model and plots result from \"\"\"\n",
    "    my_cv = TimeSeriesSplit(n_splits=5).split(Xdata) # 5 chosen as gives roughly 1 year groups for each fold\n",
    "    grid_search = GridSearchCV(model,grid,scoring='f1',cv=my_cv,return_train_score=True)\n",
    "    grid_search.fit(Xdata,ydata)\n",
    "    model = grid_search.best_estimator_\n",
    "    print('CV MODEL RESULTS')\n",
    "    print(grid_search.best_params_)\n",
    "    print(pd.DataFrame(grid_search.cv_results_).query('rank_test_score == 1')[['mean_test_score','mean_train_score']])\n",
    "    \n",
    "#     plot_model_perf(ydata,Xdata,model,plot_label)\n",
    "\n",
    "    \n",
    "    return(grid_search)\n",
    "    "
   ]
  },
  {
   "cell_type": "code",
   "execution_count": 51,
   "metadata": {},
   "outputs": [],
   "source": [
    "from sklearn.linear_model import LogisticRegression\n",
    "lgr = LogisticRegression(solver='liblinear',class_weight ='balanced')"
   ]
  },
  {
   "cell_type": "code",
   "execution_count": 52,
   "metadata": {},
   "outputs": [
    {
     "data": {
      "text/plain": [
       "2072"
      ]
     },
     "execution_count": 52,
     "metadata": {},
     "output_type": "execute_result"
    }
   ],
   "source": [
    "len(X_trainT)"
   ]
  },
  {
   "cell_type": "code",
   "execution_count": 53,
   "metadata": {},
   "outputs": [
    {
     "name": "stderr",
     "output_type": "stream",
     "text": [
      "C:\\Anaconda3\\envs\\EDclass\\lib\\site-packages\\sklearn\\metrics\\classification.py:1437: UndefinedMetricWarning: F-score is ill-defined and being set to 0.0 due to no predicted samples.\n",
      "  'precision', 'predicted', average, warn_for)\n",
      "C:\\Anaconda3\\envs\\EDclass\\lib\\site-packages\\sklearn\\metrics\\classification.py:1437: UndefinedMetricWarning: F-score is ill-defined and being set to 0.0 due to no predicted samples.\n",
      "  'precision', 'predicted', average, warn_for)\n"
     ]
    },
    {
     "name": "stdout",
     "output_type": "stream",
     "text": [
      "CV MODEL RESULTS\n",
      "{'C': 0.5, 'penalty': 'l2'}\n",
      "    mean_test_score  mean_train_score\n",
      "11         0.451707          0.515071\n"
     ]
    }
   ],
   "source": [
    "grid = {\n",
    "    'C':[0.01, 0.05, 0.1,0.2,0.3,0.5,0.7,1,3,10],\n",
    "       'penalty':['l1','l2'],\n",
    "       }\n",
    "# grid = {'C':[0.1]}\n",
    "\n",
    "grid_search = find_best_model(lgr, grid, X_trainT, y_train, 'CV set')"
   ]
  },
  {
   "cell_type": "code",
   "execution_count": 54,
   "metadata": {},
   "outputs": [],
   "source": [
    "data = grid_search.best_estimator_.coef_[0,:]\n",
    "cols = list(X_trainT.columns)\n",
    "important_features = pd.DataFrame(data=data, index=cols).sort_values(0,ascending=False)"
   ]
  },
  {
   "cell_type": "code",
   "execution_count": 55,
   "metadata": {},
   "outputs": [
    {
     "data": {
      "text/html": [
       "<div>\n",
       "<style scoped>\n",
       "    .dataframe tbody tr th:only-of-type {\n",
       "        vertical-align: middle;\n",
       "    }\n",
       "\n",
       "    .dataframe tbody tr th {\n",
       "        vertical-align: top;\n",
       "    }\n",
       "\n",
       "    .dataframe thead th {\n",
       "        text-align: right;\n",
       "    }\n",
       "</style>\n",
       "<table border=\"1\" class=\"dataframe\">\n",
       "  <thead>\n",
       "    <tr style=\"text-align: right;\">\n",
       "      <th></th>\n",
       "      <th>0</th>\n",
       "    </tr>\n",
       "  </thead>\n",
       "  <tbody>\n",
       "    <tr>\n",
       "      <th>dayofweek_Wednesday</th>\n",
       "      <td>1.539445</td>\n",
       "    </tr>\n",
       "    <tr>\n",
       "      <th>dayofweek_Tuesday</th>\n",
       "      <td>0.622524</td>\n",
       "    </tr>\n",
       "    <tr>\n",
       "      <th>dayofweek_Monday</th>\n",
       "      <td>0.618023</td>\n",
       "    </tr>\n",
       "    <tr>\n",
       "      <th>TARGET_prevday</th>\n",
       "      <td>0.549231</td>\n",
       "    </tr>\n",
       "    <tr>\n",
       "      <th>month_12</th>\n",
       "      <td>0.492376</td>\n",
       "    </tr>\n",
       "  </tbody>\n",
       "</table>\n",
       "</div>"
      ],
      "text/plain": [
       "                            0\n",
       "dayofweek_Wednesday  1.539445\n",
       "dayofweek_Tuesday    0.622524\n",
       "dayofweek_Monday     0.618023\n",
       "TARGET_prevday       0.549231\n",
       "month_12             0.492376"
      ]
     },
     "execution_count": 55,
     "metadata": {},
     "output_type": "execute_result"
    }
   ],
   "source": [
    "important_features.head()"
   ]
  },
  {
   "cell_type": "code",
   "execution_count": 57,
   "metadata": {},
   "outputs": [
    {
     "data": {
      "text/html": [
       "<div>\n",
       "<style scoped>\n",
       "    .dataframe tbody tr th:only-of-type {\n",
       "        vertical-align: middle;\n",
       "    }\n",
       "\n",
       "    .dataframe tbody tr th {\n",
       "        vertical-align: top;\n",
       "    }\n",
       "\n",
       "    .dataframe thead th {\n",
       "        text-align: right;\n",
       "    }\n",
       "</style>\n",
       "<table border=\"1\" class=\"dataframe\">\n",
       "  <thead>\n",
       "    <tr style=\"text-align: right;\">\n",
       "      <th></th>\n",
       "      <th>0</th>\n",
       "    </tr>\n",
       "  </thead>\n",
       "  <tbody>\n",
       "    <tr>\n",
       "      <th>dayofweek_Saturday</th>\n",
       "      <td>-0.810216</td>\n",
       "    </tr>\n",
       "    <tr>\n",
       "      <th>dayofweek_Sunday</th>\n",
       "      <td>-0.886321</td>\n",
       "    </tr>\n",
       "    <tr>\n",
       "      <th>month_9</th>\n",
       "      <td>-1.078346</td>\n",
       "    </tr>\n",
       "    <tr>\n",
       "      <th>dayofweek_Monday</th>\n",
       "      <td>-1.123361</td>\n",
       "    </tr>\n",
       "    <tr>\n",
       "      <th>dayofweek_Friday</th>\n",
       "      <td>-1.404819</td>\n",
       "    </tr>\n",
       "  </tbody>\n",
       "</table>\n",
       "</div>"
      ],
      "text/plain": [
       "                           0\n",
       "dayofweek_Saturday -0.810216\n",
       "dayofweek_Sunday   -0.886321\n",
       "month_9            -1.078346\n",
       "dayofweek_Monday   -1.123361\n",
       "dayofweek_Friday   -1.404819"
      ]
     },
     "execution_count": 57,
     "metadata": {},
     "output_type": "execute_result"
    }
   ],
   "source": [
    "important_features.tail()"
   ]
  },
  {
   "cell_type": "code",
   "execution_count": 54,
   "metadata": {},
   "outputs": [],
   "source": [
    "from sklearn.ensemble import RandomForestClassifier"
   ]
  },
  {
   "cell_type": "code",
   "execution_count": 55,
   "metadata": {},
   "outputs": [
    {
     "name": "stdout",
     "output_type": "stream",
     "text": [
      "CV MODEL RESULTS\n",
      "{'max_depth': 5, 'min_samples_leaf': 20, 'min_samples_split': 10}\n",
      "   mean_test_score  mean_train_score\n",
      "3         0.403384          0.557733\n"
     ]
    }
   ],
   "source": [
    "rf = RandomForestClassifier(class_weight = 'balanced', n_estimators=500)\n",
    "\n",
    "grid = {\n",
    "        'min_samples_split':[10,20,30],\n",
    "        'max_depth':[5,10],\n",
    "        'min_samples_leaf':[10,20,30],\n",
    "        \n",
    "       }\n",
    "# grid = {'C':[0.1]}\n",
    "\n",
    "grid_search = find_best_model(rf, grid, X_trainT, y_train, 'CV set')"
   ]
  },
  {
   "cell_type": "code",
   "execution_count": 62,
   "metadata": {},
   "outputs": [],
   "source": [
    "data = grid_search.best_estimator_.feature_importances_\n",
    "cols = list(X_trainT.columns)\n",
    "important_features = pd.DataFrame(data=data, index=cols).sort_values(0,ascending=False)"
   ]
  },
  {
   "cell_type": "code",
   "execution_count": 63,
   "metadata": {},
   "outputs": [
    {
     "data": {
      "text/html": [
       "<div>\n",
       "<style scoped>\n",
       "    .dataframe tbody tr th:only-of-type {\n",
       "        vertical-align: middle;\n",
       "    }\n",
       "\n",
       "    .dataframe tbody tr th {\n",
       "        vertical-align: top;\n",
       "    }\n",
       "\n",
       "    .dataframe thead th {\n",
       "        text-align: right;\n",
       "    }\n",
       "</style>\n",
       "<table border=\"1\" class=\"dataframe\">\n",
       "  <thead>\n",
       "    <tr style=\"text-align: right;\">\n",
       "      <th></th>\n",
       "      <th>0</th>\n",
       "    </tr>\n",
       "  </thead>\n",
       "  <tbody>\n",
       "    <tr>\n",
       "      <th>TARGET_prevday</th>\n",
       "      <td>0.149730</td>\n",
       "    </tr>\n",
       "    <tr>\n",
       "      <th>dayofweek_Thursday</th>\n",
       "      <td>0.069273</td>\n",
       "    </tr>\n",
       "    <tr>\n",
       "      <th>TARGET_prevday_deriv1_lag2</th>\n",
       "      <td>0.067358</td>\n",
       "    </tr>\n",
       "    <tr>\n",
       "      <th>TARGET_prevday_deriv1_lag1</th>\n",
       "      <td>0.067195</td>\n",
       "    </tr>\n",
       "    <tr>\n",
       "      <th>TARGET_prevday_deriv1_lag3</th>\n",
       "      <td>0.063849</td>\n",
       "    </tr>\n",
       "    <tr>\n",
       "      <th>TARGET_prevday_deriv2_lag3</th>\n",
       "      <td>0.058070</td>\n",
       "    </tr>\n",
       "    <tr>\n",
       "      <th>TARGET_prevday_deriv1_lag4</th>\n",
       "      <td>0.050259</td>\n",
       "    </tr>\n",
       "    <tr>\n",
       "      <th>TARGET_prevday_deriv2_lag2</th>\n",
       "      <td>0.041652</td>\n",
       "    </tr>\n",
       "    <tr>\n",
       "      <th>TARGET_prevday_deriv2_lag5</th>\n",
       "      <td>0.038757</td>\n",
       "    </tr>\n",
       "    <tr>\n",
       "      <th>TARGET_prevday_deriv1_lag7</th>\n",
       "      <td>0.036109</td>\n",
       "    </tr>\n",
       "    <tr>\n",
       "      <th>TARGET_prevday_deriv1_lag13</th>\n",
       "      <td>0.029671</td>\n",
       "    </tr>\n",
       "    <tr>\n",
       "      <th>TARGET_prevday_deriv1_lag6</th>\n",
       "      <td>0.028247</td>\n",
       "    </tr>\n",
       "    <tr>\n",
       "      <th>TARGET_prevday_deriv1_lag5</th>\n",
       "      <td>0.028138</td>\n",
       "    </tr>\n",
       "    <tr>\n",
       "      <th>flag_target_prevday</th>\n",
       "      <td>0.027873</td>\n",
       "    </tr>\n",
       "    <tr>\n",
       "      <th>TARGET_prevday_deriv2_lag27</th>\n",
       "      <td>0.027727</td>\n",
       "    </tr>\n",
       "    <tr>\n",
       "      <th>TARGET_prevday_deriv2_lag13</th>\n",
       "      <td>0.026407</td>\n",
       "    </tr>\n",
       "    <tr>\n",
       "      <th>TARGET_prevday_deriv2_lag1</th>\n",
       "      <td>0.026080</td>\n",
       "    </tr>\n",
       "    <tr>\n",
       "      <th>TARGET_prevday_deriv2_lag4</th>\n",
       "      <td>0.025186</td>\n",
       "    </tr>\n",
       "    <tr>\n",
       "      <th>TARGET_prevday_deriv2_lag6</th>\n",
       "      <td>0.023608</td>\n",
       "    </tr>\n",
       "    <tr>\n",
       "      <th>TARGET_prevday_deriv1_lag27</th>\n",
       "      <td>0.022809</td>\n",
       "    </tr>\n",
       "  </tbody>\n",
       "</table>\n",
       "</div>"
      ],
      "text/plain": [
       "                                    0\n",
       "TARGET_prevday               0.149730\n",
       "dayofweek_Thursday           0.069273\n",
       "TARGET_prevday_deriv1_lag2   0.067358\n",
       "TARGET_prevday_deriv1_lag1   0.067195\n",
       "TARGET_prevday_deriv1_lag3   0.063849\n",
       "TARGET_prevday_deriv2_lag3   0.058070\n",
       "TARGET_prevday_deriv1_lag4   0.050259\n",
       "TARGET_prevday_deriv2_lag2   0.041652\n",
       "TARGET_prevday_deriv2_lag5   0.038757\n",
       "TARGET_prevday_deriv1_lag7   0.036109\n",
       "TARGET_prevday_deriv1_lag13  0.029671\n",
       "TARGET_prevday_deriv1_lag6   0.028247\n",
       "TARGET_prevday_deriv1_lag5   0.028138\n",
       "flag_target_prevday          0.027873\n",
       "TARGET_prevday_deriv2_lag27  0.027727\n",
       "TARGET_prevday_deriv2_lag13  0.026407\n",
       "TARGET_prevday_deriv2_lag1   0.026080\n",
       "TARGET_prevday_deriv2_lag4   0.025186\n",
       "TARGET_prevday_deriv2_lag6   0.023608\n",
       "TARGET_prevday_deriv1_lag27  0.022809"
      ]
     },
     "execution_count": 63,
     "metadata": {},
     "output_type": "execute_result"
    }
   ],
   "source": [
    "important_features.head(20)"
   ]
  },
  {
   "cell_type": "code",
   "execution_count": null,
   "metadata": {},
   "outputs": [],
   "source": []
  },
  {
   "cell_type": "code",
   "execution_count": null,
   "metadata": {},
   "outputs": [],
   "source": []
  },
  {
   "cell_type": "code",
   "execution_count": 87,
   "metadata": {},
   "outputs": [],
   "source": [
    "important_list = list(important_features.iloc[0:20].index)"
   ]
  },
  {
   "cell_type": "code",
   "execution_count": 88,
   "metadata": {},
   "outputs": [
    {
     "name": "stdout",
     "output_type": "stream",
     "text": [
      "CV MODEL RESULTS\n",
      "{'max_depth': 5, 'min_samples_leaf': 10, 'min_samples_split': 10}\n",
      "   mean_test_score  mean_train_score\n",
      "0         0.462366          0.640865\n"
     ]
    }
   ],
   "source": [
    "rf = RandomForestClassifier(class_weight='balanced', n_estimators=500)\n",
    "\n",
    "grid = {'min_samples_split':[10],\n",
    "        'max_depth':[5,10],\n",
    "        'min_samples_leaf':[10,20],\n",
    "        \n",
    "       }\n",
    "# grid = {'C':[0.1]}\n",
    "\n",
    "grid_search = find_best_model(rf, grid, X_trainT[important_list], y_train, 'CV set')"
   ]
  },
  {
   "cell_type": "code",
   "execution_count": 89,
   "metadata": {},
   "outputs": [
    {
     "name": "stdout",
     "output_type": "stream",
     "text": [
      "CV MODEL RESULTS\n",
      "{'C': 1, 'kernel': 'linear'}\n",
      "   mean_test_score  mean_train_score\n",
      "0         0.406996          0.533525\n"
     ]
    }
   ],
   "source": [
    "from sklearn.svm import SVC\n",
    "svc = SVC(class_weight='balanced')\n",
    "\n",
    "grid = {'kernel':['rbf'],\n",
    "        'C':[1,10,20],\n",
    "        \n",
    "       }\n",
    "# grid = {'C':[0.1]}\n",
    "\n",
    "grid_search = find_best_model(svc, grid, X_trainT, y_train, 'CV set')"
   ]
  },
  {
   "cell_type": "code",
   "execution_count": null,
   "metadata": {},
   "outputs": [],
   "source": []
  },
  {
   "cell_type": "code",
   "execution_count": 39,
   "metadata": {},
   "outputs": [
    {
     "ename": "SyntaxError",
     "evalue": "'break' outside loop (<ipython-input-39-6aaf1f276005>, line 4)",
     "output_type": "error",
     "traceback": [
      "\u001b[1;36m  File \u001b[1;32m\"<ipython-input-39-6aaf1f276005>\"\u001b[1;36m, line \u001b[1;32m4\u001b[0m\n\u001b[1;31mSyntaxError\u001b[0m\u001b[1;31m:\u001b[0m 'break' outside loop\n"
     ]
    }
   ],
   "source": [
    "break"
   ]
  },
  {
   "cell_type": "markdown",
   "metadata": {},
   "source": [
    "NOTE: consider creating log for preprocessing information in order for repeatability in future."
   ]
  },
  {
   "cell_type": "code",
   "execution_count": 53,
   "metadata": {},
   "outputs": [
    {
     "name": "stdout",
     "output_type": "stream",
     "text": [
      "Model logged.\n"
     ]
    }
   ],
   "source": [
    "from src.eval.eval_utils import save_model_to_log\n",
    "\n",
    "save_model_to_log('./../../data/output/model_log.pkl', 'D2', lgr, grid_search, 'only target features from previous day + der+lags. in D2_daily_data_to_model_FULLPIPELINE_only_target_feature.ipynb.')"
   ]
  },
  {
   "cell_type": "code",
   "execution_count": 54,
   "metadata": {},
   "outputs": [
    {
     "name": "stdout",
     "output_type": "stream",
     "text": [
      "Model logged.\n"
     ]
    }
   ],
   "source": [
    "from src.eval.eval_utils import save_model_to_log\n",
    "\n",
    "save_model_to_log('./../../data/output/model_log.pkl', 'D2', rf, grid_search, 'Model uses all derivative features from previous day. in D2_daily_data_to_model_FULLPIPELINE.ipynb.')"
   ]
  },
  {
   "cell_type": "code",
   "execution_count": null,
   "metadata": {},
   "outputs": [],
   "source": []
  },
  {
   "cell_type": "code",
   "execution_count": 78,
   "metadata": {},
   "outputs": [
    {
     "data": {
      "text/html": [
       "<div>\n",
       "<style scoped>\n",
       "    .dataframe tbody tr th:only-of-type {\n",
       "        vertical-align: middle;\n",
       "    }\n",
       "\n",
       "    .dataframe tbody tr th {\n",
       "        vertical-align: top;\n",
       "    }\n",
       "\n",
       "    .dataframe thead th {\n",
       "        text-align: right;\n",
       "    }\n",
       "</style>\n",
       "<table border=\"1\" class=\"dataframe\">\n",
       "  <thead>\n",
       "    <tr style=\"text-align: right;\">\n",
       "      <th></th>\n",
       "      <th>dataV</th>\n",
       "      <th>model</th>\n",
       "      <th>gridsearch</th>\n",
       "      <th>mean_train</th>\n",
       "      <th>mean_valid</th>\n",
       "      <th>notes</th>\n",
       "    </tr>\n",
       "  </thead>\n",
       "  <tbody>\n",
       "    <tr>\n",
       "      <th>0</th>\n",
       "      <td>v1</td>\n",
       "      <td>LogisticRegression(C=0.3, class_weight='balanc...</td>\n",
       "      <td>mean_fit_time  std_fit_time  mean_score_tim...</td>\n",
       "      <td>[0.629]</td>\n",
       "      <td>[0.52]</td>\n",
       "      <td>Initial model which was built on first edition...</td>\n",
       "    </tr>\n",
       "    <tr>\n",
       "      <th>1</th>\n",
       "      <td>v1</td>\n",
       "      <td>(DecisionTreeClassifier(class_weight=None, cri...</td>\n",
       "      <td>mean_fit_time  std_fit_time  mean_score_ti...</td>\n",
       "      <td>[0.685]</td>\n",
       "      <td>[0.419]</td>\n",
       "      <td>Random Forest 1st attempt with v1.</td>\n",
       "    </tr>\n",
       "    <tr>\n",
       "      <th>2</th>\n",
       "      <td>v1</td>\n",
       "      <td>XGBClassifier(base_score=0.5, booster='gbtree'...</td>\n",
       "      <td>mean_fit_time  std_fit_time  mean_score_tim...</td>\n",
       "      <td>[0.829]</td>\n",
       "      <td>[0.439]</td>\n",
       "      <td>V1 attempt with XGBOOST. KFOLD selection of fe...</td>\n",
       "    </tr>\n",
       "    <tr>\n",
       "      <th>3</th>\n",
       "      <td>D2</td>\n",
       "      <td>RandomForestClassifier(bootstrap=True, class_w...</td>\n",
       "      <td>mean_fit_time  std_fit_time  mean_score_tim...</td>\n",
       "      <td>[0.64]</td>\n",
       "      <td>[0.454]</td>\n",
       "      <td>Model uses all derivative features from previo...</td>\n",
       "    </tr>\n",
       "    <tr>\n",
       "      <th>4</th>\n",
       "      <td>D2</td>\n",
       "      <td>LogisticRegression(C=1.0, class_weight='balanc...</td>\n",
       "      <td>mean_fit_time  std_fit_time  mean_score_ti...</td>\n",
       "      <td>[0.489]</td>\n",
       "      <td>[0.445]</td>\n",
       "      <td>Model uses all derivative features from previo...</td>\n",
       "    </tr>\n",
       "    <tr>\n",
       "      <th>5</th>\n",
       "      <td>D2</td>\n",
       "      <td>LogisticRegression(C=1.0, class_weight='balanc...</td>\n",
       "      <td>mean_fit_time  std_fit_time  mean_score_ti...</td>\n",
       "      <td>[0.515]</td>\n",
       "      <td>[0.448]</td>\n",
       "      <td>only target features from previous day + der+l...</td>\n",
       "    </tr>\n",
       "  </tbody>\n",
       "</table>\n",
       "</div>"
      ],
      "text/plain": [
       "  dataV                                              model  \\\n",
       "0    v1  LogisticRegression(C=0.3, class_weight='balanc...   \n",
       "1    v1  (DecisionTreeClassifier(class_weight=None, cri...   \n",
       "2    v1  XGBClassifier(base_score=0.5, booster='gbtree'...   \n",
       "3    D2  RandomForestClassifier(bootstrap=True, class_w...   \n",
       "4    D2  LogisticRegression(C=1.0, class_weight='balanc...   \n",
       "5    D2  LogisticRegression(C=1.0, class_weight='balanc...   \n",
       "\n",
       "                                          gridsearch mean_train mean_valid  \\\n",
       "0     mean_fit_time  std_fit_time  mean_score_tim...    [0.629]     [0.52]   \n",
       "1      mean_fit_time  std_fit_time  mean_score_ti...    [0.685]    [0.419]   \n",
       "2     mean_fit_time  std_fit_time  mean_score_tim...    [0.829]    [0.439]   \n",
       "3     mean_fit_time  std_fit_time  mean_score_tim...     [0.64]    [0.454]   \n",
       "4      mean_fit_time  std_fit_time  mean_score_ti...    [0.489]    [0.445]   \n",
       "5      mean_fit_time  std_fit_time  mean_score_ti...    [0.515]    [0.448]   \n",
       "\n",
       "                                               notes  \n",
       "0  Initial model which was built on first edition...  \n",
       "1                 Random Forest 1st attempt with v1.  \n",
       "2  V1 attempt with XGBOOST. KFOLD selection of fe...  \n",
       "3  Model uses all derivative features from previo...  \n",
       "4  Model uses all derivative features from previo...  \n",
       "5  only target features from previous day + der+l...  "
      ]
     },
     "execution_count": 78,
     "metadata": {},
     "output_type": "execute_result"
    }
   ],
   "source": [
    "models = pd.read_pickle('./../../data/output/model_log.pkl')\n",
    "# models.drop(3,inplace=True)\n",
    "models"
   ]
  },
  {
   "cell_type": "code",
   "execution_count": 81,
   "metadata": {},
   "outputs": [
    {
     "data": {
      "text/plain": [
       "'Model uses all derivative features from previous day. in D2_daily_data_to_model_FULLPIPELINE.ipynb.'"
      ]
     },
     "execution_count": 81,
     "metadata": {},
     "output_type": "execute_result"
    }
   ],
   "source": [
    "models.iloc[4].notes"
   ]
  },
  {
   "cell_type": "code",
   "execution_count": 52,
   "metadata": {},
   "outputs": [],
   "source": [
    "models.to_pickle('./../../data/output/model_log.pkl')"
   ]
  },
  {
   "cell_type": "code",
   "execution_count": null,
   "metadata": {},
   "outputs": [],
   "source": []
  },
  {
   "cell_type": "markdown",
   "metadata": {},
   "source": [
    "# dev - derivative features"
   ]
  },
  {
   "cell_type": "code",
   "execution_count": 91,
   "metadata": {},
   "outputs": [
    {
     "data": {
      "text/html": [
       "<div>\n",
       "<style scoped>\n",
       "    .dataframe tbody tr th:only-of-type {\n",
       "        vertical-align: middle;\n",
       "    }\n",
       "\n",
       "    .dataframe tbody tr th {\n",
       "        vertical-align: top;\n",
       "    }\n",
       "\n",
       "    .dataframe thead th {\n",
       "        text-align: right;\n",
       "    }\n",
       "</style>\n",
       "<table border=\"1\" class=\"dataframe\">\n",
       "  <thead>\n",
       "    <tr style=\"text-align: right;\">\n",
       "      <th></th>\n",
       "      <th>X</th>\n",
       "    </tr>\n",
       "  </thead>\n",
       "  <tbody>\n",
       "    <tr>\n",
       "      <th>0</th>\n",
       "      <td>0</td>\n",
       "    </tr>\n",
       "    <tr>\n",
       "      <th>1</th>\n",
       "      <td>1</td>\n",
       "    </tr>\n",
       "    <tr>\n",
       "      <th>2</th>\n",
       "      <td>2</td>\n",
       "    </tr>\n",
       "    <tr>\n",
       "      <th>3</th>\n",
       "      <td>3</td>\n",
       "    </tr>\n",
       "    <tr>\n",
       "      <th>4</th>\n",
       "      <td>3</td>\n",
       "    </tr>\n",
       "    <tr>\n",
       "      <th>5</th>\n",
       "      <td>3</td>\n",
       "    </tr>\n",
       "    <tr>\n",
       "      <th>6</th>\n",
       "      <td>2</td>\n",
       "    </tr>\n",
       "    <tr>\n",
       "      <th>7</th>\n",
       "      <td>5</td>\n",
       "    </tr>\n",
       "    <tr>\n",
       "      <th>8</th>\n",
       "      <td>6</td>\n",
       "    </tr>\n",
       "    <tr>\n",
       "      <th>9</th>\n",
       "      <td>-6</td>\n",
       "    </tr>\n",
       "    <tr>\n",
       "      <th>10</th>\n",
       "      <td>-6</td>\n",
       "    </tr>\n",
       "    <tr>\n",
       "      <th>11</th>\n",
       "      <td>-7</td>\n",
       "    </tr>\n",
       "  </tbody>\n",
       "</table>\n",
       "</div>"
      ],
      "text/plain": [
       "    X\n",
       "0   0\n",
       "1   1\n",
       "2   2\n",
       "3   3\n",
       "4   3\n",
       "5   3\n",
       "6   2\n",
       "7   5\n",
       "8   6\n",
       "9  -6\n",
       "10 -6\n",
       "11 -7"
      ]
     },
     "execution_count": 91,
     "metadata": {},
     "output_type": "execute_result"
    }
   ],
   "source": [
    "data = [0,1,2,3,3,3,2,5,6,-6,-6,-7]\n",
    "df = pd.DataFrame(data,columns=['X'])\n",
    "df"
   ]
  },
  {
   "cell_type": "code",
   "execution_count": null,
   "metadata": {},
   "outputs": [],
   "source": [
    "for i in "
   ]
  },
  {
   "cell_type": "code",
   "execution_count": 97,
   "metadata": {},
   "outputs": [],
   "source": [
    "# df['crude'] = \n",
    "\n",
    "def make_col_derivative(df, column_name ,deriv_lag, num_diffs):\n",
    "    \"\"\"\n",
    "    Parameters\n",
    "    ==========\n",
    "    df, dataframe, \n",
    "    column_name, str, name of column\n",
    "    deriv_lag, int, number of points to lag over\n",
    "    \n",
    "    Returns\n",
    "    =======\n",
    "    derivative, Series, new derivative column\n",
    "    \"\"\"\n",
    "    new_col_name = column_name + '_deriv' + str(deriv_lag)\n",
    "    \n",
    "    #### Make time column in new df\n",
    "    deriv_df = pd.DataFrame(np.arange(0, len(df)),columns = ['time'], index = df.index)\n",
    "    \n",
    "    ####\n",
    "    deriv_df['X'] = df[column_name]\n",
    "    crude_deriv = deriv_df['X']\n",
    "    for i in np.arange(1,num_diffs+1):\n",
    "        crude_deriv = (crude_deriv.diff(1)) #/(deriv_df['time'].diff(deriv_lag))\n",
    "    deriv_df[new_col_name] = crude_deriv\n",
    "    deriv_df.bfill(inplace=True)\n",
    "    \n",
    "    \n",
    "    derivative = deriv_df[new_col_name]\n",
    "\n",
    "    return(derivative)\n",
    "\n",
    "def perform_deriv_cals_multiple_columns(df, columns_dict):\n",
    "    \"\"\"\n",
    "    Calls make_col_derivatives on multiple columns based on user input of dict.\n",
    "    Parameters\n",
    "    ==========\n",
    "    \n",
    "    \"\"\"\n",
    "    #### loop over each column\n",
    "    for column in columns_dict.keys():\n",
    "        #### loop over each lag requested\n",
    "        for deriv_lag in columns_dict[column]:\n",
    "            new_col_name = column + '_deriv' + str(deriv_lag) # get new name for column\n",
    "            df[new_col_name] = make_col_derivative(df, column, deriv_lag)\n",
    "            new_col_name = column + '_deriv2OR' + str(deriv_lag)\n",
    "            df[new_col_name] = make_col_derivative2(df, column, deriv_lag)\n",
    "    return(df)"
   ]
  },
  {
   "cell_type": "code",
   "execution_count": 100,
   "metadata": {},
   "outputs": [
    {
     "data": {
      "text/plain": [
       "0      1.0\n",
       "1      1.0\n",
       "2      1.0\n",
       "3      1.0\n",
       "4      0.0\n",
       "5      0.0\n",
       "6     -1.0\n",
       "7      3.0\n",
       "8      1.0\n",
       "9    -12.0\n",
       "10     0.0\n",
       "11    -1.0\n",
       "Name: X_deriv1, dtype: float64"
      ]
     },
     "execution_count": 100,
     "metadata": {},
     "output_type": "execute_result"
    }
   ],
   "source": [
    "make_col_derivative(df, 'X', 1, 1)"
   ]
  },
  {
   "cell_type": "code",
   "execution_count": 94,
   "metadata": {},
   "outputs": [
    {
     "data": {
      "text/html": [
       "<div>\n",
       "<style scoped>\n",
       "    .dataframe tbody tr th:only-of-type {\n",
       "        vertical-align: middle;\n",
       "    }\n",
       "\n",
       "    .dataframe tbody tr th {\n",
       "        vertical-align: top;\n",
       "    }\n",
       "\n",
       "    .dataframe thead th {\n",
       "        text-align: right;\n",
       "    }\n",
       "</style>\n",
       "<table border=\"1\" class=\"dataframe\">\n",
       "  <thead>\n",
       "    <tr style=\"text-align: right;\">\n",
       "      <th></th>\n",
       "      <th>X</th>\n",
       "    </tr>\n",
       "  </thead>\n",
       "  <tbody>\n",
       "    <tr>\n",
       "      <th>0</th>\n",
       "      <td>0</td>\n",
       "    </tr>\n",
       "    <tr>\n",
       "      <th>1</th>\n",
       "      <td>1</td>\n",
       "    </tr>\n",
       "    <tr>\n",
       "      <th>2</th>\n",
       "      <td>2</td>\n",
       "    </tr>\n",
       "    <tr>\n",
       "      <th>3</th>\n",
       "      <td>3</td>\n",
       "    </tr>\n",
       "    <tr>\n",
       "      <th>4</th>\n",
       "      <td>3</td>\n",
       "    </tr>\n",
       "    <tr>\n",
       "      <th>5</th>\n",
       "      <td>3</td>\n",
       "    </tr>\n",
       "    <tr>\n",
       "      <th>6</th>\n",
       "      <td>2</td>\n",
       "    </tr>\n",
       "    <tr>\n",
       "      <th>7</th>\n",
       "      <td>5</td>\n",
       "    </tr>\n",
       "    <tr>\n",
       "      <th>8</th>\n",
       "      <td>6</td>\n",
       "    </tr>\n",
       "    <tr>\n",
       "      <th>9</th>\n",
       "      <td>-6</td>\n",
       "    </tr>\n",
       "    <tr>\n",
       "      <th>10</th>\n",
       "      <td>-6</td>\n",
       "    </tr>\n",
       "    <tr>\n",
       "      <th>11</th>\n",
       "      <td>-7</td>\n",
       "    </tr>\n",
       "  </tbody>\n",
       "</table>\n",
       "</div>"
      ],
      "text/plain": [
       "    X\n",
       "0   0\n",
       "1   1\n",
       "2   2\n",
       "3   3\n",
       "4   3\n",
       "5   3\n",
       "6   2\n",
       "7   5\n",
       "8   6\n",
       "9  -6\n",
       "10 -6\n",
       "11 -7"
      ]
     },
     "execution_count": 94,
     "metadata": {},
     "output_type": "execute_result"
    }
   ],
   "source": [
    "df"
   ]
  },
  {
   "cell_type": "code",
   "execution_count": 117,
   "metadata": {},
   "outputs": [
    {
     "name": "stdout",
     "output_type": "stream",
     "text": [
      "0          NaN\n",
      "1     1.000000\n",
      "2     1.000000\n",
      "3     1.000000\n",
      "4     0.000000\n",
      "5     0.000000\n",
      "6    -0.454545\n",
      "7     1.615385\n",
      "8     0.733333\n",
      "9     0.000000\n",
      "10    0.000000\n",
      "11    0.619048\n",
      "dtype: float64\n",
      "0          NaN\n",
      "1     1.000000\n",
      "2     1.000000\n",
      "3     1.000000\n",
      "4     0.000000\n",
      "5     0.000000\n",
      "6    -0.454545\n",
      "7     1.615385\n",
      "8     0.733333\n",
      "9     0.000000\n",
      "10    0.000000\n",
      "11    0.619048\n",
      "dtype: float64\n"
     ]
    }
   ],
   "source": [
    "def make_col_derivative2(df, column_name ,deriv_lag, power):\n",
    "    \"\"\"\n",
    "    Parameters\n",
    "    ==========\n",
    "    df, dataframe, \n",
    "    column_name, str, name of column\n",
    "    deriv_lag, int, number of points to lag over\n",
    "    \n",
    "    Returns\n",
    "    =======\n",
    "    derivative, Series, new derivative column\n",
    "    \"\"\"\n",
    "    new_col_name = column_name + '_deriv' + str(deriv_lag)\n",
    "    \n",
    "    #### Make time column in new df\n",
    "    deriv_df = pd.DataFrame(np.arange(0, len(df)),columns = ['time'], index = df.index)\n",
    "    deriv_df['time_power'] = deriv_df['time']**power\n",
    "    \n",
    "    ####\n",
    "    deriv_df['X'] = df[column_name]\n",
    "    deriv_df['X_power'] = deriv_df['X']**power\n",
    "    \n",
    "    crude_deriv = (deriv_df['X_power'].diff(deriv_lag))/(deriv_df['time_power'].diff(deriv_lag))\n",
    "    # restore sign to derivative col\n",
    "#     print(crude_deriv)\n",
    "#     crude_deriv = np.sign(deriv_df['X']) *crude_deriv\n",
    "#     print(crude_deriv)\n",
    "    \n",
    "    deriv_df[new_col_name] = crude_deriv\n",
    "    deriv_df.bfill(inplace=True)\n",
    "    \n",
    "    \n",
    "    derivative = deriv_df[new_col_name]\n",
    "\n",
    "    return(derivative)\n",
    "\n",
    "df['X_d1'] = make_col_derivative(df, 'X',1,2)"
   ]
  },
  {
   "cell_type": "code",
   "execution_count": 118,
   "metadata": {},
   "outputs": [
    {
     "data": {
      "text/html": [
       "<div>\n",
       "<style scoped>\n",
       "    .dataframe tbody tr th:only-of-type {\n",
       "        vertical-align: middle;\n",
       "    }\n",
       "\n",
       "    .dataframe tbody tr th {\n",
       "        vertical-align: top;\n",
       "    }\n",
       "\n",
       "    .dataframe thead th {\n",
       "        text-align: right;\n",
       "    }\n",
       "</style>\n",
       "<table border=\"1\" class=\"dataframe\">\n",
       "  <thead>\n",
       "    <tr style=\"text-align: right;\">\n",
       "      <th></th>\n",
       "      <th>X</th>\n",
       "      <th>X_d1</th>\n",
       "    </tr>\n",
       "  </thead>\n",
       "  <tbody>\n",
       "    <tr>\n",
       "      <th>0</th>\n",
       "      <td>0</td>\n",
       "      <td>1.000000</td>\n",
       "    </tr>\n",
       "    <tr>\n",
       "      <th>1</th>\n",
       "      <td>1</td>\n",
       "      <td>1.000000</td>\n",
       "    </tr>\n",
       "    <tr>\n",
       "      <th>2</th>\n",
       "      <td>2</td>\n",
       "      <td>1.000000</td>\n",
       "    </tr>\n",
       "    <tr>\n",
       "      <th>3</th>\n",
       "      <td>3</td>\n",
       "      <td>1.000000</td>\n",
       "    </tr>\n",
       "    <tr>\n",
       "      <th>4</th>\n",
       "      <td>3</td>\n",
       "      <td>0.000000</td>\n",
       "    </tr>\n",
       "    <tr>\n",
       "      <th>5</th>\n",
       "      <td>3</td>\n",
       "      <td>0.000000</td>\n",
       "    </tr>\n",
       "    <tr>\n",
       "      <th>6</th>\n",
       "      <td>2</td>\n",
       "      <td>-0.454545</td>\n",
       "    </tr>\n",
       "    <tr>\n",
       "      <th>7</th>\n",
       "      <td>5</td>\n",
       "      <td>1.615385</td>\n",
       "    </tr>\n",
       "    <tr>\n",
       "      <th>8</th>\n",
       "      <td>6</td>\n",
       "      <td>0.733333</td>\n",
       "    </tr>\n",
       "    <tr>\n",
       "      <th>9</th>\n",
       "      <td>-6</td>\n",
       "      <td>0.000000</td>\n",
       "    </tr>\n",
       "    <tr>\n",
       "      <th>10</th>\n",
       "      <td>-6</td>\n",
       "      <td>0.000000</td>\n",
       "    </tr>\n",
       "    <tr>\n",
       "      <th>11</th>\n",
       "      <td>-7</td>\n",
       "      <td>0.619048</td>\n",
       "    </tr>\n",
       "  </tbody>\n",
       "</table>\n",
       "</div>"
      ],
      "text/plain": [
       "    X      X_d1\n",
       "0   0  1.000000\n",
       "1   1  1.000000\n",
       "2   2  1.000000\n",
       "3   3  1.000000\n",
       "4   3  0.000000\n",
       "5   3  0.000000\n",
       "6   2 -0.454545\n",
       "7   5  1.615385\n",
       "8   6  0.733333\n",
       "9  -6  0.000000\n",
       "10 -6  0.000000\n",
       "11 -7  0.619048"
      ]
     },
     "execution_count": 118,
     "metadata": {},
     "output_type": "execute_result"
    }
   ],
   "source": [
    "df"
   ]
  },
  {
   "cell_type": "code",
   "execution_count": 106,
   "metadata": {},
   "outputs": [
    {
     "data": {
      "text/plain": [
       "0     0\n",
       "1     1\n",
       "2     1\n",
       "3     1\n",
       "4     1\n",
       "5     1\n",
       "6     1\n",
       "7     1\n",
       "8     1\n",
       "9    -1\n",
       "10   -1\n",
       "11   -1\n",
       "Name: X, dtype: int64"
      ]
     },
     "execution_count": 106,
     "metadata": {},
     "output_type": "execute_result"
    }
   ],
   "source": [
    "np.sign(df['X'])"
   ]
  },
  {
   "cell_type": "code",
   "execution_count": 88,
   "metadata": {},
   "outputs": [
    {
     "ename": "NameError",
     "evalue": "name 'mod' is not defined",
     "output_type": "error",
     "traceback": [
      "\u001b[1;31m---------------------------------------------------------------------------\u001b[0m",
      "\u001b[1;31mNameError\u001b[0m                                 Traceback (most recent call last)",
      "\u001b[1;32m<ipython-input-88-074004f0bd1c>\u001b[0m in \u001b[0;36m<module>\u001b[1;34m\u001b[0m\n\u001b[1;32m----> 1\u001b[1;33m \u001b[0mmod\u001b[0m\u001b[1;33m(\u001b[0m\u001b[1;36m3\u001b[0m\u001b[1;33m)\u001b[0m\u001b[1;33m\u001b[0m\u001b[1;33m\u001b[0m\u001b[0m\n\u001b[0m",
      "\u001b[1;31mNameError\u001b[0m: name 'mod' is not defined"
     ]
    }
   ],
   "source": []
  },
  {
   "cell_type": "code",
   "execution_count": 87,
   "metadata": {},
   "outputs": [
    {
     "data": {
      "text/plain": [
       "-8"
      ]
     },
     "execution_count": 87,
     "metadata": {},
     "output_type": "execute_result"
    }
   ],
   "source": [
    "(-2)**3"
   ]
  },
  {
   "cell_type": "code",
   "execution_count": 64,
   "metadata": {},
   "outputs": [
    {
     "data": {
      "text/html": [
       "<div>\n",
       "<style scoped>\n",
       "    .dataframe tbody tr th:only-of-type {\n",
       "        vertical-align: middle;\n",
       "    }\n",
       "\n",
       "    .dataframe tbody tr th {\n",
       "        vertical-align: top;\n",
       "    }\n",
       "\n",
       "    .dataframe thead th {\n",
       "        text-align: right;\n",
       "    }\n",
       "</style>\n",
       "<table border=\"1\" class=\"dataframe\">\n",
       "  <thead>\n",
       "    <tr style=\"text-align: right;\">\n",
       "      <th></th>\n",
       "      <th>X</th>\n",
       "      <th>X_d1</th>\n",
       "    </tr>\n",
       "  </thead>\n",
       "  <tbody>\n",
       "    <tr>\n",
       "      <th>0</th>\n",
       "      <td>0</td>\n",
       "      <td>1.0</td>\n",
       "    </tr>\n",
       "    <tr>\n",
       "      <th>1</th>\n",
       "      <td>1</td>\n",
       "      <td>1.0</td>\n",
       "    </tr>\n",
       "    <tr>\n",
       "      <th>2</th>\n",
       "      <td>2</td>\n",
       "      <td>1.0</td>\n",
       "    </tr>\n",
       "    <tr>\n",
       "      <th>3</th>\n",
       "      <td>3</td>\n",
       "      <td>1.0</td>\n",
       "    </tr>\n",
       "    <tr>\n",
       "      <th>4</th>\n",
       "      <td>3</td>\n",
       "      <td>0.0</td>\n",
       "    </tr>\n",
       "    <tr>\n",
       "      <th>5</th>\n",
       "      <td>3</td>\n",
       "      <td>0.0</td>\n",
       "    </tr>\n",
       "    <tr>\n",
       "      <th>6</th>\n",
       "      <td>2</td>\n",
       "      <td>-1.0</td>\n",
       "    </tr>\n",
       "    <tr>\n",
       "      <th>7</th>\n",
       "      <td>5</td>\n",
       "      <td>3.0</td>\n",
       "    </tr>\n",
       "    <tr>\n",
       "      <th>8</th>\n",
       "      <td>6</td>\n",
       "      <td>1.0</td>\n",
       "    </tr>\n",
       "  </tbody>\n",
       "</table>\n",
       "</div>"
      ],
      "text/plain": [
       "   X  X_d1\n",
       "0  0   1.0\n",
       "1  1   1.0\n",
       "2  2   1.0\n",
       "3  3   1.0\n",
       "4  3   0.0\n",
       "5  3   0.0\n",
       "6  2  -1.0\n",
       "7  5   3.0\n",
       "8  6   1.0"
      ]
     },
     "execution_count": 64,
     "metadata": {},
     "output_type": "execute_result"
    }
   ],
   "source": [
    "df"
   ]
  },
  {
   "cell_type": "markdown",
   "metadata": {},
   "source": [
    "# PCA"
   ]
  },
  {
   "cell_type": "code",
   "execution_count": 71,
   "metadata": {},
   "outputs": [
    {
     "data": {
      "text/plain": [
       "Text(0, 0.5, 'explained_variance_')"
      ]
     },
     "execution_count": 71,
     "metadata": {},
     "output_type": "execute_result"
    },
    {
     "data": {
      "image/png": "[encoded data removed]",
      "text/plain": [
       "<Figure size 288x216 with 1 Axes>"
      ]
     },
     "metadata": {
      "needs_background": "light"
     },
     "output_type": "display_data"
    }
   ],
   "source": [
    "import matplotlib.pyplot as plt\n",
    "from sklearn.decomposition import PCA\n",
    "pca = PCA()\n",
    "\n",
    "pca.fit(X_trainT)\n",
    "\n",
    "plt.figure(1, figsize=(4, 3))\n",
    "plt.clf()\n",
    "plt.axes([.2, .2, .7, .7])\n",
    "plt.plot(pca.explained_variance_, linewidth=2)\n",
    "plt.axis('tight')\n",
    "plt.xlabel('n_components')\n",
    "plt.ylabel('explained_variance_')"
   ]
  },
  {
   "cell_type": "code",
   "execution_count": 73,
   "metadata": {},
   "outputs": [
    {
     "data": {
      "text/plain": [
       "(2099, 40)"
      ]
     },
     "execution_count": 73,
     "metadata": {},
     "output_type": "execute_result"
    }
   ],
   "source": [
    "X_trainT.shape"
   ]
  }
 ],
 "metadata": {
  "kernelspec": {
   "display_name": "Python 3",
   "language": "python",
   "name": "python3"
  },
  "language_info": {
   "codemirror_mode": {
    "name": "ipython",
    "version": 3
   },
   "file_extension": ".py",
   "mimetype": "text/x-python",
   "name": "python",
   "nbconvert_exporter": "python",
   "pygments_lexer": "ipython3",
   "version": "3.6.7"
  }
 },
 "nbformat": 4,
 "nbformat_minor": 2
}
