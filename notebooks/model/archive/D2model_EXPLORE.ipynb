{
 "cells": [
  {
   "cell_type": "code",
   "execution_count": 1,
   "metadata": {},
   "outputs": [],
   "source": [
    "import pandas as pd\n",
    "import numpy as np"
   ]
  },
  {
   "cell_type": "code",
   "execution_count": 2,
   "metadata": {},
   "outputs": [],
   "source": [
    "import src"
   ]
  },
  {
   "cell_type": "code",
   "execution_count": 3,
   "metadata": {},
   "outputs": [
    {
     "data": {
      "text/plain": [
       "'C:\\\\Users\\\\bjk1y13\\\\OneDrive - University of Southampton\\\\MH028_UHS_Weather\\\\4_Analysis\\\\EDclassification\\\\notebooks\\\\model'"
      ]
     },
     "execution_count": 3,
     "metadata": {},
     "output_type": "execute_result"
    }
   ],
   "source": [
    "%pwd"
   ]
  },
  {
   "cell_type": "code",
   "execution_count": 4,
   "metadata": {},
   "outputs": [],
   "source": [
    "def load_pickle_preprocessed_data(path):\n",
    "    \"\"\"\n",
    "    Load pickled data for modelling.\n",
    "    \n",
    "    Input\n",
    "    =====\n",
    "    path, str, to fodler where data is located.\n",
    "    \n",
    "    Output\n",
    "    ======\n",
    "    X_train,dataframe, \n",
    "    X_test,dataframe, \n",
    "    y_train,dataframe, \n",
    "    y_test, dataframe, \n",
    "    \n",
    "    \"\"\"\n",
    "    #### load each data file\n",
    "    X_train = pd.read_pickle(path + 'X_train.pkl')\n",
    "    X_test = pd.read_pickle(path + 'X_test.pkl')\n",
    "    y_train = pd.read_pickle(path + 'y_train.pkl')\n",
    "    y_test = pd.read_pickle(path + 'y_test.pkl')\n",
    "    \n",
    "    return(X_train, X_test, y_train, y_test)\n",
    "\n",
    "X_train, X_test, y_train, y_test = load_pickle_preprocessed_data('../../data/processed/D2/')"
   ]
  },
  {
   "cell_type": "code",
   "execution_count": 5,
   "metadata": {},
   "outputs": [
    {
     "data": {
      "text/plain": [
       "(2099, 31)"
      ]
     },
     "execution_count": 5,
     "metadata": {},
     "output_type": "execute_result"
    }
   ],
   "source": [
    "X_train.shape"
   ]
  },
  {
   "cell_type": "code",
   "execution_count": 6,
   "metadata": {},
   "outputs": [
    {
     "data": {
      "text/html": [
       "<div>\n",
       "<style scoped>\n",
       "    .dataframe tbody tr th:only-of-type {\n",
       "        vertical-align: middle;\n",
       "    }\n",
       "\n",
       "    .dataframe tbody tr th {\n",
       "        vertical-align: top;\n",
       "    }\n",
       "\n",
       "    .dataframe thead th {\n",
       "        text-align: right;\n",
       "    }\n",
       "</style>\n",
       "<table border=\"1\" class=\"dataframe\">\n",
       "  <thead>\n",
       "    <tr style=\"text-align: right;\">\n",
       "      <th></th>\n",
       "      <th>EDDAILYage_mean</th>\n",
       "      <th>EDDAILYattendances</th>\n",
       "      <th>EDDAILYadmissions</th>\n",
       "      <th>year</th>\n",
       "      <th>IPDAILYage_mean_elecnonelec</th>\n",
       "      <th>EDDAILYage_75plus</th>\n",
       "      <th>IPDAILYpatients_total</th>\n",
       "      <th>TARGET_prevday</th>\n",
       "      <th>IPDAILYpatients_elec</th>\n",
       "      <th>IPDAILYpatients_nonelec</th>\n",
       "      <th>...</th>\n",
       "      <th>month_10</th>\n",
       "      <th>month_11</th>\n",
       "      <th>month_12</th>\n",
       "      <th>dayofweek_Monday</th>\n",
       "      <th>dayofweek_Tuesday</th>\n",
       "      <th>dayofweek_Wednesday</th>\n",
       "      <th>dayofweek_Thursday</th>\n",
       "      <th>dayofweek_Friday</th>\n",
       "      <th>dayofweek_Saturday</th>\n",
       "      <th>dayofweek_Sunday</th>\n",
       "    </tr>\n",
       "  </thead>\n",
       "  <tbody>\n",
       "    <tr>\n",
       "      <th>0</th>\n",
       "      <td>-0.929484</td>\n",
       "      <td>-0.102922</td>\n",
       "      <td>0.263304</td>\n",
       "      <td>-1.439714</td>\n",
       "      <td>1.053115</td>\n",
       "      <td>0.179602</td>\n",
       "      <td>-2.60968</td>\n",
       "      <td>1.330809</td>\n",
       "      <td>-3.567591</td>\n",
       "      <td>-1.427765</td>\n",
       "      <td>...</td>\n",
       "      <td>0.0</td>\n",
       "      <td>0.0</td>\n",
       "      <td>0.0</td>\n",
       "      <td>0.0</td>\n",
       "      <td>1.0</td>\n",
       "      <td>0.0</td>\n",
       "      <td>0.0</td>\n",
       "      <td>0.0</td>\n",
       "      <td>0.0</td>\n",
       "      <td>0.0</td>\n",
       "    </tr>\n",
       "  </tbody>\n",
       "</table>\n",
       "<p>1 rows × 31 columns</p>\n",
       "</div>"
      ],
      "text/plain": [
       "   EDDAILYage_mean  EDDAILYattendances  EDDAILYadmissions      year  \\\n",
       "0        -0.929484           -0.102922           0.263304 -1.439714   \n",
       "\n",
       "   IPDAILYage_mean_elecnonelec  EDDAILYage_75plus  IPDAILYpatients_total  \\\n",
       "0                     1.053115           0.179602               -2.60968   \n",
       "\n",
       "   TARGET_prevday  IPDAILYpatients_elec  IPDAILYpatients_nonelec  ...  \\\n",
       "0        1.330809             -3.567591                -1.427765  ...   \n",
       "\n",
       "   month_10  month_11  month_12  dayofweek_Monday  dayofweek_Tuesday  \\\n",
       "0       0.0       0.0       0.0               0.0                1.0   \n",
       "\n",
       "   dayofweek_Wednesday  dayofweek_Thursday  dayofweek_Friday  \\\n",
       "0                  0.0                 0.0               0.0   \n",
       "\n",
       "   dayofweek_Saturday  dayofweek_Sunday  \n",
       "0                 0.0               0.0  \n",
       "\n",
       "[1 rows x 31 columns]"
      ]
     },
     "execution_count": 6,
     "metadata": {},
     "output_type": "execute_result"
    }
   ],
   "source": [
    "X_train.head(1)"
   ]
  },
  {
   "cell_type": "markdown",
   "metadata": {},
   "source": [
    "# Lagging features of Target Only"
   ]
  },
  {
   "cell_type": "code",
   "execution_count": 7,
   "metadata": {},
   "outputs": [],
   "source": [
    "%matplotlib inline"
   ]
  },
  {
   "cell_type": "code",
   "execution_count": 8,
   "metadata": {},
   "outputs": [
    {
     "data": {
      "text/plain": [
       "<matplotlib.axes._subplots.AxesSubplot at 0x218ac2cca90>"
      ]
     },
     "execution_count": 8,
     "metadata": {},
     "output_type": "execute_result"
    },
    {
     "data": {
      "image/png": "[encoded data removed]",
      "text/plain": [
       "<Figure size 432x288 with 1 Axes>"
      ]
     },
     "metadata": {
      "needs_background": "light"
     },
     "output_type": "display_data"
    }
   ],
   "source": [
    "X_train.TARGET_prevday.plot()"
   ]
  },
  {
   "cell_type": "code",
   "execution_count": 9,
   "metadata": {},
   "outputs": [
    {
     "data": {
      "text/html": [
       "<div>\n",
       "<style scoped>\n",
       "    .dataframe tbody tr th:only-of-type {\n",
       "        vertical-align: middle;\n",
       "    }\n",
       "\n",
       "    .dataframe tbody tr th {\n",
       "        vertical-align: top;\n",
       "    }\n",
       "\n",
       "    .dataframe thead th {\n",
       "        text-align: right;\n",
       "    }\n",
       "</style>\n",
       "<table border=\"1\" class=\"dataframe\">\n",
       "  <thead>\n",
       "    <tr style=\"text-align: right;\">\n",
       "      <th></th>\n",
       "      <th>EDDAILYage_mean</th>\n",
       "      <th>EDDAILYattendances</th>\n",
       "      <th>EDDAILYadmissions</th>\n",
       "      <th>year</th>\n",
       "      <th>IPDAILYage_mean_elecnonelec</th>\n",
       "      <th>EDDAILYage_75plus</th>\n",
       "      <th>IPDAILYpatients_total</th>\n",
       "      <th>TARGET_prevday</th>\n",
       "      <th>IPDAILYpatients_elec</th>\n",
       "      <th>IPDAILYpatients_nonelec</th>\n",
       "      <th>...</th>\n",
       "      <th>month_10</th>\n",
       "      <th>month_11</th>\n",
       "      <th>month_12</th>\n",
       "      <th>dayofweek_Monday</th>\n",
       "      <th>dayofweek_Tuesday</th>\n",
       "      <th>dayofweek_Wednesday</th>\n",
       "      <th>dayofweek_Thursday</th>\n",
       "      <th>dayofweek_Friday</th>\n",
       "      <th>dayofweek_Saturday</th>\n",
       "      <th>dayofweek_Sunday</th>\n",
       "    </tr>\n",
       "  </thead>\n",
       "  <tbody>\n",
       "    <tr>\n",
       "      <th>0</th>\n",
       "      <td>-0.929484</td>\n",
       "      <td>-0.102922</td>\n",
       "      <td>0.263304</td>\n",
       "      <td>-1.439714</td>\n",
       "      <td>1.053115</td>\n",
       "      <td>0.179602</td>\n",
       "      <td>-2.60968</td>\n",
       "      <td>1.330809</td>\n",
       "      <td>-3.567591</td>\n",
       "      <td>-1.427765</td>\n",
       "      <td>...</td>\n",
       "      <td>0.0</td>\n",
       "      <td>0.0</td>\n",
       "      <td>0.0</td>\n",
       "      <td>0.0</td>\n",
       "      <td>1.0</td>\n",
       "      <td>0.0</td>\n",
       "      <td>0.0</td>\n",
       "      <td>0.0</td>\n",
       "      <td>0.0</td>\n",
       "      <td>0.0</td>\n",
       "    </tr>\n",
       "    <tr>\n",
       "      <th>1</th>\n",
       "      <td>0.121239</td>\n",
       "      <td>-0.894894</td>\n",
       "      <td>-0.414063</td>\n",
       "      <td>-1.439714</td>\n",
       "      <td>1.091859</td>\n",
       "      <td>-1.490443</td>\n",
       "      <td>-2.36508</td>\n",
       "      <td>-1.023303</td>\n",
       "      <td>-3.567591</td>\n",
       "      <td>-0.906032</td>\n",
       "      <td>...</td>\n",
       "      <td>0.0</td>\n",
       "      <td>0.0</td>\n",
       "      <td>0.0</td>\n",
       "      <td>0.0</td>\n",
       "      <td>0.0</td>\n",
       "      <td>0.0</td>\n",
       "      <td>0.0</td>\n",
       "      <td>0.0</td>\n",
       "      <td>1.0</td>\n",
       "      <td>0.0</td>\n",
       "    </tr>\n",
       "  </tbody>\n",
       "</table>\n",
       "<p>2 rows × 31 columns</p>\n",
       "</div>"
      ],
      "text/plain": [
       "   EDDAILYage_mean  EDDAILYattendances  EDDAILYadmissions      year  \\\n",
       "0        -0.929484           -0.102922           0.263304 -1.439714   \n",
       "1         0.121239           -0.894894          -0.414063 -1.439714   \n",
       "\n",
       "   IPDAILYage_mean_elecnonelec  EDDAILYage_75plus  IPDAILYpatients_total  \\\n",
       "0                     1.053115           0.179602               -2.60968   \n",
       "1                     1.091859          -1.490443               -2.36508   \n",
       "\n",
       "   TARGET_prevday  IPDAILYpatients_elec  IPDAILYpatients_nonelec  ...  \\\n",
       "0        1.330809             -3.567591                -1.427765  ...   \n",
       "1       -1.023303             -3.567591                -0.906032  ...   \n",
       "\n",
       "   month_10  month_11  month_12  dayofweek_Monday  dayofweek_Tuesday  \\\n",
       "0       0.0       0.0       0.0               0.0                1.0   \n",
       "1       0.0       0.0       0.0               0.0                0.0   \n",
       "\n",
       "   dayofweek_Wednesday  dayofweek_Thursday  dayofweek_Friday  \\\n",
       "0                  0.0                 0.0               0.0   \n",
       "1                  0.0                 0.0               0.0   \n",
       "\n",
       "   dayofweek_Saturday  dayofweek_Sunday  \n",
       "0                 0.0               0.0  \n",
       "1                 1.0               0.0  \n",
       "\n",
       "[2 rows x 31 columns]"
      ]
     },
     "execution_count": 9,
     "metadata": {},
     "output_type": "execute_result"
    }
   ],
   "source": [
    "X_train.head(2)"
   ]
  },
  {
   "cell_type": "code",
   "execution_count": 10,
   "metadata": {},
   "outputs": [
    {
     "data": {
      "text/plain": [
       "Index(['EDDAILYage_mean', 'EDDAILYattendances', 'EDDAILYadmissions', 'year',\n",
       "       'IPDAILYage_mean_elecnonelec', 'EDDAILYage_75plus',\n",
       "       'IPDAILYpatients_total', 'TARGET_prevday', 'IPDAILYpatients_elec',\n",
       "       'IPDAILYpatients_nonelec', 'IPDAILYage_75plus_elecnonelec',\n",
       "       'IPDAILYpatients_daycase', 'month_1', 'month_2', 'month_3', 'month_4',\n",
       "       'month_5', 'month_6', 'month_7', 'month_8', 'month_9', 'month_10',\n",
       "       'month_11', 'month_12', 'dayofweek_Monday', 'dayofweek_Tuesday',\n",
       "       'dayofweek_Wednesday', 'dayofweek_Thursday', 'dayofweek_Friday',\n",
       "       'dayofweek_Saturday', 'dayofweek_Sunday'],\n",
       "      dtype='object')"
      ]
     },
     "execution_count": 10,
     "metadata": {},
     "output_type": "execute_result"
    }
   ],
   "source": [
    "X_train.columns"
   ]
  },
  {
   "cell_type": "code",
   "execution_count": 11,
   "metadata": {},
   "outputs": [],
   "source": [
    "X_train = pd.DataFrame(X_train[['TARGET_prevday',\n",
    "                                'IPDAILYpatients_total',\n",
    "                                'EDDAILYage_mean', \n",
    "                                'EDDAILYattendances', \n",
    "                                'EDDAILYadmissions',\n",
    "                                'EDDAILYage_75plus',\n",
    "#                                 'IPDAILYpatients_elec',\n",
    "                               'IPDAILYpatients_nonelec',\n",
    "                                'IPDAILYage_75plus_elecnonelec',\n",
    "#                                'IPDAILYpatients_daycase',\n",
    "                                \n",
    "                               'month_1', 'month_2', 'month_3', 'month_4',\n",
    "       'month_5', 'month_6', 'month_7', 'month_8', 'month_9', 'month_10',\n",
    "       'month_11', 'month_12', 'dayofweek_Monday', 'dayofweek_Tuesday',\n",
    "       'dayofweek_Wednesday', 'dayofweek_Thursday', 'dayofweek_Friday',\n",
    "       'dayofweek_Saturday', 'dayofweek_Sunday',\n",
    "                               ]])"
   ]
  },
  {
   "cell_type": "markdown",
   "metadata": {},
   "source": [
    "fundtion for lagged features"
   ]
  },
  {
   "cell_type": "markdown",
   "metadata": {},
   "source": [
    "from sklearn.base import BaseEstimator, TransformerMixin\n",
    "from sklearn.pipeline import Pipeline, FeatureUnion\n",
    "from src.data.preprocess import DataFrameSelector\n",
    "\n",
    "\n",
    "class LagFeaturesForSelectedVars(BaseEstimator, TransformerMixin):\n",
    "    \"\"\"take df and dictionary of which columns to create lagged vas\n",
    "    dict keys contain column name and values contain list of int (time lags)\n",
    "    e.g. {'COUNT(EDatt)':[1,3,7,30]}\"\"\"\n",
    "\n",
    "    def __init__(self, col_changes, number_lags):\n",
    "        self.col_changes = col_changes\n",
    "        self.number_lags = number_lags\n",
    "    def fit(self, X, y=None):\n",
    "        return self\n",
    "    def transform(self, X):\n",
    "        for col_name in self.col_changes: #loop by columns (keys in dict)\n",
    "            print(col_name)\n",
    "            for i in np.arange(1, self.number_lags + 1):\n",
    "                X[col_name+'_lag'+str(i)] = X[col_name].shift(i)\n",
    "\n",
    "        return X"
   ]
  },
  {
   "cell_type": "markdown",
   "metadata": {},
   "source": [
    "            for i in self.col_changes[col_name]: #loop by value in dict correpsonding to key above\n",
    "                #print(i)\n",
    "                X[col_name+'_lag'+str(i)] = X[col_name].shift(i) # shift of each column and saving to new column with subscript\n",
    "                X[col_name+'_sum'+str(i)] = X[col_name].rolling(i).sum()\n",
    "                X[col_name+'_mean'+str(i)] = X[col_name].rolling(i).mean()"
   ]
  },
  {
   "cell_type": "markdown",
   "metadata": {},
   "source": [
    "lags_pipeline = Pipeline([\n",
    "    ('feature_lagger', LagFeaturesForSelectedVars(['TARGET_prevday'], 3)),\n",
    "    \n",
    "#     ('feature_filter',SelectKBest(f_classif,k='all')),\n",
    "#     ('imputer',SimpleImputer(strategy='median')),\n",
    "#     ('std_scaler',StandardScaler()),\n",
    "])\n",
    "\n",
    "#### create list of pipelines to include\n",
    "pipes_list = [\n",
    "    ('lags_pipeline',lags_pipeline),\n",
    "]\n",
    "\n",
    "full_pipeline = FeatureUnion(transformer_list=pipes_list)\n",
    "\n",
    "\n",
    "X_trainT = full_pipeline.fit_transform(X_train,y_train)\n",
    "X_testT = full_pipeline.transform(X_test)"
   ]
  },
  {
   "cell_type": "code",
   "execution_count": 12,
   "metadata": {},
   "outputs": [],
   "source": [
    "def create_lagged_vars(df, col_name, number_lags):\n",
    "    \"\"\n",
    "    for i in np.arange(1, number_lags + 1):\n",
    "        df[col_name+'_lag'+str(i)] = df[col_name].shift(i)\n",
    "    return(df)\n",
    "\n",
    "\n",
    "\n",
    "no_lags = 4\n",
    "X_trainT = create_lagged_vars(X_train.copy(), 'TARGET_prevday', no_lags)\n",
    "\n",
    "X_trainT = create_lagged_vars(X_trainT.copy(), 'IPDAILYpatients_total', no_lags)\n",
    "\n",
    "X_trainT.fillna(method='bfill', inplace=True)\n"
   ]
  },
  {
   "cell_type": "code",
   "execution_count": 13,
   "metadata": {},
   "outputs": [
    {
     "data": {
      "text/html": [
       "<div>\n",
       "<style scoped>\n",
       "    .dataframe tbody tr th:only-of-type {\n",
       "        vertical-align: middle;\n",
       "    }\n",
       "\n",
       "    .dataframe tbody tr th {\n",
       "        vertical-align: top;\n",
       "    }\n",
       "\n",
       "    .dataframe thead th {\n",
       "        text-align: right;\n",
       "    }\n",
       "</style>\n",
       "<table border=\"1\" class=\"dataframe\">\n",
       "  <thead>\n",
       "    <tr style=\"text-align: right;\">\n",
       "      <th></th>\n",
       "      <th>TARGET_prevday</th>\n",
       "      <th>IPDAILYpatients_total</th>\n",
       "      <th>EDDAILYage_mean</th>\n",
       "      <th>EDDAILYattendances</th>\n",
       "      <th>EDDAILYadmissions</th>\n",
       "      <th>EDDAILYage_75plus</th>\n",
       "      <th>IPDAILYpatients_nonelec</th>\n",
       "      <th>IPDAILYage_75plus_elecnonelec</th>\n",
       "      <th>month_1</th>\n",
       "      <th>month_2</th>\n",
       "      <th>...</th>\n",
       "      <th>dayofweek_Saturday</th>\n",
       "      <th>dayofweek_Sunday</th>\n",
       "      <th>TARGET_prevday_lag1</th>\n",
       "      <th>TARGET_prevday_lag2</th>\n",
       "      <th>TARGET_prevday_lag3</th>\n",
       "      <th>TARGET_prevday_lag4</th>\n",
       "      <th>IPDAILYpatients_total_lag1</th>\n",
       "      <th>IPDAILYpatients_total_lag2</th>\n",
       "      <th>IPDAILYpatients_total_lag3</th>\n",
       "      <th>IPDAILYpatients_total_lag4</th>\n",
       "    </tr>\n",
       "  </thead>\n",
       "  <tbody>\n",
       "    <tr>\n",
       "      <th>0</th>\n",
       "      <td>1.330809</td>\n",
       "      <td>-2.609680</td>\n",
       "      <td>-0.929484</td>\n",
       "      <td>-0.102922</td>\n",
       "      <td>0.263304</td>\n",
       "      <td>0.179602</td>\n",
       "      <td>-1.427765</td>\n",
       "      <td>-2.008811</td>\n",
       "      <td>1.0</td>\n",
       "      <td>0.0</td>\n",
       "      <td>...</td>\n",
       "      <td>0.0</td>\n",
       "      <td>0.0</td>\n",
       "      <td>1.330809</td>\n",
       "      <td>1.330809</td>\n",
       "      <td>1.330809</td>\n",
       "      <td>1.330809</td>\n",
       "      <td>-2.609680</td>\n",
       "      <td>-2.609680</td>\n",
       "      <td>-2.60968</td>\n",
       "      <td>-2.60968</td>\n",
       "    </tr>\n",
       "    <tr>\n",
       "      <th>1</th>\n",
       "      <td>-1.023303</td>\n",
       "      <td>-2.365080</td>\n",
       "      <td>0.121239</td>\n",
       "      <td>-0.894894</td>\n",
       "      <td>-0.414063</td>\n",
       "      <td>-1.490443</td>\n",
       "      <td>-0.906032</td>\n",
       "      <td>-1.698567</td>\n",
       "      <td>1.0</td>\n",
       "      <td>0.0</td>\n",
       "      <td>...</td>\n",
       "      <td>1.0</td>\n",
       "      <td>0.0</td>\n",
       "      <td>1.330809</td>\n",
       "      <td>1.330809</td>\n",
       "      <td>1.330809</td>\n",
       "      <td>1.330809</td>\n",
       "      <td>-2.609680</td>\n",
       "      <td>-2.609680</td>\n",
       "      <td>-2.60968</td>\n",
       "      <td>-2.60968</td>\n",
       "    </tr>\n",
       "    <tr>\n",
       "      <th>2</th>\n",
       "      <td>-0.795302</td>\n",
       "      <td>-0.453781</td>\n",
       "      <td>1.505854</td>\n",
       "      <td>-0.718901</td>\n",
       "      <td>-1.204324</td>\n",
       "      <td>0.068266</td>\n",
       "      <td>-0.369806</td>\n",
       "      <td>-1.129788</td>\n",
       "      <td>1.0</td>\n",
       "      <td>0.0</td>\n",
       "      <td>...</td>\n",
       "      <td>0.0</td>\n",
       "      <td>1.0</td>\n",
       "      <td>-1.023303</td>\n",
       "      <td>1.330809</td>\n",
       "      <td>1.330809</td>\n",
       "      <td>1.330809</td>\n",
       "      <td>-2.365080</td>\n",
       "      <td>-2.609680</td>\n",
       "      <td>-2.60968</td>\n",
       "      <td>-2.60968</td>\n",
       "    </tr>\n",
       "    <tr>\n",
       "      <th>3</th>\n",
       "      <td>-1.866908</td>\n",
       "      <td>-0.618744</td>\n",
       "      <td>0.261197</td>\n",
       "      <td>-2.830828</td>\n",
       "      <td>-3.067083</td>\n",
       "      <td>-0.933761</td>\n",
       "      <td>-0.485747</td>\n",
       "      <td>-0.948812</td>\n",
       "      <td>1.0</td>\n",
       "      <td>0.0</td>\n",
       "      <td>...</td>\n",
       "      <td>0.0</td>\n",
       "      <td>0.0</td>\n",
       "      <td>-0.795302</td>\n",
       "      <td>-1.023303</td>\n",
       "      <td>1.330809</td>\n",
       "      <td>1.330809</td>\n",
       "      <td>-0.453781</td>\n",
       "      <td>-2.365080</td>\n",
       "      <td>-2.60968</td>\n",
       "      <td>-2.60968</td>\n",
       "    </tr>\n",
       "    <tr>\n",
       "      <th>4</th>\n",
       "      <td>-1.901108</td>\n",
       "      <td>-0.106789</td>\n",
       "      <td>3.049384</td>\n",
       "      <td>-2.156184</td>\n",
       "      <td>-1.486560</td>\n",
       "      <td>1.404302</td>\n",
       "      <td>-0.065462</td>\n",
       "      <td>-0.509300</td>\n",
       "      <td>1.0</td>\n",
       "      <td>0.0</td>\n",
       "      <td>...</td>\n",
       "      <td>0.0</td>\n",
       "      <td>0.0</td>\n",
       "      <td>-1.866908</td>\n",
       "      <td>-0.795302</td>\n",
       "      <td>-1.023303</td>\n",
       "      <td>1.330809</td>\n",
       "      <td>-0.618744</td>\n",
       "      <td>-0.453781</td>\n",
       "      <td>-2.36508</td>\n",
       "      <td>-2.60968</td>\n",
       "    </tr>\n",
       "  </tbody>\n",
       "</table>\n",
       "<p>5 rows × 35 columns</p>\n",
       "</div>"
      ],
      "text/plain": [
       "   TARGET_prevday  IPDAILYpatients_total  EDDAILYage_mean  EDDAILYattendances  \\\n",
       "0        1.330809              -2.609680        -0.929484           -0.102922   \n",
       "1       -1.023303              -2.365080         0.121239           -0.894894   \n",
       "2       -0.795302              -0.453781         1.505854           -0.718901   \n",
       "3       -1.866908              -0.618744         0.261197           -2.830828   \n",
       "4       -1.901108              -0.106789         3.049384           -2.156184   \n",
       "\n",
       "   EDDAILYadmissions  EDDAILYage_75plus  IPDAILYpatients_nonelec  \\\n",
       "0           0.263304           0.179602                -1.427765   \n",
       "1          -0.414063          -1.490443                -0.906032   \n",
       "2          -1.204324           0.068266                -0.369806   \n",
       "3          -3.067083          -0.933761                -0.485747   \n",
       "4          -1.486560           1.404302                -0.065462   \n",
       "\n",
       "   IPDAILYage_75plus_elecnonelec  month_1  month_2  ...  dayofweek_Saturday  \\\n",
       "0                      -2.008811      1.0      0.0  ...                 0.0   \n",
       "1                      -1.698567      1.0      0.0  ...                 1.0   \n",
       "2                      -1.129788      1.0      0.0  ...                 0.0   \n",
       "3                      -0.948812      1.0      0.0  ...                 0.0   \n",
       "4                      -0.509300      1.0      0.0  ...                 0.0   \n",
       "\n",
       "   dayofweek_Sunday  TARGET_prevday_lag1  TARGET_prevday_lag2  \\\n",
       "0               0.0             1.330809             1.330809   \n",
       "1               0.0             1.330809             1.330809   \n",
       "2               1.0            -1.023303             1.330809   \n",
       "3               0.0            -0.795302            -1.023303   \n",
       "4               0.0            -1.866908            -0.795302   \n",
       "\n",
       "   TARGET_prevday_lag3  TARGET_prevday_lag4  IPDAILYpatients_total_lag1  \\\n",
       "0             1.330809             1.330809                   -2.609680   \n",
       "1             1.330809             1.330809                   -2.609680   \n",
       "2             1.330809             1.330809                   -2.365080   \n",
       "3             1.330809             1.330809                   -0.453781   \n",
       "4            -1.023303             1.330809                   -0.618744   \n",
       "\n",
       "   IPDAILYpatients_total_lag2  IPDAILYpatients_total_lag3  \\\n",
       "0                   -2.609680                    -2.60968   \n",
       "1                   -2.609680                    -2.60968   \n",
       "2                   -2.609680                    -2.60968   \n",
       "3                   -2.365080                    -2.60968   \n",
       "4                   -0.453781                    -2.36508   \n",
       "\n",
       "   IPDAILYpatients_total_lag4  \n",
       "0                    -2.60968  \n",
       "1                    -2.60968  \n",
       "2                    -2.60968  \n",
       "3                    -2.60968  \n",
       "4                    -2.60968  \n",
       "\n",
       "[5 rows x 35 columns]"
      ]
     },
     "execution_count": 13,
     "metadata": {},
     "output_type": "execute_result"
    }
   ],
   "source": [
    "\n",
    "X_trainT.head()"
   ]
  },
  {
   "cell_type": "markdown",
   "metadata": {},
   "source": [
    "#### makeing derivitives"
   ]
  },
  {
   "cell_type": "code",
   "execution_count": 14,
   "metadata": {},
   "outputs": [],
   "source": [
    "# df['crude'] = \n",
    "\n",
    "def make_col_derivative(df, column_name ,deriv_lag):\n",
    "    \"\"\"\n",
    "    Parameters\n",
    "    ==========\n",
    "    df, dataframe, \n",
    "    column_name, str, name of column\n",
    "    deriv_lag, int, number of points to lag over\n",
    "    \n",
    "    Returns\n",
    "    =======\n",
    "    derivative, Series, new derivative column\n",
    "    \"\"\"\n",
    "    new_col_name = column_name + '_deriv' + str(deriv_lag)\n",
    "    \n",
    "    #### Make time column in new df\n",
    "    deriv_df = pd.DataFrame(np.arange(0, len(df)),columns = ['time'], index = df.index)\n",
    "    \n",
    "    ####\n",
    "    deriv_df['X'] = df[column_name]\n",
    "    crude_deriv = (deriv_df['X'].diff(deriv_lag))/(deriv_df['time'].diff(deriv_lag))\n",
    "    deriv_df[new_col_name] = crude_deriv\n",
    "    deriv_df.bfill(inplace=True)\n",
    "    \n",
    "    \n",
    "    derivative = deriv_df[new_col_name]\n",
    "\n",
    "    return(derivative)\n",
    "\n",
    "def perform_deriv_cals_multiple_columns(df, columns_dict):\n",
    "    \"\"\"\n",
    "    Calls make_col_derivatives on multiple columns based on user input of dict.\n",
    "    Parameters\n",
    "    ==========\n",
    "    \n",
    "    \"\"\"\n",
    "    #### loop over each column\n",
    "    for column in columns_dict.keys():\n",
    "        #### loop over each lag requested\n",
    "        for deriv_lag in columns_dict[column]:\n",
    "            new_col_name = column + '_deriv' + str(deriv_lag) # get new name for column\n",
    "            df[new_col_name] = make_col_derivative(df, column, deriv_lag)\n",
    "    return(df)"
   ]
  },
  {
   "cell_type": "code",
   "execution_count": 15,
   "metadata": {},
   "outputs": [],
   "source": [
    "lags_required = {'TARGET_prevday':[1,3,7],\n",
    "                 'IPDAILYpatients_total':[1,3,7],\n",
    "                'EDDAILYadmissions':[3,7],\n",
    "#                  'EDDAILYattendances':[3,7], \n",
    "#                 'EDDAILYage_75plus':[3,7],\n",
    "                \n",
    "                }\n",
    "X_trainT = perform_deriv_cals_multiple_columns(X_trainT, lags_required)"
   ]
  },
  {
   "cell_type": "code",
   "execution_count": 16,
   "metadata": {},
   "outputs": [
    {
     "data": {
      "text/html": [
       "<div>\n",
       "<style scoped>\n",
       "    .dataframe tbody tr th:only-of-type {\n",
       "        vertical-align: middle;\n",
       "    }\n",
       "\n",
       "    .dataframe tbody tr th {\n",
       "        vertical-align: top;\n",
       "    }\n",
       "\n",
       "    .dataframe thead th {\n",
       "        text-align: right;\n",
       "    }\n",
       "</style>\n",
       "<table border=\"1\" class=\"dataframe\">\n",
       "  <thead>\n",
       "    <tr style=\"text-align: right;\">\n",
       "      <th></th>\n",
       "      <th>TARGET_prevday</th>\n",
       "      <th>IPDAILYpatients_total</th>\n",
       "      <th>EDDAILYage_mean</th>\n",
       "      <th>EDDAILYattendances</th>\n",
       "      <th>EDDAILYadmissions</th>\n",
       "      <th>EDDAILYage_75plus</th>\n",
       "      <th>IPDAILYpatients_nonelec</th>\n",
       "      <th>IPDAILYage_75plus_elecnonelec</th>\n",
       "      <th>month_1</th>\n",
       "      <th>month_2</th>\n",
       "      <th>...</th>\n",
       "      <th>IPDAILYpatients_total_lag3</th>\n",
       "      <th>IPDAILYpatients_total_lag4</th>\n",
       "      <th>TARGET_prevday_deriv1</th>\n",
       "      <th>TARGET_prevday_deriv3</th>\n",
       "      <th>TARGET_prevday_deriv7</th>\n",
       "      <th>IPDAILYpatients_total_deriv1</th>\n",
       "      <th>IPDAILYpatients_total_deriv3</th>\n",
       "      <th>IPDAILYpatients_total_deriv7</th>\n",
       "      <th>EDDAILYadmissions_deriv3</th>\n",
       "      <th>EDDAILYadmissions_deriv7</th>\n",
       "    </tr>\n",
       "  </thead>\n",
       "  <tbody>\n",
       "    <tr>\n",
       "      <th>0</th>\n",
       "      <td>1.330809</td>\n",
       "      <td>-2.609680</td>\n",
       "      <td>-0.929484</td>\n",
       "      <td>-0.102922</td>\n",
       "      <td>0.263304</td>\n",
       "      <td>0.179602</td>\n",
       "      <td>-1.427765</td>\n",
       "      <td>-2.008811</td>\n",
       "      <td>1.0</td>\n",
       "      <td>0.0</td>\n",
       "      <td>...</td>\n",
       "      <td>-2.60968</td>\n",
       "      <td>-2.60968</td>\n",
       "      <td>-2.354112</td>\n",
       "      <td>-1.065906</td>\n",
       "      <td>-0.379459</td>\n",
       "      <td>0.244601</td>\n",
       "      <td>0.663645</td>\n",
       "      <td>0.104016</td>\n",
       "      <td>-1.110129</td>\n",
       "      <td>-0.137086</td>\n",
       "    </tr>\n",
       "    <tr>\n",
       "      <th>1</th>\n",
       "      <td>-1.023303</td>\n",
       "      <td>-2.365080</td>\n",
       "      <td>0.121239</td>\n",
       "      <td>-0.894894</td>\n",
       "      <td>-0.414063</td>\n",
       "      <td>-1.490443</td>\n",
       "      <td>-0.906032</td>\n",
       "      <td>-1.698567</td>\n",
       "      <td>1.0</td>\n",
       "      <td>0.0</td>\n",
       "      <td>...</td>\n",
       "      <td>-2.60968</td>\n",
       "      <td>-2.60968</td>\n",
       "      <td>-2.354112</td>\n",
       "      <td>-1.065906</td>\n",
       "      <td>-0.379459</td>\n",
       "      <td>0.244601</td>\n",
       "      <td>0.663645</td>\n",
       "      <td>0.104016</td>\n",
       "      <td>-1.110129</td>\n",
       "      <td>-0.137086</td>\n",
       "    </tr>\n",
       "    <tr>\n",
       "      <th>2</th>\n",
       "      <td>-0.795302</td>\n",
       "      <td>-0.453781</td>\n",
       "      <td>1.505854</td>\n",
       "      <td>-0.718901</td>\n",
       "      <td>-1.204324</td>\n",
       "      <td>0.068266</td>\n",
       "      <td>-0.369806</td>\n",
       "      <td>-1.129788</td>\n",
       "      <td>1.0</td>\n",
       "      <td>0.0</td>\n",
       "      <td>...</td>\n",
       "      <td>-2.60968</td>\n",
       "      <td>-2.60968</td>\n",
       "      <td>0.228001</td>\n",
       "      <td>-1.065906</td>\n",
       "      <td>-0.379459</td>\n",
       "      <td>1.911299</td>\n",
       "      <td>0.663645</td>\n",
       "      <td>0.104016</td>\n",
       "      <td>-1.110129</td>\n",
       "      <td>-0.137086</td>\n",
       "    </tr>\n",
       "    <tr>\n",
       "      <th>3</th>\n",
       "      <td>-1.866908</td>\n",
       "      <td>-0.618744</td>\n",
       "      <td>0.261197</td>\n",
       "      <td>-2.830828</td>\n",
       "      <td>-3.067083</td>\n",
       "      <td>-0.933761</td>\n",
       "      <td>-0.485747</td>\n",
       "      <td>-0.948812</td>\n",
       "      <td>1.0</td>\n",
       "      <td>0.0</td>\n",
       "      <td>...</td>\n",
       "      <td>-2.60968</td>\n",
       "      <td>-2.60968</td>\n",
       "      <td>-1.071606</td>\n",
       "      <td>-1.065906</td>\n",
       "      <td>-0.379459</td>\n",
       "      <td>-0.164963</td>\n",
       "      <td>0.663645</td>\n",
       "      <td>0.104016</td>\n",
       "      <td>-1.110129</td>\n",
       "      <td>-0.137086</td>\n",
       "    </tr>\n",
       "    <tr>\n",
       "      <th>4</th>\n",
       "      <td>-1.901108</td>\n",
       "      <td>-0.106789</td>\n",
       "      <td>3.049384</td>\n",
       "      <td>-2.156184</td>\n",
       "      <td>-1.486560</td>\n",
       "      <td>1.404302</td>\n",
       "      <td>-0.065462</td>\n",
       "      <td>-0.509300</td>\n",
       "      <td>1.0</td>\n",
       "      <td>0.0</td>\n",
       "      <td>...</td>\n",
       "      <td>-2.36508</td>\n",
       "      <td>-2.60968</td>\n",
       "      <td>-0.034200</td>\n",
       "      <td>-0.292602</td>\n",
       "      <td>-0.379459</td>\n",
       "      <td>0.511955</td>\n",
       "      <td>0.752763</td>\n",
       "      <td>0.104016</td>\n",
       "      <td>-0.357499</td>\n",
       "      <td>-0.137086</td>\n",
       "    </tr>\n",
       "  </tbody>\n",
       "</table>\n",
       "<p>5 rows × 43 columns</p>\n",
       "</div>"
      ],
      "text/plain": [
       "   TARGET_prevday  IPDAILYpatients_total  EDDAILYage_mean  EDDAILYattendances  \\\n",
       "0        1.330809              -2.609680        -0.929484           -0.102922   \n",
       "1       -1.023303              -2.365080         0.121239           -0.894894   \n",
       "2       -0.795302              -0.453781         1.505854           -0.718901   \n",
       "3       -1.866908              -0.618744         0.261197           -2.830828   \n",
       "4       -1.901108              -0.106789         3.049384           -2.156184   \n",
       "\n",
       "   EDDAILYadmissions  EDDAILYage_75plus  IPDAILYpatients_nonelec  \\\n",
       "0           0.263304           0.179602                -1.427765   \n",
       "1          -0.414063          -1.490443                -0.906032   \n",
       "2          -1.204324           0.068266                -0.369806   \n",
       "3          -3.067083          -0.933761                -0.485747   \n",
       "4          -1.486560           1.404302                -0.065462   \n",
       "\n",
       "   IPDAILYage_75plus_elecnonelec  month_1  month_2  ...  \\\n",
       "0                      -2.008811      1.0      0.0  ...   \n",
       "1                      -1.698567      1.0      0.0  ...   \n",
       "2                      -1.129788      1.0      0.0  ...   \n",
       "3                      -0.948812      1.0      0.0  ...   \n",
       "4                      -0.509300      1.0      0.0  ...   \n",
       "\n",
       "   IPDAILYpatients_total_lag3  IPDAILYpatients_total_lag4  \\\n",
       "0                    -2.60968                    -2.60968   \n",
       "1                    -2.60968                    -2.60968   \n",
       "2                    -2.60968                    -2.60968   \n",
       "3                    -2.60968                    -2.60968   \n",
       "4                    -2.36508                    -2.60968   \n",
       "\n",
       "   TARGET_prevday_deriv1  TARGET_prevday_deriv3  TARGET_prevday_deriv7  \\\n",
       "0              -2.354112              -1.065906              -0.379459   \n",
       "1              -2.354112              -1.065906              -0.379459   \n",
       "2               0.228001              -1.065906              -0.379459   \n",
       "3              -1.071606              -1.065906              -0.379459   \n",
       "4              -0.034200              -0.292602              -0.379459   \n",
       "\n",
       "   IPDAILYpatients_total_deriv1  IPDAILYpatients_total_deriv3  \\\n",
       "0                      0.244601                      0.663645   \n",
       "1                      0.244601                      0.663645   \n",
       "2                      1.911299                      0.663645   \n",
       "3                     -0.164963                      0.663645   \n",
       "4                      0.511955                      0.752763   \n",
       "\n",
       "   IPDAILYpatients_total_deriv7  EDDAILYadmissions_deriv3  \\\n",
       "0                      0.104016                 -1.110129   \n",
       "1                      0.104016                 -1.110129   \n",
       "2                      0.104016                 -1.110129   \n",
       "3                      0.104016                 -1.110129   \n",
       "4                      0.104016                 -0.357499   \n",
       "\n",
       "   EDDAILYadmissions_deriv7  \n",
       "0                 -0.137086  \n",
       "1                 -0.137086  \n",
       "2                 -0.137086  \n",
       "3                 -0.137086  \n",
       "4                 -0.137086  \n",
       "\n",
       "[5 rows x 43 columns]"
      ]
     },
     "execution_count": 16,
     "metadata": {},
     "output_type": "execute_result"
    }
   ],
   "source": [
    "X_trainT.head()"
   ]
  },
  {
   "cell_type": "code",
   "execution_count": 17,
   "metadata": {},
   "outputs": [
    {
     "data": {
      "text/plain": [
       "<matplotlib.axes._subplots.AxesSubplot at 0x218ac627630>"
      ]
     },
     "execution_count": 17,
     "metadata": {},
     "output_type": "execute_result"
    },
    {
     "data": {
      "image/png": "[encoded data removed]",
      "text/plain": [
       "<Figure size 432x288 with 1 Axes>"
      ]
     },
     "metadata": {
      "needs_background": "light"
     },
     "output_type": "display_data"
    }
   ],
   "source": [
    "X_trainT[['TARGET_prevday','TARGET_prevday_deriv7']].iloc[30:60].plot(grid=True)"
   ]
  },
  {
   "cell_type": "code",
   "execution_count": null,
   "metadata": {},
   "outputs": [],
   "source": []
  },
  {
   "cell_type": "markdown",
   "metadata": {},
   "source": [
    "# Run CV gridsearch"
   ]
  },
  {
   "cell_type": "code",
   "execution_count": 18,
   "metadata": {},
   "outputs": [],
   "source": [
    "from sklearn.metrics import classification_report,precision_score, recall_score, confusion_matrix, accuracy_score\n",
    "from sklearn.metrics import precision_recall_curve,roc_curve\n",
    "from sklearn.model_selection import TimeSeriesSplit\n",
    "\n",
    "from sklearn.model_selection import cross_val_predict, cross_val_score, GridSearchCV\n",
    "\n",
    "\n",
    "\n",
    "def find_best_model(model, grid, Xdata, ydata, plot_label):\n",
    "    \"\"\"does gridsearch for model and plots result from \"\"\"\n",
    "    my_cv = TimeSeriesSplit(n_splits=5).split(Xdata) # 5 chosen as gives roughly 1 year groups for each fold\n",
    "    grid_search = GridSearchCV(model,grid,scoring='f1',cv=my_cv,return_train_score=True)\n",
    "    grid_search.fit(Xdata,ydata)\n",
    "    model = grid_search.best_estimator_\n",
    "    print('CV MODEL RESULTS')\n",
    "    print(grid_search.best_params_)\n",
    "    print(pd.DataFrame(grid_search.cv_results_).query('rank_test_score == 1')[['mean_test_score','mean_train_score']])\n",
    "    \n",
    "#     plot_model_perf(ydata,Xdata,model,plot_label)\n",
    "\n",
    "    \n",
    "    return(grid_search)\n",
    "    "
   ]
  },
  {
   "cell_type": "code",
   "execution_count": 19,
   "metadata": {},
   "outputs": [],
   "source": [
    "from sklearn.linear_model import LogisticRegression\n",
    "lgr = LogisticRegression(solver='liblinear',class_weight ='balanced')"
   ]
  },
  {
   "cell_type": "code",
   "execution_count": 20,
   "metadata": {},
   "outputs": [
    {
     "name": "stdout",
     "output_type": "stream",
     "text": [
      "CV MODEL RESULTS\n",
      "{'C': 0.01}\n",
      "   mean_test_score  mean_train_score\n",
      "0          0.44426          0.487738\n"
     ]
    }
   ],
   "source": [
    "grid = {'C':[0.01, 0.05, 0.1,0.2,0.3,0.5,0.7,1,3,10]}\n",
    "# grid = {'C':[0.1]}\n",
    "\n",
    "grid_search = find_best_model(lgr,grid,X_trainT,y_train,'CV set')"
   ]
  },
  {
   "cell_type": "code",
   "execution_count": 21,
   "metadata": {},
   "outputs": [],
   "source": [
    "lgr = grid_search.best_estimator_\n",
    "\n",
    "# grid_search.fit(X_trainT,y_train)\n",
    "# plot_model_perf(y_test,X_testT,grid_search.best_estimator_,'Test')"
   ]
  },
  {
   "cell_type": "code",
   "execution_count": 22,
   "metadata": {},
   "outputs": [
    {
     "data": {
      "text/html": [
       "<div>\n",
       "<style scoped>\n",
       "    .dataframe tbody tr th:only-of-type {\n",
       "        vertical-align: middle;\n",
       "    }\n",
       "\n",
       "    .dataframe tbody tr th {\n",
       "        vertical-align: top;\n",
       "    }\n",
       "\n",
       "    .dataframe thead th {\n",
       "        text-align: right;\n",
       "    }\n",
       "</style>\n",
       "<table border=\"1\" class=\"dataframe\">\n",
       "  <thead>\n",
       "    <tr style=\"text-align: right;\">\n",
       "      <th></th>\n",
       "      <th>0</th>\n",
       "      <th>1</th>\n",
       "      <th>2</th>\n",
       "      <th>3</th>\n",
       "      <th>4</th>\n",
       "      <th>5</th>\n",
       "      <th>6</th>\n",
       "      <th>7</th>\n",
       "      <th>8</th>\n",
       "      <th>9</th>\n",
       "    </tr>\n",
       "  </thead>\n",
       "  <tbody>\n",
       "    <tr>\n",
       "      <th>mean_fit_time</th>\n",
       "      <td>0.00877647</td>\n",
       "      <td>0.00578508</td>\n",
       "      <td>0.00698128</td>\n",
       "      <td>0.0101731</td>\n",
       "      <td>0.00857682</td>\n",
       "      <td>0.010173</td>\n",
       "      <td>0.00917468</td>\n",
       "      <td>0.00977316</td>\n",
       "      <td>0.0115687</td>\n",
       "      <td>0.0159671</td>\n",
       "    </tr>\n",
       "    <tr>\n",
       "      <th>std_fit_time</th>\n",
       "      <td>0.00146521</td>\n",
       "      <td>0.00193461</td>\n",
       "      <td>0.00315416</td>\n",
       "      <td>0.0054403</td>\n",
       "      <td>0.0040196</td>\n",
       "      <td>0.00456578</td>\n",
       "      <td>0.00364534</td>\n",
       "      <td>0.00438754</td>\n",
       "      <td>0.00566285</td>\n",
       "      <td>0.00664843</td>\n",
       "    </tr>\n",
       "    <tr>\n",
       "      <th>mean_score_time</th>\n",
       "      <td>0.00299172</td>\n",
       "      <td>0.00159535</td>\n",
       "      <td>0.00239372</td>\n",
       "      <td>0.00219426</td>\n",
       "      <td>0.00199547</td>\n",
       "      <td>0.00199471</td>\n",
       "      <td>0.00199523</td>\n",
       "      <td>0.00199528</td>\n",
       "      <td>0.0017962</td>\n",
       "      <td>0.0025835</td>\n",
       "    </tr>\n",
       "    <tr>\n",
       "      <th>std_score_time</th>\n",
       "      <td>0.00126101</td>\n",
       "      <td>0.000488795</td>\n",
       "      <td>0.00048813</td>\n",
       "      <td>0.000398709</td>\n",
       "      <td>1.05121e-06</td>\n",
       "      <td>0.000630827</td>\n",
       "      <td>0.000631053</td>\n",
       "      <td>1.19114e-06</td>\n",
       "      <td>0.000745576</td>\n",
       "      <td>0.000499103</td>\n",
       "    </tr>\n",
       "    <tr>\n",
       "      <th>param_C</th>\n",
       "      <td>0.01</td>\n",
       "      <td>0.05</td>\n",
       "      <td>0.1</td>\n",
       "      <td>0.2</td>\n",
       "      <td>0.3</td>\n",
       "      <td>0.5</td>\n",
       "      <td>0.7</td>\n",
       "      <td>1</td>\n",
       "      <td>3</td>\n",
       "      <td>10</td>\n",
       "    </tr>\n",
       "    <tr>\n",
       "      <th>params</th>\n",
       "      <td>{'C': 0.01}</td>\n",
       "      <td>{'C': 0.05}</td>\n",
       "      <td>{'C': 0.1}</td>\n",
       "      <td>{'C': 0.2}</td>\n",
       "      <td>{'C': 0.3}</td>\n",
       "      <td>{'C': 0.5}</td>\n",
       "      <td>{'C': 0.7}</td>\n",
       "      <td>{'C': 1}</td>\n",
       "      <td>{'C': 3}</td>\n",
       "      <td>{'C': 10}</td>\n",
       "    </tr>\n",
       "    <tr>\n",
       "      <th>split0_test_score</th>\n",
       "      <td>0.475676</td>\n",
       "      <td>0.434343</td>\n",
       "      <td>0.432692</td>\n",
       "      <td>0.436893</td>\n",
       "      <td>0.413462</td>\n",
       "      <td>0.413462</td>\n",
       "      <td>0.413462</td>\n",
       "      <td>0.411483</td>\n",
       "      <td>0.411483</td>\n",
       "      <td>0.407767</td>\n",
       "    </tr>\n",
       "    <tr>\n",
       "      <th>split1_test_score</th>\n",
       "      <td>0.409756</td>\n",
       "      <td>0.416244</td>\n",
       "      <td>0.427083</td>\n",
       "      <td>0.448087</td>\n",
       "      <td>0.440678</td>\n",
       "      <td>0.453488</td>\n",
       "      <td>0.449704</td>\n",
       "      <td>0.460606</td>\n",
       "      <td>0.459627</td>\n",
       "      <td>0.459627</td>\n",
       "    </tr>\n",
       "    <tr>\n",
       "      <th>split2_test_score</th>\n",
       "      <td>0.506024</td>\n",
       "      <td>0.478873</td>\n",
       "      <td>0.49635</td>\n",
       "      <td>0.481203</td>\n",
       "      <td>0.481203</td>\n",
       "      <td>0.469697</td>\n",
       "      <td>0.465116</td>\n",
       "      <td>0.472441</td>\n",
       "      <td>0.456693</td>\n",
       "      <td>0.444444</td>\n",
       "    </tr>\n",
       "    <tr>\n",
       "      <th>split3_test_score</th>\n",
       "      <td>0.446512</td>\n",
       "      <td>0.451923</td>\n",
       "      <td>0.464646</td>\n",
       "      <td>0.469388</td>\n",
       "      <td>0.476684</td>\n",
       "      <td>0.476684</td>\n",
       "      <td>0.484211</td>\n",
       "      <td>0.486772</td>\n",
       "      <td>0.489362</td>\n",
       "      <td>0.489362</td>\n",
       "    </tr>\n",
       "    <tr>\n",
       "      <th>split4_test_score</th>\n",
       "      <td>0.383333</td>\n",
       "      <td>0.38009</td>\n",
       "      <td>0.367925</td>\n",
       "      <td>0.371429</td>\n",
       "      <td>0.365385</td>\n",
       "      <td>0.347826</td>\n",
       "      <td>0.35122</td>\n",
       "      <td>0.356436</td>\n",
       "      <td>0.341709</td>\n",
       "      <td>0.336735</td>\n",
       "    </tr>\n",
       "    <tr>\n",
       "      <th>mean_test_score</th>\n",
       "      <td>0.44426</td>\n",
       "      <td>0.432295</td>\n",
       "      <td>0.437739</td>\n",
       "      <td>0.4414</td>\n",
       "      <td>0.435482</td>\n",
       "      <td>0.432231</td>\n",
       "      <td>0.432742</td>\n",
       "      <td>0.437548</td>\n",
       "      <td>0.431775</td>\n",
       "      <td>0.427587</td>\n",
       "    </tr>\n",
       "    <tr>\n",
       "      <th>std_test_score</th>\n",
       "      <td>0.0440668</td>\n",
       "      <td>0.0332925</td>\n",
       "      <td>0.0428308</td>\n",
       "      <td>0.0382848</td>\n",
       "      <td>0.0429268</td>\n",
       "      <td>0.0475565</td>\n",
       "      <td>0.0469094</td>\n",
       "      <td>0.0478139</td>\n",
       "      <td>0.0514521</td>\n",
       "      <td>0.0524859</td>\n",
       "    </tr>\n",
       "    <tr>\n",
       "      <th>rank_test_score</th>\n",
       "      <td>1</td>\n",
       "      <td>7</td>\n",
       "      <td>3</td>\n",
       "      <td>2</td>\n",
       "      <td>5</td>\n",
       "      <td>8</td>\n",
       "      <td>6</td>\n",
       "      <td>4</td>\n",
       "      <td>9</td>\n",
       "      <td>10</td>\n",
       "    </tr>\n",
       "    <tr>\n",
       "      <th>split0_train_score</th>\n",
       "      <td>0.477987</td>\n",
       "      <td>0.506173</td>\n",
       "      <td>0.515337</td>\n",
       "      <td>0.515337</td>\n",
       "      <td>0.515723</td>\n",
       "      <td>0.518987</td>\n",
       "      <td>0.5125</td>\n",
       "      <td>0.518987</td>\n",
       "      <td>0.5375</td>\n",
       "      <td>0.5375</td>\n",
       "    </tr>\n",
       "    <tr>\n",
       "      <th>split1_train_score</th>\n",
       "      <td>0.510903</td>\n",
       "      <td>0.501548</td>\n",
       "      <td>0.512346</td>\n",
       "      <td>0.509202</td>\n",
       "      <td>0.516923</td>\n",
       "      <td>0.515528</td>\n",
       "      <td>0.520376</td>\n",
       "      <td>0.522013</td>\n",
       "      <td>0.51875</td>\n",
       "      <td>0.515723</td>\n",
       "    </tr>\n",
       "    <tr>\n",
       "      <th>split2_train_score</th>\n",
       "      <td>0.472222</td>\n",
       "      <td>0.489796</td>\n",
       "      <td>0.5</td>\n",
       "      <td>0.502075</td>\n",
       "      <td>0.508403</td>\n",
       "      <td>0.505263</td>\n",
       "      <td>0.5</td>\n",
       "      <td>0.502092</td>\n",
       "      <td>0.511727</td>\n",
       "      <td>0.509554</td>\n",
       "    </tr>\n",
       "    <tr>\n",
       "      <th>split3_train_score</th>\n",
       "      <td>0.488166</td>\n",
       "      <td>0.486322</td>\n",
       "      <td>0.496951</td>\n",
       "      <td>0.5</td>\n",
       "      <td>0.50384</td>\n",
       "      <td>0.509259</td>\n",
       "      <td>0.512422</td>\n",
       "      <td>0.513219</td>\n",
       "      <td>0.514821</td>\n",
       "      <td>0.512422</td>\n",
       "    </tr>\n",
       "    <tr>\n",
       "      <th>split4_train_score</th>\n",
       "      <td>0.489412</td>\n",
       "      <td>0.490338</td>\n",
       "      <td>0.5</td>\n",
       "      <td>0.506112</td>\n",
       "      <td>0.50918</td>\n",
       "      <td>0.510429</td>\n",
       "      <td>0.512315</td>\n",
       "      <td>0.51358</td>\n",
       "      <td>0.512376</td>\n",
       "      <td>0.511111</td>\n",
       "    </tr>\n",
       "    <tr>\n",
       "      <th>mean_train_score</th>\n",
       "      <td>0.487738</td>\n",
       "      <td>0.494835</td>\n",
       "      <td>0.504927</td>\n",
       "      <td>0.506545</td>\n",
       "      <td>0.510814</td>\n",
       "      <td>0.511893</td>\n",
       "      <td>0.511523</td>\n",
       "      <td>0.513978</td>\n",
       "      <td>0.519035</td>\n",
       "      <td>0.517262</td>\n",
       "    </tr>\n",
       "    <tr>\n",
       "      <th>std_train_score</th>\n",
       "      <td>0.013232</td>\n",
       "      <td>0.00763797</td>\n",
       "      <td>0.00742398</td>\n",
       "      <td>0.00542912</td>\n",
       "      <td>0.00486901</td>\n",
       "      <td>0.00482858</td>\n",
       "      <td>0.00653528</td>\n",
       "      <td>0.00680673</td>\n",
       "      <td>0.00955556</td>\n",
       "      <td>0.010321</td>\n",
       "    </tr>\n",
       "  </tbody>\n",
       "</table>\n",
       "</div>"
      ],
      "text/plain": [
       "                              0            1           2            3  \\\n",
       "mean_fit_time        0.00877647   0.00578508  0.00698128    0.0101731   \n",
       "std_fit_time         0.00146521   0.00193461  0.00315416    0.0054403   \n",
       "mean_score_time      0.00299172   0.00159535  0.00239372   0.00219426   \n",
       "std_score_time       0.00126101  0.000488795  0.00048813  0.000398709   \n",
       "param_C                    0.01         0.05         0.1          0.2   \n",
       "params              {'C': 0.01}  {'C': 0.05}  {'C': 0.1}   {'C': 0.2}   \n",
       "split0_test_score      0.475676     0.434343    0.432692     0.436893   \n",
       "split1_test_score      0.409756     0.416244    0.427083     0.448087   \n",
       "split2_test_score      0.506024     0.478873     0.49635     0.481203   \n",
       "split3_test_score      0.446512     0.451923    0.464646     0.469388   \n",
       "split4_test_score      0.383333      0.38009    0.367925     0.371429   \n",
       "mean_test_score         0.44426     0.432295    0.437739       0.4414   \n",
       "std_test_score        0.0440668    0.0332925   0.0428308    0.0382848   \n",
       "rank_test_score               1            7           3            2   \n",
       "split0_train_score     0.477987     0.506173    0.515337     0.515337   \n",
       "split1_train_score     0.510903     0.501548    0.512346     0.509202   \n",
       "split2_train_score     0.472222     0.489796         0.5     0.502075   \n",
       "split3_train_score     0.488166     0.486322    0.496951          0.5   \n",
       "split4_train_score     0.489412     0.490338         0.5     0.506112   \n",
       "mean_train_score       0.487738     0.494835    0.504927     0.506545   \n",
       "std_train_score        0.013232   0.00763797  0.00742398   0.00542912   \n",
       "\n",
       "                              4            5            6            7  \\\n",
       "mean_fit_time        0.00857682     0.010173   0.00917468   0.00977316   \n",
       "std_fit_time          0.0040196   0.00456578   0.00364534   0.00438754   \n",
       "mean_score_time      0.00199547   0.00199471   0.00199523   0.00199528   \n",
       "std_score_time      1.05121e-06  0.000630827  0.000631053  1.19114e-06   \n",
       "param_C                     0.3          0.5          0.7            1   \n",
       "params               {'C': 0.3}   {'C': 0.5}   {'C': 0.7}     {'C': 1}   \n",
       "split0_test_score      0.413462     0.413462     0.413462     0.411483   \n",
       "split1_test_score      0.440678     0.453488     0.449704     0.460606   \n",
       "split2_test_score      0.481203     0.469697     0.465116     0.472441   \n",
       "split3_test_score      0.476684     0.476684     0.484211     0.486772   \n",
       "split4_test_score      0.365385     0.347826      0.35122     0.356436   \n",
       "mean_test_score        0.435482     0.432231     0.432742     0.437548   \n",
       "std_test_score        0.0429268    0.0475565    0.0469094    0.0478139   \n",
       "rank_test_score               5            8            6            4   \n",
       "split0_train_score     0.515723     0.518987       0.5125     0.518987   \n",
       "split1_train_score     0.516923     0.515528     0.520376     0.522013   \n",
       "split2_train_score     0.508403     0.505263          0.5     0.502092   \n",
       "split3_train_score      0.50384     0.509259     0.512422     0.513219   \n",
       "split4_train_score      0.50918     0.510429     0.512315      0.51358   \n",
       "mean_train_score       0.510814     0.511893     0.511523     0.513978   \n",
       "std_train_score      0.00486901   0.00482858   0.00653528   0.00680673   \n",
       "\n",
       "                              8            9  \n",
       "mean_fit_time         0.0115687    0.0159671  \n",
       "std_fit_time         0.00566285   0.00664843  \n",
       "mean_score_time       0.0017962    0.0025835  \n",
       "std_score_time      0.000745576  0.000499103  \n",
       "param_C                       3           10  \n",
       "params                 {'C': 3}    {'C': 10}  \n",
       "split0_test_score      0.411483     0.407767  \n",
       "split1_test_score      0.459627     0.459627  \n",
       "split2_test_score      0.456693     0.444444  \n",
       "split3_test_score      0.489362     0.489362  \n",
       "split4_test_score      0.341709     0.336735  \n",
       "mean_test_score        0.431775     0.427587  \n",
       "std_test_score        0.0514521    0.0524859  \n",
       "rank_test_score               9           10  \n",
       "split0_train_score       0.5375       0.5375  \n",
       "split1_train_score      0.51875     0.515723  \n",
       "split2_train_score     0.511727     0.509554  \n",
       "split3_train_score     0.514821     0.512422  \n",
       "split4_train_score     0.512376     0.511111  \n",
       "mean_train_score       0.519035     0.517262  \n",
       "std_train_score      0.00955556     0.010321  "
      ]
     },
     "execution_count": 22,
     "metadata": {},
     "output_type": "execute_result"
    }
   ],
   "source": [
    "pd.DataFrame(grid_search.cv_results_).T"
   ]
  },
  {
   "cell_type": "code",
   "execution_count": 23,
   "metadata": {},
   "outputs": [],
   "source": [
    "from src.eval.eval_utils import BinClassEval"
   ]
  },
  {
   "cell_type": "code",
   "execution_count": null,
   "metadata": {},
   "outputs": [],
   "source": []
  },
  {
   "cell_type": "code",
   "execution_count": null,
   "metadata": {},
   "outputs": [],
   "source": []
  },
  {
   "cell_type": "markdown",
   "metadata": {},
   "source": [
    "# Warning not sure hsould be evaluating like this! should be using cv_prediction!"
   ]
  },
  {
   "cell_type": "code",
   "execution_count": 24,
   "metadata": {},
   "outputs": [
    {
     "name": "stderr",
     "output_type": "stream",
     "text": [
      "No handles with labels found to put in legend.\n"
     ]
    },
    {
     "name": "stdout",
     "output_type": "stream",
     "text": [
      "Model has decision_function.\n",
      "Model has predict_proba.\n",
      "AUC:  0.825\n",
      "F1 score:  0.468\n",
      "accuracy:  0.736\n"
     ]
    },
    {
     "data": {
      "text/plain": [
       "<src.eval.eval_utils.BinClassEval at 0x218ae54d908>"
      ]
     },
     "execution_count": 24,
     "metadata": {},
     "output_type": "execute_result"
    },
    {
     "data": {
      "image/png": "[encoded data removed]",
      "text/plain": [
       "<Figure size 648x288 with 2 Axes>"
      ]
     },
     "metadata": {
      "needs_background": "light"
     },
     "output_type": "display_data"
    }
   ],
   "source": [
    "BinClassEval(lgr, X_trainT, y_train, plot=True)"
   ]
  },
  {
   "cell_type": "code",
   "execution_count": 13,
   "metadata": {},
   "outputs": [],
   "source": [
    "from sklearn.feature_selection import SelectKBest"
   ]
  },
  {
   "cell_type": "code",
   "execution_count": 14,
   "metadata": {},
   "outputs": [],
   "source": [
    "X = SelectKBest(k=40).fit_transform(X_train, y_train)"
   ]
  },
  {
   "cell_type": "code",
   "execution_count": 15,
   "metadata": {},
   "outputs": [
    {
     "name": "stdout",
     "output_type": "stream",
     "text": [
      "CV MODEL RESULTS\n",
      "{'C': 0.5}\n",
      "   mean_test_score  mean_train_score\n",
      "4         0.519775          0.628764\n"
     ]
    }
   ],
   "source": [
    "grid_search = find_best_model(lgr,grid,X,y_train,'CV set')\n",
    "lgr_kbest = grid_search.best_estimator_"
   ]
  },
  {
   "cell_type": "code",
   "execution_count": 16,
   "metadata": {},
   "outputs": [
    {
     "name": "stderr",
     "output_type": "stream",
     "text": [
      "No handles with labels found to put in legend.\n"
     ]
    },
    {
     "name": "stdout",
     "output_type": "stream",
     "text": [
      "Model has decision_function.\n",
      "Model has predict_proba.\n",
      "AUC:  0.909\n",
      "F1 score:  0.573\n",
      "accuracy:  0.81\n"
     ]
    },
    {
     "data": {
      "text/plain": [
       "<src.eval.eval_utils.BinClassEval at 0x1fa4e780ba8>"
      ]
     },
     "execution_count": 16,
     "metadata": {},
     "output_type": "execute_result"
    },
    {
     "data": {
      "image/png": "[encoded data removed]",
      "text/plain": [
       "<Figure size 648x288 with 2 Axes>"
      ]
     },
     "metadata": {
      "needs_background": "light"
     },
     "output_type": "display_data"
    }
   ],
   "source": [
    "BinClassEval(lgr_kbest, X, y_train, plot=True)"
   ]
  },
  {
   "cell_type": "markdown",
   "metadata": {},
   "source": [
    "# Logging model and trianing results"
   ]
  },
  {
   "cell_type": "markdown",
   "metadata": {},
   "source": [
    "Create first log df"
   ]
  },
  {
   "cell_type": "markdown",
   "metadata": {},
   "source": [
    "model_log = pd.DataFrame(columns=['dataV','model','gridsearch','mean_train','mean_valid','notes'])"
   ]
  },
  {
   "cell_type": "markdown",
   "metadata": {},
   "source": [
    "model_log"
   ]
  },
  {
   "cell_type": "markdown",
   "metadata": {},
   "source": [
    "model_log.to_pickle('./../data/output/model_log.pkl')"
   ]
  },
  {
   "cell_type": "code",
   "execution_count": 22,
   "metadata": {},
   "outputs": [],
   "source": [
    "from src.eval.eval_utils import save_model_to_log\n",
    "\n",
    "save_model_to_log('./../data/output/model_log.pkl', 'v1', lgr, grid_search, 'Initial model which was built on first edition of data as basline.')"
   ]
  },
  {
   "cell_type": "code",
   "execution_count": 35,
   "metadata": {},
   "outputs": [],
   "source": [
    "models = pd.read_pickle('./../../data/output/model_log.pkl')"
   ]
  },
  {
   "cell_type": "code",
   "execution_count": 36,
   "metadata": {},
   "outputs": [
    {
     "data": {
      "text/html": [
       "<div>\n",
       "<style scoped>\n",
       "    .dataframe tbody tr th:only-of-type {\n",
       "        vertical-align: middle;\n",
       "    }\n",
       "\n",
       "    .dataframe tbody tr th {\n",
       "        vertical-align: top;\n",
       "    }\n",
       "\n",
       "    .dataframe thead th {\n",
       "        text-align: right;\n",
       "    }\n",
       "</style>\n",
       "<table border=\"1\" class=\"dataframe\">\n",
       "  <thead>\n",
       "    <tr style=\"text-align: right;\">\n",
       "      <th></th>\n",
       "      <th>dataV</th>\n",
       "      <th>model</th>\n",
       "      <th>gridsearch</th>\n",
       "      <th>mean_train</th>\n",
       "      <th>mean_valid</th>\n",
       "      <th>notes</th>\n",
       "    </tr>\n",
       "  </thead>\n",
       "  <tbody>\n",
       "    <tr>\n",
       "      <th>0</th>\n",
       "      <td>v1</td>\n",
       "      <td>LogisticRegression(C=0.3, class_weight='balanc...</td>\n",
       "      <td>mean_fit_time  std_fit_time  mean_score_tim...</td>\n",
       "      <td>[0.629]</td>\n",
       "      <td>[0.52]</td>\n",
       "      <td>Initial model which was built on first edition...</td>\n",
       "    </tr>\n",
       "    <tr>\n",
       "      <th>1</th>\n",
       "      <td>v1</td>\n",
       "      <td>(DecisionTreeClassifier(class_weight=None, cri...</td>\n",
       "      <td>mean_fit_time  std_fit_time  mean_score_ti...</td>\n",
       "      <td>[0.685]</td>\n",
       "      <td>[0.419]</td>\n",
       "      <td>Random Forest 1st attempt with v1.</td>\n",
       "    </tr>\n",
       "    <tr>\n",
       "      <th>2</th>\n",
       "      <td>v1</td>\n",
       "      <td>XGBClassifier(base_score=0.5, booster='gbtree'...</td>\n",
       "      <td>mean_fit_time  std_fit_time  mean_score_tim...</td>\n",
       "      <td>[0.829]</td>\n",
       "      <td>[0.439]</td>\n",
       "      <td>V1 attempt with XGBOOST. KFOLD selection of fe...</td>\n",
       "    </tr>\n",
       "  </tbody>\n",
       "</table>\n",
       "</div>"
      ],
      "text/plain": [
       "  dataV                                              model  \\\n",
       "0    v1  LogisticRegression(C=0.3, class_weight='balanc...   \n",
       "1    v1  (DecisionTreeClassifier(class_weight=None, cri...   \n",
       "2    v1  XGBClassifier(base_score=0.5, booster='gbtree'...   \n",
       "\n",
       "                                          gridsearch mean_train mean_valid  \\\n",
       "0     mean_fit_time  std_fit_time  mean_score_tim...    [0.629]     [0.52]   \n",
       "1      mean_fit_time  std_fit_time  mean_score_ti...    [0.685]    [0.419]   \n",
       "2     mean_fit_time  std_fit_time  mean_score_tim...    [0.829]    [0.439]   \n",
       "\n",
       "                                               notes  \n",
       "0  Initial model which was built on first edition...  \n",
       "1                 Random Forest 1st attempt with v1.  \n",
       "2  V1 attempt with XGBOOST. KFOLD selection of fe...  "
      ]
     },
     "execution_count": 36,
     "metadata": {},
     "output_type": "execute_result"
    }
   ],
   "source": [
    "models"
   ]
  },
  {
   "cell_type": "code",
   "execution_count": 31,
   "metadata": {},
   "outputs": [],
   "source": [
    "model = models.iloc[0].model"
   ]
  },
  {
   "cell_type": "code",
   "execution_count": 34,
   "metadata": {},
   "outputs": [
    {
     "ename": "ValueError",
     "evalue": "X has 43 features per sample; expecting 52",
     "output_type": "error",
     "traceback": [
      "\u001b[1;31m---------------------------------------------------------------------------\u001b[0m",
      "\u001b[1;31mValueError\u001b[0m                                Traceback (most recent call last)",
      "\u001b[1;32m<ipython-input-34-2dbdfd60b23b>\u001b[0m in \u001b[0;36m<module>\u001b[1;34m\u001b[0m\n\u001b[1;32m----> 1\u001b[1;33m \u001b[0mBinClassEval\u001b[0m\u001b[1;33m(\u001b[0m\u001b[0mmodel\u001b[0m\u001b[1;33m,\u001b[0m \u001b[0mX_trainT\u001b[0m\u001b[1;33m,\u001b[0m \u001b[0my_train\u001b[0m\u001b[1;33m)\u001b[0m\u001b[1;33m\u001b[0m\u001b[1;33m\u001b[0m\u001b[0m\n\u001b[0m",
      "\u001b[1;32m~\\OneDrive - University of Southampton\\MH028_UHS_Weather\\4_Analysis\\EDclassification\\src\\eval\\eval_utils.py\u001b[0m in \u001b[0;36m__init__\u001b[1;34m(self, model, X, y, plot_title, plot)\u001b[0m\n\u001b[0;32m     40\u001b[0m         \u001b[1;31m### NOTE: these are assigned to the same proba_preds attribute. If predict_prob avail then this takes precident.\u001b[0m\u001b[1;33m\u001b[0m\u001b[1;33m\u001b[0m\u001b[1;33m\u001b[0m\u001b[0m\n\u001b[0;32m     41\u001b[0m         \u001b[1;32mif\u001b[0m \u001b[0mhasattr\u001b[0m\u001b[1;33m(\u001b[0m\u001b[0mmodel\u001b[0m\u001b[1;33m,\u001b[0m \u001b[1;34m'decision_function'\u001b[0m\u001b[1;33m)\u001b[0m\u001b[1;33m:\u001b[0m\u001b[1;33m\u001b[0m\u001b[1;33m\u001b[0m\u001b[0m\n\u001b[1;32m---> 42\u001b[1;33m             \u001b[0mpredDF\u001b[0m \u001b[1;33m=\u001b[0m \u001b[0mmodel\u001b[0m\u001b[1;33m.\u001b[0m\u001b[0mdecision_function\u001b[0m\u001b[1;33m(\u001b[0m\u001b[0mX\u001b[0m\u001b[1;33m)\u001b[0m \u001b[1;31m# warning, some model dont have DF\u001b[0m\u001b[1;33m\u001b[0m\u001b[1;33m\u001b[0m\u001b[0m\n\u001b[0m\u001b[0;32m     43\u001b[0m             \u001b[0mself\u001b[0m\u001b[1;33m.\u001b[0m\u001b[0mproba_preds\u001b[0m \u001b[1;33m=\u001b[0m \u001b[0mpredDF\u001b[0m\u001b[1;33m\u001b[0m\u001b[1;33m\u001b[0m\u001b[0m\n\u001b[0;32m     44\u001b[0m             \u001b[0mself\u001b[0m\u001b[1;33m.\u001b[0m\u001b[0mDF\u001b[0m \u001b[1;33m=\u001b[0m \u001b[0mpredDF\u001b[0m\u001b[1;33m\u001b[0m\u001b[1;33m\u001b[0m\u001b[0m\n",
      "\u001b[1;32mC:\\Anaconda3\\envs\\EDclass\\lib\\site-packages\\sklearn\\linear_model\\base.py\u001b[0m in \u001b[0;36mdecision_function\u001b[1;34m(self, X)\u001b[0m\n\u001b[0;32m    268\u001b[0m         \u001b[1;32mif\u001b[0m \u001b[0mX\u001b[0m\u001b[1;33m.\u001b[0m\u001b[0mshape\u001b[0m\u001b[1;33m[\u001b[0m\u001b[1;36m1\u001b[0m\u001b[1;33m]\u001b[0m \u001b[1;33m!=\u001b[0m \u001b[0mn_features\u001b[0m\u001b[1;33m:\u001b[0m\u001b[1;33m\u001b[0m\u001b[1;33m\u001b[0m\u001b[0m\n\u001b[0;32m    269\u001b[0m             raise ValueError(\"X has %d features per sample; expecting %d\"\n\u001b[1;32m--> 270\u001b[1;33m                              % (X.shape[1], n_features))\n\u001b[0m\u001b[0;32m    271\u001b[0m \u001b[1;33m\u001b[0m\u001b[0m\n\u001b[0;32m    272\u001b[0m         scores = safe_sparse_dot(X, self.coef_.T,\n",
      "\u001b[1;31mValueError\u001b[0m: X has 43 features per sample; expecting 52"
     ]
    }
   ],
   "source": [
    "BinClassEval(model, X_trainT, y_train)"
   ]
  },
  {
   "cell_type": "code",
   "execution_count": null,
   "metadata": {},
   "outputs": [],
   "source": []
  },
  {
   "cell_type": "markdown",
   "metadata": {},
   "source": [
    "# Reworking of BinClassEval"
   ]
  },
  {
   "cell_type": "code",
   "execution_count": 25,
   "metadata": {},
   "outputs": [
    {
     "name": "stderr",
     "output_type": "stream",
     "text": [
      "No handles with labels found to put in legend.\n"
     ]
    },
    {
     "name": "stdout",
     "output_type": "stream",
     "text": [
      "DECISION FUNC CALLED\n",
      "Model has decision_function.\n",
      "PREDICT PROBAB CALLED\n",
      "Model has predict_proba.\n",
      "AUC:  0.796\n",
      "F1 score:  0.468\n",
      "accuracy:  0.736\n"
     ]
    },
    {
     "data": {
      "text/plain": [
       "<__main__.BinClassEvalCV at 0x218ae6b24e0>"
      ]
     },
     "execution_count": 25,
     "metadata": {},
     "output_type": "execute_result"
    },
    {
     "data": {
      "image/png": "[encoded data removed]",
      "text/plain": [
       "<Figure size 648x288 with 2 Axes>"
      ]
     },
     "metadata": {
      "needs_background": "light"
     },
     "output_type": "display_data"
    }
   ],
   "source": [
    "from sklearn.model_selection import TimeSeriesSplit\n",
    "\n",
    "from sklearn.metrics import roc_auc_score, f1_score, precision_recall_curve, roc_curve, accuracy_score\n",
    "import matplotlib.pyplot as plt\n",
    "\n",
    "class BinClassEvalCV():\n",
    "    \"\"\" \n",
    "    Makes all evalutation you need to assess binary classifcation models.\n",
    "    Suggested use for final evaluation once models have been decided. e.g. running on test set. \n",
    "    Built for sklearn models: some functionality requires model to have either a predict proba or decision function.\n",
    "    \"\"\"\n",
    "    \n",
    "    \n",
    "    def __init__(self, model, X, y, plot_title='Model Evaluation', plot = False):\n",
    "        \"\"\"\n",
    "        Input\n",
    "        -----\n",
    "        Model, sklearn model, (that has had .fit() method called aready).\n",
    "        X, df/numpy array, containing features\n",
    "        y, df/numpy array, containing binary target\n",
    "        \"\"\"\n",
    "        #### assign inputs\n",
    "        self.model = model\n",
    "        self.X = X\n",
    "        self.y = y\n",
    "        self.plot_title = plot_title\n",
    "        \n",
    "        self.proba_pred_avail = False\n",
    "        \n",
    "        self.my_cv = TimeSeriesSplit(n_splits=5).split(X)\n",
    "        \n",
    "        #### calc prob and decision functions (where possible). \n",
    "        ### NOTE: these are assigned to the same proba_preds attribute. If predict_prob avail then this takes precident.\n",
    "        if hasattr(model, 'decision_function'):\n",
    "#             predDF = model.decision_function(X) # warning, some model dont have DF\n",
    "            print('DECISION FUNC CALLED')\n",
    "            predDF = cross_val_predict(model, X, y, cv=3, method='predict_proba')\n",
    "            self.proba_preds = predDF\n",
    "            self.DF = predDF\n",
    "            print('Model has decision_function.')\n",
    "            \n",
    "        if hasattr(model, 'predict_proba'):\n",
    "            print('PREDICT PROBAB CALLED')\n",
    "#             proba_preds = model.predict_proba(X)[:,1]\n",
    "            \n",
    "            proba_preds = cross_val_predict(model, X, y, cv=5, method='predict_proba')[:,1]\n",
    "            self.proba_preds = proba_preds\n",
    "            self.proba_preds_avail = True\n",
    "            print('Model has predict_proba.')\n",
    "            \n",
    "        self.label_preds = self.model.predict(X)\n",
    "            \n",
    "        #### run evaluation\n",
    "        self.AUC()\n",
    "        self.F1()\n",
    "        self.accuracy()\n",
    "        \n",
    "        if plot == True:\n",
    "            self.plot_AUC_PR()\n",
    "            \n",
    "        return\n",
    "    \n",
    "    def AUC(self):\n",
    "        \"Prints and returns AUC score.\"\n",
    "        AUC = roc_auc_score(self.y, self.proba_preds).round(3)\n",
    "        self.AUC = AUC\n",
    "        print('AUC: ', AUC) # NOTE: sklearn doc says use prob, if not use decision function.\n",
    "        return\n",
    "    \n",
    "    def F1(self):\n",
    "        \"Prints and returns F1 score.\"\n",
    "        F1 = f1_score(self.y, self.label_preds).round(3)\n",
    "        self.F1 = F1\n",
    "        print('F1 score: ', F1)\n",
    "        return\n",
    "    \n",
    "    def accuracy(self):\n",
    "        \"Prints and returns accuracy score.\"\n",
    "        accuracy = accuracy_score(self.y, self.label_preds).round(3)\n",
    "        self.accuracy = accuracy\n",
    "        print('accuracy: ', accuracy)\n",
    "        return\n",
    "    \n",
    "    def confusion_matrix(self):\n",
    "        \"Prints confusion matrix.\"\n",
    "        return\n",
    "    \n",
    "    def plot_AUC_PR(self):\n",
    "        \"Plots AUC and Precision-Recall plot as one figures.\"\n",
    "        \n",
    "        precisions, recalls, thresholds = precision_recall_curve(self.y, self.proba_preds)\n",
    "\n",
    "        fpr,tpr,thresholds_ROC = roc_curve(self.y, self.proba_preds)\n",
    "        \n",
    "        fig,ax = plt.subplots(1,2,figsize=(9,4))\n",
    "        fig.suptitle(self.plot_title)\n",
    "        # prec-recall plot\n",
    "        ax[0].plot(recalls[:-1],precisions[:-1],'g-') #,label='Reca')\n",
    "        ax[0].set_ylabel('Precision')\n",
    "        ax[0].set_xlabel('Recall')\n",
    "        ax[0].legend(frameon=True,loc='center right')\n",
    "        ax[0].set_ylim([0,1.1])\n",
    "        # AUC plot\n",
    "        ax[1].plot(fpr,tpr)\n",
    "        ax[1].plot([0,1],[0,1],'k--') # 45def line\n",
    "        ax[1].set_xlabel('F positive rate')\n",
    "        ax[1].set_ylabel('T positve rate')\n",
    "        \n",
    "        return\n",
    "    \n",
    "BinClassEvalCV(lgr, X_trainT, y_train, plot=True)"
   ]
  },
  {
   "cell_type": "markdown",
   "metadata": {},
   "source": [
    "# Dev: slope calulations"
   ]
  },
  {
   "cell_type": "code",
   "execution_count": 52,
   "metadata": {},
   "outputs": [],
   "source": [
    "data = {'X':[0,1,2,3,3,2,1,1,5]}\n",
    "df = pd.DataFrame(data)"
   ]
  },
  {
   "cell_type": "code",
   "execution_count": 54,
   "metadata": {},
   "outputs": [],
   "source": [
    "slope = pd.Series(np.gradient(df['X'].values), df.index, name='slope')"
   ]
  },
  {
   "cell_type": "code",
   "execution_count": 55,
   "metadata": {},
   "outputs": [
    {
     "data": {
      "text/plain": [
       "9"
      ]
     },
     "execution_count": 55,
     "metadata": {},
     "output_type": "execute_result"
    }
   ],
   "source": [
    "len(slope)"
   ]
  },
  {
   "cell_type": "code",
   "execution_count": 56,
   "metadata": {},
   "outputs": [],
   "source": [
    "df['numpy'] = slope"
   ]
  },
  {
   "cell_type": "code",
   "execution_count": 65,
   "metadata": {},
   "outputs": [],
   "source": [
    "df['time'] = df.index"
   ]
  },
  {
   "cell_type": "code",
   "execution_count": 79,
   "metadata": {},
   "outputs": [],
   "source": [
    "# df['crude'] = \n",
    "dir_lag = 3\n",
    "crude = (df['X'].diff(dir_lag))/(df['time'].diff(dir_lag))\n",
    "\n",
    "df['crude'] = crude"
   ]
  },
  {
   "cell_type": "code",
   "execution_count": 80,
   "metadata": {},
   "outputs": [
    {
     "data": {
      "text/plain": [
       "<matplotlib.axes._subplots.AxesSubplot at 0x1b3f7a5db00>"
      ]
     },
     "execution_count": 80,
     "metadata": {},
     "output_type": "execute_result"
    },
    {
     "data": {
      "image/png": "[encoded data removed]",
      "text/plain": [
       "<Figure size 432x288 with 1 Axes>"
      ]
     },
     "metadata": {
      "needs_background": "light"
     },
     "output_type": "display_data"
    }
   ],
   "source": [
    "df.drop(['time'],axis=1).plot(grid=True)"
   ]
  },
  {
   "cell_type": "code",
   "execution_count": null,
   "metadata": {},
   "outputs": [],
   "source": [
    "np.gradient()"
   ]
  },
  {
   "cell_type": "markdown",
   "metadata": {},
   "source": [
    "np.gradient uses time points before an after so no suitable. Can make crude lag using differences from previsou events and dividing by time."
   ]
  },
  {
   "cell_type": "code",
   "execution_count": null,
   "metadata": {},
   "outputs": [],
   "source": []
  },
  {
   "cell_type": "code",
   "execution_count": null,
   "metadata": {},
   "outputs": [],
   "source": []
  },
  {
   "cell_type": "code",
   "execution_count": null,
   "metadata": {},
   "outputs": [],
   "source": []
  }
 ],
 "metadata": {
  "kernelspec": {
   "display_name": "Python [conda env:EDclass]",
   "language": "python",
   "name": "conda-env-EDclass-py"
  },
  "language_info": {
   "codemirror_mode": {
    "name": "ipython",
    "version": 3
   },
   "file_extension": ".py",
   "mimetype": "text/x-python",
   "name": "python",
   "nbconvert_exporter": "python",
   "pygments_lexer": "ipython3",
   "version": "3.6.7"
  }
 },
 "nbformat": 4,
 "nbformat_minor": 2
}
