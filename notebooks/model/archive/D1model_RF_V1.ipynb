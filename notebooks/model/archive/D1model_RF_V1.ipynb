{
 "cells": [
  {
   "cell_type": "code",
   "execution_count": 1,
   "metadata": {},
   "outputs": [],
   "source": [
    "import pandas as pd\n",
    "import numpy as np"
   ]
  },
  {
   "cell_type": "code",
   "execution_count": 2,
   "metadata": {},
   "outputs": [],
   "source": [
    "import src"
   ]
  },
  {
   "cell_type": "code",
   "execution_count": 3,
   "metadata": {},
   "outputs": [
    {
     "data": {
      "text/plain": [
       "'C:\\\\Users\\\\bjk1y13\\\\OneDrive - University of Southampton\\\\MH028_UHS_Weather\\\\4_Analysis\\\\EDclassification\\\\notebooks'"
      ]
     },
     "execution_count": 3,
     "metadata": {},
     "output_type": "execute_result"
    }
   ],
   "source": [
    "%pwd"
   ]
  },
  {
   "cell_type": "code",
   "execution_count": 4,
   "metadata": {},
   "outputs": [],
   "source": [
    "def load_pickle_preprocessed_data(path):\n",
    "    \"\"\"\n",
    "    Load pickled data for modelling.\n",
    "    \n",
    "    Input\n",
    "    =====\n",
    "    path, str, to fodler where data is located.\n",
    "    \n",
    "    Output\n",
    "    ======\n",
    "    X_train,dataframe, \n",
    "    X_test,dataframe, \n",
    "    y_train,dataframe, \n",
    "    y_test, dataframe, \n",
    "    \n",
    "    \"\"\"\n",
    "    #### load each data file\n",
    "    X_train = pd.read_pickle(path + 'X_train.pkl')\n",
    "    X_test = pd.read_pickle(path + 'X_test.pkl')\n",
    "    y_train = pd.read_pickle(path + 'y_train.pkl')\n",
    "    y_test = pd.read_pickle(path + 'y_test.pkl')\n",
    "    \n",
    "    return(X_train, X_test, y_train, y_test)\n",
    "\n",
    "X_train, X_test, y_train, y_test = load_pickle_preprocessed_data('../data/processed/v1/')"
   ]
  },
  {
   "cell_type": "code",
   "execution_count": 5,
   "metadata": {},
   "outputs": [
    {
     "data": {
      "text/plain": [
       "(1654, 52)"
      ]
     },
     "execution_count": 5,
     "metadata": {},
     "output_type": "execute_result"
    }
   ],
   "source": [
    "X_train.shape"
   ]
  },
  {
   "cell_type": "code",
   "execution_count": 6,
   "metadata": {},
   "outputs": [
    {
     "data": {
      "text/html": [
       "<div>\n",
       "<style scoped>\n",
       "    .dataframe tbody tr th:only-of-type {\n",
       "        vertical-align: middle;\n",
       "    }\n",
       "\n",
       "    .dataframe tbody tr th {\n",
       "        vertical-align: top;\n",
       "    }\n",
       "\n",
       "    .dataframe thead th {\n",
       "        text-align: right;\n",
       "    }\n",
       "</style>\n",
       "<table border=\"1\" class=\"dataframe\">\n",
       "  <thead>\n",
       "    <tr style=\"text-align: right;\">\n",
       "      <th></th>\n",
       "      <th>EDoccMAX_prevday</th>\n",
       "      <th>callender_DAY(first_EDatt_time)</th>\n",
       "      <th>EDmorn_COUNT(EDatt)</th>\n",
       "      <th>EDmorn_MEAN(EDatt.wait_time_total)</th>\n",
       "      <th>EDmorn_MEAN(EDatt.flag_specreq)</th>\n",
       "      <th>EDmorn_MEAN(EDatt.age)</th>\n",
       "      <th>EDmorn_MEAN(EDatt.flag_admission)</th>\n",
       "      <th>EDmorn_STD(EDatt.wait_time_total)</th>\n",
       "      <th>EDmorn_STD(EDatt.flag_specreq)</th>\n",
       "      <th>EDmorn_STD(EDatt.age)</th>\n",
       "      <th>...</th>\n",
       "      <th>callender_MONTH(first_EDatt_time)_4</th>\n",
       "      <th>callender_MONTH(first_EDatt_time)_5</th>\n",
       "      <th>callender_MONTH(first_EDatt_time)_6</th>\n",
       "      <th>callender_MONTH(first_EDatt_time)_7</th>\n",
       "      <th>callender_MONTH(first_EDatt_time)_8</th>\n",
       "      <th>callender_MONTH(first_EDatt_time)_9</th>\n",
       "      <th>callender_MONTH(first_EDatt_time)_10</th>\n",
       "      <th>callender_MONTH(first_EDatt_time)_11</th>\n",
       "      <th>callender_MONTH(first_EDatt_time)_12</th>\n",
       "      <th>callender_WEEKEND(first_EDatt_time)</th>\n",
       "    </tr>\n",
       "  </thead>\n",
       "  <tbody>\n",
       "    <tr>\n",
       "      <th>0</th>\n",
       "      <td>-0.452744</td>\n",
       "      <td>-1.552923</td>\n",
       "      <td>-1.520733</td>\n",
       "      <td>-2.575791</td>\n",
       "      <td>0.77684</td>\n",
       "      <td>0.788307</td>\n",
       "      <td>-1.017596</td>\n",
       "      <td>-1.371472</td>\n",
       "      <td>-0.44764</td>\n",
       "      <td>0.724071</td>\n",
       "      <td>...</td>\n",
       "      <td>0.0</td>\n",
       "      <td>0.0</td>\n",
       "      <td>0.0</td>\n",
       "      <td>0.0</td>\n",
       "      <td>0.0</td>\n",
       "      <td>0.0</td>\n",
       "      <td>0.0</td>\n",
       "      <td>0.0</td>\n",
       "      <td>0.0</td>\n",
       "      <td>0.0</td>\n",
       "    </tr>\n",
       "  </tbody>\n",
       "</table>\n",
       "<p>1 rows × 52 columns</p>\n",
       "</div>"
      ],
      "text/plain": [
       "   EDoccMAX_prevday  callender_DAY(first_EDatt_time)  EDmorn_COUNT(EDatt)  \\\n",
       "0         -0.452744                        -1.552923            -1.520733   \n",
       "\n",
       "   EDmorn_MEAN(EDatt.wait_time_total)  EDmorn_MEAN(EDatt.flag_specreq)  \\\n",
       "0                           -2.575791                          0.77684   \n",
       "\n",
       "   EDmorn_MEAN(EDatt.age)  EDmorn_MEAN(EDatt.flag_admission)  \\\n",
       "0                0.788307                          -1.017596   \n",
       "\n",
       "   EDmorn_STD(EDatt.wait_time_total)  EDmorn_STD(EDatt.flag_specreq)  \\\n",
       "0                          -1.371472                        -0.44764   \n",
       "\n",
       "   EDmorn_STD(EDatt.age)  ...  callender_MONTH(first_EDatt_time)_4  \\\n",
       "0               0.724071  ...                                  0.0   \n",
       "\n",
       "   callender_MONTH(first_EDatt_time)_5  callender_MONTH(first_EDatt_time)_6  \\\n",
       "0                                  0.0                                  0.0   \n",
       "\n",
       "   callender_MONTH(first_EDatt_time)_7  callender_MONTH(first_EDatt_time)_8  \\\n",
       "0                                  0.0                                  0.0   \n",
       "\n",
       "   callender_MONTH(first_EDatt_time)_9  callender_MONTH(first_EDatt_time)_10  \\\n",
       "0                                  0.0                                   0.0   \n",
       "\n",
       "   callender_MONTH(first_EDatt_time)_11  callender_MONTH(first_EDatt_time)_12  \\\n",
       "0                                   0.0                                   0.0   \n",
       "\n",
       "   callender_WEEKEND(first_EDatt_time)  \n",
       "0                                  0.0  \n",
       "\n",
       "[1 rows x 52 columns]"
      ]
     },
     "execution_count": 6,
     "metadata": {},
     "output_type": "execute_result"
    }
   ],
   "source": [
    "X_train.head(1)"
   ]
  },
  {
   "cell_type": "markdown",
   "metadata": {},
   "source": [
    "# Instantiate model"
   ]
  },
  {
   "cell_type": "code",
   "execution_count": null,
   "metadata": {},
   "outputs": [],
   "source": []
  },
  {
   "cell_type": "markdown",
   "metadata": {},
   "source": [
    "# Run CV gridsearch"
   ]
  },
  {
   "cell_type": "code",
   "execution_count": 7,
   "metadata": {},
   "outputs": [],
   "source": [
    "from sklearn.metrics import classification_report,precision_score, recall_score, confusion_matrix, accuracy_score\n",
    "from sklearn.metrics import precision_recall_curve,roc_curve\n",
    "from sklearn.model_selection import TimeSeriesSplit\n",
    "\n",
    "from sklearn.model_selection import cross_val_predict, cross_val_score, GridSearchCV\n",
    "\n",
    "\n",
    "\n",
    "def find_best_model(model, grid, Xdata, ydata, plot_label):\n",
    "    \"\"\"does gridsearch for model and plots result from \"\"\"\n",
    "    my_cv = TimeSeriesSplit(n_splits=5).split(Xdata) # 5 chosen as gives roughly 1 year groups for each fold\n",
    "    grid_search = GridSearchCV(model,grid,scoring='f1',cv=my_cv,return_train_score=True)\n",
    "    grid_search.fit(Xdata,ydata)\n",
    "    model = grid_search.best_estimator_\n",
    "    print('CV MODEL RESULTS')\n",
    "    print(grid_search.best_params_)\n",
    "    print(pd.DataFrame(grid_search.cv_results_).query('rank_test_score == 1')[['mean_test_score','mean_train_score']])\n",
    "    \n",
    "#     plot_model_perf(ydata,Xdata,model,plot_label)\n",
    "\n",
    "    \n",
    "    return(grid_search)\n",
    "    "
   ]
  },
  {
   "cell_type": "code",
   "execution_count": 8,
   "metadata": {},
   "outputs": [
    {
     "data": {
      "text/plain": [
       "330.8"
      ]
     },
     "execution_count": 8,
     "metadata": {},
     "output_type": "execute_result"
    }
   ],
   "source": [
    "X_train.shape[0]/5"
   ]
  },
  {
   "cell_type": "code",
   "execution_count": 9,
   "metadata": {},
   "outputs": [],
   "source": [
    "from sklearn.ensemble import RandomForestClassifier"
   ]
  },
  {
   "cell_type": "code",
   "execution_count": 22,
   "metadata": {},
   "outputs": [
    {
     "name": "stdout",
     "output_type": "stream",
     "text": [
      "CV MODEL RESULTS\n",
      "{'max_depth': 5, 'max_leaf_nodes': 50, 'min_samples_leaf': 1, 'n_estimators': 10}\n",
      "   mean_test_score  mean_train_score\n",
      "0          0.37048          0.735782\n"
     ]
    }
   ],
   "source": [
    "from sklearn.linear_model import LogisticRegression\n",
    "rf = RandomForestClassifier()\n",
    "\n",
    "grid = {'max_depth':[5], 'max_leaf_nodes':[50,100,400], 'min_samples_leaf':[1,2,3,5], 'n_estimators':[10,50]}\n",
    "#grid = {'C':[0.1]}\n",
    "\n",
    "grid_search = find_best_model(rf,grid,X_train,y_train,'CV set')\n",
    "rf = grid_search.best_estimator_\n",
    "\n",
    "# grid_search.fit(X_trainT,y_train)\n",
    "# plot_model_perf(y_test,X_testT,grid_search.best_estimator_,'Test')"
   ]
  },
  {
   "cell_type": "code",
   "execution_count": 24,
   "metadata": {},
   "outputs": [
    {
     "data": {
      "text/html": [
       "<div>\n",
       "<style scoped>\n",
       "    .dataframe tbody tr th:only-of-type {\n",
       "        vertical-align: middle;\n",
       "    }\n",
       "\n",
       "    .dataframe tbody tr th {\n",
       "        vertical-align: top;\n",
       "    }\n",
       "\n",
       "    .dataframe thead th {\n",
       "        text-align: right;\n",
       "    }\n",
       "</style>\n",
       "<table border=\"1\" class=\"dataframe\">\n",
       "  <thead>\n",
       "    <tr style=\"text-align: right;\">\n",
       "      <th></th>\n",
       "      <th>mean_fit_time</th>\n",
       "      <th>std_fit_time</th>\n",
       "      <th>mean_score_time</th>\n",
       "      <th>std_score_time</th>\n",
       "      <th>param_max_depth</th>\n",
       "      <th>param_max_leaf_nodes</th>\n",
       "      <th>param_min_samples_leaf</th>\n",
       "      <th>param_n_estimators</th>\n",
       "      <th>params</th>\n",
       "      <th>split0_test_score</th>\n",
       "      <th>...</th>\n",
       "      <th>mean_test_score</th>\n",
       "      <th>std_test_score</th>\n",
       "      <th>rank_test_score</th>\n",
       "      <th>split0_train_score</th>\n",
       "      <th>split1_train_score</th>\n",
       "      <th>split2_train_score</th>\n",
       "      <th>split3_train_score</th>\n",
       "      <th>split4_train_score</th>\n",
       "      <th>mean_train_score</th>\n",
       "      <th>std_train_score</th>\n",
       "    </tr>\n",
       "  </thead>\n",
       "  <tbody>\n",
       "    <tr>\n",
       "      <th>0</th>\n",
       "      <td>0.022539</td>\n",
       "      <td>0.002326</td>\n",
       "      <td>0.003592</td>\n",
       "      <td>0.000798</td>\n",
       "      <td>5</td>\n",
       "      <td>50</td>\n",
       "      <td>1</td>\n",
       "      <td>10</td>\n",
       "      <td>{'max_depth': 5, 'max_leaf_nodes': 50, 'min_sa...</td>\n",
       "      <td>0.354839</td>\n",
       "      <td>...</td>\n",
       "      <td>0.370480</td>\n",
       "      <td>0.068193</td>\n",
       "      <td>1</td>\n",
       "      <td>0.900000</td>\n",
       "      <td>0.776119</td>\n",
       "      <td>0.771429</td>\n",
       "      <td>0.640000</td>\n",
       "      <td>0.591362</td>\n",
       "      <td>0.735782</td>\n",
       "      <td>0.109450</td>\n",
       "    </tr>\n",
       "    <tr>\n",
       "      <th>1</th>\n",
       "      <td>0.083377</td>\n",
       "      <td>0.025367</td>\n",
       "      <td>0.005586</td>\n",
       "      <td>0.000489</td>\n",
       "      <td>5</td>\n",
       "      <td>50</td>\n",
       "      <td>1</td>\n",
       "      <td>50</td>\n",
       "      <td>{'max_depth': 5, 'max_leaf_nodes': 50, 'min_sa...</td>\n",
       "      <td>0.393939</td>\n",
       "      <td>...</td>\n",
       "      <td>0.329102</td>\n",
       "      <td>0.077080</td>\n",
       "      <td>16</td>\n",
       "      <td>0.953488</td>\n",
       "      <td>0.769231</td>\n",
       "      <td>0.648936</td>\n",
       "      <td>0.618474</td>\n",
       "      <td>0.610738</td>\n",
       "      <td>0.720173</td>\n",
       "      <td>0.129797</td>\n",
       "    </tr>\n",
       "    <tr>\n",
       "      <th>2</th>\n",
       "      <td>0.018135</td>\n",
       "      <td>0.005114</td>\n",
       "      <td>0.002601</td>\n",
       "      <td>0.000495</td>\n",
       "      <td>5</td>\n",
       "      <td>50</td>\n",
       "      <td>2</td>\n",
       "      <td>10</td>\n",
       "      <td>{'max_depth': 5, 'max_leaf_nodes': 50, 'min_sa...</td>\n",
       "      <td>0.416667</td>\n",
       "      <td>...</td>\n",
       "      <td>0.361666</td>\n",
       "      <td>0.070782</td>\n",
       "      <td>7</td>\n",
       "      <td>0.939759</td>\n",
       "      <td>0.682927</td>\n",
       "      <td>0.666667</td>\n",
       "      <td>0.561983</td>\n",
       "      <td>0.601351</td>\n",
       "      <td>0.690537</td>\n",
       "      <td>0.132075</td>\n",
       "    </tr>\n",
       "    <tr>\n",
       "      <th>3</th>\n",
       "      <td>0.082986</td>\n",
       "      <td>0.026407</td>\n",
       "      <td>0.005584</td>\n",
       "      <td>0.000490</td>\n",
       "      <td>5</td>\n",
       "      <td>50</td>\n",
       "      <td>2</td>\n",
       "      <td>50</td>\n",
       "      <td>{'max_depth': 5, 'max_leaf_nodes': 50, 'min_sa...</td>\n",
       "      <td>0.387097</td>\n",
       "      <td>...</td>\n",
       "      <td>0.340661</td>\n",
       "      <td>0.053941</td>\n",
       "      <td>13</td>\n",
       "      <td>0.913580</td>\n",
       "      <td>0.709677</td>\n",
       "      <td>0.652632</td>\n",
       "      <td>0.642570</td>\n",
       "      <td>0.580205</td>\n",
       "      <td>0.699733</td>\n",
       "      <td>0.114545</td>\n",
       "    </tr>\n",
       "    <tr>\n",
       "      <th>4</th>\n",
       "      <td>0.018154</td>\n",
       "      <td>0.004967</td>\n",
       "      <td>0.002194</td>\n",
       "      <td>0.000399</td>\n",
       "      <td>5</td>\n",
       "      <td>50</td>\n",
       "      <td>3</td>\n",
       "      <td>10</td>\n",
       "      <td>{'max_depth': 5, 'max_leaf_nodes': 50, 'min_sa...</td>\n",
       "      <td>0.305085</td>\n",
       "      <td>...</td>\n",
       "      <td>0.328813</td>\n",
       "      <td>0.064031</td>\n",
       "      <td>17</td>\n",
       "      <td>0.871795</td>\n",
       "      <td>0.666667</td>\n",
       "      <td>0.625000</td>\n",
       "      <td>0.649057</td>\n",
       "      <td>0.536585</td>\n",
       "      <td>0.669821</td>\n",
       "      <td>0.110449</td>\n",
       "    </tr>\n",
       "  </tbody>\n",
       "</table>\n",
       "<p>5 rows × 24 columns</p>\n",
       "</div>"
      ],
      "text/plain": [
       "   mean_fit_time  std_fit_time  mean_score_time  std_score_time  \\\n",
       "0       0.022539      0.002326         0.003592        0.000798   \n",
       "1       0.083377      0.025367         0.005586        0.000489   \n",
       "2       0.018135      0.005114         0.002601        0.000495   \n",
       "3       0.082986      0.026407         0.005584        0.000490   \n",
       "4       0.018154      0.004967         0.002194        0.000399   \n",
       "\n",
       "  param_max_depth param_max_leaf_nodes param_min_samples_leaf  \\\n",
       "0               5                   50                      1   \n",
       "1               5                   50                      1   \n",
       "2               5                   50                      2   \n",
       "3               5                   50                      2   \n",
       "4               5                   50                      3   \n",
       "\n",
       "  param_n_estimators                                             params  \\\n",
       "0                 10  {'max_depth': 5, 'max_leaf_nodes': 50, 'min_sa...   \n",
       "1                 50  {'max_depth': 5, 'max_leaf_nodes': 50, 'min_sa...   \n",
       "2                 10  {'max_depth': 5, 'max_leaf_nodes': 50, 'min_sa...   \n",
       "3                 50  {'max_depth': 5, 'max_leaf_nodes': 50, 'min_sa...   \n",
       "4                 10  {'max_depth': 5, 'max_leaf_nodes': 50, 'min_sa...   \n",
       "\n",
       "   split0_test_score  ...  mean_test_score  std_test_score  rank_test_score  \\\n",
       "0           0.354839  ...         0.370480        0.068193                1   \n",
       "1           0.393939  ...         0.329102        0.077080               16   \n",
       "2           0.416667  ...         0.361666        0.070782                7   \n",
       "3           0.387097  ...         0.340661        0.053941               13   \n",
       "4           0.305085  ...         0.328813        0.064031               17   \n",
       "\n",
       "   split0_train_score  split1_train_score  split2_train_score  \\\n",
       "0            0.900000            0.776119            0.771429   \n",
       "1            0.953488            0.769231            0.648936   \n",
       "2            0.939759            0.682927            0.666667   \n",
       "3            0.913580            0.709677            0.652632   \n",
       "4            0.871795            0.666667            0.625000   \n",
       "\n",
       "   split3_train_score  split4_train_score  mean_train_score  std_train_score  \n",
       "0            0.640000            0.591362          0.735782         0.109450  \n",
       "1            0.618474            0.610738          0.720173         0.129797  \n",
       "2            0.561983            0.601351          0.690537         0.132075  \n",
       "3            0.642570            0.580205          0.699733         0.114545  \n",
       "4            0.649057            0.536585          0.669821         0.110449  \n",
       "\n",
       "[5 rows x 24 columns]"
      ]
     },
     "execution_count": 24,
     "metadata": {},
     "output_type": "execute_result"
    }
   ],
   "source": [
    "pd.DataFrame(grid_search.cv_results_).head()"
   ]
  },
  {
   "cell_type": "code",
   "execution_count": 25,
   "metadata": {},
   "outputs": [],
   "source": [
    "from src.eval.eval_utils import BinClassEval"
   ]
  },
  {
   "cell_type": "markdown",
   "metadata": {},
   "source": [
    "# Warning not sure hsould be evaluating like this! should be using cv_prediction!"
   ]
  },
  {
   "cell_type": "code",
   "execution_count": 27,
   "metadata": {},
   "outputs": [
    {
     "name": "stderr",
     "output_type": "stream",
     "text": [
      "No handles with labels found to put in legend.\n"
     ]
    },
    {
     "name": "stdout",
     "output_type": "stream",
     "text": [
      "Model has predict_proba.\n",
      "AUC:  0.94\n",
      "F1 score:  0.451\n",
      "accuracy:  0.891\n"
     ]
    },
    {
     "data": {
      "text/plain": [
       "<src.eval.eval_utils.BinClassEval at 0x1d4146ed128>"
      ]
     },
     "execution_count": 27,
     "metadata": {},
     "output_type": "execute_result"
    },
    {
     "data": {
      "image/png": "[encoded data removed]",
      "text/plain": [
       "<Figure size 648x288 with 2 Axes>"
      ]
     },
     "metadata": {
      "needs_background": "light"
     },
     "output_type": "display_data"
    }
   ],
   "source": [
    "BinClassEval(rf, X_train, y_train, plot=True)"
   ]
  },
  {
   "cell_type": "code",
   "execution_count": 28,
   "metadata": {},
   "outputs": [],
   "source": [
    "from sklearn.feature_selection import SelectKBest"
   ]
  },
  {
   "cell_type": "code",
   "execution_count": 29,
   "metadata": {},
   "outputs": [],
   "source": [
    "X = SelectKBest(k=40).fit_transform(X_train, y_train)"
   ]
  },
  {
   "cell_type": "code",
   "execution_count": 30,
   "metadata": {},
   "outputs": [
    {
     "name": "stdout",
     "output_type": "stream",
     "text": [
      "CV MODEL RESULTS\n",
      "{'max_depth': 5, 'max_leaf_nodes': 400, 'min_samples_leaf': 2, 'n_estimators': 10}\n",
      "    mean_test_score  mean_train_score\n",
      "18         0.418852          0.685208\n"
     ]
    }
   ],
   "source": [
    "grid_search = find_best_model(rf,grid,X,y_train,'CV set')\n",
    "rf_kbest = grid_search.best_estimator_"
   ]
  },
  {
   "cell_type": "code",
   "execution_count": 31,
   "metadata": {},
   "outputs": [
    {
     "name": "stderr",
     "output_type": "stream",
     "text": [
      "No handles with labels found to put in legend.\n"
     ]
    },
    {
     "name": "stdout",
     "output_type": "stream",
     "text": [
      "Model has predict_proba.\n",
      "AUC:  0.932\n",
      "F1 score:  0.503\n",
      "accuracy:  0.897\n"
     ]
    },
    {
     "data": {
      "text/plain": [
       "<src.eval.eval_utils.BinClassEval at 0x1d4144f5438>"
      ]
     },
     "execution_count": 31,
     "metadata": {},
     "output_type": "execute_result"
    },
    {
     "data": {
      "image/png": "[encoded data removed]",
      "text/plain": [
       "<Figure size 648x288 with 2 Axes>"
      ]
     },
     "metadata": {
      "needs_background": "light"
     },
     "output_type": "display_data"
    }
   ],
   "source": [
    "BinClassEval(rf_kbest, X, y_train, plot=True)"
   ]
  },
  {
   "cell_type": "markdown",
   "metadata": {},
   "source": [
    "Feature selection seems to improve in case of RF (not the case in LGR). THink this result is good because this evaulation is biased (not CV-ed!). Performance was muhc lower in grid search validation set."
   ]
  },
  {
   "cell_type": "markdown",
   "metadata": {},
   "source": [
    "# Logging model and trianing results"
   ]
  },
  {
   "cell_type": "markdown",
   "metadata": {},
   "source": [
    "Create first log df"
   ]
  },
  {
   "cell_type": "markdown",
   "metadata": {},
   "source": [
    "model_log = pd.DataFrame(columns=['dataV','model','gridsearch','mean_train','mean_valid','notes'])"
   ]
  },
  {
   "cell_type": "markdown",
   "metadata": {},
   "source": [
    "model_log"
   ]
  },
  {
   "cell_type": "markdown",
   "metadata": {},
   "source": [
    "model_log.to_pickle('./../data/output/model_log.pkl')"
   ]
  },
  {
   "cell_type": "code",
   "execution_count": 32,
   "metadata": {},
   "outputs": [],
   "source": [
    "from src.eval.eval_utils import save_model_to_log"
   ]
  },
  {
   "cell_type": "code",
   "execution_count": 34,
   "metadata": {},
   "outputs": [
    {
     "name": "stdout",
     "output_type": "stream",
     "text": [
      "Model logged.\n"
     ]
    }
   ],
   "source": [
    "save_model_to_log('./../data/output/model_log.pkl', 'v1', rf, grid_search, 'Random Forest 1st attempt with v1.')"
   ]
  },
  {
   "cell_type": "code",
   "execution_count": 35,
   "metadata": {},
   "outputs": [
    {
     "data": {
      "text/html": [
       "<div>\n",
       "<style scoped>\n",
       "    .dataframe tbody tr th:only-of-type {\n",
       "        vertical-align: middle;\n",
       "    }\n",
       "\n",
       "    .dataframe tbody tr th {\n",
       "        vertical-align: top;\n",
       "    }\n",
       "\n",
       "    .dataframe thead th {\n",
       "        text-align: right;\n",
       "    }\n",
       "</style>\n",
       "<table border=\"1\" class=\"dataframe\">\n",
       "  <thead>\n",
       "    <tr style=\"text-align: right;\">\n",
       "      <th></th>\n",
       "      <th>dataV</th>\n",
       "      <th>model</th>\n",
       "      <th>gridsearch</th>\n",
       "      <th>mean_train</th>\n",
       "      <th>mean_valid</th>\n",
       "      <th>notes</th>\n",
       "    </tr>\n",
       "  </thead>\n",
       "  <tbody>\n",
       "    <tr>\n",
       "      <th>0</th>\n",
       "      <td>v1</td>\n",
       "      <td>LogisticRegression(C=0.3, class_weight='balanc...</td>\n",
       "      <td>mean_fit_time  std_fit_time  mean_score_tim...</td>\n",
       "      <td>[0.629]</td>\n",
       "      <td>[0.52]</td>\n",
       "      <td>Initial model which was built on first edition...</td>\n",
       "    </tr>\n",
       "    <tr>\n",
       "      <th>1</th>\n",
       "      <td>v1</td>\n",
       "      <td>(DecisionTreeClassifier(class_weight=None, cri...</td>\n",
       "      <td>mean_fit_time  std_fit_time  mean_score_ti...</td>\n",
       "      <td>[0.685]</td>\n",
       "      <td>[0.419]</td>\n",
       "      <td>Random Forest 1st attempt with v1.</td>\n",
       "    </tr>\n",
       "  </tbody>\n",
       "</table>\n",
       "</div>"
      ],
      "text/plain": [
       "  dataV                                              model  \\\n",
       "0    v1  LogisticRegression(C=0.3, class_weight='balanc...   \n",
       "1    v1  (DecisionTreeClassifier(class_weight=None, cri...   \n",
       "\n",
       "                                          gridsearch mean_train mean_valid  \\\n",
       "0     mean_fit_time  std_fit_time  mean_score_tim...    [0.629]     [0.52]   \n",
       "1      mean_fit_time  std_fit_time  mean_score_ti...    [0.685]    [0.419]   \n",
       "\n",
       "                                               notes  \n",
       "0  Initial model which was built on first edition...  \n",
       "1                 Random Forest 1st attempt with v1.  "
      ]
     },
     "execution_count": 35,
     "metadata": {},
     "output_type": "execute_result"
    }
   ],
   "source": [
    "pd.read_pickle('./../data/output/model_log.pkl')"
   ]
  },
  {
   "cell_type": "code",
   "execution_count": null,
   "metadata": {},
   "outputs": [],
   "source": []
  }
 ],
 "metadata": {
  "kernelspec": {
   "display_name": "Python [conda env:class]",
   "language": "python",
   "name": "conda-env-class-py"
  },
  "language_info": {
   "codemirror_mode": {
    "name": "ipython",
    "version": 3
   },
   "file_extension": ".py",
   "mimetype": "text/x-python",
   "name": "python",
   "nbconvert_exporter": "python",
   "pygments_lexer": "ipython3",
   "version": "3.6.7"
  }
 },
 "nbformat": 4,
 "nbformat_minor": 2
}
