{
 "cells": [
  {
   "cell_type": "markdown",
   "metadata": {},
   "source": [
    "# Aims\n",
    "- Test the use of featuretools to create a morning entity set\n",
    "- import pickle  data and put it into ft entity sets\n",
    "- check that can select only records that are active for a window in a morning"
   ]
  },
  {
   "cell_type": "code",
   "execution_count": 1,
   "metadata": {},
   "outputs": [],
   "source": [
    "#%cd ./flosp\n",
    "import pandas as pd\n",
    "import numpy as np\n",
    "import seaborn as sns\n",
    "import featuretools as ft\n",
    "#import flosp\n",
    "#import bradlib as bl\n",
    "sns.set()\n",
    "\n",
    "# from core import create_timeseries_from_events, make_callender_columns"
   ]
  },
  {
   "cell_type": "markdown",
   "metadata": {},
   "source": [
    "# get raw data"
   ]
  },
  {
   "cell_type": "code",
   "execution_count": 2,
   "metadata": {},
   "outputs": [],
   "source": [
    "ED = pd.read_pickle('./../../../3_Data/EDclassification/cleanED.pkl')"
   ]
  },
  {
   "cell_type": "code",
   "execution_count": 3,
   "metadata": {},
   "outputs": [
    {
     "data": {
      "text/html": [
       "<div>\n",
       "<style scoped>\n",
       "    .dataframe tbody tr th:only-of-type {\n",
       "        vertical-align: middle;\n",
       "    }\n",
       "\n",
       "    .dataframe tbody tr th {\n",
       "        vertical-align: top;\n",
       "    }\n",
       "\n",
       "    .dataframe thead th {\n",
       "        text-align: right;\n",
       "    }\n",
       "</style>\n",
       "<table border=\"1\" class=\"dataframe\">\n",
       "  <thead>\n",
       "    <tr style=\"text-align: right;\">\n",
       "      <th></th>\n",
       "      <th>pseudo_patient_number</th>\n",
       "      <th>attendance_number</th>\n",
       "      <th>age</th>\n",
       "      <th>gender</th>\n",
       "      <th>department</th>\n",
       "      <th>site_attended</th>\n",
       "      <th>arrival</th>\n",
       "      <th>arrival_mode</th>\n",
       "      <th>arrival_mode_desc</th>\n",
       "      <th>1st_time_triaged_[datetime]</th>\n",
       "      <th>...</th>\n",
       "      <th>speciality_referred_to</th>\n",
       "      <th>time_into_cdu</th>\n",
       "      <th>time_leaving_dept_inc_cdu</th>\n",
       "      <th>admission_flag</th>\n",
       "      <th>majorsminorsresus_patient</th>\n",
       "      <th>triage_category</th>\n",
       "      <th>flag_admission</th>\n",
       "      <th>flag_bedreq</th>\n",
       "      <th>flag_specreq</th>\n",
       "      <th>flag_cdu</th>\n",
       "    </tr>\n",
       "  </thead>\n",
       "  <tbody>\n",
       "    <tr>\n",
       "      <th>0</th>\n",
       "      <td>004101045105</td>\n",
       "      <td>90902325901</td>\n",
       "      <td>94.0</td>\n",
       "      <td>F</td>\n",
       "      <td>Main ED</td>\n",
       "      <td>Main ED</td>\n",
       "      <td>2009-04-13 09:16:00</td>\n",
       "      <td>NaN</td>\n",
       "      <td>BROUGHT IN BY AMBULANCE</td>\n",
       "      <td>NaN</td>\n",
       "      <td>...</td>\n",
       "      <td>NaN</td>\n",
       "      <td>NaT</td>\n",
       "      <td>2009-04-13 12:24:00</td>\n",
       "      <td>N</td>\n",
       "      <td>Majors</td>\n",
       "      <td>VERY URGENT</td>\n",
       "      <td>0</td>\n",
       "      <td>1</td>\n",
       "      <td>1</td>\n",
       "      <td>1</td>\n",
       "    </tr>\n",
       "    <tr>\n",
       "      <th>1</th>\n",
       "      <td>644868441371</td>\n",
       "      <td>90902326101</td>\n",
       "      <td>47.0</td>\n",
       "      <td>M</td>\n",
       "      <td>Main ED</td>\n",
       "      <td>Main ED</td>\n",
       "      <td>2009-04-13 09:22:00</td>\n",
       "      <td>NaN</td>\n",
       "      <td>BROUGHT IN BY AMBULANCE</td>\n",
       "      <td>NaN</td>\n",
       "      <td>...</td>\n",
       "      <td>NaN</td>\n",
       "      <td>NaT</td>\n",
       "      <td>2009-04-13 12:55:00</td>\n",
       "      <td>Y</td>\n",
       "      <td>Majors</td>\n",
       "      <td>VERY URGENT</td>\n",
       "      <td>1</td>\n",
       "      <td>1</td>\n",
       "      <td>1</td>\n",
       "      <td>1</td>\n",
       "    </tr>\n",
       "  </tbody>\n",
       "</table>\n",
       "<p>2 rows × 23 columns</p>\n",
       "</div>"
      ],
      "text/plain": [
       "  pseudo_patient_number  attendance_number   age gender department  \\\n",
       "0          004101045105        90902325901  94.0      F    Main ED   \n",
       "1          644868441371        90902326101  47.0      M    Main ED   \n",
       "\n",
       "  site_attended             arrival arrival_mode        arrival_mode_desc  \\\n",
       "0       Main ED 2009-04-13 09:16:00          NaN  BROUGHT IN BY AMBULANCE   \n",
       "1       Main ED 2009-04-13 09:22:00          NaN  BROUGHT IN BY AMBULANCE   \n",
       "\n",
       "  1st_time_triaged_[datetime]    ...    speciality_referred_to time_into_cdu  \\\n",
       "0                         NaN    ...                       NaN           NaT   \n",
       "1                         NaN    ...                       NaN           NaT   \n",
       "\n",
       "  time_leaving_dept_inc_cdu admission_flag majorsminorsresus_patient  \\\n",
       "0       2009-04-13 12:24:00              N                    Majors   \n",
       "1       2009-04-13 12:55:00              Y                    Majors   \n",
       "\n",
       "  triage_category flag_admission flag_bedreq flag_specreq  flag_cdu  \n",
       "0     VERY URGENT              0           1            1         1  \n",
       "1     VERY URGENT              1           1            1         1  \n",
       "\n",
       "[2 rows x 23 columns]"
      ]
     },
     "execution_count": 3,
     "metadata": {},
     "output_type": "execute_result"
    }
   ],
   "source": [
    "ED.head(2)"
   ]
  },
  {
   "cell_type": "code",
   "execution_count": 4,
   "metadata": {},
   "outputs": [
    {
     "data": {
      "text/plain": [
       "(913837, 23)"
      ]
     },
     "execution_count": 4,
     "metadata": {},
     "output_type": "execute_result"
    }
   ],
   "source": [
    "ED.shape"
   ]
  },
  {
   "cell_type": "code",
   "execution_count": 5,
   "metadata": {},
   "outputs": [],
   "source": [
    "#### reduce number of records for simplicity\n",
    "ED = ED[ED.arrival > pd.datetime(2013,1,1)]"
   ]
  },
  {
   "cell_type": "code",
   "execution_count": 6,
   "metadata": {},
   "outputs": [
    {
     "data": {
      "text/plain": [
       "(571244, 23)"
      ]
     },
     "execution_count": 6,
     "metadata": {},
     "output_type": "execute_result"
    }
   ],
   "source": [
    "ED.shape"
   ]
  },
  {
   "cell_type": "code",
   "execution_count": 7,
   "metadata": {},
   "outputs": [
    {
     "data": {
      "text/plain": [
       "pseudo_patient_number                 1\n",
       "attendance_number                     0\n",
       "age                                  10\n",
       "gender                               10\n",
       "department                            0\n",
       "site_attended                         0\n",
       "arrival                               0\n",
       "arrival_mode                          0\n",
       "arrival_mode_desc                     0\n",
       "1st_time_triaged_[datetime]       10249\n",
       "1st_time_seen_by_doctor           50376\n",
       "time_of_inpatient_bed_request    341898\n",
       "time_of_speciality_referral      394712\n",
       "speciality_referred_to           394713\n",
       "time_into_cdu                    484301\n",
       "time_leaving_dept_inc_cdu             0\n",
       "admission_flag                        0\n",
       "majorsminorsresus_patient         64660\n",
       "triage_category                  427604\n",
       "flag_admission                        0\n",
       "flag_bedreq                           0\n",
       "flag_specreq                          0\n",
       "flag_cdu                              0\n",
       "dtype: int64"
      ]
     },
     "execution_count": 7,
     "metadata": {},
     "output_type": "execute_result"
    }
   ],
   "source": [
    "ED.isnull().sum()"
   ]
  },
  {
   "cell_type": "markdown",
   "metadata": {},
   "source": [
    "# clean ED"
   ]
  },
  {
   "cell_type": "code",
   "execution_count": 8,
   "metadata": {},
   "outputs": [],
   "source": [
    "ED['wait_time_total'] = (ED['time_leaving_dept_inc_cdu'] - ED['arrival'])/pd.Timedelta(1,'m')"
   ]
  },
  {
   "cell_type": "code",
   "execution_count": 9,
   "metadata": {},
   "outputs": [],
   "source": [
    "ED['arr_date'] = ED.arrival.apply(lambda x: x.date())"
   ]
  },
  {
   "cell_type": "markdown",
   "metadata": {},
   "source": [
    "# create es"
   ]
  },
  {
   "cell_type": "code",
   "execution_count": 10,
   "metadata": {},
   "outputs": [
    {
     "data": {
      "text/plain": [
       "Entityset: activity\n",
       "  Entities:\n",
       "  Relationships:\n",
       "    No relationships"
      ]
     },
     "execution_count": 10,
     "metadata": {},
     "output_type": "execute_result"
    }
   ],
   "source": [
    "es = ft.EntitySet(id='activity')\n",
    "es"
   ]
  },
  {
   "cell_type": "markdown",
   "metadata": {},
   "source": [
    "#### select columns"
   ]
  },
  {
   "cell_type": "code",
   "execution_count": 11,
   "metadata": {},
   "outputs": [
    {
     "data": {
      "text/plain": [
       "Index(['pseudo_patient_number', 'attendance_number', 'age', 'gender',\n",
       "       'department', 'site_attended', 'arrival', 'arrival_mode',\n",
       "       'arrival_mode_desc', '1st_time_triaged_[datetime]',\n",
       "       '1st_time_seen_by_doctor', 'time_of_inpatient_bed_request',\n",
       "       'time_of_speciality_referral', 'speciality_referred_to',\n",
       "       'time_into_cdu', 'time_leaving_dept_inc_cdu', 'admission_flag',\n",
       "       'majorsminorsresus_patient', 'triage_category', 'flag_admission',\n",
       "       'flag_bedreq', 'flag_specreq', 'flag_cdu', 'wait_time_total',\n",
       "       'arr_date'],\n",
       "      dtype='object')"
      ]
     },
     "execution_count": 11,
     "metadata": {},
     "output_type": "execute_result"
    }
   ],
   "source": [
    "ED.columns"
   ]
  },
  {
   "cell_type": "code",
   "execution_count": 12,
   "metadata": {},
   "outputs": [],
   "source": [
    "df_ed = ED[['arrival','arr_date','attendance_number','pseudo_patient_number',\n",
    "            'age','gender',\n",
    "                    'time_leaving_dept_inc_cdu',\n",
    "            'flag_admission',\n",
    "            'flag_cdu',\n",
    "            'wait_time_total',\n",
    "#             'flag_bedreq',\n",
    "            'flag_specreq',\n",
    "                   ]]"
   ]
  },
  {
   "cell_type": "markdown",
   "metadata": {},
   "source": [
    "for i in ED.columns:\n",
    "    print(i)\n",
    "    print(ED[i].dtype)"
   ]
  },
  {
   "cell_type": "code",
   "execution_count": 13,
   "metadata": {},
   "outputs": [
    {
     "data": {
      "text/html": [
       "<div>\n",
       "<style scoped>\n",
       "    .dataframe tbody tr th:only-of-type {\n",
       "        vertical-align: middle;\n",
       "    }\n",
       "\n",
       "    .dataframe tbody tr th {\n",
       "        vertical-align: top;\n",
       "    }\n",
       "\n",
       "    .dataframe thead th {\n",
       "        text-align: right;\n",
       "    }\n",
       "</style>\n",
       "<table border=\"1\" class=\"dataframe\">\n",
       "  <thead>\n",
       "    <tr style=\"text-align: right;\">\n",
       "      <th></th>\n",
       "      <th>arrival</th>\n",
       "      <th>arr_date</th>\n",
       "      <th>attendance_number</th>\n",
       "      <th>pseudo_patient_number</th>\n",
       "      <th>age</th>\n",
       "      <th>gender</th>\n",
       "      <th>time_leaving_dept_inc_cdu</th>\n",
       "      <th>flag_admission</th>\n",
       "      <th>flag_cdu</th>\n",
       "      <th>wait_time_total</th>\n",
       "      <th>flag_specreq</th>\n",
       "    </tr>\n",
       "  </thead>\n",
       "  <tbody>\n",
       "    <tr>\n",
       "      <th>330791</th>\n",
       "      <td>2013-03-17 13:06:00</td>\n",
       "      <td>2013-03-17</td>\n",
       "      <td>91301942801</td>\n",
       "      <td>596656963303</td>\n",
       "      <td>8.0</td>\n",
       "      <td>F</td>\n",
       "      <td>2013-03-17 16:38:00</td>\n",
       "      <td>0</td>\n",
       "      <td>1</td>\n",
       "      <td>212.0</td>\n",
       "      <td>1</td>\n",
       "    </tr>\n",
       "    <tr>\n",
       "      <th>330792</th>\n",
       "      <td>2013-03-23 16:20:00</td>\n",
       "      <td>2013-03-23</td>\n",
       "      <td>91302100301</td>\n",
       "      <td>133313334304</td>\n",
       "      <td>31.0</td>\n",
       "      <td>M</td>\n",
       "      <td>2013-03-24 23:55:00</td>\n",
       "      <td>0</td>\n",
       "      <td>1</td>\n",
       "      <td>1895.0</td>\n",
       "      <td>1</td>\n",
       "    </tr>\n",
       "  </tbody>\n",
       "</table>\n",
       "</div>"
      ],
      "text/plain": [
       "                   arrival    arr_date  attendance_number  \\\n",
       "330791 2013-03-17 13:06:00  2013-03-17        91301942801   \n",
       "330792 2013-03-23 16:20:00  2013-03-23        91302100301   \n",
       "\n",
       "       pseudo_patient_number   age gender time_leaving_dept_inc_cdu  \\\n",
       "330791          596656963303   8.0      F       2013-03-17 16:38:00   \n",
       "330792          133313334304  31.0      M       2013-03-24 23:55:00   \n",
       "\n",
       "        flag_admission  flag_cdu  wait_time_total  flag_specreq  \n",
       "330791               0         1            212.0             1  \n",
       "330792               0         1           1895.0             1  "
      ]
     },
     "execution_count": 13,
     "metadata": {},
     "output_type": "execute_result"
    }
   ],
   "source": [
    "df_ed.head(2)"
   ]
  },
  {
   "cell_type": "markdown",
   "metadata": {},
   "source": [
    "#### make attendances"
   ]
  },
  {
   "cell_type": "code",
   "execution_count": 14,
   "metadata": {},
   "outputs": [],
   "source": [
    "es = es.entity_from_dataframe(entity_id='EDatt',\n",
    "                        dataframe=df_ed,\n",
    "                         # dataframe=df_ed[:],\n",
    "                    index='attendance_number',\n",
    "                        time_index='arrival',\n",
    "                              secondary_time_index={'time_leaving_dept_inc_cdu':['wait_time_total','flag_admission','flag_cdu','flag_specreq']}, #,,'flag_bedreq']},\n",
    "                             variable_types={'arrival':ft.variable_types.Datetime,\n",
    "                                            'arr_date':ft.variable_types.Datetime,\n",
    "                                             'pseudo_patient_number':ft.variable_types.Id,\n",
    "                                             'age':ft.variable_types.Numeric,\n",
    "                                             'gender':ft.variable_types.Categorical,\n",
    "                                             'attendance_number':ft.variable_types.Numeric,\n",
    "                                             'flag_admission':ft.variable_types.Numeric,\n",
    "#                                              'flag_bedreq':ft.variable_types.Categorical,\n",
    "#                                              'flag_specreq':ft.variable_types.Categorical,\n",
    "                                             'flag_cdu':ft.variable_types.Categorical,\n",
    "})"
   ]
  },
  {
   "cell_type": "markdown",
   "metadata": {},
   "source": [
    "#### look at time index's"
   ]
  },
  {
   "cell_type": "markdown",
   "metadata": {},
   "source": [
    "es['EDatt'].last_time_index = es['EDatt'].df['time_leaving_dept_inc_cdu'] # necessary? or should set for now?"
   ]
  },
  {
   "cell_type": "code",
   "execution_count": 15,
   "metadata": {},
   "outputs": [
    {
     "data": {
      "text/plain": [
       "91300000201   2013-01-01 00:06:00\n",
       "91300000301   2013-01-01 00:16:00\n",
       "91300000401   2013-01-01 00:16:00\n",
       "91300000501   2013-01-01 00:30:00\n",
       "91300000601   2013-01-01 00:34:00\n",
       "Name: arrival, dtype: datetime64[ns]"
      ]
     },
     "execution_count": 15,
     "metadata": {},
     "output_type": "execute_result"
    }
   ],
   "source": [
    "es['EDatt'].df['arrival'].head()"
   ]
  },
  {
   "cell_type": "code",
   "execution_count": 16,
   "metadata": {},
   "outputs": [
    {
     "data": {
      "text/plain": [
       "{'time_leaving_dept_inc_cdu': ['wait_time_total',\n",
       "  'flag_admission',\n",
       "  'flag_cdu',\n",
       "  'flag_specreq',\n",
       "  'time_leaving_dept_inc_cdu']}"
      ]
     },
     "execution_count": 16,
     "metadata": {},
     "output_type": "execute_result"
    }
   ],
   "source": [
    "es['EDatt'].secondary_time_index"
   ]
  },
  {
   "cell_type": "markdown",
   "metadata": {},
   "source": [
    "es['EDatt'].last_time_index.head()"
   ]
  },
  {
   "cell_type": "code",
   "execution_count": 17,
   "metadata": {},
   "outputs": [
    {
     "data": {
      "text/plain": [
       "Entity: EDatt\n",
       "  Variables:\n",
       "    attendance_number (dtype: index)\n",
       "    time_leaving_dept_inc_cdu (dtype: datetime)\n",
       "    wait_time_total (dtype: numeric)\n",
       "    flag_specreq (dtype: numeric)\n",
       "    arrival (dtype: datetime_time_index)\n",
       "    arr_date (dtype: datetime)\n",
       "    pseudo_patient_number (dtype: id)\n",
       "    age (dtype: numeric)\n",
       "    gender (dtype: categorical)\n",
       "    flag_admission (dtype: numeric)\n",
       "    flag_cdu (dtype: categorical)\n",
       "  Shape:\n",
       "    (Rows: 571244, Columns: 11)"
      ]
     },
     "execution_count": 17,
     "metadata": {},
     "output_type": "execute_result"
    }
   ],
   "source": [
    "es['EDatt']"
   ]
  },
  {
   "cell_type": "markdown",
   "metadata": {},
   "source": [
    "##### make patient table - (removed for time being to make simpler features, possible to have info on readmissions directly in EDatt enitity - calced manually)"
   ]
  },
  {
   "cell_type": "markdown",
   "metadata": {},
   "source": [
    "es = es.normalize_entity(base_entity_id='EDatt',\n",
    "                   new_entity_id ='EDpatients',\n",
    "                   index='pseudo_patient_number',\n",
    "                         make_time_index=True,\n",
    "                   additional_variables=['gender'])"
   ]
  },
  {
   "cell_type": "code",
   "execution_count": 18,
   "metadata": {},
   "outputs": [],
   "source": [
    "es = es.normalize_entity(base_entity_id='EDatt',\n",
    "                   new_entity_id ='days',\n",
    "                   index='arr_date',\n",
    "#                          make_time_index=True,\n",
    "#                    additional_variables=['gender'])\n",
    "                        )\n"
   ]
  },
  {
   "cell_type": "code",
   "execution_count": 19,
   "metadata": {},
   "outputs": [
    {
     "data": {
      "text/html": [
       "<div>\n",
       "<style scoped>\n",
       "    .dataframe tbody tr th:only-of-type {\n",
       "        vertical-align: middle;\n",
       "    }\n",
       "\n",
       "    .dataframe tbody tr th {\n",
       "        vertical-align: top;\n",
       "    }\n",
       "\n",
       "    .dataframe thead th {\n",
       "        text-align: right;\n",
       "    }\n",
       "</style>\n",
       "<table border=\"1\" class=\"dataframe\">\n",
       "  <thead>\n",
       "    <tr style=\"text-align: right;\">\n",
       "      <th></th>\n",
       "      <th>arr_date</th>\n",
       "      <th>first_EDatt_time</th>\n",
       "    </tr>\n",
       "  </thead>\n",
       "  <tbody>\n",
       "    <tr>\n",
       "      <th>2013-01-01</th>\n",
       "      <td>2013-01-01</td>\n",
       "      <td>2013-01-01 00:06:00</td>\n",
       "    </tr>\n",
       "    <tr>\n",
       "      <th>2013-01-02</th>\n",
       "      <td>2013-01-02</td>\n",
       "      <td>2013-01-02 00:49:00</td>\n",
       "    </tr>\n",
       "    <tr>\n",
       "      <th>2013-01-03</th>\n",
       "      <td>2013-01-03</td>\n",
       "      <td>2013-01-03 00:08:00</td>\n",
       "    </tr>\n",
       "    <tr>\n",
       "      <th>2013-01-04</th>\n",
       "      <td>2013-01-04</td>\n",
       "      <td>2013-01-04 00:03:00</td>\n",
       "    </tr>\n",
       "    <tr>\n",
       "      <th>2013-01-05</th>\n",
       "      <td>2013-01-05</td>\n",
       "      <td>2013-01-05 00:11:00</td>\n",
       "    </tr>\n",
       "  </tbody>\n",
       "</table>\n",
       "</div>"
      ],
      "text/plain": [
       "             arr_date    first_EDatt_time\n",
       "2013-01-01 2013-01-01 2013-01-01 00:06:00\n",
       "2013-01-02 2013-01-02 2013-01-02 00:49:00\n",
       "2013-01-03 2013-01-03 2013-01-03 00:08:00\n",
       "2013-01-04 2013-01-04 2013-01-04 00:03:00\n",
       "2013-01-05 2013-01-05 2013-01-05 00:11:00"
      ]
     },
     "execution_count": 19,
     "metadata": {},
     "output_type": "execute_result"
    }
   ],
   "source": [
    "es['days'].df.head()"
   ]
  },
  {
   "cell_type": "markdown",
   "metadata": {},
   "source": [
    "### make date es"
   ]
  },
  {
   "cell_type": "markdown",
   "metadata": {},
   "source": [
    "start = ED.arrival.min()\n",
    "end = ED.arrival.max()\n",
    "days = pd.DataFrame(pd.DatetimeIndex(freq='d',start=start,end=end),columns=['arr_date'])"
   ]
  },
  {
   "cell_type": "markdown",
   "metadata": {},
   "source": [
    "# feature gen"
   ]
  },
  {
   "cell_type": "code",
   "execution_count": 20,
   "metadata": {},
   "outputs": [
    {
     "data": {
      "text/plain": [
       "Entityset: activity\n",
       "  Entities:\n",
       "    EDatt [Rows: 571244, Columns: 11]\n",
       "    days [Rows: 2099, Columns: 2]\n",
       "  Relationships:\n",
       "    EDatt.arr_date -> days.arr_date"
      ]
     },
     "execution_count": 20,
     "metadata": {},
     "output_type": "execute_result"
    }
   ],
   "source": [
    "es"
   ]
  },
  {
   "cell_type": "markdown",
   "metadata": {},
   "source": [
    "fm, features = ft.dfs(entityset=es,\n",
    "                       target_entity='EDatt',\n",
    "                     trans_primitives=['day'])"
   ]
  },
  {
   "cell_type": "markdown",
   "metadata": {},
   "source": [
    "ft.list_primitives().head(10)"
   ]
  },
  {
   "cell_type": "markdown",
   "metadata": {},
   "source": [
    "ft.list_primitives().query('type == \"transform\"')"
   ]
  },
  {
   "cell_type": "markdown",
   "metadata": {},
   "source": [
    "fm, features = ft.dfs(entityset=es,\n",
    "                       target_entity='days',\n",
    "                     trans_primitives=['day','month'],\n",
    "                     agg_primitives=['count','mean','num_true'])"
   ]
  },
  {
   "cell_type": "code",
   "execution_count": 21,
   "metadata": {},
   "outputs": [
    {
     "data": {
      "text/html": [
       "<div>\n",
       "<style scoped>\n",
       "    .dataframe tbody tr th:only-of-type {\n",
       "        vertical-align: middle;\n",
       "    }\n",
       "\n",
       "    .dataframe tbody tr th {\n",
       "        vertical-align: top;\n",
       "    }\n",
       "\n",
       "    .dataframe thead th {\n",
       "        text-align: right;\n",
       "    }\n",
       "</style>\n",
       "<table border=\"1\" class=\"dataframe\">\n",
       "  <thead>\n",
       "    <tr style=\"text-align: right;\">\n",
       "      <th></th>\n",
       "      <th>DAY(first_EDatt_time)</th>\n",
       "      <th>MONTH(first_EDatt_time)</th>\n",
       "      <th>YEAR(first_EDatt_time)</th>\n",
       "      <th>WEEKEND(first_EDatt_time)</th>\n",
       "    </tr>\n",
       "    <tr>\n",
       "      <th>arr_date</th>\n",
       "      <th></th>\n",
       "      <th></th>\n",
       "      <th></th>\n",
       "      <th></th>\n",
       "    </tr>\n",
       "  </thead>\n",
       "  <tbody>\n",
       "    <tr>\n",
       "      <th>2013-01-01</th>\n",
       "      <td>1</td>\n",
       "      <td>1</td>\n",
       "      <td>2013</td>\n",
       "      <td>False</td>\n",
       "    </tr>\n",
       "    <tr>\n",
       "      <th>2013-01-02</th>\n",
       "      <td>2</td>\n",
       "      <td>1</td>\n",
       "      <td>2013</td>\n",
       "      <td>False</td>\n",
       "    </tr>\n",
       "    <tr>\n",
       "      <th>2013-01-03</th>\n",
       "      <td>3</td>\n",
       "      <td>1</td>\n",
       "      <td>2013</td>\n",
       "      <td>False</td>\n",
       "    </tr>\n",
       "  </tbody>\n",
       "</table>\n",
       "</div>"
      ],
      "text/plain": [
       "            DAY(first_EDatt_time)  MONTH(first_EDatt_time)  \\\n",
       "arr_date                                                     \n",
       "2013-01-01                      1                        1   \n",
       "2013-01-02                      2                        1   \n",
       "2013-01-03                      3                        1   \n",
       "\n",
       "            YEAR(first_EDatt_time)  WEEKEND(first_EDatt_time)  \n",
       "arr_date                                                       \n",
       "2013-01-01                    2013                      False  \n",
       "2013-01-02                    2013                      False  \n",
       "2013-01-03                    2013                      False  "
      ]
     },
     "execution_count": 21,
     "metadata": {},
     "output_type": "execute_result"
    }
   ],
   "source": [
    "fm, features = ft.dfs(entityset=es,\n",
    "                       target_entity='days',\n",
    "                     trans_primitives=['day','month','year','weekend'],\n",
    "                     agg_primitives=[],\n",
    "                     )\n",
    "#                      agg_primitives=['count','mean','num_true'])\n",
    "fm.head(3)"
   ]
  },
  {
   "cell_type": "code",
   "execution_count": 22,
   "metadata": {},
   "outputs": [],
   "source": [
    "def save_es_as_pickle(fm, features, name):\n",
    "    \" Take fm df and rename columns. Save as pickle.\"\n",
    "    for col in fm.columns:\n",
    "        fm.rename(columns={col:name + '_' + col},inplace=True)\n",
    "    \n",
    "    fm.to_pickle('./../../../3_Data/EDclassification/processed/' + name + '.pkl')"
   ]
  },
  {
   "cell_type": "code",
   "execution_count": 23,
   "metadata": {},
   "outputs": [],
   "source": [
    "save_es_as_pickle(fm, features, 'callender')"
   ]
  },
  {
   "cell_type": "code",
   "execution_count": 24,
   "metadata": {},
   "outputs": [
    {
     "data": {
      "text/html": [
       "<div>\n",
       "<style scoped>\n",
       "    .dataframe tbody tr th:only-of-type {\n",
       "        vertical-align: middle;\n",
       "    }\n",
       "\n",
       "    .dataframe tbody tr th {\n",
       "        vertical-align: top;\n",
       "    }\n",
       "\n",
       "    .dataframe thead th {\n",
       "        text-align: right;\n",
       "    }\n",
       "</style>\n",
       "<table border=\"1\" class=\"dataframe\">\n",
       "  <thead>\n",
       "    <tr style=\"text-align: right;\">\n",
       "      <th></th>\n",
       "      <th>time</th>\n",
       "      <th>arr_date</th>\n",
       "    </tr>\n",
       "  </thead>\n",
       "  <tbody>\n",
       "    <tr>\n",
       "      <th>0</th>\n",
       "      <td>2011-01-01 07:00:00</td>\n",
       "      <td>2011-01-01</td>\n",
       "    </tr>\n",
       "    <tr>\n",
       "      <th>1</th>\n",
       "      <td>2011-01-02 07:00:00</td>\n",
       "      <td>2011-01-02</td>\n",
       "    </tr>\n",
       "    <tr>\n",
       "      <th>2</th>\n",
       "      <td>2011-01-03 07:00:00</td>\n",
       "      <td>2011-01-03</td>\n",
       "    </tr>\n",
       "    <tr>\n",
       "      <th>3</th>\n",
       "      <td>2011-01-04 07:00:00</td>\n",
       "      <td>2011-01-04</td>\n",
       "    </tr>\n",
       "    <tr>\n",
       "      <th>4</th>\n",
       "      <td>2011-01-05 07:00:00</td>\n",
       "      <td>2011-01-05</td>\n",
       "    </tr>\n",
       "  </tbody>\n",
       "</table>\n",
       "</div>"
      ],
      "text/plain": [
       "                 time    arr_date\n",
       "0 2011-01-01 07:00:00  2011-01-01\n",
       "1 2011-01-02 07:00:00  2011-01-02\n",
       "2 2011-01-03 07:00:00  2011-01-03\n",
       "3 2011-01-04 07:00:00  2011-01-04\n",
       "4 2011-01-05 07:00:00  2011-01-05"
      ]
     },
     "execution_count": 24,
     "metadata": {},
     "output_type": "execute_result"
    }
   ],
   "source": [
    "start = pd.datetime(2011,1,1,7)\n",
    "end = ED.arrival.max()\n",
    "ct = pd.DataFrame(pd.DatetimeIndex(freq='d',start=start,end=end),columns=['time'])\n",
    "ct['arr_date'] = ct.time.apply(lambda x: x.date())\n",
    "ct.head()"
   ]
  },
  {
   "cell_type": "markdown",
   "metadata": {},
   "source": [
    "ft.list_primitives().query('type == \"aggregation\"')"
   ]
  },
  {
   "cell_type": "code",
   "execution_count": 25,
   "metadata": {},
   "outputs": [
    {
     "data": {
      "text/html": [
       "<div>\n",
       "<style scoped>\n",
       "    .dataframe tbody tr th:only-of-type {\n",
       "        vertical-align: middle;\n",
       "    }\n",
       "\n",
       "    .dataframe tbody tr th {\n",
       "        vertical-align: top;\n",
       "    }\n",
       "\n",
       "    .dataframe thead th {\n",
       "        text-align: right;\n",
       "    }\n",
       "</style>\n",
       "<table border=\"1\" class=\"dataframe\">\n",
       "  <thead>\n",
       "    <tr style=\"text-align: right;\">\n",
       "      <th></th>\n",
       "      <th>EDmorn_COUNT(EDatt)</th>\n",
       "      <th>EDmorn_MEAN(EDatt.wait_time_total)</th>\n",
       "      <th>EDmorn_MEAN(EDatt.flag_specreq)</th>\n",
       "      <th>EDmorn_MEAN(EDatt.age)</th>\n",
       "      <th>EDmorn_MEAN(EDatt.flag_admission)</th>\n",
       "      <th>EDmorn_STD(EDatt.wait_time_total)</th>\n",
       "      <th>EDmorn_STD(EDatt.flag_specreq)</th>\n",
       "      <th>EDmorn_STD(EDatt.age)</th>\n",
       "      <th>EDmorn_STD(EDatt.flag_admission)</th>\n",
       "      <th>EDmorn_SUM(EDatt.wait_time_total)</th>\n",
       "      <th>EDmorn_SUM(EDatt.flag_specreq)</th>\n",
       "      <th>EDmorn_SUM(EDatt.age)</th>\n",
       "      <th>EDmorn_SUM(EDatt.flag_admission)</th>\n",
       "    </tr>\n",
       "    <tr>\n",
       "      <th>arr_date</th>\n",
       "      <th></th>\n",
       "      <th></th>\n",
       "      <th></th>\n",
       "      <th></th>\n",
       "      <th></th>\n",
       "      <th></th>\n",
       "      <th></th>\n",
       "      <th></th>\n",
       "      <th></th>\n",
       "      <th></th>\n",
       "      <th></th>\n",
       "      <th></th>\n",
       "      <th></th>\n",
       "    </tr>\n",
       "  </thead>\n",
       "  <tbody>\n",
       "    <tr>\n",
       "      <th>2011-01-01</th>\n",
       "      <td>0</td>\n",
       "      <td>NaN</td>\n",
       "      <td>NaN</td>\n",
       "      <td>NaN</td>\n",
       "      <td>NaN</td>\n",
       "      <td>NaN</td>\n",
       "      <td>NaN</td>\n",
       "      <td>NaN</td>\n",
       "      <td>NaN</td>\n",
       "      <td>0.0</td>\n",
       "      <td>0.0</td>\n",
       "      <td>0.0</td>\n",
       "      <td>0.0</td>\n",
       "    </tr>\n",
       "    <tr>\n",
       "      <th>2011-01-02</th>\n",
       "      <td>0</td>\n",
       "      <td>NaN</td>\n",
       "      <td>NaN</td>\n",
       "      <td>NaN</td>\n",
       "      <td>NaN</td>\n",
       "      <td>NaN</td>\n",
       "      <td>NaN</td>\n",
       "      <td>NaN</td>\n",
       "      <td>NaN</td>\n",
       "      <td>0.0</td>\n",
       "      <td>0.0</td>\n",
       "      <td>0.0</td>\n",
       "      <td>0.0</td>\n",
       "    </tr>\n",
       "    <tr>\n",
       "      <th>2011-01-03</th>\n",
       "      <td>0</td>\n",
       "      <td>NaN</td>\n",
       "      <td>NaN</td>\n",
       "      <td>NaN</td>\n",
       "      <td>NaN</td>\n",
       "      <td>NaN</td>\n",
       "      <td>NaN</td>\n",
       "      <td>NaN</td>\n",
       "      <td>NaN</td>\n",
       "      <td>0.0</td>\n",
       "      <td>0.0</td>\n",
       "      <td>0.0</td>\n",
       "      <td>0.0</td>\n",
       "    </tr>\n",
       "  </tbody>\n",
       "</table>\n",
       "</div>"
      ],
      "text/plain": [
       "            EDmorn_COUNT(EDatt)  EDmorn_MEAN(EDatt.wait_time_total)  \\\n",
       "arr_date                                                              \n",
       "2011-01-01                    0                                 NaN   \n",
       "2011-01-02                    0                                 NaN   \n",
       "2011-01-03                    0                                 NaN   \n",
       "\n",
       "            EDmorn_MEAN(EDatt.flag_specreq)  EDmorn_MEAN(EDatt.age)  \\\n",
       "arr_date                                                              \n",
       "2011-01-01                              NaN                     NaN   \n",
       "2011-01-02                              NaN                     NaN   \n",
       "2011-01-03                              NaN                     NaN   \n",
       "\n",
       "            EDmorn_MEAN(EDatt.flag_admission)  \\\n",
       "arr_date                                        \n",
       "2011-01-01                                NaN   \n",
       "2011-01-02                                NaN   \n",
       "2011-01-03                                NaN   \n",
       "\n",
       "            EDmorn_STD(EDatt.wait_time_total)  EDmorn_STD(EDatt.flag_specreq)  \\\n",
       "arr_date                                                                        \n",
       "2011-01-01                                NaN                             NaN   \n",
       "2011-01-02                                NaN                             NaN   \n",
       "2011-01-03                                NaN                             NaN   \n",
       "\n",
       "            EDmorn_STD(EDatt.age)  EDmorn_STD(EDatt.flag_admission)  \\\n",
       "arr_date                                                              \n",
       "2011-01-01                    NaN                               NaN   \n",
       "2011-01-02                    NaN                               NaN   \n",
       "2011-01-03                    NaN                               NaN   \n",
       "\n",
       "            EDmorn_SUM(EDatt.wait_time_total)  EDmorn_SUM(EDatt.flag_specreq)  \\\n",
       "arr_date                                                                        \n",
       "2011-01-01                                0.0                             0.0   \n",
       "2011-01-02                                0.0                             0.0   \n",
       "2011-01-03                                0.0                             0.0   \n",
       "\n",
       "            EDmorn_SUM(EDatt.age)  EDmorn_SUM(EDatt.flag_admission)  \n",
       "arr_date                                                             \n",
       "2011-01-01                    0.0                               0.0  \n",
       "2011-01-02                    0.0                               0.0  \n",
       "2011-01-03                    0.0                               0.0  "
      ]
     },
     "execution_count": 25,
     "metadata": {},
     "output_type": "execute_result"
    }
   ],
   "source": [
    "fm, features = ft.dfs(entityset=es,\n",
    "                       target_entity='days',\n",
    "                     trans_primitives=[],\n",
    "                     agg_primitives=['count','mean','std','num_true','sum'],\n",
    "                     cutoff_time=ct)\n",
    "\n",
    "save_es_as_pickle(fm, features, 'EDmorn')\n",
    "\n",
    "fm.head(3)"
   ]
  },
  {
   "cell_type": "code",
   "execution_count": null,
   "metadata": {},
   "outputs": [],
   "source": []
  },
  {
   "cell_type": "code",
   "execution_count": null,
   "metadata": {},
   "outputs": [],
   "source": []
  },
  {
   "cell_type": "code",
   "execution_count": null,
   "metadata": {},
   "outputs": [],
   "source": []
  },
  {
   "cell_type": "code",
   "execution_count": null,
   "metadata": {},
   "outputs": [],
   "source": []
  },
  {
   "cell_type": "code",
   "execution_count": 70,
   "metadata": {},
   "outputs": [
    {
     "data": {
      "text/html": [
       "<div>\n",
       "<style scoped>\n",
       "    .dataframe tbody tr th:only-of-type {\n",
       "        vertical-align: middle;\n",
       "    }\n",
       "\n",
       "    .dataframe tbody tr th {\n",
       "        vertical-align: top;\n",
       "    }\n",
       "\n",
       "    .dataframe thead th {\n",
       "        text-align: right;\n",
       "    }\n",
       "</style>\n",
       "<table border=\"1\" class=\"dataframe\">\n",
       "  <thead>\n",
       "    <tr style=\"text-align: right;\">\n",
       "      <th></th>\n",
       "      <th>COUNT(EDatt)</th>\n",
       "      <th>MEAN(EDatt.wait_time_total)</th>\n",
       "      <th>MEAN(EDatt.flag_specreq)</th>\n",
       "      <th>MEAN(EDatt.age)</th>\n",
       "      <th>MEAN(EDatt.flag_admission)</th>\n",
       "      <th>STD(EDatt.wait_time_total)</th>\n",
       "      <th>STD(EDatt.flag_specreq)</th>\n",
       "      <th>STD(EDatt.age)</th>\n",
       "      <th>STD(EDatt.flag_admission)</th>\n",
       "      <th>SUM(EDatt.wait_time_total)</th>\n",
       "      <th>SUM(EDatt.flag_specreq)</th>\n",
       "      <th>SUM(EDatt.age)</th>\n",
       "      <th>SUM(EDatt.flag_admission)</th>\n",
       "    </tr>\n",
       "    <tr>\n",
       "      <th>arr_date</th>\n",
       "      <th></th>\n",
       "      <th></th>\n",
       "      <th></th>\n",
       "      <th></th>\n",
       "      <th></th>\n",
       "      <th></th>\n",
       "      <th></th>\n",
       "      <th></th>\n",
       "      <th></th>\n",
       "      <th></th>\n",
       "      <th></th>\n",
       "      <th></th>\n",
       "      <th></th>\n",
       "    </tr>\n",
       "  </thead>\n",
       "  <tbody>\n",
       "    <tr>\n",
       "      <th>2013-01-01</th>\n",
       "      <td>312</td>\n",
       "      <td>209.041667</td>\n",
       "      <td>0.737179</td>\n",
       "      <td>39.262821</td>\n",
       "      <td>0.375000</td>\n",
       "      <td>230.640702</td>\n",
       "      <td>0.440873</td>\n",
       "      <td>26.373184</td>\n",
       "      <td>0.484901</td>\n",
       "      <td>65221.0</td>\n",
       "      <td>230.0</td>\n",
       "      <td>12250.0</td>\n",
       "      <td>117.0</td>\n",
       "    </tr>\n",
       "    <tr>\n",
       "      <th>2013-01-02</th>\n",
       "      <td>257</td>\n",
       "      <td>260.194553</td>\n",
       "      <td>0.677043</td>\n",
       "      <td>41.264591</td>\n",
       "      <td>0.385214</td>\n",
       "      <td>227.621004</td>\n",
       "      <td>0.468519</td>\n",
       "      <td>26.953520</td>\n",
       "      <td>0.487595</td>\n",
       "      <td>66870.0</td>\n",
       "      <td>174.0</td>\n",
       "      <td>10605.0</td>\n",
       "      <td>99.0</td>\n",
       "    </tr>\n",
       "    <tr>\n",
       "      <th>2013-01-03</th>\n",
       "      <td>238</td>\n",
       "      <td>282.924370</td>\n",
       "      <td>0.693277</td>\n",
       "      <td>41.819328</td>\n",
       "      <td>0.436975</td>\n",
       "      <td>257.883045</td>\n",
       "      <td>0.462105</td>\n",
       "      <td>27.278779</td>\n",
       "      <td>0.497057</td>\n",
       "      <td>67336.0</td>\n",
       "      <td>165.0</td>\n",
       "      <td>9953.0</td>\n",
       "      <td>104.0</td>\n",
       "    </tr>\n",
       "  </tbody>\n",
       "</table>\n",
       "</div>"
      ],
      "text/plain": [
       "            COUNT(EDatt)  MEAN(EDatt.wait_time_total)  \\\n",
       "arr_date                                                \n",
       "2013-01-01           312                   209.041667   \n",
       "2013-01-02           257                   260.194553   \n",
       "2013-01-03           238                   282.924370   \n",
       "\n",
       "            MEAN(EDatt.flag_specreq)  MEAN(EDatt.age)  \\\n",
       "arr_date                                                \n",
       "2013-01-01                  0.737179        39.262821   \n",
       "2013-01-02                  0.677043        41.264591   \n",
       "2013-01-03                  0.693277        41.819328   \n",
       "\n",
       "            MEAN(EDatt.flag_admission)  STD(EDatt.wait_time_total)  \\\n",
       "arr_date                                                             \n",
       "2013-01-01                    0.375000                  230.640702   \n",
       "2013-01-02                    0.385214                  227.621004   \n",
       "2013-01-03                    0.436975                  257.883045   \n",
       "\n",
       "            STD(EDatt.flag_specreq)  STD(EDatt.age)  \\\n",
       "arr_date                                              \n",
       "2013-01-01                 0.440873       26.373184   \n",
       "2013-01-02                 0.468519       26.953520   \n",
       "2013-01-03                 0.462105       27.278779   \n",
       "\n",
       "            STD(EDatt.flag_admission)  SUM(EDatt.wait_time_total)  \\\n",
       "arr_date                                                            \n",
       "2013-01-01                   0.484901                     65221.0   \n",
       "2013-01-02                   0.487595                     66870.0   \n",
       "2013-01-03                   0.497057                     67336.0   \n",
       "\n",
       "            SUM(EDatt.flag_specreq)  SUM(EDatt.age)  SUM(EDatt.flag_admission)  \n",
       "arr_date                                                                        \n",
       "2013-01-01                    230.0         12250.0                      117.0  \n",
       "2013-01-02                    174.0         10605.0                       99.0  \n",
       "2013-01-03                    165.0          9953.0                      104.0  "
      ]
     },
     "execution_count": 70,
     "metadata": {},
     "output_type": "execute_result"
    }
   ],
   "source": [
    "fm, features = ft.dfs(entityset=es,\n",
    "                       target_entity='days',\n",
    "                     trans_primitives=[],\n",
    "                     agg_primitives=['count','mean','std','num_true','sum'],\n",
    "#                      cutoff_time=ct,\n",
    "                     )\n",
    "\n",
    "fm.head(3)"
   ]
  },
  {
   "cell_type": "code",
   "execution_count": null,
   "metadata": {},
   "outputs": [],
   "source": []
  },
  {
   "cell_type": "code",
   "execution_count": 71,
   "metadata": {},
   "outputs": [],
   "source": [
    "fm.index = fm.index.shift(1,'d')"
   ]
  },
  {
   "cell_type": "code",
   "execution_count": 72,
   "metadata": {},
   "outputs": [],
   "source": [
    "save_es_as_pickle(fm, features, 'EDprevday')"
   ]
  },
  {
   "cell_type": "code",
   "execution_count": null,
   "metadata": {},
   "outputs": [],
   "source": []
  },
  {
   "cell_type": "code",
   "execution_count": 73,
   "metadata": {},
   "outputs": [
    {
     "ename": "SyntaxError",
     "evalue": "'break' outside loop (<ipython-input-73-6aaf1f276005>, line 1)",
     "output_type": "error",
     "traceback": [
      "\u001b[1;36m  File \u001b[1;32m\"<ipython-input-73-6aaf1f276005>\"\u001b[1;36m, line \u001b[1;32m1\u001b[0m\n\u001b[1;33m    break\u001b[0m\n\u001b[1;37m         ^\u001b[0m\n\u001b[1;31mSyntaxError\u001b[0m\u001b[1;31m:\u001b[0m 'break' outside loop\n"
     ]
    }
   ],
   "source": [
    "break"
   ]
  },
  {
   "cell_type": "code",
   "execution_count": null,
   "metadata": {},
   "outputs": [],
   "source": []
  },
  {
   "cell_type": "code",
   "execution_count": 57,
   "metadata": {},
   "outputs": [
    {
     "data": {
      "text/html": [
       "<div>\n",
       "<style scoped>\n",
       "    .dataframe tbody tr th:only-of-type {\n",
       "        vertical-align: middle;\n",
       "    }\n",
       "\n",
       "    .dataframe tbody tr th {\n",
       "        vertical-align: top;\n",
       "    }\n",
       "\n",
       "    .dataframe thead th {\n",
       "        text-align: right;\n",
       "    }\n",
       "</style>\n",
       "<table border=\"1\" class=\"dataframe\">\n",
       "  <thead>\n",
       "    <tr style=\"text-align: right;\">\n",
       "      <th></th>\n",
       "      <th>COUNT(EDatt)</th>\n",
       "      <th>MEAN(EDatt.wait_time_total)</th>\n",
       "      <th>MEAN(EDatt.age)</th>\n",
       "      <th>STD(EDatt.wait_time_total)</th>\n",
       "      <th>STD(EDatt.age)</th>\n",
       "      <th>SUM(EDatt.wait_time_total)</th>\n",
       "      <th>SUM(EDatt.age)</th>\n",
       "      <th>DAY(first_EDatt_time)</th>\n",
       "      <th>MONTH(first_EDatt_time)</th>\n",
       "    </tr>\n",
       "    <tr>\n",
       "      <th>arr_date</th>\n",
       "      <th></th>\n",
       "      <th></th>\n",
       "      <th></th>\n",
       "      <th></th>\n",
       "      <th></th>\n",
       "      <th></th>\n",
       "      <th></th>\n",
       "      <th></th>\n",
       "      <th></th>\n",
       "    </tr>\n",
       "  </thead>\n",
       "  <tbody>\n",
       "    <tr>\n",
       "      <th>2018-09-01</th>\n",
       "      <td>50</td>\n",
       "      <td>147.842105</td>\n",
       "      <td>43.100000</td>\n",
       "      <td>91.707423</td>\n",
       "      <td>25.160100</td>\n",
       "      <td>2809.0</td>\n",
       "      <td>2155.0</td>\n",
       "      <td>1</td>\n",
       "      <td>9</td>\n",
       "    </tr>\n",
       "    <tr>\n",
       "      <th>2018-09-02</th>\n",
       "      <td>47</td>\n",
       "      <td>161.533333</td>\n",
       "      <td>46.212766</td>\n",
       "      <td>85.856913</td>\n",
       "      <td>25.208639</td>\n",
       "      <td>2423.0</td>\n",
       "      <td>2172.0</td>\n",
       "      <td>2</td>\n",
       "      <td>9</td>\n",
       "    </tr>\n",
       "    <tr>\n",
       "      <th>2018-09-03</th>\n",
       "      <td>37</td>\n",
       "      <td>200.133333</td>\n",
       "      <td>51.945946</td>\n",
       "      <td>88.566252</td>\n",
       "      <td>31.102828</td>\n",
       "      <td>3002.0</td>\n",
       "      <td>1922.0</td>\n",
       "      <td>3</td>\n",
       "      <td>9</td>\n",
       "    </tr>\n",
       "  </tbody>\n",
       "</table>\n",
       "</div>"
      ],
      "text/plain": [
       "            COUNT(EDatt)  MEAN(EDatt.wait_time_total)  MEAN(EDatt.age)  \\\n",
       "arr_date                                                                 \n",
       "2018-09-01            50                   147.842105        43.100000   \n",
       "2018-09-02            47                   161.533333        46.212766   \n",
       "2018-09-03            37                   200.133333        51.945946   \n",
       "\n",
       "            STD(EDatt.wait_time_total)  STD(EDatt.age)  \\\n",
       "arr_date                                                 \n",
       "2018-09-01                   91.707423       25.160100   \n",
       "2018-09-02                   85.856913       25.208639   \n",
       "2018-09-03                   88.566252       31.102828   \n",
       "\n",
       "            SUM(EDatt.wait_time_total)  SUM(EDatt.age)  DAY(first_EDatt_time)  \\\n",
       "arr_date                                                                        \n",
       "2018-09-01                      2809.0          2155.0                      1   \n",
       "2018-09-02                      2423.0          2172.0                      2   \n",
       "2018-09-03                      3002.0          1922.0                      3   \n",
       "\n",
       "            MONTH(first_EDatt_time)  \n",
       "arr_date                             \n",
       "2018-09-01                        9  \n",
       "2018-09-02                        9  \n",
       "2018-09-03                        9  "
      ]
     },
     "execution_count": 57,
     "metadata": {},
     "output_type": "execute_result"
    }
   ],
   "source": [
    "fm.head(3)"
   ]
  },
  {
   "cell_type": "code",
   "execution_count": 57,
   "metadata": {},
   "outputs": [
    {
     "data": {
      "text/html": [
       "<div>\n",
       "<style scoped>\n",
       "    .dataframe tbody tr th:only-of-type {\n",
       "        vertical-align: middle;\n",
       "    }\n",
       "\n",
       "    .dataframe tbody tr th {\n",
       "        vertical-align: top;\n",
       "    }\n",
       "\n",
       "    .dataframe thead th {\n",
       "        text-align: right;\n",
       "    }\n",
       "</style>\n",
       "<table border=\"1\" class=\"dataframe\">\n",
       "  <thead>\n",
       "    <tr style=\"text-align: right;\">\n",
       "      <th></th>\n",
       "      <th>COUNT(EDatt)</th>\n",
       "      <th>MEAN(EDatt.wait_time_total)</th>\n",
       "      <th>MEAN(EDatt.age)</th>\n",
       "      <th>STD(EDatt.wait_time_total)</th>\n",
       "      <th>STD(EDatt.age)</th>\n",
       "      <th>SUM(EDatt.wait_time_total)</th>\n",
       "      <th>SUM(EDatt.age)</th>\n",
       "      <th>DAY(first_EDatt_time)</th>\n",
       "      <th>MONTH(first_EDatt_time)</th>\n",
       "    </tr>\n",
       "    <tr>\n",
       "      <th>arr_date</th>\n",
       "      <th></th>\n",
       "      <th></th>\n",
       "      <th></th>\n",
       "      <th></th>\n",
       "      <th></th>\n",
       "      <th></th>\n",
       "      <th></th>\n",
       "      <th></th>\n",
       "      <th></th>\n",
       "    </tr>\n",
       "  </thead>\n",
       "  <tbody>\n",
       "    <tr>\n",
       "      <th>2018-09-01</th>\n",
       "      <td>50</td>\n",
       "      <td>147.842105</td>\n",
       "      <td>43.100000</td>\n",
       "      <td>91.707423</td>\n",
       "      <td>25.160100</td>\n",
       "      <td>2809.0</td>\n",
       "      <td>2155.0</td>\n",
       "      <td>1</td>\n",
       "      <td>9</td>\n",
       "    </tr>\n",
       "    <tr>\n",
       "      <th>2018-09-02</th>\n",
       "      <td>47</td>\n",
       "      <td>161.533333</td>\n",
       "      <td>46.212766</td>\n",
       "      <td>85.856913</td>\n",
       "      <td>25.208639</td>\n",
       "      <td>2423.0</td>\n",
       "      <td>2172.0</td>\n",
       "      <td>2</td>\n",
       "      <td>9</td>\n",
       "    </tr>\n",
       "    <tr>\n",
       "      <th>2018-09-03</th>\n",
       "      <td>37</td>\n",
       "      <td>200.133333</td>\n",
       "      <td>51.945946</td>\n",
       "      <td>88.566252</td>\n",
       "      <td>31.102828</td>\n",
       "      <td>3002.0</td>\n",
       "      <td>1922.0</td>\n",
       "      <td>3</td>\n",
       "      <td>9</td>\n",
       "    </tr>\n",
       "  </tbody>\n",
       "</table>\n",
       "</div>"
      ],
      "text/plain": [
       "            COUNT(EDatt)  MEAN(EDatt.wait_time_total)  MEAN(EDatt.age)  \\\n",
       "arr_date                                                                 \n",
       "2018-09-01            50                   147.842105        43.100000   \n",
       "2018-09-02            47                   161.533333        46.212766   \n",
       "2018-09-03            37                   200.133333        51.945946   \n",
       "\n",
       "            STD(EDatt.wait_time_total)  STD(EDatt.age)  \\\n",
       "arr_date                                                 \n",
       "2018-09-01                   91.707423       25.160100   \n",
       "2018-09-02                   85.856913       25.208639   \n",
       "2018-09-03                   88.566252       31.102828   \n",
       "\n",
       "            SUM(EDatt.wait_time_total)  SUM(EDatt.age)  DAY(first_EDatt_time)  \\\n",
       "arr_date                                                                        \n",
       "2018-09-01                      2809.0          2155.0                      1   \n",
       "2018-09-02                      2423.0          2172.0                      2   \n",
       "2018-09-03                      3002.0          1922.0                      3   \n",
       "\n",
       "            MONTH(first_EDatt_time)  \n",
       "arr_date                             \n",
       "2018-09-01                        9  \n",
       "2018-09-02                        9  \n",
       "2018-09-03                        9  "
      ]
     },
     "execution_count": 57,
     "metadata": {},
     "output_type": "execute_result"
    }
   ],
   "source": [
    "fm.head(3)"
   ]
  },
  {
   "cell_type": "code",
   "execution_count": null,
   "metadata": {},
   "outputs": [],
   "source": []
  },
  {
   "cell_type": "code",
   "execution_count": 67,
   "metadata": {},
   "outputs": [
    {
     "data": {
      "text/html": [
       "<div>\n",
       "<style scoped>\n",
       "    .dataframe tbody tr th:only-of-type {\n",
       "        vertical-align: middle;\n",
       "    }\n",
       "\n",
       "    .dataframe tbody tr th {\n",
       "        vertical-align: top;\n",
       "    }\n",
       "\n",
       "    .dataframe thead th {\n",
       "        text-align: right;\n",
       "    }\n",
       "</style>\n",
       "<table border=\"1\" class=\"dataframe\">\n",
       "  <thead>\n",
       "    <tr style=\"text-align: right;\">\n",
       "      <th></th>\n",
       "      <th>arr_date</th>\n",
       "      <th>time</th>\n",
       "    </tr>\n",
       "  </thead>\n",
       "  <tbody>\n",
       "    <tr>\n",
       "      <th>0</th>\n",
       "      <td>2018-09-01</td>\n",
       "      <td>2018-09-01</td>\n",
       "    </tr>\n",
       "    <tr>\n",
       "      <th>1</th>\n",
       "      <td>2018-09-02</td>\n",
       "      <td>2018-09-02</td>\n",
       "    </tr>\n",
       "  </tbody>\n",
       "</table>\n",
       "</div>"
      ],
      "text/plain": [
       "     arr_date       time\n",
       "0  2018-09-01 2018-09-01\n",
       "1  2018-09-02 2018-09-02"
      ]
     },
     "execution_count": 67,
     "metadata": {},
     "output_type": "execute_result"
    }
   ],
   "source": [
    "ct2 = ct.copy()\n",
    "ct2.drop('time',axis=1,inplace=True)\n",
    "ct2['time'] = pd.to_datetime(ct['arr_date'])\n",
    "\n",
    "ct2.head(2)"
   ]
  },
  {
   "cell_type": "code",
   "execution_count": 69,
   "metadata": {},
   "outputs": [
    {
     "name": "stdout",
     "output_type": "stream",
     "text": [
      "2019-04-11 11:48:55,199 featuretools.entityset - WARNING    Using training_window but last_time_index is not set on entity days\n",
      "2019-04-11 11:48:55,215 featuretools.entityset - WARNING    Using training_window but last_time_index is not set on entity days\n",
      "2019-04-11 11:48:55,228 featuretools.entityset - WARNING    Using training_window but last_time_index is not set on entity days\n",
      "2019-04-11 11:48:55,245 featuretools.entityset - WARNING    Using training_window but last_time_index is not set on entity days\n",
      "2019-04-11 11:48:55,264 featuretools.entityset - WARNING    Using training_window but last_time_index is not set on entity days\n",
      "2019-04-11 11:48:55,284 featuretools.entityset - WARNING    Using training_window but last_time_index is not set on entity days\n",
      "2019-04-11 11:48:55,297 featuretools.entityset - WARNING    Using training_window but last_time_index is not set on entity days\n",
      "2019-04-11 11:48:55,314 featuretools.entityset - WARNING    Using training_window but last_time_index is not set on entity days\n",
      "2019-04-11 11:48:55,327 featuretools.entityset - WARNING    Using training_window but last_time_index is not set on entity days\n",
      "2019-04-11 11:48:55,347 featuretools.entityset - WARNING    Using training_window but last_time_index is not set on entity days\n",
      "2019-04-11 11:48:55,360 featuretools.entityset - WARNING    Using training_window but last_time_index is not set on entity EDatt\n",
      "2019-04-11 11:48:55,455 featuretools.entityset - WARNING    Using training_window but last_time_index is not set on entity days\n",
      "2019-04-11 11:48:55,469 featuretools.entityset - WARNING    Using training_window but last_time_index is not set on entity days\n",
      "2019-04-11 11:48:55,488 featuretools.entityset - WARNING    Using training_window but last_time_index is not set on entity days\n",
      "2019-04-11 11:48:55,499 featuretools.entityset - WARNING    Using training_window but last_time_index is not set on entity EDatt\n",
      "2019-04-11 11:48:55,550 featuretools.entityset - WARNING    Using training_window but last_time_index is not set on entity days\n",
      "2019-04-11 11:48:55,565 featuretools.entityset - WARNING    Using training_window but last_time_index is not set on entity EDatt\n",
      "2019-04-11 11:48:55,614 featuretools.entityset - WARNING    Using training_window but last_time_index is not set on entity days\n",
      "2019-04-11 11:48:55,630 featuretools.entityset - WARNING    Using training_window but last_time_index is not set on entity days\n",
      "2019-04-11 11:48:55,640 featuretools.entityset - WARNING    Using training_window but last_time_index is not set on entity EDatt\n",
      "2019-04-11 11:48:55,690 featuretools.entityset - WARNING    Using training_window but last_time_index is not set on entity days\n",
      "2019-04-11 11:48:55,710 featuretools.entityset - WARNING    Using training_window but last_time_index is not set on entity days\n",
      "2019-04-11 11:48:55,725 featuretools.entityset - WARNING    Using training_window but last_time_index is not set on entity days\n",
      "2019-04-11 11:48:55,744 featuretools.entityset - WARNING    Using training_window but last_time_index is not set on entity days\n",
      "2019-04-11 11:48:55,812 featuretools.entityset - WARNING    Using training_window but last_time_index is not set on entity days\n",
      "2019-04-11 11:48:55,828 featuretools.entityset - WARNING    Using training_window but last_time_index is not set on entity days\n",
      "2019-04-11 11:48:55,844 featuretools.entityset - WARNING    Using training_window but last_time_index is not set on entity days\n",
      "2019-04-11 11:48:55,861 featuretools.entityset - WARNING    Using training_window but last_time_index is not set on entity days\n",
      "2019-04-11 11:48:55,880 featuretools.entityset - WARNING    Using training_window but last_time_index is not set on entity days\n",
      "2019-04-11 11:48:55,898 featuretools.entityset - WARNING    Using training_window but last_time_index is not set on entity days\n",
      "2019-04-11 11:48:55,914 featuretools.entityset - WARNING    Using training_window but last_time_index is not set on entity days\n",
      "2019-04-11 11:48:55,932 featuretools.entityset - WARNING    Using training_window but last_time_index is not set on entity days\n",
      "2019-04-11 11:48:55,946 featuretools.entityset - WARNING    Using training_window but last_time_index is not set on entity EDatt\n",
      "2019-04-11 11:48:55,988 featuretools.entityset - WARNING    Using training_window but last_time_index is not set on entity days\n",
      "2019-04-11 11:48:56,004 featuretools.entityset - WARNING    Using training_window but last_time_index is not set on entity days\n"
     ]
    },
    {
     "data": {
      "text/html": [
       "<div>\n",
       "<style scoped>\n",
       "    .dataframe tbody tr th:only-of-type {\n",
       "        vertical-align: middle;\n",
       "    }\n",
       "\n",
       "    .dataframe tbody tr th {\n",
       "        vertical-align: top;\n",
       "    }\n",
       "\n",
       "    .dataframe thead th {\n",
       "        text-align: right;\n",
       "    }\n",
       "</style>\n",
       "<table border=\"1\" class=\"dataframe\">\n",
       "  <thead>\n",
       "    <tr style=\"text-align: right;\">\n",
       "      <th></th>\n",
       "      <th>COUNT(EDatt)</th>\n",
       "      <th>MEAN(EDatt.wait_time_total)</th>\n",
       "      <th>MEAN(EDatt.age)</th>\n",
       "      <th>STD(EDatt.wait_time_total)</th>\n",
       "      <th>STD(EDatt.age)</th>\n",
       "      <th>SUM(EDatt.wait_time_total)</th>\n",
       "      <th>SUM(EDatt.age)</th>\n",
       "      <th>DAY(first_EDatt_time)</th>\n",
       "      <th>MONTH(first_EDatt_time)</th>\n",
       "    </tr>\n",
       "    <tr>\n",
       "      <th>arr_date</th>\n",
       "      <th></th>\n",
       "      <th></th>\n",
       "      <th></th>\n",
       "      <th></th>\n",
       "      <th></th>\n",
       "      <th></th>\n",
       "      <th></th>\n",
       "      <th></th>\n",
       "      <th></th>\n",
       "    </tr>\n",
       "  </thead>\n",
       "  <tbody>\n",
       "    <tr>\n",
       "      <th>2018-09-01</th>\n",
       "      <td>0</td>\n",
       "      <td>NaN</td>\n",
       "      <td>NaN</td>\n",
       "      <td>NaN</td>\n",
       "      <td>NaN</td>\n",
       "      <td>0.0</td>\n",
       "      <td>0.0</td>\n",
       "      <td>NaN</td>\n",
       "      <td>NaN</td>\n",
       "    </tr>\n",
       "    <tr>\n",
       "      <th>2018-09-02</th>\n",
       "      <td>0</td>\n",
       "      <td>NaN</td>\n",
       "      <td>NaN</td>\n",
       "      <td>NaN</td>\n",
       "      <td>NaN</td>\n",
       "      <td>0.0</td>\n",
       "      <td>0.0</td>\n",
       "      <td>NaN</td>\n",
       "      <td>NaN</td>\n",
       "    </tr>\n",
       "    <tr>\n",
       "      <th>2018-09-03</th>\n",
       "      <td>0</td>\n",
       "      <td>NaN</td>\n",
       "      <td>NaN</td>\n",
       "      <td>NaN</td>\n",
       "      <td>NaN</td>\n",
       "      <td>0.0</td>\n",
       "      <td>0.0</td>\n",
       "      <td>NaN</td>\n",
       "      <td>NaN</td>\n",
       "    </tr>\n",
       "  </tbody>\n",
       "</table>\n",
       "</div>"
      ],
      "text/plain": [
       "            COUNT(EDatt)  MEAN(EDatt.wait_time_total)  MEAN(EDatt.age)  \\\n",
       "arr_date                                                                 \n",
       "2018-09-01             0                          NaN              NaN   \n",
       "2018-09-02             0                          NaN              NaN   \n",
       "2018-09-03             0                          NaN              NaN   \n",
       "\n",
       "            STD(EDatt.wait_time_total)  STD(EDatt.age)  \\\n",
       "arr_date                                                 \n",
       "2018-09-01                         NaN             NaN   \n",
       "2018-09-02                         NaN             NaN   \n",
       "2018-09-03                         NaN             NaN   \n",
       "\n",
       "            SUM(EDatt.wait_time_total)  SUM(EDatt.age)  DAY(first_EDatt_time)  \\\n",
       "arr_date                                                                        \n",
       "2018-09-01                         0.0             0.0                    NaN   \n",
       "2018-09-02                         0.0             0.0                    NaN   \n",
       "2018-09-03                         0.0             0.0                    NaN   \n",
       "\n",
       "            MONTH(first_EDatt_time)  \n",
       "arr_date                             \n",
       "2018-09-01                      NaN  \n",
       "2018-09-02                      NaN  \n",
       "2018-09-03                      NaN  "
      ]
     },
     "execution_count": 69,
     "metadata": {},
     "output_type": "execute_result"
    }
   ],
   "source": [
    "fm, features = ft.dfs(entityset=es,\n",
    "                       target_entity='days',\n",
    "                     trans_primitives=['day','month'],\n",
    "                     agg_primitives=['count','mean','std','num_true','sum'],\n",
    "                     cutoff_time=ct2,\n",
    "                     training_window = '24h')\n",
    "\n",
    "fm.head(3)"
   ]
  },
  {
   "cell_type": "code",
   "execution_count": null,
   "metadata": {},
   "outputs": [],
   "source": []
  },
  {
   "cell_type": "code",
   "execution_count": null,
   "metadata": {},
   "outputs": [],
   "source": []
  },
  {
   "cell_type": "code",
   "execution_count": 58,
   "metadata": {},
   "outputs": [
    {
     "data": {
      "text/plain": [
       "{'time_leaving_dept_inc_cdu': ['wait_time_total', 'time_leaving_dept_inc_cdu']}"
      ]
     },
     "execution_count": 58,
     "metadata": {},
     "output_type": "execute_result"
    }
   ],
   "source": [
    "es['EDatt'].secondary_time_index"
   ]
  },
  {
   "cell_type": "markdown",
   "metadata": {},
   "source": [
    "fm, features = ft.dfs(entityset=es,\n",
    "                       target_entity='days')"
   ]
  },
  {
   "cell_type": "markdown",
   "metadata": {},
   "source": [
    "fm.head()"
   ]
  },
  {
   "cell_type": "markdown",
   "metadata": {},
   "source": [
    "Cutoff times on attendance ES"
   ]
  },
  {
   "cell_type": "markdown",
   "metadata": {},
   "source": [
    "es.add_last_time_indexes()"
   ]
  },
  {
   "cell_type": "code",
   "execution_count": 21,
   "metadata": {},
   "outputs": [
    {
     "data": {
      "text/html": [
       "<div>\n",
       "<style scoped>\n",
       "    .dataframe tbody tr th:only-of-type {\n",
       "        vertical-align: middle;\n",
       "    }\n",
       "\n",
       "    .dataframe tbody tr th {\n",
       "        vertical-align: top;\n",
       "    }\n",
       "\n",
       "    .dataframe thead th {\n",
       "        text-align: right;\n",
       "    }\n",
       "</style>\n",
       "<table border=\"1\" class=\"dataframe\">\n",
       "  <thead>\n",
       "    <tr style=\"text-align: right;\">\n",
       "      <th></th>\n",
       "      <th>pseudo_patient_number</th>\n",
       "      <th>attendance_number</th>\n",
       "      <th>age</th>\n",
       "      <th>gender</th>\n",
       "      <th>department</th>\n",
       "      <th>site_attended</th>\n",
       "      <th>arrival</th>\n",
       "      <th>arrival_mode</th>\n",
       "      <th>arrival_mode_desc</th>\n",
       "      <th>1st_time_triaged_[datetime]</th>\n",
       "      <th>...</th>\n",
       "      <th>time_leaving_dept_inc_cdu</th>\n",
       "      <th>admission_flag</th>\n",
       "      <th>majorsminorsresus_patient</th>\n",
       "      <th>triage_category</th>\n",
       "      <th>flag_admission</th>\n",
       "      <th>flag_bedreq</th>\n",
       "      <th>flag_specreq</th>\n",
       "      <th>flag_cdu</th>\n",
       "      <th>wait_time_total</th>\n",
       "      <th>arr_date</th>\n",
       "    </tr>\n",
       "  </thead>\n",
       "  <tbody>\n",
       "    <tr>\n",
       "      <th>1078924</th>\n",
       "      <td>400848001421</td>\n",
       "      <td>91807209801</td>\n",
       "      <td>52.0</td>\n",
       "      <td>M</td>\n",
       "      <td>Main ED</td>\n",
       "      <td>Main ED</td>\n",
       "      <td>2018-09-01 00:07:00</td>\n",
       "      <td>Patient arranged own transport / walk-in</td>\n",
       "      <td>OTHER</td>\n",
       "      <td>01-SEP-18 00:26</td>\n",
       "      <td>...</td>\n",
       "      <td>2018-09-01 00:43:00</td>\n",
       "      <td>N</td>\n",
       "      <td>NaN</td>\n",
       "      <td>URGENT</td>\n",
       "      <td>0</td>\n",
       "      <td>1</td>\n",
       "      <td>1</td>\n",
       "      <td>1</td>\n",
       "      <td>36.0</td>\n",
       "      <td>2018-09-01</td>\n",
       "    </tr>\n",
       "  </tbody>\n",
       "</table>\n",
       "<p>1 rows × 25 columns</p>\n",
       "</div>"
      ],
      "text/plain": [
       "        pseudo_patient_number  attendance_number   age gender department  \\\n",
       "1078924          400848001421        91807209801  52.0      M    Main ED   \n",
       "\n",
       "        site_attended             arrival  \\\n",
       "1078924       Main ED 2018-09-01 00:07:00   \n",
       "\n",
       "                                     arrival_mode arrival_mode_desc  \\\n",
       "1078924  Patient arranged own transport / walk-in             OTHER   \n",
       "\n",
       "        1st_time_triaged_[datetime]     ...     time_leaving_dept_inc_cdu  \\\n",
       "1078924             01-SEP-18 00:26     ...           2018-09-01 00:43:00   \n",
       "\n",
       "        admission_flag majorsminorsresus_patient triage_category  \\\n",
       "1078924              N                       NaN          URGENT   \n",
       "\n",
       "        flag_admission flag_bedreq flag_specreq flag_cdu wait_time_total  \\\n",
       "1078924              0           1            1        1            36.0   \n",
       "\n",
       "           arr_date  \n",
       "1078924  2018-09-01  \n",
       "\n",
       "[1 rows x 25 columns]"
      ]
     },
     "execution_count": 21,
     "metadata": {},
     "output_type": "execute_result"
    }
   ],
   "source": [
    "ED[ED.attendance_number == 91807209801]"
   ]
  },
  {
   "cell_type": "code",
   "execution_count": 22,
   "metadata": {},
   "outputs": [],
   "source": [
    "ct = pd.DataFrame()\n",
    "\n",
    "# ct['arr_date'] = [pd.datetime(2018,9,3,0,0)]\n",
    "ct['attendance_number'] = [91807209801]\n",
    "\n",
    "ct['time'] = pd.to_datetime(['2018-09-3 00:07'])"
   ]
  },
  {
   "cell_type": "code",
   "execution_count": 23,
   "metadata": {},
   "outputs": [
    {
     "data": {
      "text/plain": [
       "Entity: EDatt\n",
       "  Variables:\n",
       "    attendance_number (dtype: index)\n",
       "    time_leaving_dept_inc_cdu (dtype: datetime)\n",
       "    wait_time_total (dtype: numeric)\n",
       "    arrival (dtype: datetime_time_index)\n",
       "    arr_date (dtype: datetime)\n",
       "    pseudo_patient_number (dtype: id)\n",
       "    age (dtype: numeric)\n",
       "    gender (dtype: categorical)\n",
       "    admission_flag (dtype: categorical)\n",
       "    flag_bedreq (dtype: categorical)\n",
       "    flag_specreq (dtype: categorical)\n",
       "    flag_cdu (dtype: categorical)\n",
       "  Shape:\n",
       "    (Rows: 9025, Columns: 12)"
      ]
     },
     "execution_count": 23,
     "metadata": {},
     "output_type": "execute_result"
    }
   ],
   "source": [
    "es['EDatt']"
   ]
  },
  {
   "cell_type": "code",
   "execution_count": 32,
   "metadata": {},
   "outputs": [
    {
     "data": {
      "text/html": [
       "<div>\n",
       "<style scoped>\n",
       "    .dataframe tbody tr th:only-of-type {\n",
       "        vertical-align: middle;\n",
       "    }\n",
       "\n",
       "    .dataframe tbody tr th {\n",
       "        vertical-align: top;\n",
       "    }\n",
       "\n",
       "    .dataframe thead th {\n",
       "        text-align: right;\n",
       "    }\n",
       "</style>\n",
       "<table border=\"1\" class=\"dataframe\">\n",
       "  <thead>\n",
       "    <tr style=\"text-align: right;\">\n",
       "      <th></th>\n",
       "      <th>pseudo_patient_number</th>\n",
       "      <th>age</th>\n",
       "      <th>gender</th>\n",
       "      <th>flag_cdu</th>\n",
       "      <th>DAY(time_leaving_dept_inc_cdu)</th>\n",
       "      <th>DAY(arrival)</th>\n",
       "      <th>DAY(arr_date)</th>\n",
       "      <th>YEAR(time_leaving_dept_inc_cdu)</th>\n",
       "      <th>YEAR(arrival)</th>\n",
       "      <th>YEAR(arr_date)</th>\n",
       "      <th>MONTH(time_leaving_dept_inc_cdu)</th>\n",
       "      <th>MONTH(arrival)</th>\n",
       "      <th>MONTH(arr_date)</th>\n",
       "      <th>WEEKDAY(time_leaving_dept_inc_cdu)</th>\n",
       "      <th>WEEKDAY(arrival)</th>\n",
       "      <th>WEEKDAY(arr_date)</th>\n",
       "    </tr>\n",
       "    <tr>\n",
       "      <th>attendance_number</th>\n",
       "      <th></th>\n",
       "      <th></th>\n",
       "      <th></th>\n",
       "      <th></th>\n",
       "      <th></th>\n",
       "      <th></th>\n",
       "      <th></th>\n",
       "      <th></th>\n",
       "      <th></th>\n",
       "      <th></th>\n",
       "      <th></th>\n",
       "      <th></th>\n",
       "      <th></th>\n",
       "      <th></th>\n",
       "      <th></th>\n",
       "      <th></th>\n",
       "    </tr>\n",
       "  </thead>\n",
       "  <tbody>\n",
       "    <tr>\n",
       "      <th>91807184702</th>\n",
       "      <td>231525311101</td>\n",
       "      <td>30.0</td>\n",
       "      <td>F</td>\n",
       "      <td>0</td>\n",
       "      <td>5</td>\n",
       "      <td>5</td>\n",
       "      <td>5</td>\n",
       "      <td>2018</td>\n",
       "      <td>2018</td>\n",
       "      <td>2018</td>\n",
       "      <td>9</td>\n",
       "      <td>9</td>\n",
       "      <td>9</td>\n",
       "      <td>2</td>\n",
       "      <td>2</td>\n",
       "      <td>2</td>\n",
       "    </tr>\n",
       "    <tr>\n",
       "      <th>91807209801</th>\n",
       "      <td>400848001421</td>\n",
       "      <td>52.0</td>\n",
       "      <td>M</td>\n",
       "      <td>1</td>\n",
       "      <td>1</td>\n",
       "      <td>1</td>\n",
       "      <td>1</td>\n",
       "      <td>2018</td>\n",
       "      <td>2018</td>\n",
       "      <td>2018</td>\n",
       "      <td>9</td>\n",
       "      <td>9</td>\n",
       "      <td>9</td>\n",
       "      <td>5</td>\n",
       "      <td>5</td>\n",
       "      <td>5</td>\n",
       "    </tr>\n",
       "    <tr>\n",
       "      <th>91807209901</th>\n",
       "      <td>874787747747</td>\n",
       "      <td>41.0</td>\n",
       "      <td>M</td>\n",
       "      <td>1</td>\n",
       "      <td>1</td>\n",
       "      <td>1</td>\n",
       "      <td>1</td>\n",
       "      <td>2018</td>\n",
       "      <td>2018</td>\n",
       "      <td>2018</td>\n",
       "      <td>9</td>\n",
       "      <td>9</td>\n",
       "      <td>9</td>\n",
       "      <td>5</td>\n",
       "      <td>5</td>\n",
       "      <td>5</td>\n",
       "    </tr>\n",
       "    <tr>\n",
       "      <th>91807210001</th>\n",
       "      <td>644767444724</td>\n",
       "      <td>31.0</td>\n",
       "      <td>F</td>\n",
       "      <td>1</td>\n",
       "      <td>1</td>\n",
       "      <td>1</td>\n",
       "      <td>1</td>\n",
       "      <td>2018</td>\n",
       "      <td>2018</td>\n",
       "      <td>2018</td>\n",
       "      <td>9</td>\n",
       "      <td>9</td>\n",
       "      <td>9</td>\n",
       "      <td>5</td>\n",
       "      <td>5</td>\n",
       "      <td>5</td>\n",
       "    </tr>\n",
       "    <tr>\n",
       "      <th>91807210101</th>\n",
       "      <td>774474742172</td>\n",
       "      <td>70.0</td>\n",
       "      <td>M</td>\n",
       "      <td>1</td>\n",
       "      <td>1</td>\n",
       "      <td>1</td>\n",
       "      <td>1</td>\n",
       "      <td>2018</td>\n",
       "      <td>2018</td>\n",
       "      <td>2018</td>\n",
       "      <td>9</td>\n",
       "      <td>9</td>\n",
       "      <td>9</td>\n",
       "      <td>5</td>\n",
       "      <td>5</td>\n",
       "      <td>5</td>\n",
       "    </tr>\n",
       "  </tbody>\n",
       "</table>\n",
       "</div>"
      ],
      "text/plain": [
       "                  pseudo_patient_number   age gender  flag_cdu  \\\n",
       "attendance_number                                                \n",
       "91807184702                231525311101  30.0      F         0   \n",
       "91807209801                400848001421  52.0      M         1   \n",
       "91807209901                874787747747  41.0      M         1   \n",
       "91807210001                644767444724  31.0      F         1   \n",
       "91807210101                774474742172  70.0      M         1   \n",
       "\n",
       "                   DAY(time_leaving_dept_inc_cdu)  DAY(arrival)  \\\n",
       "attendance_number                                                 \n",
       "91807184702                                     5             5   \n",
       "91807209801                                     1             1   \n",
       "91807209901                                     1             1   \n",
       "91807210001                                     1             1   \n",
       "91807210101                                     1             1   \n",
       "\n",
       "                   DAY(arr_date)  YEAR(time_leaving_dept_inc_cdu)  \\\n",
       "attendance_number                                                   \n",
       "91807184702                    5                             2018   \n",
       "91807209801                    1                             2018   \n",
       "91807209901                    1                             2018   \n",
       "91807210001                    1                             2018   \n",
       "91807210101                    1                             2018   \n",
       "\n",
       "                   YEAR(arrival)  YEAR(arr_date)  \\\n",
       "attendance_number                                  \n",
       "91807184702                 2018            2018   \n",
       "91807209801                 2018            2018   \n",
       "91807209901                 2018            2018   \n",
       "91807210001                 2018            2018   \n",
       "91807210101                 2018            2018   \n",
       "\n",
       "                   MONTH(time_leaving_dept_inc_cdu)  MONTH(arrival)  \\\n",
       "attendance_number                                                     \n",
       "91807184702                                       9               9   \n",
       "91807209801                                       9               9   \n",
       "91807209901                                       9               9   \n",
       "91807210001                                       9               9   \n",
       "91807210101                                       9               9   \n",
       "\n",
       "                   MONTH(arr_date)  WEEKDAY(time_leaving_dept_inc_cdu)  \\\n",
       "attendance_number                                                        \n",
       "91807184702                      9                                   2   \n",
       "91807209801                      9                                   5   \n",
       "91807209901                      9                                   5   \n",
       "91807210001                      9                                   5   \n",
       "91807210101                      9                                   5   \n",
       "\n",
       "                   WEEKDAY(arrival)  WEEKDAY(arr_date)  \n",
       "attendance_number                                       \n",
       "91807184702                       2                  2  \n",
       "91807209801                       5                  5  \n",
       "91807209901                       5                  5  \n",
       "91807210001                       5                  5  \n",
       "91807210101                       5                  5  "
      ]
     },
     "execution_count": 32,
     "metadata": {},
     "output_type": "execute_result"
    }
   ],
   "source": [
    "fm, features = ft.dfs(entityset=es,\n",
    "                       target_entity='EDatt',\n",
    "#                        cutoff_time=ct,\n",
    "#                       cutoff_time_in_index=True, # just adds the cuttoff time to fm, if non given in ct df then its taken as now\n",
    "#                      training_window=\"48 hours\",\n",
    "                     )\n",
    " \n",
    "\n",
    "fm.head()"
   ]
  },
  {
   "cell_type": "code",
   "execution_count": 34,
   "metadata": {},
   "outputs": [
    {
     "data": {
      "text/html": [
       "<div>\n",
       "<style scoped>\n",
       "    .dataframe tbody tr th:only-of-type {\n",
       "        vertical-align: middle;\n",
       "    }\n",
       "\n",
       "    .dataframe tbody tr th {\n",
       "        vertical-align: top;\n",
       "    }\n",
       "\n",
       "    .dataframe thead th {\n",
       "        text-align: right;\n",
       "    }\n",
       "</style>\n",
       "<table border=\"1\" class=\"dataframe\">\n",
       "  <thead>\n",
       "    <tr style=\"text-align: right;\">\n",
       "      <th></th>\n",
       "      <th></th>\n",
       "      <th>pseudo_patient_number</th>\n",
       "      <th>age</th>\n",
       "      <th>gender</th>\n",
       "      <th>flag_cdu</th>\n",
       "      <th>DAY(time_leaving_dept_inc_cdu)</th>\n",
       "      <th>DAY(arrival)</th>\n",
       "      <th>DAY(arr_date)</th>\n",
       "      <th>YEAR(time_leaving_dept_inc_cdu)</th>\n",
       "      <th>YEAR(arrival)</th>\n",
       "      <th>YEAR(arr_date)</th>\n",
       "      <th>MONTH(time_leaving_dept_inc_cdu)</th>\n",
       "      <th>MONTH(arrival)</th>\n",
       "      <th>MONTH(arr_date)</th>\n",
       "      <th>WEEKDAY(time_leaving_dept_inc_cdu)</th>\n",
       "      <th>WEEKDAY(arrival)</th>\n",
       "      <th>WEEKDAY(arr_date)</th>\n",
       "    </tr>\n",
       "    <tr>\n",
       "      <th>attendance_number</th>\n",
       "      <th>time</th>\n",
       "      <th></th>\n",
       "      <th></th>\n",
       "      <th></th>\n",
       "      <th></th>\n",
       "      <th></th>\n",
       "      <th></th>\n",
       "      <th></th>\n",
       "      <th></th>\n",
       "      <th></th>\n",
       "      <th></th>\n",
       "      <th></th>\n",
       "      <th></th>\n",
       "      <th></th>\n",
       "      <th></th>\n",
       "      <th></th>\n",
       "      <th></th>\n",
       "    </tr>\n",
       "  </thead>\n",
       "  <tbody>\n",
       "    <tr>\n",
       "      <th>91807209801</th>\n",
       "      <th>2018-09-03 00:07:00</th>\n",
       "      <td>400848001421</td>\n",
       "      <td>52.0</td>\n",
       "      <td>M</td>\n",
       "      <td>1</td>\n",
       "      <td>1</td>\n",
       "      <td>1</td>\n",
       "      <td>1</td>\n",
       "      <td>2018</td>\n",
       "      <td>2018</td>\n",
       "      <td>2018</td>\n",
       "      <td>9</td>\n",
       "      <td>9</td>\n",
       "      <td>9</td>\n",
       "      <td>5</td>\n",
       "      <td>5</td>\n",
       "      <td>5</td>\n",
       "    </tr>\n",
       "  </tbody>\n",
       "</table>\n",
       "</div>"
      ],
      "text/plain": [
       "                                      pseudo_patient_number   age gender  \\\n",
       "attendance_number time                                                     \n",
       "91807209801       2018-09-03 00:07:00          400848001421  52.0      M   \n",
       "\n",
       "                                       flag_cdu  \\\n",
       "attendance_number time                            \n",
       "91807209801       2018-09-03 00:07:00         1   \n",
       "\n",
       "                                       DAY(time_leaving_dept_inc_cdu)  \\\n",
       "attendance_number time                                                  \n",
       "91807209801       2018-09-03 00:07:00                               1   \n",
       "\n",
       "                                       DAY(arrival)  DAY(arr_date)  \\\n",
       "attendance_number time                                               \n",
       "91807209801       2018-09-03 00:07:00             1              1   \n",
       "\n",
       "                                       YEAR(time_leaving_dept_inc_cdu)  \\\n",
       "attendance_number time                                                   \n",
       "91807209801       2018-09-03 00:07:00                             2018   \n",
       "\n",
       "                                       YEAR(arrival)  YEAR(arr_date)  \\\n",
       "attendance_number time                                                 \n",
       "91807209801       2018-09-03 00:07:00           2018            2018   \n",
       "\n",
       "                                       MONTH(time_leaving_dept_inc_cdu)  \\\n",
       "attendance_number time                                                    \n",
       "91807209801       2018-09-03 00:07:00                                 9   \n",
       "\n",
       "                                       MONTH(arrival)  MONTH(arr_date)  \\\n",
       "attendance_number time                                                   \n",
       "91807209801       2018-09-03 00:07:00               9                9   \n",
       "\n",
       "                                       WEEKDAY(time_leaving_dept_inc_cdu)  \\\n",
       "attendance_number time                                                      \n",
       "91807209801       2018-09-03 00:07:00                                   5   \n",
       "\n",
       "                                       WEEKDAY(arrival)  WEEKDAY(arr_date)  \n",
       "attendance_number time                                                      \n",
       "91807209801       2018-09-03 00:07:00                 5                  5  "
      ]
     },
     "execution_count": 34,
     "metadata": {},
     "output_type": "execute_result"
    }
   ],
   "source": [
    "fm, features = ft.dfs(entityset=es,\n",
    "                       target_entity='EDatt',\n",
    "                       cutoff_time=ct,\n",
    "                      cutoff_time_in_index=True, # just adds the cuttoff time to fm\n",
    "                     training_window=\"48 hours\",\n",
    "                     )\n",
    " \n",
    "\n",
    "fm"
   ]
  },
  {
   "cell_type": "code",
   "execution_count": null,
   "metadata": {},
   "outputs": [],
   "source": []
  },
  {
   "cell_type": "code",
   "execution_count": 132,
   "metadata": {},
   "outputs": [],
   "source": [
    "ct = pd.DataFrame()\n",
    "\n",
    "ct['arr_date'] = [pd.datetime(2018,9,3,0,0)]\n",
    "\n",
    "ct['time'] = pd.to_datetime(['2018-09-02 06:00'])"
   ]
  },
  {
   "cell_type": "code",
   "execution_count": 134,
   "metadata": {},
   "outputs": [
    {
     "data": {
      "text/html": [
       "<div>\n",
       "<style scoped>\n",
       "    .dataframe tbody tr th:only-of-type {\n",
       "        vertical-align: middle;\n",
       "    }\n",
       "\n",
       "    .dataframe tbody tr th {\n",
       "        vertical-align: top;\n",
       "    }\n",
       "\n",
       "    .dataframe thead th {\n",
       "        text-align: right;\n",
       "    }\n",
       "</style>\n",
       "<table border=\"1\" class=\"dataframe\">\n",
       "  <thead>\n",
       "    <tr style=\"text-align: right;\">\n",
       "      <th></th>\n",
       "      <th>arr_date</th>\n",
       "      <th>time</th>\n",
       "    </tr>\n",
       "  </thead>\n",
       "  <tbody>\n",
       "    <tr>\n",
       "      <th>0</th>\n",
       "      <td>2018-09-03</td>\n",
       "      <td>2018-09-02 06:00:00</td>\n",
       "    </tr>\n",
       "  </tbody>\n",
       "</table>\n",
       "</div>"
      ],
      "text/plain": [
       "    arr_date                time\n",
       "0 2018-09-03 2018-09-02 06:00:00"
      ]
     },
     "execution_count": 134,
     "metadata": {},
     "output_type": "execute_result"
    }
   ],
   "source": [
    "ct"
   ]
  },
  {
   "cell_type": "code",
   "execution_count": 131,
   "metadata": {},
   "outputs": [
    {
     "data": {
      "text/html": [
       "<div>\n",
       "<style scoped>\n",
       "    .dataframe tbody tr th:only-of-type {\n",
       "        vertical-align: middle;\n",
       "    }\n",
       "\n",
       "    .dataframe tbody tr th {\n",
       "        vertical-align: top;\n",
       "    }\n",
       "\n",
       "    .dataframe thead th {\n",
       "        text-align: right;\n",
       "    }\n",
       "</style>\n",
       "<table border=\"1\" class=\"dataframe\">\n",
       "  <thead>\n",
       "    <tr style=\"text-align: right;\">\n",
       "      <th></th>\n",
       "      <th></th>\n",
       "      <th>SUM(EDatt.wait_time_total)</th>\n",
       "      <th>SUM(EDatt.age)</th>\n",
       "      <th>STD(EDatt.wait_time_total)</th>\n",
       "      <th>STD(EDatt.age)</th>\n",
       "      <th>MAX(EDatt.wait_time_total)</th>\n",
       "      <th>MAX(EDatt.age)</th>\n",
       "      <th>SKEW(EDatt.wait_time_total)</th>\n",
       "      <th>SKEW(EDatt.age)</th>\n",
       "      <th>MIN(EDatt.wait_time_total)</th>\n",
       "      <th>MIN(EDatt.age)</th>\n",
       "      <th>...</th>\n",
       "      <th>NUM_UNIQUE(EDatt.WEEKDAY(time_leaving_dept_inc_cdu))</th>\n",
       "      <th>NUM_UNIQUE(EDatt.WEEKDAY(arrival))</th>\n",
       "      <th>MODE(EDatt.DAY(time_leaving_dept_inc_cdu))</th>\n",
       "      <th>MODE(EDatt.DAY(arrival))</th>\n",
       "      <th>MODE(EDatt.YEAR(time_leaving_dept_inc_cdu))</th>\n",
       "      <th>MODE(EDatt.YEAR(arrival))</th>\n",
       "      <th>MODE(EDatt.MONTH(time_leaving_dept_inc_cdu))</th>\n",
       "      <th>MODE(EDatt.MONTH(arrival))</th>\n",
       "      <th>MODE(EDatt.WEEKDAY(time_leaving_dept_inc_cdu))</th>\n",
       "      <th>MODE(EDatt.WEEKDAY(arrival))</th>\n",
       "    </tr>\n",
       "    <tr>\n",
       "      <th>arr_date</th>\n",
       "      <th>time</th>\n",
       "      <th></th>\n",
       "      <th></th>\n",
       "      <th></th>\n",
       "      <th></th>\n",
       "      <th></th>\n",
       "      <th></th>\n",
       "      <th></th>\n",
       "      <th></th>\n",
       "      <th></th>\n",
       "      <th></th>\n",
       "      <th></th>\n",
       "      <th></th>\n",
       "      <th></th>\n",
       "      <th></th>\n",
       "      <th></th>\n",
       "      <th></th>\n",
       "      <th></th>\n",
       "      <th></th>\n",
       "      <th></th>\n",
       "      <th></th>\n",
       "      <th></th>\n",
       "    </tr>\n",
       "  </thead>\n",
       "  <tbody>\n",
       "    <tr>\n",
       "      <th>2018-09-03</th>\n",
       "      <th>2018-09-02 06:00:00</th>\n",
       "      <td>0</td>\n",
       "      <td>0</td>\n",
       "      <td>NaN</td>\n",
       "      <td>NaN</td>\n",
       "      <td>NaN</td>\n",
       "      <td>NaN</td>\n",
       "      <td>NaN</td>\n",
       "      <td>NaN</td>\n",
       "      <td>NaN</td>\n",
       "      <td>NaN</td>\n",
       "      <td>...</td>\n",
       "      <td>NaN</td>\n",
       "      <td>NaN</td>\n",
       "      <td>NaN</td>\n",
       "      <td>NaN</td>\n",
       "      <td>NaN</td>\n",
       "      <td>NaN</td>\n",
       "      <td>NaN</td>\n",
       "      <td>NaN</td>\n",
       "      <td>NaN</td>\n",
       "      <td>NaN</td>\n",
       "    </tr>\n",
       "  </tbody>\n",
       "</table>\n",
       "<p>1 rows × 41 columns</p>\n",
       "</div>"
      ],
      "text/plain": [
       "                                SUM(EDatt.wait_time_total)  SUM(EDatt.age)  \\\n",
       "arr_date   time                                                              \n",
       "2018-09-03 2018-09-02 06:00:00                           0               0   \n",
       "\n",
       "                                STD(EDatt.wait_time_total)  STD(EDatt.age)  \\\n",
       "arr_date   time                                                              \n",
       "2018-09-03 2018-09-02 06:00:00                         NaN             NaN   \n",
       "\n",
       "                                MAX(EDatt.wait_time_total)  MAX(EDatt.age)  \\\n",
       "arr_date   time                                                              \n",
       "2018-09-03 2018-09-02 06:00:00                         NaN             NaN   \n",
       "\n",
       "                                SKEW(EDatt.wait_time_total)  SKEW(EDatt.age)  \\\n",
       "arr_date   time                                                                \n",
       "2018-09-03 2018-09-02 06:00:00                          NaN              NaN   \n",
       "\n",
       "                                MIN(EDatt.wait_time_total)  MIN(EDatt.age)  \\\n",
       "arr_date   time                                                              \n",
       "2018-09-03 2018-09-02 06:00:00                         NaN             NaN   \n",
       "\n",
       "                                            ...               \\\n",
       "arr_date   time                             ...                \n",
       "2018-09-03 2018-09-02 06:00:00              ...                \n",
       "\n",
       "                                NUM_UNIQUE(EDatt.WEEKDAY(time_leaving_dept_inc_cdu))  \\\n",
       "arr_date   time                                                                        \n",
       "2018-09-03 2018-09-02 06:00:00                                                NaN      \n",
       "\n",
       "                                NUM_UNIQUE(EDatt.WEEKDAY(arrival))  \\\n",
       "arr_date   time                                                      \n",
       "2018-09-03 2018-09-02 06:00:00                                 NaN   \n",
       "\n",
       "                                MODE(EDatt.DAY(time_leaving_dept_inc_cdu))  \\\n",
       "arr_date   time                                                              \n",
       "2018-09-03 2018-09-02 06:00:00                                         NaN   \n",
       "\n",
       "                                MODE(EDatt.DAY(arrival))  \\\n",
       "arr_date   time                                            \n",
       "2018-09-03 2018-09-02 06:00:00                       NaN   \n",
       "\n",
       "                                MODE(EDatt.YEAR(time_leaving_dept_inc_cdu))  \\\n",
       "arr_date   time                                                               \n",
       "2018-09-03 2018-09-02 06:00:00                                          NaN   \n",
       "\n",
       "                                MODE(EDatt.YEAR(arrival))  \\\n",
       "arr_date   time                                             \n",
       "2018-09-03 2018-09-02 06:00:00                        NaN   \n",
       "\n",
       "                                MODE(EDatt.MONTH(time_leaving_dept_inc_cdu))  \\\n",
       "arr_date   time                                                                \n",
       "2018-09-03 2018-09-02 06:00:00                                           NaN   \n",
       "\n",
       "                                MODE(EDatt.MONTH(arrival))  \\\n",
       "arr_date   time                                              \n",
       "2018-09-03 2018-09-02 06:00:00                         NaN   \n",
       "\n",
       "                                MODE(EDatt.WEEKDAY(time_leaving_dept_inc_cdu))  \\\n",
       "arr_date   time                                                                  \n",
       "2018-09-03 2018-09-02 06:00:00                                             NaN   \n",
       "\n",
       "                                MODE(EDatt.WEEKDAY(arrival))  \n",
       "arr_date   time                                               \n",
       "2018-09-03 2018-09-02 06:00:00                           NaN  \n",
       "\n",
       "[1 rows x 41 columns]"
      ]
     },
     "execution_count": 131,
     "metadata": {},
     "output_type": "execute_result"
    }
   ],
   "source": [
    "fm, features = ft.dfs(entityset=es,\n",
    "                       target_entity='EDatt',\n",
    "                       cutoff_time=ct,\n",
    "                      cutoff_time_in_index=True,\n",
    "                     training_window=\"24 hours\",\n",
    "                     )\n",
    " \n",
    "\n",
    "fm"
   ]
  },
  {
   "cell_type": "code",
   "execution_count": 108,
   "metadata": {},
   "outputs": [
    {
     "data": {
      "text/plain": [
       "Entity: days\n",
       "  Variables:\n",
       "    arr_date (dtype: index)\n",
       "  Shape:\n",
       "    (Rows: 30, Columns: 1)"
      ]
     },
     "execution_count": 108,
     "metadata": {},
     "output_type": "execute_result"
    }
   ],
   "source": [
    "es['days']"
   ]
  },
  {
   "cell_type": "code",
   "execution_count": null,
   "metadata": {},
   "outputs": [],
   "source": []
  },
  {
   "cell_type": "markdown",
   "metadata": {},
   "source": [
    "# save out basic entities as pkl"
   ]
  },
  {
   "cell_type": "markdown",
   "metadata": {},
   "source": [
    "es.to_pickle(pickle_path)"
   ]
  },
  {
   "cell_type": "code",
   "execution_count": 33,
   "metadata": {},
   "outputs": [
    {
     "ename": "SyntaxError",
     "evalue": "'break' outside loop (<ipython-input-33-6aaf1f276005>, line 1)",
     "output_type": "error",
     "traceback": [
      "\u001b[1;36m  File \u001b[1;32m\"<ipython-input-33-6aaf1f276005>\"\u001b[1;36m, line \u001b[1;32m1\u001b[0m\n\u001b[1;33m    break\u001b[0m\n\u001b[1;37m         ^\u001b[0m\n\u001b[1;31mSyntaxError\u001b[0m\u001b[1;31m:\u001b[0m 'break' outside loop\n"
     ]
    }
   ],
   "source": [
    "break"
   ]
  },
  {
   "cell_type": "markdown",
   "metadata": {},
   "source": [
    "# Create day features with cuttoffs for different times of day"
   ]
  },
  {
   "cell_type": "code",
   "execution_count": null,
   "metadata": {},
   "outputs": [],
   "source": [
    "es"
   ]
  },
  {
   "cell_type": "code",
   "execution_count": null,
   "metadata": {},
   "outputs": [],
   "source": []
  },
  {
   "cell_type": "code",
   "execution_count": null,
   "metadata": {},
   "outputs": [],
   "source": []
  },
  {
   "cell_type": "code",
   "execution_count": null,
   "metadata": {},
   "outputs": [],
   "source": []
  },
  {
   "cell_type": "markdown",
   "metadata": {},
   "source": [
    "### create hourly - atten_no realationship"
   ]
  },
  {
   "cell_type": "code",
   "execution_count": null,
   "metadata": {},
   "outputs": [],
   "source": [
    "hrly_atten_rel = es['EDatt'].df[['arrival','time_leaving_dept_inc_cdu']]\n",
    "hrly_atten_rel['arrival'] = hrly_atten_rel['arrival'].apply(lambda x : x.replace(second=0,minute=0)) # round arrival hour down\n",
    "hrly_atten_rel['time_leaving_dept_inc_cdu'] = hrly_atten_rel['time_leaving_dept_inc_cdu'].apply(lambda x : x.replace(second=0,minute=0)) +pd.Timedelta(hours=1) # round leaving tim up\n",
    "hrly_atten_rel.head()"
   ]
  },
  {
   "cell_type": "code",
   "execution_count": null,
   "metadata": {},
   "outputs": [],
   "source": [
    "hrly_atten_rel.head()"
   ]
  },
  {
   "cell_type": "code",
   "execution_count": null,
   "metadata": {},
   "outputs": [],
   "source": [
    "hrly_atten_rel['n_hours'] = ((hrly_atten_rel['time_leaving_dept_inc_cdu'] - hrly_atten_rel['arrival'])/pd.Timedelta(1,'h')).astype(int)"
   ]
  },
  {
   "cell_type": "code",
   "execution_count": null,
   "metadata": {},
   "outputs": [],
   "source": [
    "hrly_atten_rel.head()"
   ]
  },
  {
   "cell_type": "code",
   "execution_count": null,
   "metadata": {},
   "outputs": [],
   "source": [
    "import itertools"
   ]
  },
  {
   "cell_type": "code",
   "execution_count": null,
   "metadata": {},
   "outputs": [],
   "source": [
    "#### create a (long format) list of links between attendance numbers and \n",
    "#%%timeit\n",
    "\n",
    "\n",
    "\n",
    "# function for list comp which finds list of datetimes (for each hour)\n",
    "date_func = lambda datetime , offset : datetime + pd.Timedelta(offset,'h')\n",
    "\n",
    "# iterate over rows in df\n",
    "sample = hrly_atten_rel.head()\n",
    "sample = sample.reset_index()\n",
    "\n",
    "ids = np.empty(shape=(sample['n_hours'].sum()),dtype='int64') # initilise array - change to np.empty() to speed up\n",
    "timestamps = np.empty(shape=(sample['n_hours'].sum()),dtype='datetime64[s]')\n",
    "row_count = 0\n",
    "\n",
    "for row in sample.itertuples():\n",
    "    atten_id = [row[1]]\n",
    "    hour_list = [date_func(row[2],i) for i in np.arange(row[4])] # creates list of hour datetimes\n",
    "    \n",
    "    # create array of list for all combinations of timestamp\n",
    "    for i in itertools.product(atten_id,hour_list):\n",
    "        ids[row_count] = i[0] # assign patient numbers\n",
    "        timestamps[row_count] = i[1]\n",
    "        row_count += 1 # add to row count for new array\n",
    "        \n",
    "print(ids)\n",
    "print(timestamps)\n",
    "ids.shape"
   ]
  },
  {
   "cell_type": "code",
   "execution_count": null,
   "metadata": {},
   "outputs": [],
   "source": [
    "data = {'ids':ids,\n",
    "       'timestamp':timestamps}\n",
    "\n",
    "pd.DataFrame(data=data)"
   ]
  },
  {
   "cell_type": "code",
   "execution_count": null,
   "metadata": {},
   "outputs": [],
   "source": [
    "fm, features = ft.dfs(entityset=es,\n",
    "                       target_entity='EDatt',\n",
    "                       cutoff_time=ct,\n",
    "                       cutoff_time_in_index=True,\n",
    "                     max_depth=1,\n",
    "                     training_window=\"1 hours\")\n",
    "\n",
    "fm"
   ]
  },
  {
   "cell_type": "code",
   "execution_count": null,
   "metadata": {},
   "outputs": [],
   "source": []
  },
  {
   "cell_type": "code",
   "execution_count": null,
   "metadata": {},
   "outputs": [],
   "source": [
    "#### put back into df\n",
    "pd.DataFrame(data=[ids,timestamps],columns=['atten_id','timestamp'])"
   ]
  },
  {
   "cell_type": "code",
   "execution_count": null,
   "metadata": {},
   "outputs": [],
   "source": [
    "sample.reset_index(inplace=True)"
   ]
  },
  {
   "cell_type": "code",
   "execution_count": null,
   "metadata": {},
   "outputs": [],
   "source": [
    "\n",
    "#X = np.array()\n",
    "for i in itertools.product(['1'],['2','3','4']):\n",
    "    print(list(i))\n",
    "    X[row[0]] = i\n",
    "    \n",
    "X"
   ]
  },
  {
   "cell_type": "code",
   "execution_count": null,
   "metadata": {},
   "outputs": [],
   "source": [
    "import pandas as pd"
   ]
  },
  {
   "cell_type": "code",
   "execution_count": null,
   "metadata": {},
   "outputs": [],
   "source": [
    "\n",
    "X.append()"
   ]
  },
  {
   "cell_type": "code",
   "execution_count": null,
   "metadata": {},
   "outputs": [],
   "source": [
    "X = np.array([[1,2,3]])\n",
    "X = np.append(X,[[3,4,5]],axis=0)\n",
    "X"
   ]
  },
  {
   "cell_type": "code",
   "execution_count": null,
   "metadata": {},
   "outputs": [],
   "source": [
    "ct=pd.DataFrame()\n",
    "\n",
    "ct['attendance_number'] = [90902042301,90902042301,90902042301,90902042301,90902043501,90902043501]\n",
    "\n",
    "ct['time'] = pd.to_datetime(['2009-4-1 02:00',\n",
    "                             '2009-4-1 03:00',\n",
    "                             '2009-4-1 04:00',\n",
    "                             '2009-4-1 05:00',\n",
    "                              '2009-4-1 07:00',\n",
    "                              '2014-1-1 04:00'])"
   ]
  },
  {
   "cell_type": "code",
   "execution_count": null,
   "metadata": {},
   "outputs": [],
   "source": [
    "ct"
   ]
  },
  {
   "cell_type": "code",
   "execution_count": null,
   "metadata": {},
   "outputs": [],
   "source": [
    "es['EDpatients'].last_time_index = es['EDpatients'].df['last_time']"
   ]
  },
  {
   "cell_type": "code",
   "execution_count": null,
   "metadata": {
    "scrolled": true
   },
   "outputs": [],
   "source": [
    "fm, features = ft.dfs(entityset=es,\n",
    "                       target_entity='EDatt',\n",
    "                       cutoff_time=ct,\n",
    "                       cutoff_time_in_index=True,\n",
    "                     max_depth=1,\n",
    "                     training_window=\"1 hours\")\n",
    "\n",
    "fm"
   ]
  },
  {
   "cell_type": "code",
   "execution_count": null,
   "metadata": {},
   "outputs": [],
   "source": [
    "es"
   ]
  },
  {
   "cell_type": "code",
   "execution_count": null,
   "metadata": {},
   "outputs": [],
   "source": [
    "ct2 = es['EDatt'].df[['attendance_number','arrival','arrival_mode_desc_bool']].head(5)"
   ]
  },
  {
   "cell_type": "code",
   "execution_count": null,
   "metadata": {},
   "outputs": [],
   "source": [
    "ft.__version__"
   ]
  },
  {
   "cell_type": "code",
   "execution_count": null,
   "metadata": {},
   "outputs": [],
   "source": [
    "fm, features = ft.dfs(entityset=es,\n",
    "                       target_entity='EDatt',\n",
    "                       cutoff_time=ct2,\n",
    "                       cutoff_time_in_index=True,\n",
    "                     max_depth=2)\n",
    "\n",
    "fm"
   ]
  },
  {
   "cell_type": "code",
   "execution_count": null,
   "metadata": {},
   "outputs": [],
   "source": [
    "break"
   ]
  },
  {
   "cell_type": "markdown",
   "metadata": {},
   "source": [
    "#### create a day table - by normalising a new feature"
   ]
  },
  {
   "cell_type": "code",
   "execution_count": null,
   "metadata": {},
   "outputs": [],
   "source": [
    "es = es.normalize_entity(base_entity_id='EDatt',\n",
    "                   new_entity_id=\"days\",\n",
    "                    index=\"arr_date\")"
   ]
  },
  {
   "cell_type": "markdown",
   "metadata": {},
   "source": [
    "#### import hourly table"
   ]
  },
  {
   "cell_type": "code",
   "execution_count": null,
   "metadata": {},
   "outputs": [],
   "source": [
    "hrly = pd.read_pickle('./../3_Data/processed/sgh/sghHOURLY.pkl')"
   ]
  },
  {
   "cell_type": "code",
   "execution_count": null,
   "metadata": {},
   "outputs": [],
   "source": [
    "hrly.columns"
   ]
  },
  {
   "cell_type": "code",
   "execution_count": null,
   "metadata": {},
   "outputs": [],
   "source": [
    "hrly2 = hrly[['dt_date','EDocc_nonadmit', 'EDocc_admit', 'EDocc_total', 'EDocc_awaitingadm',\n",
    "       'EDocc_nonbreach', 'EDocc_breach', 'IPocc_NonElective',\n",
    "       'IPocc_Day_Case', 'IPocc_Elective', 'IPocc_total', 'IPocc_elec_nonelec',\n",
    "       'IPadm', 'IPadm_nonelec', 'IPadm_daycase', 'IPadm_elective', 'IPdis',\n",
    "       'IPdis_nonelec', 'IPdis_daycase', 'IPdis_elective',\n",
    "       'IPadm_elec_nonelec', 'IPdis_elec_nonelec', 'EDarrive',\n",
    "       'EDarrive_breach', 'EDarrive_adm', 'EDdepart', 'EDdepart_breach',\n",
    "       'EDdepart_adm']].reset_index()"
   ]
  },
  {
   "cell_type": "code",
   "execution_count": null,
   "metadata": {},
   "outputs": [],
   "source": [
    "es.entity_from_dataframe(entity_id='hourly',dataframe=hrly2,index='index')"
   ]
  },
  {
   "cell_type": "code",
   "execution_count": null,
   "metadata": {},
   "outputs": [],
   "source": [
    "new_relationship = ft.Relationship(es[\"days\"][\"arr_date\"],\n",
    "                                    es[\"hourly\"][\"dt_date\"])\n",
    "\n",
    "es = es.add_relationship(new_relationship)"
   ]
  },
  {
   "cell_type": "code",
   "execution_count": null,
   "metadata": {},
   "outputs": [],
   "source": [
    "es['hourly'].df.head(2)"
   ]
  },
  {
   "cell_type": "code",
   "execution_count": null,
   "metadata": {},
   "outputs": [],
   "source": []
  },
  {
   "cell_type": "markdown",
   "metadata": {},
   "source": [
    "# summary of esets"
   ]
  },
  {
   "cell_type": "code",
   "execution_count": null,
   "metadata": {},
   "outputs": [],
   "source": [
    "es"
   ]
  },
  {
   "cell_type": "code",
   "execution_count": null,
   "metadata": {},
   "outputs": [],
   "source": [
    "es['days'].df.head()"
   ]
  },
  {
   "cell_type": "code",
   "execution_count": null,
   "metadata": {},
   "outputs": [],
   "source": [
    "es['EDatt'].df.head(2)"
   ]
  },
  {
   "cell_type": "code",
   "execution_count": null,
   "metadata": {},
   "outputs": [],
   "source": [
    "es['patients'].df.head(3)"
   ]
  },
  {
   "cell_type": "code",
   "execution_count": null,
   "metadata": {},
   "outputs": [],
   "source": [
    "es['hourly'].df.head(2)"
   ]
  },
  {
   "cell_type": "code",
   "execution_count": null,
   "metadata": {},
   "outputs": [],
   "source": [
    "es['days'].df.head(3)"
   ]
  },
  {
   "cell_type": "markdown",
   "metadata": {},
   "source": [
    "# make features"
   ]
  },
  {
   "cell_type": "markdown",
   "metadata": {},
   "source": [
    "feature_matrix, feature_defs = ft.dfs(entityset=es,target_entity='days',\n",
    "      agg_primitives=['count','mean','num_true','sum'],\n",
    "      trans_primitives=['month','year','day'],\n",
    "    max_depth=1,n_jobs=2)\n",
    "\n",
    "feature_matrix"
   ]
  },
  {
   "cell_type": "code",
   "execution_count": null,
   "metadata": {},
   "outputs": [],
   "source": [
    "feature_matrix1, feature_defs = ft.dfs(entityset=es,target_entity='days',\n",
    "      agg_primitives=['count','mean','num_true','sum','max','last'],\n",
    "      trans_primitives=['month','year','weekend','weekday'],\n",
    "    max_depth=1,n_jobs=1)\n",
    "\n",
    "feature_matrix1.shape"
   ]
  },
  {
   "cell_type": "code",
   "execution_count": null,
   "metadata": {},
   "outputs": [],
   "source": [
    "feature_matrix2, feature_defs = ft.dfs(entityset=es,target_entity='days',\n",
    "      agg_primitives=['count','mean','num_true','sum','max','last'],\n",
    "      trans_primitives=['month','year','weekend','weekday'],\n",
    "    max_depth=2,n_jobs=1)\n",
    "\n",
    "feature_matrix2.shape"
   ]
  },
  {
   "cell_type": "code",
   "execution_count": null,
   "metadata": {},
   "outputs": [],
   "source": [
    "feature_matrix, feature_defs = ft.dfs(entityset=es,target_entity='days',\n",
    "      agg_primitives=['count','mean','num_true','sum','max','last'],\n",
    "      trans_primitives=['month','year','weekend','weekday'],\n",
    "    max_depth=3,n_jobs=1)\n",
    "\n",
    "feature_matrix.shape"
   ]
  },
  {
   "cell_type": "code",
   "execution_count": null,
   "metadata": {},
   "outputs": [],
   "source": [
    "set(feature_matrix.columns) - set(feature_matrix1.columns)"
   ]
  },
  {
   "cell_type": "code",
   "execution_count": null,
   "metadata": {},
   "outputs": [],
   "source": [
    "for i in feature_matrix.columns:\n",
    "    print(i)"
   ]
  },
  {
   "cell_type": "code",
   "execution_count": null,
   "metadata": {},
   "outputs": [],
   "source": [
    "feature_matrix.shape"
   ]
  },
  {
   "cell_type": "code",
   "execution_count": null,
   "metadata": {},
   "outputs": [],
   "source": [
    "feature_matrix.shape"
   ]
  },
  {
   "cell_type": "markdown",
   "metadata": {},
   "source": [
    "## do some basic drops"
   ]
  },
  {
   "cell_type": "code",
   "execution_count": null,
   "metadata": {},
   "outputs": [],
   "source": [
    "uniques = feature_matrix.apply(lambda x: x.nunique())"
   ]
  },
  {
   "cell_type": "code",
   "execution_count": null,
   "metadata": {},
   "outputs": [],
   "source": [
    "uniques[uniques==1].index"
   ]
  },
  {
   "cell_type": "code",
   "execution_count": null,
   "metadata": {},
   "outputs": [],
   "source": [
    "feature_matrix = feature_matrix.drop(uniques[uniques==1].index, axis=1)"
   ]
  },
  {
   "cell_type": "code",
   "execution_count": null,
   "metadata": {},
   "outputs": [],
   "source": []
  },
  {
   "cell_type": "markdown",
   "metadata": {},
   "source": [
    "#### drop columns which have all same values"
   ]
  },
  {
   "cell_type": "code",
   "execution_count": null,
   "metadata": {},
   "outputs": [],
   "source": [
    "feature_matrix.shape"
   ]
  },
  {
   "cell_type": "code",
   "execution_count": null,
   "metadata": {},
   "outputs": [],
   "source": [
    "cols = list(feature_matrix)\n",
    "nunique = feature_matrix.apply(pd.Series.nunique)\n",
    "cols_to_drop = nunique[nunique == 1].index\n",
    "feature_matrix.drop(cols_to_drop, axis=1,inplace=True)"
   ]
  },
  {
   "cell_type": "code",
   "execution_count": null,
   "metadata": {},
   "outputs": [],
   "source": [
    "feature_matrix.shape"
   ]
  },
  {
   "cell_type": "markdown",
   "metadata": {},
   "source": [
    "#### drop cols that are duplicated "
   ]
  },
  {
   "cell_type": "code",
   "execution_count": null,
   "metadata": {},
   "outputs": [],
   "source": [
    "from utils import duplicate_columns"
   ]
  },
  {
   "cell_type": "code",
   "execution_count": null,
   "metadata": {},
   "outputs": [],
   "source": [
    "dups = duplicate_columns(feature_matrix)\n",
    "dups"
   ]
  },
  {
   "cell_type": "code",
   "execution_count": null,
   "metadata": {},
   "outputs": [],
   "source": [
    "feature_matrix.drop(dups,axis=1,inplace=True)"
   ]
  },
  {
   "cell_type": "code",
   "execution_count": null,
   "metadata": {},
   "outputs": [],
   "source": [
    "feature_matrix.shape"
   ]
  },
  {
   "cell_type": "markdown",
   "metadata": {},
   "source": [
    "### save out"
   ]
  },
  {
   "cell_type": "code",
   "execution_count": null,
   "metadata": {},
   "outputs": [],
   "source": [
    "pd.to_pickle(feature_matrix,'./activity.pkl')"
   ]
  },
  {
   "cell_type": "code",
   "execution_count": null,
   "metadata": {},
   "outputs": [],
   "source": [
    "ft.list_primitives().head(40)"
   ]
  },
  {
   "cell_type": "code",
   "execution_count": null,
   "metadata": {},
   "outputs": [],
   "source": [
    "ft.list_primitives().tail(40).loc[22].description"
   ]
  },
  {
   "cell_type": "code",
   "execution_count": null,
   "metadata": {},
   "outputs": [],
   "source": []
  },
  {
   "cell_type": "code",
   "execution_count": null,
   "metadata": {},
   "outputs": [],
   "source": []
  },
  {
   "cell_type": "code",
   "execution_count": null,
   "metadata": {},
   "outputs": [],
   "source": []
  },
  {
   "cell_type": "markdown",
   "metadata": {},
   "source": [
    "# Dev"
   ]
  },
  {
   "cell_type": "code",
   "execution_count": null,
   "metadata": {},
   "outputs": [],
   "source": [
    "break"
   ]
  },
  {
   "cell_type": "code",
   "execution_count": null,
   "metadata": {},
   "outputs": [],
   "source": [
    "ED.columns"
   ]
  },
  {
   "cell_type": "markdown",
   "metadata": {},
   "source": [
    "#### create and link day table - by adding a new df"
   ]
  },
  {
   "cell_type": "markdown",
   "metadata": {},
   "source": [
    "from core import create_timeseries_from_events"
   ]
  },
  {
   "cell_type": "markdown",
   "metadata": {},
   "source": [
    "ED.columns"
   ]
  },
  {
   "cell_type": "markdown",
   "metadata": {},
   "source": [
    "start = ED.tail(i).arrival.min().round('D')\n",
    "end = ED.tail(i).arrival.max().round('D')\n",
    "\n",
    "occED = create_timeseries_from_events(ED.tail(i),'arrival','time_leaving_dept_inc_cdu',col_to_split='admission_flag',start=start,end=end,freq='H')\n",
    "\n",
    "occED['EDocc_MEAN'] = occED.sum(axis=1) # make agg col"
   ]
  },
  {
   "cell_type": "markdown",
   "metadata": {},
   "source": [
    "occED['day'] = occED.index.round('D')"
   ]
  },
  {
   "cell_type": "markdown",
   "metadata": {},
   "source": [
    "occEDday = occED.groupby(['day']).mean()"
   ]
  },
  {
   "cell_type": "markdown",
   "metadata": {},
   "source": [
    "occEDday.index"
   ]
  },
  {
   "cell_type": "markdown",
   "metadata": {},
   "source": [
    "day = occEDday['EDocc_MEAN'].reset_index()"
   ]
  },
  {
   "cell_type": "markdown",
   "metadata": {},
   "source": [
    "day.head(2)"
   ]
  },
  {
   "cell_type": "markdown",
   "metadata": {},
   "source": [
    "#### add to es"
   ]
  },
  {
   "cell_type": "markdown",
   "metadata": {},
   "source": [
    "es = es.entity_from_dataframe(entity_id=\"days\",dataframe=day,\n",
    "                              index=\"day\",\n",
    "                              time_index=\"day\")"
   ]
  },
  {
   "cell_type": "markdown",
   "metadata": {},
   "source": [
    "new_relationship = ft.Relationship(es[\"days\"][\"day\"],\n",
    "                                   es[\"ED_atten\"][\"arr_date\"])\n",
    "\n",
    "es = es.add_relationship(new_relationship)"
   ]
  },
  {
   "cell_type": "markdown",
   "metadata": {},
   "source": [
    "#### Look at tables"
   ]
  },
  {
   "cell_type": "code",
   "execution_count": null,
   "metadata": {},
   "outputs": [],
   "source": [
    "es['days'].df.head()"
   ]
  },
  {
   "cell_type": "markdown",
   "metadata": {},
   "source": [
    "es['days'].df['day'].head()"
   ]
  },
  {
   "cell_type": "markdown",
   "metadata": {},
   "source": [
    "es['days'].df['day'].dtype"
   ]
  },
  {
   "cell_type": "markdown",
   "metadata": {},
   "source": [
    "es['ED_atten'].index"
   ]
  },
  {
   "cell_type": "markdown",
   "metadata": {},
   "source": [
    "es['ED_atten'].df.arrival.dtype"
   ]
  },
  {
   "cell_type": "markdown",
   "metadata": {},
   "source": [
    "es['patient'].df.columns #.dtype"
   ]
  },
  {
   "cell_type": "markdown",
   "metadata": {},
   "source": [
    "es['patient'].df['first_ED_atten_time'].dtype"
   ]
  },
  {
   "cell_type": "code",
   "execution_count": null,
   "metadata": {},
   "outputs": [],
   "source": [
    "es['ED_atten']"
   ]
  },
  {
   "cell_type": "code",
   "execution_count": null,
   "metadata": {},
   "outputs": [],
   "source": [
    "es['patient']"
   ]
  },
  {
   "cell_type": "code",
   "execution_count": null,
   "metadata": {},
   "outputs": [],
   "source": [
    "es['days']"
   ]
  },
  {
   "cell_type": "markdown",
   "metadata": {},
   "source": [
    "es['days']"
   ]
  },
  {
   "cell_type": "code",
   "execution_count": null,
   "metadata": {},
   "outputs": [],
   "source": [
    "es"
   ]
  },
  {
   "cell_type": "markdown",
   "metadata": {},
   "source": [
    "# DFS"
   ]
  },
  {
   "cell_type": "markdown",
   "metadata": {},
   "source": [
    "### create range of datetimes for arrival in df"
   ]
  },
  {
   "cell_type": "code",
   "execution_count": null,
   "metadata": {},
   "outputs": [],
   "source": [
    "feature_matrix, feature_defs = ft.dfs(entityset=es,target_entity=\"days\")"
   ]
  },
  {
   "cell_type": "code",
   "execution_count": null,
   "metadata": {},
   "outputs": [],
   "source": [
    "feature_matrix"
   ]
  },
  {
   "cell_type": "code",
   "execution_count": null,
   "metadata": {},
   "outputs": [],
   "source": [
    "window_fm, window_features = ft.dfs(entityset=es,target_entity='days',cutoff_time=ct,\n",
    "       cutoff_time_in_index=True,\n",
    "      training_window = '24 hours')"
   ]
  },
  {
   "cell_type": "code",
   "execution_count": null,
   "metadata": {},
   "outputs": [],
   "source": []
  },
  {
   "cell_type": "code",
   "execution_count": null,
   "metadata": {},
   "outputs": [],
   "source": []
  },
  {
   "cell_type": "code",
   "execution_count": null,
   "metadata": {},
   "outputs": [],
   "source": [
    "pd.DatetimeIndex(start=start,end=end,freq='D')"
   ]
  },
  {
   "cell_type": "code",
   "execution_count": null,
   "metadata": {},
   "outputs": [],
   "source": [
    "ft.list_primitives().head(40)"
   ]
  },
  {
   "cell_type": "code",
   "execution_count": null,
   "metadata": {},
   "outputs": [],
   "source": []
  },
  {
   "cell_type": "code",
   "execution_count": null,
   "metadata": {},
   "outputs": [],
   "source": []
  }
 ],
 "metadata": {
  "anaconda-cloud": {},
  "kernelspec": {
   "display_name": "Python [conda env:ml]",
   "language": "python",
   "name": "conda-env-ml-py"
  },
  "language_info": {
   "codemirror_mode": {
    "name": "ipython",
    "version": 3
   },
   "file_extension": ".py",
   "mimetype": "text/x-python",
   "name": "python",
   "nbconvert_exporter": "python",
   "pygments_lexer": "ipython3",
   "version": "3.6.3"
  }
 },
 "nbformat": 4,
 "nbformat_minor": 2
}
