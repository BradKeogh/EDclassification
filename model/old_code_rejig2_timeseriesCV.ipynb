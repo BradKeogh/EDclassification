{
 "cells": [
  {
   "cell_type": "markdown",
   "metadata": {},
   "source": [
    "# Aims\n",
    "\n",
    "- build basic model as feasability for classification prediction of bad days in ED\n",
    "\n",
    "# Objectives\n",
    "\n",
    "- import data already processed using feature tools\n",
    "- add in target feature: worst days of occupancy\n",
    "- create df with roughly same variables as before\n",
    "- run model\n",
    "- incrementally change features that we are using\n",
    "- add in rolling % calc for certain features\n",
    "\n",
    "# Intentions\n",
    "- build pipelines for data integration\n",
    "- export as much of the heavy functions to seperate .py files\n"
   ]
  },
  {
   "cell_type": "code",
   "execution_count": 128,
   "metadata": {},
   "outputs": [],
   "source": [
    "import pandas as pd\n",
    "import numpy as np\n",
    "import matplotlib.pyplot as plt\n",
    "%matplotlib inline\n",
    "import seaborn as sns\n",
    "sns.set()\n",
    "\n",
    "# %load_ext autoreload\n",
    "# %autoreload 2\n",
    "\n",
    "#import mlxtend"
   ]
  },
  {
   "cell_type": "markdown",
   "metadata": {},
   "source": [
    "# get data"
   ]
  },
  {
   "cell_type": "code",
   "execution_count": 129,
   "metadata": {},
   "outputs": [],
   "source": [
    "# target_class = pd.read_pickle('./../target_feature_df.pkl')\n",
    "target_class = pd.read_pickle('./../occ_target/EDooc_class.pkl')"
   ]
  },
  {
   "cell_type": "code",
   "execution_count": 130,
   "metadata": {},
   "outputs": [],
   "source": [
    "# pickle_names = []\n",
    "cal = pd.read_pickle('./../../../3_Data/EDclassification/processed/callender.pkl')\n",
    "\n",
    "EDmorn = pd.read_pickle('./../../../3_Data/EDclassification/processed/EDmorn.pkl')\n",
    "\n",
    "EDpd = pd.read_pickle('./../../../3_Data/EDclassification/processed/EDprevday.pkl')\n",
    "\n",
    "IPoccperc = pd.read_pickle('./../feature_creation/IPocc_perc.pkl')\n",
    "\n",
    "IP = pd.read_pickle('./../../../3_Data/EDclassification/processed/IPprevday.pkl')"
   ]
  },
  {
   "cell_type": "code",
   "execution_count": 131,
   "metadata": {},
   "outputs": [
    {
     "data": {
      "text/plain": [
       "(2099, 4)"
      ]
     },
     "execution_count": 131,
     "metadata": {},
     "output_type": "execute_result"
    }
   ],
   "source": [
    "cal.shape"
   ]
  },
  {
   "cell_type": "code",
   "execution_count": 132,
   "metadata": {},
   "outputs": [
    {
     "data": {
      "text/plain": [
       "(2830, 13)"
      ]
     },
     "execution_count": 132,
     "metadata": {},
     "output_type": "execute_result"
    }
   ],
   "source": [
    "EDmorn.shape"
   ]
  },
  {
   "cell_type": "code",
   "execution_count": 133,
   "metadata": {},
   "outputs": [
    {
     "data": {
      "text/plain": [
       "(2099, 13)"
      ]
     },
     "execution_count": 133,
     "metadata": {},
     "output_type": "execute_result"
    }
   ],
   "source": [
    "EDpd.shape"
   ]
  },
  {
   "cell_type": "code",
   "execution_count": 134,
   "metadata": {},
   "outputs": [
    {
     "data": {
      "text/plain": [
       "(2096, 65)"
      ]
     },
     "execution_count": 134,
     "metadata": {},
     "output_type": "execute_result"
    }
   ],
   "source": [
    "IP.shape"
   ]
  },
  {
   "cell_type": "code",
   "execution_count": 137,
   "metadata": {},
   "outputs": [
    {
     "data": {
      "text/plain": [
       "Timestamp('2018-07-30 00:00:00', freq='D')"
      ]
     },
     "execution_count": 137,
     "metadata": {},
     "output_type": "execute_result"
    }
   ],
   "source": [
    "IP.index.max()"
   ]
  },
  {
   "cell_type": "markdown",
   "metadata": {},
   "source": [
    "merge all dfs to one"
   ]
  },
  {
   "cell_type": "code",
   "execution_count": 24,
   "metadata": {},
   "outputs": [],
   "source": [
    "feature_dfs = [cal,EDmorn,EDpd,IPoccperc,IP]\n",
    "\n",
    "fm = feature_dfs[0]\n",
    "for df in feature_dfs[1:]:\n",
    "    fm = fm.merge(df, right_index=True, left_index=True)"
   ]
  },
  {
   "cell_type": "code",
   "execution_count": 25,
   "metadata": {},
   "outputs": [
    {
     "data": {
      "text/html": [
       "<div>\n",
       "<style scoped>\n",
       "    .dataframe tbody tr th:only-of-type {\n",
       "        vertical-align: middle;\n",
       "    }\n",
       "\n",
       "    .dataframe tbody tr th {\n",
       "        vertical-align: top;\n",
       "    }\n",
       "\n",
       "    .dataframe thead th {\n",
       "        text-align: right;\n",
       "    }\n",
       "</style>\n",
       "<table border=\"1\" class=\"dataframe\">\n",
       "  <thead>\n",
       "    <tr style=\"text-align: right;\">\n",
       "      <th></th>\n",
       "      <th>callender_DAY(first_EDatt_time)</th>\n",
       "      <th>callender_MONTH(first_EDatt_time)</th>\n",
       "      <th>callender_YEAR(first_EDatt_time)</th>\n",
       "      <th>callender_WEEKEND(first_EDatt_time)</th>\n",
       "      <th>EDmorn_COUNT(EDatt)</th>\n",
       "      <th>EDmorn_MEAN(EDatt.wait_time_total)</th>\n",
       "      <th>EDmorn_MEAN(EDatt.flag_specreq)</th>\n",
       "      <th>EDmorn_MEAN(EDatt.age)</th>\n",
       "      <th>EDmorn_MEAN(EDatt.flag_admission)</th>\n",
       "      <th>EDmorn_STD(EDatt.wait_time_total)</th>\n",
       "      <th>...</th>\n",
       "      <th>IPprevday_IP1_IP1_NUM_UNIQUE(link.IPadm.MONTH(discharge_date))</th>\n",
       "      <th>IPprevday_IP1_IP1_NUM_UNIQUE(link.IPadm.YEAR(admission_date))</th>\n",
       "      <th>IPprevday_IP1_IP1_NUM_UNIQUE(link.IPadm.YEAR(discharge_date))</th>\n",
       "      <th>IPprevday_IP1_IP1_MODE(link.IPadm.MODE(link.day))</th>\n",
       "      <th>IPprevday_IP1_IP1_MODE(link.IPadm.DAY(admission_date))</th>\n",
       "      <th>IPprevday_IP1_IP1_MODE(link.IPadm.DAY(discharge_date))</th>\n",
       "      <th>IPprevday_IP1_IP1_MODE(link.IPadm.MONTH(admission_date))</th>\n",
       "      <th>IPprevday_IP1_IP1_MODE(link.IPadm.MONTH(discharge_date))</th>\n",
       "      <th>IPprevday_IP1_IP1_MODE(link.IPadm.YEAR(admission_date))</th>\n",
       "      <th>IPprevday_IP1_IP1_MODE(link.IPadm.YEAR(discharge_date))</th>\n",
       "    </tr>\n",
       "  </thead>\n",
       "  <tbody>\n",
       "    <tr>\n",
       "      <th>2013-01-02</th>\n",
       "      <td>2</td>\n",
       "      <td>1</td>\n",
       "      <td>2013</td>\n",
       "      <td>False</td>\n",
       "      <td>24</td>\n",
       "      <td>104.916667</td>\n",
       "      <td>0.833333</td>\n",
       "      <td>45.25</td>\n",
       "      <td>0.166667</td>\n",
       "      <td>51.839715</td>\n",
       "      <td>...</td>\n",
       "      <td>5</td>\n",
       "      <td>2</td>\n",
       "      <td>1</td>\n",
       "      <td>2013-01-01</td>\n",
       "      <td>31</td>\n",
       "      <td>2</td>\n",
       "      <td>12</td>\n",
       "      <td>1</td>\n",
       "      <td>2012</td>\n",
       "      <td>2013</td>\n",
       "    </tr>\n",
       "  </tbody>\n",
       "</table>\n",
       "<p>1 rows × 83 columns</p>\n",
       "</div>"
      ],
      "text/plain": [
       "            callender_DAY(first_EDatt_time)  \\\n",
       "2013-01-02                                2   \n",
       "\n",
       "            callender_MONTH(first_EDatt_time)  \\\n",
       "2013-01-02                                  1   \n",
       "\n",
       "            callender_YEAR(first_EDatt_time)  \\\n",
       "2013-01-02                              2013   \n",
       "\n",
       "            callender_WEEKEND(first_EDatt_time)  EDmorn_COUNT(EDatt)  \\\n",
       "2013-01-02                                False                   24   \n",
       "\n",
       "            EDmorn_MEAN(EDatt.wait_time_total)  \\\n",
       "2013-01-02                          104.916667   \n",
       "\n",
       "            EDmorn_MEAN(EDatt.flag_specreq)  EDmorn_MEAN(EDatt.age)  \\\n",
       "2013-01-02                         0.833333                   45.25   \n",
       "\n",
       "            EDmorn_MEAN(EDatt.flag_admission)  \\\n",
       "2013-01-02                           0.166667   \n",
       "\n",
       "            EDmorn_STD(EDatt.wait_time_total)  \\\n",
       "2013-01-02                          51.839715   \n",
       "\n",
       "                                     ...                             \\\n",
       "2013-01-02                           ...                              \n",
       "\n",
       "            IPprevday_IP1_IP1_NUM_UNIQUE(link.IPadm.MONTH(discharge_date))  \\\n",
       "2013-01-02                                                  5                \n",
       "\n",
       "            IPprevday_IP1_IP1_NUM_UNIQUE(link.IPadm.YEAR(admission_date))  \\\n",
       "2013-01-02                                                  2               \n",
       "\n",
       "            IPprevday_IP1_IP1_NUM_UNIQUE(link.IPadm.YEAR(discharge_date))  \\\n",
       "2013-01-02                                                  1               \n",
       "\n",
       "            IPprevday_IP1_IP1_MODE(link.IPadm.MODE(link.day))  \\\n",
       "2013-01-02                                         2013-01-01   \n",
       "\n",
       "            IPprevday_IP1_IP1_MODE(link.IPadm.DAY(admission_date))  \\\n",
       "2013-01-02                                                 31        \n",
       "\n",
       "            IPprevday_IP1_IP1_MODE(link.IPadm.DAY(discharge_date))  \\\n",
       "2013-01-02                                                  2        \n",
       "\n",
       "            IPprevday_IP1_IP1_MODE(link.IPadm.MONTH(admission_date))  \\\n",
       "2013-01-02                                                 12          \n",
       "\n",
       "            IPprevday_IP1_IP1_MODE(link.IPadm.MONTH(discharge_date))  \\\n",
       "2013-01-02                                                  1          \n",
       "\n",
       "            IPprevday_IP1_IP1_MODE(link.IPadm.YEAR(admission_date))  \\\n",
       "2013-01-02                                               2012         \n",
       "\n",
       "            IPprevday_IP1_IP1_MODE(link.IPadm.YEAR(discharge_date))  \n",
       "2013-01-02                                               2013        \n",
       "\n",
       "[1 rows x 83 columns]"
      ]
     },
     "execution_count": 25,
     "metadata": {},
     "output_type": "execute_result"
    }
   ],
   "source": [
    "fm.head(1)"
   ]
  },
  {
   "cell_type": "code",
   "execution_count": 26,
   "metadata": {},
   "outputs": [
    {
     "data": {
      "text/html": [
       "<div>\n",
       "<style scoped>\n",
       "    .dataframe tbody tr th:only-of-type {\n",
       "        vertical-align: middle;\n",
       "    }\n",
       "\n",
       "    .dataframe tbody tr th {\n",
       "        vertical-align: top;\n",
       "    }\n",
       "\n",
       "    .dataframe thead th {\n",
       "        text-align: right;\n",
       "    }\n",
       "</style>\n",
       "<table border=\"1\" class=\"dataframe\">\n",
       "  <thead>\n",
       "    <tr style=\"text-align: right;\">\n",
       "      <th></th>\n",
       "      <th>callender_DAY(first_EDatt_time)</th>\n",
       "      <th>callender_MONTH(first_EDatt_time)</th>\n",
       "      <th>callender_YEAR(first_EDatt_time)</th>\n",
       "      <th>callender_WEEKEND(first_EDatt_time)</th>\n",
       "      <th>EDmorn_COUNT(EDatt)</th>\n",
       "      <th>EDmorn_MEAN(EDatt.wait_time_total)</th>\n",
       "      <th>EDmorn_MEAN(EDatt.flag_specreq)</th>\n",
       "      <th>EDmorn_MEAN(EDatt.age)</th>\n",
       "      <th>EDmorn_MEAN(EDatt.flag_admission)</th>\n",
       "      <th>EDmorn_STD(EDatt.wait_time_total)</th>\n",
       "      <th>...</th>\n",
       "      <th>IPprevday_IP1_IP1_NUM_UNIQUE(link.IPadm.MONTH(discharge_date))</th>\n",
       "      <th>IPprevday_IP1_IP1_NUM_UNIQUE(link.IPadm.YEAR(admission_date))</th>\n",
       "      <th>IPprevday_IP1_IP1_NUM_UNIQUE(link.IPadm.YEAR(discharge_date))</th>\n",
       "      <th>IPprevday_IP1_IP1_MODE(link.IPadm.MODE(link.day))</th>\n",
       "      <th>IPprevday_IP1_IP1_MODE(link.IPadm.DAY(admission_date))</th>\n",
       "      <th>IPprevday_IP1_IP1_MODE(link.IPadm.DAY(discharge_date))</th>\n",
       "      <th>IPprevday_IP1_IP1_MODE(link.IPadm.MONTH(admission_date))</th>\n",
       "      <th>IPprevday_IP1_IP1_MODE(link.IPadm.MONTH(discharge_date))</th>\n",
       "      <th>IPprevday_IP1_IP1_MODE(link.IPadm.YEAR(admission_date))</th>\n",
       "      <th>IPprevday_IP1_IP1_MODE(link.IPadm.YEAR(discharge_date))</th>\n",
       "    </tr>\n",
       "  </thead>\n",
       "  <tbody>\n",
       "    <tr>\n",
       "      <th>2018-08-08</th>\n",
       "      <td>8</td>\n",
       "      <td>8</td>\n",
       "      <td>2018</td>\n",
       "      <td>False</td>\n",
       "      <td>32</td>\n",
       "      <td>185.923077</td>\n",
       "      <td>0.692308</td>\n",
       "      <td>46.718750</td>\n",
       "      <td>0.307692</td>\n",
       "      <td>114.622178</td>\n",
       "      <td>...</td>\n",
       "      <td>3</td>\n",
       "      <td>2</td>\n",
       "      <td>1</td>\n",
       "      <td>2018-08-07</td>\n",
       "      <td>6</td>\n",
       "      <td>7</td>\n",
       "      <td>8</td>\n",
       "      <td>8</td>\n",
       "      <td>2018</td>\n",
       "      <td>2018</td>\n",
       "    </tr>\n",
       "    <tr>\n",
       "      <th>2018-08-09</th>\n",
       "      <td>9</td>\n",
       "      <td>8</td>\n",
       "      <td>2018</td>\n",
       "      <td>False</td>\n",
       "      <td>27</td>\n",
       "      <td>172.333333</td>\n",
       "      <td>0.866667</td>\n",
       "      <td>46.111111</td>\n",
       "      <td>0.133333</td>\n",
       "      <td>72.979123</td>\n",
       "      <td>...</td>\n",
       "      <td>3</td>\n",
       "      <td>2</td>\n",
       "      <td>1</td>\n",
       "      <td>2018-08-08</td>\n",
       "      <td>8</td>\n",
       "      <td>8</td>\n",
       "      <td>8</td>\n",
       "      <td>8</td>\n",
       "      <td>2018</td>\n",
       "      <td>2018</td>\n",
       "    </tr>\n",
       "  </tbody>\n",
       "</table>\n",
       "<p>2 rows × 83 columns</p>\n",
       "</div>"
      ],
      "text/plain": [
       "            callender_DAY(first_EDatt_time)  \\\n",
       "2018-08-08                                8   \n",
       "2018-08-09                                9   \n",
       "\n",
       "            callender_MONTH(first_EDatt_time)  \\\n",
       "2018-08-08                                  8   \n",
       "2018-08-09                                  8   \n",
       "\n",
       "            callender_YEAR(first_EDatt_time)  \\\n",
       "2018-08-08                              2018   \n",
       "2018-08-09                              2018   \n",
       "\n",
       "            callender_WEEKEND(first_EDatt_time)  EDmorn_COUNT(EDatt)  \\\n",
       "2018-08-08                                False                   32   \n",
       "2018-08-09                                False                   27   \n",
       "\n",
       "            EDmorn_MEAN(EDatt.wait_time_total)  \\\n",
       "2018-08-08                          185.923077   \n",
       "2018-08-09                          172.333333   \n",
       "\n",
       "            EDmorn_MEAN(EDatt.flag_specreq)  EDmorn_MEAN(EDatt.age)  \\\n",
       "2018-08-08                         0.692308               46.718750   \n",
       "2018-08-09                         0.866667               46.111111   \n",
       "\n",
       "            EDmorn_MEAN(EDatt.flag_admission)  \\\n",
       "2018-08-08                           0.307692   \n",
       "2018-08-09                           0.133333   \n",
       "\n",
       "            EDmorn_STD(EDatt.wait_time_total)  \\\n",
       "2018-08-08                         114.622178   \n",
       "2018-08-09                          72.979123   \n",
       "\n",
       "                                     ...                             \\\n",
       "2018-08-08                           ...                              \n",
       "2018-08-09                           ...                              \n",
       "\n",
       "            IPprevday_IP1_IP1_NUM_UNIQUE(link.IPadm.MONTH(discharge_date))  \\\n",
       "2018-08-08                                                  3                \n",
       "2018-08-09                                                  3                \n",
       "\n",
       "            IPprevday_IP1_IP1_NUM_UNIQUE(link.IPadm.YEAR(admission_date))  \\\n",
       "2018-08-08                                                  2               \n",
       "2018-08-09                                                  2               \n",
       "\n",
       "            IPprevday_IP1_IP1_NUM_UNIQUE(link.IPadm.YEAR(discharge_date))  \\\n",
       "2018-08-08                                                  1               \n",
       "2018-08-09                                                  1               \n",
       "\n",
       "            IPprevday_IP1_IP1_MODE(link.IPadm.MODE(link.day))  \\\n",
       "2018-08-08                                         2018-08-07   \n",
       "2018-08-09                                         2018-08-08   \n",
       "\n",
       "            IPprevday_IP1_IP1_MODE(link.IPadm.DAY(admission_date))  \\\n",
       "2018-08-08                                                  6        \n",
       "2018-08-09                                                  8        \n",
       "\n",
       "            IPprevday_IP1_IP1_MODE(link.IPadm.DAY(discharge_date))  \\\n",
       "2018-08-08                                                  7        \n",
       "2018-08-09                                                  8        \n",
       "\n",
       "            IPprevday_IP1_IP1_MODE(link.IPadm.MONTH(admission_date))  \\\n",
       "2018-08-08                                                  8          \n",
       "2018-08-09                                                  8          \n",
       "\n",
       "            IPprevday_IP1_IP1_MODE(link.IPadm.MONTH(discharge_date))  \\\n",
       "2018-08-08                                                  8          \n",
       "2018-08-09                                                  8          \n",
       "\n",
       "            IPprevday_IP1_IP1_MODE(link.IPadm.YEAR(admission_date))  \\\n",
       "2018-08-08                                               2018         \n",
       "2018-08-09                                               2018         \n",
       "\n",
       "            IPprevday_IP1_IP1_MODE(link.IPadm.YEAR(discharge_date))  \n",
       "2018-08-08                                               2018        \n",
       "2018-08-09                                               2018        \n",
       "\n",
       "[2 rows x 83 columns]"
      ]
     },
     "execution_count": 26,
     "metadata": {},
     "output_type": "execute_result"
    }
   ],
   "source": [
    "fm.tail(2)"
   ]
  },
  {
   "cell_type": "markdown",
   "metadata": {},
   "source": [
    "get day of week"
   ]
  },
  {
   "cell_type": "code",
   "execution_count": 27,
   "metadata": {},
   "outputs": [],
   "source": [
    "fm['date'] = fm.index\n",
    "fm['dayofweek'] = fm.apply(lambda x : x.date.dayofweek ,axis =1 )\n",
    "fm = fm.drop('date',axis=1)"
   ]
  },
  {
   "cell_type": "code",
   "execution_count": 35,
   "metadata": {},
   "outputs": [
    {
     "data": {
      "text/html": [
       "<div>\n",
       "<style scoped>\n",
       "    .dataframe tbody tr th:only-of-type {\n",
       "        vertical-align: middle;\n",
       "    }\n",
       "\n",
       "    .dataframe tbody tr th {\n",
       "        vertical-align: top;\n",
       "    }\n",
       "\n",
       "    .dataframe thead th {\n",
       "        text-align: right;\n",
       "    }\n",
       "</style>\n",
       "<table border=\"1\" class=\"dataframe\">\n",
       "  <thead>\n",
       "    <tr style=\"text-align: right;\">\n",
       "      <th></th>\n",
       "      <th>callender_DAY(first_EDatt_time)</th>\n",
       "      <th>callender_MONTH(first_EDatt_time)</th>\n",
       "      <th>callender_YEAR(first_EDatt_time)</th>\n",
       "      <th>callender_WEEKEND(first_EDatt_time)</th>\n",
       "      <th>EDmorn_COUNT(EDatt)</th>\n",
       "      <th>EDmorn_MEAN(EDatt.wait_time_total)</th>\n",
       "      <th>EDmorn_MEAN(EDatt.flag_specreq)</th>\n",
       "      <th>EDmorn_MEAN(EDatt.age)</th>\n",
       "      <th>EDmorn_MEAN(EDatt.flag_admission)</th>\n",
       "      <th>EDmorn_STD(EDatt.wait_time_total)</th>\n",
       "      <th>...</th>\n",
       "      <th>IPprevday_IP1_IP1_NUM_UNIQUE(link.IPadm.YEAR(admission_date))</th>\n",
       "      <th>IPprevday_IP1_IP1_NUM_UNIQUE(link.IPadm.YEAR(discharge_date))</th>\n",
       "      <th>IPprevday_IP1_IP1_MODE(link.IPadm.MODE(link.day))</th>\n",
       "      <th>IPprevday_IP1_IP1_MODE(link.IPadm.DAY(admission_date))</th>\n",
       "      <th>IPprevday_IP1_IP1_MODE(link.IPadm.DAY(discharge_date))</th>\n",
       "      <th>IPprevday_IP1_IP1_MODE(link.IPadm.MONTH(admission_date))</th>\n",
       "      <th>IPprevday_IP1_IP1_MODE(link.IPadm.MONTH(discharge_date))</th>\n",
       "      <th>IPprevday_IP1_IP1_MODE(link.IPadm.YEAR(admission_date))</th>\n",
       "      <th>IPprevday_IP1_IP1_MODE(link.IPadm.YEAR(discharge_date))</th>\n",
       "      <th>dayofweek</th>\n",
       "    </tr>\n",
       "  </thead>\n",
       "  <tbody>\n",
       "    <tr>\n",
       "      <th>2013-01-02</th>\n",
       "      <td>2</td>\n",
       "      <td>1</td>\n",
       "      <td>2013</td>\n",
       "      <td>False</td>\n",
       "      <td>24</td>\n",
       "      <td>104.916667</td>\n",
       "      <td>0.833333</td>\n",
       "      <td>45.250000</td>\n",
       "      <td>0.166667</td>\n",
       "      <td>51.839715</td>\n",
       "      <td>...</td>\n",
       "      <td>2</td>\n",
       "      <td>1</td>\n",
       "      <td>2013-01-01</td>\n",
       "      <td>31</td>\n",
       "      <td>2</td>\n",
       "      <td>12</td>\n",
       "      <td>1</td>\n",
       "      <td>2012</td>\n",
       "      <td>2013</td>\n",
       "      <td>2</td>\n",
       "    </tr>\n",
       "    <tr>\n",
       "      <th>2013-01-03</th>\n",
       "      <td>3</td>\n",
       "      <td>1</td>\n",
       "      <td>2013</td>\n",
       "      <td>False</td>\n",
       "      <td>32</td>\n",
       "      <td>157.272727</td>\n",
       "      <td>0.727273</td>\n",
       "      <td>50.781250</td>\n",
       "      <td>0.272727</td>\n",
       "      <td>72.372772</td>\n",
       "      <td>...</td>\n",
       "      <td>2</td>\n",
       "      <td>1</td>\n",
       "      <td>2013-01-02</td>\n",
       "      <td>2</td>\n",
       "      <td>3</td>\n",
       "      <td>12</td>\n",
       "      <td>1</td>\n",
       "      <td>2012</td>\n",
       "      <td>2013</td>\n",
       "      <td>3</td>\n",
       "    </tr>\n",
       "    <tr>\n",
       "      <th>2013-01-04</th>\n",
       "      <td>4</td>\n",
       "      <td>1</td>\n",
       "      <td>2013</td>\n",
       "      <td>False</td>\n",
       "      <td>31</td>\n",
       "      <td>176.916667</td>\n",
       "      <td>0.666667</td>\n",
       "      <td>36.645161</td>\n",
       "      <td>0.375000</td>\n",
       "      <td>65.250632</td>\n",
       "      <td>...</td>\n",
       "      <td>2</td>\n",
       "      <td>1</td>\n",
       "      <td>2013-01-03</td>\n",
       "      <td>2</td>\n",
       "      <td>3</td>\n",
       "      <td>12</td>\n",
       "      <td>1</td>\n",
       "      <td>2012</td>\n",
       "      <td>2013</td>\n",
       "      <td>4</td>\n",
       "    </tr>\n",
       "    <tr>\n",
       "      <th>2013-01-05</th>\n",
       "      <td>5</td>\n",
       "      <td>1</td>\n",
       "      <td>2013</td>\n",
       "      <td>True</td>\n",
       "      <td>30</td>\n",
       "      <td>160.217391</td>\n",
       "      <td>0.695652</td>\n",
       "      <td>39.866667</td>\n",
       "      <td>0.347826</td>\n",
       "      <td>87.252484</td>\n",
       "      <td>...</td>\n",
       "      <td>2</td>\n",
       "      <td>1</td>\n",
       "      <td>2013-01-04</td>\n",
       "      <td>3</td>\n",
       "      <td>4</td>\n",
       "      <td>12</td>\n",
       "      <td>1</td>\n",
       "      <td>2012</td>\n",
       "      <td>2013</td>\n",
       "      <td>5</td>\n",
       "    </tr>\n",
       "    <tr>\n",
       "      <th>2013-01-06</th>\n",
       "      <td>6</td>\n",
       "      <td>1</td>\n",
       "      <td>2013</td>\n",
       "      <td>True</td>\n",
       "      <td>41</td>\n",
       "      <td>171.045455</td>\n",
       "      <td>0.590909</td>\n",
       "      <td>46.682927</td>\n",
       "      <td>0.454545</td>\n",
       "      <td>103.064694</td>\n",
       "      <td>...</td>\n",
       "      <td>2</td>\n",
       "      <td>1</td>\n",
       "      <td>2013-01-05</td>\n",
       "      <td>4</td>\n",
       "      <td>7</td>\n",
       "      <td>12</td>\n",
       "      <td>1</td>\n",
       "      <td>2012</td>\n",
       "      <td>2013</td>\n",
       "      <td>6</td>\n",
       "    </tr>\n",
       "  </tbody>\n",
       "</table>\n",
       "<p>5 rows × 84 columns</p>\n",
       "</div>"
      ],
      "text/plain": [
       "            callender_DAY(first_EDatt_time)  \\\n",
       "2013-01-02                                2   \n",
       "2013-01-03                                3   \n",
       "2013-01-04                                4   \n",
       "2013-01-05                                5   \n",
       "2013-01-06                                6   \n",
       "\n",
       "            callender_MONTH(first_EDatt_time)  \\\n",
       "2013-01-02                                  1   \n",
       "2013-01-03                                  1   \n",
       "2013-01-04                                  1   \n",
       "2013-01-05                                  1   \n",
       "2013-01-06                                  1   \n",
       "\n",
       "            callender_YEAR(first_EDatt_time)  \\\n",
       "2013-01-02                              2013   \n",
       "2013-01-03                              2013   \n",
       "2013-01-04                              2013   \n",
       "2013-01-05                              2013   \n",
       "2013-01-06                              2013   \n",
       "\n",
       "            callender_WEEKEND(first_EDatt_time)  EDmorn_COUNT(EDatt)  \\\n",
       "2013-01-02                                False                   24   \n",
       "2013-01-03                                False                   32   \n",
       "2013-01-04                                False                   31   \n",
       "2013-01-05                                 True                   30   \n",
       "2013-01-06                                 True                   41   \n",
       "\n",
       "            EDmorn_MEAN(EDatt.wait_time_total)  \\\n",
       "2013-01-02                          104.916667   \n",
       "2013-01-03                          157.272727   \n",
       "2013-01-04                          176.916667   \n",
       "2013-01-05                          160.217391   \n",
       "2013-01-06                          171.045455   \n",
       "\n",
       "            EDmorn_MEAN(EDatt.flag_specreq)  EDmorn_MEAN(EDatt.age)  \\\n",
       "2013-01-02                         0.833333               45.250000   \n",
       "2013-01-03                         0.727273               50.781250   \n",
       "2013-01-04                         0.666667               36.645161   \n",
       "2013-01-05                         0.695652               39.866667   \n",
       "2013-01-06                         0.590909               46.682927   \n",
       "\n",
       "            EDmorn_MEAN(EDatt.flag_admission)  \\\n",
       "2013-01-02                           0.166667   \n",
       "2013-01-03                           0.272727   \n",
       "2013-01-04                           0.375000   \n",
       "2013-01-05                           0.347826   \n",
       "2013-01-06                           0.454545   \n",
       "\n",
       "            EDmorn_STD(EDatt.wait_time_total)    ...      \\\n",
       "2013-01-02                          51.839715    ...       \n",
       "2013-01-03                          72.372772    ...       \n",
       "2013-01-04                          65.250632    ...       \n",
       "2013-01-05                          87.252484    ...       \n",
       "2013-01-06                         103.064694    ...       \n",
       "\n",
       "            IPprevday_IP1_IP1_NUM_UNIQUE(link.IPadm.YEAR(admission_date))  \\\n",
       "2013-01-02                                                  2               \n",
       "2013-01-03                                                  2               \n",
       "2013-01-04                                                  2               \n",
       "2013-01-05                                                  2               \n",
       "2013-01-06                                                  2               \n",
       "\n",
       "            IPprevday_IP1_IP1_NUM_UNIQUE(link.IPadm.YEAR(discharge_date))  \\\n",
       "2013-01-02                                                  1               \n",
       "2013-01-03                                                  1               \n",
       "2013-01-04                                                  1               \n",
       "2013-01-05                                                  1               \n",
       "2013-01-06                                                  1               \n",
       "\n",
       "            IPprevday_IP1_IP1_MODE(link.IPadm.MODE(link.day))  \\\n",
       "2013-01-02                                         2013-01-01   \n",
       "2013-01-03                                         2013-01-02   \n",
       "2013-01-04                                         2013-01-03   \n",
       "2013-01-05                                         2013-01-04   \n",
       "2013-01-06                                         2013-01-05   \n",
       "\n",
       "            IPprevday_IP1_IP1_MODE(link.IPadm.DAY(admission_date))  \\\n",
       "2013-01-02                                                 31        \n",
       "2013-01-03                                                  2        \n",
       "2013-01-04                                                  2        \n",
       "2013-01-05                                                  3        \n",
       "2013-01-06                                                  4        \n",
       "\n",
       "            IPprevday_IP1_IP1_MODE(link.IPadm.DAY(discharge_date))  \\\n",
       "2013-01-02                                                  2        \n",
       "2013-01-03                                                  3        \n",
       "2013-01-04                                                  3        \n",
       "2013-01-05                                                  4        \n",
       "2013-01-06                                                  7        \n",
       "\n",
       "            IPprevday_IP1_IP1_MODE(link.IPadm.MONTH(admission_date))  \\\n",
       "2013-01-02                                                 12          \n",
       "2013-01-03                                                 12          \n",
       "2013-01-04                                                 12          \n",
       "2013-01-05                                                 12          \n",
       "2013-01-06                                                 12          \n",
       "\n",
       "            IPprevday_IP1_IP1_MODE(link.IPadm.MONTH(discharge_date))  \\\n",
       "2013-01-02                                                  1          \n",
       "2013-01-03                                                  1          \n",
       "2013-01-04                                                  1          \n",
       "2013-01-05                                                  1          \n",
       "2013-01-06                                                  1          \n",
       "\n",
       "            IPprevday_IP1_IP1_MODE(link.IPadm.YEAR(admission_date))  \\\n",
       "2013-01-02                                               2012         \n",
       "2013-01-03                                               2012         \n",
       "2013-01-04                                               2012         \n",
       "2013-01-05                                               2012         \n",
       "2013-01-06                                               2012         \n",
       "\n",
       "            IPprevday_IP1_IP1_MODE(link.IPadm.YEAR(discharge_date))  dayofweek  \n",
       "2013-01-02                                               2013                2  \n",
       "2013-01-03                                               2013                3  \n",
       "2013-01-04                                               2013                4  \n",
       "2013-01-05                                               2013                5  \n",
       "2013-01-06                                               2013                6  \n",
       "\n",
       "[5 rows x 84 columns]"
      ]
     },
     "execution_count": 35,
     "metadata": {},
     "output_type": "execute_result"
    }
   ],
   "source": [
    "fm.head()"
   ]
  },
  {
   "cell_type": "markdown",
   "metadata": {},
   "source": [
    "# drop pointless features"
   ]
  },
  {
   "cell_type": "code",
   "execution_count": 31,
   "metadata": {},
   "outputs": [
    {
     "name": "stdout",
     "output_type": "stream",
     "text": [
      "[]\n"
     ]
    }
   ],
   "source": [
    "def find_columns_single_value(df):\n",
    "    \"takes df. returns list of columns names which contain all the same value.\"\n",
    "    cols_to_drop = []\n",
    "    for col in df.columns:\n",
    "        col_values_list = df[col].unique()\n",
    "        if len(col_values_list) == 1:\n",
    "            cols_to_drop.append(col)\n",
    "    return(cols_to_drop)\n",
    "\n",
    "single_names = find_columns_single_value(fm)\n",
    "print(single_names)\n",
    "fm = fm.drop(single_names,axis=1)"
   ]
  },
  {
   "cell_type": "code",
   "execution_count": 34,
   "metadata": {},
   "outputs": [
    {
     "data": {
      "text/plain": [
       "[]"
      ]
     },
     "execution_count": 34,
     "metadata": {},
     "output_type": "execute_result"
    }
   ],
   "source": [
    "from utils import find_duplicate_column_names\n",
    "\n",
    "dup_names = find_duplicate_column_names(fm)\n",
    "dup_names"
   ]
  },
  {
   "cell_type": "code",
   "execution_count": null,
   "metadata": {},
   "outputs": [],
   "source": []
  },
  {
   "cell_type": "code",
   "execution_count": null,
   "metadata": {},
   "outputs": [],
   "source": []
  },
  {
   "cell_type": "markdown",
   "metadata": {},
   "source": [
    "# combine features and target"
   ]
  },
  {
   "cell_type": "code",
   "execution_count": 36,
   "metadata": {},
   "outputs": [
    {
     "data": {
      "text/plain": [
       "(2465, 2)"
      ]
     },
     "execution_count": 36,
     "metadata": {},
     "output_type": "execute_result"
    }
   ],
   "source": [
    "target_class.shape"
   ]
  },
  {
   "cell_type": "code",
   "execution_count": 37,
   "metadata": {},
   "outputs": [
    {
     "data": {
      "text/html": [
       "<div>\n",
       "<style scoped>\n",
       "    .dataframe tbody tr th:only-of-type {\n",
       "        vertical-align: middle;\n",
       "    }\n",
       "\n",
       "    .dataframe tbody tr th {\n",
       "        vertical-align: top;\n",
       "    }\n",
       "\n",
       "    .dataframe thead th {\n",
       "        text-align: right;\n",
       "    }\n",
       "</style>\n",
       "<table border=\"1\" class=\"dataframe\">\n",
       "  <thead>\n",
       "    <tr style=\"text-align: right;\">\n",
       "      <th></th>\n",
       "      <th>EDocc</th>\n",
       "      <th>flag_target</th>\n",
       "    </tr>\n",
       "    <tr>\n",
       "      <th>dt_date</th>\n",
       "      <th></th>\n",
       "      <th></th>\n",
       "    </tr>\n",
       "  </thead>\n",
       "  <tbody>\n",
       "    <tr>\n",
       "      <th>2012-01-01</th>\n",
       "      <td>55.750000</td>\n",
       "      <td>1</td>\n",
       "    </tr>\n",
       "    <tr>\n",
       "      <th>2012-01-02</th>\n",
       "      <td>38.541667</td>\n",
       "      <td>0</td>\n",
       "    </tr>\n",
       "  </tbody>\n",
       "</table>\n",
       "</div>"
      ],
      "text/plain": [
       "                EDocc  flag_target\n",
       "dt_date                           \n",
       "2012-01-01  55.750000            1\n",
       "2012-01-02  38.541667            0"
      ]
     },
     "execution_count": 37,
     "metadata": {},
     "output_type": "execute_result"
    }
   ],
   "source": [
    "target_class.head(2)"
   ]
  },
  {
   "cell_type": "markdown",
   "metadata": {},
   "source": [
    "add label"
   ]
  },
  {
   "cell_type": "code",
   "execution_count": 38,
   "metadata": {},
   "outputs": [],
   "source": [
    "df = pd.DataFrame(target_class['flag_target']).merge(fm,right_index=True, left_index=True)"
   ]
  },
  {
   "cell_type": "markdown",
   "metadata": {},
   "source": [
    " note this is possiblr MEAN not max: htink the target is mean"
   ]
  },
  {
   "cell_type": "code",
   "execution_count": 39,
   "metadata": {},
   "outputs": [],
   "source": [
    "EDocc_MAX_prevday = pd.DataFrame(target_class['EDocc']).rename(columns={'EDocc':'EDoccMAX_prevday'})"
   ]
  },
  {
   "cell_type": "code",
   "execution_count": 40,
   "metadata": {},
   "outputs": [],
   "source": [
    "EDocc_MAX_prevday.index = EDocc_MAX_prevday.index.shift(1,'d')"
   ]
  },
  {
   "cell_type": "code",
   "execution_count": 41,
   "metadata": {},
   "outputs": [],
   "source": [
    "df = EDocc_MAX_prevday.merge(df,right_index=True, left_index=True)"
   ]
  },
  {
   "cell_type": "code",
   "execution_count": null,
   "metadata": {},
   "outputs": [],
   "source": []
  },
  {
   "cell_type": "code",
   "execution_count": 42,
   "metadata": {},
   "outputs": [
    {
     "data": {
      "text/html": [
       "<div>\n",
       "<style scoped>\n",
       "    .dataframe tbody tr th:only-of-type {\n",
       "        vertical-align: middle;\n",
       "    }\n",
       "\n",
       "    .dataframe tbody tr th {\n",
       "        vertical-align: top;\n",
       "    }\n",
       "\n",
       "    .dataframe thead th {\n",
       "        text-align: right;\n",
       "    }\n",
       "</style>\n",
       "<table border=\"1\" class=\"dataframe\">\n",
       "  <thead>\n",
       "    <tr style=\"text-align: right;\">\n",
       "      <th></th>\n",
       "      <th>EDoccMAX_prevday</th>\n",
       "      <th>flag_target</th>\n",
       "      <th>callender_DAY(first_EDatt_time)</th>\n",
       "      <th>callender_MONTH(first_EDatt_time)</th>\n",
       "      <th>callender_YEAR(first_EDatt_time)</th>\n",
       "      <th>callender_WEEKEND(first_EDatt_time)</th>\n",
       "      <th>EDmorn_COUNT(EDatt)</th>\n",
       "      <th>EDmorn_MEAN(EDatt.wait_time_total)</th>\n",
       "      <th>EDmorn_MEAN(EDatt.flag_specreq)</th>\n",
       "      <th>EDmorn_MEAN(EDatt.age)</th>\n",
       "      <th>...</th>\n",
       "      <th>IPprevday_IP1_IP1_NUM_UNIQUE(link.IPadm.YEAR(admission_date))</th>\n",
       "      <th>IPprevday_IP1_IP1_NUM_UNIQUE(link.IPadm.YEAR(discharge_date))</th>\n",
       "      <th>IPprevday_IP1_IP1_MODE(link.IPadm.MODE(link.day))</th>\n",
       "      <th>IPprevday_IP1_IP1_MODE(link.IPadm.DAY(admission_date))</th>\n",
       "      <th>IPprevday_IP1_IP1_MODE(link.IPadm.DAY(discharge_date))</th>\n",
       "      <th>IPprevday_IP1_IP1_MODE(link.IPadm.MONTH(admission_date))</th>\n",
       "      <th>IPprevday_IP1_IP1_MODE(link.IPadm.MONTH(discharge_date))</th>\n",
       "      <th>IPprevday_IP1_IP1_MODE(link.IPadm.YEAR(admission_date))</th>\n",
       "      <th>IPprevday_IP1_IP1_MODE(link.IPadm.YEAR(discharge_date))</th>\n",
       "      <th>dayofweek</th>\n",
       "    </tr>\n",
       "  </thead>\n",
       "  <tbody>\n",
       "    <tr>\n",
       "      <th>2013-01-02</th>\n",
       "      <td>43.583333</td>\n",
       "      <td>0</td>\n",
       "      <td>2</td>\n",
       "      <td>1</td>\n",
       "      <td>2013</td>\n",
       "      <td>False</td>\n",
       "      <td>24</td>\n",
       "      <td>104.916667</td>\n",
       "      <td>0.833333</td>\n",
       "      <td>45.25</td>\n",
       "      <td>...</td>\n",
       "      <td>2</td>\n",
       "      <td>1</td>\n",
       "      <td>2013-01-01</td>\n",
       "      <td>31</td>\n",
       "      <td>2</td>\n",
       "      <td>12</td>\n",
       "      <td>1</td>\n",
       "      <td>2012</td>\n",
       "      <td>2013</td>\n",
       "      <td>2</td>\n",
       "    </tr>\n",
       "  </tbody>\n",
       "</table>\n",
       "<p>1 rows × 86 columns</p>\n",
       "</div>"
      ],
      "text/plain": [
       "            EDoccMAX_prevday  flag_target  callender_DAY(first_EDatt_time)  \\\n",
       "2013-01-02         43.583333            0                                2   \n",
       "\n",
       "            callender_MONTH(first_EDatt_time)  \\\n",
       "2013-01-02                                  1   \n",
       "\n",
       "            callender_YEAR(first_EDatt_time)  \\\n",
       "2013-01-02                              2013   \n",
       "\n",
       "            callender_WEEKEND(first_EDatt_time)  EDmorn_COUNT(EDatt)  \\\n",
       "2013-01-02                                False                   24   \n",
       "\n",
       "            EDmorn_MEAN(EDatt.wait_time_total)  \\\n",
       "2013-01-02                          104.916667   \n",
       "\n",
       "            EDmorn_MEAN(EDatt.flag_specreq)  EDmorn_MEAN(EDatt.age)  \\\n",
       "2013-01-02                         0.833333                   45.25   \n",
       "\n",
       "              ...      \\\n",
       "2013-01-02    ...       \n",
       "\n",
       "            IPprevday_IP1_IP1_NUM_UNIQUE(link.IPadm.YEAR(admission_date))  \\\n",
       "2013-01-02                                                  2               \n",
       "\n",
       "            IPprevday_IP1_IP1_NUM_UNIQUE(link.IPadm.YEAR(discharge_date))  \\\n",
       "2013-01-02                                                  1               \n",
       "\n",
       "            IPprevday_IP1_IP1_MODE(link.IPadm.MODE(link.day))  \\\n",
       "2013-01-02                                         2013-01-01   \n",
       "\n",
       "            IPprevday_IP1_IP1_MODE(link.IPadm.DAY(admission_date))  \\\n",
       "2013-01-02                                                 31        \n",
       "\n",
       "            IPprevday_IP1_IP1_MODE(link.IPadm.DAY(discharge_date))  \\\n",
       "2013-01-02                                                  2        \n",
       "\n",
       "            IPprevday_IP1_IP1_MODE(link.IPadm.MONTH(admission_date))  \\\n",
       "2013-01-02                                                 12          \n",
       "\n",
       "            IPprevday_IP1_IP1_MODE(link.IPadm.MONTH(discharge_date))  \\\n",
       "2013-01-02                                                  1          \n",
       "\n",
       "            IPprevday_IP1_IP1_MODE(link.IPadm.YEAR(admission_date))  \\\n",
       "2013-01-02                                               2012         \n",
       "\n",
       "            IPprevday_IP1_IP1_MODE(link.IPadm.YEAR(discharge_date))  dayofweek  \n",
       "2013-01-02                                               2013                2  \n",
       "\n",
       "[1 rows x 86 columns]"
      ]
     },
     "execution_count": 42,
     "metadata": {},
     "output_type": "execute_result"
    }
   ],
   "source": [
    "df.head(1)"
   ]
  },
  {
   "cell_type": "code",
   "execution_count": 43,
   "metadata": {},
   "outputs": [
    {
     "data": {
      "text/plain": [
       "(2046, 86)"
      ]
     },
     "execution_count": 43,
     "metadata": {},
     "output_type": "execute_result"
    }
   ],
   "source": [
    "df.shape"
   ]
  },
  {
   "cell_type": "markdown",
   "metadata": {},
   "source": [
    "# Engineer additional features"
   ]
  },
  {
   "cell_type": "markdown",
   "metadata": {},
   "source": [
    "Proportion of(non-elec / elec +non-elec )IP occupancy at final hour of day."
   ]
  },
  {
   "cell_type": "markdown",
   "metadata": {},
   "source": [
    "df['IPocc_ratio_LAST'] = df['LAST(hourly.IPocc_NonElective)']/df['LAST(hourly.IPocc_elec_nonelec)']"
   ]
  },
  {
   "cell_type": "markdown",
   "metadata": {},
   "source": [
    "df.IPocc_ratio_LAST.plot()"
   ]
  },
  {
   "cell_type": "markdown",
   "metadata": {},
   "source": [
    "IPocc percenrtage"
   ]
  },
  {
   "cell_type": "markdown",
   "metadata": {},
   "source": [
    "interval = 90\n",
    "df['MAX(hourly.IPocc_elec_nonelec)'].plot(figsize=(16,4))\n",
    "df['MAX(hourly.IPocc_elec_nonelec)'].rolling(interval).mean().plot()\n",
    "df['MAX(hourly.IPocc_elec_nonelec)'].rolling(interval).max().plot()"
   ]
  },
  {
   "cell_type": "markdown",
   "metadata": {},
   "source": [
    "df['IPbed_cap_synth'] = df['MAX(hourly.IPocc_elec_nonelec)'].rolling(interval).max()"
   ]
  },
  {
   "cell_type": "markdown",
   "metadata": {},
   "source": [
    "df['IPbed_occupancy'] = df['MAX(hourly.IPocc_elec_nonelec)']/df.IPbed_cap_synth"
   ]
  },
  {
   "cell_type": "markdown",
   "metadata": {},
   "source": [
    "adm - dis IP"
   ]
  },
  {
   "cell_type": "markdown",
   "metadata": {},
   "source": [
    "df['IPadm_minus_dis_elec_nonelec'] = df['SUM(hourly.IPadm_elec_nonelec)'] - df['SUM(hourly.IPdis_elec_nonelec)']"
   ]
  },
  {
   "cell_type": "markdown",
   "metadata": {},
   "source": [
    "# Make lagged features & offset target feature\n",
    "\n",
    "- lagged features\n",
    "- target feature moved forward by 1 day"
   ]
  },
  {
   "cell_type": "markdown",
   "metadata": {},
   "source": [
    "from utils import LaggedFeaturesAll, OffsetTargetVar"
   ]
  },
  {
   "cell_type": "markdown",
   "metadata": {},
   "source": [
    "feature_changes = {'lag':[1,2,3,4,5,6,7],\n",
    "                  'sum':[7],\n",
    "                  'mean':[7,30]}\n",
    "\n",
    "\n",
    "target_changes = {'flag_target':[1]}\n",
    "\n",
    "# create piptleine to create lags in data\n",
    "feature_prep = Pipeline([\n",
    "   # ('LaggedFeature',LaggedFeaturesAll(feature_changes,num_attribs)),\n",
    "    ('OffsetTarget',OffsetTargetVar(target_changes)),\n",
    "])"
   ]
  },
  {
   "cell_type": "markdown",
   "metadata": {},
   "source": [
    "feature_prep.fit_transform(df)\n",
    "df.dropna(inplace=True)"
   ]
  },
  {
   "cell_type": "markdown",
   "metadata": {},
   "source": [
    "# pipeline for data prep"
   ]
  },
  {
   "cell_type": "markdown",
   "metadata": {},
   "source": [
    "#### get data into x,y, test,train"
   ]
  },
  {
   "cell_type": "code",
   "execution_count": 44,
   "metadata": {},
   "outputs": [],
   "source": [
    "from sklearn.pipeline import FeatureUnion\n",
    "from sklearn.pipeline import Pipeline"
   ]
  },
  {
   "cell_type": "code",
   "execution_count": 45,
   "metadata": {},
   "outputs": [
    {
     "data": {
      "text/html": [
       "<div>\n",
       "<style scoped>\n",
       "    .dataframe tbody tr th:only-of-type {\n",
       "        vertical-align: middle;\n",
       "    }\n",
       "\n",
       "    .dataframe tbody tr th {\n",
       "        vertical-align: top;\n",
       "    }\n",
       "\n",
       "    .dataframe thead th {\n",
       "        text-align: right;\n",
       "    }\n",
       "</style>\n",
       "<table border=\"1\" class=\"dataframe\">\n",
       "  <thead>\n",
       "    <tr style=\"text-align: right;\">\n",
       "      <th></th>\n",
       "      <th>EDoccMAX_prevday</th>\n",
       "      <th>flag_target</th>\n",
       "      <th>callender_DAY(first_EDatt_time)</th>\n",
       "      <th>callender_MONTH(first_EDatt_time)</th>\n",
       "      <th>callender_YEAR(first_EDatt_time)</th>\n",
       "      <th>callender_WEEKEND(first_EDatt_time)</th>\n",
       "      <th>EDmorn_COUNT(EDatt)</th>\n",
       "      <th>EDmorn_MEAN(EDatt.wait_time_total)</th>\n",
       "      <th>EDmorn_MEAN(EDatt.flag_specreq)</th>\n",
       "      <th>EDmorn_MEAN(EDatt.age)</th>\n",
       "      <th>...</th>\n",
       "      <th>IPprevday_IP1_IP1_NUM_UNIQUE(link.IPadm.YEAR(admission_date))</th>\n",
       "      <th>IPprevday_IP1_IP1_NUM_UNIQUE(link.IPadm.YEAR(discharge_date))</th>\n",
       "      <th>IPprevday_IP1_IP1_MODE(link.IPadm.MODE(link.day))</th>\n",
       "      <th>IPprevday_IP1_IP1_MODE(link.IPadm.DAY(admission_date))</th>\n",
       "      <th>IPprevday_IP1_IP1_MODE(link.IPadm.DAY(discharge_date))</th>\n",
       "      <th>IPprevday_IP1_IP1_MODE(link.IPadm.MONTH(admission_date))</th>\n",
       "      <th>IPprevday_IP1_IP1_MODE(link.IPadm.MONTH(discharge_date))</th>\n",
       "      <th>IPprevday_IP1_IP1_MODE(link.IPadm.YEAR(admission_date))</th>\n",
       "      <th>IPprevday_IP1_IP1_MODE(link.IPadm.YEAR(discharge_date))</th>\n",
       "      <th>dayofweek</th>\n",
       "    </tr>\n",
       "  </thead>\n",
       "  <tbody>\n",
       "    <tr>\n",
       "      <th>2013-01-02</th>\n",
       "      <td>43.583333</td>\n",
       "      <td>0</td>\n",
       "      <td>2</td>\n",
       "      <td>1</td>\n",
       "      <td>2013</td>\n",
       "      <td>False</td>\n",
       "      <td>24</td>\n",
       "      <td>104.916667</td>\n",
       "      <td>0.833333</td>\n",
       "      <td>45.25</td>\n",
       "      <td>...</td>\n",
       "      <td>2</td>\n",
       "      <td>1</td>\n",
       "      <td>2013-01-01</td>\n",
       "      <td>31</td>\n",
       "      <td>2</td>\n",
       "      <td>12</td>\n",
       "      <td>1</td>\n",
       "      <td>2012</td>\n",
       "      <td>2013</td>\n",
       "      <td>2</td>\n",
       "    </tr>\n",
       "  </tbody>\n",
       "</table>\n",
       "<p>1 rows × 86 columns</p>\n",
       "</div>"
      ],
      "text/plain": [
       "            EDoccMAX_prevday  flag_target  callender_DAY(first_EDatt_time)  \\\n",
       "2013-01-02         43.583333            0                                2   \n",
       "\n",
       "            callender_MONTH(first_EDatt_time)  \\\n",
       "2013-01-02                                  1   \n",
       "\n",
       "            callender_YEAR(first_EDatt_time)  \\\n",
       "2013-01-02                              2013   \n",
       "\n",
       "            callender_WEEKEND(first_EDatt_time)  EDmorn_COUNT(EDatt)  \\\n",
       "2013-01-02                                False                   24   \n",
       "\n",
       "            EDmorn_MEAN(EDatt.wait_time_total)  \\\n",
       "2013-01-02                          104.916667   \n",
       "\n",
       "            EDmorn_MEAN(EDatt.flag_specreq)  EDmorn_MEAN(EDatt.age)  \\\n",
       "2013-01-02                         0.833333                   45.25   \n",
       "\n",
       "              ...      \\\n",
       "2013-01-02    ...       \n",
       "\n",
       "            IPprevday_IP1_IP1_NUM_UNIQUE(link.IPadm.YEAR(admission_date))  \\\n",
       "2013-01-02                                                  2               \n",
       "\n",
       "            IPprevday_IP1_IP1_NUM_UNIQUE(link.IPadm.YEAR(discharge_date))  \\\n",
       "2013-01-02                                                  1               \n",
       "\n",
       "            IPprevday_IP1_IP1_MODE(link.IPadm.MODE(link.day))  \\\n",
       "2013-01-02                                         2013-01-01   \n",
       "\n",
       "            IPprevday_IP1_IP1_MODE(link.IPadm.DAY(admission_date))  \\\n",
       "2013-01-02                                                 31        \n",
       "\n",
       "            IPprevday_IP1_IP1_MODE(link.IPadm.DAY(discharge_date))  \\\n",
       "2013-01-02                                                  2        \n",
       "\n",
       "            IPprevday_IP1_IP1_MODE(link.IPadm.MONTH(admission_date))  \\\n",
       "2013-01-02                                                 12          \n",
       "\n",
       "            IPprevday_IP1_IP1_MODE(link.IPadm.MONTH(discharge_date))  \\\n",
       "2013-01-02                                                  1          \n",
       "\n",
       "            IPprevday_IP1_IP1_MODE(link.IPadm.YEAR(admission_date))  \\\n",
       "2013-01-02                                               2012         \n",
       "\n",
       "            IPprevday_IP1_IP1_MODE(link.IPadm.YEAR(discharge_date))  dayofweek  \n",
       "2013-01-02                                               2013                2  \n",
       "\n",
       "[1 rows x 86 columns]"
      ]
     },
     "execution_count": 45,
     "metadata": {},
     "output_type": "execute_result"
    }
   ],
   "source": [
    "df.head(1)"
   ]
  },
  {
   "cell_type": "code",
   "execution_count": 46,
   "metadata": {},
   "outputs": [],
   "source": [
    "target_col = 'flag_target'"
   ]
  },
  {
   "cell_type": "markdown",
   "metadata": {},
   "source": [
    "df.drop('EDocc',axis=1,inplace=True) # drop column with continuous target variable in !"
   ]
  },
  {
   "cell_type": "code",
   "execution_count": 47,
   "metadata": {},
   "outputs": [],
   "source": [
    "df.reset_index(inplace=True, drop=True) #.rename(columns={'index':'date'})"
   ]
  },
  {
   "cell_type": "code",
   "execution_count": 49,
   "metadata": {},
   "outputs": [
    {
     "name": "stdout",
     "output_type": "stream",
     "text": [
      "DATA POINTS:\n",
      "training:  1681\n",
      "validation:  0\n",
      "testing:  365\n"
     ]
    }
   ],
   "source": [
    "from utils import make_test_train_splits\n",
    "\n",
    "X_test,X_valid,X_train,X_train_valid,y_test,y_valid,y_train,y_train_valid = make_test_train_splits(df,target_col,'flag_target',365,0)"
   ]
  },
  {
   "cell_type": "markdown",
   "metadata": {},
   "source": [
    "#### pipeline: feature selection and scaling"
   ]
  },
  {
   "cell_type": "markdown",
   "metadata": {},
   "source": [
    "drop cols wiht duplicate values"
   ]
  },
  {
   "cell_type": "markdown",
   "metadata": {},
   "source": [
    "from utils import find_duplicate_column_names\n",
    "\n",
    "dup_names = find_duplicate_column_names(df)"
   ]
  },
  {
   "cell_type": "markdown",
   "metadata": {},
   "source": [
    "df.drop(dup_names,axis=1,inplace=True)"
   ]
  },
  {
   "cell_type": "markdown",
   "metadata": {},
   "source": [
    "df.shape"
   ]
  },
  {
   "cell_type": "markdown",
   "metadata": {},
   "source": [
    "drop columns that have high proportion of missing values - unfinished"
   ]
  },
  {
   "cell_type": "markdown",
   "metadata": {},
   "source": [
    "df.isnull().sum()[(df.isnull().sum()/df.shape[0]) > 0.1]"
   ]
  },
  {
   "cell_type": "markdown",
   "metadata": {},
   "source": [
    "drop all mentions of month, weekday, "
   ]
  },
  {
   "cell_type": "code",
   "execution_count": null,
   "metadata": {},
   "outputs": [],
   "source": []
  },
  {
   "cell_type": "code",
   "execution_count": 50,
   "metadata": {},
   "outputs": [],
   "source": [
    "#### a sklearn transformer class to select attributes of interest for each group\n",
    "from sklearn.base import BaseEstimator, TransformerMixin\n",
    "\n",
    "class DataFrameSelector(BaseEstimator,TransformerMixin):\n",
    "    def __init__(self,attribute_names):\n",
    "        self.attribute_names = attribute_names\n",
    "    def fit(self, X, y=None):\n",
    "        return self\n",
    "    def transform(self,X):\n",
    "        return X[self.attribute_names].values"
   ]
  },
  {
   "cell_type": "code",
   "execution_count": 51,
   "metadata": {},
   "outputs": [],
   "source": [
    "#### a sklearn transformer class to select attributes of interest for each group\n",
    "from sklearn.base import BaseEstimator, TransformerMixin\n",
    "\n",
    "class MakeBooleanAnInteger(BaseEstimator,TransformerMixin):\n",
    "    def __init__(self):\n",
    "        return\n",
    "    def fit(self, X, y=None):\n",
    "        return self\n",
    "    def transform(self,X):\n",
    "        return X*1"
   ]
  },
  {
   "cell_type": "code",
   "execution_count": 52,
   "metadata": {},
   "outputs": [],
   "source": [
    "# version 19.2\n",
    "from sklearn.preprocessing import StandardScaler\n",
    "from sklearn.preprocessing import Imputer\n",
    "\n",
    "from sklearn.preprocessing import LabelEncoder\n",
    "from sklearn.preprocessing import OneHotEncoder \n",
    "#from sklearn.preprocessing import OrdinalEncoder\n",
    "\n",
    "from sklearn.feature_selection import SelectKBest\n",
    "from sklearn.feature_selection import f_classif"
   ]
  },
  {
   "cell_type": "markdown",
   "metadata": {},
   "source": [
    "num_attribs,cat_attribs,bin_attribs,typesdf = find_feature_types(df)"
   ]
  },
  {
   "cell_type": "code",
   "execution_count": 53,
   "metadata": {},
   "outputs": [
    {
     "name": "stdout",
     "output_type": "stream",
     "text": [
      "EDoccMAX_prevday\n",
      "flag_target\n",
      "callender_DAY(first_EDatt_time)\n",
      "callender_MONTH(first_EDatt_time)\n",
      "callender_YEAR(first_EDatt_time)\n",
      "callender_WEEKEND(first_EDatt_time)\n",
      "EDmorn_COUNT(EDatt)\n",
      "EDmorn_MEAN(EDatt.wait_time_total)\n",
      "EDmorn_MEAN(EDatt.flag_specreq)\n",
      "EDmorn_MEAN(EDatt.age)\n",
      "EDmorn_MEAN(EDatt.flag_admission)\n",
      "EDmorn_STD(EDatt.wait_time_total)\n",
      "EDmorn_STD(EDatt.flag_specreq)\n",
      "EDmorn_STD(EDatt.age)\n",
      "EDmorn_STD(EDatt.flag_admission)\n",
      "EDmorn_SUM(EDatt.wait_time_total)\n",
      "EDmorn_SUM(EDatt.flag_specreq)\n",
      "EDmorn_SUM(EDatt.age)\n",
      "EDmorn_SUM(EDatt.flag_admission)\n",
      "EDprevday_COUNT(EDatt)\n",
      "EDprevday_MEAN(EDatt.wait_time_total)\n",
      "EDprevday_MEAN(EDatt.flag_specreq)\n",
      "EDprevday_MEAN(EDatt.age)\n",
      "EDprevday_MEAN(EDatt.flag_admission)\n",
      "EDprevday_STD(EDatt.wait_time_total)\n",
      "EDprevday_STD(EDatt.flag_specreq)\n",
      "EDprevday_STD(EDatt.age)\n",
      "EDprevday_STD(EDatt.flag_admission)\n",
      "EDprevday_SUM(EDatt.wait_time_total)\n",
      "EDprevday_SUM(EDatt.flag_specreq)\n",
      "EDprevday_SUM(EDatt.age)\n",
      "EDprevday_SUM(EDatt.flag_admission)\n",
      "IPocc_perc\n",
      "IP_admissions_elec_nonelec\n",
      "IP_discharges_elec_nonelec_PRE12\n",
      "IPprevday_IP1_IP1_COUNT(link)\n",
      "IPprevday_IP1_IP1_NUM_UNIQUE(link.atten_id)\n",
      "IPprevday_IP1_IP1_MODE(link.atten_id)\n",
      "IPprevday_IP1_IP1_SUM(link.IPadm.age_at__admission)\n",
      "IPprevday_IP1_IP1_SUM(link.IPadm.length_of_stay_days)\n",
      "IPprevday_IP1_IP1_SUM(link.IPadm.ward_moves)\n",
      "IPprevday_IP1_IP1_STD(link.IPadm.age_at__admission)\n",
      "IPprevday_IP1_IP1_STD(link.IPadm.length_of_stay_days)\n",
      "IPprevday_IP1_IP1_STD(link.IPadm.ward_moves)\n",
      "IPprevday_IP1_IP1_MAX(link.IPadm.age_at__admission)\n",
      "IPprevday_IP1_IP1_MAX(link.IPadm.length_of_stay_days)\n",
      "IPprevday_IP1_IP1_MAX(link.IPadm.ward_moves)\n",
      "IPprevday_IP1_IP1_SKEW(link.IPadm.age_at__admission)\n",
      "IPprevday_IP1_IP1_SKEW(link.IPadm.length_of_stay_days)\n",
      "IPprevday_IP1_IP1_SKEW(link.IPadm.ward_moves)\n",
      "IPprevday_IP1_IP1_MEAN(link.IPadm.age_at__admission)\n",
      "IPprevday_IP1_IP1_MEAN(link.IPadm.length_of_stay_days)\n",
      "IPprevday_IP1_IP1_MEAN(link.IPadm.ward_moves)\n",
      "IPprevday_IP1_IP1_PERCENT_TRUE(link.WEEKEND(hour))\n",
      "IPprevday_IP1_IP1_NUM_UNIQUE(link.IPadm.gender)\n",
      "IPprevday_IP1_IP1_MODE(link.DAY(hour))\n",
      "IPprevday_IP1_IP1_MODE(link.MONTH(hour))\n",
      "IPprevday_IP1_IP1_MODE(link.YEAR(hour))\n",
      "IPprevday_IP1_IP1_MODE(link.IPadm.gender)\n",
      "IPprevday_IP1_IP1_MODE(link.IPadm.ADM_METHOD_simple)\n",
      "IPprevday_IP1_IP1_SUM(link.IPadm.COUNT(link))\n",
      "IPprevday_IP1_IP1_SUM(link.IPadm.NUM_UNIQUE(link.day))\n",
      "IPprevday_IP1_IP1_STD(link.IPadm.COUNT(link))\n",
      "IPprevday_IP1_IP1_STD(link.IPadm.NUM_UNIQUE(link.day))\n",
      "IPprevday_IP1_IP1_MAX(link.IPadm.COUNT(link))\n",
      "IPprevday_IP1_IP1_MAX(link.IPadm.NUM_UNIQUE(link.day))\n",
      "IPprevday_IP1_IP1_SKEW(link.IPadm.COUNT(link))\n",
      "IPprevday_IP1_IP1_SKEW(link.IPadm.NUM_UNIQUE(link.day))\n",
      "IPprevday_IP1_IP1_MIN(link.IPadm.COUNT(link))\n",
      "IPprevday_IP1_IP1_MEAN(link.IPadm.COUNT(link))\n",
      "IPprevday_IP1_IP1_MEAN(link.IPadm.NUM_UNIQUE(link.day))\n",
      "IPprevday_IP1_IP1_NUM_UNIQUE(link.IPadm.MODE(link.day))\n",
      "IPprevday_IP1_IP1_NUM_UNIQUE(link.IPadm.DAY(admission_date))\n",
      "IPprevday_IP1_IP1_NUM_UNIQUE(link.IPadm.DAY(discharge_date))\n",
      "IPprevday_IP1_IP1_NUM_UNIQUE(link.IPadm.MONTH(admission_date))\n",
      "IPprevday_IP1_IP1_NUM_UNIQUE(link.IPadm.MONTH(discharge_date))\n",
      "IPprevday_IP1_IP1_NUM_UNIQUE(link.IPadm.YEAR(admission_date))\n",
      "IPprevday_IP1_IP1_NUM_UNIQUE(link.IPadm.YEAR(discharge_date))\n",
      "IPprevday_IP1_IP1_MODE(link.IPadm.MODE(link.day))\n",
      "IPprevday_IP1_IP1_MODE(link.IPadm.DAY(admission_date))\n",
      "IPprevday_IP1_IP1_MODE(link.IPadm.DAY(discharge_date))\n",
      "IPprevday_IP1_IP1_MODE(link.IPadm.MONTH(admission_date))\n",
      "IPprevday_IP1_IP1_MODE(link.IPadm.MONTH(discharge_date))\n",
      "IPprevday_IP1_IP1_MODE(link.IPadm.YEAR(admission_date))\n",
      "IPprevday_IP1_IP1_MODE(link.IPadm.YEAR(discharge_date))\n",
      "dayofweek\n"
     ]
    }
   ],
   "source": [
    "for i in df.columns:\n",
    "    print(i)"
   ]
  },
  {
   "cell_type": "code",
   "execution_count": 54,
   "metadata": {},
   "outputs": [
    {
     "data": {
      "text/html": [
       "<div>\n",
       "<style scoped>\n",
       "    .dataframe tbody tr th:only-of-type {\n",
       "        vertical-align: middle;\n",
       "    }\n",
       "\n",
       "    .dataframe tbody tr th {\n",
       "        vertical-align: top;\n",
       "    }\n",
       "\n",
       "    .dataframe thead th {\n",
       "        text-align: right;\n",
       "    }\n",
       "</style>\n",
       "<table border=\"1\" class=\"dataframe\">\n",
       "  <thead>\n",
       "    <tr style=\"text-align: right;\">\n",
       "      <th></th>\n",
       "      <th>EDoccMAX_prevday</th>\n",
       "      <th>flag_target</th>\n",
       "      <th>callender_DAY(first_EDatt_time)</th>\n",
       "      <th>callender_MONTH(first_EDatt_time)</th>\n",
       "      <th>callender_YEAR(first_EDatt_time)</th>\n",
       "      <th>callender_WEEKEND(first_EDatt_time)</th>\n",
       "      <th>EDmorn_COUNT(EDatt)</th>\n",
       "      <th>EDmorn_MEAN(EDatt.wait_time_total)</th>\n",
       "      <th>EDmorn_MEAN(EDatt.flag_specreq)</th>\n",
       "      <th>EDmorn_MEAN(EDatt.age)</th>\n",
       "      <th>...</th>\n",
       "      <th>IPprevday_IP1_IP1_NUM_UNIQUE(link.IPadm.YEAR(admission_date))</th>\n",
       "      <th>IPprevday_IP1_IP1_NUM_UNIQUE(link.IPadm.YEAR(discharge_date))</th>\n",
       "      <th>IPprevday_IP1_IP1_MODE(link.IPadm.MODE(link.day))</th>\n",
       "      <th>IPprevday_IP1_IP1_MODE(link.IPadm.DAY(admission_date))</th>\n",
       "      <th>IPprevday_IP1_IP1_MODE(link.IPadm.DAY(discharge_date))</th>\n",
       "      <th>IPprevday_IP1_IP1_MODE(link.IPadm.MONTH(admission_date))</th>\n",
       "      <th>IPprevday_IP1_IP1_MODE(link.IPadm.MONTH(discharge_date))</th>\n",
       "      <th>IPprevday_IP1_IP1_MODE(link.IPadm.YEAR(admission_date))</th>\n",
       "      <th>IPprevday_IP1_IP1_MODE(link.IPadm.YEAR(discharge_date))</th>\n",
       "      <th>dayofweek</th>\n",
       "    </tr>\n",
       "  </thead>\n",
       "  <tbody>\n",
       "    <tr>\n",
       "      <th>0</th>\n",
       "      <td>43.583333</td>\n",
       "      <td>0</td>\n",
       "      <td>2</td>\n",
       "      <td>1</td>\n",
       "      <td>2013</td>\n",
       "      <td>False</td>\n",
       "      <td>24</td>\n",
       "      <td>104.916667</td>\n",
       "      <td>0.833333</td>\n",
       "      <td>45.250000</td>\n",
       "      <td>...</td>\n",
       "      <td>2</td>\n",
       "      <td>1</td>\n",
       "      <td>2013-01-01</td>\n",
       "      <td>31</td>\n",
       "      <td>2</td>\n",
       "      <td>12</td>\n",
       "      <td>1</td>\n",
       "      <td>2012</td>\n",
       "      <td>2013</td>\n",
       "      <td>2</td>\n",
       "    </tr>\n",
       "    <tr>\n",
       "      <th>1</th>\n",
       "      <td>45.250000</td>\n",
       "      <td>0</td>\n",
       "      <td>3</td>\n",
       "      <td>1</td>\n",
       "      <td>2013</td>\n",
       "      <td>False</td>\n",
       "      <td>32</td>\n",
       "      <td>157.272727</td>\n",
       "      <td>0.727273</td>\n",
       "      <td>50.781250</td>\n",
       "      <td>...</td>\n",
       "      <td>2</td>\n",
       "      <td>1</td>\n",
       "      <td>2013-01-02</td>\n",
       "      <td>2</td>\n",
       "      <td>3</td>\n",
       "      <td>12</td>\n",
       "      <td>1</td>\n",
       "      <td>2012</td>\n",
       "      <td>2013</td>\n",
       "      <td>3</td>\n",
       "    </tr>\n",
       "    <tr>\n",
       "      <th>2</th>\n",
       "      <td>50.708333</td>\n",
       "      <td>0</td>\n",
       "      <td>4</td>\n",
       "      <td>1</td>\n",
       "      <td>2013</td>\n",
       "      <td>False</td>\n",
       "      <td>31</td>\n",
       "      <td>176.916667</td>\n",
       "      <td>0.666667</td>\n",
       "      <td>36.645161</td>\n",
       "      <td>...</td>\n",
       "      <td>2</td>\n",
       "      <td>1</td>\n",
       "      <td>2013-01-03</td>\n",
       "      <td>2</td>\n",
       "      <td>3</td>\n",
       "      <td>12</td>\n",
       "      <td>1</td>\n",
       "      <td>2012</td>\n",
       "      <td>2013</td>\n",
       "      <td>4</td>\n",
       "    </tr>\n",
       "    <tr>\n",
       "      <th>3</th>\n",
       "      <td>38.666667</td>\n",
       "      <td>0</td>\n",
       "      <td>5</td>\n",
       "      <td>1</td>\n",
       "      <td>2013</td>\n",
       "      <td>True</td>\n",
       "      <td>30</td>\n",
       "      <td>160.217391</td>\n",
       "      <td>0.695652</td>\n",
       "      <td>39.866667</td>\n",
       "      <td>...</td>\n",
       "      <td>2</td>\n",
       "      <td>1</td>\n",
       "      <td>2013-01-04</td>\n",
       "      <td>3</td>\n",
       "      <td>4</td>\n",
       "      <td>12</td>\n",
       "      <td>1</td>\n",
       "      <td>2012</td>\n",
       "      <td>2013</td>\n",
       "      <td>5</td>\n",
       "    </tr>\n",
       "    <tr>\n",
       "      <th>4</th>\n",
       "      <td>42.250000</td>\n",
       "      <td>0</td>\n",
       "      <td>6</td>\n",
       "      <td>1</td>\n",
       "      <td>2013</td>\n",
       "      <td>True</td>\n",
       "      <td>41</td>\n",
       "      <td>171.045455</td>\n",
       "      <td>0.590909</td>\n",
       "      <td>46.682927</td>\n",
       "      <td>...</td>\n",
       "      <td>2</td>\n",
       "      <td>1</td>\n",
       "      <td>2013-01-05</td>\n",
       "      <td>4</td>\n",
       "      <td>7</td>\n",
       "      <td>12</td>\n",
       "      <td>1</td>\n",
       "      <td>2012</td>\n",
       "      <td>2013</td>\n",
       "      <td>6</td>\n",
       "    </tr>\n",
       "  </tbody>\n",
       "</table>\n",
       "<p>5 rows × 86 columns</p>\n",
       "</div>"
      ],
      "text/plain": [
       "   EDoccMAX_prevday  flag_target  callender_DAY(first_EDatt_time)  \\\n",
       "0         43.583333            0                                2   \n",
       "1         45.250000            0                                3   \n",
       "2         50.708333            0                                4   \n",
       "3         38.666667            0                                5   \n",
       "4         42.250000            0                                6   \n",
       "\n",
       "   callender_MONTH(first_EDatt_time)  callender_YEAR(first_EDatt_time)  \\\n",
       "0                                  1                              2013   \n",
       "1                                  1                              2013   \n",
       "2                                  1                              2013   \n",
       "3                                  1                              2013   \n",
       "4                                  1                              2013   \n",
       "\n",
       "   callender_WEEKEND(first_EDatt_time)  EDmorn_COUNT(EDatt)  \\\n",
       "0                                False                   24   \n",
       "1                                False                   32   \n",
       "2                                False                   31   \n",
       "3                                 True                   30   \n",
       "4                                 True                   41   \n",
       "\n",
       "   EDmorn_MEAN(EDatt.wait_time_total)  EDmorn_MEAN(EDatt.flag_specreq)  \\\n",
       "0                          104.916667                         0.833333   \n",
       "1                          157.272727                         0.727273   \n",
       "2                          176.916667                         0.666667   \n",
       "3                          160.217391                         0.695652   \n",
       "4                          171.045455                         0.590909   \n",
       "\n",
       "   EDmorn_MEAN(EDatt.age)    ...      \\\n",
       "0               45.250000    ...       \n",
       "1               50.781250    ...       \n",
       "2               36.645161    ...       \n",
       "3               39.866667    ...       \n",
       "4               46.682927    ...       \n",
       "\n",
       "   IPprevday_IP1_IP1_NUM_UNIQUE(link.IPadm.YEAR(admission_date))  \\\n",
       "0                                                  2               \n",
       "1                                                  2               \n",
       "2                                                  2               \n",
       "3                                                  2               \n",
       "4                                                  2               \n",
       "\n",
       "   IPprevday_IP1_IP1_NUM_UNIQUE(link.IPadm.YEAR(discharge_date))  \\\n",
       "0                                                  1               \n",
       "1                                                  1               \n",
       "2                                                  1               \n",
       "3                                                  1               \n",
       "4                                                  1               \n",
       "\n",
       "   IPprevday_IP1_IP1_MODE(link.IPadm.MODE(link.day))  \\\n",
       "0                                         2013-01-01   \n",
       "1                                         2013-01-02   \n",
       "2                                         2013-01-03   \n",
       "3                                         2013-01-04   \n",
       "4                                         2013-01-05   \n",
       "\n",
       "   IPprevday_IP1_IP1_MODE(link.IPadm.DAY(admission_date))  \\\n",
       "0                                                 31        \n",
       "1                                                  2        \n",
       "2                                                  2        \n",
       "3                                                  3        \n",
       "4                                                  4        \n",
       "\n",
       "   IPprevday_IP1_IP1_MODE(link.IPadm.DAY(discharge_date))  \\\n",
       "0                                                  2        \n",
       "1                                                  3        \n",
       "2                                                  3        \n",
       "3                                                  4        \n",
       "4                                                  7        \n",
       "\n",
       "   IPprevday_IP1_IP1_MODE(link.IPadm.MONTH(admission_date))  \\\n",
       "0                                                 12          \n",
       "1                                                 12          \n",
       "2                                                 12          \n",
       "3                                                 12          \n",
       "4                                                 12          \n",
       "\n",
       "   IPprevday_IP1_IP1_MODE(link.IPadm.MONTH(discharge_date))  \\\n",
       "0                                                  1          \n",
       "1                                                  1          \n",
       "2                                                  1          \n",
       "3                                                  1          \n",
       "4                                                  1          \n",
       "\n",
       "   IPprevday_IP1_IP1_MODE(link.IPadm.YEAR(admission_date))  \\\n",
       "0                                               2012         \n",
       "1                                               2012         \n",
       "2                                               2012         \n",
       "3                                               2012         \n",
       "4                                               2012         \n",
       "\n",
       "   IPprevday_IP1_IP1_MODE(link.IPadm.YEAR(discharge_date))  dayofweek  \n",
       "0                                               2013                2  \n",
       "1                                               2013                3  \n",
       "2                                               2013                4  \n",
       "3                                               2013                5  \n",
       "4                                               2013                6  \n",
       "\n",
       "[5 rows x 86 columns]"
      ]
     },
     "execution_count": 54,
     "metadata": {},
     "output_type": "execute_result"
    }
   ],
   "source": [
    "df.head()"
   ]
  },
  {
   "cell_type": "markdown",
   "metadata": {},
   "source": [
    "# manual pick of variables"
   ]
  },
  {
   "cell_type": "code",
   "execution_count": 55,
   "metadata": {},
   "outputs": [
    {
     "data": {
      "text/plain": [
       "1681"
      ]
     },
     "execution_count": 55,
     "metadata": {},
     "output_type": "execute_result"
    }
   ],
   "source": [
    "df.shape[0]-365"
   ]
  },
  {
   "cell_type": "code",
   "execution_count": 56,
   "metadata": {},
   "outputs": [
    {
     "data": {
      "text/plain": [
       "Index(['callender_DAY(first_EDatt_time)', 'callender_MONTH(first_EDatt_time)',\n",
       "       'callender_YEAR(first_EDatt_time)',\n",
       "       'callender_WEEKEND(first_EDatt_time)', 'EDmorn_COUNT(EDatt)',\n",
       "       'EDmorn_MEAN(EDatt.wait_time_total)', 'EDmorn_MEAN(EDatt.flag_specreq)',\n",
       "       'EDmorn_MEAN(EDatt.age)', 'EDmorn_MEAN(EDatt.flag_admission)',\n",
       "       'EDmorn_STD(EDatt.wait_time_total)', 'EDmorn_STD(EDatt.flag_specreq)',\n",
       "       'EDmorn_STD(EDatt.age)', 'EDmorn_STD(EDatt.flag_admission)',\n",
       "       'EDmorn_SUM(EDatt.wait_time_total)', 'EDmorn_SUM(EDatt.flag_specreq)',\n",
       "       'EDmorn_SUM(EDatt.age)', 'EDmorn_SUM(EDatt.flag_admission)',\n",
       "       'EDprevday_COUNT(EDatt)', 'EDprevday_MEAN(EDatt.wait_time_total)',\n",
       "       'EDprevday_MEAN(EDatt.flag_specreq)', 'EDprevday_MEAN(EDatt.age)',\n",
       "       'EDprevday_MEAN(EDatt.flag_admission)',\n",
       "       'EDprevday_STD(EDatt.wait_time_total)',\n",
       "       'EDprevday_STD(EDatt.flag_specreq)', 'EDprevday_STD(EDatt.age)',\n",
       "       'EDprevday_STD(EDatt.flag_admission)',\n",
       "       'EDprevday_SUM(EDatt.wait_time_total)',\n",
       "       'EDprevday_SUM(EDatt.flag_specreq)', 'EDprevday_SUM(EDatt.age)',\n",
       "       'EDprevday_SUM(EDatt.flag_admission)', 'IPocc_perc',\n",
       "       'IP_admissions_elec_nonelec', 'IP_discharges_elec_nonelec_PRE12',\n",
       "       'IPprevday_IP1_IP1_COUNT(link)',\n",
       "       'IPprevday_IP1_IP1_NUM_UNIQUE(link.atten_id)',\n",
       "       'IPprevday_IP1_IP1_MODE(link.atten_id)',\n",
       "       'IPprevday_IP1_IP1_SUM(link.IPadm.age_at__admission)',\n",
       "       'IPprevday_IP1_IP1_SUM(link.IPadm.length_of_stay_days)',\n",
       "       'IPprevday_IP1_IP1_SUM(link.IPadm.ward_moves)',\n",
       "       'IPprevday_IP1_IP1_STD(link.IPadm.age_at__admission)',\n",
       "       'IPprevday_IP1_IP1_STD(link.IPadm.length_of_stay_days)',\n",
       "       'IPprevday_IP1_IP1_STD(link.IPadm.ward_moves)',\n",
       "       'IPprevday_IP1_IP1_MAX(link.IPadm.age_at__admission)',\n",
       "       'IPprevday_IP1_IP1_MAX(link.IPadm.length_of_stay_days)',\n",
       "       'IPprevday_IP1_IP1_MAX(link.IPadm.ward_moves)',\n",
       "       'IPprevday_IP1_IP1_SKEW(link.IPadm.age_at__admission)',\n",
       "       'IPprevday_IP1_IP1_SKEW(link.IPadm.length_of_stay_days)',\n",
       "       'IPprevday_IP1_IP1_SKEW(link.IPadm.ward_moves)',\n",
       "       'IPprevday_IP1_IP1_MEAN(link.IPadm.age_at__admission)',\n",
       "       'IPprevday_IP1_IP1_MEAN(link.IPadm.length_of_stay_days)',\n",
       "       'IPprevday_IP1_IP1_MEAN(link.IPadm.ward_moves)',\n",
       "       'IPprevday_IP1_IP1_PERCENT_TRUE(link.WEEKEND(hour))',\n",
       "       'IPprevday_IP1_IP1_NUM_UNIQUE(link.IPadm.gender)',\n",
       "       'IPprevday_IP1_IP1_MODE(link.DAY(hour))',\n",
       "       'IPprevday_IP1_IP1_MODE(link.MONTH(hour))',\n",
       "       'IPprevday_IP1_IP1_MODE(link.YEAR(hour))',\n",
       "       'IPprevday_IP1_IP1_MODE(link.IPadm.gender)',\n",
       "       'IPprevday_IP1_IP1_MODE(link.IPadm.ADM_METHOD_simple)',\n",
       "       'IPprevday_IP1_IP1_SUM(link.IPadm.COUNT(link))',\n",
       "       'IPprevday_IP1_IP1_SUM(link.IPadm.NUM_UNIQUE(link.day))',\n",
       "       'IPprevday_IP1_IP1_STD(link.IPadm.COUNT(link))',\n",
       "       'IPprevday_IP1_IP1_STD(link.IPadm.NUM_UNIQUE(link.day))',\n",
       "       'IPprevday_IP1_IP1_MAX(link.IPadm.COUNT(link))',\n",
       "       'IPprevday_IP1_IP1_MAX(link.IPadm.NUM_UNIQUE(link.day))',\n",
       "       'IPprevday_IP1_IP1_SKEW(link.IPadm.COUNT(link))',\n",
       "       'IPprevday_IP1_IP1_SKEW(link.IPadm.NUM_UNIQUE(link.day))',\n",
       "       'IPprevday_IP1_IP1_MIN(link.IPadm.COUNT(link))',\n",
       "       'IPprevday_IP1_IP1_MEAN(link.IPadm.COUNT(link))',\n",
       "       'IPprevday_IP1_IP1_MEAN(link.IPadm.NUM_UNIQUE(link.day))',\n",
       "       'IPprevday_IP1_IP1_NUM_UNIQUE(link.IPadm.MODE(link.day))',\n",
       "       'IPprevday_IP1_IP1_NUM_UNIQUE(link.IPadm.DAY(admission_date))',\n",
       "       'IPprevday_IP1_IP1_NUM_UNIQUE(link.IPadm.DAY(discharge_date))',\n",
       "       'IPprevday_IP1_IP1_NUM_UNIQUE(link.IPadm.MONTH(admission_date))',\n",
       "       'IPprevday_IP1_IP1_NUM_UNIQUE(link.IPadm.MONTH(discharge_date))',\n",
       "       'IPprevday_IP1_IP1_NUM_UNIQUE(link.IPadm.YEAR(admission_date))',\n",
       "       'IPprevday_IP1_IP1_NUM_UNIQUE(link.IPadm.YEAR(discharge_date))',\n",
       "       'IPprevday_IP1_IP1_MODE(link.IPadm.MODE(link.day))',\n",
       "       'IPprevday_IP1_IP1_MODE(link.IPadm.DAY(admission_date))',\n",
       "       'IPprevday_IP1_IP1_MODE(link.IPadm.DAY(discharge_date))',\n",
       "       'IPprevday_IP1_IP1_MODE(link.IPadm.MONTH(admission_date))',\n",
       "       'IPprevday_IP1_IP1_MODE(link.IPadm.MONTH(discharge_date))',\n",
       "       'IPprevday_IP1_IP1_MODE(link.IPadm.YEAR(admission_date))',\n",
       "       'IPprevday_IP1_IP1_MODE(link.IPadm.YEAR(discharge_date))', 'dayofweek'],\n",
       "      dtype='object')"
      ]
     },
     "execution_count": 56,
     "metadata": {},
     "output_type": "execute_result"
    }
   ],
   "source": [
    "fm.columns"
   ]
  },
  {
   "cell_type": "markdown",
   "metadata": {},
   "source": [
    "'MIN(hours.NUM_UNIQUE(active_visits.atten_id))',\n",
    "        'MAX(hours.NUM_UNIQUE(active_visits.atten_id))',\n",
    "       ,'MEAN(active_visits.EDatt.age)','SKEW(active_visits.EDatt.age)'"
   ]
  },
  {
   "cell_type": "code",
   "execution_count": 57,
   "metadata": {},
   "outputs": [
    {
     "data": {
      "text/html": [
       "<div>\n",
       "<style scoped>\n",
       "    .dataframe tbody tr th:only-of-type {\n",
       "        vertical-align: middle;\n",
       "    }\n",
       "\n",
       "    .dataframe tbody tr th {\n",
       "        vertical-align: top;\n",
       "    }\n",
       "\n",
       "    .dataframe thead th {\n",
       "        text-align: right;\n",
       "    }\n",
       "</style>\n",
       "<table border=\"1\" class=\"dataframe\">\n",
       "  <thead>\n",
       "    <tr style=\"text-align: right;\">\n",
       "      <th></th>\n",
       "      <th>callender_DAY(first_EDatt_time)</th>\n",
       "      <th>callender_MONTH(first_EDatt_time)</th>\n",
       "      <th>callender_YEAR(first_EDatt_time)</th>\n",
       "      <th>callender_WEEKEND(first_EDatt_time)</th>\n",
       "      <th>EDmorn_COUNT(EDatt)</th>\n",
       "      <th>EDmorn_MEAN(EDatt.wait_time_total)</th>\n",
       "      <th>EDmorn_MEAN(EDatt.flag_specreq)</th>\n",
       "      <th>EDmorn_MEAN(EDatt.age)</th>\n",
       "      <th>EDmorn_MEAN(EDatt.flag_admission)</th>\n",
       "      <th>EDmorn_STD(EDatt.wait_time_total)</th>\n",
       "      <th>...</th>\n",
       "      <th>IPprevday_IP1_IP1_NUM_UNIQUE(link.IPadm.YEAR(admission_date))</th>\n",
       "      <th>IPprevday_IP1_IP1_NUM_UNIQUE(link.IPadm.YEAR(discharge_date))</th>\n",
       "      <th>IPprevday_IP1_IP1_MODE(link.IPadm.MODE(link.day))</th>\n",
       "      <th>IPprevday_IP1_IP1_MODE(link.IPadm.DAY(admission_date))</th>\n",
       "      <th>IPprevday_IP1_IP1_MODE(link.IPadm.DAY(discharge_date))</th>\n",
       "      <th>IPprevday_IP1_IP1_MODE(link.IPadm.MONTH(admission_date))</th>\n",
       "      <th>IPprevday_IP1_IP1_MODE(link.IPadm.MONTH(discharge_date))</th>\n",
       "      <th>IPprevday_IP1_IP1_MODE(link.IPadm.YEAR(admission_date))</th>\n",
       "      <th>IPprevday_IP1_IP1_MODE(link.IPadm.YEAR(discharge_date))</th>\n",
       "      <th>dayofweek</th>\n",
       "    </tr>\n",
       "  </thead>\n",
       "  <tbody>\n",
       "    <tr>\n",
       "      <th>2013-01-02</th>\n",
       "      <td>2</td>\n",
       "      <td>1</td>\n",
       "      <td>2013</td>\n",
       "      <td>False</td>\n",
       "      <td>24</td>\n",
       "      <td>104.916667</td>\n",
       "      <td>0.833333</td>\n",
       "      <td>45.250000</td>\n",
       "      <td>0.166667</td>\n",
       "      <td>51.839715</td>\n",
       "      <td>...</td>\n",
       "      <td>2</td>\n",
       "      <td>1</td>\n",
       "      <td>2013-01-01</td>\n",
       "      <td>31</td>\n",
       "      <td>2</td>\n",
       "      <td>12</td>\n",
       "      <td>1</td>\n",
       "      <td>2012</td>\n",
       "      <td>2013</td>\n",
       "      <td>2</td>\n",
       "    </tr>\n",
       "    <tr>\n",
       "      <th>2013-01-03</th>\n",
       "      <td>3</td>\n",
       "      <td>1</td>\n",
       "      <td>2013</td>\n",
       "      <td>False</td>\n",
       "      <td>32</td>\n",
       "      <td>157.272727</td>\n",
       "      <td>0.727273</td>\n",
       "      <td>50.781250</td>\n",
       "      <td>0.272727</td>\n",
       "      <td>72.372772</td>\n",
       "      <td>...</td>\n",
       "      <td>2</td>\n",
       "      <td>1</td>\n",
       "      <td>2013-01-02</td>\n",
       "      <td>2</td>\n",
       "      <td>3</td>\n",
       "      <td>12</td>\n",
       "      <td>1</td>\n",
       "      <td>2012</td>\n",
       "      <td>2013</td>\n",
       "      <td>3</td>\n",
       "    </tr>\n",
       "    <tr>\n",
       "      <th>2013-01-04</th>\n",
       "      <td>4</td>\n",
       "      <td>1</td>\n",
       "      <td>2013</td>\n",
       "      <td>False</td>\n",
       "      <td>31</td>\n",
       "      <td>176.916667</td>\n",
       "      <td>0.666667</td>\n",
       "      <td>36.645161</td>\n",
       "      <td>0.375000</td>\n",
       "      <td>65.250632</td>\n",
       "      <td>...</td>\n",
       "      <td>2</td>\n",
       "      <td>1</td>\n",
       "      <td>2013-01-03</td>\n",
       "      <td>2</td>\n",
       "      <td>3</td>\n",
       "      <td>12</td>\n",
       "      <td>1</td>\n",
       "      <td>2012</td>\n",
       "      <td>2013</td>\n",
       "      <td>4</td>\n",
       "    </tr>\n",
       "    <tr>\n",
       "      <th>2013-01-05</th>\n",
       "      <td>5</td>\n",
       "      <td>1</td>\n",
       "      <td>2013</td>\n",
       "      <td>True</td>\n",
       "      <td>30</td>\n",
       "      <td>160.217391</td>\n",
       "      <td>0.695652</td>\n",
       "      <td>39.866667</td>\n",
       "      <td>0.347826</td>\n",
       "      <td>87.252484</td>\n",
       "      <td>...</td>\n",
       "      <td>2</td>\n",
       "      <td>1</td>\n",
       "      <td>2013-01-04</td>\n",
       "      <td>3</td>\n",
       "      <td>4</td>\n",
       "      <td>12</td>\n",
       "      <td>1</td>\n",
       "      <td>2012</td>\n",
       "      <td>2013</td>\n",
       "      <td>5</td>\n",
       "    </tr>\n",
       "    <tr>\n",
       "      <th>2013-01-06</th>\n",
       "      <td>6</td>\n",
       "      <td>1</td>\n",
       "      <td>2013</td>\n",
       "      <td>True</td>\n",
       "      <td>41</td>\n",
       "      <td>171.045455</td>\n",
       "      <td>0.590909</td>\n",
       "      <td>46.682927</td>\n",
       "      <td>0.454545</td>\n",
       "      <td>103.064694</td>\n",
       "      <td>...</td>\n",
       "      <td>2</td>\n",
       "      <td>1</td>\n",
       "      <td>2013-01-05</td>\n",
       "      <td>4</td>\n",
       "      <td>7</td>\n",
       "      <td>12</td>\n",
       "      <td>1</td>\n",
       "      <td>2012</td>\n",
       "      <td>2013</td>\n",
       "      <td>6</td>\n",
       "    </tr>\n",
       "  </tbody>\n",
       "</table>\n",
       "<p>5 rows × 84 columns</p>\n",
       "</div>"
      ],
      "text/plain": [
       "            callender_DAY(first_EDatt_time)  \\\n",
       "2013-01-02                                2   \n",
       "2013-01-03                                3   \n",
       "2013-01-04                                4   \n",
       "2013-01-05                                5   \n",
       "2013-01-06                                6   \n",
       "\n",
       "            callender_MONTH(first_EDatt_time)  \\\n",
       "2013-01-02                                  1   \n",
       "2013-01-03                                  1   \n",
       "2013-01-04                                  1   \n",
       "2013-01-05                                  1   \n",
       "2013-01-06                                  1   \n",
       "\n",
       "            callender_YEAR(first_EDatt_time)  \\\n",
       "2013-01-02                              2013   \n",
       "2013-01-03                              2013   \n",
       "2013-01-04                              2013   \n",
       "2013-01-05                              2013   \n",
       "2013-01-06                              2013   \n",
       "\n",
       "            callender_WEEKEND(first_EDatt_time)  EDmorn_COUNT(EDatt)  \\\n",
       "2013-01-02                                False                   24   \n",
       "2013-01-03                                False                   32   \n",
       "2013-01-04                                False                   31   \n",
       "2013-01-05                                 True                   30   \n",
       "2013-01-06                                 True                   41   \n",
       "\n",
       "            EDmorn_MEAN(EDatt.wait_time_total)  \\\n",
       "2013-01-02                          104.916667   \n",
       "2013-01-03                          157.272727   \n",
       "2013-01-04                          176.916667   \n",
       "2013-01-05                          160.217391   \n",
       "2013-01-06                          171.045455   \n",
       "\n",
       "            EDmorn_MEAN(EDatt.flag_specreq)  EDmorn_MEAN(EDatt.age)  \\\n",
       "2013-01-02                         0.833333               45.250000   \n",
       "2013-01-03                         0.727273               50.781250   \n",
       "2013-01-04                         0.666667               36.645161   \n",
       "2013-01-05                         0.695652               39.866667   \n",
       "2013-01-06                         0.590909               46.682927   \n",
       "\n",
       "            EDmorn_MEAN(EDatt.flag_admission)  \\\n",
       "2013-01-02                           0.166667   \n",
       "2013-01-03                           0.272727   \n",
       "2013-01-04                           0.375000   \n",
       "2013-01-05                           0.347826   \n",
       "2013-01-06                           0.454545   \n",
       "\n",
       "            EDmorn_STD(EDatt.wait_time_total)    ...      \\\n",
       "2013-01-02                          51.839715    ...       \n",
       "2013-01-03                          72.372772    ...       \n",
       "2013-01-04                          65.250632    ...       \n",
       "2013-01-05                          87.252484    ...       \n",
       "2013-01-06                         103.064694    ...       \n",
       "\n",
       "            IPprevday_IP1_IP1_NUM_UNIQUE(link.IPadm.YEAR(admission_date))  \\\n",
       "2013-01-02                                                  2               \n",
       "2013-01-03                                                  2               \n",
       "2013-01-04                                                  2               \n",
       "2013-01-05                                                  2               \n",
       "2013-01-06                                                  2               \n",
       "\n",
       "            IPprevday_IP1_IP1_NUM_UNIQUE(link.IPadm.YEAR(discharge_date))  \\\n",
       "2013-01-02                                                  1               \n",
       "2013-01-03                                                  1               \n",
       "2013-01-04                                                  1               \n",
       "2013-01-05                                                  1               \n",
       "2013-01-06                                                  1               \n",
       "\n",
       "            IPprevday_IP1_IP1_MODE(link.IPadm.MODE(link.day))  \\\n",
       "2013-01-02                                         2013-01-01   \n",
       "2013-01-03                                         2013-01-02   \n",
       "2013-01-04                                         2013-01-03   \n",
       "2013-01-05                                         2013-01-04   \n",
       "2013-01-06                                         2013-01-05   \n",
       "\n",
       "            IPprevday_IP1_IP1_MODE(link.IPadm.DAY(admission_date))  \\\n",
       "2013-01-02                                                 31        \n",
       "2013-01-03                                                  2        \n",
       "2013-01-04                                                  2        \n",
       "2013-01-05                                                  3        \n",
       "2013-01-06                                                  4        \n",
       "\n",
       "            IPprevday_IP1_IP1_MODE(link.IPadm.DAY(discharge_date))  \\\n",
       "2013-01-02                                                  2        \n",
       "2013-01-03                                                  3        \n",
       "2013-01-04                                                  3        \n",
       "2013-01-05                                                  4        \n",
       "2013-01-06                                                  7        \n",
       "\n",
       "            IPprevday_IP1_IP1_MODE(link.IPadm.MONTH(admission_date))  \\\n",
       "2013-01-02                                                 12          \n",
       "2013-01-03                                                 12          \n",
       "2013-01-04                                                 12          \n",
       "2013-01-05                                                 12          \n",
       "2013-01-06                                                 12          \n",
       "\n",
       "            IPprevday_IP1_IP1_MODE(link.IPadm.MONTH(discharge_date))  \\\n",
       "2013-01-02                                                  1          \n",
       "2013-01-03                                                  1          \n",
       "2013-01-04                                                  1          \n",
       "2013-01-05                                                  1          \n",
       "2013-01-06                                                  1          \n",
       "\n",
       "            IPprevday_IP1_IP1_MODE(link.IPadm.YEAR(admission_date))  \\\n",
       "2013-01-02                                               2012         \n",
       "2013-01-03                                               2012         \n",
       "2013-01-04                                               2012         \n",
       "2013-01-05                                               2012         \n",
       "2013-01-06                                               2012         \n",
       "\n",
       "            IPprevday_IP1_IP1_MODE(link.IPadm.YEAR(discharge_date))  dayofweek  \n",
       "2013-01-02                                               2013                2  \n",
       "2013-01-03                                               2013                3  \n",
       "2013-01-04                                               2013                4  \n",
       "2013-01-05                                               2013                5  \n",
       "2013-01-06                                               2013                6  \n",
       "\n",
       "[5 rows x 84 columns]"
      ]
     },
     "execution_count": 57,
     "metadata": {},
     "output_type": "execute_result"
    }
   ],
   "source": [
    "fm.head()"
   ]
  },
  {
   "cell_type": "code",
   "execution_count": 58,
   "metadata": {},
   "outputs": [],
   "source": [
    "num_attribs = [\n",
    "'callender_YEAR(first_EDatt_time)',\n",
    "'EDmorn_COUNT(EDatt)',\n",
    "'EDmorn_MEAN(EDatt.wait_time_total)',\n",
    "# 'EDmorn_MEAN(EDatt.flag_specreq)',\n",
    "'EDmorn_MEAN(EDatt.age)',\n",
    "# 'EDmorn_MEAN(EDatt.flag_admission)',\n",
    "# 'EDmorn_STD(EDatt.wait_time_total)',\n",
    "# 'EDmorn_STD(EDatt.flag_specreq)',\n",
    "'EDmorn_STD(EDatt.age)',\n",
    "# 'EDmorn_STD(EDatt.flag_admission)',\n",
    "# 'EDmorn_SUM(EDatt.wait_time_total)',\n",
    "'EDmorn_SUM(EDatt.flag_specreq)',\n",
    "# 'EDmorn_SUM(EDatt.age)',\n",
    "'EDmorn_SUM(EDatt.flag_admission)',\n",
    "'EDprevday_COUNT(EDatt)',\n",
    "# 'EDprevday_MEAN(EDatt.wait_time_total)',\n",
    "# 'EDprevday_MEAN(EDatt.flag_specreq)',\n",
    "'EDprevday_MEAN(EDatt.age)',\n",
    "# 'EDprevday_MEAN(EDatt.flag_admission)',\n",
    "# 'EDprevday_STD(EDatt.wait_time_total)',\n",
    "# 'EDprevday_STD(EDatt.flag_specreq)',\n",
    "# 'EDprevday_STD(EDatt.age)',\n",
    "# 'EDprevday_STD(EDatt.flag_admission)',\n",
    "# 'EDprevday_SUM(EDatt.wait_time_total)',\n",
    "# 'EDprevday_SUM(EDatt.flag_specreq)',\n",
    "# 'EDprevday_SUM(EDatt.age)',\n",
    "'EDprevday_SUM(EDatt.flag_admission)',\n",
    "'IPocc_perc',\n",
    "'IP_admissions_elec_nonelec',\n",
    "# 'IP_discharges_elec_nonelec_PRE12',\n",
    "              \n",
    "              ]\n",
    "\n",
    "cat_attribs = [\n",
    "    'callender_MONTH(first_EDatt_time)',\n",
    "              'dayofweek',\n",
    "]\n",
    "\n",
    "bin_attribs = ['callender_WEEKEND(first_EDatt_time)']"
   ]
  },
  {
   "cell_type": "code",
   "execution_count": 105,
   "metadata": {},
   "outputs": [
    {
     "ename": "KeyError",
     "evalue": "\"['IPprevday_IP1_IP1_MODE(link.IPadm.MODE(link.day))'] not found in axis\"",
     "output_type": "error",
     "traceback": [
      "\u001b[1;31m---------------------------------------------------------------------------\u001b[0m",
      "\u001b[1;31mKeyError\u001b[0m                                  Traceback (most recent call last)",
      "\u001b[1;32m<ipython-input-105-3677bc0cfcc4>\u001b[0m in \u001b[0;36m<module>\u001b[1;34m()\u001b[0m\n\u001b[1;32m----> 1\u001b[1;33m \u001b[0mfm\u001b[0m \u001b[1;33m=\u001b[0m \u001b[0mfm\u001b[0m\u001b[1;33m.\u001b[0m\u001b[0mdrop\u001b[0m\u001b[1;33m(\u001b[0m\u001b[1;34m'IPprevday_IP1_IP1_MODE(link.IPadm.MODE(link.day))'\u001b[0m\u001b[1;33m,\u001b[0m\u001b[0maxis\u001b[0m\u001b[1;33m=\u001b[0m\u001b[1;36m1\u001b[0m\u001b[1;33m)\u001b[0m\u001b[1;33m\u001b[0m\u001b[0m\n\u001b[0m",
      "\u001b[1;32mC:\\Anaconda3\\envs\\ml\\lib\\site-packages\\pandas\\core\\frame.py\u001b[0m in \u001b[0;36mdrop\u001b[1;34m(self, labels, axis, index, columns, level, inplace, errors)\u001b[0m\n\u001b[0;32m   3695\u001b[0m                                            \u001b[0mindex\u001b[0m\u001b[1;33m=\u001b[0m\u001b[0mindex\u001b[0m\u001b[1;33m,\u001b[0m \u001b[0mcolumns\u001b[0m\u001b[1;33m=\u001b[0m\u001b[0mcolumns\u001b[0m\u001b[1;33m,\u001b[0m\u001b[1;33m\u001b[0m\u001b[0m\n\u001b[0;32m   3696\u001b[0m                                            \u001b[0mlevel\u001b[0m\u001b[1;33m=\u001b[0m\u001b[0mlevel\u001b[0m\u001b[1;33m,\u001b[0m \u001b[0minplace\u001b[0m\u001b[1;33m=\u001b[0m\u001b[0minplace\u001b[0m\u001b[1;33m,\u001b[0m\u001b[1;33m\u001b[0m\u001b[0m\n\u001b[1;32m-> 3697\u001b[1;33m                                            errors=errors)\n\u001b[0m\u001b[0;32m   3698\u001b[0m \u001b[1;33m\u001b[0m\u001b[0m\n\u001b[0;32m   3699\u001b[0m     @rewrite_axis_style_signature('mapper', [('copy', True),\n",
      "\u001b[1;32mC:\\Anaconda3\\envs\\ml\\lib\\site-packages\\pandas\\core\\generic.py\u001b[0m in \u001b[0;36mdrop\u001b[1;34m(self, labels, axis, index, columns, level, inplace, errors)\u001b[0m\n\u001b[0;32m   3109\u001b[0m         \u001b[1;32mfor\u001b[0m \u001b[0maxis\u001b[0m\u001b[1;33m,\u001b[0m \u001b[0mlabels\u001b[0m \u001b[1;32min\u001b[0m \u001b[0maxes\u001b[0m\u001b[1;33m.\u001b[0m\u001b[0mitems\u001b[0m\u001b[1;33m(\u001b[0m\u001b[1;33m)\u001b[0m\u001b[1;33m:\u001b[0m\u001b[1;33m\u001b[0m\u001b[0m\n\u001b[0;32m   3110\u001b[0m             \u001b[1;32mif\u001b[0m \u001b[0mlabels\u001b[0m \u001b[1;32mis\u001b[0m \u001b[1;32mnot\u001b[0m \u001b[1;32mNone\u001b[0m\u001b[1;33m:\u001b[0m\u001b[1;33m\u001b[0m\u001b[0m\n\u001b[1;32m-> 3111\u001b[1;33m                 \u001b[0mobj\u001b[0m \u001b[1;33m=\u001b[0m \u001b[0mobj\u001b[0m\u001b[1;33m.\u001b[0m\u001b[0m_drop_axis\u001b[0m\u001b[1;33m(\u001b[0m\u001b[0mlabels\u001b[0m\u001b[1;33m,\u001b[0m \u001b[0maxis\u001b[0m\u001b[1;33m,\u001b[0m \u001b[0mlevel\u001b[0m\u001b[1;33m=\u001b[0m\u001b[0mlevel\u001b[0m\u001b[1;33m,\u001b[0m \u001b[0merrors\u001b[0m\u001b[1;33m=\u001b[0m\u001b[0merrors\u001b[0m\u001b[1;33m)\u001b[0m\u001b[1;33m\u001b[0m\u001b[0m\n\u001b[0m\u001b[0;32m   3112\u001b[0m \u001b[1;33m\u001b[0m\u001b[0m\n\u001b[0;32m   3113\u001b[0m         \u001b[1;32mif\u001b[0m \u001b[0minplace\u001b[0m\u001b[1;33m:\u001b[0m\u001b[1;33m\u001b[0m\u001b[0m\n",
      "\u001b[1;32mC:\\Anaconda3\\envs\\ml\\lib\\site-packages\\pandas\\core\\generic.py\u001b[0m in \u001b[0;36m_drop_axis\u001b[1;34m(self, labels, axis, level, errors)\u001b[0m\n\u001b[0;32m   3141\u001b[0m                 \u001b[0mnew_axis\u001b[0m \u001b[1;33m=\u001b[0m \u001b[0maxis\u001b[0m\u001b[1;33m.\u001b[0m\u001b[0mdrop\u001b[0m\u001b[1;33m(\u001b[0m\u001b[0mlabels\u001b[0m\u001b[1;33m,\u001b[0m \u001b[0mlevel\u001b[0m\u001b[1;33m=\u001b[0m\u001b[0mlevel\u001b[0m\u001b[1;33m,\u001b[0m \u001b[0merrors\u001b[0m\u001b[1;33m=\u001b[0m\u001b[0merrors\u001b[0m\u001b[1;33m)\u001b[0m\u001b[1;33m\u001b[0m\u001b[0m\n\u001b[0;32m   3142\u001b[0m             \u001b[1;32melse\u001b[0m\u001b[1;33m:\u001b[0m\u001b[1;33m\u001b[0m\u001b[0m\n\u001b[1;32m-> 3143\u001b[1;33m                 \u001b[0mnew_axis\u001b[0m \u001b[1;33m=\u001b[0m \u001b[0maxis\u001b[0m\u001b[1;33m.\u001b[0m\u001b[0mdrop\u001b[0m\u001b[1;33m(\u001b[0m\u001b[0mlabels\u001b[0m\u001b[1;33m,\u001b[0m \u001b[0merrors\u001b[0m\u001b[1;33m=\u001b[0m\u001b[0merrors\u001b[0m\u001b[1;33m)\u001b[0m\u001b[1;33m\u001b[0m\u001b[0m\n\u001b[0m\u001b[0;32m   3144\u001b[0m             \u001b[0mresult\u001b[0m \u001b[1;33m=\u001b[0m \u001b[0mself\u001b[0m\u001b[1;33m.\u001b[0m\u001b[0mreindex\u001b[0m\u001b[1;33m(\u001b[0m\u001b[1;33m**\u001b[0m\u001b[1;33m{\u001b[0m\u001b[0maxis_name\u001b[0m\u001b[1;33m:\u001b[0m \u001b[0mnew_axis\u001b[0m\u001b[1;33m}\u001b[0m\u001b[1;33m)\u001b[0m\u001b[1;33m\u001b[0m\u001b[0m\n\u001b[0;32m   3145\u001b[0m \u001b[1;33m\u001b[0m\u001b[0m\n",
      "\u001b[1;32mC:\\Anaconda3\\envs\\ml\\lib\\site-packages\\pandas\\core\\indexes\\base.py\u001b[0m in \u001b[0;36mdrop\u001b[1;34m(self, labels, errors)\u001b[0m\n\u001b[0;32m   4402\u001b[0m             \u001b[1;32mif\u001b[0m \u001b[0merrors\u001b[0m \u001b[1;33m!=\u001b[0m \u001b[1;34m'ignore'\u001b[0m\u001b[1;33m:\u001b[0m\u001b[1;33m\u001b[0m\u001b[0m\n\u001b[0;32m   4403\u001b[0m                 raise KeyError(\n\u001b[1;32m-> 4404\u001b[1;33m                     '{} not found in axis'.format(labels[mask]))\n\u001b[0m\u001b[0;32m   4405\u001b[0m             \u001b[0mindexer\u001b[0m \u001b[1;33m=\u001b[0m \u001b[0mindexer\u001b[0m\u001b[1;33m[\u001b[0m\u001b[1;33m~\u001b[0m\u001b[0mmask\u001b[0m\u001b[1;33m]\u001b[0m\u001b[1;33m\u001b[0m\u001b[0m\n\u001b[0;32m   4406\u001b[0m         \u001b[1;32mreturn\u001b[0m \u001b[0mself\u001b[0m\u001b[1;33m.\u001b[0m\u001b[0mdelete\u001b[0m\u001b[1;33m(\u001b[0m\u001b[0mindexer\u001b[0m\u001b[1;33m)\u001b[0m\u001b[1;33m\u001b[0m\u001b[0m\n",
      "\u001b[1;31mKeyError\u001b[0m: \"['IPprevday_IP1_IP1_MODE(link.IPadm.MODE(link.day))'] not found in axis\""
     ]
    }
   ],
   "source": [
    "fm = fm.drop('IPprevday_IP1_IP1_MODE(link.IPadm.MODE(link.day))',axis=1)"
   ]
  },
  {
   "cell_type": "code",
   "execution_count": 115,
   "metadata": {},
   "outputs": [],
   "source": [
    "fm = fm.drop('IPprevday_IP1_IP1_MODE(link.IPadm.ADM_METHOD_simple)',axis=1)"
   ]
  },
  {
   "cell_type": "code",
   "execution_count": 116,
   "metadata": {},
   "outputs": [],
   "source": [
    "num_attribs = list(set(fm.columns) - set(cat_attribs) - set(bin_attribs))"
   ]
  },
  {
   "cell_type": "markdown",
   "metadata": {},
   "source": [
    "num_attribs = [\n",
    "'callender_YEAR(first_EDatt_time)',\n",
    "'EDmorn_COUNT(EDatt)',\n",
    "'EDmorn_MEAN(EDatt.wait_time_total)',\n",
    "'EDmorn_MEAN(EDatt.flag_specreq)',\n",
    "'EDmorn_MEAN(EDatt.age)',\n",
    "'EDmorn_MEAN(EDatt.flag_admission)',\n",
    "'EDmorn_STD(EDatt.wait_time_total)',\n",
    "'EDmorn_STD(EDatt.flag_specreq)',\n",
    "'EDmorn_STD(EDatt.age)',\n",
    "'EDmorn_STD(EDatt.flag_admission)',\n",
    "'EDmorn_SUM(EDatt.wait_time_total)',\n",
    "'EDmorn_SUM(EDatt.flag_specreq)',\n",
    "'EDmorn_SUM(EDatt.age)',\n",
    "'EDmorn_SUM(EDatt.flag_admission)',\n",
    "'EDprevday_COUNT(EDatt)',\n",
    "'EDprevday_MEAN(EDatt.wait_time_total)',\n",
    "'EDprevday_MEAN(EDatt.flag_specreq)',\n",
    "'EDprevday_MEAN(EDatt.age)',\n",
    "'EDprevday_MEAN(EDatt.flag_admission)',\n",
    "'EDprevday_STD(EDatt.wait_time_total)',\n",
    "'EDprevday_STD(EDatt.flag_specreq)',\n",
    "'EDprevday_STD(EDatt.age)',\n",
    "'EDprevday_STD(EDatt.flag_admission)',\n",
    "'EDprevday_SUM(EDatt.wait_time_total)',\n",
    "'EDprevday_SUM(EDatt.flag_specreq)',\n",
    "'EDprevday_SUM(EDatt.age)',\n",
    "'EDprevday_SUM(EDatt.flag_admission)',\n",
    "'IPocc_perc',\n",
    "'IP_admissions_elec_nonelec',\n",
    "'IP_discharges_elec_nonelec_PRE12',\n",
    "'EDoccMAX_prevday',\n",
    "              \n",
    "              ]\n",
    "\n",
    "cat_attribs = [\n",
    "    'callender_MONTH(first_EDatt_time)',\n",
    "              'dayofweek',\n",
    "]\n",
    "\n",
    "bin_attribs = ['callender_WEEKEND(first_EDatt_time)']"
   ]
  },
  {
   "cell_type": "code",
   "execution_count": 117,
   "metadata": {},
   "outputs": [
    {
     "data": {
      "text/plain": [
       "numpy.int64"
      ]
     },
     "execution_count": 117,
     "metadata": {},
     "output_type": "execute_result"
    }
   ],
   "source": [
    "np.int64"
   ]
  },
  {
   "cell_type": "code",
   "execution_count": 118,
   "metadata": {},
   "outputs": [
    {
     "data": {
      "text/plain": [
       "EDmorn_SUM(EDatt.wait_time_total)                                 float64\n",
       "IPprevday_IP1_IP1_STD(link.IPadm.COUNT(link))                     float64\n",
       "IPprevday_IP1_IP1_MEAN(link.IPadm.age_at__admission)              float64\n",
       "IPprevday_IP1_IP1_NUM_UNIQUE(link.IPadm.MONTH(admission_date))      int64\n",
       "IPprevday_IP1_IP1_NUM_UNIQUE(link.IPadm.YEAR(discharge_date))       int64\n",
       "IPprevday_IP1_IP1_STD(link.IPadm.length_of_stay_days)             float64\n",
       "IPprevday_IP1_IP1_SKEW(link.IPadm.age_at__admission)              float64\n",
       "IPprevday_IP1_IP1_MEAN(link.IPadm.NUM_UNIQUE(link.day))           float64\n",
       "IPprevday_IP1_IP1_SUM(link.IPadm.age_at__admission)                 int64\n",
       "IPprevday_IP1_IP1_MIN(link.IPadm.COUNT(link))                       int64\n",
       "IPprevday_IP1_IP1_NUM_UNIQUE(link.IPadm.DAY(discharge_date))        int64\n",
       "EDprevday_MEAN(EDatt.wait_time_total)                             float64\n",
       "IPprevday_IP1_IP1_SKEW(link.IPadm.ward_moves)                     float64\n",
       "IPprevday_IP1_IP1_NUM_UNIQUE(link.IPadm.DAY(admission_date))        int64\n",
       "EDprevday_MEAN(EDatt.age)                                         float64\n",
       "IPprevday_IP1_IP1_COUNT(link)                                       int64\n",
       "IPprevday_IP1_IP1_SUM(link.IPadm.length_of_stay_days)             float64\n",
       "IPprevday_IP1_IP1_MEAN(link.IPadm.length_of_stay_days)            float64\n",
       "EDprevday_STD(EDatt.wait_time_total)                              float64\n",
       "IPprevday_IP1_IP1_SKEW(link.IPadm.length_of_stay_days)            float64\n",
       "IPprevday_IP1_IP1_NUM_UNIQUE(link.IPadm.MONTH(discharge_date))      int64\n",
       "EDmorn_MEAN(EDatt.flag_specreq)                                   float64\n",
       "EDmorn_STD(EDatt.flag_specreq)                                    float64\n",
       "EDprevday_SUM(EDatt.wait_time_total)                              float64\n",
       "IPprevday_IP1_IP1_MODE(link.IPadm.MONTH(admission_date))            int64\n",
       "IP_admissions_elec_nonelec                                        float64\n",
       "EDmorn_SUM(EDatt.flag_specreq)                                    float64\n",
       "IPprevday_IP1_IP1_MODE(link.MONTH(hour))                            int64\n",
       "IPprevday_IP1_IP1_PERCENT_TRUE(link.WEEKEND(hour))                float64\n",
       "EDprevday_MEAN(EDatt.flag_specreq)                                float64\n",
       "                                                                   ...   \n",
       "EDmorn_MEAN(EDatt.age)                                            float64\n",
       "callender_YEAR(first_EDatt_time)                                    int64\n",
       "IPprevday_IP1_IP1_MODE(link.IPadm.DAY(admission_date))              int64\n",
       "EDmorn_SUM(EDatt.age)                                             float64\n",
       "IP_discharges_elec_nonelec_PRE12                                  float64\n",
       "IPprevday_IP1_IP1_MODE(link.YEAR(hour))                             int64\n",
       "IPprevday_IP1_IP1_MODE(link.IPadm.gender)                           int64\n",
       "IPprevday_IP1_IP1_NUM_UNIQUE(link.IPadm.MODE(link.day))             int64\n",
       "IPprevday_IP1_IP1_STD(link.IPadm.ward_moves)                      float64\n",
       "EDprevday_SUM(EDatt.flag_admission)                               float64\n",
       "EDprevday_STD(EDatt.flag_admission)                               float64\n",
       "IPprevday_IP1_IP1_MODE(link.atten_id)                               int64\n",
       "IPprevday_IP1_IP1_MAX(link.IPadm.NUM_UNIQUE(link.day))              int64\n",
       "IPprevday_IP1_IP1_SKEW(link.IPadm.COUNT(link))                    float64\n",
       "EDmorn_STD(EDatt.wait_time_total)                                 float64\n",
       "IPprevday_IP1_IP1_SUM(link.IPadm.ward_moves)                      float64\n",
       "EDprevday_MEAN(EDatt.flag_admission)                              float64\n",
       "EDmorn_MEAN(EDatt.wait_time_total)                                float64\n",
       "IPprevday_IP1_IP1_MAX(link.IPadm.length_of_stay_days)             float64\n",
       "IPprevday_IP1_IP1_MAX(link.IPadm.COUNT(link))                       int64\n",
       "IPprevday_IP1_IP1_MAX(link.IPadm.age_at__admission)                 int64\n",
       "EDprevday_STD(EDatt.flag_specreq)                                 float64\n",
       "EDmorn_COUNT(EDatt)                                                 int64\n",
       "EDmorn_STD(EDatt.age)                                             float64\n",
       "EDprevday_SUM(EDatt.age)                                          float64\n",
       "IPprevday_IP1_IP1_MODE(link.IPadm.MONTH(discharge_date))            int64\n",
       "EDprevday_SUM(EDatt.flag_specreq)                                 float64\n",
       "EDmorn_SUM(EDatt.flag_admission)                                  float64\n",
       "EDmorn_STD(EDatt.flag_admission)                                  float64\n",
       "IPprevday_IP1_IP1_STD(link.IPadm.NUM_UNIQUE(link.day))            float64\n",
       "Length: 79, dtype: object"
      ]
     },
     "execution_count": 118,
     "metadata": {},
     "output_type": "execute_result"
    }
   ],
   "source": [
    "fm[num_attribs].dtypes"
   ]
  },
  {
   "cell_type": "code",
   "execution_count": 120,
   "metadata": {},
   "outputs": [],
   "source": [
    "num_pipeline = Pipeline([\n",
    "    ('selector',DataFrameSelector(num_attribs)),\n",
    "    ('feature_filter',SelectKBest(f_classif,k='all')),\n",
    "    ('imputer',Imputer(strategy='median')),\n",
    "    ('std_scaler',StandardScaler()),\n",
    "])\n",
    "\n",
    "cat_pipeline = Pipeline([\n",
    "    ('selector',DataFrameSelector(cat_attribs)),\n",
    "    ('imputer',Imputer(strategy='most_frequent')),\n",
    "    ('OneHot_encoder',OneHotEncoder(sparse=False))\n",
    "])\n",
    "\n",
    "bin_pipeline = Pipeline([\n",
    "    ('selector',DataFrameSelector(bin_attribs)),\n",
    "    ('imputer',Imputer(strategy='most_frequent')),\n",
    "    ('boolean_conversion',MakeBooleanAnInteger()),\n",
    "    #('encoding',LabelEncoder()),\n",
    "])\n",
    "\n",
    "full_pipeline = FeatureUnion(transformer_list=[\n",
    "    ('num_pipeline',num_pipeline),\n",
    "  ('cat_pipeline',cat_pipeline),\n",
    " #  ('bin_pipeline',bin_pipeline) \n",
    "])\n",
    "\n",
    "X_trainT = full_pipeline.fit_transform(X_train,y_train)\n",
    "\n",
    "# X_train_validT = full_pipeline.transform(X_train_valid)\n",
    "# X_validT = full_pipeline.transform(X_valid)\n",
    "X_testT = full_pipeline.transform(X_test)"
   ]
  },
  {
   "cell_type": "markdown",
   "metadata": {},
   "source": [
    "# basic model build"
   ]
  },
  {
   "cell_type": "code",
   "execution_count": 121,
   "metadata": {},
   "outputs": [
    {
     "data": {
      "text/plain": [
       "(2046, 86)"
      ]
     },
     "execution_count": 121,
     "metadata": {},
     "output_type": "execute_result"
    }
   ],
   "source": [
    "df.shape"
   ]
  },
  {
   "cell_type": "code",
   "execution_count": 122,
   "metadata": {},
   "outputs": [],
   "source": [
    "from sklearn.metrics import classification_report,precision_score, recall_score, confusion_matrix,accuracy_score\n",
    "from sklearn.metrics import precision_recall_curve,roc_curve\n",
    "from sklearn.model_selection import TimeSeriesSplit\n",
    "from utils import plot_model_perf\n",
    "\n",
    "from sklearn.model_selection import cross_val_predict, cross_val_score, GridSearchCV\n",
    "\n",
    "\n",
    "\n",
    "def find_best_model(model, grid,Xdata,ydata,plot_label):\n",
    "    \"\"\"does gridsearch for model and plots result from \"\"\"\n",
    "    tscv = TimeSeriesSplit(n_splits=2)\n",
    "    my_cv = TimeSeriesSplit(n_splits=2).split(Xdata)\n",
    "    grid_search = GridSearchCV(model,grid,scoring='f1',cv=my_cv,return_train_score=True)\n",
    "    grid_search.fit(Xdata,ydata)\n",
    "    model = grid_search.best_estimator_\n",
    "    print('CV MODEL RESULTS')\n",
    "    print(grid_search.best_params_)\n",
    "    print(pd.DataFrame(grid_search.cv_results_).query('rank_test_score == 1')[['mean_test_score','mean_train_score']])\n",
    "    \n",
    "    plot_model_perf(ydata,Xdata,model,plot_label)\n",
    "\n",
    "    \n",
    "    return(grid_search)\n",
    "    "
   ]
  },
  {
   "cell_type": "markdown",
   "metadata": {},
   "source": [
    "tscv = TimeSeriesSplit(n_splits=5)\n",
    "my_cv = TimeSeriesSplit(n_splits=5).split(X)\n",
    "gsearch = GridSearchCV(estimator=model, cv=my_cv,\n",
    "                        param_grid=param_search)\n",
    "gsearch.fit(X, y)"
   ]
  },
  {
   "cell_type": "markdown",
   "metadata": {},
   "source": [
    "# Model build + tune\n",
    "### regression\n",
    "\n",
    "- just putting more data into model seems to boost performance"
   ]
  },
  {
   "cell_type": "code",
   "execution_count": 123,
   "metadata": {},
   "outputs": [
    {
     "data": {
      "text/plain": [
       "(2046, 86)"
      ]
     },
     "execution_count": 123,
     "metadata": {},
     "output_type": "execute_result"
    }
   ],
   "source": [
    "df.shape"
   ]
  },
  {
   "cell_type": "code",
   "execution_count": 124,
   "metadata": {},
   "outputs": [
    {
     "data": {
      "text/plain": [
       "(1681, 98)"
      ]
     },
     "execution_count": 124,
     "metadata": {},
     "output_type": "execute_result"
    }
   ],
   "source": [
    "X_trainT.shape"
   ]
  },
  {
   "cell_type": "code",
   "execution_count": 125,
   "metadata": {},
   "outputs": [
    {
     "ename": "NameError",
     "evalue": "name 'my_cv' is not defined",
     "output_type": "error",
     "traceback": [
      "\u001b[1;31m---------------------------------------------------------------------------\u001b[0m",
      "\u001b[1;31mNameError\u001b[0m                                 Traceback (most recent call last)",
      "\u001b[1;32m<ipython-input-125-d03183616f12>\u001b[0m in \u001b[0;36m<module>\u001b[1;34m()\u001b[0m\n\u001b[1;32m----> 1\u001b[1;33m \u001b[1;32mfor\u001b[0m \u001b[0mi\u001b[0m\u001b[1;33m,\u001b[0m \u001b[0mj\u001b[0m \u001b[1;32min\u001b[0m \u001b[0mmy_cv\u001b[0m\u001b[1;33m:\u001b[0m\u001b[1;33m\u001b[0m\u001b[0m\n\u001b[0m\u001b[0;32m      2\u001b[0m     \u001b[0mprint\u001b[0m\u001b[1;33m(\u001b[0m\u001b[0mi\u001b[0m\u001b[1;33m,\u001b[0m\u001b[0mj\u001b[0m\u001b[1;33m)\u001b[0m\u001b[1;33m\u001b[0m\u001b[0m\n",
      "\u001b[1;31mNameError\u001b[0m: name 'my_cv' is not defined"
     ]
    }
   ],
   "source": [
    "for i, j in my_cv:\n",
    "    print(i,j)"
   ]
  },
  {
   "cell_type": "code",
   "execution_count": 126,
   "metadata": {},
   "outputs": [
    {
     "name": "stdout",
     "output_type": "stream",
     "text": [
      "CV MODEL RESULTS\n",
      "{'C': 0.2}\n",
      "   mean_test_score  mean_train_score\n",
      "2         0.440527          0.656393\n",
      "accuracy:  0.81\n",
      "precision:  0.44\n",
      "recall:  0.85\n",
      "auc:  0.83\n"
     ]
    },
    {
     "data": {
      "image/png": "[encoded data removed]",
      "text/plain": [
       "<matplotlib.figure.Figure at 0x2023b01cac8>"
      ]
     },
     "metadata": {},
     "output_type": "display_data"
    }
   ],
   "source": [
    "from sklearn.linear_model import LogisticRegression\n",
    "lgr = LogisticRegression(solver='liblinear',class_weight ='balanced')\n",
    "\n",
    "grid = {'C':[0.05, 0.1,0.2,0.3,0.5,0.7,1,10]}\n",
    "#grid = {'C':[0.1]}\n",
    "\n",
    "grid_search = find_best_model(lgr,grid,X_trainT,y_train,'CV set')\n",
    "lgr = grid_search.best_estimator_\n",
    "\n",
    "# grid_search.fit(X_trainT,y_train)\n",
    "# plot_model_perf(y_test,X_testT,grid_search.best_estimator_,'Test')"
   ]
  },
  {
   "cell_type": "code",
   "execution_count": 127,
   "metadata": {},
   "outputs": [
    {
     "name": "stdout",
     "output_type": "stream",
     "text": [
      "CV MODEL RESULTS\n",
      "{'C': 0.2}\n",
      "   mean_test_score  mean_train_score\n",
      "2         0.440527          0.656393\n",
      "accuracy:  0.81\n",
      "precision:  0.44\n",
      "recall:  0.85\n",
      "auc:  0.83\n",
      "accuracy:  0.58\n",
      "precision:  0.27\n",
      "recall:  0.98\n",
      "auc:  0.75\n"
     ]
    },
    {
     "data": {
      "image/png": "[encoded data removed]",
      "text/plain": [
       "<matplotlib.figure.Figure at 0x2023b004ef0>"
      ]
     },
     "metadata": {},
     "output_type": "display_data"
    },
    {
     "data": {
      "image/png": "[encoded data removed]",
      "text/plain": [
       "<matplotlib.figure.Figure at 0x2023a2bcd30>"
      ]
     },
     "metadata": {},
     "output_type": "display_data"
    }
   ],
   "source": [
    "from sklearn.linear_model import LogisticRegression\n",
    "lgr = LogisticRegression(solver='liblinear',class_weight ='balanced')\n",
    "\n",
    "grid = {'C':[0.05, 0.1,0.2,0.3,0.5,0.7,1,10]}\n",
    "#grid = {'C':[0.1]}\n",
    "\n",
    "grid_search = find_best_model(lgr,grid,X_trainT,y_train,'CV set')\n",
    "lgr = grid_search.best_estimator_\n",
    "\n",
    "# grid_search.fit(X_trainT,y_train)\n",
    "plot_model_perf(y_test,X_testT,grid_search.best_estimator_,'Test')"
   ]
  },
  {
   "cell_type": "code",
   "execution_count": null,
   "metadata": {},
   "outputs": [],
   "source": []
  },
  {
   "cell_type": "code",
   "execution_count": null,
   "metadata": {},
   "outputs": [],
   "source": []
  },
  {
   "cell_type": "markdown",
   "metadata": {},
   "source": [
    "# Dev"
   ]
  },
  {
   "cell_type": "code",
   "execution_count": 48,
   "metadata": {},
   "outputs": [
    {
     "name": "stdout",
     "output_type": "stream",
     "text": [
      "TimeSeriesSplit(max_train_size=None, n_splits=5)\n",
      "TRAIN: [0] TEST: [1]\n",
      "TRAIN: [0 1] TEST: [2]\n",
      "TRAIN: [0 1 2] TEST: [3]\n",
      "TRAIN: [0 1 2 3] TEST: [4]\n",
      "TRAIN: [0 1 2 3 4] TEST: [5]\n"
     ]
    }
   ],
   "source": [
    "from sklearn.model_selection import TimeSeriesSplit\n",
    "X = np.array([[1, 2], [3, 4], [1, 2], [3, 4], [1, 2], [3, 4]])\n",
    "y = np.array([1, 2, 3, 4, 5, 6])\n",
    "tscv = TimeSeriesSplit(n_splits=5)\n",
    "print(tscv)  \n",
    "\n",
    "for train_index, test_index in tscv.split(X):\n",
    "   print(\"TRAIN:\", train_index, \"TEST:\", test_index)\n",
    "   X_train, X_test = X[train_index], X[test_index]\n",
    "   y_train, y_test = y[train_index], y[test_index]"
   ]
  },
  {
   "cell_type": "code",
   "execution_count": 44,
   "metadata": {},
   "outputs": [
    {
     "data": {
      "text/plain": [
       "<generator object TimeSeriesSplit.split at 0x000002407BF86518>"
      ]
     },
     "execution_count": 44,
     "metadata": {},
     "output_type": "execute_result"
    }
   ],
   "source": [
    "tscv.split(X)"
   ]
  },
  {
   "cell_type": "code",
   "execution_count": 50,
   "metadata": {},
   "outputs": [
    {
     "ename": "NameError",
     "evalue": "name 'model' is not defined",
     "output_type": "error",
     "traceback": [
      "\u001b[1;31m---------------------------------------------------------------------------\u001b[0m",
      "\u001b[1;31mNameError\u001b[0m                                 Traceback (most recent call last)",
      "\u001b[1;32m<ipython-input-50-b011e21f2da0>\u001b[0m in \u001b[0;36m<module>\u001b[1;34m()\u001b[0m\n\u001b[0;32m     10\u001b[0m \u001b[1;33m\u001b[0m\u001b[0m\n\u001b[0;32m     11\u001b[0m \u001b[0mmy_cv\u001b[0m \u001b[1;33m=\u001b[0m \u001b[0mTimeSeriesSplit\u001b[0m\u001b[1;33m(\u001b[0m\u001b[0mn_splits\u001b[0m\u001b[1;33m=\u001b[0m\u001b[1;36m2\u001b[0m\u001b[1;33m)\u001b[0m\u001b[1;33m.\u001b[0m\u001b[0msplit\u001b[0m\u001b[1;33m(\u001b[0m\u001b[0mX\u001b[0m\u001b[1;33m)\u001b[0m\u001b[1;33m\u001b[0m\u001b[0m\n\u001b[1;32m---> 12\u001b[1;33m gsearch = GridSearchCV(estimator=model, cv=my_cv,\n\u001b[0m\u001b[0;32m     13\u001b[0m                         param_grid=param_search)\n\u001b[0;32m     14\u001b[0m \u001b[0mgsearch\u001b[0m\u001b[1;33m.\u001b[0m\u001b[0mfit\u001b[0m\u001b[1;33m(\u001b[0m\u001b[0mX\u001b[0m\u001b[1;33m,\u001b[0m \u001b[0my\u001b[0m\u001b[1;33m)\u001b[0m\u001b[1;33m\u001b[0m\u001b[0m\n",
      "\u001b[1;31mNameError\u001b[0m: name 'model' is not defined"
     ]
    }
   ],
   "source": [
    "# import xgboost as xgb\n",
    "from sklearn.model_selection import TimeSeriesSplit, GridSearchCV\n",
    "import numpy as np\n",
    "X = np.array([[4, 5, 6, 1, 0, 2], [3.1, 3.5, 1.0, 2.1, 8.3, 1.1]]).T\n",
    "y = np.array([1, 6, 7, 1, 2, 3])\n",
    "tscv = TimeSeriesSplit(n_splits=2)\n",
    "\n",
    "# model = xgb.XGBRegressor()\n",
    "# param_search = {'max_depth' : [3, 5]}\n",
    "tscv = TimeSeriesSplit(n_splits=2)\n",
    "my_cv = TimeSeriesSplit(n_splits=2).split(X)\n",
    "gsearch = GridSearchCV(estimator=model, cv=my_cv,\n",
    "                        param_grid=param_search)\n",
    "gsearch.fit(X, y)"
   ]
  },
  {
   "cell_type": "code",
   "execution_count": null,
   "metadata": {},
   "outputs": [],
   "source": []
  },
  {
   "cell_type": "code",
   "execution_count": 37,
   "metadata": {},
   "outputs": [
    {
     "name": "stdout",
     "output_type": "stream",
     "text": [
      "CV MODEL RESULTS\n",
      "{'C': 0.7}\n",
      "   mean_test_score  mean_train_score\n",
      "5         0.556513          0.590606\n",
      "accuracy:  0.82\n",
      "precision:  0.45\n",
      "recall:  0.84\n",
      "auc:  0.83\n"
     ]
    },
    {
     "data": {
      "image/png": "[encoded data removed]",
      "text/plain": [
       "<matplotlib.figure.Figure at 0x1c3a9a43828>"
      ]
     },
     "metadata": {},
     "output_type": "display_data"
    }
   ],
   "source": [
    "from sklearn.linear_model import LogisticRegression\n",
    "lgr = LogisticRegression(solver='liblinear',class_weight ='balanced')\n",
    "\n",
    "grid = {'C':[0.05, 0.1,0.2,0.3,0.5,0.7,1,10]}\n",
    "#grid = {'C':[0.1]}\n",
    "\n",
    "grid_search = find_best_model(lgr,grid,X_trainT,y_train,'CV set')\n",
    "lgr = grid_search.best_estimator_\n",
    "\n",
    "# grid_search.fit(X_trainT,y_train)\n",
    "# plot_model_perf(y_test,X_testT,grid_search.best_estimator_,'Test')"
   ]
  },
  {
   "cell_type": "code",
   "execution_count": 38,
   "metadata": {},
   "outputs": [
    {
     "name": "stdout",
     "output_type": "stream",
     "text": [
      "CV MODEL RESULTS\n",
      "{'C': 1}\n",
      "   mean_test_score  mean_train_score\n",
      "6         0.552451          0.628499\n",
      "accuracy:  0.91\n",
      "precision:  0.77\n",
      "recall:  0.52\n",
      "auc:  0.75\n"
     ]
    },
    {
     "data": {
      "image/png": "[encoded data removed]",
      "text/plain": [
       "<matplotlib.figure.Figure at 0x1c3a9cf6eb8>"
      ]
     },
     "metadata": {},
     "output_type": "display_data"
    }
   ],
   "source": [
    "from sklearn.linear_model import LogisticRegression\n",
    "lgr = LogisticRegression(solver='liblinear',class_weight =None)\n",
    "\n",
    "grid = {'C':[0.05, 0.1,0.2,0.3,0.5,0.7,1,10]}\n",
    "#grid = {'C':[0.1]}\n",
    "\n",
    "grid_search = find_best_model(lgr,grid,X_trainT,y_train,'CV set')\n",
    "lgr = grid_search.best_estimator_\n",
    "\n",
    "# grid_search.fit(X_trainT,y_train)\n",
    "# plot_model_perf(y_test,X_testT,grid_search.best_estimator_,'Test')"
   ]
  },
  {
   "cell_type": "code",
   "execution_count": 39,
   "metadata": {},
   "outputs": [
    {
     "name": "stdout",
     "output_type": "stream",
     "text": [
      "CV MODEL RESULTS\n",
      "{'C': 0.7}\n",
      "   mean_test_score  mean_train_score\n",
      "5         0.556513          0.590606\n",
      "accuracy:  0.82\n",
      "precision:  0.45\n",
      "recall:  0.84\n",
      "auc:  0.83\n"
     ]
    },
    {
     "data": {
      "image/png": "[encoded data removed]",
      "text/plain": [
       "<matplotlib.figure.Figure at 0x1db18f49e80>"
      ]
     },
     "metadata": {},
     "output_type": "display_data"
    }
   ],
   "source": [
    "from sklearn.linear_model import LogisticRegression\n",
    "lgr = LogisticRegression(solver='liblinear',class_weight ='balanced')\n",
    "\n",
    "grid = {'C':[0.05, 0.1,0.2,0.3,0.5,0.7,1,10]}\n",
    "#grid = {'C':[0.1]}\n",
    "\n",
    "grid_search = find_best_model(lgr,grid,X_trainT,y_train,'CV set')\n",
    "lgr = grid_search.best_estimator_\n",
    "\n",
    "# grid_search.fit(X_trainT,y_train)\n",
    "# plot_model_perf(y_test,X_testT,grid_search.best_estimator_,'Test')"
   ]
  },
  {
   "cell_type": "code",
   "execution_count": null,
   "metadata": {},
   "outputs": [],
   "source": []
  },
  {
   "cell_type": "markdown",
   "metadata": {},
   "source": [
    "## Attempt with kfold set to see if any difference in perf\n",
    "\n",
    "- using CV seems to get better performance in test set (improvments)"
   ]
  },
  {
   "cell_type": "code",
   "execution_count": 72,
   "metadata": {},
   "outputs": [
    {
     "name": "stdout",
     "output_type": "stream",
     "text": [
      "DATA POINTS:\n",
      "training:  1733\n",
      "validation:  0\n",
      "testing:  365\n"
     ]
    }
   ],
   "source": [
    "from utils import make_test_train_splits\n",
    "\n",
    "X_test,X_valid,X_train,X_train_valid,y_test,y_valid,y_train,y_train_valid = make_test_train_splits(df,target_col,'flag_target',365,0)"
   ]
  },
  {
   "cell_type": "markdown",
   "metadata": {},
   "source": [
    "from sklearn.model_selection import train_test_split\n",
    "\n",
    "# X = df\n",
    "# y = df.pop('flag_target')\n",
    "\n",
    "X_train, X_valid, y_train, y_valid = train_test_split(X_train, y_train, test_size=0.2)#, random_state=42)"
   ]
  },
  {
   "cell_type": "code",
   "execution_count": 74,
   "metadata": {},
   "outputs": [],
   "source": [
    "num_pipeline = Pipeline([\n",
    "    ('selector',DataFrameSelector(num_attribs)),\n",
    "    ('feature_filter',SelectKBest(f_classif,k='all')),\n",
    "    ('imputer',Imputer(strategy='median')),\n",
    "    ('std_scaler',StandardScaler()),\n",
    "])\n",
    "\n",
    "cat_pipeline = Pipeline([\n",
    "    ('selector',DataFrameSelector(cat_attribs)),\n",
    "    ('imputer',Imputer(strategy='most_frequent')),\n",
    "    ('OneHot_encoder',OneHotEncoder(sparse=False))\n",
    "])\n",
    "\n",
    "bin_pipeline = Pipeline([\n",
    "    ('selector',DataFrameSelector(bin_attribs)),\n",
    "    ('imputer',Imputer(strategy='most_frequent')),\n",
    "    ('boolean_conversion',MakeBooleanAnInteger()),\n",
    "    #('encoding',LabelEncoder()),\n",
    "])\n",
    "\n",
    "full_pipeline = FeatureUnion(transformer_list=[\n",
    "    ('num_pipeline',num_pipeline),\n",
    "  ('cat_pipeline',cat_pipeline),\n",
    " #  ('bin_pipeline',bin_pipeline) \n",
    "])\n",
    "\n",
    "X_trainT = full_pipeline.fit_transform(X_train,y_train)\n",
    "\n",
    "# X_train_validT = full_pipeline.transform(X_train_valid)\n",
    "# X_validT = full_pipeline.transform(X_valid)\n",
    "X_testT = full_pipeline.transform(X_test)"
   ]
  },
  {
   "cell_type": "code",
   "execution_count": 75,
   "metadata": {},
   "outputs": [
    {
     "name": "stdout",
     "output_type": "stream",
     "text": [
      "CV MODEL RESULTS\n",
      "{'C': 0.1}\n",
      "   mean_test_score  mean_train_score\n",
      "1         0.526624          0.562775\n",
      "accuracy:  0.9\n",
      "precision:  0.75\n",
      "recall:  0.45\n",
      "auc:  0.71\n"
     ]
    },
    {
     "data": {
      "image/png": "[encoded data removed]",
      "text/plain": [
       "<matplotlib.figure.Figure at 0x1db1aa7edd8>"
      ]
     },
     "metadata": {},
     "output_type": "display_data"
    }
   ],
   "source": [
    "from sklearn.linear_model import LogisticRegression\n",
    "lgr = LogisticRegression(solver='liblinear',class_weight =None)\n",
    "\n",
    "grid = {'C':[0.05, 0.1,0.2,0.3,0.5,0.7,1,10]}\n",
    "#grid = {'C':[0.1]}\n",
    "\n",
    "grid_search = find_best_model(lgr,grid,X_trainT,y_train,'CV set')\n",
    "lgr = grid_search.best_estimator_\n",
    "\n",
    "# grid_search.fit(X_trainT,y_train)\n",
    "# plot_model_perf(y_test,X_testT,grid_search.best_estimator_,'Test')"
   ]
  },
  {
   "cell_type": "code",
   "execution_count": 77,
   "metadata": {},
   "outputs": [
    {
     "name": "stdout",
     "output_type": "stream",
     "text": [
      "CV MODEL RESULTS\n",
      "{'C': 0.1}\n",
      "   mean_test_score  mean_train_score\n",
      "1         0.526624          0.562775\n",
      "accuracy:  0.9\n",
      "precision:  0.75\n",
      "recall:  0.45\n",
      "auc:  0.71\n",
      "accuracy:  0.92\n",
      "precision:  0.78\n",
      "recall:  0.66\n",
      "auc:  0.81\n"
     ]
    },
    {
     "data": {
      "image/png": "[encoded data removed]",
      "text/plain": [
       "<matplotlib.figure.Figure at 0x1db1aa42e80>"
      ]
     },
     "metadata": {},
     "output_type": "display_data"
    },
    {
     "data": {
      "image/png": "[encoded data removed]",
      "text/plain": [
       "<matplotlib.figure.Figure at 0x1db1aa9f748>"
      ]
     },
     "metadata": {},
     "output_type": "display_data"
    }
   ],
   "source": [
    "from sklearn.linear_model import LogisticRegression\n",
    "lgr = LogisticRegression(solver='liblinear',class_weight =None)\n",
    "\n",
    "grid = {'C':[0.05, 0.1,0.2,0.3,0.5,0.7,1,10]}\n",
    "#grid = {'C':[0.1]}\n",
    "\n",
    "grid_search = find_best_model(lgr,grid,X_trainT,y_train,'CV set')\n",
    "lgr = grid_search.best_estimator_\n",
    "\n",
    "grid_search.fit(X_trainT,y_train)\n",
    "plot_model_perf(y_test,X_testT,grid_search.best_estimator_,'Test')"
   ]
  },
  {
   "cell_type": "code",
   "execution_count": null,
   "metadata": {},
   "outputs": [],
   "source": []
  },
  {
   "cell_type": "code",
   "execution_count": null,
   "metadata": {},
   "outputs": [],
   "source": []
  },
  {
   "cell_type": "markdown",
   "metadata": {},
   "source": [
    "## Using more recent data only\n",
    "\n",
    "- accuracy and ROC are increasing with more data!"
   ]
  },
  {
   "cell_type": "code",
   "execution_count": 101,
   "metadata": {},
   "outputs": [
    {
     "data": {
      "text/plain": [
       "array([-1.38204095, -1.5238513 , -2.57234599,  0.79305209,  0.77604285,\n",
       "       -1.02523076, -1.37550578, -0.46621314,  0.73983692, -0.80796676,\n",
       "       -1.88588797, -0.78366605, -1.24548325, -1.29653812,  1.60579135,\n",
       "       -1.47870446,  1.14686126, -0.45522531, -0.60029134, -0.02956503,\n",
       "       -1.18703626, -0.36393712, -0.49127564, -0.20864327,  1.96611451,\n",
       "        1.32252245,  0.79192399, -2.46480462, -1.40561106, -0.80991869,\n",
       "       -0.45922303,  1.        ,  0.        ,  0.        ,  0.        ,\n",
       "        0.        ,  0.        ,  0.        ,  0.        ,  0.        ,\n",
       "        0.        ,  0.        ,  0.        ,  0.        ,  0.        ,\n",
       "        1.        ,  0.        ,  0.        ,  0.        ,  0.        ])"
      ]
     },
     "execution_count": 101,
     "metadata": {},
     "output_type": "execute_result"
    }
   ],
   "source": [
    "X_trainT[0]"
   ]
  },
  {
   "cell_type": "code",
   "execution_count": 102,
   "metadata": {},
   "outputs": [
    {
     "data": {
      "text/plain": [
       "array([-1.38204095, -0.56472503, -0.52655269, -0.11173573,  1.88737462,\n",
       "       -0.13686788, -0.17115923,  0.47225026,  2.28067964,  0.30431652,\n",
       "       -1.40691042, -1.22560984,  0.34431825, -0.89516253, -0.34952123,\n",
       "        0.24510365, -0.41195642,  0.44185246, -0.33396447, -0.07322384,\n",
       "        0.50696712,  0.24753011, -0.15582022, -0.0639781 , -0.48095093,\n",
       "       -0.11123661, -0.50756454, -0.72866707,  1.13888783, -0.80991869,\n",
       "       -0.22978198,  1.        ,  0.        ,  0.        ,  0.        ,\n",
       "        0.        ,  0.        ,  0.        ,  0.        ,  0.        ,\n",
       "        0.        ,  0.        ,  0.        ,  0.        ,  0.        ,\n",
       "        0.        ,  1.        ,  0.        ,  0.        ,  0.        ])"
      ]
     },
     "execution_count": 102,
     "metadata": {},
     "output_type": "execute_result"
    }
   ],
   "source": [
    "X_trainT[1]"
   ]
  },
  {
   "cell_type": "code",
   "execution_count": 132,
   "metadata": {},
   "outputs": [],
   "source": [
    "i = 1600 #sample size\n",
    "X_trainTf = X_trainT[-i:]\n",
    "y_trainf = y_train[-i:]"
   ]
  },
  {
   "cell_type": "code",
   "execution_count": 133,
   "metadata": {},
   "outputs": [
    {
     "data": {
      "text/plain": [
       "(1733, 50)"
      ]
     },
     "execution_count": 133,
     "metadata": {},
     "output_type": "execute_result"
    }
   ],
   "source": [
    "X_trainT.shape"
   ]
  },
  {
   "cell_type": "code",
   "execution_count": 134,
   "metadata": {},
   "outputs": [
    {
     "data": {
      "text/plain": [
       "(1600, 50)"
      ]
     },
     "execution_count": 134,
     "metadata": {},
     "output_type": "execute_result"
    }
   ],
   "source": [
    "X_trainTf.shape"
   ]
  },
  {
   "cell_type": "code",
   "execution_count": 135,
   "metadata": {},
   "outputs": [
    {
     "data": {
      "text/plain": [
       "(1600,)"
      ]
     },
     "execution_count": 135,
     "metadata": {},
     "output_type": "execute_result"
    }
   ],
   "source": [
    "y_trainf.shape"
   ]
  },
  {
   "cell_type": "code",
   "execution_count": 136,
   "metadata": {},
   "outputs": [
    {
     "name": "stdout",
     "output_type": "stream",
     "text": [
      "CV MODEL RESULTS\n",
      "{'C': 0.2}\n",
      "   mean_test_score  mean_train_score\n",
      "2         0.441072          0.547625\n",
      "accuracy:  0.9\n",
      "precision:  0.75\n",
      "recall:  0.4\n",
      "auc:  0.69\n",
      "accuracy:  0.91\n",
      "precision:  0.74\n",
      "recall:  0.69\n",
      "auc:  0.82\n"
     ]
    },
    {
     "data": {
      "image/png": "[encoded data removed]",
      "text/plain": [
       "<matplotlib.figure.Figure at 0x1db1ad4ff28>"
      ]
     },
     "metadata": {},
     "output_type": "display_data"
    },
    {
     "data": {
      "image/png": "[encoded data removed]",
      "text/plain": [
       "<matplotlib.figure.Figure at 0x1db191b4b70>"
      ]
     },
     "metadata": {},
     "output_type": "display_data"
    }
   ],
   "source": [
    "from sklearn.linear_model import LogisticRegression\n",
    "lgr = LogisticRegression(solver='liblinear',class_weight =None)\n",
    "\n",
    "grid = {'C':[0.05, 0.1,0.2,0.3,0.5,0.7,1,10]}\n",
    "#grid = {'C':[0.1]}\n",
    "\n",
    "grid_search = find_best_model(lgr,grid,X_trainTf,y_trainf,'CV set')\n",
    "lgr = grid_search.best_estimator_\n",
    "\n",
    "grid_search.fit(X_trainTf,y_trainf)\n",
    "plot_model_perf(y_test,X_testT,grid_search.best_estimator_,'Test')"
   ]
  },
  {
   "cell_type": "code",
   "execution_count": null,
   "metadata": {},
   "outputs": [],
   "source": []
  },
  {
   "cell_type": "code",
   "execution_count": null,
   "metadata": {},
   "outputs": [],
   "source": []
  },
  {
   "cell_type": "code",
   "execution_count": null,
   "metadata": {},
   "outputs": [],
   "source": []
  },
  {
   "cell_type": "code",
   "execution_count": null,
   "metadata": {},
   "outputs": [],
   "source": []
  },
  {
   "cell_type": "code",
   "execution_count": null,
   "metadata": {},
   "outputs": [],
   "source": []
  },
  {
   "cell_type": "code",
   "execution_count": null,
   "metadata": {},
   "outputs": [],
   "source": []
  },
  {
   "cell_type": "code",
   "execution_count": null,
   "metadata": {},
   "outputs": [],
   "source": [
    "from utils import DataFrameRebuild"
   ]
  },
  {
   "cell_type": "code",
   "execution_count": null,
   "metadata": {},
   "outputs": [],
   "source": [
    "break"
   ]
  },
  {
   "cell_type": "code",
   "execution_count": null,
   "metadata": {},
   "outputs": [],
   "source": []
  },
  {
   "cell_type": "code",
   "execution_count": null,
   "metadata": {},
   "outputs": [],
   "source": [
    "cols_list = DataFrameRebuild(X_train,X_trainT,num_attribs=num_attribs,bin_attribs=bin_attribs).columns"
   ]
  },
  {
   "cell_type": "code",
   "execution_count": null,
   "metadata": {},
   "outputs": [],
   "source": [
    "lgr.coef_"
   ]
  },
  {
   "cell_type": "code",
   "execution_count": null,
   "metadata": {},
   "outputs": [],
   "source": [
    "cols_list.shape"
   ]
  },
  {
   "cell_type": "code",
   "execution_count": null,
   "metadata": {},
   "outputs": [],
   "source": [
    "pd.DataFrame(index=cols_list,data=lgr.coef_)"
   ]
  },
  {
   "cell_type": "code",
   "execution_count": null,
   "metadata": {},
   "outputs": [],
   "source": []
  },
  {
   "cell_type": "code",
   "execution_count": null,
   "metadata": {},
   "outputs": [],
   "source": [
    "plot_model_perf(y_valid,X_validT,lgr,'Valid')"
   ]
  },
  {
   "cell_type": "code",
   "execution_count": null,
   "metadata": {},
   "outputs": [],
   "source": [
    "plot_model_perf(y_test,X_testT,lgr,'Test')"
   ]
  },
  {
   "cell_type": "code",
   "execution_count": null,
   "metadata": {},
   "outputs": [],
   "source": []
  },
  {
   "cell_type": "code",
   "execution_count": null,
   "metadata": {},
   "outputs": [],
   "source": []
  },
  {
   "cell_type": "code",
   "execution_count": null,
   "metadata": {},
   "outputs": [],
   "source": []
  },
  {
   "cell_type": "code",
   "execution_count": null,
   "metadata": {},
   "outputs": [],
   "source": []
  },
  {
   "cell_type": "markdown",
   "metadata": {},
   "source": [
    "coefs = pd.DataFrame(data=lgr.coef_.reshape(-1,1),index=X_trainT.columns,columns=['coef'])\n",
    "coefs = (np.sqrt(coefs**2)).sort_values(by='coef')\n",
    "list(coefs[coefs.coef < 0.15].index)"
   ]
  },
  {
   "cell_type": "markdown",
   "metadata": {},
   "source": [
    "coefs[coefs.coef < 0.15].shape"
   ]
  },
  {
   "cell_type": "markdown",
   "metadata": {},
   "source": [
    "plot_model_perf(y_test,X_testT,lgr,'Test')"
   ]
  },
  {
   "cell_type": "code",
   "execution_count": null,
   "metadata": {},
   "outputs": [],
   "source": [
    "import sklearn\n",
    "sklearn.metrics.SCORERS.keys()"
   ]
  },
  {
   "cell_type": "code",
   "execution_count": null,
   "metadata": {},
   "outputs": [],
   "source": [
    "\n",
    "lasso = LogisticRegression(penalty = 'l1', solver='liblinear',class_weight ='balanced')\n",
    "\n",
    "grid = {'C':[0.2,1]}\n",
    "\n",
    "\n",
    "grid_search = find_best_model(lasso,grid,X_trainT,y_train,'CV set')\n",
    "lasso = grid_search.best_estimator_\n",
    "\n",
    "#grid_search.fit(X_trainT,y_train)\n",
    "#plot_model_perf(y_test,X_testT,grid_search.best_estimator_,'Test')"
   ]
  },
  {
   "cell_type": "code",
   "execution_count": null,
   "metadata": {},
   "outputs": [],
   "source": [
    "from sklearn.linear_model import RidgeClassifier\n",
    "ridge = RidgeClassifier(class_weight ='balanced')\n",
    "\n",
    "grid = {'alpha':[0.2,0.3,0.5,1,5,10,30,50,70,100,1000,2000,5000]}\n",
    "\n",
    "\n",
    "grid_search = find_best_model(ridge,grid,X_trainT,y_train,'CV set')\n",
    "ridge = grid_search.best_estimator_\n",
    "\n",
    "#grid_search.fit(X_trainT,y_train)\n",
    "#plot_model_perf(y_test,X_testT,grid_search.best_estimator_,'Test')"
   ]
  },
  {
   "cell_type": "markdown",
   "metadata": {},
   "source": [
    "plot_model_perf(y_test,X_testT,grid_search.best_estimator_,'Test')"
   ]
  },
  {
   "cell_type": "code",
   "execution_count": null,
   "metadata": {},
   "outputs": [],
   "source": [
    "#grid_search.fit(X_trainT,y_train)\n",
    "plot_model_perf(y_test,X_testT,grid_search.best_estimator_,'Test')"
   ]
  },
  {
   "cell_type": "code",
   "execution_count": null,
   "metadata": {},
   "outputs": [],
   "source": [
    "break"
   ]
  },
  {
   "cell_type": "markdown",
   "metadata": {},
   "source": [
    "### SVM"
   ]
  },
  {
   "cell_type": "code",
   "execution_count": null,
   "metadata": {},
   "outputs": [],
   "source": [
    "from sklearn.svm import SVC\n",
    "\n",
    "svc = SVC(class_weight ='balanced',kernel='rbf',probability=True)\n",
    "\n",
    "grid = {'C':[0.5,1,5,50,70,1000],\n",
    "       'gamma':['auto']}\n",
    "\n",
    "\n",
    "grid_search = find_best_model(svc,grid,X_trainT,y_train,'CV set')\n",
    "svc = grid_search.best_estimator_\n",
    "\n",
    "\n",
    "#grid_search.fit(X_trainT,y_train)\n",
    "#plot_model_perf(y_test,X_testT,grid_search.best_estimator_,'Test')"
   ]
  },
  {
   "cell_type": "code",
   "execution_count": null,
   "metadata": {},
   "outputs": [],
   "source": [
    "#grid_search.fit(X_trainT,y_train)\n",
    "plot_model_perf(y_test,X_testT,svc,'Test')"
   ]
  },
  {
   "cell_type": "code",
   "execution_count": null,
   "metadata": {},
   "outputs": [],
   "source": [
    "from sklearn.svm import SVC\n",
    "\n",
    "svc = SVC(class_weight ='balanced',kernel='rbf',probability=True)\n",
    "\n",
    "grid = {'C':[0.5,1,5,50,70,1000],\n",
    "       'gamma':['auto']}\n",
    "\n",
    "\n",
    "grid_search = find_best_model(svc,grid,X_trainT,y_train,'CV set')\n",
    "svc = grid_search.best_estimator_\n",
    "\n",
    "#grid_search.fit(X_trainT,y_train)\n",
    "#plot_model_perf(y_test,X_testT,grid_search.best_estimator_,'Test')"
   ]
  },
  {
   "cell_type": "code",
   "execution_count": null,
   "metadata": {},
   "outputs": [],
   "source": [
    "from sklearn.svm import SVC\n",
    "\n",
    "svc_lin = SVC(class_weight ='balanced',kernel='linear',probability=True)\n",
    "\n",
    "grid = {'C':[0.2,0.5,1,5],\n",
    "       'gamma':['auto']}\n",
    "\n",
    "\n",
    "grid_search = find_best_model(svc_lin,grid,X_trainT,y_train,'CV set')\n",
    "svc_lin = grid_search.best_estimator_\n",
    "\n",
    "#grid_search.fit(X_trainT,y_train)\n",
    "#plot_model_perf(y_test,X_testT,grid_search.best_estimator_,'Test')"
   ]
  },
  {
   "cell_type": "code",
   "execution_count": null,
   "metadata": {},
   "outputs": [],
   "source": [
    "from sklearn.svm import SVC\n",
    "\n",
    "svc_lin = SVC(class_weight ='balanced',kernel='linear',probability=True)\n",
    "\n",
    "grid = {'C':[0.2,0.5,1,5],\n",
    "       'gamma':['auto']}\n",
    "\n",
    "\n",
    "grid_search = find_best_model(svc_lin,grid,X_trainT,y_train,'CV set')\n",
    "svc_lin = grid_search.best_estimator_\n",
    "\n",
    "#grid_search.fit(X_trainT,y_train)\n",
    "#plot_model_perf(y_test,X_testT,grid_search.best_estimator_,'Test')"
   ]
  },
  {
   "cell_type": "code",
   "execution_count": null,
   "metadata": {},
   "outputs": [],
   "source": [
    "plot_model_perf(y_test,X_testT,svc_lin,'Test')"
   ]
  },
  {
   "cell_type": "markdown",
   "metadata": {},
   "source": [
    "### Bagging"
   ]
  },
  {
   "cell_type": "markdown",
   "metadata": {},
   "source": [
    "from sklearn.ensemble import BaggingClassifier\n",
    "from sklearn.tree import DecisionTreeClassifier\n",
    "\n",
    "\n",
    "\n",
    "bag_clf = BaggingClassifier(\n",
    "        RidgeClassifier(class_weight='balanced'),n_jobs=-1\n",
    "    )\n",
    "\n",
    "\n",
    "grid = {\"bootstrap\" : [\"True\"],\n",
    "              \"base_estimator__alpha\": [0.2,0.3,0.5,1,5]\n",
    "             }\n",
    "\n",
    "\n",
    "grid_search = find_best_model(bag_clf,grid,X_trainT,y_train,'CV set')\n",
    "bag_clf = grid_search.best_estimator_\n",
    "\n",
    "#grid_search.fit(X_trainT,y_train)\n",
    "#plot_model_perf(y_test,X_testT,grid_search.best_estimator_,'Test')"
   ]
  },
  {
   "cell_type": "code",
   "execution_count": null,
   "metadata": {},
   "outputs": [],
   "source": [
    "from sklearn.ensemble import BaggingClassifier\n",
    "from sklearn.tree import DecisionTreeClassifier\n",
    "\n",
    "\n",
    "\n",
    "bag_clf = BaggingClassifier(\n",
    "        DecisionTreeClassifier(class_weight='balanced'),bootstrap=True,n_jobs=-1\n",
    "    )\n",
    "\n",
    "\n",
    "grid = {\"bootstrap\" : [\"True\"],\n",
    "        \"n_estimators\":[10,50,100],\n",
    "              \"base_estimator__max_depth\": [3],\n",
    "        \"base_estimator__splitter\":['random']\n",
    "             }\n",
    "\n",
    "\n",
    "grid_search = find_best_model(bag_clf,grid,X_trainT,y_train,'CV set')\n",
    "bag_clf = grid_search.best_estimator_\n",
    "\n",
    "#grid_search.fit(X_trainT,y_train)\n",
    "#plot_model_perf(y_test,X_testT,grid_search.best_estimator_,'Test')"
   ]
  },
  {
   "cell_type": "code",
   "execution_count": null,
   "metadata": {},
   "outputs": [],
   "source": [
    "plot_model_perf(y_test,X_testT,bag_clf,'Test')"
   ]
  },
  {
   "cell_type": "code",
   "execution_count": null,
   "metadata": {},
   "outputs": [],
   "source": [
    "from sklearn.ensemble import BaggingClassifier\n",
    "from sklearn.tree import DecisionTreeClassifier\n",
    "\n",
    "\n",
    "\n",
    "bag_clf2 = BaggingClassifier(\n",
    "        DecisionTreeClassifier(class_weight='balanced'),bootstrap=True,n_jobs=-1\n",
    "    )\n",
    "\n",
    "\n",
    "grid = {\"bootstrap\" : [\"True\"],\n",
    "        \"n_estimators\":[10,50,100],\n",
    "              \"base_estimator__max_depth\": [3],\n",
    "        \"max_samples\": [150],\n",
    "        \"base_estimator__splitter\":['random']\n",
    "             }\n",
    "\n",
    "\n",
    "grid_search = find_best_model(bag_clf2,grid,X_trainT,y_train,'CV set')\n",
    "bag_clf2 = grid_search.best_estimator_\n",
    "\n",
    "#grid_search.fit(X_trainT,y_train)\n",
    "#plot_model_perf(y_test,X_testT,grid_search.best_estimator_,'Test')"
   ]
  },
  {
   "cell_type": "markdown",
   "metadata": {},
   "source": [
    "from sklearn.ensemble import BaggingClassifier\n",
    "from sklearn.tree import DecisionTreeClassifier\n",
    "\n",
    "\n",
    "\n",
    "bag_clf2 = BaggingClassifier(\n",
    "        DecisionTreeClassifier(class_weight='balanced'),bootstrap=True,n_jobs=-1\n",
    "    )\n",
    "\n",
    "\n",
    "grid = {\"bootstrap\" : [\"True\", \"False\"],\n",
    "        \"n_estimators\":[10,50,100,200,400,600,800],\n",
    "              \"base_estimator__max_depth\": [2],\n",
    "        \"max_samples\": [50,150,250],\n",
    "        \"base_estimator__splitter\":['random']\n",
    "             }\n",
    "\n",
    "\n",
    "grid_search = find_best_model(bag_clf2,grid,X_trainT,y_train,'CV set')\n",
    "bag_clf2 = grid_search.best_estimator_\n",
    "\n",
    "#grid_search.fit(X_trainT,y_train)\n",
    "#plot_model_perf(y_test,X_testT,grid_search.best_estimator_,'Test')"
   ]
  },
  {
   "cell_type": "markdown",
   "metadata": {},
   "source": [
    "from sklearn.ensemble import BaggingClassifier\n",
    "from sklearn.tree import DecisionTreeClassifier\n",
    "\n",
    "\n",
    "\n",
    "bag_clf3 = BaggingClassifier(\n",
    "        DecisionTreeClassifier(class_weight='balanced'),bootstrap=True,n_jobs=-1\n",
    "    )\n",
    "\n",
    "\n",
    "grid = {\"bootstrap\" : [\"True\"],\n",
    "        \"n_estimators\":[1000],\n",
    "              \"base_estimator__max_depth\": [1,2],\n",
    "        \"max_samples\": [10,20,30,50],\n",
    "        \"base_estimator__splitter\":['random']\n",
    "             }\n",
    "\n",
    "\n",
    "grid_search = find_best_model(bag_clf3,grid,X_trainT,y_train,'CV set')\n",
    "bag_clf3 = grid_search.best_estimator_\n",
    "\n",
    "#grid_search.fit(X_trainT,y_train)\n",
    "#plot_model_perf(y_test,X_testT,grid_search.best_estimator_,'Test')"
   ]
  },
  {
   "cell_type": "markdown",
   "metadata": {},
   "source": [
    "from sklearn.ensemble import BaggingClassifier\n",
    "from sklearn.tree import DecisionTreeClassifier\n",
    "\n",
    "\n",
    "\n",
    "bag_clf2 = BaggingClassifier(\n",
    "        DecisionTreeClassifier(class_weight='balanced'),bootstrap=True,n_jobs=-1\n",
    "    )\n",
    "\n",
    "\n",
    "grid = {\"bootstrap\" : [\"True\", \"False\"],\n",
    "        \"n_estimators\":[1000],\n",
    "              \"base_estimator__max_depth\": [1,2],\n",
    "        \"max_samples\": [10,20,30,50],\n",
    "        \"base_estimator__splitter\":['random']\n",
    "             }\n",
    "\n",
    "\n",
    "grid_search = find_best_model(bag_clf2,grid,X_trainT,y_train,'CV set')\n",
    "bag_clf2 = grid_search.best_estimator_\n",
    "\n",
    "#grid_search.fit(X_trainT,y_train)\n",
    "#plot_model_perf(y_test,X_testT,grid_search.best_estimator_,'Test')"
   ]
  },
  {
   "cell_type": "markdown",
   "metadata": {},
   "source": [
    "## test ensemble"
   ]
  },
  {
   "cell_type": "code",
   "execution_count": null,
   "metadata": {},
   "outputs": [],
   "source": [
    "from civismlext.stacking import StackedClassifier\n",
    "\n",
    "rng = np.random.RandomState(17)\n",
    "est_list = [\n",
    "    ('lgr',lgr),\n",
    "    ('svm_linear',svc_lin),\n",
    "    ('bag',bag_clf),\n",
    "    ('metalr',LogisticRegression(penalty = 'l1', solver='liblinear',class_weight='balanced'))\n",
    "]"
   ]
  },
  {
   "cell_type": "code",
   "execution_count": null,
   "metadata": {},
   "outputs": [],
   "source": [
    "sm = StackedClassifier(est_list,n_jobs=2,cv=5)"
   ]
  },
  {
   "cell_type": "code",
   "execution_count": null,
   "metadata": {},
   "outputs": [],
   "source": [
    "sm.fit(X_train_validT, y_train_valid)"
   ]
  },
  {
   "cell_type": "code",
   "execution_count": null,
   "metadata": {},
   "outputs": [],
   "source": [
    "X_validT = full_pipeline.transform(X_valid)"
   ]
  },
  {
   "cell_type": "code",
   "execution_count": null,
   "metadata": {},
   "outputs": [],
   "source": [
    "X_train_validT = full_pipeline.transform(X_train_valid)"
   ]
  },
  {
   "cell_type": "code",
   "execution_count": null,
   "metadata": {},
   "outputs": [],
   "source": [
    "sm.meta_estimator.coef_"
   ]
  },
  {
   "cell_type": "code",
   "execution_count": null,
   "metadata": {},
   "outputs": [],
   "source": [
    "plot_model_perf(y_train,X_trainT,sm,'train')"
   ]
  },
  {
   "cell_type": "code",
   "execution_count": null,
   "metadata": {},
   "outputs": [],
   "source": [
    "plot_model_perf(y_valid,X_validT,sm,'valid')"
   ]
  },
  {
   "cell_type": "code",
   "execution_count": null,
   "metadata": {},
   "outputs": [],
   "source": [
    "plot_model_perf(y_test,X_testT,sm,'test')"
   ]
  },
  {
   "cell_type": "code",
   "execution_count": null,
   "metadata": {},
   "outputs": [],
   "source": [
    "plot_model_perf(y_test,X_testT,sm,'test')"
   ]
  },
  {
   "cell_type": "markdown",
   "metadata": {},
   "source": [
    "NOtes:\n",
    "    - made little differnece having the extra validation data for training"
   ]
  },
  {
   "cell_type": "code",
   "execution_count": null,
   "metadata": {},
   "outputs": [],
   "source": [
    "param_grid = {\n",
    "    'metalr__C': [0.5,1]\n",
    "}\n",
    "\n",
    "grid = GridSearchCV(sm,param_grid,scoring='roc_auc',cv=5)"
   ]
  },
  {
   "cell_type": "code",
   "execution_count": null,
   "metadata": {},
   "outputs": [],
   "source": [
    "grid.fit(X_train_validT,y_train_valid)"
   ]
  },
  {
   "cell_type": "code",
   "execution_count": null,
   "metadata": {},
   "outputs": [],
   "source": [
    "plot_model_perf(y_train_valid,X_train_validT,grid.best_estimator_,'train')"
   ]
  },
  {
   "cell_type": "code",
   "execution_count": null,
   "metadata": {},
   "outputs": [],
   "source": [
    "plot_model_perf(y_test,X_testT,grid.best_estimator_,'test')"
   ]
  },
  {
   "cell_type": "code",
   "execution_count": null,
   "metadata": {},
   "outputs": [],
   "source": [
    "grid.best_estimator_.get_params()"
   ]
  },
  {
   "cell_type": "code",
   "execution_count": null,
   "metadata": {},
   "outputs": [],
   "source": [
    "sm.meta_estimator"
   ]
  },
  {
   "cell_type": "code",
   "execution_count": null,
   "metadata": {},
   "outputs": [],
   "source": [
    "grid.best_estimator_.meta_estimator.coef_"
   ]
  },
  {
   "cell_type": "code",
   "execution_count": null,
   "metadata": {},
   "outputs": [],
   "source": [
    "sm.meta_estimator."
   ]
  },
  {
   "cell_type": "markdown",
   "metadata": {},
   "source": [
    "#### more complex meta estimator"
   ]
  },
  {
   "cell_type": "code",
   "execution_count": null,
   "metadata": {},
   "outputs": [],
   "source": [
    "from civismlext.stacking import StackedClassifier\n",
    "from sklearn.svm import SVC\n",
    "\n",
    "rng = np.random.RandomState(17)\n",
    "est_list = [\n",
    "    ('lgr',lgr),\n",
    "    ('svm_linear',svc_lin),\n",
    "    ('bag',bag_clf),\n",
    "    ('metalr',SVC(kernel='linear',class_weight='balanced'))\n",
    "]"
   ]
  },
  {
   "cell_type": "code",
   "execution_count": null,
   "metadata": {},
   "outputs": [],
   "source": [
    "sm = StackedClassifier(est_list,n_jobs=-1,cv=5)"
   ]
  },
  {
   "cell_type": "code",
   "execution_count": null,
   "metadata": {},
   "outputs": [],
   "source": [
    "param_grid = {\n",
    "    'metalr__C': [0.5,1,5]\n",
    "}\n",
    "\n",
    "grid = GridSearchCV(sm,param_grid,scoring='roc_auc',cv=5)"
   ]
  },
  {
   "cell_type": "code",
   "execution_count": null,
   "metadata": {},
   "outputs": [],
   "source": [
    "grid.fit(X_train_validT, y_train_valid)"
   ]
  },
  {
   "cell_type": "code",
   "execution_count": null,
   "metadata": {},
   "outputs": [],
   "source": [
    "grid.best_estimator_.meta_estimator.coef_"
   ]
  },
  {
   "cell_type": "code",
   "execution_count": null,
   "metadata": {},
   "outputs": [],
   "source": [
    "plot_model_perf(y_train_valid,X_train_validT,grid.best_estimator_,'train')"
   ]
  },
  {
   "cell_type": "code",
   "execution_count": null,
   "metadata": {},
   "outputs": [],
   "source": [
    "plot_model_perf(y_test,X_testT,grid.best_estimator_,'test')"
   ]
  },
  {
   "cell_type": "code",
   "execution_count": null,
   "metadata": {},
   "outputs": [],
   "source": []
  },
  {
   "cell_type": "code",
   "execution_count": null,
   "metadata": {},
   "outputs": [],
   "source": []
  },
  {
   "cell_type": "code",
   "execution_count": null,
   "metadata": {},
   "outputs": [],
   "source": []
  },
  {
   "cell_type": "markdown",
   "metadata": {},
   "source": [
    "# Dev"
   ]
  },
  {
   "cell_type": "code",
   "execution_count": null,
   "metadata": {},
   "outputs": [],
   "source": [
    "break"
   ]
  },
  {
   "cell_type": "markdown",
   "metadata": {},
   "source": [
    "# Analayse errors"
   ]
  },
  {
   "cell_type": "code",
   "execution_count": null,
   "metadata": {},
   "outputs": [],
   "source": [
    "estimator_list = [('lgr',lgr),('lasso',lasso),('SVM',svc),('SVM_lin',svc_lin),('bag1',bag_clf),('bag2',bag_clf2),('vote',voting_clf)]\n",
    "\n",
    "pred_results = pd.DataFrame(data = y_train.values, index=X_train.index, columns=['y_test'])\n",
    "\n",
    "for name,model in estimator_list:\n",
    "    print(name)\n",
    "    y_train_pred = cross_val_predict(model,X_trainT,y_train,cv=5,n_jobs=-1,method='predict_proba')[:,1]\n",
    "    y_train_pred = pd.DataFrame(y_train_pred, index = X_train.index, columns=['y_pred_' + name])\n",
    "    pred_results = pred_results.merge(y_train_pred,right_index=True,left_index=True) # merge model results\n",
    "    \n",
    "    \n",
    "pred_results = pred_results.merge(X_train,right_index=True,left_index=True) # merge "
   ]
  },
  {
   "cell_type": "code",
   "execution_count": null,
   "metadata": {},
   "outputs": [],
   "source": [
    "pred_results.head()"
   ]
  },
  {
   "cell_type": "markdown",
   "metadata": {},
   "source": [
    "pred_cols = ['y_test','y_pred_lgr','y_pred_lasso','y_pred_SVM','y_pred_SVM_lin','y_pred_bag1','y_pred_bag2','y_pred_vote']"
   ]
  },
  {
   "cell_type": "code",
   "execution_count": null,
   "metadata": {},
   "outputs": [],
   "source": [
    "pred_cols = {'y_test':0.5,'y_pred_lgr':0.9,'y_pred_lasso':0.9,'y_pred_SVM_lin':0.6,'y_pred_bag1':0.75,\n",
    "             'y_pred_bag2':0.5,'y_pred_vote':0.65}"
   ]
  },
  {
   "cell_type": "code",
   "execution_count": null,
   "metadata": {},
   "outputs": [],
   "source": [
    "pred_cols"
   ]
  },
  {
   "cell_type": "code",
   "execution_count": null,
   "metadata": {},
   "outputs": [],
   "source": [
    "for name in pred_cols:\n",
    "    col =  name # 'y_pred_' +\n",
    "    print([name])\n",
    "    thresh = pred_cols[name]\n",
    "    print(pred_results[pred_results[name] > thresh][col].count())\n",
    "    pred_results[name + '_CLASS'] = pred_results[pred_results[name] > thresh][name].astype('bool').astype('int')"
   ]
  },
  {
   "cell_type": "code",
   "execution_count": null,
   "metadata": {},
   "outputs": [],
   "source": [
    "pred_results.groupby('y_test').sum()"
   ]
  },
  {
   "cell_type": "code",
   "execution_count": null,
   "metadata": {},
   "outputs": [],
   "source": [
    "missed = pred_results.query('y_test == 1')[['y_pred_lgr_CLASS','y_pred_lasso_CLASS',\n",
    "                                  'y_pred_SVM_lin_CLASS','y_pred_bag1_CLASS','y_pred_bag2_CLASS','y_pred_vote_CLASS']].isnull().sum(axis=1)"
   ]
  },
  {
   "cell_type": "code",
   "execution_count": null,
   "metadata": {},
   "outputs": [],
   "source": [
    "pred_results.query('y_test == 1')[['y_pred_lgr_CLASS','y_pred_lasso_CLASS',\n",
    "                                  'y_pred_SVM_lin_CLASS','y_pred_bag1_CLASS','y_pred_bag2_CLASS','y_pred_vote_CLASS']].isnull().sum(axis=1).value_counts()"
   ]
  },
  {
   "cell_type": "code",
   "execution_count": null,
   "metadata": {},
   "outputs": [],
   "source": [
    "missed.head(10)"
   ]
  },
  {
   "cell_type": "code",
   "execution_count": null,
   "metadata": {},
   "outputs": [],
   "source": [
    "missed = missed[missed == 6]"
   ]
  },
  {
   "cell_type": "code",
   "execution_count": null,
   "metadata": {},
   "outputs": [],
   "source": [
    "missed.head()"
   ]
  },
  {
   "cell_type": "code",
   "execution_count": null,
   "metadata": {},
   "outputs": [],
   "source": [
    "pred_results['y_pred_MISSED'] = 0\n",
    "pred_results.loc[missed.index,'y_pred_MISSED'] = 1"
   ]
  },
  {
   "cell_type": "code",
   "execution_count": null,
   "metadata": {},
   "outputs": [],
   "source": [
    "pred_results.y_pred_MISSED.sum()"
   ]
  },
  {
   "cell_type": "code",
   "execution_count": null,
   "metadata": {},
   "outputs": [],
   "source": [
    "X_train.head()"
   ]
  },
  {
   "cell_type": "code",
   "execution_count": null,
   "metadata": {},
   "outputs": [],
   "source": [
    "pred_results['y_pred_MISSED'].sum()"
   ]
  },
  {
   "cell_type": "code",
   "execution_count": null,
   "metadata": {},
   "outputs": [],
   "source": [
    "pred_results['flag_prediction'].sum()"
   ]
  },
  {
   "cell_type": "code",
   "execution_count": null,
   "metadata": {},
   "outputs": [],
   "source": [
    "pred_col = 'y_pred_MISSED'\n",
    "pred_results[pred_col + '_lag1'] = pred_results[pred_col].shift(1)\n",
    "\n",
    "fig2, ax = plt.subplots(figsize=(18,6))\n",
    "pred_results.plot(x=\"dt_date\", y=target_col, ax=ax, label=\"validate\",style='g')\n",
    "pred_results[pred_results[pred_col + '_lag1'] == 1].plot(x='dt_date',y=target_col,ax=ax,style='ob')\n",
    "pred_results[pred_results['flag_prediction'] == 1].plot(x='dt_date',y=target_col,ax=ax,style='.k')\n",
    "\n",
    "plt.legend(loc='upper left')\n"
   ]
  },
  {
   "cell_type": "code",
   "execution_count": null,
   "metadata": {},
   "outputs": [],
   "source": [
    "correct_col = 'y_test'\n",
    "pred_col = 'y_pred_' + 'SVM_lin' + '_CLASS'\n",
    "fig2, ax = plt.subplots(figsize=(18,6))\n",
    "pred_results.plot(x=\"dt_date\", y=target_col, ax=ax, label=\"validate\",style='g')\n",
    "pred_results[pred_results[pred_col] == 1].plot(x='dt_date',y=target_col,ax=ax,style='or')\n",
    "pred_results[pred_results['flag_prediction'] == 1].plot(x='dt_date',y=target_col,ax=ax,style='.k')\n",
    "\n",
    "plt.legend(loc='upper left')\n"
   ]
  },
  {
   "cell_type": "code",
   "execution_count": null,
   "metadata": {},
   "outputs": [],
   "source": [
    "correct_col = 'y_test'\n",
    "pred_col = 'y_pred_' + 'lgr' + '_CLASS'\n",
    "fig2, ax = plt.subplots(figsize=(18,6))\n",
    "\n",
    "pred_results.plot(x=\"dt_date\", y=target_col, ax=ax, label=\"validate\",style='g')\n",
    "pred_results[pred_results[pred_col] == 1].plot(x='dt_date',y=target_col,ax=ax,style='or')\n",
    "pred_results[pred_results['flag_prediction'] == 1].plot(x='dt_date',y=target_col,ax=ax,style='.k')\n",
    "plt.legend(loc='upper left')\n"
   ]
  },
  {
   "cell_type": "code",
   "execution_count": null,
   "metadata": {},
   "outputs": [],
   "source": [
    "correct_col = 'y_test'\n",
    "pred_col = 'y_pred_' + 'bag1' + '_CLASS'\n",
    "fig2, ax = plt.subplots(figsize=(18,6))\n",
    "\n",
    "pred_results.plot(x=\"dt_date\", y=target_col, ax=ax, label=\"validate\",style='g')\n",
    "pred_results[pred_results[pred_col] == 1].plot(x='dt_date',y=target_col,ax=ax,style='or')\n",
    "pred_results[pred_results['flag_prediction'] == 1].plot(x='dt_date',y=target_col,ax=ax,style='.k')\n",
    "plt.legend(loc='upper left')\n"
   ]
  },
  {
   "cell_type": "code",
   "execution_count": null,
   "metadata": {},
   "outputs": [],
   "source": [
    "correct_col = 'y_test'\n",
    "pred_col = 'y_pred_' + 'bag2' + '_CLASS'\n",
    "fig2, ax = plt.subplots(figsize=(18,6))\n",
    "\n",
    "pred_results.plot(x=\"dt_date\", y=target_col, ax=ax, label=\"validate\",style='g')\n",
    "pred_results[pred_results[pred_col] == 1].plot(x='dt_date',y=target_col,ax=ax,style='or')\n",
    "pred_results[pred_results['flag_prediction'] == 1].plot(x='dt_date',y=target_col,ax=ax,style='.k')\n",
    "plt.legend(loc='upper left')\n"
   ]
  },
  {
   "cell_type": "code",
   "execution_count": null,
   "metadata": {},
   "outputs": [],
   "source": [
    "correct_col = 'y_test'\n",
    "pred_col = 'y_pred_' + 'vote' + '_CLASS'\n",
    "fig2, ax = plt.subplots(figsize=(18,6))\n",
    "\n",
    "pred_results.plot(x=\"dt_date\", y=target_col, ax=ax, label=\"validate\",style='g')\n",
    "pred_results[pred_results[pred_col] == 1].plot(x='dt_date',y=target_col,ax=ax,style='or')\n",
    "pred_results[pred_results['flag_prediction'] == 1].plot(x='dt_date',y=target_col,ax=ax,style='.k')\n",
    "plt.legend(loc='upper left')\n"
   ]
  },
  {
   "cell_type": "code",
   "execution_count": null,
   "metadata": {},
   "outputs": [],
   "source": [
    "correct_col = 'y_test'\n",
    "pred_col = 'y_pred_' + 'vote'\n",
    "\n",
    "\n",
    "fig2, ax = plt.subplots(figsize=(18,6))\n",
    "#### plot lines\n",
    "#X_train.plot(x=\"dt_date\", y=target_col, ax=ax, label=\"train\")\n",
    "pred_results.plot(x=\"dt_date\", y=target_col, ax=ax, label=\"validate\",style='g')\n",
    "#X_test.plot(x=\"dt_date\", y=target_col, ax=ax, label=\"test\")\n",
    "\n",
    "\n",
    "pred_results[pred_results[pred_col] == 1].plot(x='dt_date',y=target_col,ax=ax,style='or')\n",
    "pred_results[pred_results['flag_prediction'] == 1].plot(x='dt_date',y=target_col,ax=ax,style='.k')\n",
    "#plt.axvline(pd.to_datetime(str(df.loc[validate_range].period.values[0])), c='green', ls='--', lw=1)\n",
    "# plt.axvline(pd.to_datetime(str(df.loc[test_range].period.values[0])), c='red', ls='--', lw=1)\n",
    "plt.legend(loc='upper left')\n",
    "\n",
    "# plt.savefig('images/svm-split.png');"
   ]
  },
  {
   "cell_type": "code",
   "execution_count": null,
   "metadata": {},
   "outputs": [],
   "source": [
    "correct_col = 'y_test'\n",
    "pred_col = 'y_pred_' + 'bag2'\n",
    "\n",
    "\n",
    "fig2, ax = plt.subplots(figsize=(18,6))\n",
    "#### plot lines\n",
    "#X_train.plot(x=\"dt_date\", y=target_col, ax=ax, label=\"train\")\n",
    "pred_results.plot(x=\"dt_date\", y=target_col, ax=ax, label=\"validate\",style='g')\n",
    "#X_test.plot(x=\"dt_date\", y=target_col, ax=ax, label=\"test\")\n",
    "\n",
    "\n",
    "pred_results[pred_results[pred_col] == 1].plot(x='dt_date',y=target_col,ax=ax,style='or')\n",
    "pred_results[pred_results['flag_prediction'] == 1].plot(x='dt_date',y=target_col,ax=ax,style='.k')\n",
    "#plt.axvline(pd.to_datetime(str(df.loc[validate_range].period.values[0])), c='green', ls='--', lw=1)\n",
    "# plt.axvline(pd.to_datetime(str(df.loc[test_range].period.values[0])), c='red', ls='--', lw=1)\n",
    "plt.legend(loc='upper left')\n",
    "\n",
    "# plt.savefig('images/svm-split.png');"
   ]
  },
  {
   "cell_type": "code",
   "execution_count": null,
   "metadata": {},
   "outputs": [],
   "source": [
    "correct_col = 'y_test'\n",
    "pred_col = 'y_pred_' + 'bag1'\n",
    "\n",
    "\n",
    "fig2, ax = plt.subplots(figsize=(18,6))\n",
    "#### plot lines\n",
    "#X_train.plot(x=\"dt_date\", y=target_col, ax=ax, label=\"train\")\n",
    "pred_results.plot(x=\"dt_date\", y=target_col, ax=ax, label=\"validate\",style='g')\n",
    "#X_test.plot(x=\"dt_date\", y=target_col, ax=ax, label=\"test\")\n",
    "\n",
    "\n",
    "pred_results[pred_results[pred_col] == 1].plot(x='dt_date',y=target_col,ax=ax,style='or')\n",
    "pred_results[pred_results['flag_prediction'] == 1].plot(x='dt_date',y=target_col,ax=ax,style='.k')\n",
    "#plt.axvline(pd.to_datetime(str(df.loc[validate_range].period.values[0])), c='green', ls='--', lw=1)\n",
    "# plt.axvline(pd.to_datetime(str(df.loc[test_range].period.values[0])), c='red', ls='--', lw=1)\n",
    "plt.legend(loc='upper left')\n",
    "\n",
    "# plt.savefig('images/svm-split.png');"
   ]
  },
  {
   "cell_type": "code",
   "execution_count": null,
   "metadata": {},
   "outputs": [],
   "source": []
  }
 ],
 "metadata": {
  "anaconda-cloud": {},
  "kernelspec": {
   "display_name": "Python [conda env:ml]",
   "language": "python",
   "name": "conda-env-ml-py"
  },
  "language_info": {
   "codemirror_mode": {
    "name": "ipython",
    "version": 3
   },
   "file_extension": ".py",
   "mimetype": "text/x-python",
   "name": "python",
   "nbconvert_exporter": "python",
   "pygments_lexer": "ipython3",
   "version": "3.6.3"
  }
 },
 "nbformat": 4,
 "nbformat_minor": 2
}
